{
 "metadata": {
  "language_info": {
   "codemirror_mode": {
    "name": "ipython",
    "version": 3
   },
   "file_extension": ".py",
   "mimetype": "text/x-python",
   "name": "python",
   "nbconvert_exporter": "python",
   "pygments_lexer": "ipython3",
   "version": "3.7.6"
  },
  "orig_nbformat": 2,
  "kernelspec": {
   "name": "python3",
   "display_name": "Python 3.7.6  ('venv': venv)"
  },
  "metadata": {
   "interpreter": {
    "hash": "4fe898ffcadce6da2343864bf819ed3269e46dcfc725e07ab6320af456fe33e5"
   }
  },
  "interpreter": {
   "hash": "4fe898ffcadce6da2343864bf819ed3269e46dcfc725e07ab6320af456fe33e5"
  }
 },
 "nbformat": 4,
 "nbformat_minor": 2,
 "cells": [
  {
   "cell_type": "code",
   "execution_count": 9,
   "metadata": {
    "tags": []
   },
   "outputs": [
    {
     "output_type": "stream",
     "name": "stdout",
     "text": [
      "['humidity#NUM', 'apparentTemperature#NUM']\n"
     ]
    }
   ],
   "source": [
    "import json\n",
    "import os\n",
    "import numpy as np\n",
    "import math\n",
    "from typing import Dict, List, Tuple\n",
    "\n",
    "from datetime import timedelta\n",
    "from config import *\n",
    "from utils import *\n",
    "from main import *\n",
    "\n",
    "import plotly.graph_objects as go\n",
    "from plotly.subplots import make_subplots\n",
    "ctx_info = ContextAccessor({\n",
    "            # TIME_CTX: {\n",
    "            #     \"range\" : (0, 24*60),\n",
    "            #     \"interval\" : 20,\n",
    "            # },\n",
    "            \"humidity#NUM\" : {\n",
    "                \"range\" : (0., 1.0),\n",
    "                \"interval\" : 0.1,\n",
    "            },\n",
    "            \"apparentTemperature#NUM\" : {\n",
    "                \"range\" : (-10., 100),\n",
    "                \"interval\" : 10,\n",
    "            },\n",
    "            # \"summary#CAT\": {},\n",
    "            # WEEKDAY_CTX: {\n",
    "            #     \"range\": (0, 6.1),\n",
    "            #     \"interval\": 1,\n",
    "            # },\n",
    "        })\n",
    "\n",
    "groups, data = test_umass(test_project=\"HomeA/2016\", ctx_info=ctx_info)\n",
    "\n",
    "print(ctx_info.get_all_ctx_ordered())\n",
    "# on_rate = np.full(ctx_info.get_ctx_space_shape(), -0.1)\n",
    "\n",
    "# for dis in data[\"WashingMachine\"]:\n",
    "#     on_rate[dis[\"coor\"]] = dis[\"distribution\"][1] / (dis[\"distribution\"][0] + dis[\"distribution\"][1])\n",
    "\n",
    "# fig = go.Figure(data=go.Heatmap(z=np.transpose(on_rate)))\n",
    "# fig.show()"
   ]
  },
  {
   "cell_type": "code",
   "execution_count": 10,
   "metadata": {
    "tags": []
   },
   "outputs": [
    {
     "output_type": "display_data",
     "data": {
      "application/vnd.plotly.v1+json": {
       "config": {
        "plotlyServerURL": "https://plot.ly"
       },
       "data": [
        {
         "type": "heatmap",
         "z": [
          [
           -0.1,
           -0.1,
           -0.1,
           0.06818181818181818,
           0.15294117647058825,
           0.17297297297297298,
           0,
           0.03125,
           0,
           -0.1,
           -0.1
          ],
          [
           -0.1,
           -0.1,
           -0.1,
           -0.1,
           0.22297297297297297,
           0.10025706940874037,
           0.045146726862302484,
           0.04743083003952569,
           0.02912621359223301,
           -0.1,
           -0.1
          ],
          [
           -0.1,
           -0.1,
           0.2692307692307692,
           0.16393442622950818,
           0.11512415349887133,
           0.037102473498233215,
           0.008012820512820512,
           0.05303030303030303,
           0.05084745762711865,
           -0.1,
           -0.1
          ],
          [
           -0.1,
           -0.1,
           0.0410958904109589,
           0.08144796380090498,
           0.13647642679900746,
           0.0559254327563249,
           0.04028648164726947,
           0.008918617614269788,
           0.008253094910591471,
           0.2903225806451613,
           -0.1
          ],
          [
           -0.1,
           -0.1,
           0.14181818181818182,
           0.05220883534136546,
           0.09601873536299765,
           0.05699481865284974,
           0.04385026737967915,
           0.03945371775417299,
           0.03571428571428571,
           0.08292682926829269,
           -0.1
          ],
          [
           -0.1,
           -0.1,
           0.0945945945945946,
           0.078125,
           0.07017543859649122,
           0.010893246187363835,
           0.05307855626326964,
           0.03578528827037773,
           0.04644808743169399,
           0.040776699029126215,
           -0.1
          ],
          [
           -0.1,
           0.05154639175257732,
           0.08775981524249422,
           0.05723905723905724,
           0.03931203931203931,
           0.06919642857142858,
           0.03767123287671233,
           0.021534320323014805,
           0.07486209613869188,
           0.014274981217129978,
           -0.1
          ],
          [
           -0.1,
           0.21333333333333335,
           0.1864406779661017,
           0.1377952755905512,
           0.0625,
           0.03557312252964427,
           0.03519061583577713,
           0.04866412213740458,
           0.024300052826201797,
           0.020738820479585224,
           -0.1
          ],
          [
           -0.1,
           0.18072289156626506,
           0.1541501976284585,
           0.036065573770491806,
           0.05500550055005501,
           0.046812749003984064,
           0.040262172284644196,
           0.05805805805805806,
           0.04421768707482993,
           0.02997275204359673,
           -0.1
          ],
          [
           -0.1,
           -0.1,
           0.02040816326530612,
           0.03561643835616438,
           0.03333333333333333,
           0.05378151260504202,
           0.009259259259259259,
           0.12195121951219512,
           -0.1,
           -0.1,
           -0.1
          ],
          [
           -0.1,
           -0.1,
           -0.1,
           -0.1,
           0,
           0.021739130434782608,
           0.018518518518518517,
           0,
           -0.1,
           -0.1,
           -0.1
          ],
          [
           -0.1,
           -0.1,
           -0.1,
           -0.1,
           0.1111111111111111,
           -0.1,
           -0.1,
           0,
           -0.1,
           -0.1,
           -0.1
          ]
         ]
        }
       ],
       "layout": {
        "template": {
         "data": {
          "bar": [
           {
            "error_x": {
             "color": "#2a3f5f"
            },
            "error_y": {
             "color": "#2a3f5f"
            },
            "marker": {
             "line": {
              "color": "#E5ECF6",
              "width": 0.5
             }
            },
            "type": "bar"
           }
          ],
          "barpolar": [
           {
            "marker": {
             "line": {
              "color": "#E5ECF6",
              "width": 0.5
             }
            },
            "type": "barpolar"
           }
          ],
          "carpet": [
           {
            "aaxis": {
             "endlinecolor": "#2a3f5f",
             "gridcolor": "white",
             "linecolor": "white",
             "minorgridcolor": "white",
             "startlinecolor": "#2a3f5f"
            },
            "baxis": {
             "endlinecolor": "#2a3f5f",
             "gridcolor": "white",
             "linecolor": "white",
             "minorgridcolor": "white",
             "startlinecolor": "#2a3f5f"
            },
            "type": "carpet"
           }
          ],
          "choropleth": [
           {
            "colorbar": {
             "outlinewidth": 0,
             "ticks": ""
            },
            "type": "choropleth"
           }
          ],
          "contour": [
           {
            "colorbar": {
             "outlinewidth": 0,
             "ticks": ""
            },
            "colorscale": [
             [
              0,
              "#0d0887"
             ],
             [
              0.1111111111111111,
              "#46039f"
             ],
             [
              0.2222222222222222,
              "#7201a8"
             ],
             [
              0.3333333333333333,
              "#9c179e"
             ],
             [
              0.4444444444444444,
              "#bd3786"
             ],
             [
              0.5555555555555556,
              "#d8576b"
             ],
             [
              0.6666666666666666,
              "#ed7953"
             ],
             [
              0.7777777777777778,
              "#fb9f3a"
             ],
             [
              0.8888888888888888,
              "#fdca26"
             ],
             [
              1,
              "#f0f921"
             ]
            ],
            "type": "contour"
           }
          ],
          "contourcarpet": [
           {
            "colorbar": {
             "outlinewidth": 0,
             "ticks": ""
            },
            "type": "contourcarpet"
           }
          ],
          "heatmap": [
           {
            "colorbar": {
             "outlinewidth": 0,
             "ticks": ""
            },
            "colorscale": [
             [
              0,
              "#0d0887"
             ],
             [
              0.1111111111111111,
              "#46039f"
             ],
             [
              0.2222222222222222,
              "#7201a8"
             ],
             [
              0.3333333333333333,
              "#9c179e"
             ],
             [
              0.4444444444444444,
              "#bd3786"
             ],
             [
              0.5555555555555556,
              "#d8576b"
             ],
             [
              0.6666666666666666,
              "#ed7953"
             ],
             [
              0.7777777777777778,
              "#fb9f3a"
             ],
             [
              0.8888888888888888,
              "#fdca26"
             ],
             [
              1,
              "#f0f921"
             ]
            ],
            "type": "heatmap"
           }
          ],
          "heatmapgl": [
           {
            "colorbar": {
             "outlinewidth": 0,
             "ticks": ""
            },
            "colorscale": [
             [
              0,
              "#0d0887"
             ],
             [
              0.1111111111111111,
              "#46039f"
             ],
             [
              0.2222222222222222,
              "#7201a8"
             ],
             [
              0.3333333333333333,
              "#9c179e"
             ],
             [
              0.4444444444444444,
              "#bd3786"
             ],
             [
              0.5555555555555556,
              "#d8576b"
             ],
             [
              0.6666666666666666,
              "#ed7953"
             ],
             [
              0.7777777777777778,
              "#fb9f3a"
             ],
             [
              0.8888888888888888,
              "#fdca26"
             ],
             [
              1,
              "#f0f921"
             ]
            ],
            "type": "heatmapgl"
           }
          ],
          "histogram": [
           {
            "marker": {
             "colorbar": {
              "outlinewidth": 0,
              "ticks": ""
             }
            },
            "type": "histogram"
           }
          ],
          "histogram2d": [
           {
            "colorbar": {
             "outlinewidth": 0,
             "ticks": ""
            },
            "colorscale": [
             [
              0,
              "#0d0887"
             ],
             [
              0.1111111111111111,
              "#46039f"
             ],
             [
              0.2222222222222222,
              "#7201a8"
             ],
             [
              0.3333333333333333,
              "#9c179e"
             ],
             [
              0.4444444444444444,
              "#bd3786"
             ],
             [
              0.5555555555555556,
              "#d8576b"
             ],
             [
              0.6666666666666666,
              "#ed7953"
             ],
             [
              0.7777777777777778,
              "#fb9f3a"
             ],
             [
              0.8888888888888888,
              "#fdca26"
             ],
             [
              1,
              "#f0f921"
             ]
            ],
            "type": "histogram2d"
           }
          ],
          "histogram2dcontour": [
           {
            "colorbar": {
             "outlinewidth": 0,
             "ticks": ""
            },
            "colorscale": [
             [
              0,
              "#0d0887"
             ],
             [
              0.1111111111111111,
              "#46039f"
             ],
             [
              0.2222222222222222,
              "#7201a8"
             ],
             [
              0.3333333333333333,
              "#9c179e"
             ],
             [
              0.4444444444444444,
              "#bd3786"
             ],
             [
              0.5555555555555556,
              "#d8576b"
             ],
             [
              0.6666666666666666,
              "#ed7953"
             ],
             [
              0.7777777777777778,
              "#fb9f3a"
             ],
             [
              0.8888888888888888,
              "#fdca26"
             ],
             [
              1,
              "#f0f921"
             ]
            ],
            "type": "histogram2dcontour"
           }
          ],
          "mesh3d": [
           {
            "colorbar": {
             "outlinewidth": 0,
             "ticks": ""
            },
            "type": "mesh3d"
           }
          ],
          "parcoords": [
           {
            "line": {
             "colorbar": {
              "outlinewidth": 0,
              "ticks": ""
             }
            },
            "type": "parcoords"
           }
          ],
          "pie": [
           {
            "automargin": true,
            "type": "pie"
           }
          ],
          "scatter": [
           {
            "marker": {
             "colorbar": {
              "outlinewidth": 0,
              "ticks": ""
             }
            },
            "type": "scatter"
           }
          ],
          "scatter3d": [
           {
            "line": {
             "colorbar": {
              "outlinewidth": 0,
              "ticks": ""
             }
            },
            "marker": {
             "colorbar": {
              "outlinewidth": 0,
              "ticks": ""
             }
            },
            "type": "scatter3d"
           }
          ],
          "scattercarpet": [
           {
            "marker": {
             "colorbar": {
              "outlinewidth": 0,
              "ticks": ""
             }
            },
            "type": "scattercarpet"
           }
          ],
          "scattergeo": [
           {
            "marker": {
             "colorbar": {
              "outlinewidth": 0,
              "ticks": ""
             }
            },
            "type": "scattergeo"
           }
          ],
          "scattergl": [
           {
            "marker": {
             "colorbar": {
              "outlinewidth": 0,
              "ticks": ""
             }
            },
            "type": "scattergl"
           }
          ],
          "scattermapbox": [
           {
            "marker": {
             "colorbar": {
              "outlinewidth": 0,
              "ticks": ""
             }
            },
            "type": "scattermapbox"
           }
          ],
          "scatterpolar": [
           {
            "marker": {
             "colorbar": {
              "outlinewidth": 0,
              "ticks": ""
             }
            },
            "type": "scatterpolar"
           }
          ],
          "scatterpolargl": [
           {
            "marker": {
             "colorbar": {
              "outlinewidth": 0,
              "ticks": ""
             }
            },
            "type": "scatterpolargl"
           }
          ],
          "scatterternary": [
           {
            "marker": {
             "colorbar": {
              "outlinewidth": 0,
              "ticks": ""
             }
            },
            "type": "scatterternary"
           }
          ],
          "surface": [
           {
            "colorbar": {
             "outlinewidth": 0,
             "ticks": ""
            },
            "colorscale": [
             [
              0,
              "#0d0887"
             ],
             [
              0.1111111111111111,
              "#46039f"
             ],
             [
              0.2222222222222222,
              "#7201a8"
             ],
             [
              0.3333333333333333,
              "#9c179e"
             ],
             [
              0.4444444444444444,
              "#bd3786"
             ],
             [
              0.5555555555555556,
              "#d8576b"
             ],
             [
              0.6666666666666666,
              "#ed7953"
             ],
             [
              0.7777777777777778,
              "#fb9f3a"
             ],
             [
              0.8888888888888888,
              "#fdca26"
             ],
             [
              1,
              "#f0f921"
             ]
            ],
            "type": "surface"
           }
          ],
          "table": [
           {
            "cells": {
             "fill": {
              "color": "#EBF0F8"
             },
             "line": {
              "color": "white"
             }
            },
            "header": {
             "fill": {
              "color": "#C8D4E3"
             },
             "line": {
              "color": "white"
             }
            },
            "type": "table"
           }
          ]
         },
         "layout": {
          "annotationdefaults": {
           "arrowcolor": "#2a3f5f",
           "arrowhead": 0,
           "arrowwidth": 1
          },
          "autotypenumbers": "strict",
          "coloraxis": {
           "colorbar": {
            "outlinewidth": 0,
            "ticks": ""
           }
          },
          "colorscale": {
           "diverging": [
            [
             0,
             "#8e0152"
            ],
            [
             0.1,
             "#c51b7d"
            ],
            [
             0.2,
             "#de77ae"
            ],
            [
             0.3,
             "#f1b6da"
            ],
            [
             0.4,
             "#fde0ef"
            ],
            [
             0.5,
             "#f7f7f7"
            ],
            [
             0.6,
             "#e6f5d0"
            ],
            [
             0.7,
             "#b8e186"
            ],
            [
             0.8,
             "#7fbc41"
            ],
            [
             0.9,
             "#4d9221"
            ],
            [
             1,
             "#276419"
            ]
           ],
           "sequential": [
            [
             0,
             "#0d0887"
            ],
            [
             0.1111111111111111,
             "#46039f"
            ],
            [
             0.2222222222222222,
             "#7201a8"
            ],
            [
             0.3333333333333333,
             "#9c179e"
            ],
            [
             0.4444444444444444,
             "#bd3786"
            ],
            [
             0.5555555555555556,
             "#d8576b"
            ],
            [
             0.6666666666666666,
             "#ed7953"
            ],
            [
             0.7777777777777778,
             "#fb9f3a"
            ],
            [
             0.8888888888888888,
             "#fdca26"
            ],
            [
             1,
             "#f0f921"
            ]
           ],
           "sequentialminus": [
            [
             0,
             "#0d0887"
            ],
            [
             0.1111111111111111,
             "#46039f"
            ],
            [
             0.2222222222222222,
             "#7201a8"
            ],
            [
             0.3333333333333333,
             "#9c179e"
            ],
            [
             0.4444444444444444,
             "#bd3786"
            ],
            [
             0.5555555555555556,
             "#d8576b"
            ],
            [
             0.6666666666666666,
             "#ed7953"
            ],
            [
             0.7777777777777778,
             "#fb9f3a"
            ],
            [
             0.8888888888888888,
             "#fdca26"
            ],
            [
             1,
             "#f0f921"
            ]
           ]
          },
          "colorway": [
           "#636efa",
           "#EF553B",
           "#00cc96",
           "#ab63fa",
           "#FFA15A",
           "#19d3f3",
           "#FF6692",
           "#B6E880",
           "#FF97FF",
           "#FECB52"
          ],
          "font": {
           "color": "#2a3f5f"
          },
          "geo": {
           "bgcolor": "white",
           "lakecolor": "white",
           "landcolor": "#E5ECF6",
           "showlakes": true,
           "showland": true,
           "subunitcolor": "white"
          },
          "hoverlabel": {
           "align": "left"
          },
          "hovermode": "closest",
          "mapbox": {
           "style": "light"
          },
          "paper_bgcolor": "white",
          "plot_bgcolor": "#E5ECF6",
          "polar": {
           "angularaxis": {
            "gridcolor": "white",
            "linecolor": "white",
            "ticks": ""
           },
           "bgcolor": "#E5ECF6",
           "radialaxis": {
            "gridcolor": "white",
            "linecolor": "white",
            "ticks": ""
           }
          },
          "scene": {
           "xaxis": {
            "backgroundcolor": "#E5ECF6",
            "gridcolor": "white",
            "gridwidth": 2,
            "linecolor": "white",
            "showbackground": true,
            "ticks": "",
            "zerolinecolor": "white"
           },
           "yaxis": {
            "backgroundcolor": "#E5ECF6",
            "gridcolor": "white",
            "gridwidth": 2,
            "linecolor": "white",
            "showbackground": true,
            "ticks": "",
            "zerolinecolor": "white"
           },
           "zaxis": {
            "backgroundcolor": "#E5ECF6",
            "gridcolor": "white",
            "gridwidth": 2,
            "linecolor": "white",
            "showbackground": true,
            "ticks": "",
            "zerolinecolor": "white"
           }
          },
          "shapedefaults": {
           "line": {
            "color": "#2a3f5f"
           }
          },
          "ternary": {
           "aaxis": {
            "gridcolor": "white",
            "linecolor": "white",
            "ticks": ""
           },
           "baxis": {
            "gridcolor": "white",
            "linecolor": "white",
            "ticks": ""
           },
           "bgcolor": "#E5ECF6",
           "caxis": {
            "gridcolor": "white",
            "linecolor": "white",
            "ticks": ""
           }
          },
          "title": {
           "x": 0.05
          },
          "xaxis": {
           "automargin": true,
           "gridcolor": "white",
           "linecolor": "white",
           "ticks": "",
           "title": {
            "standoff": 15
           },
           "zerolinecolor": "white",
           "zerolinewidth": 2
          },
          "yaxis": {
           "automargin": true,
           "gridcolor": "white",
           "linecolor": "white",
           "ticks": "",
           "title": {
            "standoff": 15
           },
           "zerolinecolor": "white",
           "zerolinewidth": 2
          }
         }
        }
       }
      }
     },
     "metadata": {}
    }
   ],
   "source": [
    "on_rate = np.full(ctx_info.get_ctx_space_shape(), -0.1)\n",
    "xx = []\n",
    "for dis in data[\"HomeOffice\"]:\n",
    "    on_rate[dis[\"coor\"]] = dis[\"distribution\"][1] / (dis[\"distribution\"][0] + dis[\"distribution\"][1])\n",
    "    xx.append({\"coor\": dis[\"coor\"], \"on\": dis[\"distribution\"][1] / (dis[\"distribution\"][0] + dis[\"distribution\"][1])})\n",
    "# print(sorted(xx, key=lambda x: -x[\"on\"])[0:20])\n",
    "\n",
    "fig = go.Figure(data=go.Heatmap(z=np.transpose(on_rate)))\n",
    "fig.show()\n",
    "\n"
   ]
  },
  {
   "cell_type": "code",
   "execution_count": 11,
   "metadata": {
    "tags": []
   },
   "outputs": [
    {
     "output_type": "stream",
     "name": "stdout",
     "text": [
      "[0.78773177 0.21226823]\n"
     ]
    },
    {
     "output_type": "display_data",
     "data": {
      "application/vnd.plotly.v1+json": {
       "config": {
        "plotlyServerURL": "https://plot.ly"
       },
       "data": [
        {
         "type": "heatmap",
         "z": [
          [
           0.11726147123088128,
           0.11726147123088128,
           0.11726147123088128,
           0.11726147123088128,
           0.11726147123088128,
           0.039945242023237036,
           0.039945242023237036,
           0.039945242023237036,
           0.039945242023237036,
           0.039945242023237036,
           0.039945242023237036
          ],
          [
           0.11726147123088128,
           0.11726147123088128,
           0.11726147123088128,
           0.11726147123088128,
           0.11726147123088128,
           0.039945242023237036,
           0.039945242023237036,
           0.039945242023237036,
           0.039945242023237036,
           0.039945242023237036,
           0.039945242023237036
          ],
          [
           0.11726147123088128,
           0.11726147123088128,
           0.11726147123088128,
           0.11726147123088128,
           0.11726147123088128,
           0.039945242023237036,
           0.039945242023237036,
           0.039945242023237036,
           0.039945242023237036,
           0.039945242023237036,
           0.039945242023237036
          ],
          [
           0.11726147123088128,
           0.11726147123088128,
           0.11726147123088128,
           0.11726147123088128,
           0.11726147123088128,
           0.039945242023237036,
           0.039945242023237036,
           0.039945242023237036,
           0.039945242023237036,
           0.039945242023237036,
           0.039945242023237036
          ],
          [
           0.11726147123088128,
           0.11726147123088128,
           0.11726147123088128,
           0.11726147123088128,
           0.11726147123088128,
           0.039945242023237036,
           0.039945242023237036,
           0.039945242023237036,
           0.039945242023237036,
           0.039945242023237036,
           0.039945242023237036
          ],
          [
           0.11942675159235669,
           0.11942675159235669,
           0.11942675159235669,
           0.05370451556334941,
           0.05370451556334941,
           0.039945242023237036,
           0.039945242023237036,
           0.039945242023237036,
           0.039945242023237036,
           0.039945242023237036,
           0.039945242023237036
          ],
          [
           0.11942675159235669,
           0.11942675159235669,
           0.11942675159235669,
           0.05370451556334941,
           0.05370451556334941,
           0.039945242023237036,
           0.039945242023237036,
           0.039945242023237036,
           0.039945242023237036,
           0.039945242023237036,
           0.039945242023237036
          ],
          [
           0.11942675159235669,
           0.11942675159235669,
           0.11942675159235669,
           0.05370451556334941,
           0.05370451556334941,
           0.039945242023237036,
           0.039945242023237036,
           0.039945242023237036,
           0.039945242023237036,
           0.039945242023237036,
           0.039945242023237036
          ],
          [
           0.11942675159235669,
           0.11942675159235669,
           0.11942675159235669,
           0.05370451556334941,
           0.05370451556334941,
           0.039945242023237036,
           0.039945242023237036,
           0.039945242023237036,
           0.039945242023237036,
           0.039945242023237036,
           0.039945242023237036
          ],
          [
           0.11942675159235669,
           0.11942675159235669,
           0.11942675159235669,
           0.05370451556334941,
           0.05370451556334941,
           0.039945242023237036,
           0.039945242023237036,
           0.039945242023237036,
           0.039945242023237036,
           0.039945242023237036,
           0.039945242023237036
          ],
          [
           0.11942675159235669,
           0.11942675159235669,
           0.11942675159235669,
           0.05370451556334941,
           0.05370451556334941,
           0.039945242023237036,
           0.039945242023237036,
           0.039945242023237036,
           0.039945242023237036,
           0.039945242023237036,
           0.039945242023237036
          ],
          [
           0.11942675159235669,
           0.11942675159235669,
           0.11942675159235669,
           0.05370451556334941,
           0.05370451556334941,
           0.039945242023237036,
           0.039945242023237036,
           0.039945242023237036,
           0.039945242023237036,
           0.039945242023237036,
           0.039945242023237036
          ]
         ]
        }
       ],
       "layout": {
        "template": {
         "data": {
          "bar": [
           {
            "error_x": {
             "color": "#2a3f5f"
            },
            "error_y": {
             "color": "#2a3f5f"
            },
            "marker": {
             "line": {
              "color": "#E5ECF6",
              "width": 0.5
             }
            },
            "type": "bar"
           }
          ],
          "barpolar": [
           {
            "marker": {
             "line": {
              "color": "#E5ECF6",
              "width": 0.5
             }
            },
            "type": "barpolar"
           }
          ],
          "carpet": [
           {
            "aaxis": {
             "endlinecolor": "#2a3f5f",
             "gridcolor": "white",
             "linecolor": "white",
             "minorgridcolor": "white",
             "startlinecolor": "#2a3f5f"
            },
            "baxis": {
             "endlinecolor": "#2a3f5f",
             "gridcolor": "white",
             "linecolor": "white",
             "minorgridcolor": "white",
             "startlinecolor": "#2a3f5f"
            },
            "type": "carpet"
           }
          ],
          "choropleth": [
           {
            "colorbar": {
             "outlinewidth": 0,
             "ticks": ""
            },
            "type": "choropleth"
           }
          ],
          "contour": [
           {
            "colorbar": {
             "outlinewidth": 0,
             "ticks": ""
            },
            "colorscale": [
             [
              0,
              "#0d0887"
             ],
             [
              0.1111111111111111,
              "#46039f"
             ],
             [
              0.2222222222222222,
              "#7201a8"
             ],
             [
              0.3333333333333333,
              "#9c179e"
             ],
             [
              0.4444444444444444,
              "#bd3786"
             ],
             [
              0.5555555555555556,
              "#d8576b"
             ],
             [
              0.6666666666666666,
              "#ed7953"
             ],
             [
              0.7777777777777778,
              "#fb9f3a"
             ],
             [
              0.8888888888888888,
              "#fdca26"
             ],
             [
              1,
              "#f0f921"
             ]
            ],
            "type": "contour"
           }
          ],
          "contourcarpet": [
           {
            "colorbar": {
             "outlinewidth": 0,
             "ticks": ""
            },
            "type": "contourcarpet"
           }
          ],
          "heatmap": [
           {
            "colorbar": {
             "outlinewidth": 0,
             "ticks": ""
            },
            "colorscale": [
             [
              0,
              "#0d0887"
             ],
             [
              0.1111111111111111,
              "#46039f"
             ],
             [
              0.2222222222222222,
              "#7201a8"
             ],
             [
              0.3333333333333333,
              "#9c179e"
             ],
             [
              0.4444444444444444,
              "#bd3786"
             ],
             [
              0.5555555555555556,
              "#d8576b"
             ],
             [
              0.6666666666666666,
              "#ed7953"
             ],
             [
              0.7777777777777778,
              "#fb9f3a"
             ],
             [
              0.8888888888888888,
              "#fdca26"
             ],
             [
              1,
              "#f0f921"
             ]
            ],
            "type": "heatmap"
           }
          ],
          "heatmapgl": [
           {
            "colorbar": {
             "outlinewidth": 0,
             "ticks": ""
            },
            "colorscale": [
             [
              0,
              "#0d0887"
             ],
             [
              0.1111111111111111,
              "#46039f"
             ],
             [
              0.2222222222222222,
              "#7201a8"
             ],
             [
              0.3333333333333333,
              "#9c179e"
             ],
             [
              0.4444444444444444,
              "#bd3786"
             ],
             [
              0.5555555555555556,
              "#d8576b"
             ],
             [
              0.6666666666666666,
              "#ed7953"
             ],
             [
              0.7777777777777778,
              "#fb9f3a"
             ],
             [
              0.8888888888888888,
              "#fdca26"
             ],
             [
              1,
              "#f0f921"
             ]
            ],
            "type": "heatmapgl"
           }
          ],
          "histogram": [
           {
            "marker": {
             "colorbar": {
              "outlinewidth": 0,
              "ticks": ""
             }
            },
            "type": "histogram"
           }
          ],
          "histogram2d": [
           {
            "colorbar": {
             "outlinewidth": 0,
             "ticks": ""
            },
            "colorscale": [
             [
              0,
              "#0d0887"
             ],
             [
              0.1111111111111111,
              "#46039f"
             ],
             [
              0.2222222222222222,
              "#7201a8"
             ],
             [
              0.3333333333333333,
              "#9c179e"
             ],
             [
              0.4444444444444444,
              "#bd3786"
             ],
             [
              0.5555555555555556,
              "#d8576b"
             ],
             [
              0.6666666666666666,
              "#ed7953"
             ],
             [
              0.7777777777777778,
              "#fb9f3a"
             ],
             [
              0.8888888888888888,
              "#fdca26"
             ],
             [
              1,
              "#f0f921"
             ]
            ],
            "type": "histogram2d"
           }
          ],
          "histogram2dcontour": [
           {
            "colorbar": {
             "outlinewidth": 0,
             "ticks": ""
            },
            "colorscale": [
             [
              0,
              "#0d0887"
             ],
             [
              0.1111111111111111,
              "#46039f"
             ],
             [
              0.2222222222222222,
              "#7201a8"
             ],
             [
              0.3333333333333333,
              "#9c179e"
             ],
             [
              0.4444444444444444,
              "#bd3786"
             ],
             [
              0.5555555555555556,
              "#d8576b"
             ],
             [
              0.6666666666666666,
              "#ed7953"
             ],
             [
              0.7777777777777778,
              "#fb9f3a"
             ],
             [
              0.8888888888888888,
              "#fdca26"
             ],
             [
              1,
              "#f0f921"
             ]
            ],
            "type": "histogram2dcontour"
           }
          ],
          "mesh3d": [
           {
            "colorbar": {
             "outlinewidth": 0,
             "ticks": ""
            },
            "type": "mesh3d"
           }
          ],
          "parcoords": [
           {
            "line": {
             "colorbar": {
              "outlinewidth": 0,
              "ticks": ""
             }
            },
            "type": "parcoords"
           }
          ],
          "pie": [
           {
            "automargin": true,
            "type": "pie"
           }
          ],
          "scatter": [
           {
            "marker": {
             "colorbar": {
              "outlinewidth": 0,
              "ticks": ""
             }
            },
            "type": "scatter"
           }
          ],
          "scatter3d": [
           {
            "line": {
             "colorbar": {
              "outlinewidth": 0,
              "ticks": ""
             }
            },
            "marker": {
             "colorbar": {
              "outlinewidth": 0,
              "ticks": ""
             }
            },
            "type": "scatter3d"
           }
          ],
          "scattercarpet": [
           {
            "marker": {
             "colorbar": {
              "outlinewidth": 0,
              "ticks": ""
             }
            },
            "type": "scattercarpet"
           }
          ],
          "scattergeo": [
           {
            "marker": {
             "colorbar": {
              "outlinewidth": 0,
              "ticks": ""
             }
            },
            "type": "scattergeo"
           }
          ],
          "scattergl": [
           {
            "marker": {
             "colorbar": {
              "outlinewidth": 0,
              "ticks": ""
             }
            },
            "type": "scattergl"
           }
          ],
          "scattermapbox": [
           {
            "marker": {
             "colorbar": {
              "outlinewidth": 0,
              "ticks": ""
             }
            },
            "type": "scattermapbox"
           }
          ],
          "scatterpolar": [
           {
            "marker": {
             "colorbar": {
              "outlinewidth": 0,
              "ticks": ""
             }
            },
            "type": "scatterpolar"
           }
          ],
          "scatterpolargl": [
           {
            "marker": {
             "colorbar": {
              "outlinewidth": 0,
              "ticks": ""
             }
            },
            "type": "scatterpolargl"
           }
          ],
          "scatterternary": [
           {
            "marker": {
             "colorbar": {
              "outlinewidth": 0,
              "ticks": ""
             }
            },
            "type": "scatterternary"
           }
          ],
          "surface": [
           {
            "colorbar": {
             "outlinewidth": 0,
             "ticks": ""
            },
            "colorscale": [
             [
              0,
              "#0d0887"
             ],
             [
              0.1111111111111111,
              "#46039f"
             ],
             [
              0.2222222222222222,
              "#7201a8"
             ],
             [
              0.3333333333333333,
              "#9c179e"
             ],
             [
              0.4444444444444444,
              "#bd3786"
             ],
             [
              0.5555555555555556,
              "#d8576b"
             ],
             [
              0.6666666666666666,
              "#ed7953"
             ],
             [
              0.7777777777777778,
              "#fb9f3a"
             ],
             [
              0.8888888888888888,
              "#fdca26"
             ],
             [
              1,
              "#f0f921"
             ]
            ],
            "type": "surface"
           }
          ],
          "table": [
           {
            "cells": {
             "fill": {
              "color": "#EBF0F8"
             },
             "line": {
              "color": "white"
             }
            },
            "header": {
             "fill": {
              "color": "#C8D4E3"
             },
             "line": {
              "color": "white"
             }
            },
            "type": "table"
           }
          ]
         },
         "layout": {
          "annotationdefaults": {
           "arrowcolor": "#2a3f5f",
           "arrowhead": 0,
           "arrowwidth": 1
          },
          "autotypenumbers": "strict",
          "coloraxis": {
           "colorbar": {
            "outlinewidth": 0,
            "ticks": ""
           }
          },
          "colorscale": {
           "diverging": [
            [
             0,
             "#8e0152"
            ],
            [
             0.1,
             "#c51b7d"
            ],
            [
             0.2,
             "#de77ae"
            ],
            [
             0.3,
             "#f1b6da"
            ],
            [
             0.4,
             "#fde0ef"
            ],
            [
             0.5,
             "#f7f7f7"
            ],
            [
             0.6,
             "#e6f5d0"
            ],
            [
             0.7,
             "#b8e186"
            ],
            [
             0.8,
             "#7fbc41"
            ],
            [
             0.9,
             "#4d9221"
            ],
            [
             1,
             "#276419"
            ]
           ],
           "sequential": [
            [
             0,
             "#0d0887"
            ],
            [
             0.1111111111111111,
             "#46039f"
            ],
            [
             0.2222222222222222,
             "#7201a8"
            ],
            [
             0.3333333333333333,
             "#9c179e"
            ],
            [
             0.4444444444444444,
             "#bd3786"
            ],
            [
             0.5555555555555556,
             "#d8576b"
            ],
            [
             0.6666666666666666,
             "#ed7953"
            ],
            [
             0.7777777777777778,
             "#fb9f3a"
            ],
            [
             0.8888888888888888,
             "#fdca26"
            ],
            [
             1,
             "#f0f921"
            ]
           ],
           "sequentialminus": [
            [
             0,
             "#0d0887"
            ],
            [
             0.1111111111111111,
             "#46039f"
            ],
            [
             0.2222222222222222,
             "#7201a8"
            ],
            [
             0.3333333333333333,
             "#9c179e"
            ],
            [
             0.4444444444444444,
             "#bd3786"
            ],
            [
             0.5555555555555556,
             "#d8576b"
            ],
            [
             0.6666666666666666,
             "#ed7953"
            ],
            [
             0.7777777777777778,
             "#fb9f3a"
            ],
            [
             0.8888888888888888,
             "#fdca26"
            ],
            [
             1,
             "#f0f921"
            ]
           ]
          },
          "colorway": [
           "#636efa",
           "#EF553B",
           "#00cc96",
           "#ab63fa",
           "#FFA15A",
           "#19d3f3",
           "#FF6692",
           "#B6E880",
           "#FF97FF",
           "#FECB52"
          ],
          "font": {
           "color": "#2a3f5f"
          },
          "geo": {
           "bgcolor": "white",
           "lakecolor": "white",
           "landcolor": "#E5ECF6",
           "showlakes": true,
           "showland": true,
           "subunitcolor": "white"
          },
          "hoverlabel": {
           "align": "left"
          },
          "hovermode": "closest",
          "mapbox": {
           "style": "light"
          },
          "paper_bgcolor": "white",
          "plot_bgcolor": "#E5ECF6",
          "polar": {
           "angularaxis": {
            "gridcolor": "white",
            "linecolor": "white",
            "ticks": ""
           },
           "bgcolor": "#E5ECF6",
           "radialaxis": {
            "gridcolor": "white",
            "linecolor": "white",
            "ticks": ""
           }
          },
          "scene": {
           "xaxis": {
            "backgroundcolor": "#E5ECF6",
            "gridcolor": "white",
            "gridwidth": 2,
            "linecolor": "white",
            "showbackground": true,
            "ticks": "",
            "zerolinecolor": "white"
           },
           "yaxis": {
            "backgroundcolor": "#E5ECF6",
            "gridcolor": "white",
            "gridwidth": 2,
            "linecolor": "white",
            "showbackground": true,
            "ticks": "",
            "zerolinecolor": "white"
           },
           "zaxis": {
            "backgroundcolor": "#E5ECF6",
            "gridcolor": "white",
            "gridwidth": 2,
            "linecolor": "white",
            "showbackground": true,
            "ticks": "",
            "zerolinecolor": "white"
           }
          },
          "shapedefaults": {
           "line": {
            "color": "#2a3f5f"
           }
          },
          "ternary": {
           "aaxis": {
            "gridcolor": "white",
            "linecolor": "white",
            "ticks": ""
           },
           "baxis": {
            "gridcolor": "white",
            "linecolor": "white",
            "ticks": ""
           },
           "bgcolor": "#E5ECF6",
           "caxis": {
            "gridcolor": "white",
            "linecolor": "white",
            "ticks": ""
           }
          },
          "title": {
           "x": 0.05
          },
          "xaxis": {
           "automargin": true,
           "gridcolor": "white",
           "linecolor": "white",
           "ticks": "",
           "title": {
            "standoff": 15
           },
           "zerolinecolor": "white",
           "zerolinewidth": 2
          },
          "yaxis": {
           "automargin": true,
           "gridcolor": "white",
           "linecolor": "white",
           "ticks": "",
           "title": {
            "standoff": 15
           },
           "zerolinecolor": "white",
           "zerolinewidth": 2
          }
         }
        }
       }
      }
     },
     "metadata": {}
    }
   ],
   "source": [
    "from sklearn.tree import DecisionTreeRegressor\n",
    "from sklearn.model_selection import train_test_split\n",
    "\n",
    "from sklearn import tree\n",
    "reg_x = []\n",
    "reg_y = []\n",
    "weight = []\n",
    "for dis in data[\"HomeOffice\"]:\n",
    "    cnt = sum(dis[\"distribution\"])\n",
    "    weight.append(cnt)\n",
    "    reg_x.append(dis[\"coor\"])\n",
    "    reg_y.append([\n",
    "        x / cnt\n",
    "        for x in dis[\"distribution\"][1:]\n",
    "    ])\n",
    "\n",
    "X_train, X_test, y_train, y_test = train_test_split(\n",
    "    reg_x, reg_y, test_size=0.33, random_state=42)\n",
    "\n",
    "clf = DecisionTreeRegressor(criterion=\"poisson\")\n",
    "path = clf.cost_complexity_pruning_path(X_train, y_train)\n",
    "\n",
    "regressor = DecisionTreeRegressor(ccp_alpha=6e-5, criterion=\"mse\")\n",
    "\n",
    "regressor.fit(reg_x, reg_y, sample_weight=weight)\n",
    "print(regressor.feature_importances_)\n",
    "on_rate_group = np.full(ctx_info.get_ctx_space_shape(), 0.)\n",
    "for i in range(ctx_info.get_ctx_space_shape()[0]):\n",
    "    for j in range(ctx_info.get_ctx_space_shape()[1]):\n",
    "        on_rate_group[i,j] = regressor.predict([[i,j]])\n",
    "\n",
    "fig = go.Figure(data=go.Heatmap(z=np.transpose(on_rate_group)))\n",
    "fig.show()"
   ]
  },
  {
   "cell_type": "code",
   "execution_count": 17,
   "metadata": {
    "tags": []
   },
   "outputs": [
    {
     "output_type": "display_data",
     "data": {
      "application/vnd.plotly.v1+json": {
       "config": {
        "plotlyServerURL": "https://plot.ly"
       },
       "data": [
        {
         "type": "heatmap",
         "z": [
          [
           0.0003016300859966628,
           0.0003016300859966628,
           0.0003016300859966628,
           0.0003016300859966628,
           0.0003016300859966628,
           0.0003016300859966628,
           0.0003016300859966628,
           0.0003016300859966628,
           0.0003016300859966628,
           0.0003016300859966628,
           0.0003016300859966628,
           0.0003016300859966628,
           0.0003016300859966628,
           0.0003016300859966628,
           0.0003016300859966628,
           0.0003016300859966628,
           0.0003016300859966628,
           0.0003016300859966628,
           0.03404797868989878,
           0.03404797868989878,
           0.03404797868989878,
           0.03404797868989878,
           0.03404797868989878,
           0.03404797868989878,
           0.03404797868989878,
           0.03404797868989878,
           0.03404797868989878,
           0.03404797868989878,
           0.03404797868989878,
           0.03404797868989878,
           0.09511898964477855,
           0.09511898964477855,
           0.09511898964477855,
           0.09511898964477855,
           0.09511898964477855,
           0.09511898964477855,
           0.09511898964477855,
           0.0675091646930675,
           0.0675091646930675,
           0.0675091646930675,
           0.0675091646930675,
           0.046508367596803456,
           0.046508367596803456,
           0.046508367596803456,
           0.046508367596803456,
           0.046508367596803456,
           0.046508367596803456,
           0.046508367596803456,
           0.046508367596803456,
           0.11045316318239784,
           0.21280864612123196,
           0.29866302769437836,
           0.29866302769437836,
           0.2002120046437566,
           0.0988268611208352,
           0.03907977587890147,
           0.03907977587890147,
           0.03907977587890147,
           0.03907977587890147,
           0.03907977587890147,
           0.03907977587890147,
           0.0032263160415826266,
           0.0032263160415826266,
           0.0032263160415826266,
           0.0032263160415826266,
           0.0032263160415826266,
           0.0032263160415826266,
           0.0032263160415826266,
           0.0032263160415826266,
           0.0032263160415826266,
           0.0032263160415826266,
           0.0032263160415826266
          ],
          [
           0.0003016300859966628,
           0.0003016300859966628,
           0.0003016300859966628,
           0.0003016300859966628,
           0.0003016300859966628,
           0.0003016300859966628,
           0.0003016300859966628,
           0.0003016300859966628,
           0.0003016300859966628,
           0.0003016300859966628,
           0.0003016300859966628,
           0.0003016300859966628,
           0.0003016300859966628,
           0.0003016300859966628,
           0.0003016300859966628,
           0.0003016300859966628,
           0.0003016300859966628,
           0.0003016300859966628,
           0.03404797868989878,
           0.03404797868989878,
           0.03404797868989878,
           0.03404797868989878,
           0.03404797868989878,
           0.03404797868989878,
           0.03404797868989878,
           0.03404797868989878,
           0.03404797868989878,
           0.03404797868989878,
           0.03404797868989878,
           0.03404797868989878,
           0.09511898964477855,
           0.09511898964477855,
           0.09511898964477855,
           0.09511898964477855,
           0.09511898964477855,
           0.09511898964477855,
           0.09511898964477855,
           0.0675091646930675,
           0.0675091646930675,
           0.0675091646930675,
           0.0675091646930675,
           0.046508367596803456,
           0.046508367596803456,
           0.046508367596803456,
           0.046508367596803456,
           0.046508367596803456,
           0.046508367596803456,
           0.046508367596803456,
           0.046508367596803456,
           0.11045316318239784,
           0.21280864612123196,
           0.29866302769437836,
           0.29866302769437836,
           0.2002120046437566,
           0.0988268611208352,
           0.03907977587890147,
           0.03907977587890147,
           0.03907977587890147,
           0.03907977587890147,
           0.03907977587890147,
           0.03907977587890147,
           0.0032263160415826266,
           0.0032263160415826266,
           0.0032263160415826266,
           0.0032263160415826266,
           0.0032263160415826266,
           0.0032263160415826266,
           0.0032263160415826266,
           0.0032263160415826266,
           0.0032263160415826266,
           0.0032263160415826266,
           0.0032263160415826266
          ],
          [
           0.0003016300859966628,
           0.0003016300859966628,
           0.0003016300859966628,
           0.0003016300859966628,
           0.0003016300859966628,
           0.0003016300859966628,
           0.0003016300859966628,
           0.0003016300859966628,
           0.0003016300859966628,
           0.0003016300859966628,
           0.0003016300859966628,
           0.0003016300859966628,
           0.0003016300859966628,
           0.0003016300859966628,
           0.0003016300859966628,
           0.0003016300859966628,
           0.0003016300859966628,
           0.0003016300859966628,
           0.03404797868989878,
           0.03404797868989878,
           0.03404797868989878,
           0.03404797868989878,
           0.03404797868989878,
           0.03404797868989878,
           0.03404797868989878,
           0.03404797868989878,
           0.03404797868989878,
           0.03404797868989878,
           0.03404797868989878,
           0.03404797868989878,
           0.09511898964477855,
           0.09511898964477855,
           0.09511898964477855,
           0.09511898964477855,
           0.09511898964477855,
           0.09511898964477855,
           0.09511898964477855,
           0.0675091646930675,
           0.0675091646930675,
           0.0675091646930675,
           0.0675091646930675,
           0.046508367596803456,
           0.046508367596803456,
           0.046508367596803456,
           0.046508367596803456,
           0.046508367596803456,
           0.046508367596803456,
           0.046508367596803456,
           0.046508367596803456,
           0.11045316318239784,
           0.21280864612123196,
           0.29866302769437836,
           0.29866302769437836,
           0.2002120046437566,
           0.0988268611208352,
           0.03907977587890147,
           0.03907977587890147,
           0.03907977587890147,
           0.03907977587890147,
           0.03907977587890147,
           0.03907977587890147,
           0.0032263160415826266,
           0.0032263160415826266,
           0.0032263160415826266,
           0.0032263160415826266,
           0.0032263160415826266,
           0.0032263160415826266,
           0.0032263160415826266,
           0.0032263160415826266,
           0.0032263160415826266,
           0.0032263160415826266,
           0.0032263160415826266
          ],
          [
           0.0003016300859966628,
           0.0003016300859966628,
           0.0003016300859966628,
           0.0003016300859966628,
           0.0003016300859966628,
           0.0003016300859966628,
           0.0003016300859966628,
           0.0003016300859966628,
           0.0003016300859966628,
           0.0003016300859966628,
           0.0003016300859966628,
           0.0003016300859966628,
           0.0003016300859966628,
           0.0003016300859966628,
           0.0003016300859966628,
           0.0003016300859966628,
           0.0003016300859966628,
           0.0003016300859966628,
           0.03404797868989878,
           0.03404797868989878,
           0.03404797868989878,
           0.03404797868989878,
           0.03404797868989878,
           0.03404797868989878,
           0.03404797868989878,
           0.03404797868989878,
           0.03404797868989878,
           0.03404797868989878,
           0.03404797868989878,
           0.03404797868989878,
           0.09511898964477855,
           0.09511898964477855,
           0.09511898964477855,
           0.09511898964477855,
           0.09511898964477855,
           0.09511898964477855,
           0.09511898964477855,
           0.0675091646930675,
           0.0675091646930675,
           0.0675091646930675,
           0.0675091646930675,
           0.046508367596803456,
           0.046508367596803456,
           0.046508367596803456,
           0.046508367596803456,
           0.046508367596803456,
           0.046508367596803456,
           0.046508367596803456,
           0.046508367596803456,
           0.11045316318239784,
           0.21280864612123196,
           0.29866302769437836,
           0.29866302769437836,
           0.2002120046437566,
           0.0988268611208352,
           0.03907977587890147,
           0.03907977587890147,
           0.03907977587890147,
           0.03907977587890147,
           0.03907977587890147,
           0.03907977587890147,
           0.0032263160415826266,
           0.0032263160415826266,
           0.0032263160415826266,
           0.0032263160415826266,
           0.0032263160415826266,
           0.0032263160415826266,
           0.0032263160415826266,
           0.0032263160415826266,
           0.0032263160415826266,
           0.0032263160415826266,
           0.0032263160415826266
          ],
          [
           0.0003016300859966628,
           0.0003016300859966628,
           0.0003016300859966628,
           0.0003016300859966628,
           0.0003016300859966628,
           0.0003016300859966628,
           0.0003016300859966628,
           0.0003016300859966628,
           0.0003016300859966628,
           0.0003016300859966628,
           0.0003016300859966628,
           0.0003016300859966628,
           0.0003016300859966628,
           0.0003016300859966628,
           0.0003016300859966628,
           0.0003016300859966628,
           0.0003016300859966628,
           0.0003016300859966628,
           0.03404797868989878,
           0.03404797868989878,
           0.03404797868989878,
           0.03404797868989878,
           0.03404797868989878,
           0.03404797868989878,
           0.03404797868989878,
           0.03404797868989878,
           0.03404797868989878,
           0.03404797868989878,
           0.03404797868989878,
           0.03404797868989878,
           0.09511898964477855,
           0.09511898964477855,
           0.09511898964477855,
           0.09511898964477855,
           0.09511898964477855,
           0.09511898964477855,
           0.09511898964477855,
           0.0675091646930675,
           0.0675091646930675,
           0.0675091646930675,
           0.0675091646930675,
           0.046508367596803456,
           0.046508367596803456,
           0.046508367596803456,
           0.046508367596803456,
           0.046508367596803456,
           0.046508367596803456,
           0.046508367596803456,
           0.046508367596803456,
           0.11045316318239784,
           0.21280864612123196,
           0.29866302769437836,
           0.29866302769437836,
           0.2002120046437566,
           0.0988268611208352,
           0.03907977587890147,
           0.03907977587890147,
           0.03907977587890147,
           0.03907977587890147,
           0.03907977587890147,
           0.03907977587890147,
           0.0032263160415826266,
           0.0032263160415826266,
           0.0032263160415826266,
           0.0032263160415826266,
           0.0032263160415826266,
           0.0032263160415826266,
           0.0032263160415826266,
           0.0032263160415826266,
           0.0032263160415826266,
           0.0032263160415826266,
           0.0032263160415826266
          ],
          [
           0.0003016300859966628,
           0.0003016300859966628,
           0.0003016300859966628,
           0.0003016300859966628,
           0.0003016300859966628,
           0.0003016300859966628,
           0.0003016300859966628,
           0.0003016300859966628,
           0.0003016300859966628,
           0.0003016300859966628,
           0.0003016300859966628,
           0.0003016300859966628,
           0.0003016300859966628,
           0.0003016300859966628,
           0.0003016300859966628,
           0.0003016300859966628,
           0.0003016300859966628,
           0.0003016300859966628,
           0.03404797868989878,
           0.03404797868989878,
           0.03404797868989878,
           0.03404797868989878,
           0.03404797868989878,
           0.03404797868989878,
           0.03404797868989878,
           0.03404797868989878,
           0.03404797868989878,
           0.03404797868989878,
           0.03404797868989878,
           0.03404797868989878,
           0.09511898964477855,
           0.09511898964477855,
           0.09511898964477855,
           0.09511898964477855,
           0.09511898964477855,
           0.09511898964477855,
           0.09511898964477855,
           0.0675091646930675,
           0.0675091646930675,
           0.0675091646930675,
           0.0675091646930675,
           0.046508367596803456,
           0.046508367596803456,
           0.046508367596803456,
           0.046508367596803456,
           0.046508367596803456,
           0.046508367596803456,
           0.046508367596803456,
           0.046508367596803456,
           0.11045316318239784,
           0.11071023316627801,
           0.11071023316627801,
           0.11071023316627801,
           0.11071023316627801,
           0.11071023316627801,
           0.03907977587890147,
           0.03907977587890147,
           0.03907977587890147,
           0.03907977587890147,
           0.03907977587890147,
           0.03907977587890147,
           0.0032263160415826266,
           0.0032263160415826266,
           0.0032263160415826266,
           0.0032263160415826266,
           0.0032263160415826266,
           0.0032263160415826266,
           0.0032263160415826266,
           0.0032263160415826266,
           0.0032263160415826266,
           0.0032263160415826266,
           0.0032263160415826266
          ],
          [
           0.0003016300859966628,
           0.0003016300859966628,
           0.0003016300859966628,
           0.0003016300859966628,
           0.0003016300859966628,
           0.0003016300859966628,
           0.0003016300859966628,
           0.0003016300859966628,
           0.0003016300859966628,
           0.0003016300859966628,
           0.0003016300859966628,
           0.0003016300859966628,
           0.0003016300859966628,
           0.0003016300859966628,
           0.0003016300859966628,
           0.0003016300859966628,
           0.0003016300859966628,
           0.0003016300859966628,
           0.03404797868989878,
           0.03404797868989878,
           0.03404797868989878,
           0.03404797868989878,
           0.03404797868989878,
           0.03404797868989878,
           0.03404797868989878,
           0.03404797868989878,
           0.03404797868989878,
           0.03404797868989878,
           0.03404797868989878,
           0.03404797868989878,
           0.10330214850102354,
           0.10330214850102354,
           0.10330214850102354,
           0.10330214850102354,
           0.17390434061885143,
           0.17390434061885143,
           0.17390434061885143,
           0.17390434061885143,
           0.17390434061885143,
           0.17390434061885143,
           0.17390434061885143,
           0.046508367596803456,
           0.046508367596803456,
           0.046508367596803456,
           0.046508367596803456,
           0.046508367596803456,
           0.046508367596803456,
           0.046508367596803456,
           0.046508367596803456,
           0.11045316318239784,
           0.11071023316627801,
           0.11071023316627801,
           0.11071023316627801,
           0.11071023316627801,
           0.11071023316627801,
           0.03907977587890147,
           0.03907977587890147,
           0.03907977587890147,
           0.03907977587890147,
           0.03907977587890147,
           0.03907977587890147,
           0.0032263160415826266,
           0.0032263160415826266,
           0.0032263160415826266,
           0.0032263160415826266,
           0.0032263160415826266,
           0.0032263160415826266,
           0.0032263160415826266,
           0.0032263160415826266,
           0.0032263160415826266,
           0.0032263160415826266,
           0.0032263160415826266
          ]
         ]
        }
       ],
       "layout": {
        "template": {
         "data": {
          "bar": [
           {
            "error_x": {
             "color": "#2a3f5f"
            },
            "error_y": {
             "color": "#2a3f5f"
            },
            "marker": {
             "line": {
              "color": "#E5ECF6",
              "width": 0.5
             }
            },
            "type": "bar"
           }
          ],
          "barpolar": [
           {
            "marker": {
             "line": {
              "color": "#E5ECF6",
              "width": 0.5
             }
            },
            "type": "barpolar"
           }
          ],
          "carpet": [
           {
            "aaxis": {
             "endlinecolor": "#2a3f5f",
             "gridcolor": "white",
             "linecolor": "white",
             "minorgridcolor": "white",
             "startlinecolor": "#2a3f5f"
            },
            "baxis": {
             "endlinecolor": "#2a3f5f",
             "gridcolor": "white",
             "linecolor": "white",
             "minorgridcolor": "white",
             "startlinecolor": "#2a3f5f"
            },
            "type": "carpet"
           }
          ],
          "choropleth": [
           {
            "colorbar": {
             "outlinewidth": 0,
             "ticks": ""
            },
            "type": "choropleth"
           }
          ],
          "contour": [
           {
            "colorbar": {
             "outlinewidth": 0,
             "ticks": ""
            },
            "colorscale": [
             [
              0,
              "#0d0887"
             ],
             [
              0.1111111111111111,
              "#46039f"
             ],
             [
              0.2222222222222222,
              "#7201a8"
             ],
             [
              0.3333333333333333,
              "#9c179e"
             ],
             [
              0.4444444444444444,
              "#bd3786"
             ],
             [
              0.5555555555555556,
              "#d8576b"
             ],
             [
              0.6666666666666666,
              "#ed7953"
             ],
             [
              0.7777777777777778,
              "#fb9f3a"
             ],
             [
              0.8888888888888888,
              "#fdca26"
             ],
             [
              1,
              "#f0f921"
             ]
            ],
            "type": "contour"
           }
          ],
          "contourcarpet": [
           {
            "colorbar": {
             "outlinewidth": 0,
             "ticks": ""
            },
            "type": "contourcarpet"
           }
          ],
          "heatmap": [
           {
            "colorbar": {
             "outlinewidth": 0,
             "ticks": ""
            },
            "colorscale": [
             [
              0,
              "#0d0887"
             ],
             [
              0.1111111111111111,
              "#46039f"
             ],
             [
              0.2222222222222222,
              "#7201a8"
             ],
             [
              0.3333333333333333,
              "#9c179e"
             ],
             [
              0.4444444444444444,
              "#bd3786"
             ],
             [
              0.5555555555555556,
              "#d8576b"
             ],
             [
              0.6666666666666666,
              "#ed7953"
             ],
             [
              0.7777777777777778,
              "#fb9f3a"
             ],
             [
              0.8888888888888888,
              "#fdca26"
             ],
             [
              1,
              "#f0f921"
             ]
            ],
            "type": "heatmap"
           }
          ],
          "heatmapgl": [
           {
            "colorbar": {
             "outlinewidth": 0,
             "ticks": ""
            },
            "colorscale": [
             [
              0,
              "#0d0887"
             ],
             [
              0.1111111111111111,
              "#46039f"
             ],
             [
              0.2222222222222222,
              "#7201a8"
             ],
             [
              0.3333333333333333,
              "#9c179e"
             ],
             [
              0.4444444444444444,
              "#bd3786"
             ],
             [
              0.5555555555555556,
              "#d8576b"
             ],
             [
              0.6666666666666666,
              "#ed7953"
             ],
             [
              0.7777777777777778,
              "#fb9f3a"
             ],
             [
              0.8888888888888888,
              "#fdca26"
             ],
             [
              1,
              "#f0f921"
             ]
            ],
            "type": "heatmapgl"
           }
          ],
          "histogram": [
           {
            "marker": {
             "colorbar": {
              "outlinewidth": 0,
              "ticks": ""
             }
            },
            "type": "histogram"
           }
          ],
          "histogram2d": [
           {
            "colorbar": {
             "outlinewidth": 0,
             "ticks": ""
            },
            "colorscale": [
             [
              0,
              "#0d0887"
             ],
             [
              0.1111111111111111,
              "#46039f"
             ],
             [
              0.2222222222222222,
              "#7201a8"
             ],
             [
              0.3333333333333333,
              "#9c179e"
             ],
             [
              0.4444444444444444,
              "#bd3786"
             ],
             [
              0.5555555555555556,
              "#d8576b"
             ],
             [
              0.6666666666666666,
              "#ed7953"
             ],
             [
              0.7777777777777778,
              "#fb9f3a"
             ],
             [
              0.8888888888888888,
              "#fdca26"
             ],
             [
              1,
              "#f0f921"
             ]
            ],
            "type": "histogram2d"
           }
          ],
          "histogram2dcontour": [
           {
            "colorbar": {
             "outlinewidth": 0,
             "ticks": ""
            },
            "colorscale": [
             [
              0,
              "#0d0887"
             ],
             [
              0.1111111111111111,
              "#46039f"
             ],
             [
              0.2222222222222222,
              "#7201a8"
             ],
             [
              0.3333333333333333,
              "#9c179e"
             ],
             [
              0.4444444444444444,
              "#bd3786"
             ],
             [
              0.5555555555555556,
              "#d8576b"
             ],
             [
              0.6666666666666666,
              "#ed7953"
             ],
             [
              0.7777777777777778,
              "#fb9f3a"
             ],
             [
              0.8888888888888888,
              "#fdca26"
             ],
             [
              1,
              "#f0f921"
             ]
            ],
            "type": "histogram2dcontour"
           }
          ],
          "mesh3d": [
           {
            "colorbar": {
             "outlinewidth": 0,
             "ticks": ""
            },
            "type": "mesh3d"
           }
          ],
          "parcoords": [
           {
            "line": {
             "colorbar": {
              "outlinewidth": 0,
              "ticks": ""
             }
            },
            "type": "parcoords"
           }
          ],
          "pie": [
           {
            "automargin": true,
            "type": "pie"
           }
          ],
          "scatter": [
           {
            "marker": {
             "colorbar": {
              "outlinewidth": 0,
              "ticks": ""
             }
            },
            "type": "scatter"
           }
          ],
          "scatter3d": [
           {
            "line": {
             "colorbar": {
              "outlinewidth": 0,
              "ticks": ""
             }
            },
            "marker": {
             "colorbar": {
              "outlinewidth": 0,
              "ticks": ""
             }
            },
            "type": "scatter3d"
           }
          ],
          "scattercarpet": [
           {
            "marker": {
             "colorbar": {
              "outlinewidth": 0,
              "ticks": ""
             }
            },
            "type": "scattercarpet"
           }
          ],
          "scattergeo": [
           {
            "marker": {
             "colorbar": {
              "outlinewidth": 0,
              "ticks": ""
             }
            },
            "type": "scattergeo"
           }
          ],
          "scattergl": [
           {
            "marker": {
             "colorbar": {
              "outlinewidth": 0,
              "ticks": ""
             }
            },
            "type": "scattergl"
           }
          ],
          "scattermapbox": [
           {
            "marker": {
             "colorbar": {
              "outlinewidth": 0,
              "ticks": ""
             }
            },
            "type": "scattermapbox"
           }
          ],
          "scatterpolar": [
           {
            "marker": {
             "colorbar": {
              "outlinewidth": 0,
              "ticks": ""
             }
            },
            "type": "scatterpolar"
           }
          ],
          "scatterpolargl": [
           {
            "marker": {
             "colorbar": {
              "outlinewidth": 0,
              "ticks": ""
             }
            },
            "type": "scatterpolargl"
           }
          ],
          "scatterternary": [
           {
            "marker": {
             "colorbar": {
              "outlinewidth": 0,
              "ticks": ""
             }
            },
            "type": "scatterternary"
           }
          ],
          "surface": [
           {
            "colorbar": {
             "outlinewidth": 0,
             "ticks": ""
            },
            "colorscale": [
             [
              0,
              "#0d0887"
             ],
             [
              0.1111111111111111,
              "#46039f"
             ],
             [
              0.2222222222222222,
              "#7201a8"
             ],
             [
              0.3333333333333333,
              "#9c179e"
             ],
             [
              0.4444444444444444,
              "#bd3786"
             ],
             [
              0.5555555555555556,
              "#d8576b"
             ],
             [
              0.6666666666666666,
              "#ed7953"
             ],
             [
              0.7777777777777778,
              "#fb9f3a"
             ],
             [
              0.8888888888888888,
              "#fdca26"
             ],
             [
              1,
              "#f0f921"
             ]
            ],
            "type": "surface"
           }
          ],
          "table": [
           {
            "cells": {
             "fill": {
              "color": "#EBF0F8"
             },
             "line": {
              "color": "white"
             }
            },
            "header": {
             "fill": {
              "color": "#C8D4E3"
             },
             "line": {
              "color": "white"
             }
            },
            "type": "table"
           }
          ]
         },
         "layout": {
          "annotationdefaults": {
           "arrowcolor": "#2a3f5f",
           "arrowhead": 0,
           "arrowwidth": 1
          },
          "autotypenumbers": "strict",
          "coloraxis": {
           "colorbar": {
            "outlinewidth": 0,
            "ticks": ""
           }
          },
          "colorscale": {
           "diverging": [
            [
             0,
             "#8e0152"
            ],
            [
             0.1,
             "#c51b7d"
            ],
            [
             0.2,
             "#de77ae"
            ],
            [
             0.3,
             "#f1b6da"
            ],
            [
             0.4,
             "#fde0ef"
            ],
            [
             0.5,
             "#f7f7f7"
            ],
            [
             0.6,
             "#e6f5d0"
            ],
            [
             0.7,
             "#b8e186"
            ],
            [
             0.8,
             "#7fbc41"
            ],
            [
             0.9,
             "#4d9221"
            ],
            [
             1,
             "#276419"
            ]
           ],
           "sequential": [
            [
             0,
             "#0d0887"
            ],
            [
             0.1111111111111111,
             "#46039f"
            ],
            [
             0.2222222222222222,
             "#7201a8"
            ],
            [
             0.3333333333333333,
             "#9c179e"
            ],
            [
             0.4444444444444444,
             "#bd3786"
            ],
            [
             0.5555555555555556,
             "#d8576b"
            ],
            [
             0.6666666666666666,
             "#ed7953"
            ],
            [
             0.7777777777777778,
             "#fb9f3a"
            ],
            [
             0.8888888888888888,
             "#fdca26"
            ],
            [
             1,
             "#f0f921"
            ]
           ],
           "sequentialminus": [
            [
             0,
             "#0d0887"
            ],
            [
             0.1111111111111111,
             "#46039f"
            ],
            [
             0.2222222222222222,
             "#7201a8"
            ],
            [
             0.3333333333333333,
             "#9c179e"
            ],
            [
             0.4444444444444444,
             "#bd3786"
            ],
            [
             0.5555555555555556,
             "#d8576b"
            ],
            [
             0.6666666666666666,
             "#ed7953"
            ],
            [
             0.7777777777777778,
             "#fb9f3a"
            ],
            [
             0.8888888888888888,
             "#fdca26"
            ],
            [
             1,
             "#f0f921"
            ]
           ]
          },
          "colorway": [
           "#636efa",
           "#EF553B",
           "#00cc96",
           "#ab63fa",
           "#FFA15A",
           "#19d3f3",
           "#FF6692",
           "#B6E880",
           "#FF97FF",
           "#FECB52"
          ],
          "font": {
           "color": "#2a3f5f"
          },
          "geo": {
           "bgcolor": "white",
           "lakecolor": "white",
           "landcolor": "#E5ECF6",
           "showlakes": true,
           "showland": true,
           "subunitcolor": "white"
          },
          "hoverlabel": {
           "align": "left"
          },
          "hovermode": "closest",
          "mapbox": {
           "style": "light"
          },
          "paper_bgcolor": "white",
          "plot_bgcolor": "#E5ECF6",
          "polar": {
           "angularaxis": {
            "gridcolor": "white",
            "linecolor": "white",
            "ticks": ""
           },
           "bgcolor": "#E5ECF6",
           "radialaxis": {
            "gridcolor": "white",
            "linecolor": "white",
            "ticks": ""
           }
          },
          "scene": {
           "xaxis": {
            "backgroundcolor": "#E5ECF6",
            "gridcolor": "white",
            "gridwidth": 2,
            "linecolor": "white",
            "showbackground": true,
            "ticks": "",
            "zerolinecolor": "white"
           },
           "yaxis": {
            "backgroundcolor": "#E5ECF6",
            "gridcolor": "white",
            "gridwidth": 2,
            "linecolor": "white",
            "showbackground": true,
            "ticks": "",
            "zerolinecolor": "white"
           },
           "zaxis": {
            "backgroundcolor": "#E5ECF6",
            "gridcolor": "white",
            "gridwidth": 2,
            "linecolor": "white",
            "showbackground": true,
            "ticks": "",
            "zerolinecolor": "white"
           }
          },
          "shapedefaults": {
           "line": {
            "color": "#2a3f5f"
           }
          },
          "ternary": {
           "aaxis": {
            "gridcolor": "white",
            "linecolor": "white",
            "ticks": ""
           },
           "baxis": {
            "gridcolor": "white",
            "linecolor": "white",
            "ticks": ""
           },
           "bgcolor": "#E5ECF6",
           "caxis": {
            "gridcolor": "white",
            "linecolor": "white",
            "ticks": ""
           }
          },
          "title": {
           "x": 0.05
          },
          "xaxis": {
           "automargin": true,
           "gridcolor": "white",
           "linecolor": "white",
           "ticks": "",
           "title": {
            "standoff": 15
           },
           "zerolinecolor": "white",
           "zerolinewidth": 2
          },
          "yaxis": {
           "automargin": true,
           "gridcolor": "white",
           "linecolor": "white",
           "ticks": "",
           "title": {
            "standoff": 15
           },
           "zerolinecolor": "white",
           "zerolinewidth": 2
          }
         }
        }
       }
      }
     },
     "metadata": {}
    }
   ],
   "source": [
    "def check_in_box(box, point):\n",
    "    for i, v in enumerate(point):\n",
    "        if v < box[0][i] or v > box[1][i]:\n",
    "            return False\n",
    "    return True\n",
    "    \n",
    "groups = {}\n",
    "box = []\n",
    "leaves = regressor.apply(reg_x)\n",
    "for i,l in enumerate(leaves):\n",
    "    if l not in groups:\n",
    "        groups[l] = {\"coors\": [reg_x[i]], \"tot_dis\": np.array(reg_y[i]), \"cnt\": 1}\n",
    "    else:\n",
    "        groups[l][\"coors\"].append(reg_x[i])\n",
    "        groups[l][\"tot_dis\"] += reg_y[i]\n",
    "        groups[l][\"cnt\"] += 1\n",
    "for g, points in groups.items():\n",
    "    box.append({})\n",
    "    box[-1][\"box\"] = bounding_box(points[\"coors\"])\n",
    "    box[-1][\"dis\"] = points[\"tot_dis\"] / points[\"cnt\"] \n",
    "\n",
    "\n",
    "on_rate_group = np.full(ctx_info.get_ctx_space_shape(), -0.1)\n",
    "for i in range(ctx_info.get_ctx_space_shape()[0]):\n",
    "    for j in range(ctx_info.get_ctx_space_shape()[1]):\n",
    "        test = False\n",
    "        for b in box:\n",
    "            if check_in_box(b[\"box\"], [i,j]):\n",
    "                test = True\n",
    "                on_rate_group[i,j] = b[\"dis\"][0]\n",
    "                break\n",
    "        if not test:\n",
    "            print((i,j))\n",
    "fig = go.Figure(data=go.Heatmap(z=np.transpose(on_rate_group)))\n",
    "fig.show()"
   ]
  },
  {
   "cell_type": "code",
   "execution_count": 18,
   "metadata": {
    "tags": []
   },
   "outputs": [
    {
     "output_type": "display_data",
     "data": {
      "application/vnd.plotly.v1+json": {
       "config": {
        "plotlyServerURL": "https://plot.ly"
       },
       "data": [
        {
         "mode": "lines+markers",
         "type": "scatter",
         "x": [
          0,
          1.6951165710233753e-9,
          3.1261786974002587e-9,
          4.222641135976224e-9,
          8.679651314292758e-9,
          1.6024501225902664e-8,
          2.8140796381692215e-8,
          4.334306677397124e-8,
          5.204687412296979e-8,
          1.6651529379957444e-7,
          3.645114047485957e-7,
          0.0000010112172502816108,
          0.000001042335918999606,
          0.0000013732207338707928,
          0.0000014180121380455922,
          0.000001595437114543237,
          0.0000016542031948169556,
          0.0000020878302861605467,
          0.0000022081584632396698,
          0.0000025804625385803878,
          0.0000028936030765006666,
          0.0000029040191939946963,
          0.000003521053809749865,
          0.000003801274471552592,
          0.000003920174456359839,
          0.000004501776309593128,
          0.000004702768173478451,
          0.000005168540099083388,
          0.00000534801137505918,
          0.00000553234244166636,
          0.00000560208094453125,
          0.000005872110664036475,
          0.000005875231150761184,
          0.0000060275758223229985,
          0.000006112147759403649,
          0.000006259395770490181,
          0.000006325095919310334,
          0.000006663229430806664,
          0.000006874119862502288,
          0.000006942288691496482,
          0.0000070484884691426615,
          0.0000070975114672334546,
          0.000007172110400149599,
          0.000007382014913665125,
          0.000007449710042744627,
          0.00000790233382756257,
          0.000008134328078169436,
          0.00000817964198526241,
          0.000009548250350969326,
          0.000009597805740440122,
          0.000011150879894017241,
          0.000011673967140532756,
          0.000012049876728245052,
          0.000012427600903094429,
          0.000013145413053563623,
          0.000013298988923293819,
          0.00001337248668424641,
          0.000013888210618939183,
          0.000014120351362672187,
          0.000014783235047919893,
          0.000014905121701611605,
          0.00001565631108808365,
          0.000015973816111673427,
          0.00001679401744824493,
          0.000017606295052688798,
          0.00001803163481444094,
          0.00001859000825345677,
          0.000020116951751499953,
          0.000020579562330999267,
          0.000020604101822214405,
          0.000020708279460008227,
          0.000020953898406170232,
          0.000021007334917238003,
          0.00002120732676843346,
          0.000021594889183407775,
          0.000023152623764136288,
          0.000023915408197945145,
          0.000023960620937468582,
          0.000026713310193033894,
          0.0000278193250287422,
          0.000029249660312651238,
          0.000029537054956710117,
          0.000029879657823968478,
          0.00003138795226663003,
          0.00003150603516854488,
          0.0000350444149925632,
          0.00003714608611737247,
          0.00003786090620495819,
          0.00003860452400649552,
          0.00003877199804922355,
          0.00004825583602509335,
          0.00004848689955147866,
          0.00005242636256777091,
          0.00005525237364277048,
          0.00006102701584916571,
          0.00006213655460009725,
          0.00006256079038386744,
          0.00006797837028843084,
          0.00006999412780377603,
          0.0000854595762520004,
          0.00008638090082419964,
          0.00013406417375751893,
          0.00020804322432570633,
          0.0002410485583807351,
          0.0003967333002934842,
          0.0004509089202261714,
          0.0004636523226492432,
          0.0007876255425849855,
          0.0012721077913291738
         ],
         "y": [
          0.0009413754590097856,
          0.0009413771541263566,
          0.000941380280305054,
          0.00094138450294619,
          0.0009413931825975043,
          0.0009414092070987302,
          0.000941437347895112,
          0.000941480690961886,
          0.000941532737836009,
          0.0009416992531298086,
          0.0009420637645345572,
          0.0009430749817848389,
          0.0009441173177038385,
          0.0009454905384377092,
          0.0009483265627138005,
          0.0009499219998283437,
          0.0009532304062179776,
          0.0009553182365041381,
          0.0009575263949673778,
          0.0009601068575059582,
          0.0009630004605824589,
          0.0009688084989704482,
          0.0009723295527801981,
          0.0009761308272517507,
          0.0009800510017081104,
          0.0009845527780177035,
          0.0009939583143646605,
          0.0009991268544637438,
          0.001004474865838803,
          0.0010100072082804693,
          0.001021211370169532,
          0.0010270834808335683,
          0.0010388339431350907,
          0.0010569166706020598,
          0.001069140966120867,
          0.0010754003618913572,
          0.0010817254578106676,
          0.0010883886872414743,
          0.001102136926966479,
          0.0011090792156579754,
          0.0011302246810654035,
          0.001151517215467104,
          0.0011586893258672536,
          0.0011660713407809188,
          0.0011735210508236633,
          0.0011814233846512258,
          0.0011895577127293952,
          0.0011977373547146575,
          0.001207285605065627,
          0.0012264812165465073,
          0.0012376320964405244,
          0.0012493060635810572,
          0.0012613559403093022,
          0.0012986387430185854,
          0.0013249295691257126,
          0.0013515275469723003,
          0.001378272520340793,
          0.0014338253628165497,
          0.001462066065541894,
          0.0015211990057335738,
          0.001551009249136797,
          0.001597978182401048,
          0.0016139519985127213,
          0.0016307460159609662,
          0.0017011711961717215,
          0.0017372344658006034,
          0.0017558244740540601,
          0.00179605837755706,
          0.0018166379398880592,
          0.001857846143532488,
          0.0019199709819125127,
          0.0019409248803186829,
          0.0019829395501531587,
          0.0020677688572268925,
          0.0020893637464103002,
          0.002135668993938573,
          0.002183499810334463,
          0.0022074604312719314,
          0.002260887051657999,
          0.0022887063766867414,
          0.0023179560369993926,
          0.0023770301469128127,
          0.002466669120384718,
          0.0025294450249179782,
          0.002592457095255068,
          0.0026975903402327575,
          0.0028090285985848747,
          0.0029983331296096656,
          0.0031141467016291523,
          0.0033080066918752702,
          0.0033562625279003637,
          0.003453236327003321,
          0.0035580890521388626,
          0.0037790985467099445,
          0.004023206610106607,
          0.004085343164706705,
          0.004147903955090572,
          0.004215882325379003,
          0.004355870580986555,
          0.004441330157238556,
          0.004786853760535354,
          0.004920917934292873,
          0.005128961158618579,
          0.005370009716999314,
          0.005766743017292799,
          0.00621765193751897,
          0.009926870518712915,
          0.015440249316807814,
          0.01671235710813699
         ]
        }
       ],
       "layout": {
        "template": {
         "data": {
          "bar": [
           {
            "error_x": {
             "color": "#2a3f5f"
            },
            "error_y": {
             "color": "#2a3f5f"
            },
            "marker": {
             "line": {
              "color": "#E5ECF6",
              "width": 0.5
             }
            },
            "type": "bar"
           }
          ],
          "barpolar": [
           {
            "marker": {
             "line": {
              "color": "#E5ECF6",
              "width": 0.5
             }
            },
            "type": "barpolar"
           }
          ],
          "carpet": [
           {
            "aaxis": {
             "endlinecolor": "#2a3f5f",
             "gridcolor": "white",
             "linecolor": "white",
             "minorgridcolor": "white",
             "startlinecolor": "#2a3f5f"
            },
            "baxis": {
             "endlinecolor": "#2a3f5f",
             "gridcolor": "white",
             "linecolor": "white",
             "minorgridcolor": "white",
             "startlinecolor": "#2a3f5f"
            },
            "type": "carpet"
           }
          ],
          "choropleth": [
           {
            "colorbar": {
             "outlinewidth": 0,
             "ticks": ""
            },
            "type": "choropleth"
           }
          ],
          "contour": [
           {
            "colorbar": {
             "outlinewidth": 0,
             "ticks": ""
            },
            "colorscale": [
             [
              0,
              "#0d0887"
             ],
             [
              0.1111111111111111,
              "#46039f"
             ],
             [
              0.2222222222222222,
              "#7201a8"
             ],
             [
              0.3333333333333333,
              "#9c179e"
             ],
             [
              0.4444444444444444,
              "#bd3786"
             ],
             [
              0.5555555555555556,
              "#d8576b"
             ],
             [
              0.6666666666666666,
              "#ed7953"
             ],
             [
              0.7777777777777778,
              "#fb9f3a"
             ],
             [
              0.8888888888888888,
              "#fdca26"
             ],
             [
              1,
              "#f0f921"
             ]
            ],
            "type": "contour"
           }
          ],
          "contourcarpet": [
           {
            "colorbar": {
             "outlinewidth": 0,
             "ticks": ""
            },
            "type": "contourcarpet"
           }
          ],
          "heatmap": [
           {
            "colorbar": {
             "outlinewidth": 0,
             "ticks": ""
            },
            "colorscale": [
             [
              0,
              "#0d0887"
             ],
             [
              0.1111111111111111,
              "#46039f"
             ],
             [
              0.2222222222222222,
              "#7201a8"
             ],
             [
              0.3333333333333333,
              "#9c179e"
             ],
             [
              0.4444444444444444,
              "#bd3786"
             ],
             [
              0.5555555555555556,
              "#d8576b"
             ],
             [
              0.6666666666666666,
              "#ed7953"
             ],
             [
              0.7777777777777778,
              "#fb9f3a"
             ],
             [
              0.8888888888888888,
              "#fdca26"
             ],
             [
              1,
              "#f0f921"
             ]
            ],
            "type": "heatmap"
           }
          ],
          "heatmapgl": [
           {
            "colorbar": {
             "outlinewidth": 0,
             "ticks": ""
            },
            "colorscale": [
             [
              0,
              "#0d0887"
             ],
             [
              0.1111111111111111,
              "#46039f"
             ],
             [
              0.2222222222222222,
              "#7201a8"
             ],
             [
              0.3333333333333333,
              "#9c179e"
             ],
             [
              0.4444444444444444,
              "#bd3786"
             ],
             [
              0.5555555555555556,
              "#d8576b"
             ],
             [
              0.6666666666666666,
              "#ed7953"
             ],
             [
              0.7777777777777778,
              "#fb9f3a"
             ],
             [
              0.8888888888888888,
              "#fdca26"
             ],
             [
              1,
              "#f0f921"
             ]
            ],
            "type": "heatmapgl"
           }
          ],
          "histogram": [
           {
            "marker": {
             "colorbar": {
              "outlinewidth": 0,
              "ticks": ""
             }
            },
            "type": "histogram"
           }
          ],
          "histogram2d": [
           {
            "colorbar": {
             "outlinewidth": 0,
             "ticks": ""
            },
            "colorscale": [
             [
              0,
              "#0d0887"
             ],
             [
              0.1111111111111111,
              "#46039f"
             ],
             [
              0.2222222222222222,
              "#7201a8"
             ],
             [
              0.3333333333333333,
              "#9c179e"
             ],
             [
              0.4444444444444444,
              "#bd3786"
             ],
             [
              0.5555555555555556,
              "#d8576b"
             ],
             [
              0.6666666666666666,
              "#ed7953"
             ],
             [
              0.7777777777777778,
              "#fb9f3a"
             ],
             [
              0.8888888888888888,
              "#fdca26"
             ],
             [
              1,
              "#f0f921"
             ]
            ],
            "type": "histogram2d"
           }
          ],
          "histogram2dcontour": [
           {
            "colorbar": {
             "outlinewidth": 0,
             "ticks": ""
            },
            "colorscale": [
             [
              0,
              "#0d0887"
             ],
             [
              0.1111111111111111,
              "#46039f"
             ],
             [
              0.2222222222222222,
              "#7201a8"
             ],
             [
              0.3333333333333333,
              "#9c179e"
             ],
             [
              0.4444444444444444,
              "#bd3786"
             ],
             [
              0.5555555555555556,
              "#d8576b"
             ],
             [
              0.6666666666666666,
              "#ed7953"
             ],
             [
              0.7777777777777778,
              "#fb9f3a"
             ],
             [
              0.8888888888888888,
              "#fdca26"
             ],
             [
              1,
              "#f0f921"
             ]
            ],
            "type": "histogram2dcontour"
           }
          ],
          "mesh3d": [
           {
            "colorbar": {
             "outlinewidth": 0,
             "ticks": ""
            },
            "type": "mesh3d"
           }
          ],
          "parcoords": [
           {
            "line": {
             "colorbar": {
              "outlinewidth": 0,
              "ticks": ""
             }
            },
            "type": "parcoords"
           }
          ],
          "pie": [
           {
            "automargin": true,
            "type": "pie"
           }
          ],
          "scatter": [
           {
            "marker": {
             "colorbar": {
              "outlinewidth": 0,
              "ticks": ""
             }
            },
            "type": "scatter"
           }
          ],
          "scatter3d": [
           {
            "line": {
             "colorbar": {
              "outlinewidth": 0,
              "ticks": ""
             }
            },
            "marker": {
             "colorbar": {
              "outlinewidth": 0,
              "ticks": ""
             }
            },
            "type": "scatter3d"
           }
          ],
          "scattercarpet": [
           {
            "marker": {
             "colorbar": {
              "outlinewidth": 0,
              "ticks": ""
             }
            },
            "type": "scattercarpet"
           }
          ],
          "scattergeo": [
           {
            "marker": {
             "colorbar": {
              "outlinewidth": 0,
              "ticks": ""
             }
            },
            "type": "scattergeo"
           }
          ],
          "scattergl": [
           {
            "marker": {
             "colorbar": {
              "outlinewidth": 0,
              "ticks": ""
             }
            },
            "type": "scattergl"
           }
          ],
          "scattermapbox": [
           {
            "marker": {
             "colorbar": {
              "outlinewidth": 0,
              "ticks": ""
             }
            },
            "type": "scattermapbox"
           }
          ],
          "scatterpolar": [
           {
            "marker": {
             "colorbar": {
              "outlinewidth": 0,
              "ticks": ""
             }
            },
            "type": "scatterpolar"
           }
          ],
          "scatterpolargl": [
           {
            "marker": {
             "colorbar": {
              "outlinewidth": 0,
              "ticks": ""
             }
            },
            "type": "scatterpolargl"
           }
          ],
          "scatterternary": [
           {
            "marker": {
             "colorbar": {
              "outlinewidth": 0,
              "ticks": ""
             }
            },
            "type": "scatterternary"
           }
          ],
          "surface": [
           {
            "colorbar": {
             "outlinewidth": 0,
             "ticks": ""
            },
            "colorscale": [
             [
              0,
              "#0d0887"
             ],
             [
              0.1111111111111111,
              "#46039f"
             ],
             [
              0.2222222222222222,
              "#7201a8"
             ],
             [
              0.3333333333333333,
              "#9c179e"
             ],
             [
              0.4444444444444444,
              "#bd3786"
             ],
             [
              0.5555555555555556,
              "#d8576b"
             ],
             [
              0.6666666666666666,
              "#ed7953"
             ],
             [
              0.7777777777777778,
              "#fb9f3a"
             ],
             [
              0.8888888888888888,
              "#fdca26"
             ],
             [
              1,
              "#f0f921"
             ]
            ],
            "type": "surface"
           }
          ],
          "table": [
           {
            "cells": {
             "fill": {
              "color": "#EBF0F8"
             },
             "line": {
              "color": "white"
             }
            },
            "header": {
             "fill": {
              "color": "#C8D4E3"
             },
             "line": {
              "color": "white"
             }
            },
            "type": "table"
           }
          ]
         },
         "layout": {
          "annotationdefaults": {
           "arrowcolor": "#2a3f5f",
           "arrowhead": 0,
           "arrowwidth": 1
          },
          "autotypenumbers": "strict",
          "coloraxis": {
           "colorbar": {
            "outlinewidth": 0,
            "ticks": ""
           }
          },
          "colorscale": {
           "diverging": [
            [
             0,
             "#8e0152"
            ],
            [
             0.1,
             "#c51b7d"
            ],
            [
             0.2,
             "#de77ae"
            ],
            [
             0.3,
             "#f1b6da"
            ],
            [
             0.4,
             "#fde0ef"
            ],
            [
             0.5,
             "#f7f7f7"
            ],
            [
             0.6,
             "#e6f5d0"
            ],
            [
             0.7,
             "#b8e186"
            ],
            [
             0.8,
             "#7fbc41"
            ],
            [
             0.9,
             "#4d9221"
            ],
            [
             1,
             "#276419"
            ]
           ],
           "sequential": [
            [
             0,
             "#0d0887"
            ],
            [
             0.1111111111111111,
             "#46039f"
            ],
            [
             0.2222222222222222,
             "#7201a8"
            ],
            [
             0.3333333333333333,
             "#9c179e"
            ],
            [
             0.4444444444444444,
             "#bd3786"
            ],
            [
             0.5555555555555556,
             "#d8576b"
            ],
            [
             0.6666666666666666,
             "#ed7953"
            ],
            [
             0.7777777777777778,
             "#fb9f3a"
            ],
            [
             0.8888888888888888,
             "#fdca26"
            ],
            [
             1,
             "#f0f921"
            ]
           ],
           "sequentialminus": [
            [
             0,
             "#0d0887"
            ],
            [
             0.1111111111111111,
             "#46039f"
            ],
            [
             0.2222222222222222,
             "#7201a8"
            ],
            [
             0.3333333333333333,
             "#9c179e"
            ],
            [
             0.4444444444444444,
             "#bd3786"
            ],
            [
             0.5555555555555556,
             "#d8576b"
            ],
            [
             0.6666666666666666,
             "#ed7953"
            ],
            [
             0.7777777777777778,
             "#fb9f3a"
            ],
            [
             0.8888888888888888,
             "#fdca26"
            ],
            [
             1,
             "#f0f921"
            ]
           ]
          },
          "colorway": [
           "#636efa",
           "#EF553B",
           "#00cc96",
           "#ab63fa",
           "#FFA15A",
           "#19d3f3",
           "#FF6692",
           "#B6E880",
           "#FF97FF",
           "#FECB52"
          ],
          "font": {
           "color": "#2a3f5f"
          },
          "geo": {
           "bgcolor": "white",
           "lakecolor": "white",
           "landcolor": "#E5ECF6",
           "showlakes": true,
           "showland": true,
           "subunitcolor": "white"
          },
          "hoverlabel": {
           "align": "left"
          },
          "hovermode": "closest",
          "mapbox": {
           "style": "light"
          },
          "paper_bgcolor": "white",
          "plot_bgcolor": "#E5ECF6",
          "polar": {
           "angularaxis": {
            "gridcolor": "white",
            "linecolor": "white",
            "ticks": ""
           },
           "bgcolor": "#E5ECF6",
           "radialaxis": {
            "gridcolor": "white",
            "linecolor": "white",
            "ticks": ""
           }
          },
          "scene": {
           "xaxis": {
            "backgroundcolor": "#E5ECF6",
            "gridcolor": "white",
            "gridwidth": 2,
            "linecolor": "white",
            "showbackground": true,
            "ticks": "",
            "zerolinecolor": "white"
           },
           "yaxis": {
            "backgroundcolor": "#E5ECF6",
            "gridcolor": "white",
            "gridwidth": 2,
            "linecolor": "white",
            "showbackground": true,
            "ticks": "",
            "zerolinecolor": "white"
           },
           "zaxis": {
            "backgroundcolor": "#E5ECF6",
            "gridcolor": "white",
            "gridwidth": 2,
            "linecolor": "white",
            "showbackground": true,
            "ticks": "",
            "zerolinecolor": "white"
           }
          },
          "shapedefaults": {
           "line": {
            "color": "#2a3f5f"
           }
          },
          "ternary": {
           "aaxis": {
            "gridcolor": "white",
            "linecolor": "white",
            "ticks": ""
           },
           "baxis": {
            "gridcolor": "white",
            "linecolor": "white",
            "ticks": ""
           },
           "bgcolor": "#E5ECF6",
           "caxis": {
            "gridcolor": "white",
            "linecolor": "white",
            "ticks": ""
           }
          },
          "title": {
           "x": 0.05
          },
          "xaxis": {
           "automargin": true,
           "gridcolor": "white",
           "linecolor": "white",
           "ticks": "",
           "title": {
            "standoff": 15
           },
           "zerolinecolor": "white",
           "zerolinewidth": 2
          },
          "yaxis": {
           "automargin": true,
           "gridcolor": "white",
           "linecolor": "white",
           "ticks": "",
           "title": {
            "standoff": 15
           },
           "zerolinecolor": "white",
           "zerolinewidth": 2
          }
         }
        }
       }
      }
     },
     "metadata": {}
    }
   ],
   "source": [
    "import matplotlib.pyplot as plt\n",
    "\n",
    "ccp_alphas, impurities = path.ccp_alphas, path.impurities\n",
    "fig = go.Figure(data=go.Scatter(x=ccp_alphas[:-1], y=impurities[:-1], mode='lines+markers'))\n",
    "fig.show()\n"
   ]
  },
  {
   "cell_type": "code",
   "execution_count": 19,
   "metadata": {},
   "outputs": [
    {
     "output_type": "display_data",
     "data": {
      "application/vnd.plotly.v1+json": {
       "config": {
        "plotlyServerURL": "https://plot.ly"
       },
       "data": [
        {
         "mode": "lines+markers",
         "type": "scatter",
         "x": [
          0,
          1.6951165710233753e-9,
          3.1261786974002587e-9,
          4.222641135976224e-9,
          8.679651314292758e-9,
          1.6024501225902664e-8,
          2.8140796381692215e-8,
          4.334306677397124e-8,
          5.204687412296979e-8,
          1.6651529379957444e-7,
          3.645114047485957e-7,
          0.0000010112172502816108,
          0.000001042335918999606,
          0.0000013732207338707928,
          0.0000014180121380455922,
          0.000001595437114543237,
          0.0000016542031948169556,
          0.0000020878302861605467,
          0.0000022081584632396698,
          0.0000025804625385803878,
          0.0000028936030765006666,
          0.0000029040191939946963,
          0.000003521053809749865,
          0.000003801274471552592,
          0.000003920174456359839,
          0.000004501776309593128,
          0.000004702768173478451,
          0.000005168540099083388,
          0.00000534801137505918,
          0.00000553234244166636,
          0.00000560208094453125,
          0.000005872110664036475,
          0.000005875231150761184,
          0.0000060275758223229985,
          0.000006112147759403649,
          0.000006259395770490181,
          0.000006325095919310334,
          0.000006663229430806664,
          0.000006874119862502288,
          0.000006942288691496482,
          0.0000070484884691426615,
          0.0000070975114672334546,
          0.000007172110400149599,
          0.000007382014913665125,
          0.000007449710042744627,
          0.00000790233382756257,
          0.000008134328078169436,
          0.00000817964198526241,
          0.000009548250350969326,
          0.000009597805740440122,
          0.000011150879894017241,
          0.000011673967140532756,
          0.000012049876728245052,
          0.000012427600903094429,
          0.000013145413053563623,
          0.000013298988923293819,
          0.00001337248668424641,
          0.000013888210618939183,
          0.000014120351362672187,
          0.000014783235047919893,
          0.000014905121701611605,
          0.00001565631108808365,
          0.000015973816111673427,
          0.00001679401744824493,
          0.000017606295052688798,
          0.00001803163481444094,
          0.00001859000825345677,
          0.000020116951751499953,
          0.000020579562330999267,
          0.000020604101822214405,
          0.000020708279460008227,
          0.000020953898406170232,
          0.000021007334917238003,
          0.00002120732676843346,
          0.000021594889183407775,
          0.000023152623764136288,
          0.000023915408197945145,
          0.000023960620937468582,
          0.000026713310193033894,
          0.0000278193250287422,
          0.000029249660312651238,
          0.000029537054956710117,
          0.000029879657823968478,
          0.00003138795226663003,
          0.00003150603516854488,
          0.0000350444149925632,
          0.00003714608611737247,
          0.00003786090620495819,
          0.00003860452400649552,
          0.00003877199804922355,
          0.00004825583602509335,
          0.00004848689955147866,
          0.00005242636256777091,
          0.00005525237364277048,
          0.00006102701584916571,
          0.00006213655460009725,
          0.00006256079038386744,
          0.00006797837028843084,
          0.00006999412780377603,
          0.0000854595762520004,
          0.00008638090082419964,
          0.00013406417375751893,
          0.00020804322432570633,
          0.0002410485583807351,
          0.0003967333002934842,
          0.0004509089202261714,
          0.0004636523226492432,
          0.0007876255425849855,
          0.0012721077913291738
         ],
         "xaxis": "x",
         "y": [
          202,
          201,
          200,
          199,
          198,
          197,
          196,
          195,
          194,
          193,
          192,
          191,
          190,
          189,
          187,
          186,
          184,
          183,
          182,
          181,
          180,
          178,
          177,
          176,
          175,
          174,
          172,
          171,
          170,
          169,
          167,
          166,
          166,
          164,
          159,
          158,
          158,
          156,
          156,
          153,
          150,
          147,
          146,
          145,
          145,
          143,
          142,
          142,
          140,
          138,
          138,
          136,
          135,
          132,
          132,
          128,
          126,
          122,
          120,
          120,
          114,
          111,
          110,
          109,
          109,
          103,
          103,
          100,
          99,
          97,
          97,
          94,
          91,
          87,
          86,
          86,
          82,
          81,
          81,
          78,
          77,
          75,
          72,
          70,
          68,
          68,
          62,
          57,
          54,
          49,
          49,
          46,
          44,
          40,
          36,
          36,
          34,
          33,
          33,
          30,
          30,
          26,
          25,
          24,
          22,
          21,
          13,
          13,
          5
         ],
         "yaxis": "y"
        },
        {
         "mode": "lines+markers",
         "type": "scatter",
         "x": [
          0,
          1.6951165710233753e-9,
          3.1261786974002587e-9,
          4.222641135976224e-9,
          8.679651314292758e-9,
          1.6024501225902664e-8,
          2.8140796381692215e-8,
          4.334306677397124e-8,
          5.204687412296979e-8,
          1.6651529379957444e-7,
          3.645114047485957e-7,
          0.0000010112172502816108,
          0.000001042335918999606,
          0.0000013732207338707928,
          0.0000014180121380455922,
          0.000001595437114543237,
          0.0000016542031948169556,
          0.0000020878302861605467,
          0.0000022081584632396698,
          0.0000025804625385803878,
          0.0000028936030765006666,
          0.0000029040191939946963,
          0.000003521053809749865,
          0.000003801274471552592,
          0.000003920174456359839,
          0.000004501776309593128,
          0.000004702768173478451,
          0.000005168540099083388,
          0.00000534801137505918,
          0.00000553234244166636,
          0.00000560208094453125,
          0.000005872110664036475,
          0.000005875231150761184,
          0.0000060275758223229985,
          0.000006112147759403649,
          0.000006259395770490181,
          0.000006325095919310334,
          0.000006663229430806664,
          0.000006874119862502288,
          0.000006942288691496482,
          0.0000070484884691426615,
          0.0000070975114672334546,
          0.000007172110400149599,
          0.000007382014913665125,
          0.000007449710042744627,
          0.00000790233382756257,
          0.000008134328078169436,
          0.00000817964198526241,
          0.000009548250350969326,
          0.000009597805740440122,
          0.000011150879894017241,
          0.000011673967140532756,
          0.000012049876728245052,
          0.000012427600903094429,
          0.000013145413053563623,
          0.000013298988923293819,
          0.00001337248668424641,
          0.000013888210618939183,
          0.000014120351362672187,
          0.000014783235047919893,
          0.000014905121701611605,
          0.00001565631108808365,
          0.000015973816111673427,
          0.00001679401744824493,
          0.000017606295052688798,
          0.00001803163481444094,
          0.00001859000825345677,
          0.000020116951751499953,
          0.000020579562330999267,
          0.000020604101822214405,
          0.000020708279460008227,
          0.000020953898406170232,
          0.000021007334917238003,
          0.00002120732676843346,
          0.000021594889183407775,
          0.000023152623764136288,
          0.000023915408197945145,
          0.000023960620937468582,
          0.000026713310193033894,
          0.0000278193250287422,
          0.000029249660312651238,
          0.000029537054956710117,
          0.000029879657823968478,
          0.00003138795226663003,
          0.00003150603516854488,
          0.0000350444149925632,
          0.00003714608611737247,
          0.00003786090620495819,
          0.00003860452400649552,
          0.00003877199804922355,
          0.00004825583602509335,
          0.00004848689955147866,
          0.00005242636256777091,
          0.00005525237364277048,
          0.00006102701584916571,
          0.00006213655460009725,
          0.00006256079038386744,
          0.00006797837028843084,
          0.00006999412780377603,
          0.0000854595762520004,
          0.00008638090082419964,
          0.00013406417375751893,
          0.00020804322432570633,
          0.0002410485583807351,
          0.0003967333002934842,
          0.0004509089202261714,
          0.0004636523226492432,
          0.0007876255425849855,
          0.0012721077913291738
         ],
         "xaxis": "x2",
         "y": [
          28,
          28,
          28,
          28,
          28,
          28,
          28,
          28,
          28,
          28,
          28,
          28,
          28,
          28,
          28,
          28,
          28,
          28,
          28,
          28,
          28,
          28,
          28,
          28,
          28,
          28,
          28,
          28,
          28,
          28,
          28,
          28,
          28,
          28,
          28,
          28,
          28,
          28,
          28,
          27,
          27,
          27,
          27,
          27,
          27,
          27,
          27,
          27,
          27,
          27,
          27,
          27,
          27,
          27,
          27,
          27,
          27,
          27,
          27,
          27,
          27,
          27,
          27,
          27,
          27,
          27,
          27,
          27,
          27,
          27,
          27,
          27,
          25,
          25,
          25,
          25,
          25,
          25,
          25,
          25,
          25,
          25,
          25,
          25,
          25,
          25,
          25,
          25,
          25,
          25,
          25,
          25,
          25,
          25,
          25,
          25,
          25,
          25,
          25,
          24,
          24,
          24,
          23,
          22,
          21,
          20,
          12,
          12,
          4
         ],
         "yaxis": "y2"
        }
       ],
       "layout": {
        "template": {
         "data": {
          "bar": [
           {
            "error_x": {
             "color": "#2a3f5f"
            },
            "error_y": {
             "color": "#2a3f5f"
            },
            "marker": {
             "line": {
              "color": "#E5ECF6",
              "width": 0.5
             }
            },
            "type": "bar"
           }
          ],
          "barpolar": [
           {
            "marker": {
             "line": {
              "color": "#E5ECF6",
              "width": 0.5
             }
            },
            "type": "barpolar"
           }
          ],
          "carpet": [
           {
            "aaxis": {
             "endlinecolor": "#2a3f5f",
             "gridcolor": "white",
             "linecolor": "white",
             "minorgridcolor": "white",
             "startlinecolor": "#2a3f5f"
            },
            "baxis": {
             "endlinecolor": "#2a3f5f",
             "gridcolor": "white",
             "linecolor": "white",
             "minorgridcolor": "white",
             "startlinecolor": "#2a3f5f"
            },
            "type": "carpet"
           }
          ],
          "choropleth": [
           {
            "colorbar": {
             "outlinewidth": 0,
             "ticks": ""
            },
            "type": "choropleth"
           }
          ],
          "contour": [
           {
            "colorbar": {
             "outlinewidth": 0,
             "ticks": ""
            },
            "colorscale": [
             [
              0,
              "#0d0887"
             ],
             [
              0.1111111111111111,
              "#46039f"
             ],
             [
              0.2222222222222222,
              "#7201a8"
             ],
             [
              0.3333333333333333,
              "#9c179e"
             ],
             [
              0.4444444444444444,
              "#bd3786"
             ],
             [
              0.5555555555555556,
              "#d8576b"
             ],
             [
              0.6666666666666666,
              "#ed7953"
             ],
             [
              0.7777777777777778,
              "#fb9f3a"
             ],
             [
              0.8888888888888888,
              "#fdca26"
             ],
             [
              1,
              "#f0f921"
             ]
            ],
            "type": "contour"
           }
          ],
          "contourcarpet": [
           {
            "colorbar": {
             "outlinewidth": 0,
             "ticks": ""
            },
            "type": "contourcarpet"
           }
          ],
          "heatmap": [
           {
            "colorbar": {
             "outlinewidth": 0,
             "ticks": ""
            },
            "colorscale": [
             [
              0,
              "#0d0887"
             ],
             [
              0.1111111111111111,
              "#46039f"
             ],
             [
              0.2222222222222222,
              "#7201a8"
             ],
             [
              0.3333333333333333,
              "#9c179e"
             ],
             [
              0.4444444444444444,
              "#bd3786"
             ],
             [
              0.5555555555555556,
              "#d8576b"
             ],
             [
              0.6666666666666666,
              "#ed7953"
             ],
             [
              0.7777777777777778,
              "#fb9f3a"
             ],
             [
              0.8888888888888888,
              "#fdca26"
             ],
             [
              1,
              "#f0f921"
             ]
            ],
            "type": "heatmap"
           }
          ],
          "heatmapgl": [
           {
            "colorbar": {
             "outlinewidth": 0,
             "ticks": ""
            },
            "colorscale": [
             [
              0,
              "#0d0887"
             ],
             [
              0.1111111111111111,
              "#46039f"
             ],
             [
              0.2222222222222222,
              "#7201a8"
             ],
             [
              0.3333333333333333,
              "#9c179e"
             ],
             [
              0.4444444444444444,
              "#bd3786"
             ],
             [
              0.5555555555555556,
              "#d8576b"
             ],
             [
              0.6666666666666666,
              "#ed7953"
             ],
             [
              0.7777777777777778,
              "#fb9f3a"
             ],
             [
              0.8888888888888888,
              "#fdca26"
             ],
             [
              1,
              "#f0f921"
             ]
            ],
            "type": "heatmapgl"
           }
          ],
          "histogram": [
           {
            "marker": {
             "colorbar": {
              "outlinewidth": 0,
              "ticks": ""
             }
            },
            "type": "histogram"
           }
          ],
          "histogram2d": [
           {
            "colorbar": {
             "outlinewidth": 0,
             "ticks": ""
            },
            "colorscale": [
             [
              0,
              "#0d0887"
             ],
             [
              0.1111111111111111,
              "#46039f"
             ],
             [
              0.2222222222222222,
              "#7201a8"
             ],
             [
              0.3333333333333333,
              "#9c179e"
             ],
             [
              0.4444444444444444,
              "#bd3786"
             ],
             [
              0.5555555555555556,
              "#d8576b"
             ],
             [
              0.6666666666666666,
              "#ed7953"
             ],
             [
              0.7777777777777778,
              "#fb9f3a"
             ],
             [
              0.8888888888888888,
              "#fdca26"
             ],
             [
              1,
              "#f0f921"
             ]
            ],
            "type": "histogram2d"
           }
          ],
          "histogram2dcontour": [
           {
            "colorbar": {
             "outlinewidth": 0,
             "ticks": ""
            },
            "colorscale": [
             [
              0,
              "#0d0887"
             ],
             [
              0.1111111111111111,
              "#46039f"
             ],
             [
              0.2222222222222222,
              "#7201a8"
             ],
             [
              0.3333333333333333,
              "#9c179e"
             ],
             [
              0.4444444444444444,
              "#bd3786"
             ],
             [
              0.5555555555555556,
              "#d8576b"
             ],
             [
              0.6666666666666666,
              "#ed7953"
             ],
             [
              0.7777777777777778,
              "#fb9f3a"
             ],
             [
              0.8888888888888888,
              "#fdca26"
             ],
             [
              1,
              "#f0f921"
             ]
            ],
            "type": "histogram2dcontour"
           }
          ],
          "mesh3d": [
           {
            "colorbar": {
             "outlinewidth": 0,
             "ticks": ""
            },
            "type": "mesh3d"
           }
          ],
          "parcoords": [
           {
            "line": {
             "colorbar": {
              "outlinewidth": 0,
              "ticks": ""
             }
            },
            "type": "parcoords"
           }
          ],
          "pie": [
           {
            "automargin": true,
            "type": "pie"
           }
          ],
          "scatter": [
           {
            "marker": {
             "colorbar": {
              "outlinewidth": 0,
              "ticks": ""
             }
            },
            "type": "scatter"
           }
          ],
          "scatter3d": [
           {
            "line": {
             "colorbar": {
              "outlinewidth": 0,
              "ticks": ""
             }
            },
            "marker": {
             "colorbar": {
              "outlinewidth": 0,
              "ticks": ""
             }
            },
            "type": "scatter3d"
           }
          ],
          "scattercarpet": [
           {
            "marker": {
             "colorbar": {
              "outlinewidth": 0,
              "ticks": ""
             }
            },
            "type": "scattercarpet"
           }
          ],
          "scattergeo": [
           {
            "marker": {
             "colorbar": {
              "outlinewidth": 0,
              "ticks": ""
             }
            },
            "type": "scattergeo"
           }
          ],
          "scattergl": [
           {
            "marker": {
             "colorbar": {
              "outlinewidth": 0,
              "ticks": ""
             }
            },
            "type": "scattergl"
           }
          ],
          "scattermapbox": [
           {
            "marker": {
             "colorbar": {
              "outlinewidth": 0,
              "ticks": ""
             }
            },
            "type": "scattermapbox"
           }
          ],
          "scatterpolar": [
           {
            "marker": {
             "colorbar": {
              "outlinewidth": 0,
              "ticks": ""
             }
            },
            "type": "scatterpolar"
           }
          ],
          "scatterpolargl": [
           {
            "marker": {
             "colorbar": {
              "outlinewidth": 0,
              "ticks": ""
             }
            },
            "type": "scatterpolargl"
           }
          ],
          "scatterternary": [
           {
            "marker": {
             "colorbar": {
              "outlinewidth": 0,
              "ticks": ""
             }
            },
            "type": "scatterternary"
           }
          ],
          "surface": [
           {
            "colorbar": {
             "outlinewidth": 0,
             "ticks": ""
            },
            "colorscale": [
             [
              0,
              "#0d0887"
             ],
             [
              0.1111111111111111,
              "#46039f"
             ],
             [
              0.2222222222222222,
              "#7201a8"
             ],
             [
              0.3333333333333333,
              "#9c179e"
             ],
             [
              0.4444444444444444,
              "#bd3786"
             ],
             [
              0.5555555555555556,
              "#d8576b"
             ],
             [
              0.6666666666666666,
              "#ed7953"
             ],
             [
              0.7777777777777778,
              "#fb9f3a"
             ],
             [
              0.8888888888888888,
              "#fdca26"
             ],
             [
              1,
              "#f0f921"
             ]
            ],
            "type": "surface"
           }
          ],
          "table": [
           {
            "cells": {
             "fill": {
              "color": "#EBF0F8"
             },
             "line": {
              "color": "white"
             }
            },
            "header": {
             "fill": {
              "color": "#C8D4E3"
             },
             "line": {
              "color": "white"
             }
            },
            "type": "table"
           }
          ]
         },
         "layout": {
          "annotationdefaults": {
           "arrowcolor": "#2a3f5f",
           "arrowhead": 0,
           "arrowwidth": 1
          },
          "autotypenumbers": "strict",
          "coloraxis": {
           "colorbar": {
            "outlinewidth": 0,
            "ticks": ""
           }
          },
          "colorscale": {
           "diverging": [
            [
             0,
             "#8e0152"
            ],
            [
             0.1,
             "#c51b7d"
            ],
            [
             0.2,
             "#de77ae"
            ],
            [
             0.3,
             "#f1b6da"
            ],
            [
             0.4,
             "#fde0ef"
            ],
            [
             0.5,
             "#f7f7f7"
            ],
            [
             0.6,
             "#e6f5d0"
            ],
            [
             0.7,
             "#b8e186"
            ],
            [
             0.8,
             "#7fbc41"
            ],
            [
             0.9,
             "#4d9221"
            ],
            [
             1,
             "#276419"
            ]
           ],
           "sequential": [
            [
             0,
             "#0d0887"
            ],
            [
             0.1111111111111111,
             "#46039f"
            ],
            [
             0.2222222222222222,
             "#7201a8"
            ],
            [
             0.3333333333333333,
             "#9c179e"
            ],
            [
             0.4444444444444444,
             "#bd3786"
            ],
            [
             0.5555555555555556,
             "#d8576b"
            ],
            [
             0.6666666666666666,
             "#ed7953"
            ],
            [
             0.7777777777777778,
             "#fb9f3a"
            ],
            [
             0.8888888888888888,
             "#fdca26"
            ],
            [
             1,
             "#f0f921"
            ]
           ],
           "sequentialminus": [
            [
             0,
             "#0d0887"
            ],
            [
             0.1111111111111111,
             "#46039f"
            ],
            [
             0.2222222222222222,
             "#7201a8"
            ],
            [
             0.3333333333333333,
             "#9c179e"
            ],
            [
             0.4444444444444444,
             "#bd3786"
            ],
            [
             0.5555555555555556,
             "#d8576b"
            ],
            [
             0.6666666666666666,
             "#ed7953"
            ],
            [
             0.7777777777777778,
             "#fb9f3a"
            ],
            [
             0.8888888888888888,
             "#fdca26"
            ],
            [
             1,
             "#f0f921"
            ]
           ]
          },
          "colorway": [
           "#636efa",
           "#EF553B",
           "#00cc96",
           "#ab63fa",
           "#FFA15A",
           "#19d3f3",
           "#FF6692",
           "#B6E880",
           "#FF97FF",
           "#FECB52"
          ],
          "font": {
           "color": "#2a3f5f"
          },
          "geo": {
           "bgcolor": "white",
           "lakecolor": "white",
           "landcolor": "#E5ECF6",
           "showlakes": true,
           "showland": true,
           "subunitcolor": "white"
          },
          "hoverlabel": {
           "align": "left"
          },
          "hovermode": "closest",
          "mapbox": {
           "style": "light"
          },
          "paper_bgcolor": "white",
          "plot_bgcolor": "#E5ECF6",
          "polar": {
           "angularaxis": {
            "gridcolor": "white",
            "linecolor": "white",
            "ticks": ""
           },
           "bgcolor": "#E5ECF6",
           "radialaxis": {
            "gridcolor": "white",
            "linecolor": "white",
            "ticks": ""
           }
          },
          "scene": {
           "xaxis": {
            "backgroundcolor": "#E5ECF6",
            "gridcolor": "white",
            "gridwidth": 2,
            "linecolor": "white",
            "showbackground": true,
            "ticks": "",
            "zerolinecolor": "white"
           },
           "yaxis": {
            "backgroundcolor": "#E5ECF6",
            "gridcolor": "white",
            "gridwidth": 2,
            "linecolor": "white",
            "showbackground": true,
            "ticks": "",
            "zerolinecolor": "white"
           },
           "zaxis": {
            "backgroundcolor": "#E5ECF6",
            "gridcolor": "white",
            "gridwidth": 2,
            "linecolor": "white",
            "showbackground": true,
            "ticks": "",
            "zerolinecolor": "white"
           }
          },
          "shapedefaults": {
           "line": {
            "color": "#2a3f5f"
           }
          },
          "ternary": {
           "aaxis": {
            "gridcolor": "white",
            "linecolor": "white",
            "ticks": ""
           },
           "baxis": {
            "gridcolor": "white",
            "linecolor": "white",
            "ticks": ""
           },
           "bgcolor": "#E5ECF6",
           "caxis": {
            "gridcolor": "white",
            "linecolor": "white",
            "ticks": ""
           }
          },
          "title": {
           "x": 0.05
          },
          "xaxis": {
           "automargin": true,
           "gridcolor": "white",
           "linecolor": "white",
           "ticks": "",
           "title": {
            "standoff": 15
           },
           "zerolinecolor": "white",
           "zerolinewidth": 2
          },
          "yaxis": {
           "automargin": true,
           "gridcolor": "white",
           "linecolor": "white",
           "ticks": "",
           "title": {
            "standoff": 15
           },
           "zerolinecolor": "white",
           "zerolinewidth": 2
          }
         }
        },
        "xaxis": {
         "anchor": "y",
         "domain": [
          0,
          1
         ]
        },
        "xaxis2": {
         "anchor": "y2",
         "domain": [
          0,
          1
         ]
        },
        "yaxis": {
         "anchor": "x",
         "domain": [
          0.575,
          1
         ]
        },
        "yaxis2": {
         "anchor": "x2",
         "domain": [
          0,
          0.425
         ]
        }
       }
      }
     },
     "metadata": {}
    }
   ],
   "source": [
    "clfs = []\n",
    "for ccp_alpha in ccp_alphas:\n",
    "    clf = DecisionTreeRegressor(ccp_alpha=ccp_alpha, criterion=\"poisson\")\n",
    "    clf.fit(X_train, y_train)\n",
    "    clfs.append(clf)\n",
    "clfs = clfs[:-1]\n",
    "ccp_alphas = ccp_alphas[:-1]\n",
    "\n",
    "node_counts = [clf.get_n_leaves() for clf in clfs]\n",
    "depth = [clf.tree_.max_depth for clf in clfs]\n",
    "fig = make_subplots(rows=2, cols=1)\n",
    "fig.add_trace(\n",
    "    go.Scatter(x=ccp_alphas, y=node_counts, mode='lines+markers'),\n",
    "    row=1, col=1\n",
    ")\n",
    "\n",
    "fig.add_trace(\n",
    "    go.Scatter(x=ccp_alphas, y=depth, mode='lines+markers'),\n",
    "    row=2, col=1\n",
    ")\n"
   ]
  },
  {
   "cell_type": "code",
   "execution_count": 20,
   "metadata": {},
   "outputs": [
    {
     "output_type": "display_data",
     "data": {
      "application/vnd.plotly.v1+json": {
       "config": {
        "plotlyServerURL": "https://plot.ly"
       },
       "data": [
        {
         "mode": "lines+markers",
         "name": "train",
         "type": "scatter",
         "x": [
          0,
          1.6951165710233753e-9,
          3.1261786974002587e-9,
          4.222641135976224e-9,
          8.679651314292758e-9,
          1.6024501225902664e-8,
          2.8140796381692215e-8,
          4.334306677397124e-8,
          5.204687412296979e-8,
          1.6651529379957444e-7,
          3.645114047485957e-7,
          0.0000010112172502816108,
          0.000001042335918999606,
          0.0000013732207338707928,
          0.0000014180121380455922,
          0.000001595437114543237,
          0.0000016542031948169556,
          0.0000020878302861605467,
          0.0000022081584632396698,
          0.0000025804625385803878,
          0.0000028936030765006666,
          0.0000029040191939946963,
          0.000003521053809749865,
          0.000003801274471552592,
          0.000003920174456359839,
          0.000004501776309593128,
          0.000004702768173478451,
          0.000005168540099083388,
          0.00000534801137505918,
          0.00000553234244166636,
          0.00000560208094453125,
          0.000005872110664036475,
          0.000005875231150761184,
          0.0000060275758223229985,
          0.000006112147759403649,
          0.000006259395770490181,
          0.000006325095919310334,
          0.000006663229430806664,
          0.000006874119862502288,
          0.000006942288691496482,
          0.0000070484884691426615,
          0.0000070975114672334546,
          0.000007172110400149599,
          0.000007382014913665125,
          0.000007449710042744627,
          0.00000790233382756257,
          0.000008134328078169436,
          0.00000817964198526241,
          0.000009548250350969326,
          0.000009597805740440122,
          0.000011150879894017241,
          0.000011673967140532756,
          0.000012049876728245052,
          0.000012427600903094429,
          0.000013145413053563623,
          0.000013298988923293819,
          0.00001337248668424641,
          0.000013888210618939183,
          0.000014120351362672187,
          0.000014783235047919893,
          0.000014905121701611605,
          0.00001565631108808365,
          0.000015973816111673427,
          0.00001679401744824493,
          0.000017606295052688798,
          0.00001803163481444094,
          0.00001859000825345677,
          0.000020116951751499953,
          0.000020579562330999267,
          0.000020604101822214405,
          0.000020708279460008227,
          0.000020953898406170232,
          0.000021007334917238003,
          0.00002120732676843346,
          0.000021594889183407775,
          0.000023152623764136288,
          0.000023915408197945145,
          0.000023960620937468582,
          0.000026713310193033894,
          0.0000278193250287422,
          0.000029249660312651238,
          0.000029537054956710117,
          0.000029879657823968478,
          0.00003138795226663003,
          0.00003150603516854488,
          0.0000350444149925632,
          0.00003714608611737247,
          0.00003786090620495819,
          0.00003860452400649552,
          0.00003877199804922355,
          0.00004825583602509335,
          0.00004848689955147866,
          0.00005242636256777091,
          0.00005525237364277048,
          0.00006102701584916571,
          0.00006213655460009725,
          0.00006256079038386744,
          0.00006797837028843084,
          0.00006999412780377603,
          0.0000854595762520004,
          0.00008638090082419964,
          0.00013406417375751893,
          0.00020804322432570633,
          0.0002410485583807351,
          0.0003967333002934842,
          0.0004509089202261714,
          0.0004636523226492432,
          0.0007876255425849855,
          0.0012721077913291738
         ],
         "y": [
          0.9959625210987227,
          0.9959624956228152,
          0.995962404161996,
          0.9959622252156497,
          0.9959620536287698,
          0.9959614367314031,
          0.9959606133238079,
          0.9959523394229972,
          0.9959523112997473,
          0.9959425572375483,
          0.995915896192307,
          0.9958453285580431,
          0.995790050733503,
          0.9957526924259402,
          0.995703499165761,
          0.9956603469400481,
          0.995618993795886,
          0.9955821587633994,
          0.9954187627173932,
          0.9953181370754913,
          0.9950113905066132,
          0.994871440797502,
          0.9947695378797144,
          0.9944946494745925,
          0.9943459106129167,
          0.9942346601174735,
          0.9939833848249816,
          0.9938560340203902,
          0.9934017071135917,
          0.9932621544921079,
          0.9931022117929978,
          0.9930565596762193,
          0.9930565596762193,
          0.9923102749414991,
          0.9909486820603798,
          0.9907924153923888,
          0.9907924153923888,
          0.9904354875013833,
          0.9904354875013833,
          0.9878746701244299,
          0.9875247878859841,
          0.9856734922443179,
          0.9854320573545048,
          0.9852847889723786,
          0.9852847889723786,
          0.9848068889214897,
          0.9845541315341961,
          0.9845541315341961,
          0.9841365046725836,
          0.983581829785703,
          0.983581829785703,
          0.9814295560002062,
          0.9804910936858383,
          0.9784713383384037,
          0.9784713383384037,
          0.9753216185581276,
          0.9748164608481428,
          0.9736781032335273,
          0.9731450224659258,
          0.9731450224659258,
          0.9695213868576579,
          0.9669860553049947,
          0.9664782155964096,
          0.9661968658407529,
          0.9661968658407529,
          0.9639839965190202,
          0.9639839965190202,
          0.9623995277825865,
          0.9617731245333235,
          0.9597388151111823,
          0.9597388151111823,
          0.9586969185727893,
          0.9525680953596275,
          0.949868013679991,
          0.9492095443829541,
          0.9492095443829541,
          0.9475283023531522,
          0.9472491686300578,
          0.9472491686300578,
          0.9434686842865228,
          0.942706657822594,
          0.94128857929873,
          0.9399544250692088,
          0.9386995988474286,
          0.9372001204102451,
          0.9372001204102451,
          0.9288971390043759,
          0.924684983151044,
          0.9199829970700721,
          0.9105950622112501,
          0.9105950622112501,
          0.9054045997782039,
          0.9041604206455233,
          0.8914596154271411,
          0.8853981343778509,
          0.8853981343778509,
          0.882066802050224,
          0.8785234746277144,
          0.8785234746277144,
          0.8604823158701148,
          0.8604823158701148,
          0.8388807654880419,
          0.8208841345593246,
          0.7970073759435483,
          0.7464096268347928,
          0.7068923683155995,
          0.4923668015407461,
          0.4923668015407461,
          0.2816402455411564
         ]
        },
        {
         "mode": "lines+markers",
         "name": "test",
         "type": "scatter",
         "x": [
          0,
          1.6951165710233753e-9,
          3.1261786974002587e-9,
          4.222641135976224e-9,
          8.679651314292758e-9,
          1.6024501225902664e-8,
          2.8140796381692215e-8,
          4.334306677397124e-8,
          5.204687412296979e-8,
          1.6651529379957444e-7,
          3.645114047485957e-7,
          0.0000010112172502816108,
          0.000001042335918999606,
          0.0000013732207338707928,
          0.0000014180121380455922,
          0.000001595437114543237,
          0.0000016542031948169556,
          0.0000020878302861605467,
          0.0000022081584632396698,
          0.0000025804625385803878,
          0.0000028936030765006666,
          0.0000029040191939946963,
          0.000003521053809749865,
          0.000003801274471552592,
          0.000003920174456359839,
          0.000004501776309593128,
          0.000004702768173478451,
          0.000005168540099083388,
          0.00000534801137505918,
          0.00000553234244166636,
          0.00000560208094453125,
          0.000005872110664036475,
          0.000005875231150761184,
          0.0000060275758223229985,
          0.000006112147759403649,
          0.000006259395770490181,
          0.000006325095919310334,
          0.000006663229430806664,
          0.000006874119862502288,
          0.000006942288691496482,
          0.0000070484884691426615,
          0.0000070975114672334546,
          0.000007172110400149599,
          0.000007382014913665125,
          0.000007449710042744627,
          0.00000790233382756257,
          0.000008134328078169436,
          0.00000817964198526241,
          0.000009548250350969326,
          0.000009597805740440122,
          0.000011150879894017241,
          0.000011673967140532756,
          0.000012049876728245052,
          0.000012427600903094429,
          0.000013145413053563623,
          0.000013298988923293819,
          0.00001337248668424641,
          0.000013888210618939183,
          0.000014120351362672187,
          0.000014783235047919893,
          0.000014905121701611605,
          0.00001565631108808365,
          0.000015973816111673427,
          0.00001679401744824493,
          0.000017606295052688798,
          0.00001803163481444094,
          0.00001859000825345677,
          0.000020116951751499953,
          0.000020579562330999267,
          0.000020604101822214405,
          0.000020708279460008227,
          0.000020953898406170232,
          0.000021007334917238003,
          0.00002120732676843346,
          0.000021594889183407775,
          0.000023152623764136288,
          0.000023915408197945145,
          0.000023960620937468582,
          0.000026713310193033894,
          0.0000278193250287422,
          0.000029249660312651238,
          0.000029537054956710117,
          0.000029879657823968478,
          0.00003138795226663003,
          0.00003150603516854488,
          0.0000350444149925632,
          0.00003714608611737247,
          0.00003786090620495819,
          0.00003860452400649552,
          0.00003877199804922355,
          0.00004825583602509335,
          0.00004848689955147866,
          0.00005242636256777091,
          0.00005525237364277048,
          0.00006102701584916571,
          0.00006213655460009725,
          0.00006256079038386744,
          0.00006797837028843084,
          0.00006999412780377603,
          0.0000854595762520004,
          0.00008638090082419964,
          0.00013406417375751893,
          0.00020804322432570633,
          0.0002410485583807351,
          0.0003967333002934842,
          0.0004509089202261714,
          0.0004636523226492432,
          0.0007876255425849855,
          0.0012721077913291738
         ],
         "y": [
          0.6402725459946932,
          0.6391134442971231,
          0.6415266588997788,
          0.6402489416373941,
          0.6377783529525742,
          0.6377288692826496,
          0.6414434055049891,
          0.6380285030867358,
          0.6417414136797435,
          0.6377147553163157,
          0.6393128006440032,
          0.6393128006440032,
          0.6413959223308551,
          0.6410705528371203,
          0.6373560166147809,
          0.6382313097202545,
          0.6389282487997723,
          0.6414599618608418,
          0.639023142900887,
          0.6414599618608418,
          0.6382962668579153,
          0.6386495166874845,
          0.6386495166874845,
          0.6410863356474392,
          0.6403342531498175,
          0.6403342531498175,
          0.6359650004213422,
          0.6344826463639768,
          0.6353214165274735,
          0.6328845975675188,
          0.6354055607433391,
          0.6351381965793395,
          0.6351381965793395,
          0.6326593310602083,
          0.6326593310602083,
          0.6331781974578714,
          0.6331781974578714,
          0.6294472754573277,
          0.6318840944172824,
          0.6345354788814701,
          0.6350292960626411,
          0.6352619508484794,
          0.6344545485857158,
          0.6344545485857158,
          0.632017729625761,
          0.6319574894842543,
          0.634394308444209,
          0.6319574894842543,
          0.6350540910075614,
          0.6367506191336759,
          0.6367506191336759,
          0.6365181863301237,
          0.6381427775154591,
          0.6368872743898213,
          0.6393240933497759,
          0.6371037204030539,
          0.6425531886543633,
          0.6410826998329305,
          0.6416873684500902,
          0.6416873684500902,
          0.6547625650851354,
          0.6547625650851354,
          0.6556187041756356,
          0.6532212299885463,
          0.6532212299885463,
          0.6527794350478933,
          0.6527794350478933,
          0.655216254007848,
          0.6594776508347664,
          0.6597925600106649,
          0.6597925600106649,
          0.659285980438518,
          0.6742561315547564,
          0.6797516939723995,
          0.6773148750124448,
          0.6797516939723995,
          0.6804576614677385,
          0.68002786026399,
          0.68002786026399,
          0.6804694615968614,
          0.6804694615968612,
          0.679808323805725,
          0.6798083238057251,
          0.6772020633699225,
          0.6807705910237897,
          0.6807705910237897,
          0.6965272710379931,
          0.7138486838624691,
          0.7090306585480244,
          0.7340561268977603,
          0.7340561268977603,
          0.7415274069354871,
          0.7437721308568643,
          0.7418638235274384,
          0.7442890925247001,
          0.7442890925247001,
          0.7477441508152374,
          0.7480984722218983,
          0.7480984722218982,
          0.7507150190799936,
          0.7507150190799936,
          0.7607574876322266,
          0.7720711568038476,
          0.7238522146113957,
          0.7364735098179085,
          0.7283596844339233,
          0.4372310430203419,
          0.437231043020342,
          0.21715737407428026
         ]
        }
       ],
       "layout": {
        "template": {
         "data": {
          "bar": [
           {
            "error_x": {
             "color": "#2a3f5f"
            },
            "error_y": {
             "color": "#2a3f5f"
            },
            "marker": {
             "line": {
              "color": "#E5ECF6",
              "width": 0.5
             }
            },
            "type": "bar"
           }
          ],
          "barpolar": [
           {
            "marker": {
             "line": {
              "color": "#E5ECF6",
              "width": 0.5
             }
            },
            "type": "barpolar"
           }
          ],
          "carpet": [
           {
            "aaxis": {
             "endlinecolor": "#2a3f5f",
             "gridcolor": "white",
             "linecolor": "white",
             "minorgridcolor": "white",
             "startlinecolor": "#2a3f5f"
            },
            "baxis": {
             "endlinecolor": "#2a3f5f",
             "gridcolor": "white",
             "linecolor": "white",
             "minorgridcolor": "white",
             "startlinecolor": "#2a3f5f"
            },
            "type": "carpet"
           }
          ],
          "choropleth": [
           {
            "colorbar": {
             "outlinewidth": 0,
             "ticks": ""
            },
            "type": "choropleth"
           }
          ],
          "contour": [
           {
            "colorbar": {
             "outlinewidth": 0,
             "ticks": ""
            },
            "colorscale": [
             [
              0,
              "#0d0887"
             ],
             [
              0.1111111111111111,
              "#46039f"
             ],
             [
              0.2222222222222222,
              "#7201a8"
             ],
             [
              0.3333333333333333,
              "#9c179e"
             ],
             [
              0.4444444444444444,
              "#bd3786"
             ],
             [
              0.5555555555555556,
              "#d8576b"
             ],
             [
              0.6666666666666666,
              "#ed7953"
             ],
             [
              0.7777777777777778,
              "#fb9f3a"
             ],
             [
              0.8888888888888888,
              "#fdca26"
             ],
             [
              1,
              "#f0f921"
             ]
            ],
            "type": "contour"
           }
          ],
          "contourcarpet": [
           {
            "colorbar": {
             "outlinewidth": 0,
             "ticks": ""
            },
            "type": "contourcarpet"
           }
          ],
          "heatmap": [
           {
            "colorbar": {
             "outlinewidth": 0,
             "ticks": ""
            },
            "colorscale": [
             [
              0,
              "#0d0887"
             ],
             [
              0.1111111111111111,
              "#46039f"
             ],
             [
              0.2222222222222222,
              "#7201a8"
             ],
             [
              0.3333333333333333,
              "#9c179e"
             ],
             [
              0.4444444444444444,
              "#bd3786"
             ],
             [
              0.5555555555555556,
              "#d8576b"
             ],
             [
              0.6666666666666666,
              "#ed7953"
             ],
             [
              0.7777777777777778,
              "#fb9f3a"
             ],
             [
              0.8888888888888888,
              "#fdca26"
             ],
             [
              1,
              "#f0f921"
             ]
            ],
            "type": "heatmap"
           }
          ],
          "heatmapgl": [
           {
            "colorbar": {
             "outlinewidth": 0,
             "ticks": ""
            },
            "colorscale": [
             [
              0,
              "#0d0887"
             ],
             [
              0.1111111111111111,
              "#46039f"
             ],
             [
              0.2222222222222222,
              "#7201a8"
             ],
             [
              0.3333333333333333,
              "#9c179e"
             ],
             [
              0.4444444444444444,
              "#bd3786"
             ],
             [
              0.5555555555555556,
              "#d8576b"
             ],
             [
              0.6666666666666666,
              "#ed7953"
             ],
             [
              0.7777777777777778,
              "#fb9f3a"
             ],
             [
              0.8888888888888888,
              "#fdca26"
             ],
             [
              1,
              "#f0f921"
             ]
            ],
            "type": "heatmapgl"
           }
          ],
          "histogram": [
           {
            "marker": {
             "colorbar": {
              "outlinewidth": 0,
              "ticks": ""
             }
            },
            "type": "histogram"
           }
          ],
          "histogram2d": [
           {
            "colorbar": {
             "outlinewidth": 0,
             "ticks": ""
            },
            "colorscale": [
             [
              0,
              "#0d0887"
             ],
             [
              0.1111111111111111,
              "#46039f"
             ],
             [
              0.2222222222222222,
              "#7201a8"
             ],
             [
              0.3333333333333333,
              "#9c179e"
             ],
             [
              0.4444444444444444,
              "#bd3786"
             ],
             [
              0.5555555555555556,
              "#d8576b"
             ],
             [
              0.6666666666666666,
              "#ed7953"
             ],
             [
              0.7777777777777778,
              "#fb9f3a"
             ],
             [
              0.8888888888888888,
              "#fdca26"
             ],
             [
              1,
              "#f0f921"
             ]
            ],
            "type": "histogram2d"
           }
          ],
          "histogram2dcontour": [
           {
            "colorbar": {
             "outlinewidth": 0,
             "ticks": ""
            },
            "colorscale": [
             [
              0,
              "#0d0887"
             ],
             [
              0.1111111111111111,
              "#46039f"
             ],
             [
              0.2222222222222222,
              "#7201a8"
             ],
             [
              0.3333333333333333,
              "#9c179e"
             ],
             [
              0.4444444444444444,
              "#bd3786"
             ],
             [
              0.5555555555555556,
              "#d8576b"
             ],
             [
              0.6666666666666666,
              "#ed7953"
             ],
             [
              0.7777777777777778,
              "#fb9f3a"
             ],
             [
              0.8888888888888888,
              "#fdca26"
             ],
             [
              1,
              "#f0f921"
             ]
            ],
            "type": "histogram2dcontour"
           }
          ],
          "mesh3d": [
           {
            "colorbar": {
             "outlinewidth": 0,
             "ticks": ""
            },
            "type": "mesh3d"
           }
          ],
          "parcoords": [
           {
            "line": {
             "colorbar": {
              "outlinewidth": 0,
              "ticks": ""
             }
            },
            "type": "parcoords"
           }
          ],
          "pie": [
           {
            "automargin": true,
            "type": "pie"
           }
          ],
          "scatter": [
           {
            "marker": {
             "colorbar": {
              "outlinewidth": 0,
              "ticks": ""
             }
            },
            "type": "scatter"
           }
          ],
          "scatter3d": [
           {
            "line": {
             "colorbar": {
              "outlinewidth": 0,
              "ticks": ""
             }
            },
            "marker": {
             "colorbar": {
              "outlinewidth": 0,
              "ticks": ""
             }
            },
            "type": "scatter3d"
           }
          ],
          "scattercarpet": [
           {
            "marker": {
             "colorbar": {
              "outlinewidth": 0,
              "ticks": ""
             }
            },
            "type": "scattercarpet"
           }
          ],
          "scattergeo": [
           {
            "marker": {
             "colorbar": {
              "outlinewidth": 0,
              "ticks": ""
             }
            },
            "type": "scattergeo"
           }
          ],
          "scattergl": [
           {
            "marker": {
             "colorbar": {
              "outlinewidth": 0,
              "ticks": ""
             }
            },
            "type": "scattergl"
           }
          ],
          "scattermapbox": [
           {
            "marker": {
             "colorbar": {
              "outlinewidth": 0,
              "ticks": ""
             }
            },
            "type": "scattermapbox"
           }
          ],
          "scatterpolar": [
           {
            "marker": {
             "colorbar": {
              "outlinewidth": 0,
              "ticks": ""
             }
            },
            "type": "scatterpolar"
           }
          ],
          "scatterpolargl": [
           {
            "marker": {
             "colorbar": {
              "outlinewidth": 0,
              "ticks": ""
             }
            },
            "type": "scatterpolargl"
           }
          ],
          "scatterternary": [
           {
            "marker": {
             "colorbar": {
              "outlinewidth": 0,
              "ticks": ""
             }
            },
            "type": "scatterternary"
           }
          ],
          "surface": [
           {
            "colorbar": {
             "outlinewidth": 0,
             "ticks": ""
            },
            "colorscale": [
             [
              0,
              "#0d0887"
             ],
             [
              0.1111111111111111,
              "#46039f"
             ],
             [
              0.2222222222222222,
              "#7201a8"
             ],
             [
              0.3333333333333333,
              "#9c179e"
             ],
             [
              0.4444444444444444,
              "#bd3786"
             ],
             [
              0.5555555555555556,
              "#d8576b"
             ],
             [
              0.6666666666666666,
              "#ed7953"
             ],
             [
              0.7777777777777778,
              "#fb9f3a"
             ],
             [
              0.8888888888888888,
              "#fdca26"
             ],
             [
              1,
              "#f0f921"
             ]
            ],
            "type": "surface"
           }
          ],
          "table": [
           {
            "cells": {
             "fill": {
              "color": "#EBF0F8"
             },
             "line": {
              "color": "white"
             }
            },
            "header": {
             "fill": {
              "color": "#C8D4E3"
             },
             "line": {
              "color": "white"
             }
            },
            "type": "table"
           }
          ]
         },
         "layout": {
          "annotationdefaults": {
           "arrowcolor": "#2a3f5f",
           "arrowhead": 0,
           "arrowwidth": 1
          },
          "autotypenumbers": "strict",
          "coloraxis": {
           "colorbar": {
            "outlinewidth": 0,
            "ticks": ""
           }
          },
          "colorscale": {
           "diverging": [
            [
             0,
             "#8e0152"
            ],
            [
             0.1,
             "#c51b7d"
            ],
            [
             0.2,
             "#de77ae"
            ],
            [
             0.3,
             "#f1b6da"
            ],
            [
             0.4,
             "#fde0ef"
            ],
            [
             0.5,
             "#f7f7f7"
            ],
            [
             0.6,
             "#e6f5d0"
            ],
            [
             0.7,
             "#b8e186"
            ],
            [
             0.8,
             "#7fbc41"
            ],
            [
             0.9,
             "#4d9221"
            ],
            [
             1,
             "#276419"
            ]
           ],
           "sequential": [
            [
             0,
             "#0d0887"
            ],
            [
             0.1111111111111111,
             "#46039f"
            ],
            [
             0.2222222222222222,
             "#7201a8"
            ],
            [
             0.3333333333333333,
             "#9c179e"
            ],
            [
             0.4444444444444444,
             "#bd3786"
            ],
            [
             0.5555555555555556,
             "#d8576b"
            ],
            [
             0.6666666666666666,
             "#ed7953"
            ],
            [
             0.7777777777777778,
             "#fb9f3a"
            ],
            [
             0.8888888888888888,
             "#fdca26"
            ],
            [
             1,
             "#f0f921"
            ]
           ],
           "sequentialminus": [
            [
             0,
             "#0d0887"
            ],
            [
             0.1111111111111111,
             "#46039f"
            ],
            [
             0.2222222222222222,
             "#7201a8"
            ],
            [
             0.3333333333333333,
             "#9c179e"
            ],
            [
             0.4444444444444444,
             "#bd3786"
            ],
            [
             0.5555555555555556,
             "#d8576b"
            ],
            [
             0.6666666666666666,
             "#ed7953"
            ],
            [
             0.7777777777777778,
             "#fb9f3a"
            ],
            [
             0.8888888888888888,
             "#fdca26"
            ],
            [
             1,
             "#f0f921"
            ]
           ]
          },
          "colorway": [
           "#636efa",
           "#EF553B",
           "#00cc96",
           "#ab63fa",
           "#FFA15A",
           "#19d3f3",
           "#FF6692",
           "#B6E880",
           "#FF97FF",
           "#FECB52"
          ],
          "font": {
           "color": "#2a3f5f"
          },
          "geo": {
           "bgcolor": "white",
           "lakecolor": "white",
           "landcolor": "#E5ECF6",
           "showlakes": true,
           "showland": true,
           "subunitcolor": "white"
          },
          "hoverlabel": {
           "align": "left"
          },
          "hovermode": "closest",
          "mapbox": {
           "style": "light"
          },
          "paper_bgcolor": "white",
          "plot_bgcolor": "#E5ECF6",
          "polar": {
           "angularaxis": {
            "gridcolor": "white",
            "linecolor": "white",
            "ticks": ""
           },
           "bgcolor": "#E5ECF6",
           "radialaxis": {
            "gridcolor": "white",
            "linecolor": "white",
            "ticks": ""
           }
          },
          "scene": {
           "xaxis": {
            "backgroundcolor": "#E5ECF6",
            "gridcolor": "white",
            "gridwidth": 2,
            "linecolor": "white",
            "showbackground": true,
            "ticks": "",
            "zerolinecolor": "white"
           },
           "yaxis": {
            "backgroundcolor": "#E5ECF6",
            "gridcolor": "white",
            "gridwidth": 2,
            "linecolor": "white",
            "showbackground": true,
            "ticks": "",
            "zerolinecolor": "white"
           },
           "zaxis": {
            "backgroundcolor": "#E5ECF6",
            "gridcolor": "white",
            "gridwidth": 2,
            "linecolor": "white",
            "showbackground": true,
            "ticks": "",
            "zerolinecolor": "white"
           }
          },
          "shapedefaults": {
           "line": {
            "color": "#2a3f5f"
           }
          },
          "ternary": {
           "aaxis": {
            "gridcolor": "white",
            "linecolor": "white",
            "ticks": ""
           },
           "baxis": {
            "gridcolor": "white",
            "linecolor": "white",
            "ticks": ""
           },
           "bgcolor": "#E5ECF6",
           "caxis": {
            "gridcolor": "white",
            "linecolor": "white",
            "ticks": ""
           }
          },
          "title": {
           "x": 0.05
          },
          "xaxis": {
           "automargin": true,
           "gridcolor": "white",
           "linecolor": "white",
           "ticks": "",
           "title": {
            "standoff": 15
           },
           "zerolinecolor": "white",
           "zerolinewidth": 2
          },
          "yaxis": {
           "automargin": true,
           "gridcolor": "white",
           "linecolor": "white",
           "ticks": "",
           "title": {
            "standoff": 15
           },
           "zerolinecolor": "white",
           "zerolinewidth": 2
          }
         }
        }
       }
      }
     },
     "metadata": {}
    }
   ],
   "source": [
    "train_scores = [clf.score(X_train, y_train) for clf in clfs]\n",
    "test_scores = [clf.score(X_test, y_test) for clf in clfs]\n",
    "\n",
    "fig = go.Figure()\n",
    "fig.add_trace(\n",
    "    go.Scatter(x=ccp_alphas, y=train_scores, mode='lines+markers', name=\"train\"))\n",
    "fig.add_trace(\n",
    "    go.Scatter(x=ccp_alphas, y=test_scores, mode='lines+markers', name=\"test\"))\n",
    "\n",
    "fig.show()"
   ]
  },
  {
   "cell_type": "code",
   "execution_count": 4,
   "metadata": {},
   "outputs": [
    {
     "output_type": "stream",
     "name": "stderr",
     "text": [
      "DEBUG:root:The number of device events from processed file: {}\n",
      "DEBUG:root:The number of context events from processed file: {'apparentTemperature#NUM': 8764, 'temperature#NUM': 8747, 'humidity#NUM': 7703, 'summary#CAT': 2578}\n"
     ]
    },
    {
     "output_type": "error",
     "ename": "NameError",
     "evalue": "name 'ctx_info' is not defined",
     "traceback": [
      "\u001b[0;31m---------------------------------------------------------------------------\u001b[0m",
      "\u001b[0;31mNameError\u001b[0m                                 Traceback (most recent call last)",
      "\u001b[0;32m<ipython-input-4-ccbc9dbf3c16>\u001b[0m in \u001b[0;36m<module>\u001b[0;34m\u001b[0m\n\u001b[1;32m      1\u001b[0m \u001b[0mdata\u001b[0m \u001b[0;34m=\u001b[0m \u001b[0mtest_umass\u001b[0m\u001b[0;34m(\u001b[0m\u001b[0mtest_project\u001b[0m\u001b[0;34m=\u001b[0m\u001b[0;34m\"HomeD/2016\"\u001b[0m\u001b[0;34m)\u001b[0m\u001b[0;34m\u001b[0m\u001b[0;34m\u001b[0m\u001b[0m\n\u001b[0;32m----> 2\u001b[0;31m \u001b[0mon_rate\u001b[0m \u001b[0;34m=\u001b[0m \u001b[0mnp\u001b[0m\u001b[0;34m.\u001b[0m\u001b[0mfull\u001b[0m\u001b[0;34m(\u001b[0m\u001b[0mctx_info\u001b[0m\u001b[0;34m.\u001b[0m\u001b[0mget_ctx_space_shape\u001b[0m\u001b[0;34m(\u001b[0m\u001b[0;34m)\u001b[0m\u001b[0;34m,\u001b[0m \u001b[0;34m-\u001b[0m\u001b[0;36m0.1\u001b[0m\u001b[0;34m)\u001b[0m\u001b[0;34m\u001b[0m\u001b[0;34m\u001b[0m\u001b[0m\n\u001b[0m\u001b[1;32m      3\u001b[0m \u001b[0;32mfor\u001b[0m \u001b[0mdis\u001b[0m \u001b[0;32min\u001b[0m \u001b[0mdata\u001b[0m\u001b[0;34m[\u001b[0m\u001b[0;34m\"Microwave [kW]\"\u001b[0m\u001b[0;34m]\u001b[0m\u001b[0;34m:\u001b[0m\u001b[0;34m\u001b[0m\u001b[0;34m\u001b[0m\u001b[0m\n\u001b[1;32m      4\u001b[0m     \u001b[0mon_rate\u001b[0m\u001b[0;34m[\u001b[0m\u001b[0mdis\u001b[0m\u001b[0;34m[\u001b[0m\u001b[0;34m\"coor\"\u001b[0m\u001b[0;34m]\u001b[0m\u001b[0;34m]\u001b[0m \u001b[0;34m=\u001b[0m \u001b[0mdis\u001b[0m\u001b[0;34m[\u001b[0m\u001b[0;34m\"distribution\"\u001b[0m\u001b[0;34m]\u001b[0m\u001b[0;34m[\u001b[0m\u001b[0;36m1\u001b[0m\u001b[0;34m]\u001b[0m \u001b[0;34m/\u001b[0m \u001b[0;34m(\u001b[0m\u001b[0mdis\u001b[0m\u001b[0;34m[\u001b[0m\u001b[0;34m\"distribution\"\u001b[0m\u001b[0;34m]\u001b[0m\u001b[0;34m[\u001b[0m\u001b[0;36m0\u001b[0m\u001b[0;34m]\u001b[0m \u001b[0;34m+\u001b[0m \u001b[0mdis\u001b[0m\u001b[0;34m[\u001b[0m\u001b[0;34m\"distribution\"\u001b[0m\u001b[0;34m]\u001b[0m\u001b[0;34m[\u001b[0m\u001b[0;36m1\u001b[0m\u001b[0;34m]\u001b[0m\u001b[0;34m)\u001b[0m\u001b[0;34m\u001b[0m\u001b[0;34m\u001b[0m\u001b[0m\n\u001b[1;32m      5\u001b[0m \u001b[0;34m\u001b[0m\u001b[0m\n",
      "\u001b[0;31mNameError\u001b[0m: name 'ctx_info' is not defined"
     ]
    }
   ],
   "source": [
    "data = test_umass(test_project=\"HomeD/2016\")\n",
    "on_rate = np.full(ctx_info.get_ctx_space_shape(), -0.1)\n",
    "for dis in data[\"Microwave\"]:\n",
    "    on_rate[dis[\"coor\"]] = dis[\"distribution\"][1] / (dis[\"distribution\"][0] + dis[\"distribution\"][1])\n",
    "\n",
    "\n",
    "fig = go.Figure(data=go.Heatmap(z=np.transpose(on_rate)))\n",
    "fig.show()"
   ]
  },
  {
   "cell_type": "code",
   "execution_count": null,
   "metadata": {},
   "outputs": [],
   "source": [
    "data = test_umass(test_project=\"HomeA/2016\")\n",
    "on_rate = np.full(ctx_info.get_ctx_space_shape(), -0.1)\n",
    "for dis in data[\"Microwave [kW]\"]:\n",
    "    on_rate[dis[\"coor\"]] = dis[\"distribution\"][1] / (dis[\"distribution\"][0] + dis[\"distribution\"][1])\n",
    "\n",
    "\n",
    "fig = go.Figure(data=go.Heatmap(z=np.transpose(on_rate)))\n",
    "fig.show()"
   ]
  },
  {
   "cell_type": "code",
   "execution_count": 30,
   "metadata": {
    "tags": []
   },
   "outputs": [
    {
     "output_type": "stream",
     "name": "stdout",
     "text": [
      "528\n[  1  73 117 134 138 140 168 187 209 211 212 246 259 261 296 303 320 323\n 337 341 350 355 356 366 367 387 400 401 402 404 409 414 417 425 426 427\n 432 448 449 461 462 463 464 465 466 479 480 481 487 489 497 513 514 519\n 521 525 527]\n"
     ]
    },
    {
     "output_type": "display_data",
     "data": {
      "application/vnd.plotly.v1+json": {
       "config": {
        "plotlyServerURL": "https://plot.ly"
       },
       "data": [
        {
         "type": "heatmap",
         "z": [
          [
           0,
           0,
           0,
           0,
           0,
           0,
           0,
           0,
           0,
           0,
           0,
           0,
           0,
           0,
           0,
           0,
           0,
           0,
           0,
           0,
           0,
           0,
           0,
           0,
           0,
           0,
           0,
           0,
           0,
           0,
           0,
           0,
           0,
           0,
           0,
           0,
           0,
           0,
           0,
           0,
           0,
           0,
           0,
           0,
           0,
           0,
           0,
           0,
           0,
           0,
           0,
           0,
           0,
           0,
           0,
           0,
           0,
           0,
           0,
           0,
           0,
           0,
           0,
           0,
           0,
           0,
           0,
           0,
           0,
           0,
           0,
           0
          ],
          [
           0,
           0,
           0,
           0,
           0,
           0,
           0,
           0,
           0,
           0,
           0,
           0,
           0,
           0,
           0,
           0,
           0,
           0,
           0,
           0,
           0,
           0,
           0,
           0,
           0,
           0,
           0,
           0,
           0,
           0,
           0,
           0,
           0,
           0,
           0,
           0,
           0,
           0,
           0,
           513,
           513,
           513,
           466,
           479,
           479,
           479,
           479,
           480,
           461,
           461,
           462,
           463,
           464,
           481,
           465,
           521,
           521,
           521,
           521,
           521,
           0,
           0,
           0,
           0,
           0,
           0,
           0,
           0,
           0,
           0,
           0,
           0
          ],
          [
           0,
           0,
           0,
           0,
           0,
           0,
           0,
           0,
           0,
           0,
           0,
           0,
           0,
           0,
           0,
           0,
           0,
           0,
           0,
           0,
           0,
           0,
           0,
           0,
           0,
           0,
           0,
           0,
           0,
           0,
           487,
           487,
           489,
           449,
           449,
           449,
           367,
           366,
           367,
           367,
           479,
           479,
           337,
           337,
           479,
           479,
           479,
           479,
           350,
           350,
           350,
           463,
           323,
           341,
           402,
           404,
           404,
           521,
           521,
           521,
           521,
           521,
           521,
           0,
           0,
           0,
           0,
           0,
           0,
           0,
           0,
           0
          ],
          [
           0,
           0,
           0,
           0,
           0,
           0,
           0,
           0,
           0,
           0,
           0,
           0,
           0,
           0,
           0,
           0,
           0,
           0,
           0,
           0,
           0,
           0,
           0,
           0,
           0,
           0,
           0,
           448,
           487,
           487,
           487,
           487,
           449,
           449,
           449,
           449,
           367,
           367,
           367,
           367,
           479,
           479,
           479,
           479,
           479,
           479,
           479,
           479,
           138,
           350,
           140,
           323,
           323,
           341,
           303,
           521,
           521,
           521,
           521,
           521,
           521,
           521,
           521,
           521,
           521,
           521,
           521,
           521,
           521,
           0,
           0,
           0
          ],
          [
           487,
           487,
           487,
           487,
           487,
           487,
           487,
           487,
           487,
           487,
           487,
           487,
           487,
           487,
           487,
           487,
           487,
           487,
           487,
           487,
           487,
           487,
           487,
           487,
           487,
           487,
           487,
           487,
           487,
           487,
           487,
           487,
           449,
           449,
           449,
           449,
           449,
           449,
           449,
           449,
           479,
           479,
           479,
           479,
           479,
           479,
           479,
           479,
           117,
           140,
           140,
           323,
           323,
           134,
           521,
           521,
           521,
           521,
           521,
           521,
           521,
           521,
           521,
           521,
           521,
           521,
           521,
           521,
           521,
           521,
           521,
           521
          ],
          [
           487,
           487,
           487,
           487,
           487,
           487,
           487,
           487,
           487,
           487,
           487,
           487,
           487,
           487,
           487,
           487,
           487,
           487,
           487,
           487,
           487,
           487,
           487,
           487,
           487,
           487,
           487,
           487,
           487,
           487,
           487,
           1,
           449,
           449,
           449,
           449,
           449,
           449,
           449,
           449,
           479,
           479,
           479,
           479,
           479,
           479,
           479,
           479,
           479,
           187,
           140,
           323,
           323,
           212,
           521,
           521,
           521,
           521,
           521,
           521,
           521,
           521,
           521,
           521,
           521,
           521,
           521,
           521,
           521,
           521,
           521,
           521
          ],
          [
           487,
           487,
           487,
           487,
           487,
           487,
           487,
           487,
           487,
           487,
           487,
           487,
           487,
           487,
           487,
           487,
           487,
           487,
           487,
           487,
           487,
           487,
           487,
           487,
           73,
           73,
           487,
           487,
           487,
           487,
           487,
           487,
           259,
           259,
           401,
           519,
           519,
           246,
           449,
           449,
           261,
           479,
           479,
           479,
           479,
           479,
           479,
           479,
           479,
           479,
           209,
           211,
           211,
           212,
           212,
           521,
           521,
           168,
           521,
           521,
           521,
           521,
           521,
           521,
           521,
           521,
           521,
           521,
           521,
           521,
           521,
           521
          ],
          [
           487,
           487,
           487,
           487,
           487,
           487,
           487,
           487,
           487,
           487,
           487,
           487,
           487,
           487,
           487,
           487,
           487,
           487,
           487,
           487,
           487,
           487,
           487,
           487,
           487,
           487,
           487,
           487,
           487,
           487,
           487,
           487,
           259,
           400,
           401,
           417,
           519,
           519,
           519,
           479,
           479,
           479,
           479,
           479,
           479,
           479,
           479,
           479,
           479,
           355,
           414,
           212,
           212,
           212,
           212,
           521,
           521,
           521,
           521,
           521,
           521,
           521,
           521,
           521,
           521,
           521,
           521,
           521,
           521,
           521,
           521,
           521
          ],
          [
           487,
           487,
           487,
           487,
           487,
           487,
           487,
           487,
           487,
           487,
           487,
           487,
           487,
           487,
           487,
           487,
           487,
           487,
           487,
           487,
           487,
           487,
           487,
           487,
           487,
           487,
           487,
           487,
           487,
           487,
           296,
           296,
           432,
           432,
           432,
           432,
           519,
           479,
           479,
           479,
           479,
           387,
           479,
           479,
           479,
           479,
           479,
           479,
           426,
           426,
           414,
           356,
           356,
           212,
           212,
           521,
           521,
           521,
           521,
           521,
           521,
           521,
           521,
           521,
           521,
           521,
           521,
           521,
           521,
           521,
           521,
           521
          ],
          [
           487,
           487,
           487,
           487,
           487,
           487,
           487,
           487,
           487,
           487,
           487,
           487,
           487,
           487,
           487,
           487,
           487,
           487,
           487,
           487,
           487,
           487,
           487,
           487,
           487,
           487,
           487,
           487,
           487,
           487,
           487,
           487,
           409,
           432,
           432,
           432,
           525,
           479,
           527,
           479,
           479,
           479,
           479,
           479,
           479,
           479,
           497,
           497,
           425,
           426,
           427,
           427,
           356,
           320,
           514,
           521,
           521,
           521,
           521,
           521,
           521,
           521,
           521,
           521,
           521,
           521,
           521,
           521,
           521,
           521,
           521,
           521
          ]
         ]
        }
       ],
       "layout": {
        "template": {
         "data": {
          "bar": [
           {
            "error_x": {
             "color": "#2a3f5f"
            },
            "error_y": {
             "color": "#2a3f5f"
            },
            "marker": {
             "line": {
              "color": "#E5ECF6",
              "width": 0.5
             }
            },
            "type": "bar"
           }
          ],
          "barpolar": [
           {
            "marker": {
             "line": {
              "color": "#E5ECF6",
              "width": 0.5
             }
            },
            "type": "barpolar"
           }
          ],
          "carpet": [
           {
            "aaxis": {
             "endlinecolor": "#2a3f5f",
             "gridcolor": "white",
             "linecolor": "white",
             "minorgridcolor": "white",
             "startlinecolor": "#2a3f5f"
            },
            "baxis": {
             "endlinecolor": "#2a3f5f",
             "gridcolor": "white",
             "linecolor": "white",
             "minorgridcolor": "white",
             "startlinecolor": "#2a3f5f"
            },
            "type": "carpet"
           }
          ],
          "choropleth": [
           {
            "colorbar": {
             "outlinewidth": 0,
             "ticks": ""
            },
            "type": "choropleth"
           }
          ],
          "contour": [
           {
            "colorbar": {
             "outlinewidth": 0,
             "ticks": ""
            },
            "colorscale": [
             [
              0,
              "#0d0887"
             ],
             [
              0.1111111111111111,
              "#46039f"
             ],
             [
              0.2222222222222222,
              "#7201a8"
             ],
             [
              0.3333333333333333,
              "#9c179e"
             ],
             [
              0.4444444444444444,
              "#bd3786"
             ],
             [
              0.5555555555555556,
              "#d8576b"
             ],
             [
              0.6666666666666666,
              "#ed7953"
             ],
             [
              0.7777777777777778,
              "#fb9f3a"
             ],
             [
              0.8888888888888888,
              "#fdca26"
             ],
             [
              1,
              "#f0f921"
             ]
            ],
            "type": "contour"
           }
          ],
          "contourcarpet": [
           {
            "colorbar": {
             "outlinewidth": 0,
             "ticks": ""
            },
            "type": "contourcarpet"
           }
          ],
          "heatmap": [
           {
            "colorbar": {
             "outlinewidth": 0,
             "ticks": ""
            },
            "colorscale": [
             [
              0,
              "#0d0887"
             ],
             [
              0.1111111111111111,
              "#46039f"
             ],
             [
              0.2222222222222222,
              "#7201a8"
             ],
             [
              0.3333333333333333,
              "#9c179e"
             ],
             [
              0.4444444444444444,
              "#bd3786"
             ],
             [
              0.5555555555555556,
              "#d8576b"
             ],
             [
              0.6666666666666666,
              "#ed7953"
             ],
             [
              0.7777777777777778,
              "#fb9f3a"
             ],
             [
              0.8888888888888888,
              "#fdca26"
             ],
             [
              1,
              "#f0f921"
             ]
            ],
            "type": "heatmap"
           }
          ],
          "heatmapgl": [
           {
            "colorbar": {
             "outlinewidth": 0,
             "ticks": ""
            },
            "colorscale": [
             [
              0,
              "#0d0887"
             ],
             [
              0.1111111111111111,
              "#46039f"
             ],
             [
              0.2222222222222222,
              "#7201a8"
             ],
             [
              0.3333333333333333,
              "#9c179e"
             ],
             [
              0.4444444444444444,
              "#bd3786"
             ],
             [
              0.5555555555555556,
              "#d8576b"
             ],
             [
              0.6666666666666666,
              "#ed7953"
             ],
             [
              0.7777777777777778,
              "#fb9f3a"
             ],
             [
              0.8888888888888888,
              "#fdca26"
             ],
             [
              1,
              "#f0f921"
             ]
            ],
            "type": "heatmapgl"
           }
          ],
          "histogram": [
           {
            "marker": {
             "colorbar": {
              "outlinewidth": 0,
              "ticks": ""
             }
            },
            "type": "histogram"
           }
          ],
          "histogram2d": [
           {
            "colorbar": {
             "outlinewidth": 0,
             "ticks": ""
            },
            "colorscale": [
             [
              0,
              "#0d0887"
             ],
             [
              0.1111111111111111,
              "#46039f"
             ],
             [
              0.2222222222222222,
              "#7201a8"
             ],
             [
              0.3333333333333333,
              "#9c179e"
             ],
             [
              0.4444444444444444,
              "#bd3786"
             ],
             [
              0.5555555555555556,
              "#d8576b"
             ],
             [
              0.6666666666666666,
              "#ed7953"
             ],
             [
              0.7777777777777778,
              "#fb9f3a"
             ],
             [
              0.8888888888888888,
              "#fdca26"
             ],
             [
              1,
              "#f0f921"
             ]
            ],
            "type": "histogram2d"
           }
          ],
          "histogram2dcontour": [
           {
            "colorbar": {
             "outlinewidth": 0,
             "ticks": ""
            },
            "colorscale": [
             [
              0,
              "#0d0887"
             ],
             [
              0.1111111111111111,
              "#46039f"
             ],
             [
              0.2222222222222222,
              "#7201a8"
             ],
             [
              0.3333333333333333,
              "#9c179e"
             ],
             [
              0.4444444444444444,
              "#bd3786"
             ],
             [
              0.5555555555555556,
              "#d8576b"
             ],
             [
              0.6666666666666666,
              "#ed7953"
             ],
             [
              0.7777777777777778,
              "#fb9f3a"
             ],
             [
              0.8888888888888888,
              "#fdca26"
             ],
             [
              1,
              "#f0f921"
             ]
            ],
            "type": "histogram2dcontour"
           }
          ],
          "mesh3d": [
           {
            "colorbar": {
             "outlinewidth": 0,
             "ticks": ""
            },
            "type": "mesh3d"
           }
          ],
          "parcoords": [
           {
            "line": {
             "colorbar": {
              "outlinewidth": 0,
              "ticks": ""
             }
            },
            "type": "parcoords"
           }
          ],
          "pie": [
           {
            "automargin": true,
            "type": "pie"
           }
          ],
          "scatter": [
           {
            "marker": {
             "colorbar": {
              "outlinewidth": 0,
              "ticks": ""
             }
            },
            "type": "scatter"
           }
          ],
          "scatter3d": [
           {
            "line": {
             "colorbar": {
              "outlinewidth": 0,
              "ticks": ""
             }
            },
            "marker": {
             "colorbar": {
              "outlinewidth": 0,
              "ticks": ""
             }
            },
            "type": "scatter3d"
           }
          ],
          "scattercarpet": [
           {
            "marker": {
             "colorbar": {
              "outlinewidth": 0,
              "ticks": ""
             }
            },
            "type": "scattercarpet"
           }
          ],
          "scattergeo": [
           {
            "marker": {
             "colorbar": {
              "outlinewidth": 0,
              "ticks": ""
             }
            },
            "type": "scattergeo"
           }
          ],
          "scattergl": [
           {
            "marker": {
             "colorbar": {
              "outlinewidth": 0,
              "ticks": ""
             }
            },
            "type": "scattergl"
           }
          ],
          "scattermapbox": [
           {
            "marker": {
             "colorbar": {
              "outlinewidth": 0,
              "ticks": ""
             }
            },
            "type": "scattermapbox"
           }
          ],
          "scatterpolar": [
           {
            "marker": {
             "colorbar": {
              "outlinewidth": 0,
              "ticks": ""
             }
            },
            "type": "scatterpolar"
           }
          ],
          "scatterpolargl": [
           {
            "marker": {
             "colorbar": {
              "outlinewidth": 0,
              "ticks": ""
             }
            },
            "type": "scatterpolargl"
           }
          ],
          "scatterternary": [
           {
            "marker": {
             "colorbar": {
              "outlinewidth": 0,
              "ticks": ""
             }
            },
            "type": "scatterternary"
           }
          ],
          "surface": [
           {
            "colorbar": {
             "outlinewidth": 0,
             "ticks": ""
            },
            "colorscale": [
             [
              0,
              "#0d0887"
             ],
             [
              0.1111111111111111,
              "#46039f"
             ],
             [
              0.2222222222222222,
              "#7201a8"
             ],
             [
              0.3333333333333333,
              "#9c179e"
             ],
             [
              0.4444444444444444,
              "#bd3786"
             ],
             [
              0.5555555555555556,
              "#d8576b"
             ],
             [
              0.6666666666666666,
              "#ed7953"
             ],
             [
              0.7777777777777778,
              "#fb9f3a"
             ],
             [
              0.8888888888888888,
              "#fdca26"
             ],
             [
              1,
              "#f0f921"
             ]
            ],
            "type": "surface"
           }
          ],
          "table": [
           {
            "cells": {
             "fill": {
              "color": "#EBF0F8"
             },
             "line": {
              "color": "white"
             }
            },
            "header": {
             "fill": {
              "color": "#C8D4E3"
             },
             "line": {
              "color": "white"
             }
            },
            "type": "table"
           }
          ]
         },
         "layout": {
          "annotationdefaults": {
           "arrowcolor": "#2a3f5f",
           "arrowhead": 0,
           "arrowwidth": 1
          },
          "autotypenumbers": "strict",
          "coloraxis": {
           "colorbar": {
            "outlinewidth": 0,
            "ticks": ""
           }
          },
          "colorscale": {
           "diverging": [
            [
             0,
             "#8e0152"
            ],
            [
             0.1,
             "#c51b7d"
            ],
            [
             0.2,
             "#de77ae"
            ],
            [
             0.3,
             "#f1b6da"
            ],
            [
             0.4,
             "#fde0ef"
            ],
            [
             0.5,
             "#f7f7f7"
            ],
            [
             0.6,
             "#e6f5d0"
            ],
            [
             0.7,
             "#b8e186"
            ],
            [
             0.8,
             "#7fbc41"
            ],
            [
             0.9,
             "#4d9221"
            ],
            [
             1,
             "#276419"
            ]
           ],
           "sequential": [
            [
             0,
             "#0d0887"
            ],
            [
             0.1111111111111111,
             "#46039f"
            ],
            [
             0.2222222222222222,
             "#7201a8"
            ],
            [
             0.3333333333333333,
             "#9c179e"
            ],
            [
             0.4444444444444444,
             "#bd3786"
            ],
            [
             0.5555555555555556,
             "#d8576b"
            ],
            [
             0.6666666666666666,
             "#ed7953"
            ],
            [
             0.7777777777777778,
             "#fb9f3a"
            ],
            [
             0.8888888888888888,
             "#fdca26"
            ],
            [
             1,
             "#f0f921"
            ]
           ],
           "sequentialminus": [
            [
             0,
             "#0d0887"
            ],
            [
             0.1111111111111111,
             "#46039f"
            ],
            [
             0.2222222222222222,
             "#7201a8"
            ],
            [
             0.3333333333333333,
             "#9c179e"
            ],
            [
             0.4444444444444444,
             "#bd3786"
            ],
            [
             0.5555555555555556,
             "#d8576b"
            ],
            [
             0.6666666666666666,
             "#ed7953"
            ],
            [
             0.7777777777777778,
             "#fb9f3a"
            ],
            [
             0.8888888888888888,
             "#fdca26"
            ],
            [
             1,
             "#f0f921"
            ]
           ]
          },
          "colorway": [
           "#636efa",
           "#EF553B",
           "#00cc96",
           "#ab63fa",
           "#FFA15A",
           "#19d3f3",
           "#FF6692",
           "#B6E880",
           "#FF97FF",
           "#FECB52"
          ],
          "font": {
           "color": "#2a3f5f"
          },
          "geo": {
           "bgcolor": "white",
           "lakecolor": "white",
           "landcolor": "#E5ECF6",
           "showlakes": true,
           "showland": true,
           "subunitcolor": "white"
          },
          "hoverlabel": {
           "align": "left"
          },
          "hovermode": "closest",
          "mapbox": {
           "style": "light"
          },
          "paper_bgcolor": "white",
          "plot_bgcolor": "#E5ECF6",
          "polar": {
           "angularaxis": {
            "gridcolor": "white",
            "linecolor": "white",
            "ticks": ""
           },
           "bgcolor": "#E5ECF6",
           "radialaxis": {
            "gridcolor": "white",
            "linecolor": "white",
            "ticks": ""
           }
          },
          "scene": {
           "xaxis": {
            "backgroundcolor": "#E5ECF6",
            "gridcolor": "white",
            "gridwidth": 2,
            "linecolor": "white",
            "showbackground": true,
            "ticks": "",
            "zerolinecolor": "white"
           },
           "yaxis": {
            "backgroundcolor": "#E5ECF6",
            "gridcolor": "white",
            "gridwidth": 2,
            "linecolor": "white",
            "showbackground": true,
            "ticks": "",
            "zerolinecolor": "white"
           },
           "zaxis": {
            "backgroundcolor": "#E5ECF6",
            "gridcolor": "white",
            "gridwidth": 2,
            "linecolor": "white",
            "showbackground": true,
            "ticks": "",
            "zerolinecolor": "white"
           }
          },
          "shapedefaults": {
           "line": {
            "color": "#2a3f5f"
           }
          },
          "ternary": {
           "aaxis": {
            "gridcolor": "white",
            "linecolor": "white",
            "ticks": ""
           },
           "baxis": {
            "gridcolor": "white",
            "linecolor": "white",
            "ticks": ""
           },
           "bgcolor": "#E5ECF6",
           "caxis": {
            "gridcolor": "white",
            "linecolor": "white",
            "ticks": ""
           }
          },
          "title": {
           "x": 0.05
          },
          "xaxis": {
           "automargin": true,
           "gridcolor": "white",
           "linecolor": "white",
           "ticks": "",
           "title": {
            "standoff": 15
           },
           "zerolinecolor": "white",
           "zerolinewidth": 2
          },
          "yaxis": {
           "automargin": true,
           "gridcolor": "white",
           "linecolor": "white",
           "ticks": "",
           "title": {
            "standoff": 15
           },
           "zerolinecolor": "white",
           "zerolinewidth": 2
          }
         }
        }
       }
      }
     },
     "metadata": {}
    }
   ],
   "source": [
    "from sklearn.neighbors import KDTree, BallTree\n",
    "\n",
    "def find_set(uf, a):\n",
    "    if uf[a] != a:\n",
    "        uf[a] = find_set(uf, uf[a])\n",
    "    return uf[a]\n",
    "\n",
    "def union_set(uf, a, b):\n",
    "    if find_set(uf, a) != find_set(uf, b):\n",
    "        uf[find_set(uf, a)] = uf[b]\n",
    "\n",
    "print(len(unit_of_int))\n",
    "tree = KDTree(unit_of_int, leaf_size=5)   \n",
    "clss = [x for x in range(len(unit_of_int))]  \n",
    "\n",
    "dist, ind = tree.query(unit_of_int, k=4, sort_results=True)  \n",
    "for idx, unit in enumerate(unit_of_int):\n",
    "    prob_unit = final_space[unit] / sum(final_space[unit])\n",
    "    d_i = dist[idx]\n",
    "    ind_i = ind[idx]\n",
    "    for i in range(4):\n",
    "        if d_i[i] > 1:\n",
    "            continue\n",
    "        cell = unit_of_int[ind_i[i]]\n",
    "        prob_ngbr = final_space[cell] / sum(final_space[cell])\n",
    "        if np.linalg.norm(prob_unit - prob_ngbr) < 0.05:\n",
    "            union_set(clss, idx, ind_i[i])\n",
    "# print(clss)\n",
    "core = []\n",
    "u = np.unique([find_set(clss, i) for i in range(len(clss))])\n",
    "print(u)\n",
    "a = np.full(space_shape, u[0]-1)\n",
    "for i, unit in enumerate(unit_of_int):\n",
    "    a[unit] = find_set(clss, i)\n",
    "\n",
    "fig = go.Figure(data=go.Heatmap(z=a))\n",
    "fig.show()"
   ]
  },
  {
   "cell_type": "code",
   "execution_count": 29,
   "metadata": {
    "tags": []
   },
   "outputs": [
    {
     "output_type": "stream",
     "name": "stderr",
     "text": [
      "DEBUG:root:The number of device events from processed file: {'Microwave [kW]': 5013, 'Washing_Machine [kW]': 589}\n",
      "DEBUG:root:The number of context events from processed file: {'apparentTemperature#NUM': 8743, 'humidity#NUM': 7669, 'summary#CAT': 1892}\n",
      "528\n",
      "720\n"
     ]
    },
    {
     "output_type": "display_data",
     "data": {
      "application/vnd.plotly.v1+json": {
       "config": {
        "plotlyServerURL": "https://plot.ly"
       },
       "data": [
        {
         "type": "heatmap",
         "z": [
          [
           0,
           0,
           0,
           0,
           0,
           0,
           0,
           0,
           0,
           0,
           0,
           0,
           0,
           0,
           0,
           0,
           0,
           0,
           0,
           0,
           0,
           0,
           0,
           0,
           0,
           0,
           0,
           0,
           0,
           0,
           0,
           0,
           0,
           0,
           0,
           0,
           0,
           0,
           0,
           0,
           0,
           0,
           0,
           0,
           0,
           0,
           0,
           0,
           0,
           0,
           0,
           0,
           0,
           0,
           0,
           0,
           0,
           0,
           0,
           0,
           0,
           0,
           0,
           0,
           0,
           0,
           0,
           0,
           0,
           0,
           0,
           0
          ],
          [
           0,
           0,
           0,
           0,
           0,
           0,
           0,
           0,
           0,
           0,
           0,
           0,
           0,
           0,
           0,
           0,
           0,
           0,
           0,
           0,
           0,
           0,
           0,
           0,
           0,
           0,
           0,
           0,
           0,
           0,
           0,
           0,
           0,
           0,
           0,
           0,
           0.5,
           0.5,
           0,
           0,
           0,
           0,
           0.047619047619047616,
           0,
           0,
           0,
           0,
           0.047619047619047616,
           0,
           0,
           0.13043478260869565,
           0.23529411764705882,
           0.3076923076923077,
           0.125,
           0.17647058823529413,
           0,
           0,
           0,
           0,
           0,
           0,
           0,
           0,
           0,
           0,
           0,
           0,
           0,
           0,
           0,
           0,
           0
          ],
          [
           0,
           0,
           0,
           0,
           0,
           0,
           0,
           0,
           0,
           0,
           0,
           0,
           0,
           0,
           0,
           0,
           0,
           0,
           0,
           0,
           0,
           0,
           0,
           0,
           0,
           0,
           0,
           0,
           0,
           0,
           0,
           0.06666666666666667,
           0,
           0.10810810810810811,
           0.14285714285714285,
           0.10810810810810811,
           0.06666666666666667,
           0.14,
           0.06666666666666667,
           0.09375,
           0.07575757575757576,
           0.06451612903225806,
           0.1,
           0.10256410256410256,
           0.028985507246376812,
           0.06060606060606061,
           0.010869565217391304,
           0,
           0.05747126436781609,
           0.09278350515463918,
           0.06666666666666667,
           0.2,
           0.2413793103448276,
           0.17,
           0.1111111111111111,
           0.09230769230769231,
           0.06349206349206349,
           0,
           0,
           0,
           0,
           0,
           0,
           0,
           0,
           0,
           0,
           0,
           0,
           0,
           0,
           0
          ],
          [
           0,
           0,
           0,
           0,
           0,
           0,
           0,
           0,
           0,
           0,
           0,
           0,
           0,
           0,
           0,
           0,
           0,
           0,
           0,
           0,
           0,
           0,
           0,
           0,
           0,
           0,
           0,
           0.0625,
           0,
           0,
           0.030303030303030304,
           0.05714285714285714,
           0.08823529411764706,
           0.08196721311475409,
           0.14516129032258066,
           0.10344827586206896,
           0.07547169811320754,
           0.07,
           0.06862745098039216,
           0.0896551724137931,
           0.1,
           0.08904109589041095,
           0.05851063829787234,
           0.03314917127071823,
           0.022598870056497175,
           0.022222222222222223,
           0.05263157894736842,
           0.07291666666666667,
           0.03333333333333333,
           0.11055276381909548,
           0.1891891891891892,
           0.2549019607843137,
           0.26635514018691586,
           0.1864406779661017,
           0.02631578947368421,
           0,
           0.017543859649122806,
           0.05263157894736842,
           0.06315789473684211,
           0.011111111111111112,
           0.023255813953488372,
           0,
           0,
           0,
           0,
           0,
           0,
           0,
           0,
           0,
           0,
           0
          ],
          [
           0,
           0,
           0,
           0,
           0,
           0,
           0,
           0,
           0,
           0,
           0,
           0,
           0,
           0,
           0,
           0,
           0,
           0,
           0,
           0,
           0,
           0,
           0,
           0,
           0,
           0,
           0,
           0.019230769230769232,
           0.019230769230769232,
           0.0392156862745098,
           0.1016949152542373,
           0.11504424778761062,
           0.13821138211382114,
           0.15422885572139303,
           0.13131313131313133,
           0.11052631578947368,
           0.14344262295081966,
           0.09251101321585903,
           0.07111111111111111,
           0.0514018691588785,
           0.06046511627906977,
           0.05188679245283019,
           0.042328042328042326,
           0.031914893617021274,
           0.037037037037037035,
           0.012987012987012988,
           0.019736842105263157,
           0.019736842105263157,
           0.1,
           0.14606741573033707,
           0.16111111111111112,
           0.27705627705627706,
           0.23728813559322035,
           0.1497326203208556,
           0.09876543209876543,
           0.07407407407407407,
           0.03896103896103896,
           0.016,
           0.0390625,
           0.023622047244094488,
           0.04310344827586207,
           0.017857142857142856,
           0,
           0,
           0.012195121951219513,
           0.012195121951219513,
           0,
           0,
           0,
           0,
           0,
           0
          ],
          [
           0,
           0,
           0,
           0,
           0,
           0,
           0,
           0,
           0,
           0,
           0,
           0,
           0,
           0,
           0,
           0,
           0,
           0,
           0,
           0,
           0.017857142857142856,
           0.017543859649122806,
           0.017543859649122806,
           0,
           0,
           0.011111111111111112,
           0.02197802197802198,
           0.03488372093023256,
           0.023529411764705882,
           0.04597701149425287,
           0.07042253521126761,
           0.15918367346938775,
           0.1350210970464135,
           0.09691629955947137,
           0.0881057268722467,
           0.10300429184549356,
           0.09289617486338798,
           0.08648648648648649,
           0.10160427807486631,
           0.10625,
           0.0718954248366013,
           0.02127659574468085,
           0.03389830508474576,
           0.05084745762711865,
           0.08064516129032258,
           0.04504504504504504,
           0.027522935779816515,
           0.009345794392523364,
           0.045454545454545456,
           0.10833333333333334,
           0.19083969465648856,
           0.2717948717948718,
           0.25136612021857924,
           0.19642857142857142,
           0.043478260869565216,
           0.050724637681159424,
           0.050724637681159424,
           0.041666666666666664,
           0.02857142857142857,
           0.0425531914893617,
           0.026143790849673203,
           0.013333333333333334,
           0.006711409395973154,
           0.006578947368421052,
           0,
           0,
           0,
           0,
           0,
           0,
           0,
           0
          ],
          [
           0,
           0,
           0,
           0,
           0,
           0,
           0,
           0,
           0,
           0,
           0,
           0,
           0,
           0,
           0,
           0,
           0,
           0,
           0,
           0.009615384615384616,
           0.019230769230769232,
           0.01818181818181818,
           0.009174311926605505,
           0.026785714285714284,
           0.06451612903225806,
           0.07643312101910828,
           0.020833333333333332,
           0.03007518796992481,
           0.015151515151515152,
           0.03007518796992481,
           0.019230769230769232,
           0.06626506024096386,
           0.0718562874251497,
           0.104,
           0.14173228346456693,
           0.09016393442622951,
           0.08536585365853659,
           0.14,
           0.10344827586206896,
           0.12162162162162163,
           0.14473684210526316,
           0.07575757575757576,
           0.06666666666666667,
           0.0967741935483871,
           0.06666666666666667,
           0.06493506493506493,
           0.02702702702702703,
           0.039473684210526314,
           0.0547945205479452,
           0.02857142857142857,
           0.11842105263157894,
           0.3418803418803419,
           0.3185840707964602,
           0.21875,
           0.13445378151260504,
           0.038461538461538464,
           0.04672897196261682,
           0.10655737704918032,
           0.06896551724137931,
           0.09090909090909091,
           0.015873015873015872,
           0.038461538461538464,
           0.015748031496062992,
           0,
           0,
           0.007352941176470588,
           0,
           0,
           0,
           0,
           0,
           0
          ],
          [
           0,
           0,
           0,
           0,
           0,
           0,
           0,
           0,
           0,
           0,
           0,
           0,
           0,
           0,
           0,
           0.009900990099009901,
           0,
           0,
           0.0392156862745098,
           0.02040816326530612,
           0.010309278350515464,
           0.03225806451612903,
           0.046511627906976744,
           0.03937007874015748,
           0.05755395683453238,
           0.044444444444444446,
           0.06993006993006994,
           0.040268456375838924,
           0.013888888888888888,
           0.034482758620689655,
           0.04081632653061224,
           0.0673076923076923,
           0.06,
           0.19230769230769232,
           0.11267605633802817,
           0.01639344262295082,
           0.06,
           0.058823529411764705,
           0.041666666666666664,
           0.08,
           0.06382978723404255,
           0.0425531914893617,
           0.047619047619047616,
           0.1111111111111111,
           0.10416666666666667,
           0.0425531914893617,
           0,
           0.021739130434782608,
           0.016666666666666666,
           0.12903225806451613,
           0.225,
           0.17647058823529413,
           0.20588235294117646,
           0.18840579710144928,
           0.16666666666666666,
           0.056338028169014086,
           0.04285714285714286,
           0.02830188679245283,
           0.03773584905660377,
           0.019230769230769232,
           0.03636363636363636,
           0.036036036036036036,
           0.018691588785046728,
           0,
           0,
           0,
           0,
           0,
           0,
           0,
           0,
           0
          ],
          [
           0,
           0,
           0,
           0,
           0,
           0,
           0,
           0,
           0,
           0,
           0,
           0,
           0,
           0,
           0.00423728813559322,
           0,
           0,
           0.004484304932735426,
           0.023148148148148147,
           0.02304147465437788,
           0.04888888888888889,
           0.03070175438596491,
           0.05531914893617021,
           0.02654867256637168,
           0.04411764705882353,
           0.06310679611650485,
           0.06220095693779904,
           0.04938271604938271,
           0.05,
           0.03184713375796178,
           0.12087912087912088,
           0.12371134020618557,
           0.10869565217391304,
           0.10666666666666667,
           0.13157894736842105,
           0.07142857142857142,
           0.06666666666666667,
           0.1111111111111111,
           0.0975609756097561,
           0.08955223880597014,
           0.09523809523809523,
           0.016666666666666666,
           0.0847457627118644,
           0.08333333333333333,
           0.05172413793103448,
           0.02,
           0,
           0.02040816326530612,
           0.13846153846153847,
           0.14035087719298245,
           0.24358974358974358,
           0.2636363636363636,
           0.24752475247524752,
           0.16853932584269662,
           0.13793103448275862,
           0.038461538461538464,
           0.013157894736842105,
           0.05154639175257732,
           0.0594059405940594,
           0.049019607843137254,
           0.014925373134328358,
           0.014925373134328358,
           0.007633587786259542,
           0,
           0,
           0,
           0.006535947712418301,
           0.006493506493506494,
           0,
           0,
           0,
           0
          ],
          [
           0,
           0,
           0,
           0,
           0,
           0,
           0,
           0,
           0,
           0,
           0,
           0,
           0,
           0,
           0,
           0,
           0,
           0.00425531914893617,
           0.019305019305019305,
           0.033707865168539325,
           0.04460966542750929,
           0.05286343612334802,
           0.03139013452914798,
           0.05982905982905983,
           0.07303370786516854,
           0.03048780487804878,
           0.0125,
           0,
           0.04938271604938271,
           0.02564102564102564,
           0.045454545454545456,
           0.05970149253731343,
           0.189873417721519,
           0.08928571428571429,
           0.07272727272727272,
           0.05555555555555555,
           0.1951219512195122,
           0.1388888888888889,
           0.2,
           0.09375,
           0.09090909090909091,
           0.0967741935483871,
           0.07142857142857142,
           0.07142857142857142,
           0.034482758620689655,
           0.037037037037037035,
           0.15151515151515152,
           0.16666666666666666,
           0.041666666666666664,
           0.1724137931034483,
           0.38461538461538464,
           0.40816326530612246,
           0.2553191489361702,
           0.21621621621621623,
           0.175,
           0,
           0,
           0.046511627906976744,
           0.08888888888888889,
           0,
           0,
           0,
           0,
           0,
           0,
           0,
           0,
           0,
           0,
           0,
           0,
           0
          ]
         ]
        }
       ],
       "layout": {
        "template": {
         "data": {
          "bar": [
           {
            "error_x": {
             "color": "#2a3f5f"
            },
            "error_y": {
             "color": "#2a3f5f"
            },
            "marker": {
             "line": {
              "color": "#E5ECF6",
              "width": 0.5
             }
            },
            "type": "bar"
           }
          ],
          "barpolar": [
           {
            "marker": {
             "line": {
              "color": "#E5ECF6",
              "width": 0.5
             }
            },
            "type": "barpolar"
           }
          ],
          "carpet": [
           {
            "aaxis": {
             "endlinecolor": "#2a3f5f",
             "gridcolor": "white",
             "linecolor": "white",
             "minorgridcolor": "white",
             "startlinecolor": "#2a3f5f"
            },
            "baxis": {
             "endlinecolor": "#2a3f5f",
             "gridcolor": "white",
             "linecolor": "white",
             "minorgridcolor": "white",
             "startlinecolor": "#2a3f5f"
            },
            "type": "carpet"
           }
          ],
          "choropleth": [
           {
            "colorbar": {
             "outlinewidth": 0,
             "ticks": ""
            },
            "type": "choropleth"
           }
          ],
          "contour": [
           {
            "colorbar": {
             "outlinewidth": 0,
             "ticks": ""
            },
            "colorscale": [
             [
              0,
              "#0d0887"
             ],
             [
              0.1111111111111111,
              "#46039f"
             ],
             [
              0.2222222222222222,
              "#7201a8"
             ],
             [
              0.3333333333333333,
              "#9c179e"
             ],
             [
              0.4444444444444444,
              "#bd3786"
             ],
             [
              0.5555555555555556,
              "#d8576b"
             ],
             [
              0.6666666666666666,
              "#ed7953"
             ],
             [
              0.7777777777777778,
              "#fb9f3a"
             ],
             [
              0.8888888888888888,
              "#fdca26"
             ],
             [
              1,
              "#f0f921"
             ]
            ],
            "type": "contour"
           }
          ],
          "contourcarpet": [
           {
            "colorbar": {
             "outlinewidth": 0,
             "ticks": ""
            },
            "type": "contourcarpet"
           }
          ],
          "heatmap": [
           {
            "colorbar": {
             "outlinewidth": 0,
             "ticks": ""
            },
            "colorscale": [
             [
              0,
              "#0d0887"
             ],
             [
              0.1111111111111111,
              "#46039f"
             ],
             [
              0.2222222222222222,
              "#7201a8"
             ],
             [
              0.3333333333333333,
              "#9c179e"
             ],
             [
              0.4444444444444444,
              "#bd3786"
             ],
             [
              0.5555555555555556,
              "#d8576b"
             ],
             [
              0.6666666666666666,
              "#ed7953"
             ],
             [
              0.7777777777777778,
              "#fb9f3a"
             ],
             [
              0.8888888888888888,
              "#fdca26"
             ],
             [
              1,
              "#f0f921"
             ]
            ],
            "type": "heatmap"
           }
          ],
          "heatmapgl": [
           {
            "colorbar": {
             "outlinewidth": 0,
             "ticks": ""
            },
            "colorscale": [
             [
              0,
              "#0d0887"
             ],
             [
              0.1111111111111111,
              "#46039f"
             ],
             [
              0.2222222222222222,
              "#7201a8"
             ],
             [
              0.3333333333333333,
              "#9c179e"
             ],
             [
              0.4444444444444444,
              "#bd3786"
             ],
             [
              0.5555555555555556,
              "#d8576b"
             ],
             [
              0.6666666666666666,
              "#ed7953"
             ],
             [
              0.7777777777777778,
              "#fb9f3a"
             ],
             [
              0.8888888888888888,
              "#fdca26"
             ],
             [
              1,
              "#f0f921"
             ]
            ],
            "type": "heatmapgl"
           }
          ],
          "histogram": [
           {
            "marker": {
             "colorbar": {
              "outlinewidth": 0,
              "ticks": ""
             }
            },
            "type": "histogram"
           }
          ],
          "histogram2d": [
           {
            "colorbar": {
             "outlinewidth": 0,
             "ticks": ""
            },
            "colorscale": [
             [
              0,
              "#0d0887"
             ],
             [
              0.1111111111111111,
              "#46039f"
             ],
             [
              0.2222222222222222,
              "#7201a8"
             ],
             [
              0.3333333333333333,
              "#9c179e"
             ],
             [
              0.4444444444444444,
              "#bd3786"
             ],
             [
              0.5555555555555556,
              "#d8576b"
             ],
             [
              0.6666666666666666,
              "#ed7953"
             ],
             [
              0.7777777777777778,
              "#fb9f3a"
             ],
             [
              0.8888888888888888,
              "#fdca26"
             ],
             [
              1,
              "#f0f921"
             ]
            ],
            "type": "histogram2d"
           }
          ],
          "histogram2dcontour": [
           {
            "colorbar": {
             "outlinewidth": 0,
             "ticks": ""
            },
            "colorscale": [
             [
              0,
              "#0d0887"
             ],
             [
              0.1111111111111111,
              "#46039f"
             ],
             [
              0.2222222222222222,
              "#7201a8"
             ],
             [
              0.3333333333333333,
              "#9c179e"
             ],
             [
              0.4444444444444444,
              "#bd3786"
             ],
             [
              0.5555555555555556,
              "#d8576b"
             ],
             [
              0.6666666666666666,
              "#ed7953"
             ],
             [
              0.7777777777777778,
              "#fb9f3a"
             ],
             [
              0.8888888888888888,
              "#fdca26"
             ],
             [
              1,
              "#f0f921"
             ]
            ],
            "type": "histogram2dcontour"
           }
          ],
          "mesh3d": [
           {
            "colorbar": {
             "outlinewidth": 0,
             "ticks": ""
            },
            "type": "mesh3d"
           }
          ],
          "parcoords": [
           {
            "line": {
             "colorbar": {
              "outlinewidth": 0,
              "ticks": ""
             }
            },
            "type": "parcoords"
           }
          ],
          "pie": [
           {
            "automargin": true,
            "type": "pie"
           }
          ],
          "scatter": [
           {
            "marker": {
             "colorbar": {
              "outlinewidth": 0,
              "ticks": ""
             }
            },
            "type": "scatter"
           }
          ],
          "scatter3d": [
           {
            "line": {
             "colorbar": {
              "outlinewidth": 0,
              "ticks": ""
             }
            },
            "marker": {
             "colorbar": {
              "outlinewidth": 0,
              "ticks": ""
             }
            },
            "type": "scatter3d"
           }
          ],
          "scattercarpet": [
           {
            "marker": {
             "colorbar": {
              "outlinewidth": 0,
              "ticks": ""
             }
            },
            "type": "scattercarpet"
           }
          ],
          "scattergeo": [
           {
            "marker": {
             "colorbar": {
              "outlinewidth": 0,
              "ticks": ""
             }
            },
            "type": "scattergeo"
           }
          ],
          "scattergl": [
           {
            "marker": {
             "colorbar": {
              "outlinewidth": 0,
              "ticks": ""
             }
            },
            "type": "scattergl"
           }
          ],
          "scattermapbox": [
           {
            "marker": {
             "colorbar": {
              "outlinewidth": 0,
              "ticks": ""
             }
            },
            "type": "scattermapbox"
           }
          ],
          "scatterpolar": [
           {
            "marker": {
             "colorbar": {
              "outlinewidth": 0,
              "ticks": ""
             }
            },
            "type": "scatterpolar"
           }
          ],
          "scatterpolargl": [
           {
            "marker": {
             "colorbar": {
              "outlinewidth": 0,
              "ticks": ""
             }
            },
            "type": "scatterpolargl"
           }
          ],
          "scatterternary": [
           {
            "marker": {
             "colorbar": {
              "outlinewidth": 0,
              "ticks": ""
             }
            },
            "type": "scatterternary"
           }
          ],
          "surface": [
           {
            "colorbar": {
             "outlinewidth": 0,
             "ticks": ""
            },
            "colorscale": [
             [
              0,
              "#0d0887"
             ],
             [
              0.1111111111111111,
              "#46039f"
             ],
             [
              0.2222222222222222,
              "#7201a8"
             ],
             [
              0.3333333333333333,
              "#9c179e"
             ],
             [
              0.4444444444444444,
              "#bd3786"
             ],
             [
              0.5555555555555556,
              "#d8576b"
             ],
             [
              0.6666666666666666,
              "#ed7953"
             ],
             [
              0.7777777777777778,
              "#fb9f3a"
             ],
             [
              0.8888888888888888,
              "#fdca26"
             ],
             [
              1,
              "#f0f921"
             ]
            ],
            "type": "surface"
           }
          ],
          "table": [
           {
            "cells": {
             "fill": {
              "color": "#EBF0F8"
             },
             "line": {
              "color": "white"
             }
            },
            "header": {
             "fill": {
              "color": "#C8D4E3"
             },
             "line": {
              "color": "white"
             }
            },
            "type": "table"
           }
          ]
         },
         "layout": {
          "annotationdefaults": {
           "arrowcolor": "#2a3f5f",
           "arrowhead": 0,
           "arrowwidth": 1
          },
          "autotypenumbers": "strict",
          "coloraxis": {
           "colorbar": {
            "outlinewidth": 0,
            "ticks": ""
           }
          },
          "colorscale": {
           "diverging": [
            [
             0,
             "#8e0152"
            ],
            [
             0.1,
             "#c51b7d"
            ],
            [
             0.2,
             "#de77ae"
            ],
            [
             0.3,
             "#f1b6da"
            ],
            [
             0.4,
             "#fde0ef"
            ],
            [
             0.5,
             "#f7f7f7"
            ],
            [
             0.6,
             "#e6f5d0"
            ],
            [
             0.7,
             "#b8e186"
            ],
            [
             0.8,
             "#7fbc41"
            ],
            [
             0.9,
             "#4d9221"
            ],
            [
             1,
             "#276419"
            ]
           ],
           "sequential": [
            [
             0,
             "#0d0887"
            ],
            [
             0.1111111111111111,
             "#46039f"
            ],
            [
             0.2222222222222222,
             "#7201a8"
            ],
            [
             0.3333333333333333,
             "#9c179e"
            ],
            [
             0.4444444444444444,
             "#bd3786"
            ],
            [
             0.5555555555555556,
             "#d8576b"
            ],
            [
             0.6666666666666666,
             "#ed7953"
            ],
            [
             0.7777777777777778,
             "#fb9f3a"
            ],
            [
             0.8888888888888888,
             "#fdca26"
            ],
            [
             1,
             "#f0f921"
            ]
           ],
           "sequentialminus": [
            [
             0,
             "#0d0887"
            ],
            [
             0.1111111111111111,
             "#46039f"
            ],
            [
             0.2222222222222222,
             "#7201a8"
            ],
            [
             0.3333333333333333,
             "#9c179e"
            ],
            [
             0.4444444444444444,
             "#bd3786"
            ],
            [
             0.5555555555555556,
             "#d8576b"
            ],
            [
             0.6666666666666666,
             "#ed7953"
            ],
            [
             0.7777777777777778,
             "#fb9f3a"
            ],
            [
             0.8888888888888888,
             "#fdca26"
            ],
            [
             1,
             "#f0f921"
            ]
           ]
          },
          "colorway": [
           "#636efa",
           "#EF553B",
           "#00cc96",
           "#ab63fa",
           "#FFA15A",
           "#19d3f3",
           "#FF6692",
           "#B6E880",
           "#FF97FF",
           "#FECB52"
          ],
          "font": {
           "color": "#2a3f5f"
          },
          "geo": {
           "bgcolor": "white",
           "lakecolor": "white",
           "landcolor": "#E5ECF6",
           "showlakes": true,
           "showland": true,
           "subunitcolor": "white"
          },
          "hoverlabel": {
           "align": "left"
          },
          "hovermode": "closest",
          "mapbox": {
           "style": "light"
          },
          "paper_bgcolor": "white",
          "plot_bgcolor": "#E5ECF6",
          "polar": {
           "angularaxis": {
            "gridcolor": "white",
            "linecolor": "white",
            "ticks": ""
           },
           "bgcolor": "#E5ECF6",
           "radialaxis": {
            "gridcolor": "white",
            "linecolor": "white",
            "ticks": ""
           }
          },
          "scene": {
           "xaxis": {
            "backgroundcolor": "#E5ECF6",
            "gridcolor": "white",
            "gridwidth": 2,
            "linecolor": "white",
            "showbackground": true,
            "ticks": "",
            "zerolinecolor": "white"
           },
           "yaxis": {
            "backgroundcolor": "#E5ECF6",
            "gridcolor": "white",
            "gridwidth": 2,
            "linecolor": "white",
            "showbackground": true,
            "ticks": "",
            "zerolinecolor": "white"
           },
           "zaxis": {
            "backgroundcolor": "#E5ECF6",
            "gridcolor": "white",
            "gridwidth": 2,
            "linecolor": "white",
            "showbackground": true,
            "ticks": "",
            "zerolinecolor": "white"
           }
          },
          "shapedefaults": {
           "line": {
            "color": "#2a3f5f"
           }
          },
          "ternary": {
           "aaxis": {
            "gridcolor": "white",
            "linecolor": "white",
            "ticks": ""
           },
           "baxis": {
            "gridcolor": "white",
            "linecolor": "white",
            "ticks": ""
           },
           "bgcolor": "#E5ECF6",
           "caxis": {
            "gridcolor": "white",
            "linecolor": "white",
            "ticks": ""
           }
          },
          "title": {
           "x": 0.05
          },
          "xaxis": {
           "automargin": true,
           "gridcolor": "white",
           "linecolor": "white",
           "ticks": "",
           "title": {
            "standoff": 15
           },
           "zerolinecolor": "white",
           "zerolinewidth": 2
          },
          "yaxis": {
           "automargin": true,
           "gridcolor": "white",
           "linecolor": "white",
           "ticks": "",
           "title": {
            "standoff": 15
           },
           "zerolinecolor": "white",
           "zerolinewidth": 2
          }
         }
        }
       }
      }
     },
     "metadata": {}
    }
   ],
   "source": [
    "\n",
    "time_delta = 20\n",
    "d_time_delta = timedelta(minutes=10)\n",
    "humidity_delta = 0.1\n",
    "on_state = [[],[]]\n",
    "off_state = [[],[]]\n",
    "space_shape = (math.ceil(1.0/humidity_delta), math.ceil(24*60/time_delta))\n",
    "final_space = np.zeros([space_shape[0], space_shape[1], 2])\n",
    "data_x = []\n",
    "data_y = []\n",
    "min_obs = 10\n",
    "unit_of_int = []\n",
    "def process_snapshot(cur_time, ctx_snapshot, d_state):\n",
    "    cell_idx = (int(ctx_snapshot['humidity#NUM']/humidity_delta), int(ctx_snapshot['min_of_day#NUM']/time_delta))\n",
    "\n",
    "    if d_state == \"on\":\n",
    "        final_space[cell_idx[0], cell_idx[1], 0] += 1\n",
    "    else:\n",
    "        final_space[cell_idx[0], cell_idx[1], 1] += 1\n",
    "    if final_space[cell_idx[0], cell_idx[1], 1] + final_space[cell_idx[0], cell_idx[1], 0] == min_obs:\n",
    "        unit_of_int.append(cell_idx)\n",
    "    data_x.append([ctx_snapshot['min_of_day#NUM'], ctx_snapshot['humidity#NUM']])\n",
    "    data_y.append(0 if d_state==\"on\" else 1)\n",
    "\n",
    "def tag_device(ctx_evts, device_evts):\n",
    "    for d, d_evts in device_evts.items():\n",
    "        if d != \"Microwave [kW]\":\n",
    "            continue\n",
    "        cur_time = d_evts[0][1]\n",
    "        end_time = d_evts[-1][1]\n",
    "        c_evt_idx = {c: 0 for c in ctx_evts}\n",
    "        ctx_snapshot = {\n",
    "            c: ctx_evts[c][0][0]\n",
    "            for c in ctx_evts\n",
    "        }\n",
    "        cur_evt_idx = 0\n",
    "        d_state = d_evts[0][0]\n",
    "        while cur_time < end_time:\n",
    "            for c, c_evts in ctx_evts.items():\n",
    "                while c_evt_idx[c] < len(c_evts) and c_evts[c_evt_idx[c]][1] <= cur_time:\n",
    "                    ctx_snapshot[c] = c_evts[c_evt_idx[c]][0]\n",
    "                    c_evt_idx[c] += 1\n",
    "            # Add additional contextes\n",
    "            ctx_snapshot[TIME_CTX] = datetime_to_mins(cur_time)\n",
    "            ctx_snapshot[WEEKDAY_CTX] = cur_time.date().weekday()  \n",
    "            process_snapshot(cur_time, ctx_snapshot, d_state)  \n",
    "\n",
    "            if d_evts[cur_evt_idx + 1][1] <= cur_time + d_time_delta:\n",
    "                cur_time = d_evts[cur_evt_idx + 1][1]\n",
    "                cur_evt_idx += 1\n",
    "                d_state = d_evts[cur_evt_idx][0]\n",
    "            else:\n",
    "                cur_time += d_time_delta\n",
    "            \n",
    "\n",
    "def test_umass_2():\n",
    "    test_project = \"HomeF/2016\"\n",
    "    project_path = os.path.join(DATA_ROOT, UMASS_ROOT, test_project)\n",
    "    input_file = os.path.join(project_path, PROCESSED_FILENAME)\n",
    "    with open(input_file) as f:\n",
    "        json_str = f.read()\n",
    "        (ctx_evts, device_evts) = json.loads(json_str, object_hook=json_datetime_hook)\n",
    "    logging.debug(\"The number of device events from processed file: {}\".format(\n",
    "        {x: len(device_evts[x]) for x in device_evts}))\n",
    "    logging.debug(\"The number of context events from processed file: {}\".format(\n",
    "            {x: len(ctx_evts[x]) for x in ctx_evts}))\n",
    "    \n",
    "    tag_device(ctx_evts, device_evts)\n",
    "\n",
    "test_umass_2()\n",
    "\n",
    "\n",
    "on_rate = np.zeros(space_shape)\n",
    "total_hit = np.zeros(space_shape)\n",
    "\n",
    "count = 0\n",
    "for i in range(space_shape[0]):\n",
    "    for j in range(space_shape[1]):\n",
    "        total_hit[i,j] = final_space[i,j][0] +  final_space[i,j][1]\n",
    "        if final_space[i,j][0] +  final_space[i,j][1] == 0:\n",
    "            count+=1\n",
    "            continue\n",
    "        on_rate[i,j] = final_space[i,j][0] / (final_space[i,j][0] +  final_space[i,j][1])  \n",
    "print(len(unit_of_int))\n",
    "print(space_shape[0]*space_shape[1])\n",
    "fig = go.Figure(data=go.Heatmap(z=on_rate))\n",
    "# fig = go.Figure(data=go.Heatmap(z=total_hit))\n",
    "fig.show()"
   ]
  },
  {
   "cell_type": "code",
   "execution_count": 85,
   "metadata": {},
   "outputs": [
    {
     "output_type": "stream",
     "name": "stdout",
     "text": [
      "[0.13898541 0.58823529]\n[[0.49720339]]\n[[-0.45413627  0.88417517]]\n"
     ]
    }
   ],
   "source": [
    "# LDA not working\n",
    "import matplotlib.pyplot as plt\n",
    "from sklearn.discriminant_analysis import LinearDiscriminantAnalysis as LDA\n",
    "import sklearn\n",
    "\n",
    "clss = LDA()\n",
    "data_x = sklearn.preprocessing.MinMaxScaler().fit_transform(data_x)\n",
    "\n",
    "x = clss.fit_transform(data_x, data_y)\n",
    "print(data_x[10])\n",
    "print(clss.transform(data_x[10:11]))\n",
    "print(clss.coef_)"
   ]
  },
  {
   "cell_type": "code",
   "execution_count": 17,
   "metadata": {},
   "outputs": [
    {
     "output_type": "stream",
     "name": "stdout",
     "text": [
      "30\n"
     ]
    },
    {
     "output_type": "error",
     "ename": "TypeError",
     "evalue": "self._qh cannot be converted to a Python object for pickling",
     "traceback": [
      "\u001b[0;31m---------------------------------------------------------------------------\u001b[0m",
      "\u001b[0;31mTypeError\u001b[0m                                 Traceback (most recent call last)",
      "\u001b[0;32m<ipython-input-17-a5c71920eb65>\u001b[0m in \u001b[0;36m<module>\u001b[0;34m\u001b[0m\n\u001b[1;32m      6\u001b[0m \u001b[0mnewp\u001b[0m \u001b[0;34m=\u001b[0m \u001b[0mnp\u001b[0m\u001b[0;34m.\u001b[0m\u001b[0mrandom\u001b[0m\u001b[0;34m.\u001b[0m\u001b[0mrand\u001b[0m\u001b[0;34m(\u001b[0m\u001b[0;36m10\u001b[0m\u001b[0;34m,\u001b[0m\u001b[0;36m2\u001b[0m\u001b[0;34m)\u001b[0m\u001b[0;34m\u001b[0m\u001b[0;34m\u001b[0m\u001b[0m\n\u001b[1;32m      7\u001b[0m \u001b[0mprint\u001b[0m\u001b[0;34m(\u001b[0m\u001b[0mlen\u001b[0m\u001b[0;34m(\u001b[0m\u001b[0mhull\u001b[0m\u001b[0;34m.\u001b[0m\u001b[0mpoints\u001b[0m\u001b[0;34m)\u001b[0m\u001b[0;34m)\u001b[0m\u001b[0;34m\u001b[0m\u001b[0;34m\u001b[0m\u001b[0m\n\u001b[0;32m----> 8\u001b[0;31m \u001b[0mhull2\u001b[0m \u001b[0;34m=\u001b[0m \u001b[0mcopy\u001b[0m\u001b[0;34m.\u001b[0m\u001b[0mdeepcopy\u001b[0m\u001b[0;34m(\u001b[0m\u001b[0mhull\u001b[0m\u001b[0;34m)\u001b[0m\u001b[0;34m\u001b[0m\u001b[0;34m\u001b[0m\u001b[0m\n\u001b[0m",
      "\u001b[0;32m/usr/local/opt/python/Frameworks/Python.framework/Versions/3.7/lib/python3.7/copy.py\u001b[0m in \u001b[0;36mdeepcopy\u001b[0;34m(x, memo, _nil)\u001b[0m\n\u001b[1;32m    178\u001b[0m                     \u001b[0my\u001b[0m \u001b[0;34m=\u001b[0m \u001b[0mx\u001b[0m\u001b[0;34m\u001b[0m\u001b[0;34m\u001b[0m\u001b[0m\n\u001b[1;32m    179\u001b[0m                 \u001b[0;32melse\u001b[0m\u001b[0;34m:\u001b[0m\u001b[0;34m\u001b[0m\u001b[0;34m\u001b[0m\u001b[0m\n\u001b[0;32m--> 180\u001b[0;31m                     \u001b[0my\u001b[0m \u001b[0;34m=\u001b[0m \u001b[0m_reconstruct\u001b[0m\u001b[0;34m(\u001b[0m\u001b[0mx\u001b[0m\u001b[0;34m,\u001b[0m \u001b[0mmemo\u001b[0m\u001b[0;34m,\u001b[0m \u001b[0;34m*\u001b[0m\u001b[0mrv\u001b[0m\u001b[0;34m)\u001b[0m\u001b[0;34m\u001b[0m\u001b[0;34m\u001b[0m\u001b[0m\n\u001b[0m\u001b[1;32m    181\u001b[0m \u001b[0;34m\u001b[0m\u001b[0m\n\u001b[1;32m    182\u001b[0m     \u001b[0;31m# If is its own copy, don't memoize.\u001b[0m\u001b[0;34m\u001b[0m\u001b[0;34m\u001b[0m\u001b[0;34m\u001b[0m\u001b[0m\n",
      "\u001b[0;32m/usr/local/opt/python/Frameworks/Python.framework/Versions/3.7/lib/python3.7/copy.py\u001b[0m in \u001b[0;36m_reconstruct\u001b[0;34m(x, memo, func, args, state, listiter, dictiter, deepcopy)\u001b[0m\n\u001b[1;32m    278\u001b[0m     \u001b[0;32mif\u001b[0m \u001b[0mstate\u001b[0m \u001b[0;32mis\u001b[0m \u001b[0;32mnot\u001b[0m \u001b[0;32mNone\u001b[0m\u001b[0;34m:\u001b[0m\u001b[0;34m\u001b[0m\u001b[0;34m\u001b[0m\u001b[0m\n\u001b[1;32m    279\u001b[0m         \u001b[0;32mif\u001b[0m \u001b[0mdeep\u001b[0m\u001b[0;34m:\u001b[0m\u001b[0;34m\u001b[0m\u001b[0;34m\u001b[0m\u001b[0m\n\u001b[0;32m--> 280\u001b[0;31m             \u001b[0mstate\u001b[0m \u001b[0;34m=\u001b[0m \u001b[0mdeepcopy\u001b[0m\u001b[0;34m(\u001b[0m\u001b[0mstate\u001b[0m\u001b[0;34m,\u001b[0m \u001b[0mmemo\u001b[0m\u001b[0;34m)\u001b[0m\u001b[0;34m\u001b[0m\u001b[0;34m\u001b[0m\u001b[0m\n\u001b[0m\u001b[1;32m    281\u001b[0m         \u001b[0;32mif\u001b[0m \u001b[0mhasattr\u001b[0m\u001b[0;34m(\u001b[0m\u001b[0my\u001b[0m\u001b[0;34m,\u001b[0m \u001b[0;34m'__setstate__'\u001b[0m\u001b[0;34m)\u001b[0m\u001b[0;34m:\u001b[0m\u001b[0;34m\u001b[0m\u001b[0;34m\u001b[0m\u001b[0m\n\u001b[1;32m    282\u001b[0m             \u001b[0my\u001b[0m\u001b[0;34m.\u001b[0m\u001b[0m__setstate__\u001b[0m\u001b[0;34m(\u001b[0m\u001b[0mstate\u001b[0m\u001b[0;34m)\u001b[0m\u001b[0;34m\u001b[0m\u001b[0;34m\u001b[0m\u001b[0m\n",
      "\u001b[0;32m/usr/local/opt/python/Frameworks/Python.framework/Versions/3.7/lib/python3.7/copy.py\u001b[0m in \u001b[0;36mdeepcopy\u001b[0;34m(x, memo, _nil)\u001b[0m\n\u001b[1;32m    148\u001b[0m     \u001b[0mcopier\u001b[0m \u001b[0;34m=\u001b[0m \u001b[0m_deepcopy_dispatch\u001b[0m\u001b[0;34m.\u001b[0m\u001b[0mget\u001b[0m\u001b[0;34m(\u001b[0m\u001b[0mcls\u001b[0m\u001b[0;34m)\u001b[0m\u001b[0;34m\u001b[0m\u001b[0;34m\u001b[0m\u001b[0m\n\u001b[1;32m    149\u001b[0m     \u001b[0;32mif\u001b[0m \u001b[0mcopier\u001b[0m\u001b[0;34m:\u001b[0m\u001b[0;34m\u001b[0m\u001b[0;34m\u001b[0m\u001b[0m\n\u001b[0;32m--> 150\u001b[0;31m         \u001b[0my\u001b[0m \u001b[0;34m=\u001b[0m \u001b[0mcopier\u001b[0m\u001b[0;34m(\u001b[0m\u001b[0mx\u001b[0m\u001b[0;34m,\u001b[0m \u001b[0mmemo\u001b[0m\u001b[0;34m)\u001b[0m\u001b[0;34m\u001b[0m\u001b[0;34m\u001b[0m\u001b[0m\n\u001b[0m\u001b[1;32m    151\u001b[0m     \u001b[0;32melse\u001b[0m\u001b[0;34m:\u001b[0m\u001b[0;34m\u001b[0m\u001b[0;34m\u001b[0m\u001b[0m\n\u001b[1;32m    152\u001b[0m         \u001b[0;32mtry\u001b[0m\u001b[0;34m:\u001b[0m\u001b[0;34m\u001b[0m\u001b[0;34m\u001b[0m\u001b[0m\n",
      "\u001b[0;32m/usr/local/opt/python/Frameworks/Python.framework/Versions/3.7/lib/python3.7/copy.py\u001b[0m in \u001b[0;36m_deepcopy_dict\u001b[0;34m(x, memo, deepcopy)\u001b[0m\n\u001b[1;32m    238\u001b[0m     \u001b[0mmemo\u001b[0m\u001b[0;34m[\u001b[0m\u001b[0mid\u001b[0m\u001b[0;34m(\u001b[0m\u001b[0mx\u001b[0m\u001b[0;34m)\u001b[0m\u001b[0;34m]\u001b[0m \u001b[0;34m=\u001b[0m \u001b[0my\u001b[0m\u001b[0;34m\u001b[0m\u001b[0;34m\u001b[0m\u001b[0m\n\u001b[1;32m    239\u001b[0m     \u001b[0;32mfor\u001b[0m \u001b[0mkey\u001b[0m\u001b[0;34m,\u001b[0m \u001b[0mvalue\u001b[0m \u001b[0;32min\u001b[0m \u001b[0mx\u001b[0m\u001b[0;34m.\u001b[0m\u001b[0mitems\u001b[0m\u001b[0;34m(\u001b[0m\u001b[0;34m)\u001b[0m\u001b[0;34m:\u001b[0m\u001b[0;34m\u001b[0m\u001b[0;34m\u001b[0m\u001b[0m\n\u001b[0;32m--> 240\u001b[0;31m         \u001b[0my\u001b[0m\u001b[0;34m[\u001b[0m\u001b[0mdeepcopy\u001b[0m\u001b[0;34m(\u001b[0m\u001b[0mkey\u001b[0m\u001b[0;34m,\u001b[0m \u001b[0mmemo\u001b[0m\u001b[0;34m)\u001b[0m\u001b[0;34m]\u001b[0m \u001b[0;34m=\u001b[0m \u001b[0mdeepcopy\u001b[0m\u001b[0;34m(\u001b[0m\u001b[0mvalue\u001b[0m\u001b[0;34m,\u001b[0m \u001b[0mmemo\u001b[0m\u001b[0;34m)\u001b[0m\u001b[0;34m\u001b[0m\u001b[0;34m\u001b[0m\u001b[0m\n\u001b[0m\u001b[1;32m    241\u001b[0m     \u001b[0;32mreturn\u001b[0m \u001b[0my\u001b[0m\u001b[0;34m\u001b[0m\u001b[0;34m\u001b[0m\u001b[0m\n\u001b[1;32m    242\u001b[0m \u001b[0md\u001b[0m\u001b[0;34m[\u001b[0m\u001b[0mdict\u001b[0m\u001b[0;34m]\u001b[0m \u001b[0;34m=\u001b[0m \u001b[0m_deepcopy_dict\u001b[0m\u001b[0;34m\u001b[0m\u001b[0;34m\u001b[0m\u001b[0m\n",
      "\u001b[0;32m/usr/local/opt/python/Frameworks/Python.framework/Versions/3.7/lib/python3.7/copy.py\u001b[0m in \u001b[0;36mdeepcopy\u001b[0;34m(x, memo, _nil)\u001b[0m\n\u001b[1;32m    167\u001b[0m                     \u001b[0mreductor\u001b[0m \u001b[0;34m=\u001b[0m \u001b[0mgetattr\u001b[0m\u001b[0;34m(\u001b[0m\u001b[0mx\u001b[0m\u001b[0;34m,\u001b[0m \u001b[0;34m\"__reduce_ex__\"\u001b[0m\u001b[0;34m,\u001b[0m \u001b[0;32mNone\u001b[0m\u001b[0;34m)\u001b[0m\u001b[0;34m\u001b[0m\u001b[0;34m\u001b[0m\u001b[0m\n\u001b[1;32m    168\u001b[0m                     \u001b[0;32mif\u001b[0m \u001b[0mreductor\u001b[0m\u001b[0;34m:\u001b[0m\u001b[0;34m\u001b[0m\u001b[0;34m\u001b[0m\u001b[0m\n\u001b[0;32m--> 169\u001b[0;31m                         \u001b[0mrv\u001b[0m \u001b[0;34m=\u001b[0m \u001b[0mreductor\u001b[0m\u001b[0;34m(\u001b[0m\u001b[0;36m4\u001b[0m\u001b[0;34m)\u001b[0m\u001b[0;34m\u001b[0m\u001b[0;34m\u001b[0m\u001b[0m\n\u001b[0m\u001b[1;32m    170\u001b[0m                     \u001b[0;32melse\u001b[0m\u001b[0;34m:\u001b[0m\u001b[0;34m\u001b[0m\u001b[0;34m\u001b[0m\u001b[0m\n\u001b[1;32m    171\u001b[0m                         \u001b[0mreductor\u001b[0m \u001b[0;34m=\u001b[0m \u001b[0mgetattr\u001b[0m\u001b[0;34m(\u001b[0m\u001b[0mx\u001b[0m\u001b[0;34m,\u001b[0m \u001b[0;34m\"__reduce__\"\u001b[0m\u001b[0;34m,\u001b[0m \u001b[0;32mNone\u001b[0m\u001b[0;34m)\u001b[0m\u001b[0;34m\u001b[0m\u001b[0;34m\u001b[0m\u001b[0m\n",
      "\u001b[0;32m~/protemp/MPC/ConflictDetection/venv/lib/python3.7/site-packages/scipy/spatial/qhull.cpython-37m-darwin.so\u001b[0m in \u001b[0;36mscipy.spatial.qhull._Qhull.__reduce_cython__\u001b[0;34m()\u001b[0m\n",
      "\u001b[0;31mTypeError\u001b[0m: self._qh cannot be converted to a Python object for pickling"
     ]
    }
   ],
   "source": [
    "from scipy.spatial import ConvexHull\n",
    "import copy\n",
    "\n",
    "points = np.random.rand(30, 2)   # 30 random points in 2-D\n",
    "hull = ConvexHull(points, incremental=True)\n",
    "newp = np.random.rand(10,2)\n",
    "print(len(hull.points))\n",
    "hull2 = copy.deepcopy(hull)\n"
   ]
  },
  {
   "cell_type": "code",
   "execution_count": null,
   "metadata": {},
   "outputs": [],
   "source": []
  }
 ]
}
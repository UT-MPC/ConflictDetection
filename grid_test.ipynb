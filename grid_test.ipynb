{
 "metadata": {
  "language_info": {
   "codemirror_mode": {
    "name": "ipython",
    "version": 3
   },
   "file_extension": ".py",
   "mimetype": "text/x-python",
   "name": "python",
   "nbconvert_exporter": "python",
   "pygments_lexer": "ipython3",
   "version": "3.7.6"
  },
  "orig_nbformat": 2,
  "kernelspec": {
   "name": "pythonjvsc74a57bd04fe898ffcadce6da2343864bf819ed3269e46dcfc725e07ab6320af456fe33e5",
   "display_name": "Python 3.7.6  ('venv': venv)"
  },
  "metadata": {
   "interpreter": {
    "hash": "4fe898ffcadce6da2343864bf819ed3269e46dcfc725e07ab6320af456fe33e5"
   }
  }
 },
 "nbformat": 4,
 "nbformat_minor": 2,
 "cells": [
  {
   "cell_type": "code",
   "execution_count": 60,
   "metadata": {
    "tags": []
   },
   "outputs": [],
   "source": [
    "import json\n",
    "import os\n",
    "import numpy as np\n",
    "import math\n",
    "from typing import Dict, List, Tuple\n",
    "\n",
    "from datetime import timedelta\n",
    "from config import *\n",
    "from utils import *\n",
    "\n",
    "time_delta = 20\n",
    "d_time_delta = timedelta(minutes=time_delta)\n",
    "humidity_delta = 0.1\n",
    "on_state = [[],[]]\n",
    "off_state = [[],[]]\n",
    "space_shape = (math.ceil(1.0/humidity_delta), math.ceil(24*60/time_delta))\n",
    "final_space = np.zeros([space_shape[0], space_shape[1], 2])\n",
    "data_x = []\n",
    "data_y = []\n",
    "min_obs = 10\n",
    "unit_of_int = []\n",
    "def process_snapshot(cur_time, ctx_snapshot, d_state):\n",
    "    cell_idx = (int(ctx_snapshot['humidity#NUM']/humidity_delta), int(ctx_snapshot['min_of_day#NUM']/time_delta))\n",
    "\n",
    "    if d_state == \"on\":\n",
    "        final_space[cell_idx[0], cell_idx[1], 0] += 1\n",
    "    else:\n",
    "        final_space[cell_idx[0], cell_idx[1], 1] += 1\n",
    "    if final_space[cell_idx[0], cell_idx[1], 1] + final_space[cell_idx[0], cell_idx[1], 0] == min_obs:\n",
    "        unit_of_int.append(cell_idx)\n",
    "    data_x.append([ctx_snapshot['min_of_day#NUM'], ctx_snapshot['humidity#NUM']])\n",
    "    data_y.append(0 if d_state==\"on\" else 1)\n",
    "\n",
    "def tag_device(ctx_evts, device_evts):\n",
    "    for d, d_evts in device_evts.items():\n",
    "        cur_time = d_evts[0][1]\n",
    "        end_time = d_evts[-1][1]\n",
    "        c_evt_idx = {c: 0 for c in ctx_evts}\n",
    "        ctx_snapshot = {\n",
    "            c: ctx_evts[c][0][0]\n",
    "            for c in ctx_evts\n",
    "        }\n",
    "        cur_evt_idx = 0\n",
    "        d_state = d_evts[0][0]\n",
    "        while cur_time < end_time:\n",
    "            for c, c_evts in ctx_evts.items():\n",
    "                while c_evt_idx[c] < len(c_evts) and c_evts[c_evt_idx[c]][1] <= cur_time:\n",
    "                    ctx_snapshot[c] = c_evts[c_evt_idx[c]][0]\n",
    "                    c_evt_idx[c] += 1\n",
    "            # Add additional contextes\n",
    "            ctx_snapshot[TIME_CTX] = datetime_to_mins(cur_time)\n",
    "            ctx_snapshot[WEEKDAY_CTX] = cur_time.date().weekday()  \n",
    "            process_snapshot(cur_time, ctx_snapshot, d_state)  \n",
    "\n",
    "            if d_evts[cur_evt_idx + 1][1] <= cur_time + d_time_delta:\n",
    "                cur_time = d_evts[cur_evt_idx + 1][1]\n",
    "                cur_evt_idx += 1\n",
    "                d_state = d_evts[cur_evt_idx][0]\n",
    "            else:\n",
    "                cur_time += d_time_delta\n",
    "            \n",
    "\n",
    "def test_umass():\n",
    "    test_project = \"HomeF/2016\"\n",
    "    project_path = os.path.join(DATA_ROOT, UMASS_ROOT, test_project)\n",
    "    input_file = os.path.join(project_path, PROCESSED_FILENAME)\n",
    "    with open(input_file) as f:\n",
    "        json_str = f.read()\n",
    "        (ctx_evts, device_evts) = json.loads(json_str, object_hook=json_datetime_hook)\n",
    "    logging.debug(\"The number of device events from processed file: {}\".format(\n",
    "        {x: len(device_evts[x]) for x in device_evts}))\n",
    "    logging.debug(\"The number of context events from processed file: {}\".format(\n",
    "            {x: len(ctx_evts[x]) for x in ctx_evts}))\n",
    "    \n",
    "    tag_device(ctx_evts, device_evts)\n",
    "\n",
    "test_umass()\n"
   ]
  },
  {
   "cell_type": "code",
   "execution_count": 87,
   "metadata": {},
   "outputs": [
    {
     "output_type": "stream",
     "name": "stdout",
     "text": [
      "(10, 72, 2)\n153\n720\n"
     ]
    },
    {
     "output_type": "display_data",
     "data": {
      "application/vnd.plotly.v1+json": {
       "config": {
        "plotlyServerURL": "https://plot.ly"
       },
       "data": [
        {
         "type": "heatmap",
         "z": [
          [
           0,
           0,
           0,
           0,
           0,
           0,
           0,
           0,
           0,
           0,
           0,
           0,
           0,
           0,
           0,
           0,
           0,
           0,
           0,
           0,
           0,
           0,
           0,
           0,
           0,
           0,
           0,
           0,
           0,
           0,
           0,
           0,
           0,
           0,
           0,
           0,
           0,
           0,
           0,
           0,
           0,
           0,
           0,
           0,
           0,
           0,
           0,
           0,
           0,
           0,
           0,
           0,
           0,
           0,
           0,
           0,
           0,
           0,
           0,
           0,
           0,
           0,
           0,
           0,
           0,
           0,
           0,
           0,
           0,
           0,
           0,
           0
          ],
          [
           0,
           0,
           0,
           0,
           0,
           0,
           0,
           0,
           0,
           0,
           0,
           0,
           0,
           0,
           0,
           0,
           0,
           0,
           0,
           0,
           0,
           0,
           0,
           0,
           0,
           0,
           0,
           0,
           0,
           0,
           0,
           0,
           0,
           0,
           0,
           0,
           0.5,
           0.25,
           0,
           0,
           0,
           0,
           0.045454545454545456,
           0,
           0.047619047619047616,
           0.05,
           0,
           0.09090909090909091,
           0.05,
           0,
           0.08695652173913043,
           0.17647058823529413,
           0.25925925925925924,
           0.125,
           0.1111111111111111,
           0,
           0,
           0,
           0,
           0,
           0,
           0,
           0,
           0,
           0,
           0,
           0,
           0,
           0,
           0,
           0,
           0
          ],
          [
           0,
           0,
           0,
           0,
           0,
           0,
           0,
           0,
           0,
           0,
           0,
           0,
           0,
           0,
           0,
           0,
           0,
           0,
           0,
           0,
           0,
           0,
           0,
           0,
           0,
           0,
           0,
           0,
           0.125,
           0.125,
           0,
           0.06666666666666667,
           0,
           0.10526315789473684,
           0.13953488372093023,
           0.1282051282051282,
           0.10869565217391304,
           0.1346153846153846,
           0.06666666666666667,
           0.078125,
           0.07462686567164178,
           0.08064516129032258,
           0.0975609756097561,
           0.09876543209876543,
           0.028985507246376812,
           0.0594059405940594,
           0.010869565217391304,
           0,
           0.04597701149425287,
           0.1,
           0.07692307692307693,
           0.14705882352941177,
           0.21666666666666667,
           0.14563106796116504,
           0.09375,
           0.09090909090909091,
           0.0625,
           0,
           0,
           0,
           0,
           0,
           0,
           0,
           0,
           0,
           0,
           0,
           0,
           0,
           0,
           0
          ],
          [
           0,
           0,
           0,
           0,
           0,
           0,
           0,
           0,
           0,
           0,
           0,
           0,
           0,
           0,
           0,
           0,
           0,
           0,
           0,
           0,
           0,
           0,
           0,
           0,
           0.2857142857142857,
           0.16666666666666666,
           0,
           0.11764705882352941,
           0,
           0,
           0.030303030303030304,
           0.05714285714285714,
           0.058823529411764705,
           0.08064516129032258,
           0.13846153846153847,
           0.11864406779661017,
           0.102803738317757,
           0.08,
           0.07766990291262135,
           0.10738255033557047,
           0.10526315789473684,
           0.08666666666666667,
           0.06770833333333333,
           0.04945054945054945,
           0.0335195530726257,
           0.027777777777777776,
           0.057291666666666664,
           0.07614213197969544,
           0.03314917127071823,
           0.08585858585858586,
           0.15418502202643172,
           0.215962441314554,
           0.23660714285714285,
           0.16483516483516483,
           0.008849557522123894,
           0,
           0.017391304347826087,
           0.052083333333333336,
           0.061855670103092786,
           0.011235955056179775,
           0.023255813953488372,
           0,
           0,
           0,
           0,
           0,
           0,
           0,
           0,
           0,
           0,
           0
          ],
          [
           0,
           0,
           0,
           0,
           0,
           0,
           0,
           0,
           0,
           0,
           0,
           0,
           0,
           0,
           0,
           0,
           0,
           0,
           0,
           0,
           0,
           0,
           0.14285714285714285,
           0.23076923076923078,
           0,
           0,
           0.045454545454545456,
           0.057692307692307696,
           0.0392156862745098,
           0.02,
           0.11475409836065574,
           0.11864406779661017,
           0.14960629921259844,
           0.14691943127962084,
           0.12376237623762376,
           0.109375,
           0.14,
           0.09829059829059829,
           0.09251101321585903,
           0.06451612903225806,
           0.0776255707762557,
           0.06103286384976526,
           0.03684210526315789,
           0.042105263157894736,
           0.05235602094240838,
           0.025974025974025976,
           0.032467532467532464,
           0.0392156862745098,
           0.12359550561797752,
           0.11666666666666667,
           0.14516129032258066,
           0.22362869198312235,
           0.22040816326530613,
           0.12953367875647667,
           0.07317073170731707,
           0.06707317073170732,
           0.038461538461538464,
           0.015873015873015872,
           0.03125,
           0.0234375,
           0.042735042735042736,
           0.017699115044247787,
           0,
           0,
           0.012195121951219513,
           0.012195121951219513,
           0,
           0,
           0,
           0,
           0,
           0
          ],
          [
           0,
           0,
           0,
           0,
           0,
           0,
           0,
           0,
           0,
           0,
           0,
           0,
           0,
           0,
           0,
           0,
           0,
           0,
           0.018518518518518517,
           0.05454545454545454,
           0.10526315789473684,
           0.1016949152542373,
           0.05172413793103448,
           0.05263157894736842,
           0.045454545454545456,
           0.03260869565217391,
           0.06451612903225806,
           0.05172413793103448,
           0.05232558139534884,
           0.06818181818181818,
           0.07834101382488479,
           0.1566265060240964,
           0.13389121338912133,
           0.09913793103448276,
           0.07860262008733625,
           0.09663865546218488,
           0.09042553191489362,
           0.10052910052910052,
           0.10638297872340426,
           0.10493827160493827,
           0.07692307692307693,
           0.02112676056338028,
           0.041666666666666664,
           0.0743801652892562,
           0.08130081300813008,
           0.0625,
           0.04504504504504504,
           0.02830188679245283,
           0.05555555555555555,
           0.12195121951219512,
           0.16666666666666666,
           0.24875621890547264,
           0.21465968586387435,
           0.1695906432748538,
           0.043795620437956206,
           0.050724637681159424,
           0.05714285714285714,
           0.034722222222222224,
           0.02127659574468085,
           0.03571428571428571,
           0.026143790849673203,
           0.013333333333333334,
           0.006711409395973154,
           0.006622516556291391,
           0,
           0,
           0,
           0,
           0,
           0,
           0,
           0
          ],
          [
           0,
           0,
           0,
           0,
           0,
           0,
           0,
           0,
           0,
           0,
           0,
           0,
           0,
           0,
           0,
           0,
           0,
           0.01,
           0.028846153846153848,
           0.047619047619047616,
           0.06666666666666667,
           0.05405405405405406,
           0.01834862385321101,
           0.07964601769911504,
           0.11949685534591195,
           0.13855421686746988,
           0.0821917808219178,
           0.07407407407407407,
           0.05263157894736842,
           0.04477611940298507,
           0.025477707006369428,
           0.07142857142857142,
           0.08235294117647059,
           0.09523809523809523,
           0.14728682170542637,
           0.104,
           0.08235294117647059,
           0.1346153846153846,
           0.1,
           0.14864864864864866,
           0.1518987341772152,
           0.06060606060606061,
           0.06557377049180328,
           0.12698412698412698,
           0.0967741935483871,
           0.07692307692307693,
           0.06666666666666667,
           0.0641025641025641,
           0.06578947368421052,
           0.04285714285714286,
           0.11538461538461539,
           0.2689075630252101,
           0.2711864406779661,
           0.18,
           0.12396694214876033,
           0.038834951456310676,
           0.0380952380952381,
           0.10569105691056911,
           0.05982905982905983,
           0.08196721311475409,
           0.015873015873015872,
           0.03787878787878788,
           0.015748031496062992,
           0,
           0,
           0.007352941176470588,
           0,
           0,
           0,
           0,
           0,
           0
          ],
          [
           0,
           0,
           0,
           0,
           0,
           0,
           0,
           0,
           0,
           0,
           0,
           0,
           0,
           0,
           0,
           0.009900990099009901,
           0,
           0,
           0.057692307692307696,
           0.08653846153846154,
           0.08080808080808081,
           0.10077519379844961,
           0.09302325581395349,
           0.08461538461538462,
           0.07857142857142857,
           0.09154929577464789,
           0.1111111111111111,
           0.0784313725490196,
           0.027777777777777776,
           0.027586206896551724,
           0.08080808080808081,
           0.11538461538461539,
           0.07920792079207921,
           0.16666666666666666,
           0.1111111111111111,
           0.03225806451612903,
           0.0784313725490196,
           0.0784313725490196,
           0.0784313725490196,
           0.08,
           0.06382978723404255,
           0.0625,
           0.09523809523809523,
           0.14583333333333334,
           0.10204081632653061,
           0.041666666666666664,
           0.022727272727272728,
           0.043478260869565216,
           0.016666666666666666,
           0.08064516129032258,
           0.2073170731707317,
           0.1323529411764706,
           0.18571428571428572,
           0.15942028985507245,
           0.1511627906976744,
           0.04225352112676056,
           0.02857142857142857,
           0.02857142857142857,
           0.02830188679245283,
           0.019417475728155338,
           0.03636363636363636,
           0.036036036036036036,
           0.018867924528301886,
           0,
           0,
           0,
           0,
           0,
           0,
           0,
           0,
           0
          ],
          [
           0,
           0,
           0,
           0,
           0,
           0,
           0,
           0,
           0,
           0,
           0,
           0,
           0,
           0,
           0.00425531914893617,
           0,
           0.004524886877828055,
           0.008968609865470852,
           0.06306306306306306,
           0.0593607305936073,
           0.09170305676855896,
           0.09361702127659574,
           0.12955465587044535,
           0.07423580786026202,
           0.10679611650485436,
           0.11594202898550725,
           0.10550458715596331,
           0.08641975308641975,
           0.0875,
           0.056962025316455694,
           0.09782608695652174,
           0.13131313131313133,
           0.1111111111111111,
           0.11688311688311688,
           0.13333333333333333,
           0.08333333333333333,
           0.06578947368421052,
           0.12048192771084337,
           0.10843373493975904,
           0.10294117647058823,
           0.09523809523809523,
           0.03389830508474576,
           0.06896551724137931,
           0.1,
           0.05357142857142857,
           0.02040816326530612,
           0,
           0.020833333333333332,
           0.13432835820895522,
           0.08771929824561403,
           0.20987654320987653,
           0.23931623931623933,
           0.2169811320754717,
           0.15384615384615385,
           0.12359550561797752,
           0.03896103896103896,
           0.013513513513513514,
           0.050505050505050504,
           0.04040404040404041,
           0.049019607843137254,
           0.015037593984962405,
           0.007518796992481203,
           0.007633587786259542,
           0,
           0,
           0,
           0.006578947368421052,
           0.006535947712418301,
           0,
           0,
           0,
           0
          ],
          [
           0,
           0,
           0,
           0,
           0,
           0,
           0,
           0,
           0,
           0,
           0,
           0,
           0,
           0,
           0,
           0,
           0,
           0.00847457627118644,
           0.04182509505703422,
           0.08424908424908426,
           0.10583941605839416,
           0.11538461538461539,
           0.1,
           0.11666666666666667,
           0.11413043478260869,
           0.0783132530120482,
           0.04294478527607362,
           0.025974025974025976,
           0.060240963855421686,
           0.02531645569620253,
           0.058823529411764705,
           0.07352941176470588,
           0.1728395061728395,
           0.10526315789473684,
           0.08620689655172414,
           0.09259259259259259,
           0.20930232558139536,
           0.13513513513513514,
           0.17073170731707318,
           0.0625,
           0.08823529411764706,
           0.06451612903225806,
           0.03571428571428571,
           0.03571428571428571,
           0.034482758620689655,
           0.07407407407407407,
           0.14705882352941177,
           0.16216216216216217,
           0.04,
           0.13793103448275862,
           0.2857142857142857,
           0.33962264150943394,
           0.2708333333333333,
           0.2,
           0.15789473684210525,
           0,
           0,
           0.046511627906976744,
           0.08888888888888889,
           0,
           0,
           0,
           0,
           0,
           0,
           0,
           0,
           0,
           0,
           0,
           0,
           0
          ]
         ]
        }
       ],
       "layout": {
        "template": {
         "data": {
          "bar": [
           {
            "error_x": {
             "color": "#2a3f5f"
            },
            "error_y": {
             "color": "#2a3f5f"
            },
            "marker": {
             "line": {
              "color": "#E5ECF6",
              "width": 0.5
             }
            },
            "type": "bar"
           }
          ],
          "barpolar": [
           {
            "marker": {
             "line": {
              "color": "#E5ECF6",
              "width": 0.5
             }
            },
            "type": "barpolar"
           }
          ],
          "carpet": [
           {
            "aaxis": {
             "endlinecolor": "#2a3f5f",
             "gridcolor": "white",
             "linecolor": "white",
             "minorgridcolor": "white",
             "startlinecolor": "#2a3f5f"
            },
            "baxis": {
             "endlinecolor": "#2a3f5f",
             "gridcolor": "white",
             "linecolor": "white",
             "minorgridcolor": "white",
             "startlinecolor": "#2a3f5f"
            },
            "type": "carpet"
           }
          ],
          "choropleth": [
           {
            "colorbar": {
             "outlinewidth": 0,
             "ticks": ""
            },
            "type": "choropleth"
           }
          ],
          "contour": [
           {
            "colorbar": {
             "outlinewidth": 0,
             "ticks": ""
            },
            "colorscale": [
             [
              0,
              "#0d0887"
             ],
             [
              0.1111111111111111,
              "#46039f"
             ],
             [
              0.2222222222222222,
              "#7201a8"
             ],
             [
              0.3333333333333333,
              "#9c179e"
             ],
             [
              0.4444444444444444,
              "#bd3786"
             ],
             [
              0.5555555555555556,
              "#d8576b"
             ],
             [
              0.6666666666666666,
              "#ed7953"
             ],
             [
              0.7777777777777778,
              "#fb9f3a"
             ],
             [
              0.8888888888888888,
              "#fdca26"
             ],
             [
              1,
              "#f0f921"
             ]
            ],
            "type": "contour"
           }
          ],
          "contourcarpet": [
           {
            "colorbar": {
             "outlinewidth": 0,
             "ticks": ""
            },
            "type": "contourcarpet"
           }
          ],
          "heatmap": [
           {
            "colorbar": {
             "outlinewidth": 0,
             "ticks": ""
            },
            "colorscale": [
             [
              0,
              "#0d0887"
             ],
             [
              0.1111111111111111,
              "#46039f"
             ],
             [
              0.2222222222222222,
              "#7201a8"
             ],
             [
              0.3333333333333333,
              "#9c179e"
             ],
             [
              0.4444444444444444,
              "#bd3786"
             ],
             [
              0.5555555555555556,
              "#d8576b"
             ],
             [
              0.6666666666666666,
              "#ed7953"
             ],
             [
              0.7777777777777778,
              "#fb9f3a"
             ],
             [
              0.8888888888888888,
              "#fdca26"
             ],
             [
              1,
              "#f0f921"
             ]
            ],
            "type": "heatmap"
           }
          ],
          "heatmapgl": [
           {
            "colorbar": {
             "outlinewidth": 0,
             "ticks": ""
            },
            "colorscale": [
             [
              0,
              "#0d0887"
             ],
             [
              0.1111111111111111,
              "#46039f"
             ],
             [
              0.2222222222222222,
              "#7201a8"
             ],
             [
              0.3333333333333333,
              "#9c179e"
             ],
             [
              0.4444444444444444,
              "#bd3786"
             ],
             [
              0.5555555555555556,
              "#d8576b"
             ],
             [
              0.6666666666666666,
              "#ed7953"
             ],
             [
              0.7777777777777778,
              "#fb9f3a"
             ],
             [
              0.8888888888888888,
              "#fdca26"
             ],
             [
              1,
              "#f0f921"
             ]
            ],
            "type": "heatmapgl"
           }
          ],
          "histogram": [
           {
            "marker": {
             "colorbar": {
              "outlinewidth": 0,
              "ticks": ""
             }
            },
            "type": "histogram"
           }
          ],
          "histogram2d": [
           {
            "colorbar": {
             "outlinewidth": 0,
             "ticks": ""
            },
            "colorscale": [
             [
              0,
              "#0d0887"
             ],
             [
              0.1111111111111111,
              "#46039f"
             ],
             [
              0.2222222222222222,
              "#7201a8"
             ],
             [
              0.3333333333333333,
              "#9c179e"
             ],
             [
              0.4444444444444444,
              "#bd3786"
             ],
             [
              0.5555555555555556,
              "#d8576b"
             ],
             [
              0.6666666666666666,
              "#ed7953"
             ],
             [
              0.7777777777777778,
              "#fb9f3a"
             ],
             [
              0.8888888888888888,
              "#fdca26"
             ],
             [
              1,
              "#f0f921"
             ]
            ],
            "type": "histogram2d"
           }
          ],
          "histogram2dcontour": [
           {
            "colorbar": {
             "outlinewidth": 0,
             "ticks": ""
            },
            "colorscale": [
             [
              0,
              "#0d0887"
             ],
             [
              0.1111111111111111,
              "#46039f"
             ],
             [
              0.2222222222222222,
              "#7201a8"
             ],
             [
              0.3333333333333333,
              "#9c179e"
             ],
             [
              0.4444444444444444,
              "#bd3786"
             ],
             [
              0.5555555555555556,
              "#d8576b"
             ],
             [
              0.6666666666666666,
              "#ed7953"
             ],
             [
              0.7777777777777778,
              "#fb9f3a"
             ],
             [
              0.8888888888888888,
              "#fdca26"
             ],
             [
              1,
              "#f0f921"
             ]
            ],
            "type": "histogram2dcontour"
           }
          ],
          "mesh3d": [
           {
            "colorbar": {
             "outlinewidth": 0,
             "ticks": ""
            },
            "type": "mesh3d"
           }
          ],
          "parcoords": [
           {
            "line": {
             "colorbar": {
              "outlinewidth": 0,
              "ticks": ""
             }
            },
            "type": "parcoords"
           }
          ],
          "pie": [
           {
            "automargin": true,
            "type": "pie"
           }
          ],
          "scatter": [
           {
            "marker": {
             "colorbar": {
              "outlinewidth": 0,
              "ticks": ""
             }
            },
            "type": "scatter"
           }
          ],
          "scatter3d": [
           {
            "line": {
             "colorbar": {
              "outlinewidth": 0,
              "ticks": ""
             }
            },
            "marker": {
             "colorbar": {
              "outlinewidth": 0,
              "ticks": ""
             }
            },
            "type": "scatter3d"
           }
          ],
          "scattercarpet": [
           {
            "marker": {
             "colorbar": {
              "outlinewidth": 0,
              "ticks": ""
             }
            },
            "type": "scattercarpet"
           }
          ],
          "scattergeo": [
           {
            "marker": {
             "colorbar": {
              "outlinewidth": 0,
              "ticks": ""
             }
            },
            "type": "scattergeo"
           }
          ],
          "scattergl": [
           {
            "marker": {
             "colorbar": {
              "outlinewidth": 0,
              "ticks": ""
             }
            },
            "type": "scattergl"
           }
          ],
          "scattermapbox": [
           {
            "marker": {
             "colorbar": {
              "outlinewidth": 0,
              "ticks": ""
             }
            },
            "type": "scattermapbox"
           }
          ],
          "scatterpolar": [
           {
            "marker": {
             "colorbar": {
              "outlinewidth": 0,
              "ticks": ""
             }
            },
            "type": "scatterpolar"
           }
          ],
          "scatterpolargl": [
           {
            "marker": {
             "colorbar": {
              "outlinewidth": 0,
              "ticks": ""
             }
            },
            "type": "scatterpolargl"
           }
          ],
          "scatterternary": [
           {
            "marker": {
             "colorbar": {
              "outlinewidth": 0,
              "ticks": ""
             }
            },
            "type": "scatterternary"
           }
          ],
          "surface": [
           {
            "colorbar": {
             "outlinewidth": 0,
             "ticks": ""
            },
            "colorscale": [
             [
              0,
              "#0d0887"
             ],
             [
              0.1111111111111111,
              "#46039f"
             ],
             [
              0.2222222222222222,
              "#7201a8"
             ],
             [
              0.3333333333333333,
              "#9c179e"
             ],
             [
              0.4444444444444444,
              "#bd3786"
             ],
             [
              0.5555555555555556,
              "#d8576b"
             ],
             [
              0.6666666666666666,
              "#ed7953"
             ],
             [
              0.7777777777777778,
              "#fb9f3a"
             ],
             [
              0.8888888888888888,
              "#fdca26"
             ],
             [
              1,
              "#f0f921"
             ]
            ],
            "type": "surface"
           }
          ],
          "table": [
           {
            "cells": {
             "fill": {
              "color": "#EBF0F8"
             },
             "line": {
              "color": "white"
             }
            },
            "header": {
             "fill": {
              "color": "#C8D4E3"
             },
             "line": {
              "color": "white"
             }
            },
            "type": "table"
           }
          ]
         },
         "layout": {
          "annotationdefaults": {
           "arrowcolor": "#2a3f5f",
           "arrowhead": 0,
           "arrowwidth": 1
          },
          "autotypenumbers": "strict",
          "coloraxis": {
           "colorbar": {
            "outlinewidth": 0,
            "ticks": ""
           }
          },
          "colorscale": {
           "diverging": [
            [
             0,
             "#8e0152"
            ],
            [
             0.1,
             "#c51b7d"
            ],
            [
             0.2,
             "#de77ae"
            ],
            [
             0.3,
             "#f1b6da"
            ],
            [
             0.4,
             "#fde0ef"
            ],
            [
             0.5,
             "#f7f7f7"
            ],
            [
             0.6,
             "#e6f5d0"
            ],
            [
             0.7,
             "#b8e186"
            ],
            [
             0.8,
             "#7fbc41"
            ],
            [
             0.9,
             "#4d9221"
            ],
            [
             1,
             "#276419"
            ]
           ],
           "sequential": [
            [
             0,
             "#0d0887"
            ],
            [
             0.1111111111111111,
             "#46039f"
            ],
            [
             0.2222222222222222,
             "#7201a8"
            ],
            [
             0.3333333333333333,
             "#9c179e"
            ],
            [
             0.4444444444444444,
             "#bd3786"
            ],
            [
             0.5555555555555556,
             "#d8576b"
            ],
            [
             0.6666666666666666,
             "#ed7953"
            ],
            [
             0.7777777777777778,
             "#fb9f3a"
            ],
            [
             0.8888888888888888,
             "#fdca26"
            ],
            [
             1,
             "#f0f921"
            ]
           ],
           "sequentialminus": [
            [
             0,
             "#0d0887"
            ],
            [
             0.1111111111111111,
             "#46039f"
            ],
            [
             0.2222222222222222,
             "#7201a8"
            ],
            [
             0.3333333333333333,
             "#9c179e"
            ],
            [
             0.4444444444444444,
             "#bd3786"
            ],
            [
             0.5555555555555556,
             "#d8576b"
            ],
            [
             0.6666666666666666,
             "#ed7953"
            ],
            [
             0.7777777777777778,
             "#fb9f3a"
            ],
            [
             0.8888888888888888,
             "#fdca26"
            ],
            [
             1,
             "#f0f921"
            ]
           ]
          },
          "colorway": [
           "#636efa",
           "#EF553B",
           "#00cc96",
           "#ab63fa",
           "#FFA15A",
           "#19d3f3",
           "#FF6692",
           "#B6E880",
           "#FF97FF",
           "#FECB52"
          ],
          "font": {
           "color": "#2a3f5f"
          },
          "geo": {
           "bgcolor": "white",
           "lakecolor": "white",
           "landcolor": "#E5ECF6",
           "showlakes": true,
           "showland": true,
           "subunitcolor": "white"
          },
          "hoverlabel": {
           "align": "left"
          },
          "hovermode": "closest",
          "mapbox": {
           "style": "light"
          },
          "paper_bgcolor": "white",
          "plot_bgcolor": "#E5ECF6",
          "polar": {
           "angularaxis": {
            "gridcolor": "white",
            "linecolor": "white",
            "ticks": ""
           },
           "bgcolor": "#E5ECF6",
           "radialaxis": {
            "gridcolor": "white",
            "linecolor": "white",
            "ticks": ""
           }
          },
          "scene": {
           "xaxis": {
            "backgroundcolor": "#E5ECF6",
            "gridcolor": "white",
            "gridwidth": 2,
            "linecolor": "white",
            "showbackground": true,
            "ticks": "",
            "zerolinecolor": "white"
           },
           "yaxis": {
            "backgroundcolor": "#E5ECF6",
            "gridcolor": "white",
            "gridwidth": 2,
            "linecolor": "white",
            "showbackground": true,
            "ticks": "",
            "zerolinecolor": "white"
           },
           "zaxis": {
            "backgroundcolor": "#E5ECF6",
            "gridcolor": "white",
            "gridwidth": 2,
            "linecolor": "white",
            "showbackground": true,
            "ticks": "",
            "zerolinecolor": "white"
           }
          },
          "shapedefaults": {
           "line": {
            "color": "#2a3f5f"
           }
          },
          "ternary": {
           "aaxis": {
            "gridcolor": "white",
            "linecolor": "white",
            "ticks": ""
           },
           "baxis": {
            "gridcolor": "white",
            "linecolor": "white",
            "ticks": ""
           },
           "bgcolor": "#E5ECF6",
           "caxis": {
            "gridcolor": "white",
            "linecolor": "white",
            "ticks": ""
           }
          },
          "title": {
           "x": 0.05
          },
          "xaxis": {
           "automargin": true,
           "gridcolor": "white",
           "linecolor": "white",
           "ticks": "",
           "title": {
            "standoff": 15
           },
           "zerolinecolor": "white",
           "zerolinewidth": 2
          },
          "yaxis": {
           "automargin": true,
           "gridcolor": "white",
           "linecolor": "white",
           "ticks": "",
           "title": {
            "standoff": 15
           },
           "zerolinecolor": "white",
           "zerolinewidth": 2
          }
         }
        }
       }
      }
     },
     "metadata": {}
    }
   ],
   "source": [
    "import plotly.graph_objects as go\n",
    "\n",
    "print(final_space.shape)\n",
    "on_rate = np.zeros(space_shape)\n",
    "total_hit = np.zeros(space_shape)\n",
    "\n",
    "count = 0\n",
    "for i in range(space_shape[0]):\n",
    "    for j in range(space_shape[1]):\n",
    "        total_hit[i,j] = final_space[i,j][0] +  final_space[i,j][1]\n",
    "        if final_space[i,j][0] +  final_space[i,j][1] == 0:\n",
    "            count+=1\n",
    "            continue\n",
    "        on_rate[i,j] = final_space[i,j][0] / (final_space[i,j][0] +  final_space[i,j][1])  \n",
    "print(count)\n",
    "print(space_shape[0]*space_shape[1])\n",
    "fig = go.Figure(data=go.Heatmap(z=on_rate))\n",
    "# fig = go.Figure(data=go.Heatmap(z=total_hit))\n",
    "fig.show()\n"
   ]
  },
  {
   "cell_type": "code",
   "execution_count": 84,
   "metadata": {
    "tags": []
   },
   "outputs": [
    {
     "output_type": "stream",
     "name": "stdout",
     "text": [
      "528\n[  2  21  54  75 154 159 170 208 231 276 304 306 317 335 349 377 385 386\n 387 397 399 400 416 417 422 423 424 436 437 438 446 452 454 456 458 460\n 462 469 471 473 474 477 479 488 489 490 491 504 505 506 507 508 521 527]\n"
     ]
    },
    {
     "output_type": "display_data",
     "data": {
      "application/vnd.plotly.v1+json": {
       "config": {
        "plotlyServerURL": "https://plot.ly"
       },
       "data": [
        {
         "type": "heatmap",
         "z": [
          [
           1,
           1,
           1,
           1,
           1,
           1,
           1,
           1,
           1,
           1,
           1,
           1,
           1,
           1,
           1,
           1,
           1,
           1,
           1,
           1,
           1,
           1,
           1,
           1,
           1,
           1,
           1,
           1,
           1,
           1,
           1,
           1,
           1,
           1,
           1,
           1,
           1,
           1,
           1,
           1,
           1,
           1,
           1,
           1,
           1,
           1,
           1,
           1,
           1,
           1,
           1,
           1,
           1,
           1,
           1,
           1,
           1,
           1,
           1,
           1,
           1,
           1,
           1,
           1,
           1,
           1,
           1,
           1,
           1,
           1,
           1,
           1
          ],
          [
           1,
           1,
           1,
           1,
           1,
           1,
           1,
           1,
           1,
           1,
           1,
           1,
           1,
           1,
           1,
           1,
           1,
           1,
           1,
           1,
           1,
           1,
           1,
           1,
           1,
           1,
           1,
           1,
           1,
           1,
           1,
           1,
           1,
           1,
           1,
           1,
           1,
           1,
           1,
           527,
           527,
           527,
           473,
           474,
           454,
           454,
           477,
           422,
           423,
           424,
           416,
           417,
           349,
           508,
           508,
           471,
           471,
           471,
           471,
           471,
           1,
           1,
           1,
           1,
           1,
           1,
           1,
           1,
           1,
           1,
           1,
           1
          ],
          [
           1,
           1,
           1,
           1,
           1,
           1,
           1,
           1,
           1,
           1,
           1,
           1,
           1,
           1,
           1,
           1,
           1,
           1,
           1,
           1,
           1,
           1,
           1,
           1,
           1,
           1,
           1,
           1,
           1,
           1,
           506,
           506,
           521,
           458,
           458,
           458,
           458,
           458,
           458,
           458,
           454,
           454,
           454,
           454,
           454,
           454,
           477,
           477,
           423,
           416,
           416,
           417,
           231,
           508,
           508,
           508,
           508,
           471,
           471,
           471,
           471,
           471,
           471,
           1,
           1,
           1,
           1,
           1,
           1,
           1,
           1,
           1
          ],
          [
           1,
           1,
           1,
           1,
           1,
           1,
           1,
           1,
           1,
           1,
           1,
           1,
           1,
           1,
           1,
           1,
           1,
           1,
           1,
           1,
           1,
           1,
           1,
           1,
           1,
           1,
           1,
           507,
           506,
           506,
           506,
           506,
           458,
           458,
           458,
           458,
           458,
           458,
           458,
           458,
           454,
           454,
           454,
           454,
           454,
           454,
           454,
           454,
           423,
           416,
           416,
           276,
           276,
           508,
           471,
           471,
           471,
           471,
           471,
           471,
           471,
           471,
           471,
           471,
           471,
           471,
           471,
           471,
           471,
           1,
           1,
           1
          ],
          [
           506,
           506,
           506,
           506,
           506,
           506,
           506,
           506,
           506,
           506,
           506,
           506,
           506,
           506,
           506,
           506,
           506,
           506,
           506,
           506,
           506,
           506,
           504,
           505,
           506,
           506,
           506,
           506,
           506,
           506,
           159,
           159,
           458,
           458,
           458,
           458,
           21,
           458,
           458,
           458,
           454,
           454,
           454,
           454,
           454,
           454,
           454,
           454,
           416,
           416,
           416,
           276,
           276,
           508,
           471,
           471,
           471,
           471,
           471,
           471,
           471,
           471,
           471,
           471,
           471,
           471,
           471,
           471,
           471,
           471,
           471,
           471
          ],
          [
           506,
           506,
           506,
           506,
           506,
           506,
           506,
           506,
           506,
           506,
           506,
           506,
           506,
           506,
           506,
           506,
           506,
           506,
           506,
           506,
           208,
           208,
           506,
           506,
           506,
           506,
           506,
           506,
           506,
           506,
           506,
           2,
           458,
           458,
           458,
           458,
           458,
           458,
           458,
           458,
           454,
           454,
           454,
           454,
           454,
           454,
           454,
           454,
           454,
           416,
           416,
           276,
           276,
           437,
           471,
           471,
           471,
           471,
           471,
           471,
           471,
           471,
           471,
           471,
           471,
           471,
           471,
           471,
           471,
           471,
           471,
           471
          ],
          [
           506,
           506,
           506,
           506,
           506,
           506,
           506,
           506,
           506,
           506,
           506,
           506,
           506,
           506,
           506,
           506,
           506,
           506,
           506,
           506,
           506,
           506,
           506,
           506,
           154,
           154,
           506,
           506,
           506,
           506,
           506,
           75,
           460,
           460,
           170,
           458,
           458,
           458,
           458,
           377,
           304,
           454,
           454,
           454,
           454,
           454,
           454,
           454,
           454,
           454,
           436,
           276,
           276,
           437,
           437,
           471,
           471,
           54,
           471,
           471,
           471,
           471,
           471,
           471,
           471,
           471,
           471,
           471,
           471,
           471,
           471,
           471
          ],
          [
           506,
           506,
           506,
           506,
           506,
           506,
           506,
           506,
           506,
           506,
           506,
           506,
           506,
           506,
           506,
           506,
           506,
           506,
           506,
           506,
           506,
           506,
           506,
           506,
           506,
           506,
           506,
           506,
           506,
           506,
           335,
           335,
           460,
           400,
           446,
           452,
           458,
           458,
           458,
           458,
           454,
           454,
           454,
           454,
           454,
           454,
           454,
           454,
           454,
           399,
           437,
           317,
           437,
           437,
           437,
           471,
           471,
           471,
           471,
           471,
           471,
           471,
           471,
           471,
           471,
           471,
           471,
           471,
           471,
           471,
           471,
           471
          ],
          [
           506,
           506,
           506,
           506,
           506,
           506,
           506,
           506,
           506,
           506,
           506,
           506,
           506,
           506,
           506,
           506,
           506,
           506,
           506,
           506,
           506,
           506,
           506,
           506,
           506,
           506,
           506,
           506,
           506,
           506,
           335,
           335,
           460,
           460,
           460,
           460,
           458,
           458,
           458,
           458,
           454,
           454,
           454,
           454,
           454,
           454,
           454,
           454,
           397,
           399,
           437,
           437,
           437,
           437,
           437,
           471,
           471,
           471,
           471,
           471,
           471,
           471,
           471,
           471,
           471,
           471,
           471,
           471,
           471,
           471,
           471,
           471
          ],
          [
           506,
           506,
           506,
           506,
           506,
           506,
           506,
           506,
           506,
           506,
           506,
           506,
           506,
           506,
           506,
           506,
           506,
           506,
           506,
           506,
           506,
           506,
           506,
           506,
           506,
           306,
           506,
           506,
           506,
           506,
           506,
           506,
           438,
           460,
           460,
           460,
           469,
           458,
           462,
           454,
           454,
           454,
           454,
           454,
           454,
           488,
           489,
           489,
           490,
           491,
           479,
           385,
           386,
           387,
           437,
           471,
           471,
           471,
           456,
           471,
           471,
           471,
           471,
           471,
           471,
           471,
           471,
           471,
           471,
           471,
           471,
           471
          ]
         ]
        }
       ],
       "layout": {
        "template": {
         "data": {
          "bar": [
           {
            "error_x": {
             "color": "#2a3f5f"
            },
            "error_y": {
             "color": "#2a3f5f"
            },
            "marker": {
             "line": {
              "color": "#E5ECF6",
              "width": 0.5
             }
            },
            "type": "bar"
           }
          ],
          "barpolar": [
           {
            "marker": {
             "line": {
              "color": "#E5ECF6",
              "width": 0.5
             }
            },
            "type": "barpolar"
           }
          ],
          "carpet": [
           {
            "aaxis": {
             "endlinecolor": "#2a3f5f",
             "gridcolor": "white",
             "linecolor": "white",
             "minorgridcolor": "white",
             "startlinecolor": "#2a3f5f"
            },
            "baxis": {
             "endlinecolor": "#2a3f5f",
             "gridcolor": "white",
             "linecolor": "white",
             "minorgridcolor": "white",
             "startlinecolor": "#2a3f5f"
            },
            "type": "carpet"
           }
          ],
          "choropleth": [
           {
            "colorbar": {
             "outlinewidth": 0,
             "ticks": ""
            },
            "type": "choropleth"
           }
          ],
          "contour": [
           {
            "colorbar": {
             "outlinewidth": 0,
             "ticks": ""
            },
            "colorscale": [
             [
              0,
              "#0d0887"
             ],
             [
              0.1111111111111111,
              "#46039f"
             ],
             [
              0.2222222222222222,
              "#7201a8"
             ],
             [
              0.3333333333333333,
              "#9c179e"
             ],
             [
              0.4444444444444444,
              "#bd3786"
             ],
             [
              0.5555555555555556,
              "#d8576b"
             ],
             [
              0.6666666666666666,
              "#ed7953"
             ],
             [
              0.7777777777777778,
              "#fb9f3a"
             ],
             [
              0.8888888888888888,
              "#fdca26"
             ],
             [
              1,
              "#f0f921"
             ]
            ],
            "type": "contour"
           }
          ],
          "contourcarpet": [
           {
            "colorbar": {
             "outlinewidth": 0,
             "ticks": ""
            },
            "type": "contourcarpet"
           }
          ],
          "heatmap": [
           {
            "colorbar": {
             "outlinewidth": 0,
             "ticks": ""
            },
            "colorscale": [
             [
              0,
              "#0d0887"
             ],
             [
              0.1111111111111111,
              "#46039f"
             ],
             [
              0.2222222222222222,
              "#7201a8"
             ],
             [
              0.3333333333333333,
              "#9c179e"
             ],
             [
              0.4444444444444444,
              "#bd3786"
             ],
             [
              0.5555555555555556,
              "#d8576b"
             ],
             [
              0.6666666666666666,
              "#ed7953"
             ],
             [
              0.7777777777777778,
              "#fb9f3a"
             ],
             [
              0.8888888888888888,
              "#fdca26"
             ],
             [
              1,
              "#f0f921"
             ]
            ],
            "type": "heatmap"
           }
          ],
          "heatmapgl": [
           {
            "colorbar": {
             "outlinewidth": 0,
             "ticks": ""
            },
            "colorscale": [
             [
              0,
              "#0d0887"
             ],
             [
              0.1111111111111111,
              "#46039f"
             ],
             [
              0.2222222222222222,
              "#7201a8"
             ],
             [
              0.3333333333333333,
              "#9c179e"
             ],
             [
              0.4444444444444444,
              "#bd3786"
             ],
             [
              0.5555555555555556,
              "#d8576b"
             ],
             [
              0.6666666666666666,
              "#ed7953"
             ],
             [
              0.7777777777777778,
              "#fb9f3a"
             ],
             [
              0.8888888888888888,
              "#fdca26"
             ],
             [
              1,
              "#f0f921"
             ]
            ],
            "type": "heatmapgl"
           }
          ],
          "histogram": [
           {
            "marker": {
             "colorbar": {
              "outlinewidth": 0,
              "ticks": ""
             }
            },
            "type": "histogram"
           }
          ],
          "histogram2d": [
           {
            "colorbar": {
             "outlinewidth": 0,
             "ticks": ""
            },
            "colorscale": [
             [
              0,
              "#0d0887"
             ],
             [
              0.1111111111111111,
              "#46039f"
             ],
             [
              0.2222222222222222,
              "#7201a8"
             ],
             [
              0.3333333333333333,
              "#9c179e"
             ],
             [
              0.4444444444444444,
              "#bd3786"
             ],
             [
              0.5555555555555556,
              "#d8576b"
             ],
             [
              0.6666666666666666,
              "#ed7953"
             ],
             [
              0.7777777777777778,
              "#fb9f3a"
             ],
             [
              0.8888888888888888,
              "#fdca26"
             ],
             [
              1,
              "#f0f921"
             ]
            ],
            "type": "histogram2d"
           }
          ],
          "histogram2dcontour": [
           {
            "colorbar": {
             "outlinewidth": 0,
             "ticks": ""
            },
            "colorscale": [
             [
              0,
              "#0d0887"
             ],
             [
              0.1111111111111111,
              "#46039f"
             ],
             [
              0.2222222222222222,
              "#7201a8"
             ],
             [
              0.3333333333333333,
              "#9c179e"
             ],
             [
              0.4444444444444444,
              "#bd3786"
             ],
             [
              0.5555555555555556,
              "#d8576b"
             ],
             [
              0.6666666666666666,
              "#ed7953"
             ],
             [
              0.7777777777777778,
              "#fb9f3a"
             ],
             [
              0.8888888888888888,
              "#fdca26"
             ],
             [
              1,
              "#f0f921"
             ]
            ],
            "type": "histogram2dcontour"
           }
          ],
          "mesh3d": [
           {
            "colorbar": {
             "outlinewidth": 0,
             "ticks": ""
            },
            "type": "mesh3d"
           }
          ],
          "parcoords": [
           {
            "line": {
             "colorbar": {
              "outlinewidth": 0,
              "ticks": ""
             }
            },
            "type": "parcoords"
           }
          ],
          "pie": [
           {
            "automargin": true,
            "type": "pie"
           }
          ],
          "scatter": [
           {
            "marker": {
             "colorbar": {
              "outlinewidth": 0,
              "ticks": ""
             }
            },
            "type": "scatter"
           }
          ],
          "scatter3d": [
           {
            "line": {
             "colorbar": {
              "outlinewidth": 0,
              "ticks": ""
             }
            },
            "marker": {
             "colorbar": {
              "outlinewidth": 0,
              "ticks": ""
             }
            },
            "type": "scatter3d"
           }
          ],
          "scattercarpet": [
           {
            "marker": {
             "colorbar": {
              "outlinewidth": 0,
              "ticks": ""
             }
            },
            "type": "scattercarpet"
           }
          ],
          "scattergeo": [
           {
            "marker": {
             "colorbar": {
              "outlinewidth": 0,
              "ticks": ""
             }
            },
            "type": "scattergeo"
           }
          ],
          "scattergl": [
           {
            "marker": {
             "colorbar": {
              "outlinewidth": 0,
              "ticks": ""
             }
            },
            "type": "scattergl"
           }
          ],
          "scattermapbox": [
           {
            "marker": {
             "colorbar": {
              "outlinewidth": 0,
              "ticks": ""
             }
            },
            "type": "scattermapbox"
           }
          ],
          "scatterpolar": [
           {
            "marker": {
             "colorbar": {
              "outlinewidth": 0,
              "ticks": ""
             }
            },
            "type": "scatterpolar"
           }
          ],
          "scatterpolargl": [
           {
            "marker": {
             "colorbar": {
              "outlinewidth": 0,
              "ticks": ""
             }
            },
            "type": "scatterpolargl"
           }
          ],
          "scatterternary": [
           {
            "marker": {
             "colorbar": {
              "outlinewidth": 0,
              "ticks": ""
             }
            },
            "type": "scatterternary"
           }
          ],
          "surface": [
           {
            "colorbar": {
             "outlinewidth": 0,
             "ticks": ""
            },
            "colorscale": [
             [
              0,
              "#0d0887"
             ],
             [
              0.1111111111111111,
              "#46039f"
             ],
             [
              0.2222222222222222,
              "#7201a8"
             ],
             [
              0.3333333333333333,
              "#9c179e"
             ],
             [
              0.4444444444444444,
              "#bd3786"
             ],
             [
              0.5555555555555556,
              "#d8576b"
             ],
             [
              0.6666666666666666,
              "#ed7953"
             ],
             [
              0.7777777777777778,
              "#fb9f3a"
             ],
             [
              0.8888888888888888,
              "#fdca26"
             ],
             [
              1,
              "#f0f921"
             ]
            ],
            "type": "surface"
           }
          ],
          "table": [
           {
            "cells": {
             "fill": {
              "color": "#EBF0F8"
             },
             "line": {
              "color": "white"
             }
            },
            "header": {
             "fill": {
              "color": "#C8D4E3"
             },
             "line": {
              "color": "white"
             }
            },
            "type": "table"
           }
          ]
         },
         "layout": {
          "annotationdefaults": {
           "arrowcolor": "#2a3f5f",
           "arrowhead": 0,
           "arrowwidth": 1
          },
          "autotypenumbers": "strict",
          "coloraxis": {
           "colorbar": {
            "outlinewidth": 0,
            "ticks": ""
           }
          },
          "colorscale": {
           "diverging": [
            [
             0,
             "#8e0152"
            ],
            [
             0.1,
             "#c51b7d"
            ],
            [
             0.2,
             "#de77ae"
            ],
            [
             0.3,
             "#f1b6da"
            ],
            [
             0.4,
             "#fde0ef"
            ],
            [
             0.5,
             "#f7f7f7"
            ],
            [
             0.6,
             "#e6f5d0"
            ],
            [
             0.7,
             "#b8e186"
            ],
            [
             0.8,
             "#7fbc41"
            ],
            [
             0.9,
             "#4d9221"
            ],
            [
             1,
             "#276419"
            ]
           ],
           "sequential": [
            [
             0,
             "#0d0887"
            ],
            [
             0.1111111111111111,
             "#46039f"
            ],
            [
             0.2222222222222222,
             "#7201a8"
            ],
            [
             0.3333333333333333,
             "#9c179e"
            ],
            [
             0.4444444444444444,
             "#bd3786"
            ],
            [
             0.5555555555555556,
             "#d8576b"
            ],
            [
             0.6666666666666666,
             "#ed7953"
            ],
            [
             0.7777777777777778,
             "#fb9f3a"
            ],
            [
             0.8888888888888888,
             "#fdca26"
            ],
            [
             1,
             "#f0f921"
            ]
           ],
           "sequentialminus": [
            [
             0,
             "#0d0887"
            ],
            [
             0.1111111111111111,
             "#46039f"
            ],
            [
             0.2222222222222222,
             "#7201a8"
            ],
            [
             0.3333333333333333,
             "#9c179e"
            ],
            [
             0.4444444444444444,
             "#bd3786"
            ],
            [
             0.5555555555555556,
             "#d8576b"
            ],
            [
             0.6666666666666666,
             "#ed7953"
            ],
            [
             0.7777777777777778,
             "#fb9f3a"
            ],
            [
             0.8888888888888888,
             "#fdca26"
            ],
            [
             1,
             "#f0f921"
            ]
           ]
          },
          "colorway": [
           "#636efa",
           "#EF553B",
           "#00cc96",
           "#ab63fa",
           "#FFA15A",
           "#19d3f3",
           "#FF6692",
           "#B6E880",
           "#FF97FF",
           "#FECB52"
          ],
          "font": {
           "color": "#2a3f5f"
          },
          "geo": {
           "bgcolor": "white",
           "lakecolor": "white",
           "landcolor": "#E5ECF6",
           "showlakes": true,
           "showland": true,
           "subunitcolor": "white"
          },
          "hoverlabel": {
           "align": "left"
          },
          "hovermode": "closest",
          "mapbox": {
           "style": "light"
          },
          "paper_bgcolor": "white",
          "plot_bgcolor": "#E5ECF6",
          "polar": {
           "angularaxis": {
            "gridcolor": "white",
            "linecolor": "white",
            "ticks": ""
           },
           "bgcolor": "#E5ECF6",
           "radialaxis": {
            "gridcolor": "white",
            "linecolor": "white",
            "ticks": ""
           }
          },
          "scene": {
           "xaxis": {
            "backgroundcolor": "#E5ECF6",
            "gridcolor": "white",
            "gridwidth": 2,
            "linecolor": "white",
            "showbackground": true,
            "ticks": "",
            "zerolinecolor": "white"
           },
           "yaxis": {
            "backgroundcolor": "#E5ECF6",
            "gridcolor": "white",
            "gridwidth": 2,
            "linecolor": "white",
            "showbackground": true,
            "ticks": "",
            "zerolinecolor": "white"
           },
           "zaxis": {
            "backgroundcolor": "#E5ECF6",
            "gridcolor": "white",
            "gridwidth": 2,
            "linecolor": "white",
            "showbackground": true,
            "ticks": "",
            "zerolinecolor": "white"
           }
          },
          "shapedefaults": {
           "line": {
            "color": "#2a3f5f"
           }
          },
          "ternary": {
           "aaxis": {
            "gridcolor": "white",
            "linecolor": "white",
            "ticks": ""
           },
           "baxis": {
            "gridcolor": "white",
            "linecolor": "white",
            "ticks": ""
           },
           "bgcolor": "#E5ECF6",
           "caxis": {
            "gridcolor": "white",
            "linecolor": "white",
            "ticks": ""
           }
          },
          "title": {
           "x": 0.05
          },
          "xaxis": {
           "automargin": true,
           "gridcolor": "white",
           "linecolor": "white",
           "ticks": "",
           "title": {
            "standoff": 15
           },
           "zerolinecolor": "white",
           "zerolinewidth": 2
          },
          "yaxis": {
           "automargin": true,
           "gridcolor": "white",
           "linecolor": "white",
           "ticks": "",
           "title": {
            "standoff": 15
           },
           "zerolinecolor": "white",
           "zerolinewidth": 2
          }
         }
        }
       }
      }
     },
     "metadata": {}
    }
   ],
   "source": [
    "from sklearn.neighbors import KDTree, BallTree\n",
    "\n",
    "def find_set(uf, a):\n",
    "    if uf[a] != a:\n",
    "        uf[a] = find_set(uf, uf[a])\n",
    "    return uf[a]\n",
    "\n",
    "def union_set(uf, a, b):\n",
    "    if find_set(uf, a) != find_set(uf, b):\n",
    "        uf[find_set(uf, a)] = uf[b]\n",
    "\n",
    "print(len(unit_of_int))\n",
    "tree = KDTree(unit_of_int, leaf_size=5)   \n",
    "clss = [x for x in range(len(unit_of_int))]  \n",
    "\n",
    "dist, ind = tree.query(unit_of_int, k=4, sort_results=True)  \n",
    "for idx, unit in enumerate(unit_of_int):\n",
    "    prob_unit = final_space[unit] / sum(final_space[unit])\n",
    "    d_i = dist[idx]\n",
    "    ind_i = ind[idx]\n",
    "    for i in range(4):\n",
    "        if d_i[i] > 1:\n",
    "            continue\n",
    "        cell = unit_of_int[ind_i[i]]\n",
    "        prob_ngbr = final_space[cell] / sum(final_space[cell])\n",
    "        if np.linalg.norm(prob_unit - prob_ngbr) < 0.05:\n",
    "            union_set(clss, idx, ind_i[i])\n",
    "        elif \n",
    "# print(clss)\n",
    "core = []\n",
    "u = np.unique([find_set(clss, i) for i in range(len(clss))])\n",
    "print(u)\n",
    "a = np.full(space_shape, u[0]-1)\n",
    "for i, unit in enumerate(unit_of_int):\n",
    "    a[unit] = find_set(clss, i)\n",
    "\n",
    "fig = go.Figure(data=go.Heatmap(z=a))\n",
    "fig.show()"
   ]
  },
  {
   "cell_type": "code",
   "execution_count": 85,
   "metadata": {},
   "outputs": [
    {
     "output_type": "stream",
     "name": "stdout",
     "text": [
      "[0.13898541 0.58823529]\n[[0.49720339]]\n[[-0.45413627  0.88417517]]\n"
     ]
    }
   ],
   "source": [
    "# LDA not working\n",
    "import matplotlib.pyplot as plt\n",
    "from sklearn.discriminant_analysis import LinearDiscriminantAnalysis as LDA\n",
    "import sklearn\n",
    "\n",
    "clss = LDA()\n",
    "data_x = sklearn.preprocessing.MinMaxScaler().fit_transform(data_x)\n",
    "\n",
    "x = clss.fit_transform(data_x, data_y)\n",
    "print(data_x[10])\n",
    "print(clss.transform(data_x[10:11]))\n",
    "print(clss.coef_)"
   ]
  },
  {
   "cell_type": "code",
   "execution_count": null,
   "metadata": {},
   "outputs": [],
   "source": []
  }
 ]
}
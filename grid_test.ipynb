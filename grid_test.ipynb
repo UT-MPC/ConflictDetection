{
 "metadata": {
  "language_info": {
   "codemirror_mode": {
    "name": "ipython",
    "version": 3
   },
   "file_extension": ".py",
   "mimetype": "text/x-python",
   "name": "python",
   "nbconvert_exporter": "python",
   "pygments_lexer": "ipython3",
   "version": "3.7.6"
  },
  "orig_nbformat": 2,
  "kernelspec": {
   "name": "pythonjvsc74a57bd04fe898ffcadce6da2343864bf819ed3269e46dcfc725e07ab6320af456fe33e5",
   "display_name": "Python 3.7.6  ('venv': venv)"
  },
  "metadata": {
   "interpreter": {
    "hash": "4fe898ffcadce6da2343864bf819ed3269e46dcfc725e07ab6320af456fe33e5"
   }
  }
 },
 "nbformat": 4,
 "nbformat_minor": 2,
 "cells": [
  {
   "cell_type": "code",
   "execution_count": 4,
   "metadata": {
    "tags": []
   },
   "outputs": [
    {
     "output_type": "stream",
     "name": "stderr",
     "text": [
      "DEBUG:root:The number of device events from processed file: {'Microwave [kW]': 5013, 'Washing_Machine [kW]': 589}\n",
      "DEBUG:root:The number of context events from processed file: {'apparentTemperature#NUM': 8743, 'humidity#NUM': 7669, 'summary#CAT': 1892}\n",
      "528\n"
     ]
    }
   ],
   "source": [
    "import json\n",
    "import os\n",
    "import numpy as np\n",
    "import math\n",
    "from typing import Dict, List, Tuple\n",
    "\n",
    "from datetime import timedelta\n",
    "from config import *\n",
    "from utils import *\n",
    "from main import *\n",
    "\n",
    "data = test_umass()\n",
    "print(len(data[\"Microwave [kW]\"]))"
   ]
  },
  {
   "cell_type": "code",
   "execution_count": 9,
   "metadata": {},
   "outputs": [
    {
     "output_type": "stream",
     "name": "stdout",
     "text": [
      "528\n720\n"
     ]
    },
    {
     "output_type": "display_data",
     "data": {
      "application/vnd.plotly.v1+json": {
       "config": {
        "plotlyServerURL": "https://plot.ly"
       },
       "data": [
        {
         "type": "heatmap",
         "z": [
          [
           0,
           0,
           0,
           0,
           0,
           0,
           0,
           0,
           0,
           0,
           0,
           0,
           0,
           0,
           0,
           0,
           0,
           0,
           0,
           0,
           0,
           0,
           0,
           0,
           0,
           0,
           0,
           0,
           0,
           0,
           0,
           0,
           0,
           0,
           0,
           0,
           0,
           0,
           0,
           0,
           0,
           0,
           0,
           0,
           0,
           0,
           0,
           0,
           0,
           0,
           0,
           0,
           0,
           0,
           0,
           0,
           0,
           0,
           0,
           0,
           0,
           0,
           0,
           0,
           0,
           0,
           0,
           0,
           0,
           0,
           0,
           0
          ],
          [
           0,
           0,
           0,
           0,
           0,
           0,
           0,
           0,
           0,
           0,
           0,
           0,
           0,
           0,
           0,
           0,
           0,
           0,
           0,
           0,
           0,
           0,
           0,
           0,
           0,
           0,
           0,
           0,
           0,
           0,
           0,
           0,
           0,
           0,
           0,
           0,
           0.5,
           0.5,
           0,
           0,
           0,
           0,
           0.047619047619047616,
           0,
           0,
           0,
           0,
           0.047619047619047616,
           0,
           0,
           0.13043478260869565,
           0.23529411764705882,
           0.3076923076923077,
           0.125,
           0.17647058823529413,
           0,
           0,
           0,
           0,
           0,
           0,
           0,
           0,
           0,
           0,
           0,
           0,
           0,
           0,
           0,
           0,
           0
          ],
          [
           0,
           0,
           0,
           0,
           0,
           0,
           0,
           0,
           0,
           0,
           0,
           0,
           0,
           0,
           0,
           0,
           0,
           0,
           0,
           0,
           0,
           0,
           0,
           0,
           0,
           0,
           0,
           0,
           0,
           0,
           0,
           0.06666666666666667,
           0,
           0.10810810810810811,
           0.14285714285714285,
           0.10810810810810811,
           0.06666666666666667,
           0.14,
           0.06666666666666667,
           0.09375,
           0.07575757575757576,
           0.06451612903225806,
           0.1,
           0.10256410256410256,
           0.028985507246376812,
           0.06060606060606061,
           0.010869565217391304,
           0,
           0.05747126436781609,
           0.09278350515463918,
           0.06666666666666667,
           0.2,
           0.2413793103448276,
           0.17,
           0.1111111111111111,
           0.09230769230769231,
           0.06349206349206349,
           0,
           0,
           0,
           0,
           0,
           0,
           0,
           0,
           0,
           0,
           0,
           0,
           0,
           0,
           0
          ],
          [
           0,
           0,
           0,
           0,
           0,
           0,
           0,
           0,
           0,
           0,
           0,
           0,
           0,
           0,
           0,
           0,
           0,
           0,
           0,
           0,
           0,
           0,
           0,
           0,
           0,
           0,
           0,
           0.0625,
           0,
           0,
           0.030303030303030304,
           0.05714285714285714,
           0.08823529411764706,
           0.08196721311475409,
           0.14516129032258066,
           0.10344827586206896,
           0.07547169811320754,
           0.07,
           0.06862745098039216,
           0.0896551724137931,
           0.1,
           0.08904109589041095,
           0.05851063829787234,
           0.03314917127071823,
           0.022598870056497175,
           0.022222222222222223,
           0.05263157894736842,
           0.07291666666666667,
           0.03333333333333333,
           0.11055276381909548,
           0.1891891891891892,
           0.2549019607843137,
           0.26635514018691586,
           0.1864406779661017,
           0.02631578947368421,
           0,
           0.017543859649122806,
           0.05263157894736842,
           0.06315789473684211,
           0.011111111111111112,
           0.023255813953488372,
           0,
           0,
           0,
           0,
           0,
           0,
           0,
           0,
           0,
           0,
           0
          ],
          [
           0,
           0,
           0,
           0,
           0,
           0,
           0,
           0,
           0,
           0,
           0,
           0,
           0,
           0,
           0,
           0,
           0,
           0,
           0,
           0,
           0,
           0,
           0,
           0,
           0,
           0,
           0,
           0.019230769230769232,
           0.019230769230769232,
           0.0392156862745098,
           0.1016949152542373,
           0.11504424778761062,
           0.13821138211382114,
           0.15422885572139303,
           0.13131313131313133,
           0.11052631578947368,
           0.14344262295081966,
           0.09251101321585903,
           0.07111111111111111,
           0.0514018691588785,
           0.06046511627906977,
           0.05188679245283019,
           0.042328042328042326,
           0.031914893617021274,
           0.037037037037037035,
           0.012987012987012988,
           0.019736842105263157,
           0.019736842105263157,
           0.1,
           0.14606741573033707,
           0.16111111111111112,
           0.27705627705627706,
           0.23728813559322035,
           0.1497326203208556,
           0.09876543209876543,
           0.07407407407407407,
           0.03896103896103896,
           0.016,
           0.0390625,
           0.023622047244094488,
           0.04310344827586207,
           0.017857142857142856,
           0,
           0,
           0.012195121951219513,
           0.012195121951219513,
           0,
           0,
           0,
           0,
           0,
           0
          ],
          [
           0,
           0,
           0,
           0,
           0,
           0,
           0,
           0,
           0,
           0,
           0,
           0,
           0,
           0,
           0,
           0,
           0,
           0,
           0,
           0,
           0.017857142857142856,
           0.017543859649122806,
           0.017543859649122806,
           0,
           0,
           0.011111111111111112,
           0.02197802197802198,
           0.03488372093023256,
           0.023529411764705882,
           0.04597701149425287,
           0.07042253521126761,
           0.15918367346938775,
           0.1350210970464135,
           0.09691629955947137,
           0.0881057268722467,
           0.10300429184549356,
           0.09289617486338798,
           0.08648648648648649,
           0.10160427807486631,
           0.10625,
           0.0718954248366013,
           0.02127659574468085,
           0.03389830508474576,
           0.05084745762711865,
           0.08064516129032258,
           0.04504504504504504,
           0.027522935779816515,
           0.009345794392523364,
           0.045454545454545456,
           0.10833333333333334,
           0.19083969465648856,
           0.2717948717948718,
           0.25136612021857924,
           0.19642857142857142,
           0.043478260869565216,
           0.050724637681159424,
           0.050724637681159424,
           0.041666666666666664,
           0.02857142857142857,
           0.0425531914893617,
           0.026143790849673203,
           0.013333333333333334,
           0.006711409395973154,
           0.006578947368421052,
           0,
           0,
           0,
           0,
           0,
           0,
           0,
           0
          ],
          [
           0,
           0,
           0,
           0,
           0,
           0,
           0,
           0,
           0,
           0,
           0,
           0,
           0,
           0,
           0,
           0,
           0,
           0,
           0,
           0.009615384615384616,
           0.019230769230769232,
           0.01818181818181818,
           0.009174311926605505,
           0.026785714285714284,
           0.06451612903225806,
           0.07643312101910828,
           0.020833333333333332,
           0.03007518796992481,
           0.015151515151515152,
           0.03007518796992481,
           0.019230769230769232,
           0.06626506024096386,
           0.0718562874251497,
           0.104,
           0.14173228346456693,
           0.09016393442622951,
           0.08536585365853659,
           0.14,
           0.10344827586206896,
           0.12162162162162163,
           0.14473684210526316,
           0.07575757575757576,
           0.06666666666666667,
           0.0967741935483871,
           0.06666666666666667,
           0.06493506493506493,
           0.02702702702702703,
           0.039473684210526314,
           0.0547945205479452,
           0.02857142857142857,
           0.11842105263157894,
           0.3418803418803419,
           0.3185840707964602,
           0.21875,
           0.13445378151260504,
           0.038461538461538464,
           0.04672897196261682,
           0.10655737704918032,
           0.06896551724137931,
           0.09090909090909091,
           0.015873015873015872,
           0.038461538461538464,
           0.015748031496062992,
           0,
           0,
           0.007352941176470588,
           0,
           0,
           0,
           0,
           0,
           0
          ],
          [
           0,
           0,
           0,
           0,
           0,
           0,
           0,
           0,
           0,
           0,
           0,
           0,
           0,
           0,
           0,
           0.009900990099009901,
           0,
           0,
           0.0392156862745098,
           0.02040816326530612,
           0.010309278350515464,
           0.03225806451612903,
           0.046511627906976744,
           0.03937007874015748,
           0.05755395683453238,
           0.044444444444444446,
           0.06993006993006994,
           0.040268456375838924,
           0.013888888888888888,
           0.034482758620689655,
           0.04081632653061224,
           0.0673076923076923,
           0.06,
           0.19230769230769232,
           0.11267605633802817,
           0.01639344262295082,
           0.06,
           0.058823529411764705,
           0.041666666666666664,
           0.08,
           0.06382978723404255,
           0.0425531914893617,
           0.047619047619047616,
           0.1111111111111111,
           0.10416666666666667,
           0.0425531914893617,
           0,
           0.021739130434782608,
           0.016666666666666666,
           0.12903225806451613,
           0.225,
           0.17647058823529413,
           0.20588235294117646,
           0.18840579710144928,
           0.16666666666666666,
           0.056338028169014086,
           0.04285714285714286,
           0.02830188679245283,
           0.03773584905660377,
           0.019230769230769232,
           0.03636363636363636,
           0.036036036036036036,
           0.018691588785046728,
           0,
           0,
           0,
           0,
           0,
           0,
           0,
           0,
           0
          ],
          [
           0,
           0,
           0,
           0,
           0,
           0,
           0,
           0,
           0,
           0,
           0,
           0,
           0,
           0,
           0.00423728813559322,
           0,
           0,
           0.004484304932735426,
           0.023148148148148147,
           0.02304147465437788,
           0.04888888888888889,
           0.03070175438596491,
           0.05531914893617021,
           0.02654867256637168,
           0.04411764705882353,
           0.06310679611650485,
           0.06220095693779904,
           0.04938271604938271,
           0.05,
           0.03184713375796178,
           0.12087912087912088,
           0.12371134020618557,
           0.10869565217391304,
           0.10666666666666667,
           0.13157894736842105,
           0.07142857142857142,
           0.06666666666666667,
           0.1111111111111111,
           0.0975609756097561,
           0.08955223880597014,
           0.09523809523809523,
           0.016666666666666666,
           0.0847457627118644,
           0.08333333333333333,
           0.05172413793103448,
           0.02,
           0,
           0.02040816326530612,
           0.13846153846153847,
           0.14035087719298245,
           0.24358974358974358,
           0.2636363636363636,
           0.24752475247524752,
           0.16853932584269662,
           0.13793103448275862,
           0.038461538461538464,
           0.013157894736842105,
           0.05154639175257732,
           0.0594059405940594,
           0.049019607843137254,
           0.014925373134328358,
           0.014925373134328358,
           0.007633587786259542,
           0,
           0,
           0,
           0.006535947712418301,
           0.006493506493506494,
           0,
           0,
           0,
           0
          ],
          [
           0,
           0,
           0,
           0,
           0,
           0,
           0,
           0,
           0,
           0,
           0,
           0,
           0,
           0,
           0,
           0,
           0,
           0.00425531914893617,
           0.019305019305019305,
           0.033707865168539325,
           0.04460966542750929,
           0.05286343612334802,
           0.03139013452914798,
           0.05982905982905983,
           0.07303370786516854,
           0.03048780487804878,
           0.0125,
           0,
           0.04938271604938271,
           0.02564102564102564,
           0.045454545454545456,
           0.05970149253731343,
           0.189873417721519,
           0.08928571428571429,
           0.07272727272727272,
           0.05555555555555555,
           0.1951219512195122,
           0.1388888888888889,
           0.2,
           0.09375,
           0.09090909090909091,
           0.0967741935483871,
           0.07142857142857142,
           0.07142857142857142,
           0.034482758620689655,
           0.037037037037037035,
           0.15151515151515152,
           0.16666666666666666,
           0.041666666666666664,
           0.1724137931034483,
           0.38461538461538464,
           0.40816326530612246,
           0.2553191489361702,
           0.21621621621621623,
           0.175,
           0,
           0,
           0.046511627906976744,
           0.08888888888888889,
           0,
           0,
           0,
           0,
           0,
           0,
           0,
           0,
           0,
           0,
           0,
           0,
           0
          ]
         ]
        }
       ],
       "layout": {
        "template": {
         "data": {
          "bar": [
           {
            "error_x": {
             "color": "#2a3f5f"
            },
            "error_y": {
             "color": "#2a3f5f"
            },
            "marker": {
             "line": {
              "color": "#E5ECF6",
              "width": 0.5
             }
            },
            "type": "bar"
           }
          ],
          "barpolar": [
           {
            "marker": {
             "line": {
              "color": "#E5ECF6",
              "width": 0.5
             }
            },
            "type": "barpolar"
           }
          ],
          "carpet": [
           {
            "aaxis": {
             "endlinecolor": "#2a3f5f",
             "gridcolor": "white",
             "linecolor": "white",
             "minorgridcolor": "white",
             "startlinecolor": "#2a3f5f"
            },
            "baxis": {
             "endlinecolor": "#2a3f5f",
             "gridcolor": "white",
             "linecolor": "white",
             "minorgridcolor": "white",
             "startlinecolor": "#2a3f5f"
            },
            "type": "carpet"
           }
          ],
          "choropleth": [
           {
            "colorbar": {
             "outlinewidth": 0,
             "ticks": ""
            },
            "type": "choropleth"
           }
          ],
          "contour": [
           {
            "colorbar": {
             "outlinewidth": 0,
             "ticks": ""
            },
            "colorscale": [
             [
              0,
              "#0d0887"
             ],
             [
              0.1111111111111111,
              "#46039f"
             ],
             [
              0.2222222222222222,
              "#7201a8"
             ],
             [
              0.3333333333333333,
              "#9c179e"
             ],
             [
              0.4444444444444444,
              "#bd3786"
             ],
             [
              0.5555555555555556,
              "#d8576b"
             ],
             [
              0.6666666666666666,
              "#ed7953"
             ],
             [
              0.7777777777777778,
              "#fb9f3a"
             ],
             [
              0.8888888888888888,
              "#fdca26"
             ],
             [
              1,
              "#f0f921"
             ]
            ],
            "type": "contour"
           }
          ],
          "contourcarpet": [
           {
            "colorbar": {
             "outlinewidth": 0,
             "ticks": ""
            },
            "type": "contourcarpet"
           }
          ],
          "heatmap": [
           {
            "colorbar": {
             "outlinewidth": 0,
             "ticks": ""
            },
            "colorscale": [
             [
              0,
              "#0d0887"
             ],
             [
              0.1111111111111111,
              "#46039f"
             ],
             [
              0.2222222222222222,
              "#7201a8"
             ],
             [
              0.3333333333333333,
              "#9c179e"
             ],
             [
              0.4444444444444444,
              "#bd3786"
             ],
             [
              0.5555555555555556,
              "#d8576b"
             ],
             [
              0.6666666666666666,
              "#ed7953"
             ],
             [
              0.7777777777777778,
              "#fb9f3a"
             ],
             [
              0.8888888888888888,
              "#fdca26"
             ],
             [
              1,
              "#f0f921"
             ]
            ],
            "type": "heatmap"
           }
          ],
          "heatmapgl": [
           {
            "colorbar": {
             "outlinewidth": 0,
             "ticks": ""
            },
            "colorscale": [
             [
              0,
              "#0d0887"
             ],
             [
              0.1111111111111111,
              "#46039f"
             ],
             [
              0.2222222222222222,
              "#7201a8"
             ],
             [
              0.3333333333333333,
              "#9c179e"
             ],
             [
              0.4444444444444444,
              "#bd3786"
             ],
             [
              0.5555555555555556,
              "#d8576b"
             ],
             [
              0.6666666666666666,
              "#ed7953"
             ],
             [
              0.7777777777777778,
              "#fb9f3a"
             ],
             [
              0.8888888888888888,
              "#fdca26"
             ],
             [
              1,
              "#f0f921"
             ]
            ],
            "type": "heatmapgl"
           }
          ],
          "histogram": [
           {
            "marker": {
             "colorbar": {
              "outlinewidth": 0,
              "ticks": ""
             }
            },
            "type": "histogram"
           }
          ],
          "histogram2d": [
           {
            "colorbar": {
             "outlinewidth": 0,
             "ticks": ""
            },
            "colorscale": [
             [
              0,
              "#0d0887"
             ],
             [
              0.1111111111111111,
              "#46039f"
             ],
             [
              0.2222222222222222,
              "#7201a8"
             ],
             [
              0.3333333333333333,
              "#9c179e"
             ],
             [
              0.4444444444444444,
              "#bd3786"
             ],
             [
              0.5555555555555556,
              "#d8576b"
             ],
             [
              0.6666666666666666,
              "#ed7953"
             ],
             [
              0.7777777777777778,
              "#fb9f3a"
             ],
             [
              0.8888888888888888,
              "#fdca26"
             ],
             [
              1,
              "#f0f921"
             ]
            ],
            "type": "histogram2d"
           }
          ],
          "histogram2dcontour": [
           {
            "colorbar": {
             "outlinewidth": 0,
             "ticks": ""
            },
            "colorscale": [
             [
              0,
              "#0d0887"
             ],
             [
              0.1111111111111111,
              "#46039f"
             ],
             [
              0.2222222222222222,
              "#7201a8"
             ],
             [
              0.3333333333333333,
              "#9c179e"
             ],
             [
              0.4444444444444444,
              "#bd3786"
             ],
             [
              0.5555555555555556,
              "#d8576b"
             ],
             [
              0.6666666666666666,
              "#ed7953"
             ],
             [
              0.7777777777777778,
              "#fb9f3a"
             ],
             [
              0.8888888888888888,
              "#fdca26"
             ],
             [
              1,
              "#f0f921"
             ]
            ],
            "type": "histogram2dcontour"
           }
          ],
          "mesh3d": [
           {
            "colorbar": {
             "outlinewidth": 0,
             "ticks": ""
            },
            "type": "mesh3d"
           }
          ],
          "parcoords": [
           {
            "line": {
             "colorbar": {
              "outlinewidth": 0,
              "ticks": ""
             }
            },
            "type": "parcoords"
           }
          ],
          "pie": [
           {
            "automargin": true,
            "type": "pie"
           }
          ],
          "scatter": [
           {
            "marker": {
             "colorbar": {
              "outlinewidth": 0,
              "ticks": ""
             }
            },
            "type": "scatter"
           }
          ],
          "scatter3d": [
           {
            "line": {
             "colorbar": {
              "outlinewidth": 0,
              "ticks": ""
             }
            },
            "marker": {
             "colorbar": {
              "outlinewidth": 0,
              "ticks": ""
             }
            },
            "type": "scatter3d"
           }
          ],
          "scattercarpet": [
           {
            "marker": {
             "colorbar": {
              "outlinewidth": 0,
              "ticks": ""
             }
            },
            "type": "scattercarpet"
           }
          ],
          "scattergeo": [
           {
            "marker": {
             "colorbar": {
              "outlinewidth": 0,
              "ticks": ""
             }
            },
            "type": "scattergeo"
           }
          ],
          "scattergl": [
           {
            "marker": {
             "colorbar": {
              "outlinewidth": 0,
              "ticks": ""
             }
            },
            "type": "scattergl"
           }
          ],
          "scattermapbox": [
           {
            "marker": {
             "colorbar": {
              "outlinewidth": 0,
              "ticks": ""
             }
            },
            "type": "scattermapbox"
           }
          ],
          "scatterpolar": [
           {
            "marker": {
             "colorbar": {
              "outlinewidth": 0,
              "ticks": ""
             }
            },
            "type": "scatterpolar"
           }
          ],
          "scatterpolargl": [
           {
            "marker": {
             "colorbar": {
              "outlinewidth": 0,
              "ticks": ""
             }
            },
            "type": "scatterpolargl"
           }
          ],
          "scatterternary": [
           {
            "marker": {
             "colorbar": {
              "outlinewidth": 0,
              "ticks": ""
             }
            },
            "type": "scatterternary"
           }
          ],
          "surface": [
           {
            "colorbar": {
             "outlinewidth": 0,
             "ticks": ""
            },
            "colorscale": [
             [
              0,
              "#0d0887"
             ],
             [
              0.1111111111111111,
              "#46039f"
             ],
             [
              0.2222222222222222,
              "#7201a8"
             ],
             [
              0.3333333333333333,
              "#9c179e"
             ],
             [
              0.4444444444444444,
              "#bd3786"
             ],
             [
              0.5555555555555556,
              "#d8576b"
             ],
             [
              0.6666666666666666,
              "#ed7953"
             ],
             [
              0.7777777777777778,
              "#fb9f3a"
             ],
             [
              0.8888888888888888,
              "#fdca26"
             ],
             [
              1,
              "#f0f921"
             ]
            ],
            "type": "surface"
           }
          ],
          "table": [
           {
            "cells": {
             "fill": {
              "color": "#EBF0F8"
             },
             "line": {
              "color": "white"
             }
            },
            "header": {
             "fill": {
              "color": "#C8D4E3"
             },
             "line": {
              "color": "white"
             }
            },
            "type": "table"
           }
          ]
         },
         "layout": {
          "annotationdefaults": {
           "arrowcolor": "#2a3f5f",
           "arrowhead": 0,
           "arrowwidth": 1
          },
          "autotypenumbers": "strict",
          "coloraxis": {
           "colorbar": {
            "outlinewidth": 0,
            "ticks": ""
           }
          },
          "colorscale": {
           "diverging": [
            [
             0,
             "#8e0152"
            ],
            [
             0.1,
             "#c51b7d"
            ],
            [
             0.2,
             "#de77ae"
            ],
            [
             0.3,
             "#f1b6da"
            ],
            [
             0.4,
             "#fde0ef"
            ],
            [
             0.5,
             "#f7f7f7"
            ],
            [
             0.6,
             "#e6f5d0"
            ],
            [
             0.7,
             "#b8e186"
            ],
            [
             0.8,
             "#7fbc41"
            ],
            [
             0.9,
             "#4d9221"
            ],
            [
             1,
             "#276419"
            ]
           ],
           "sequential": [
            [
             0,
             "#0d0887"
            ],
            [
             0.1111111111111111,
             "#46039f"
            ],
            [
             0.2222222222222222,
             "#7201a8"
            ],
            [
             0.3333333333333333,
             "#9c179e"
            ],
            [
             0.4444444444444444,
             "#bd3786"
            ],
            [
             0.5555555555555556,
             "#d8576b"
            ],
            [
             0.6666666666666666,
             "#ed7953"
            ],
            [
             0.7777777777777778,
             "#fb9f3a"
            ],
            [
             0.8888888888888888,
             "#fdca26"
            ],
            [
             1,
             "#f0f921"
            ]
           ],
           "sequentialminus": [
            [
             0,
             "#0d0887"
            ],
            [
             0.1111111111111111,
             "#46039f"
            ],
            [
             0.2222222222222222,
             "#7201a8"
            ],
            [
             0.3333333333333333,
             "#9c179e"
            ],
            [
             0.4444444444444444,
             "#bd3786"
            ],
            [
             0.5555555555555556,
             "#d8576b"
            ],
            [
             0.6666666666666666,
             "#ed7953"
            ],
            [
             0.7777777777777778,
             "#fb9f3a"
            ],
            [
             0.8888888888888888,
             "#fdca26"
            ],
            [
             1,
             "#f0f921"
            ]
           ]
          },
          "colorway": [
           "#636efa",
           "#EF553B",
           "#00cc96",
           "#ab63fa",
           "#FFA15A",
           "#19d3f3",
           "#FF6692",
           "#B6E880",
           "#FF97FF",
           "#FECB52"
          ],
          "font": {
           "color": "#2a3f5f"
          },
          "geo": {
           "bgcolor": "white",
           "lakecolor": "white",
           "landcolor": "#E5ECF6",
           "showlakes": true,
           "showland": true,
           "subunitcolor": "white"
          },
          "hoverlabel": {
           "align": "left"
          },
          "hovermode": "closest",
          "mapbox": {
           "style": "light"
          },
          "paper_bgcolor": "white",
          "plot_bgcolor": "#E5ECF6",
          "polar": {
           "angularaxis": {
            "gridcolor": "white",
            "linecolor": "white",
            "ticks": ""
           },
           "bgcolor": "#E5ECF6",
           "radialaxis": {
            "gridcolor": "white",
            "linecolor": "white",
            "ticks": ""
           }
          },
          "scene": {
           "xaxis": {
            "backgroundcolor": "#E5ECF6",
            "gridcolor": "white",
            "gridwidth": 2,
            "linecolor": "white",
            "showbackground": true,
            "ticks": "",
            "zerolinecolor": "white"
           },
           "yaxis": {
            "backgroundcolor": "#E5ECF6",
            "gridcolor": "white",
            "gridwidth": 2,
            "linecolor": "white",
            "showbackground": true,
            "ticks": "",
            "zerolinecolor": "white"
           },
           "zaxis": {
            "backgroundcolor": "#E5ECF6",
            "gridcolor": "white",
            "gridwidth": 2,
            "linecolor": "white",
            "showbackground": true,
            "ticks": "",
            "zerolinecolor": "white"
           }
          },
          "shapedefaults": {
           "line": {
            "color": "#2a3f5f"
           }
          },
          "ternary": {
           "aaxis": {
            "gridcolor": "white",
            "linecolor": "white",
            "ticks": ""
           },
           "baxis": {
            "gridcolor": "white",
            "linecolor": "white",
            "ticks": ""
           },
           "bgcolor": "#E5ECF6",
           "caxis": {
            "gridcolor": "white",
            "linecolor": "white",
            "ticks": ""
           }
          },
          "title": {
           "x": 0.05
          },
          "xaxis": {
           "automargin": true,
           "gridcolor": "white",
           "linecolor": "white",
           "ticks": "",
           "title": {
            "standoff": 15
           },
           "zerolinecolor": "white",
           "zerolinewidth": 2
          },
          "yaxis": {
           "automargin": true,
           "gridcolor": "white",
           "linecolor": "white",
           "ticks": "",
           "title": {
            "standoff": 15
           },
           "zerolinecolor": "white",
           "zerolinewidth": 2
          }
         }
        }
       }
      }
     },
     "metadata": {}
    }
   ],
   "source": [
    "import plotly.graph_objects as go\n",
    "\n",
    "on_rate = np.zeros(space_shape)\n",
    "total_hit = np.zeros(space_shape)\n",
    "\n",
    "count = 0\n",
    "for i in range(space_shape[0]):\n",
    "    for j in range(space_shape[1]):\n",
    "        total_hit[i,j] = final_space[i,j][0] +  final_space[i,j][1]\n",
    "        if final_space[i,j][0] +  final_space[i,j][1] == 0:\n",
    "            count+=1\n",
    "            continue\n",
    "        on_rate[i,j] = final_space[i,j][0] / (final_space[i,j][0] +  final_space[i,j][1])  \n",
    "print(len(unit_of_int))\n",
    "print(space_shape[0]*space_shape[1])\n",
    "fig = go.Figure(data=go.Heatmap(z=on_rate))\n",
    "# fig = go.Figure(data=go.Heatmap(z=total_hit))\n",
    "fig.show()\n"
   ]
  },
  {
   "cell_type": "code",
   "execution_count": 10,
   "metadata": {
    "tags": []
   },
   "outputs": [
    {
     "output_type": "error",
     "ename": "SyntaxError",
     "evalue": "invalid syntax (<ipython-input-10-5ba1c6d07269>, line 28)",
     "traceback": [
      "\u001b[0;36m  File \u001b[0;32m\"<ipython-input-10-5ba1c6d07269>\"\u001b[0;36m, line \u001b[0;32m28\u001b[0m\n\u001b[0;31m    elif\u001b[0m\n\u001b[0m         ^\u001b[0m\n\u001b[0;31mSyntaxError\u001b[0m\u001b[0;31m:\u001b[0m invalid syntax\n"
     ]
    }
   ],
   "source": [
    "from sklearn.neighbors import KDTree, BallTree\n",
    "\n",
    "def find_set(uf, a):\n",
    "    if uf[a] != a:\n",
    "        uf[a] = find_set(uf, uf[a])\n",
    "    return uf[a]\n",
    "\n",
    "def union_set(uf, a, b):\n",
    "    if find_set(uf, a) != find_set(uf, b):\n",
    "        uf[find_set(uf, a)] = uf[b]\n",
    "\n",
    "print(len(unit_of_int))\n",
    "tree = KDTree(unit_of_int, leaf_size=5)   \n",
    "clss = [x for x in range(len(unit_of_int))]  \n",
    "\n",
    "dist, ind = tree.query(unit_of_int, k=4, sort_results=True)  \n",
    "for idx, unit in enumerate(unit_of_int):\n",
    "    prob_unit = final_space[unit] / sum(final_space[unit])\n",
    "    d_i = dist[idx]\n",
    "    ind_i = ind[idx]\n",
    "    for i in range(4):\n",
    "        if d_i[i] > 1:\n",
    "            continue\n",
    "        cell = unit_of_int[ind_i[i]]\n",
    "        prob_ngbr = final_space[cell] / sum(final_space[cell])\n",
    "        if np.linalg.norm(prob_unit - prob_ngbr) < 0.05:\n",
    "            union_set(clss, idx, ind_i[i])\n",
    "        elif \n",
    "# print(clss)\n",
    "core = []\n",
    "u = np.unique([find_set(clss, i) for i in range(len(clss))])\n",
    "print(u)\n",
    "a = np.full(space_shape, u[0]-1)\n",
    "for i, unit in enumerate(unit_of_int):\n",
    "    a[unit] = find_set(clss, i)\n",
    "\n",
    "fig = go.Figure(data=go.Heatmap(z=a))\n",
    "fig.show()"
   ]
  },
  {
   "cell_type": "code",
   "execution_count": 7,
   "metadata": {
    "tags": []
   },
   "outputs": [
    {
     "output_type": "stream",
     "name": "stderr",
     "text": [
      "DEBUG:root:The number of device events from processed file: {'Microwave [kW]': 5013, 'Washing_Machine [kW]': 589}\n",
      "DEBUG:root:The number of context events from processed file: {'apparentTemperature#NUM': 8743, 'humidity#NUM': 7669, 'summary#CAT': 1892}\n"
     ]
    }
   ],
   "source": [
    "\n",
    "time_delta = 20\n",
    "d_time_delta = timedelta(minutes=10)\n",
    "humidity_delta = 0.1\n",
    "on_state = [[],[]]\n",
    "off_state = [[],[]]\n",
    "space_shape = (math.ceil(1.0/humidity_delta), math.ceil(24*60/time_delta))\n",
    "final_space = np.zeros([space_shape[0], space_shape[1], 2])\n",
    "data_x = []\n",
    "data_y = []\n",
    "min_obs = 10\n",
    "unit_of_int = []\n",
    "def process_snapshot(cur_time, ctx_snapshot, d_state):\n",
    "    cell_idx = (int(ctx_snapshot['humidity#NUM']/humidity_delta), int(ctx_snapshot['min_of_day#NUM']/time_delta))\n",
    "\n",
    "    if d_state == \"on\":\n",
    "        final_space[cell_idx[0], cell_idx[1], 0] += 1\n",
    "    else:\n",
    "        final_space[cell_idx[0], cell_idx[1], 1] += 1\n",
    "    if final_space[cell_idx[0], cell_idx[1], 1] + final_space[cell_idx[0], cell_idx[1], 0] == min_obs:\n",
    "        unit_of_int.append(cell_idx)\n",
    "    data_x.append([ctx_snapshot['min_of_day#NUM'], ctx_snapshot['humidity#NUM']])\n",
    "    data_y.append(0 if d_state==\"on\" else 1)\n",
    "\n",
    "def tag_device(ctx_evts, device_evts):\n",
    "    for d, d_evts in device_evts.items():\n",
    "        if d != \"Microwave [kW]\":\n",
    "            continue\n",
    "        cur_time = d_evts[0][1]\n",
    "        end_time = d_evts[-1][1]\n",
    "        c_evt_idx = {c: 0 for c in ctx_evts}\n",
    "        ctx_snapshot = {\n",
    "            c: ctx_evts[c][0][0]\n",
    "            for c in ctx_evts\n",
    "        }\n",
    "        cur_evt_idx = 0\n",
    "        d_state = d_evts[0][0]\n",
    "        while cur_time < end_time:\n",
    "            for c, c_evts in ctx_evts.items():\n",
    "                while c_evt_idx[c] < len(c_evts) and c_evts[c_evt_idx[c]][1] <= cur_time:\n",
    "                    ctx_snapshot[c] = c_evts[c_evt_idx[c]][0]\n",
    "                    c_evt_idx[c] += 1\n",
    "            # Add additional contextes\n",
    "            ctx_snapshot[TIME_CTX] = datetime_to_mins(cur_time)\n",
    "            ctx_snapshot[WEEKDAY_CTX] = cur_time.date().weekday()  \n",
    "            process_snapshot(cur_time, ctx_snapshot, d_state)  \n",
    "\n",
    "            if d_evts[cur_evt_idx + 1][1] <= cur_time + d_time_delta:\n",
    "                cur_time = d_evts[cur_evt_idx + 1][1]\n",
    "                cur_evt_idx += 1\n",
    "                d_state = d_evts[cur_evt_idx][0]\n",
    "            else:\n",
    "                cur_time += d_time_delta\n",
    "            \n",
    "\n",
    "def test_umass_2():\n",
    "    test_project = \"HomeF/2016\"\n",
    "    project_path = os.path.join(DATA_ROOT, UMASS_ROOT, test_project)\n",
    "    input_file = os.path.join(project_path, PROCESSED_FILENAME)\n",
    "    with open(input_file) as f:\n",
    "        json_str = f.read()\n",
    "        (ctx_evts, device_evts) = json.loads(json_str, object_hook=json_datetime_hook)\n",
    "    logging.debug(\"The number of device events from processed file: {}\".format(\n",
    "        {x: len(device_evts[x]) for x in device_evts}))\n",
    "    logging.debug(\"The number of context events from processed file: {}\".format(\n",
    "            {x: len(ctx_evts[x]) for x in ctx_evts}))\n",
    "    \n",
    "    tag_device(ctx_evts, device_evts)\n",
    "\n",
    "test_umass_2()\n"
   ]
  },
  {
   "cell_type": "code",
   "execution_count": 85,
   "metadata": {},
   "outputs": [
    {
     "output_type": "stream",
     "name": "stdout",
     "text": [
      "[0.13898541 0.58823529]\n[[0.49720339]]\n[[-0.45413627  0.88417517]]\n"
     ]
    }
   ],
   "source": [
    "# LDA not working\n",
    "import matplotlib.pyplot as plt\n",
    "from sklearn.discriminant_analysis import LinearDiscriminantAnalysis as LDA\n",
    "import sklearn\n",
    "\n",
    "clss = LDA()\n",
    "data_x = sklearn.preprocessing.MinMaxScaler().fit_transform(data_x)\n",
    "\n",
    "x = clss.fit_transform(data_x, data_y)\n",
    "print(data_x[10])\n",
    "print(clss.transform(data_x[10:11]))\n",
    "print(clss.coef_)"
   ]
  },
  {
   "cell_type": "code",
   "execution_count": null,
   "metadata": {},
   "outputs": [],
   "source": []
  }
 ]
}
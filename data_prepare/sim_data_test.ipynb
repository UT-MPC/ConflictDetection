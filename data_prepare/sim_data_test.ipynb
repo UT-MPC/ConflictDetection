{
 "cells": [
  {
   "cell_type": "code",
   "execution_count": 1,
   "source": [
    "import os\n",
    "os.chdir(\"..\")"
   ],
   "outputs": [],
   "metadata": {}
  },
  {
   "cell_type": "code",
   "execution_count": 2,
   "source": [
    "import json\n",
    "import numpy as np\n",
    "import math\n",
    "from typing import Dict, List, Tuple\n",
    "import copy\n",
    "from itertools import combinations\n",
    "from collections import Counter\n",
    "\n",
    "import logging\n",
    "from datetime import timedelta\n",
    "from config import *\n",
    "from utils import *\n",
    "from main import *\n",
    "from GtConflictFinder import GtConflictFinder\n",
    "from ConflictDetector import ConflictDetector, ConflictPredicator\n",
    "from GridPatternBuilder import build_habit_groups\n",
    "\n",
    "root_folder = os.path.join(DATA_ROOT, \"ifttt\")\n",
    "test_projects = [\n",
    "    \"sim_v4\"\n",
    "]\n"
   ],
   "outputs": [],
   "metadata": {}
  },
  {
   "cell_type": "code",
   "execution_count": 3,
   "source": [
    "from datetime import datetime\n",
    "from datetime import timedelta\n",
    "import json\n",
    "from config import *\n",
    "from main import *\n",
    "\n",
    "root_folder = os.path.join(DATA_ROOT, \"ifttt\")\n",
    "test_projects = [\n",
    "    \"sim_v4\"\n",
    "]\n",
    "\n",
    "ctx_evts, device_evts = load_processed(root_folder, test_projects[0], is_umass=False)\n",
    "ctx_evts[\"weatherDesc#CAT\"] = ctx_evts.pop(\"weather\")\n",
    "device_evts[\"thermostat\"] = device_evts.pop(\"AC\")\n",
    "\n",
    "with open(os.path.join(root_folder, test_projects[0] + \"_p.json\"), 'w') as f:\n",
    "    f.write(json.dumps((ctx_evts, device_evts), default=str))"
   ],
   "outputs": [
    {
     "output_type": "error",
     "ename": "KeyError",
     "evalue": "'thermostat'",
     "traceback": [
      "\u001b[0;31m---------------------------------------------------------------------------\u001b[0m",
      "\u001b[0;31mKeyError\u001b[0m                                  Traceback (most recent call last)",
      "\u001b[0;32m<ipython-input-3-d2e6464ee288>\u001b[0m in \u001b[0;36m<module>\u001b[0;34m\u001b[0m\n\u001b[1;32m     12\u001b[0m \u001b[0mctx_evts\u001b[0m\u001b[0;34m,\u001b[0m \u001b[0mdevice_evts\u001b[0m \u001b[0;34m=\u001b[0m \u001b[0mload_processed\u001b[0m\u001b[0;34m(\u001b[0m\u001b[0mroot_folder\u001b[0m\u001b[0;34m,\u001b[0m \u001b[0mtest_projects\u001b[0m\u001b[0;34m[\u001b[0m\u001b[0;36m0\u001b[0m\u001b[0;34m]\u001b[0m\u001b[0;34m,\u001b[0m \u001b[0mis_umass\u001b[0m\u001b[0;34m=\u001b[0m\u001b[0;32mFalse\u001b[0m\u001b[0;34m)\u001b[0m\u001b[0;34m\u001b[0m\u001b[0;34m\u001b[0m\u001b[0m\n\u001b[1;32m     13\u001b[0m \u001b[0mctx_evts\u001b[0m\u001b[0;34m[\u001b[0m\u001b[0;34m\"weatherDesc#CAT\"\u001b[0m\u001b[0;34m]\u001b[0m \u001b[0;34m=\u001b[0m \u001b[0mctx_evts\u001b[0m\u001b[0;34m.\u001b[0m\u001b[0mpop\u001b[0m\u001b[0;34m(\u001b[0m\u001b[0;34m\"weather\"\u001b[0m\u001b[0;34m)\u001b[0m\u001b[0;34m\u001b[0m\u001b[0;34m\u001b[0m\u001b[0m\n\u001b[0;32m---> 14\u001b[0;31m \u001b[0mdevice_evts\u001b[0m\u001b[0;34m[\u001b[0m\u001b[0;34m\"thermostat\"\u001b[0m\u001b[0;34m]\u001b[0m \u001b[0;34m=\u001b[0m \u001b[0mdevice_evts\u001b[0m\u001b[0;34m.\u001b[0m\u001b[0mpop\u001b[0m\u001b[0;34m(\u001b[0m\u001b[0;34m\"thermostat\"\u001b[0m\u001b[0;34m)\u001b[0m\u001b[0;34m\u001b[0m\u001b[0;34m\u001b[0m\u001b[0m\n\u001b[0m\u001b[1;32m     15\u001b[0m \u001b[0;34m\u001b[0m\u001b[0m\n\u001b[1;32m     16\u001b[0m \u001b[0;32mwith\u001b[0m \u001b[0mopen\u001b[0m\u001b[0;34m(\u001b[0m\u001b[0mos\u001b[0m\u001b[0;34m.\u001b[0m\u001b[0mpath\u001b[0m\u001b[0;34m.\u001b[0m\u001b[0mjoin\u001b[0m\u001b[0;34m(\u001b[0m\u001b[0mroot_folder\u001b[0m\u001b[0;34m,\u001b[0m \u001b[0mtest_projects\u001b[0m\u001b[0;34m[\u001b[0m\u001b[0;36m0\u001b[0m\u001b[0;34m]\u001b[0m \u001b[0;34m+\u001b[0m \u001b[0;34m\"_p.json\"\u001b[0m\u001b[0;34m)\u001b[0m\u001b[0;34m,\u001b[0m \u001b[0;34m'w'\u001b[0m\u001b[0;34m)\u001b[0m \u001b[0;32mas\u001b[0m \u001b[0mf\u001b[0m\u001b[0;34m:\u001b[0m\u001b[0;34m\u001b[0m\u001b[0;34m\u001b[0m\u001b[0m\n",
      "\u001b[0;31mKeyError\u001b[0m: 'thermostat'"
     ]
    }
   ],
   "metadata": {}
  },
  {
   "cell_type": "code",
   "execution_count": 12,
   "source": [
    "# for c, evts in ctx_evts.items():\n",
    "#     vals = set()\n",
    "#     print(c)\n",
    "#     for e in evts:\n",
    "#         vals.add(e[0])\n",
    "#     print(len(vals))\n",
    "#     print(vals)\n",
    "for d, evts in device_evts.items():\n",
    "    vals = set()\n",
    "    print(d)\n",
    "    if type(evts[0][0]) == list:\n",
    "        continue\n",
    "    for e in evts:\n",
    "        vals.add(e[0])\n",
    "    print(len(vals))\n"
   ],
   "outputs": [
    {
     "output_type": "stream",
     "name": "stdout",
     "text": [
      "AC\n",
      "Light\n",
      "2\n",
      "Light_Color\n",
      "1\n",
      "Dishwasher\n",
      "1\n",
      "Fan\n",
      "1\n",
      "Shade\n",
      "1\n"
     ]
    }
   ],
   "metadata": {}
  },
  {
   "cell_type": "code",
   "execution_count": null,
   "source": [
    "# time_template = \"%I:%M %p\"\n",
    "# time_str = ctx_evts[\"sunset\"][20][0]\n",
    "# print(time_str)\n",
    "# print(datetime.strptime(time_str, time_template))\n",
    "# ctx_evts[\"day_night\"] = []\n",
    "# for i, evt in enumerate(ctx_evts[\"sunrise\"]):\n",
    "#     time = evt[1].time()\n",
    "#     sunrise = datetime.strptime(evt[0], time_template).time()\n",
    "#     sunset = datetime.strptime(ctx_evts[\"sunset\"][i][0], time_template).time()\n",
    "#     ctx_evts[\"da\"]\n",
    "#     print(time, time < sunrise)\n",
    "#     print(time > sunset)\n"
   ],
   "outputs": [],
   "metadata": {}
  }
 ],
 "metadata": {
  "orig_nbformat": 4,
  "language_info": {
   "name": "python",
   "version": "3.7.6",
   "mimetype": "text/x-python",
   "codemirror_mode": {
    "name": "ipython",
    "version": 3
   },
   "pygments_lexer": "ipython3",
   "nbconvert_exporter": "python",
   "file_extension": ".py"
  },
  "kernelspec": {
   "name": "python3",
   "display_name": "Python 3.7.6 64-bit ('venv': venv)"
  },
  "interpreter": {
   "hash": "4fe898ffcadce6da2343864bf819ed3269e46dcfc725e07ab6320af456fe33e5"
  }
 },
 "nbformat": 4,
 "nbformat_minor": 2
}
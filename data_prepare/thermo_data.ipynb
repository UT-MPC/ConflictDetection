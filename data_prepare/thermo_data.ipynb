{
 "cells": [
  {
   "cell_type": "code",
   "execution_count": 1,
   "source": [
    "import os \n",
    "os.chdir(\"..\")"
   ],
   "outputs": [],
   "metadata": {}
  },
  {
   "cell_type": "code",
   "execution_count": 69,
   "source": [
    "import pandas as pd\n",
    "from datetime import datetime\n",
    "from datetime import timedelta\n",
    "from scipy import stats\n",
    "import json\n",
    "\n",
    "from config import DEVICE_SKIP_STATE, NUMERIC_CTX_SUFFIX\n",
    "root_dir = \"data/Thermostat Dataset\"\n",
    "processed_dir = \"processed\"\n",
    "datetime_temp = \"%Y-%m-%d %H:%M\"\n",
    "all_csv = [f for f in os.listdir(root_dir) if f.endswith(\".csv\") \\\n",
    "            and (\"weather\" not in f) and (\"RB\" not in f)]\n",
    "weather_file = \"weather.csv\"\n",
    "weathers = pd.read_csv(os.path.join(root_dir, weather_file))\n",
    "# indoor_temp_matching = lambda x : any([\"RMT_TL\", \"\"])\n",
    "col_idx = {\n",
    "    \"Time\": 0,\n",
    "    \"Window\": 1,\n",
    "    \"Occupancy\": 2,\n",
    "    \"IndoorTemp\": 3,\n",
    "    \"IndoorHumidity\": 4,\n",
    "    \"IndoorCo2\": 5,\n",
    "    \"Setpoint\": 6,\n",
    "    \"OutTemp\": 7,\n",
    "}\n",
    "ctx_to_include = [\n",
    "    \"OutTemp\", \"IndoorTemp\", \"IndoorHumidity\",\n",
    "]\n",
    "outtemp_data = weathers.iloc[:,1]\n",
    "print(min(outtemp_data), max(outtemp_data))\n",
    "for filename in all_csv:\n",
    "    file_path = os.path.join(root_dir, filename)\n",
    "    data = pd.read_csv(file_path)\n",
    "    data[\"OutTemp\"] = outtemp_data\n",
    "    occupied_idx = data.iloc[:, col_idx[\"Occupancy\"]] >= 1\n",
    "    print(filename, len(data))\n",
    "    # setpoint_data = data.iloc[:, col_idx[\"Setpoint\"]][occupied_idx]\n",
    "    # humid_data = data.iloc[:, col_idx[\"IndoorHumidity\"]][occupied_idx]\n",
    "    # indoorTemp_data = data.iloc[:, col_idx[\"IndoorTemp\"]][occupied_idx]\n",
    "\n",
    "    device_evt = {\"thermostat\":[]}\n",
    "    ctx_evt = {\n",
    "        x:[]\n",
    "        for x in ctx_to_include\n",
    "    }\n",
    "    prev_setpoint = None\n",
    "    prev_state = DEVICE_SKIP_STATE\n",
    "    for idx, row in data.iterrows():\n",
    "        setpoint = row[col_idx[\"Setpoint\"]]\n",
    "        time = row[col_idx[\"Time\"]]\n",
    "        cur_time = datetime.strptime(time, datetime_temp)\n",
    "        occupancy = row[col_idx[\"Occupancy\"]]\n",
    "        if occupancy == 0:\n",
    "            # No one in the room\n",
    "            if prev_state != DEVICE_SKIP_STATE:\n",
    "                device_evt[\"thermostat\"].append((DEVICE_SKIP_STATE, cur_time))\n",
    "                prev_state = DEVICE_SKIP_STATE\n",
    "                prev_setpoint = None\n",
    "        else:\n",
    "            if prev_setpoint != setpoint:\n",
    "                prev_state = \"auto\"\n",
    "                prev_setpoint = setpoint\n",
    "                device_evt[\"thermostat\"].append((prev_state, cur_time, setpoint))\n",
    "    time_data = list(data.iloc[:, col_idx[\"Time\"]])\n",
    "    for ctx in ctx_to_include:\n",
    "        data_col = list(data.iloc[:, col_idx[ctx]])\n",
    "        for i, value in enumerate(data_col):\n",
    "            if len(ctx_evt[ctx]) == 0 or \\\n",
    "                value != ctx_evt[ctx][-1][0]:\n",
    "                cur_time = datetime.strptime(time_data[i], datetime_temp)\n",
    "                ctx_evt[ctx].append((value, cur_time))\n",
    "    \n",
    "\n",
    "    ctx_evt = { k + NUMERIC_CTX_SUFFIX : v for k,v in ctx_evt.items()}\n",
    "    with open(os.path.join(root_dir, processed_dir, filename), 'w') as f:\n",
    "        f.write(json.dumps((ctx_evt, device_evt), default=str))\n",
    "    # print(device_evt)\n",
    "    # if len(setpoint_data) > 10000:\n",
    "    #     print(len(setpoint_data))\n",
    "    #     print(setpoint_data.corr(b_data))\n",
    "    # print(indoorTemp_data.head())"
   ],
   "outputs": [
    {
     "output_type": "stream",
     "name": "stdout",
     "text": [
      "-23.84985161 33.6\n",
      "HS3301.csv 35041\n"
     ]
    }
   ],
   "metadata": {}
  },
  {
   "cell_type": "code",
   "execution_count": null,
   "source": [],
   "outputs": [],
   "metadata": {}
  }
 ],
 "metadata": {
  "orig_nbformat": 4,
  "language_info": {
   "name": "python",
   "version": "3.7.6",
   "mimetype": "text/x-python",
   "codemirror_mode": {
    "name": "ipython",
    "version": 3
   },
   "pygments_lexer": "ipython3",
   "nbconvert_exporter": "python",
   "file_extension": ".py"
  },
  "kernelspec": {
   "name": "python3",
   "display_name": "Python 3.7.6 64-bit ('venv': venv)"
  },
  "interpreter": {
   "hash": "4fe898ffcadce6da2343864bf819ed3269e46dcfc725e07ab6320af456fe33e5"
  }
 },
 "nbformat": 4,
 "nbformat_minor": 2
}
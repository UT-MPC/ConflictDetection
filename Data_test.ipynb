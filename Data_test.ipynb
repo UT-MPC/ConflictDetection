{
 "cells": [
  {
   "source": [
    "import os\n",
    "import pandas as pd\n",
    "from datetime import datetime\n",
    "from datetime import timedelta\n",
    "import matplotlib\n",
    "import matplotlib.pyplot as plt\n",
    "\n",
    "root_dir = \"data/UMass\"\n",
    "datetime_temp = \"%Y-%m-%d %H:%M:%S\"\n",
    "date_form = matplotlib.dates.DateFormatter(\"%m-%d\")\n",
    "\n",
    "def avg_duration_evt(data_x, data_y, onthreshold):\n",
    "    on_time = timedelta(seconds = 0)\n",
    "    on_num = 0\n",
    "    pre = data_x[0]\n",
    "    state = \"off\"\n",
    "    on = []\n",
    "    for i,d in enumerate(data_y):\n",
    "        if d >= onthreshold and state == \"off\":\n",
    "            state = \"on\"\n",
    "            pre = data_x[i]\n",
    "        if d < onthreshold and state == \"on\":\n",
    "            on.append(data_x[i] - pre)\n",
    "            on_time += data_x[i] - pre\n",
    "            on_num += 1\n",
    "            state = \"off\"\n",
    "    print(min(on))\n",
    "    print(max(on))\n",
    "    print(on_num)\n",
    "    return on_time / (on_num + 0.000001)   "
   ],
   "cell_type": "code",
   "metadata": {},
   "execution_count": 1,
   "outputs": []
  },
  {
   "cell_type": "code",
   "execution_count": 1,
   "metadata": {
    "tags": []
   },
   "outputs": [
    {
     "output_type": "error",
     "ename": "NameError",
     "evalue": "name 'root_dir' is not defined",
     "traceback": [
      "\u001b[0;31m---------------------------------------------------------------------------\u001b[0m",
      "\u001b[0;31mNameError\u001b[0m                                 Traceback (most recent call last)",
      "\u001b[0;32m<ipython-input-1-67ce68613a62>\u001b[0m in \u001b[0;36m<module>\u001b[0;34m\u001b[0m\n\u001b[1;32m      2\u001b[0m \u001b[0;34m\u001b[0m\u001b[0m\n\u001b[1;32m      3\u001b[0m \u001b[0mfilename\u001b[0m \u001b[0;34m=\u001b[0m \u001b[0;34m\"HomeA-meter2_2016.csv\"\u001b[0m\u001b[0;34m\u001b[0m\u001b[0;34m\u001b[0m\u001b[0m\n\u001b[0;32m----> 4\u001b[0;31m \u001b[0mfile_path\u001b[0m \u001b[0;34m=\u001b[0m \u001b[0mos\u001b[0m\u001b[0;34m.\u001b[0m\u001b[0mpath\u001b[0m\u001b[0;34m.\u001b[0m\u001b[0mjoin\u001b[0m\u001b[0;34m(\u001b[0m\u001b[0mroot_dir\u001b[0m\u001b[0;34m,\u001b[0m \u001b[0mproject_dir\u001b[0m\u001b[0;34m,\u001b[0m \u001b[0mfilename\u001b[0m\u001b[0;34m)\u001b[0m\u001b[0;34m\u001b[0m\u001b[0;34m\u001b[0m\u001b[0m\n\u001b[0m\u001b[1;32m      5\u001b[0m \u001b[0mmeterA2\u001b[0m \u001b[0;34m=\u001b[0m \u001b[0mpd\u001b[0m\u001b[0;34m.\u001b[0m\u001b[0mread_csv\u001b[0m\u001b[0;34m(\u001b[0m\u001b[0mfile_path\u001b[0m\u001b[0;34m)\u001b[0m\u001b[0;34m\u001b[0m\u001b[0;34m\u001b[0m\u001b[0m\n\u001b[1;32m      6\u001b[0m \u001b[0;34m\u001b[0m\u001b[0m\n",
      "\u001b[0;31mNameError\u001b[0m: name 'root_dir' is not defined"
     ]
    }
   ],
   "source": [
    "project_dir = \"HomeA/2016\"\n",
    "\n",
    "filename = \"HomeA-meter2_2016.csv\"\n",
    "file_path = os.path.join(root_dir, project_dir, filename)\n",
    "meterA2 = pd.read_csv(file_path)\n",
    "\n",
    "filename = \"HomeA-meter3_2016.csv\"\n",
    "file_path = os.path.join(root_dir, project_dir, filename)\n",
    "meterA3 = pd.read_csv(file_path)\n",
    "\n",
    "filename = \"HomeA-meter4_2016.csv\"\n",
    "file_path = os.path.join(root_dir, project_dir, filename)\n",
    "meterA4 = pd.read_csv(file_path)\n",
    "# raw.hist(column=\"Microwave [kW]\")\n",
    "# raw.hist(column=\"BedroomLights [kW]\")\n",
    "fig, ax = plt.subplots()\n",
    "\n",
    "\n",
    "y = meterA2[\"FridgeRange [kW]\"]\n",
    "x = range(len(y))\n",
    "time = [datetime.strptime(x,datetime_temp) for x in meterA2[\"Date & Time\"]]\n",
    "last = 40000\n",
    "ax.scatter(time[:],y[:], s=1)\n",
    "ax.grid()\n",
    "ax.xaxis.set_major_formatter(date_form)\n",
    "print(avg_duration_evt(time, y, 0.05))\n",
    "plt.ylim(0,0.3)"
   ]
  },
  {
   "cell_type": "code",
   "execution_count": 11,
   "metadata": {},
   "outputs": [
    {
     "output_type": "stream",
     "name": "stdout",
     "text": [
      "0:01:00\n11:21:00\n319\n0:15:34.796235\n"
     ]
    }
   ],
   "source": [
    "print(avg_duration_evt(time, y, 0.03))"
   ]
  },
  {
   "cell_type": "code",
   "execution_count": 2,
   "metadata": {
    "tags": []
   },
   "outputs": [
    {
     "output_type": "error",
     "ename": "NameError",
     "evalue": "name 'root_dir' is not defined",
     "traceback": [
      "\u001b[0;31m---------------------------------------------------------------------------\u001b[0m",
      "\u001b[0;31mNameError\u001b[0m                                 Traceback (most recent call last)",
      "\u001b[0;32m<ipython-input-2-3b8f00641058>\u001b[0m in \u001b[0;36m<module>\u001b[0;34m\u001b[0m\n\u001b[1;32m      1\u001b[0m \u001b[0mproject_dir\u001b[0m \u001b[0;34m=\u001b[0m \u001b[0;34m\"HomeB/2016\"\u001b[0m\u001b[0;34m\u001b[0m\u001b[0;34m\u001b[0m\u001b[0m\n\u001b[1;32m      2\u001b[0m \u001b[0mfilename\u001b[0m \u001b[0;34m=\u001b[0m \u001b[0;34m\"HomeB-meter1_2016.csv\"\u001b[0m\u001b[0;34m\u001b[0m\u001b[0;34m\u001b[0m\u001b[0m\n\u001b[0;32m----> 3\u001b[0;31m \u001b[0mfile_path\u001b[0m \u001b[0;34m=\u001b[0m \u001b[0mos\u001b[0m\u001b[0;34m.\u001b[0m\u001b[0mpath\u001b[0m\u001b[0;34m.\u001b[0m\u001b[0mjoin\u001b[0m\u001b[0;34m(\u001b[0m\u001b[0mroot_dir\u001b[0m\u001b[0;34m,\u001b[0m \u001b[0mproject_dir\u001b[0m\u001b[0;34m,\u001b[0m \u001b[0mfilename\u001b[0m\u001b[0;34m)\u001b[0m\u001b[0;34m\u001b[0m\u001b[0;34m\u001b[0m\u001b[0m\n\u001b[0m\u001b[1;32m      4\u001b[0m \u001b[0mmeterB1\u001b[0m \u001b[0;34m=\u001b[0m \u001b[0mpd\u001b[0m\u001b[0;34m.\u001b[0m\u001b[0mread_csv\u001b[0m\u001b[0;34m(\u001b[0m\u001b[0mfile_path\u001b[0m\u001b[0;34m)\u001b[0m\u001b[0;34m\u001b[0m\u001b[0;34m\u001b[0m\u001b[0m\n\u001b[1;32m      5\u001b[0m \u001b[0;34m\u001b[0m\u001b[0m\n",
      "\u001b[0;31mNameError\u001b[0m: name 'root_dir' is not defined"
     ]
    }
   ],
   "source": [
    "project_dir = \"HomeB/2016\"\n",
    "filename = \"HomeB-meter1_2016.csv\"\n",
    "file_path = os.path.join(root_dir, project_dir, filename)\n",
    "meterB1 = pd.read_csv(file_path)\n",
    "\n",
    "filename = \"HomeB-meter2_2016.csv\"\n",
    "file_path = os.path.join(root_dir, project_dir, filename)\n",
    "meterB2 = pd.read_csv(file_path)\n",
    "\n",
    "fig, ax = plt.subplots()\n",
    "\n",
    "y = meterB2[\"Microwave [kW]\"]\n",
    "x = range(len(y))\n",
    "time = [datetime.strptime(x,datetime_temp) for x in meterB2[\"Date & Time\"]]\n",
    "last = 100000\n",
    "ax.scatter(time[:],y[:], s=1)\n",
    "ax.grid()\n",
    "ax.xaxis.set_major_formatter(date_form)\n",
    "print(avg_duration_evt(time, y, 0.05))\n",
    "# plt.ylim(0,0.2)"
   ]
  },
  {
   "cell_type": "code",
   "execution_count": 1,
   "metadata": {},
   "outputs": [
    {
     "output_type": "error",
     "ename": "NameError",
     "evalue": "name 'root_dir' is not defined",
     "traceback": [
      "\u001b[0;31m---------------------------------------------------------------------------\u001b[0m",
      "\u001b[0;31mNameError\u001b[0m                                 Traceback (most recent call last)",
      "\u001b[0;32m<ipython-input-1-59f7975a1238>\u001b[0m in \u001b[0;36m<module>\u001b[0;34m\u001b[0m\n\u001b[1;32m      1\u001b[0m \u001b[0mproject_dir\u001b[0m \u001b[0;34m=\u001b[0m \u001b[0;34m\"HomeC/2016\"\u001b[0m\u001b[0;34m\u001b[0m\u001b[0;34m\u001b[0m\u001b[0m\n\u001b[1;32m      2\u001b[0m \u001b[0mfilename\u001b[0m \u001b[0;34m=\u001b[0m \u001b[0;34m\"HomeC-meter1_2016.csv\"\u001b[0m\u001b[0;34m\u001b[0m\u001b[0;34m\u001b[0m\u001b[0m\n\u001b[0;32m----> 3\u001b[0;31m \u001b[0mfile_path\u001b[0m \u001b[0;34m=\u001b[0m \u001b[0mos\u001b[0m\u001b[0;34m.\u001b[0m\u001b[0mpath\u001b[0m\u001b[0;34m.\u001b[0m\u001b[0mjoin\u001b[0m\u001b[0;34m(\u001b[0m\u001b[0mroot_dir\u001b[0m\u001b[0;34m,\u001b[0m \u001b[0mproject_dir\u001b[0m\u001b[0;34m,\u001b[0m \u001b[0mfilename\u001b[0m\u001b[0;34m)\u001b[0m\u001b[0;34m\u001b[0m\u001b[0;34m\u001b[0m\u001b[0m\n\u001b[0m\u001b[1;32m      4\u001b[0m \u001b[0mmeterC1\u001b[0m \u001b[0;34m=\u001b[0m \u001b[0mpd\u001b[0m\u001b[0;34m.\u001b[0m\u001b[0mread_csv\u001b[0m\u001b[0;34m(\u001b[0m\u001b[0mfile_path\u001b[0m\u001b[0;34m)\u001b[0m\u001b[0;34m\u001b[0m\u001b[0;34m\u001b[0m\u001b[0m\n\u001b[1;32m      5\u001b[0m \u001b[0;34m\u001b[0m\u001b[0m\n",
      "\u001b[0;31mNameError\u001b[0m: name 'root_dir' is not defined"
     ]
    }
   ],
   "source": [
    "project_dir = \"HomeC/2016\"\n",
    "filename = \"HomeC-meter1_2016.csv\"\n",
    "file_path = os.path.join(root_dir, project_dir, filename)\n",
    "meterC1 = pd.read_csv(file_path)\n",
    "\n",
    "filename = \"HomeC-meter2_2016.csv\"\n",
    "file_path = os.path.join(root_dir, project_dir, filename)\n",
    "meterC2 = pd.read_csv(file_path)\n",
    "\n",
    "fig, ax = plt.subplots()\n",
    "y = meterC1[\"Living room [kW]\"]\n",
    "x = range(len(y))\n",
    "time = [datetime.strptime(x,datetime_temp) for x in meterC1[\"Date & Time\"]]\n",
    "last = 20000\n",
    "ax.scatter(time[:],y[:], s=1)\n",
    "ax.grid()\n",
    "ax.xaxis.set_major_formatter(date_form)\n",
    "print(avg_duration_evt(time, y, 0.1))"
   ]
  },
  {
   "cell_type": "code",
   "execution_count": 25,
   "metadata": {},
   "outputs": [
    {
     "output_type": "stream",
     "name": "stdout",
     "text": [
      "0:01:00\n7:31:00\n1025\n0:49:56.604875\n"
     ]
    }
   ],
   "source": [
    "print(avg_duration_evt(time, y, 0.1))"
   ]
  },
  {
   "cell_type": "code",
   "execution_count": 2,
   "metadata": {},
   "outputs": [
    {
     "output_type": "error",
     "ename": "NameError",
     "evalue": "name 'root_dir' is not defined",
     "traceback": [
      "\u001b[0;31m---------------------------------------------------------------------------\u001b[0m",
      "\u001b[0;31mNameError\u001b[0m                                 Traceback (most recent call last)",
      "\u001b[0;32m<ipython-input-2-38261512bd6b>\u001b[0m in \u001b[0;36m<module>\u001b[0;34m\u001b[0m\n\u001b[1;32m      1\u001b[0m \u001b[0mproject_dir\u001b[0m \u001b[0;34m=\u001b[0m \u001b[0;34m\"HomeD/2016\"\u001b[0m\u001b[0;34m\u001b[0m\u001b[0;34m\u001b[0m\u001b[0m\n\u001b[1;32m      2\u001b[0m \u001b[0mfilename\u001b[0m \u001b[0;34m=\u001b[0m \u001b[0;34m\"HomeD-meter1_2016.csv\"\u001b[0m\u001b[0;34m\u001b[0m\u001b[0;34m\u001b[0m\u001b[0m\n\u001b[0;32m----> 3\u001b[0;31m \u001b[0mfile_path\u001b[0m \u001b[0;34m=\u001b[0m \u001b[0mos\u001b[0m\u001b[0;34m.\u001b[0m\u001b[0mpath\u001b[0m\u001b[0;34m.\u001b[0m\u001b[0mjoin\u001b[0m\u001b[0;34m(\u001b[0m\u001b[0mroot_dir\u001b[0m\u001b[0;34m,\u001b[0m \u001b[0mproject_dir\u001b[0m\u001b[0;34m,\u001b[0m \u001b[0mfilename\u001b[0m\u001b[0;34m)\u001b[0m\u001b[0;34m\u001b[0m\u001b[0;34m\u001b[0m\u001b[0m\n\u001b[0m\u001b[1;32m      4\u001b[0m \u001b[0mmeterD1\u001b[0m \u001b[0;34m=\u001b[0m \u001b[0mpd\u001b[0m\u001b[0;34m.\u001b[0m\u001b[0mread_csv\u001b[0m\u001b[0;34m(\u001b[0m\u001b[0mfile_path\u001b[0m\u001b[0;34m)\u001b[0m\u001b[0;34m\u001b[0m\u001b[0;34m\u001b[0m\u001b[0m\n\u001b[1;32m      5\u001b[0m \u001b[0;34m\u001b[0m\u001b[0m\n",
      "\u001b[0;31mNameError\u001b[0m: name 'root_dir' is not defined"
     ]
    }
   ],
   "source": [
    "project_dir = \"HomeD/2016\"\n",
    "filename = \"HomeD-meter1_2016.csv\"\n",
    "file_path = os.path.join(root_dir, project_dir, filename)\n",
    "meterD1 = pd.read_csv(file_path)\n",
    "\n",
    "filename = \"HomeD-meter2_2016.csv\"\n",
    "file_path = os.path.join(root_dir, project_dir, filename)\n",
    "meterD2 = pd.read_csv(file_path)\n",
    "\n",
    "fig, ax = plt.subplots()\n",
    "\n",
    "y = meterD2[\"Range [kW]\"]\n",
    "time = [datetime.strptime(x,datetime_temp) for x in meterD2[\"Date & Time\"]]\n",
    "last = 100000\n",
    "\n",
    "ax.scatter(time[:],y[:], s=1)\n",
    "ax.xaxis.set_major_formatter(date_form)\n",
    "ax.grid()\n",
    "# plt.ylim(0,0.1)\n",
    "print(avg_duration_evt(time, y, 0.1))"
   ]
  },
  {
   "cell_type": "code",
   "execution_count": 5,
   "metadata": {},
   "outputs": [
    {
     "output_type": "stream",
     "name": "stdout",
     "text": [
      "0:01:00\n3:22:00\n1008\n0:12:16.190475\n"
     ]
    }
   ],
   "source": [
    "print(avg_duration_evt(time, y, 0.01))"
   ]
  },
  {
   "cell_type": "code",
   "execution_count": 4,
   "metadata": {},
   "outputs": [
    {
     "output_type": "error",
     "ename": "NameError",
     "evalue": "name 'root_dir' is not defined",
     "traceback": [
      "\u001b[0;31m---------------------------------------------------------------------------\u001b[0m",
      "\u001b[0;31mNameError\u001b[0m                                 Traceback (most recent call last)",
      "\u001b[0;32m<ipython-input-4-6c7f1a1a055b>\u001b[0m in \u001b[0;36m<module>\u001b[0;34m\u001b[0m\n\u001b[1;32m      1\u001b[0m \u001b[0mproject_dir\u001b[0m \u001b[0;34m=\u001b[0m \u001b[0;34m\"HomeF/2016\"\u001b[0m\u001b[0;34m\u001b[0m\u001b[0;34m\u001b[0m\u001b[0m\n\u001b[1;32m      2\u001b[0m \u001b[0mfilename\u001b[0m \u001b[0;34m=\u001b[0m \u001b[0;34m\"HomeF-meter2_2016.csv\"\u001b[0m\u001b[0;34m\u001b[0m\u001b[0;34m\u001b[0m\u001b[0m\n\u001b[0;32m----> 3\u001b[0;31m \u001b[0mfile_path\u001b[0m \u001b[0;34m=\u001b[0m \u001b[0mos\u001b[0m\u001b[0;34m.\u001b[0m\u001b[0mpath\u001b[0m\u001b[0;34m.\u001b[0m\u001b[0mjoin\u001b[0m\u001b[0;34m(\u001b[0m\u001b[0mroot_dir\u001b[0m\u001b[0;34m,\u001b[0m \u001b[0mproject_dir\u001b[0m\u001b[0;34m,\u001b[0m \u001b[0mfilename\u001b[0m\u001b[0;34m)\u001b[0m\u001b[0;34m\u001b[0m\u001b[0;34m\u001b[0m\u001b[0m\n\u001b[0m\u001b[1;32m      4\u001b[0m \u001b[0mmeterF2\u001b[0m \u001b[0;34m=\u001b[0m \u001b[0mpd\u001b[0m\u001b[0;34m.\u001b[0m\u001b[0mread_csv\u001b[0m\u001b[0;34m(\u001b[0m\u001b[0mfile_path\u001b[0m\u001b[0;34m)\u001b[0m\u001b[0;34m\u001b[0m\u001b[0;34m\u001b[0m\u001b[0m\n\u001b[1;32m      5\u001b[0m \u001b[0;34m\u001b[0m\u001b[0m\n",
      "\u001b[0;31mNameError\u001b[0m: name 'root_dir' is not defined"
     ]
    }
   ],
   "source": [
    "project_dir = \"HomeF/2016\"\n",
    "filename = \"HomeF-meter2_2016.csv\"\n",
    "file_path = os.path.join(root_dir, project_dir, filename)\n",
    "meterF2 = pd.read_csv(file_path)\n",
    "\n",
    "fig, ax = plt.subplots()\n",
    "y = meterF2[\"Furnace [kW]\"]\n",
    "x = range(len(y))\n",
    "time = [datetime.strptime(x,datetime_temp) for x in meterF2[\"Date & Time\"]]\n",
    "last = 40000\n",
    "ax.scatter(time[2000:],y[2000:], s=1)\n",
    "ax.grid()\n",
    "ax.xaxis.set_major_formatter(date_form)\n",
    "print(avg_duration_evt(time, y, 0.05))\n",
    "# plt.ylim(0,0.05)"
   ]
  },
  {
   "cell_type": "code",
   "execution_count": 3,
   "metadata": {},
   "outputs": [
    {
     "output_type": "error",
     "ename": "NameError",
     "evalue": "name 'root_dir' is not defined",
     "traceback": [
      "\u001b[0;31m---------------------------------------------------------------------------\u001b[0m",
      "\u001b[0;31mNameError\u001b[0m                                 Traceback (most recent call last)",
      "\u001b[0;32m<ipython-input-3-5270ce8434d8>\u001b[0m in \u001b[0;36m<module>\u001b[0;34m\u001b[0m\n\u001b[1;32m      1\u001b[0m \u001b[0mproject_dir\u001b[0m \u001b[0;34m=\u001b[0m \u001b[0;34m\"HomeG/2016\"\u001b[0m\u001b[0;34m\u001b[0m\u001b[0;34m\u001b[0m\u001b[0m\n\u001b[1;32m      2\u001b[0m \u001b[0mfilename\u001b[0m \u001b[0;34m=\u001b[0m \u001b[0;34m\"HomeG-meter4_2016.csv\"\u001b[0m\u001b[0;34m\u001b[0m\u001b[0;34m\u001b[0m\u001b[0m\n\u001b[0;32m----> 3\u001b[0;31m \u001b[0mfile_path\u001b[0m \u001b[0;34m=\u001b[0m \u001b[0mos\u001b[0m\u001b[0;34m.\u001b[0m\u001b[0mpath\u001b[0m\u001b[0;34m.\u001b[0m\u001b[0mjoin\u001b[0m\u001b[0;34m(\u001b[0m\u001b[0mroot_dir\u001b[0m\u001b[0;34m,\u001b[0m \u001b[0mproject_dir\u001b[0m\u001b[0;34m,\u001b[0m \u001b[0mfilename\u001b[0m\u001b[0;34m)\u001b[0m\u001b[0;34m\u001b[0m\u001b[0;34m\u001b[0m\u001b[0m\n\u001b[0m\u001b[1;32m      4\u001b[0m \u001b[0mmeterG4\u001b[0m \u001b[0;34m=\u001b[0m \u001b[0mpd\u001b[0m\u001b[0;34m.\u001b[0m\u001b[0mread_csv\u001b[0m\u001b[0;34m(\u001b[0m\u001b[0mfile_path\u001b[0m\u001b[0;34m)\u001b[0m\u001b[0;34m\u001b[0m\u001b[0;34m\u001b[0m\u001b[0m\n\u001b[1;32m      5\u001b[0m \u001b[0;34m\u001b[0m\u001b[0m\n",
      "\u001b[0;31mNameError\u001b[0m: name 'root_dir' is not defined"
     ]
    }
   ],
   "source": [
    "project_dir = \"HomeG/2016\"\n",
    "filename = \"HomeG-meter4_2016.csv\"\n",
    "file_path = os.path.join(root_dir, project_dir, filename)\n",
    "meterG4 = pd.read_csv(file_path)\n",
    "\n",
    "filename = \"HomeG-meter2_2016.csv\"\n",
    "file_path = os.path.join(root_dir, project_dir, filename)\n",
    "meterG2 = pd.read_csv(file_path)\n",
    "\n",
    "fig, ax = plt.subplots()\n",
    "y = meterG2[\"Office + sewing lights [kW]\"]\n",
    "x = range(len(y))\n",
    "time = [datetime.strptime(x,datetime_temp) for x in meterG2[\"Date & Time\"]]\n",
    "last = 40000\n",
    "ax.scatter(time[:],y[:], s=1)\n",
    "ax.grid()\n",
    "ax.xaxis.set_major_formatter(date_form)\n",
    "print(avg_duration_evt(time, y, 0.05))\n",
    "# plt.ylim(0,0.05)\n"
   ]
  },
  {
   "cell_type": "code",
   "execution_count": 34,
   "metadata": {},
   "outputs": [
    {
     "output_type": "stream",
     "name": "stdout",
     "text": [
      "0:01:00\n9:39:00\n662\n1:24:09.425974\n"
     ]
    }
   ],
   "source": [
    "print(avg_duration_evt(time, y, 0.04))\n"
   ]
  },
  {
   "cell_type": "code",
   "execution_count": null,
   "metadata": {},
   "outputs": [],
   "source": [
    "filename = \"weather-homeF2016.csv\"\n",
    "project_dir = \"HomeF/2016\"\n",
    "file_path = os.path.join(root_dir, project_dir, filename)\n",
    "weatherD = pd.read_csv(file_path)\n",
    "# summary = max(weatherD[\"summary\"].tolist())\n",
    "# summary\n",
    "summ = max(weatherD[\"apparentTemperature\"])\n",
    "summ"
   ]
  },
  {
   "cell_type": "code",
   "execution_count": 96,
   "metadata": {},
   "outputs": [
    {
     "output_type": "stream",
     "name": "stdout",
     "text": [
      "2016-06-01 19:40:00\n"
     ]
    }
   ],
   "source": [
    "print(time[220000])\n",
    "meterB2.iloc[0:220000, meterB2.columns.get_loc('Living room &amp; Kitchen Lights [kW]')] -= 0.025\n",
    "\n",
    "meterB2.to_csv(\"test.csv\", index=False)"
   ]
  },
  {
   "cell_type": "code",
   "execution_count": null,
   "metadata": {},
   "outputs": [],
   "source": []
  }
 ],
 "metadata": {
  "kernelspec": {
   "name": "pythonjvsc74a57bd04fe898ffcadce6da2343864bf819ed3269e46dcfc725e07ab6320af456fe33e5",
   "display_name": "Python 3.7.6  ('venv': venv)"
  },
  "language_info": {
   "codemirror_mode": {
    "name": "ipython",
    "version": 3
   },
   "file_extension": ".py",
   "mimetype": "text/x-python",
   "name": "python",
   "nbconvert_exporter": "python",
   "pygments_lexer": "ipython3",
   "version": "3.7.6"
  },
  "metadata": {
   "interpreter": {
    "hash": "4fe898ffcadce6da2343864bf819ed3269e46dcfc725e07ab6320af456fe33e5"
   }
  }
 },
 "nbformat": 4,
 "nbformat_minor": 5
}
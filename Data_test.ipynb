{
 "cells": [
  {
   "source": [
    "import os\n",
    "import pandas as pd\n",
    "from datetime import datetime\n",
    "import matplotlib\n",
    "import matplotlib.pyplot as plt\n",
    "\n",
    "root_dir = \"data/UMass\"\n",
    "project_dir = \"HomeA2016\"\n",
    "filename = \"HomeA-meter2_2016.csv\"\n",
    "file_path = os.path.join(root_dir, project_dir, filename)\n",
    "meterA2 = pd.read_csv(file_path)\n",
    "meterA2[\"WashingMachine [kW]\"].max()\n",
    "datetime_temp = \"%Y-%m-%d %H:%M:%S\"\n",
    "date_form = matplotlib.dates.DateFormatter(\"%m-%d\")\n"
   ],
   "cell_type": "code",
   "metadata": {},
   "execution_count": 1,
   "outputs": []
  },
  {
   "cell_type": "code",
   "execution_count": 2,
   "metadata": {},
   "outputs": [],
   "source": [
    "filename = \"HomeA-meter4_2016.csv\"\n",
    "file_path = os.path.join(root_dir, project_dir, filename)\n",
    "meterA4 = pd.read_csv(file_path)\n",
    "# raw.hist(column=\"Microwave [kW]\")\n",
    "# raw.hist(column=\"BedroomLights [kW]\")\n"
   ]
  },
  {
   "cell_type": "code",
   "execution_count": 3,
   "metadata": {},
   "outputs": [
    {
     "output_type": "error",
     "ename": "NameError",
     "evalue": "name 'root_dir' is not defined",
     "traceback": [
      "\u001b[0;31m---------------------------------------------------------------------------\u001b[0m",
      "\u001b[0;31mNameError\u001b[0m                                 Traceback (most recent call last)",
      "\u001b[0;32m<ipython-input-3-f266581e20cf>\u001b[0m in \u001b[0;36m<module>\u001b[0;34m\u001b[0m\n\u001b[1;32m      1\u001b[0m \u001b[0mproject_dir\u001b[0m \u001b[0;34m=\u001b[0m \u001b[0;34m\"HomeC/2015\"\u001b[0m\u001b[0;34m\u001b[0m\u001b[0;34m\u001b[0m\u001b[0m\n\u001b[1;32m      2\u001b[0m \u001b[0mfilename\u001b[0m \u001b[0;34m=\u001b[0m \u001b[0;34m\"HomeC-meter1_2015.csv\"\u001b[0m\u001b[0;34m\u001b[0m\u001b[0;34m\u001b[0m\u001b[0m\n\u001b[0;32m----> 3\u001b[0;31m \u001b[0mfile_path\u001b[0m \u001b[0;34m=\u001b[0m \u001b[0mos\u001b[0m\u001b[0;34m.\u001b[0m\u001b[0mpath\u001b[0m\u001b[0;34m.\u001b[0m\u001b[0mjoin\u001b[0m\u001b[0;34m(\u001b[0m\u001b[0mroot_dir\u001b[0m\u001b[0;34m,\u001b[0m \u001b[0mproject_dir\u001b[0m\u001b[0;34m,\u001b[0m \u001b[0mfilename\u001b[0m\u001b[0;34m)\u001b[0m\u001b[0;34m\u001b[0m\u001b[0;34m\u001b[0m\u001b[0m\n\u001b[0m\u001b[1;32m      4\u001b[0m \u001b[0mmeterC1\u001b[0m \u001b[0;34m=\u001b[0m \u001b[0mpd\u001b[0m\u001b[0;34m.\u001b[0m\u001b[0mread_csv\u001b[0m\u001b[0;34m(\u001b[0m\u001b[0mfile_path\u001b[0m\u001b[0;34m)\u001b[0m\u001b[0;34m\u001b[0m\u001b[0;34m\u001b[0m\u001b[0m\n\u001b[1;32m      5\u001b[0m \u001b[0;34m\u001b[0m\u001b[0m\n",
      "\u001b[0;31mNameError\u001b[0m: name 'root_dir' is not defined"
     ]
    }
   ],
   "source": [
    "project_dir = \"HomeC/2015\"\n",
    "filename = \"HomeC-meter1_2015.csv\"\n",
    "file_path = os.path.join(root_dir, project_dir, filename)\n",
    "meterC1 = pd.read_csv(file_path)\n",
    "\n",
    "fig, ax = plt.subplots()\n",
    "y = meterC1[\"Microwave [kW]\"]\n",
    "x = range(len(y))\n",
    "time = [datetime.strptime(x,datetime_temp) for x in meterC1[\"Date & Time\"]]\n",
    "last = 20000\n",
    "ax.scatter(time[2000:last],y[2000:last], s=1)\n",
    "ax.grid()\n",
    "ax.xaxis.set_major_formatter(date_form)"
   ]
  },
  {
   "cell_type": "code",
   "execution_count": 1,
   "metadata": {},
   "outputs": [
    {
     "output_type": "error",
     "ename": "NameError",
     "evalue": "name 'root_dir' is not defined",
     "traceback": [
      "\u001b[0;31m---------------------------------------------------------------------------\u001b[0m",
      "\u001b[0;31mNameError\u001b[0m                                 Traceback (most recent call last)",
      "\u001b[0;32m<ipython-input-1-700a46914e95>\u001b[0m in \u001b[0;36m<module>\u001b[0;34m\u001b[0m\n\u001b[1;32m      1\u001b[0m \u001b[0mproject_dir\u001b[0m \u001b[0;34m=\u001b[0m \u001b[0;34m\"HomeF/2016\"\u001b[0m\u001b[0;34m\u001b[0m\u001b[0;34m\u001b[0m\u001b[0m\n\u001b[1;32m      2\u001b[0m \u001b[0mfilename\u001b[0m \u001b[0;34m=\u001b[0m \u001b[0;34m\"HomeF-meter2_2016.csv\"\u001b[0m\u001b[0;34m\u001b[0m\u001b[0;34m\u001b[0m\u001b[0m\n\u001b[0;32m----> 3\u001b[0;31m \u001b[0mfile_path\u001b[0m \u001b[0;34m=\u001b[0m \u001b[0mos\u001b[0m\u001b[0;34m.\u001b[0m\u001b[0mpath\u001b[0m\u001b[0;34m.\u001b[0m\u001b[0mjoin\u001b[0m\u001b[0;34m(\u001b[0m\u001b[0mroot_dir\u001b[0m\u001b[0;34m,\u001b[0m \u001b[0mproject_dir\u001b[0m\u001b[0;34m,\u001b[0m \u001b[0mfilename\u001b[0m\u001b[0;34m)\u001b[0m\u001b[0;34m\u001b[0m\u001b[0;34m\u001b[0m\u001b[0m\n\u001b[0m\u001b[1;32m      4\u001b[0m \u001b[0mmeterF2\u001b[0m \u001b[0;34m=\u001b[0m \u001b[0mpd\u001b[0m\u001b[0;34m.\u001b[0m\u001b[0mread_csv\u001b[0m\u001b[0;34m(\u001b[0m\u001b[0mfile_path\u001b[0m\u001b[0;34m)\u001b[0m\u001b[0;34m\u001b[0m\u001b[0;34m\u001b[0m\u001b[0m\n\u001b[1;32m      5\u001b[0m \u001b[0;34m\u001b[0m\u001b[0m\n",
      "\u001b[0;31mNameError\u001b[0m: name 'root_dir' is not defined"
     ]
    }
   ],
   "source": [
    "project_dir = \"HomeF/2016\"\n",
    "filename = \"HomeF-meter2_2016.csv\"\n",
    "file_path = os.path.join(root_dir, project_dir, filename)\n",
    "meterF2 = pd.read_csv(file_path)\n",
    "\n",
    "fig, ax = plt.subplots()\n",
    "y = meterF2[\"Washing_Machine [kW]\"]\n",
    "x = range(len(y))\n",
    "time = [datetime.strptime(x,datetime_temp) for x in meterF2[\"Date & Time\"]]\n",
    "last = 40000\n",
    "ax.scatter(time[2000:last],y[2000:last], s=1)\n",
    "ax.grid()\n",
    "ax.xaxis.set_major_formatter(date_form)\n",
    "\n",
    "plt.ylim(0,0.05)"
   ]
  },
  {
   "cell_type": "code",
   "execution_count": 2,
   "metadata": {},
   "outputs": [
    {
     "output_type": "error",
     "ename": "NameError",
     "evalue": "name 'root_dir' is not defined",
     "traceback": [
      "\u001b[0;31m---------------------------------------------------------------------------\u001b[0m",
      "\u001b[0;31mNameError\u001b[0m                                 Traceback (most recent call last)",
      "\u001b[0;32m<ipython-input-2-d097b87d064d>\u001b[0m in \u001b[0;36m<module>\u001b[0;34m\u001b[0m\n\u001b[1;32m      1\u001b[0m \u001b[0mproject_dir\u001b[0m \u001b[0;34m=\u001b[0m \u001b[0;34m\"HomeD/2016\"\u001b[0m\u001b[0;34m\u001b[0m\u001b[0;34m\u001b[0m\u001b[0m\n\u001b[1;32m      2\u001b[0m \u001b[0mfilename\u001b[0m \u001b[0;34m=\u001b[0m \u001b[0;34m\"HomeD-meter1_2016.csv\"\u001b[0m\u001b[0;34m\u001b[0m\u001b[0;34m\u001b[0m\u001b[0m\n\u001b[0;32m----> 3\u001b[0;31m \u001b[0mfile_path\u001b[0m \u001b[0;34m=\u001b[0m \u001b[0mos\u001b[0m\u001b[0;34m.\u001b[0m\u001b[0mpath\u001b[0m\u001b[0;34m.\u001b[0m\u001b[0mjoin\u001b[0m\u001b[0;34m(\u001b[0m\u001b[0mroot_dir\u001b[0m\u001b[0;34m,\u001b[0m \u001b[0mproject_dir\u001b[0m\u001b[0;34m,\u001b[0m \u001b[0mfilename\u001b[0m\u001b[0;34m)\u001b[0m\u001b[0;34m\u001b[0m\u001b[0;34m\u001b[0m\u001b[0m\n\u001b[0m\u001b[1;32m      4\u001b[0m \u001b[0mmeterD1\u001b[0m \u001b[0;34m=\u001b[0m \u001b[0mpd\u001b[0m\u001b[0;34m.\u001b[0m\u001b[0mread_csv\u001b[0m\u001b[0;34m(\u001b[0m\u001b[0mfile_path\u001b[0m\u001b[0;34m)\u001b[0m\u001b[0;34m\u001b[0m\u001b[0;34m\u001b[0m\u001b[0m\n\u001b[1;32m      5\u001b[0m \u001b[0;34m\u001b[0m\u001b[0m\n",
      "\u001b[0;31mNameError\u001b[0m: name 'root_dir' is not defined"
     ]
    }
   ],
   "source": [
    "project_dir = \"HomeD/2016\"\n",
    "filename = \"HomeD-meter1_2016.csv\"\n",
    "file_path = os.path.join(root_dir, project_dir, filename)\n",
    "meterD1 = pd.read_csv(file_path)\n",
    "\n",
    "fig, ax = plt.subplots()\n",
    "\n",
    "y = meterD1[\"WashingMachine [kW]\"]\n",
    "time = [datetime.strptime(x,datetime_temp) for x in meterD1[\"Date & Time\"]]\n",
    "last = 100000\n",
    "\n",
    "ax.scatter(time[:],y[:], s=1)\n",
    "ax.xaxis.set_major_formatter(date_form)\n",
    "ax.grid()\n",
    "# plt.ylim(0,0.05)\n"
   ]
  },
  {
   "cell_type": "code",
   "execution_count": null,
   "metadata": {},
   "outputs": [],
   "source": [
    "fig, ax = plt.subplots()\n",
    "y = meterA2[\"WashingMachine [kW]\"]\n",
    "x = range(len(y))\n",
    "ax.scatter(x,y, s=1)\n",
    "ax.grid()\n",
    "plt.ylim(0,0.005)\n"
   ]
  },
  {
   "cell_type": "code",
   "execution_count": 8,
   "metadata": {},
   "outputs": [
    {
     "output_type": "execute_result",
     "data": {
      "text/plain": [
       "{'Breezy',\n",
       " 'Breezy and Mostly Cloudy',\n",
       " 'Breezy and Partly Cloudy',\n",
       " 'Clear',\n",
       " 'Drizzle',\n",
       " 'Drizzle and Breezy',\n",
       " 'Dry',\n",
       " 'Flurries',\n",
       " 'Flurries and Breezy',\n",
       " 'Foggy',\n",
       " 'Heavy Rain',\n",
       " 'Heavy Snow',\n",
       " 'Light Rain',\n",
       " 'Light Snow',\n",
       " 'Mostly Cloudy',\n",
       " 'Overcast',\n",
       " 'Partly Cloudy',\n",
       " 'Rain',\n",
       " 'Snow'}"
      ]
     },
     "metadata": {},
     "execution_count": 8
    }
   ],
   "source": [
    "filename = \"weather-homeD2016.csv\"\n",
    "project_dir = \"HomeD/2016\"\n",
    "file_path = os.path.join(root_dir, project_dir, filename)\n",
    "weatherD = pd.read_csv(file_path)\n",
    "summary = set(weatherD[\"summary\"].tolist())\n",
    "summary"
   ]
  },
  {
   "cell_type": "code",
   "execution_count": null,
   "metadata": {},
   "outputs": [],
   "source": []
  }
 ],
 "metadata": {
  "kernelspec": {
   "name": "pythonjvsc74a57bd04fe898ffcadce6da2343864bf819ed3269e46dcfc725e07ab6320af456fe33e5",
   "display_name": "Python 3.7.6  ('venv': venv)"
  },
  "language_info": {
   "codemirror_mode": {
    "name": "ipython",
    "version": 3
   },
   "file_extension": ".py",
   "mimetype": "text/x-python",
   "name": "python",
   "nbconvert_exporter": "python",
   "pygments_lexer": "ipython3",
   "version": "3.7.6"
  },
  "metadata": {
   "interpreter": {
    "hash": "4fe898ffcadce6da2343864bf819ed3269e46dcfc725e07ab6320af456fe33e5"
   }
  }
 },
 "nbformat": 4,
 "nbformat_minor": 5
}
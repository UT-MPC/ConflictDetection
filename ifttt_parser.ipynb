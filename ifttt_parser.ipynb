{
 "metadata": {
  "language_info": {
   "codemirror_mode": {
    "name": "ipython",
    "version": 3
   },
   "file_extension": ".py",
   "mimetype": "text/x-python",
   "name": "python",
   "nbconvert_exporter": "python",
   "pygments_lexer": "ipython3",
   "version": "3.7.6"
  },
  "orig_nbformat": 4,
  "kernelspec": {
   "name": "python3",
   "display_name": "Python 3.7.6 64-bit ('venv': venv)"
  },
  "interpreter": {
   "hash": "4fe898ffcadce6da2343864bf819ed3269e46dcfc725e07ab6320af456fe33e5"
  }
 },
 "nbformat": 4,
 "nbformat_minor": 2,
 "cells": [
  {
   "cell_type": "code",
   "execution_count": 7,
   "metadata": {
    "tags": []
   },
   "outputs": [],
   "source": [
    "import json\n",
    "import os\n",
    "\n",
    "from config import *\n",
    "interesting_str = {\n",
    "    \"temperature\",\n",
    "    \"weather\",\n",
    "    \"light\",\n",
    "    \"lock\",\n",
    "    \"oven\",\n",
    "    \"microwave\",\n",
    "    \"home\",\n",
    "    \"room\",\n",
    "    \"speaker\",\n",
    "}\n",
    "valid_channel_list = {\n",
    "    \"abode\",\n",
    "    \"August\",\n",
    "    \"Awair\",\n",
    "    \"Bang & Olufsen's BeoLink Gateway\",\n",
    "    \"BloomSky Weather\",\n",
    "    \"Caleo\",\n",
    "    \"Emberlight\",\n",
    "    \"Energenie Mi|Home\",\n",
    "    \"Foobot\",\n",
    "    \"GE Appliances Cooking\",\n",
    "    \"GE Appliances Dishwasher\",\n",
    "    \"GE Appliances Window AC\",\n",
    "    \"Harmony\",\n",
    "    \"Heatmiser\",\n",
    "    \"Hive Active Heating\\u2122\",\n",
    "    \"Home Connect Oven\",\n",
    "    \"Home Connect Washer\",\n",
    "    \"Honeywell Total Connect Comfort\",\n",
    "    \"Honeywell\",\n",
    "    \"Nest Thermostat\",\n",
    "    \"Philips Hue\"\n",
    "    \"Samsung Floor Air Conditioner\",\n",
    "    \"Samsung Room Air Conditioner\",\n",
    "    \"Samsung Washer\",\n",
    "    \"WeMo Light Switch\",\n",
    "    \"WeMo Coffeemaker\",\n",
    "    \"Weather\",\n",
    "    \"Date & Time\",\n",
    "}\n",
    "project_folder = os.path.join(DATA_ROOT, \"201611\")\n",
    "processed_folder =  os.path.join(DATA_ROOT, \"201611\", \"processed\")\n",
    "recipes_file = \"recipes.json\"\n",
    "channel_file = \"channelList.json\"\n",
    "trigger_file = \"triggerList.json\"\n",
    "action_file = \"actionList.json\"\n",
    "channel_detail_file = \"channelDetailList.json\"\n",
    "\n",
    "\n",
    "# with open(file_name) as f:\n",
    "#     lines = f.readlines()\n",
    "#     recps = [\n",
    "#         json.loads(l)\n",
    "#         for l in lines\n",
    "#     ]\n",
    "# print(recps)"
   ]
  },
  {
   "cell_type": "code",
   "execution_count": null,
   "metadata": {},
   "outputs": [],
   "source": [
    "with open(os.path.join(processed_folder, channel_detail_file), \"w\") as output:\n",
    "    with open(os.path.join(project_folder, channel_detail_file)) as f:\n",
    "        lines = f.readlines()\n",
    "        for l in lines:\n",
    "            c = json.loads(l)\n",
    "            for s in interesting_str:\n",
    "                if s in l.lower():\n",
    "                    x = {\"name\": c[\"name\"], \"desc\": c[\"desc\"]}\n",
    "                    output.write(json.dumps(x) + \"\\n\")\n",
    "                    break "
   ]
  },
  {
   "cell_type": "code",
   "execution_count": 13,
   "metadata": {},
   "outputs": [],
   "source": [
    "valid_triggers = []\n",
    "with open(os.path.join(processed_folder, trigger_file), \"w\") as output:\n",
    "    with open(os.path.join(project_folder, trigger_file)) as f:\n",
    "        lines = f.readlines()\n",
    "        for l in lines:\n",
    "            trigger = json.loads(l)\n",
    "            if trigger[\"triggerChannelName\"] in valid_channel_list:\n",
    "                valid_triggers.append(trigger)\n",
    "    output.write(json.dumps(valid_triggers, default=str))\n",
    "\n",
    "valid_actions = []\n",
    "with open(os.path.join(processed_folder, action_file), \"w\") as output:\n",
    "    with open(os.path.join(project_folder, action_file)) as f:\n",
    "        lines = f.readlines()\n",
    "        for l in lines:\n",
    "            action = json.loads(l)\n",
    "            if action[\"actionChannelName\"] in valid_channel_list:\n",
    "                valid_actions.append(action)\n",
    "    output.write(json.dumps(valid_actions, default=str))"
   ]
  },
  {
   "cell_type": "code",
   "execution_count": 18,
   "metadata": {},
   "outputs": [
    {
     "output_type": "stream",
     "name": "stdout",
     "text": [
      "336367\n",
      "445\n"
     ]
    }
   ],
   "source": [
    "valid_recipes = []\n",
    "with open(os.path.join(processed_folder, recipes_file), \"w\") as output:\n",
    "    with open(os.path.join(project_folder, recipes_file)) as f:\n",
    "        lines = f.readlines()\n",
    "        print(len(lines))\n",
    "        for l in lines:\n",
    "            rcp = json.loads(l)\n",
    "            if rcp[\"triggerChannelTitle\"] in valid_channel_list \\\n",
    "                and rcp[\"actionChannelTitle\"] in valid_channel_list:\n",
    "                valid_recipes.append({\n",
    "                    \"title\": rcp[\"title\"],\n",
    "                    \"actionTitle\": rcp[\"actionTitle\"],\n",
    "                    \"triggerTitle\": rcp[\"triggerTitle\"],\n",
    "                    \"desc\": rcp[\"desc\"],\n",
    "                })\n",
    "    output.write(json.dumps(valid_recipes, default=str))\n",
    "print(len(valid_recipes))"
   ]
  },
  {
   "cell_type": "code",
   "execution_count": null,
   "metadata": {},
   "outputs": [],
   "source": []
  }
 ]
}
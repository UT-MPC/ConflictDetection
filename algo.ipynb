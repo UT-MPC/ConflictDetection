{
 "metadata": {
  "language_info": {
   "codemirror_mode": {
    "name": "ipython",
    "version": 3
   },
   "file_extension": ".py",
   "mimetype": "text/x-python",
   "name": "python",
   "nbconvert_exporter": "python",
   "pygments_lexer": "ipython3",
   "version": "3.7.6"
  },
  "orig_nbformat": 2,
  "kernelspec": {
   "name": "pythonjvsc74a57bd04fe898ffcadce6da2343864bf819ed3269e46dcfc725e07ab6320af456fe33e5",
   "display_name": "Python 3.7.6  ('venv': venv)"
  },
  "metadata": {
   "interpreter": {
    "hash": "4fe898ffcadce6da2343864bf819ed3269e46dcfc725e07ab6320af456fe33e5"
   }
  }
 },
 "nbformat": 4,
 "nbformat_minor": 2,
 "cells": [
  {
   "cell_type": "code",
   "execution_count": 1,
   "metadata": {},
   "outputs": [],
   "source": [
    "import json\n",
    "import os\n",
    "import numpy as np\n",
    "import math\n",
    "from typing import Dict, List, Tuple\n",
    "import copy\n",
    "\n",
    "from datetime import timedelta\n",
    "from config import *\n",
    "from utils import *\n",
    "from main import *\n",
    "from GtConflictFinder import GtConflictFinder\n",
    "from ConflictDetector import ConflictDetector\n",
    "\n",
    "import plotly.graph_objects as go\n",
    "from plotly.subplots import make_subplots\n",
    "test_projects = [\n",
    "    \"HomeA/2016\",\n",
    "    \"HomeB/2016\",\n",
    "    \"HomeC/2016\",\n",
    "    \"HomeD/2016\",\n",
    "    \"HomeF/2016\",\n",
    "    \"HomeG/2016\",\n",
    "]\n",
    "ctx_info = ContextAccessor({\n",
    "            TIME_CTX: {\n",
    "                \"range\" : (0, 24*60),\n",
    "                \"interval\" : 20,\n",
    "            },\n",
    "            # \"humidity#NUM\" : {\n",
    "            #     \"range\" : (0., 1.0),\n",
    "            #     \"interval\" : 0.1,\n",
    "            # },\n",
    "            WEEKDAY_CTX: {\n",
    "                \"range\": (0, 6.1),\n",
    "                \"interval\": 1,\n",
    "            },\n",
    "        })\n",
    "capacity = {\n",
    "    \"Range\" : 2,\n",
    "    \"Microwave\": 1,\n",
    "    \"LivingLights\": 0,\n",
    "    \"HomeOffice\": 1,\n",
    "    \"WashingMachine\": 1,\n",
    "}\n"
   ]
  },
  {
   "cell_type": "code",
   "execution_count": 2,
   "metadata": {},
   "outputs": [
    {
     "output_type": "stream",
     "name": "stderr",
     "text": [
      "DEBUG:root:The number of device events from processed file: {'Range': 377, 'Microwave': 931, 'LivingLights': 1099, 'HomeOffice': 997}\n",
      "DEBUG:root:The number of context events from processed file: {'apparentTemperature#NUM': 6119, 'temperature#NUM': 6119, 'humidity#NUM': 5418, 'summary#CAT': 1835}\n",
      "DEBUG:root:The number of device events from processed file: {'LivingLights': 1384, 'Microwave': 619}\n",
      "DEBUG:root:The number of context events from processed file: {'apparentTemperature#NUM': 6112, 'temperature#NUM': 6118, 'humidity#NUM': 5422, 'summary#CAT': 1290}\n",
      "DEBUG:root:The number of device events from processed file: {'HomeOffice': 746, 'Microwave': 1425, 'LivingLights': 1283}\n",
      "DEBUG:root:The number of context events from processed file: {'apparentTemperature#NUM': 6115, 'temperature#NUM': 6112, 'humidity#NUM': 5404, 'summary#CAT': 1322}\n",
      "DEBUG:root:The number of device events from processed file: {'Microwave': 929, 'LivingLights': 831, 'WashingMachine': 215, 'Range': 871}\n",
      "DEBUG:root:The number of context events from processed file: {'apparentTemperature#NUM': 6141, 'temperature#NUM': 6133, 'humidity#NUM': 5460, 'summary#CAT': 1761}\n",
      "DEBUG:root:The number of device events from processed file: {'Microwave': 3127, 'WashingMachine': 383}\n",
      "DEBUG:root:The number of context events from processed file: {'apparentTemperature#NUM': 6123, 'temperature#NUM': 6121, 'humidity#NUM': 5424, 'summary#CAT': 1338}\n",
      "DEBUG:root:The number of device events from processed file: {'LivingLights': 1331, 'HomeOffice': 813, 'Range': 83, 'Microwave': 1791}\n",
      "DEBUG:root:The number of context events from processed file: {'apparentTemperature#NUM': 6135, 'temperature#NUM': 6134, 'humidity#NUM': 5426, 'summary#CAT': 1473}\n"
     ]
    }
   ],
   "source": [
    "habit_groups = {}\n",
    "for p in test_projects:\n",
    "    habit_groups[p], _ = test_umass(test_project=p, ctx_info=ctx_info,train_ratio=0.7)"
   ]
  },
  {
   "cell_type": "code",
   "execution_count": 3,
   "metadata": {},
   "outputs": [],
   "source": [
    "#Exps:\n",
    "#   1. Contrived environment with injected conflicts:\n",
    "#   2. Real dataset with groundtruth conflicts:\n",
    "#   3. observations about the algorithm: with different threshold, different capacity for the devices, different number of users."
   ]
  },
  {
   "cell_type": "code",
   "execution_count": 4,
   "metadata": {},
   "outputs": [
    {
     "output_type": "stream",
     "name": "stdout",
     "text": [
      "The habit groups found in HomeA/2016\nRange 9\nMicrowave 6\nLivingLights 75\nHomeOffice 23\nThe habit groups found in HomeB/2016\nLivingLights 47\nMicrowave 9\nThe habit groups found in HomeC/2016\nHomeOffice 35\nMicrowave 12\nLivingLights 60\nThe habit groups found in HomeD/2016\nMicrowave 7\nLivingLights 26\nWashingMachine 7\nRange 16\nThe habit groups found in HomeF/2016\nMicrowave 22\nWashingMachine 13\nThe habit groups found in HomeG/2016\nLivingLights 14\nHomeOffice 38\nRange 11\nMicrowave 10\n"
     ]
    }
   ],
   "source": [
    "for home, groups in habit_groups.items():\n",
    "    print(\"The habit groups found in {}\".format(home))\n",
    "    for d, d_groups in groups.items():\n",
    "        print(d + \" \" + str(len(d_groups)))\n"
   ]
  },
  {
   "cell_type": "code",
   "execution_count": 5,
   "metadata": {
    "tags": []
   },
   "outputs": [
    {
     "output_type": "stream",
     "name": "stdout",
     "text": [
      "{'Range': 54, 'Microwave': 40, 'LivingLights': 0, 'HomeOffice': 71, 'WashingMachine': 23}\n"
     ]
    }
   ],
   "source": [
    "c_detector = ConflictDetector(ctx_info, capacity)\n",
    "final_conflicts = c_detector.predict_conflict_scenarios(habit_groups)\n",
    "print({x:len(final_conflicts[x]) for x in final_conflicts})"
   ]
  },
  {
   "cell_type": "code",
   "execution_count": 7,
   "metadata": {
    "tags": []
   },
   "outputs": [],
   "source": [
    "import plotly.express as px\n",
    "probs = [(x[\"box\"],x[\"prob\"]) for x in final_conflicts[\"Microwave\"]]\n",
    "# print(probs)\n",
    "# fig = px.histogram(probs)\n",
    "# fig.show()"
   ]
  },
  {
   "cell_type": "code",
   "execution_count": 8,
   "metadata": {},
   "outputs": [
    {
     "output_type": "stream",
     "name": "stdout",
     "text": [
      "1663\n"
     ]
    }
   ],
   "source": [
    "import copy\n",
    "# Make ground truth:\n",
    "ratio = 0.3\n",
    "device_events = {}\n",
    "for p in test_projects:\n",
    "    ctx_evts, device_evts = load_processed(p)\n",
    "    device_events[p] = device_evts\n",
    "\n",
    "gtconflict_cfg = {\n",
    "    \"context_info\": ctx_info,\n",
    "    \"capacity\": capacity\n",
    "}\n",
    "\n",
    "conflict_finder = GtConflictFinder(gtconflict_cfg)\n",
    "conflicts = conflict_finder.get_Gt_conflict(ctx_evts, device_events)\n",
    "print(len(conflicts))"
   ]
  },
  {
   "cell_type": "code",
   "execution_count": 9,
   "metadata": {
    "tags": []
   },
   "outputs": [
    {
     "output_type": "stream",
     "name": "stdout",
     "text": [
      "2016-01-01 15:07:00\n2016-12-29 16:48:00\n2016-09-11 18:41:42\n{'Range': 0, 'Microwave': 197, 'LivingLights': 0, 'HomeOffice': 319, 'WashingMachine': 13}\n"
     ]
    }
   ],
   "source": [
    "import plotly.express as px\n",
    "\n",
    "TEST_RATIO = 0.3\n",
    "conflict_time = [x['cur_time'] for x in conflicts]\n",
    "end_time = max(conflict_time)\n",
    "start_time = min(conflict_time)\n",
    "print(start_time)\n",
    "print(end_time)\n",
    "total_time_range = end_time - start_time\n",
    "test_start = end_time - total_time_range * TEST_RATIO\n",
    "print(test_start)\n",
    "\n",
    "conflict_device = {\n",
    "    d:[]\n",
    "    for d in capacity\n",
    "}\n",
    "for c in conflicts:\n",
    "    if c[\"cur_time\"] > test_start:\n",
    "        conflict_device[c[\"device\"]].append(c)\n",
    "print({d:len(c) for d,c in conflict_device.items()})\n"
   ]
  },
  {
   "cell_type": "code",
   "execution_count": 10,
   "metadata": {
    "tags": []
   },
   "outputs": [
    {
     "output_type": "stream",
     "name": "stdout",
     "text": [
      "{'Range': 0, 'Microwave': 0, 'LivingLights': 0, 'HomeOffice': 43, 'WashingMachine': 0}\n{'Range': [54, 0], 'Microwave': [13, 27], 'LivingLights': [0, 0], 'HomeOffice': [29, 42], 'WashingMachine': [19, 4]}\n"
     ]
    }
   ],
   "source": [
    "\n",
    "missed_gt_conflicts = {d:[] for d in conflict_device}\n",
    "hit_gt_conflicts = {d:{} for d in conflict_device}\n",
    "for d in final_conflicts:\n",
    "    hit_gt_conflicts[d] = {i:0 for i in range(len(final_conflicts[d]))}\n",
    "for d, conflicts in conflict_device.items():\n",
    "    for c in conflicts:\n",
    "        coor = ctx_info.get_coor_by_ctx(c[\"ctx\"])\n",
    "        flag = False\n",
    "        for idx,c_predict in enumerate(final_conflicts[d]):\n",
    "            if does_contain_point(c_predict[\"box\"], coor):\n",
    "                flag = True\n",
    "                hit_gt_conflicts[d][idx] += 1\n",
    "                break\n",
    "        if not flag:\n",
    "            missed_gt_conflicts[d].append(c)\n",
    "print({d:len(missed_gt_conflicts[d]) for d in missed_gt_conflicts})\n",
    "hit_count = {d:[0,0] for d in hit_gt_conflicts}\n",
    "for d,hit_c in hit_gt_conflicts.items():\n",
    "    for i,h in hit_c.items():\n",
    "        if h == 0:\n",
    "            hit_count[d][0] += 1\n",
    "        else:\n",
    "            hit_count[d][1] += 1\n",
    "print(hit_count)"
   ]
  },
  {
   "cell_type": "code",
   "execution_count": 13,
   "metadata": {},
   "outputs": [
    {
     "output_type": "display_data",
     "data": {
      "application/vnd.plotly.v1+json": {
       "config": {
        "plotlyServerURL": "https://plot.ly"
       },
       "data": [
        {
         "mode": "markers",
         "type": "scatter",
         "x": [
          47,
          47,
          48,
          48,
          49,
          50,
          37,
          41,
          41,
          42,
          43,
          44,
          44,
          45,
          46,
          58,
          64,
          65,
          65,
          66,
          66,
          67,
          69,
          50,
          38,
          39,
          39,
          40,
          40,
          60,
          61,
          61,
          62,
          43,
          43,
          44,
          44,
          45,
          45,
          46,
          64,
          64,
          65,
          65,
          44,
          45,
          45,
          49,
          63,
          63,
          64,
          64,
          65,
          65,
          66,
          57,
          60,
          60,
          63,
          41,
          41,
          42,
          42,
          61,
          63,
          64,
          65,
          64,
          64,
          65,
          65,
          66,
          66,
          67,
          67,
          31,
          32,
          32,
          33,
          33,
          34,
          34,
          35,
          35,
          36,
          36,
          37,
          48,
          49,
          49,
          50,
          50,
          51,
          48,
          48,
          65,
          65,
          66,
          66,
          67,
          67,
          68,
          68,
          69,
          28,
          28,
          29,
          29,
          30,
          30,
          33,
          33,
          34,
          34,
          65,
          66,
          44,
          45,
          45,
          46,
          46,
          47,
          47,
          47,
          48,
          48,
          49,
          49,
          50,
          50,
          51,
          60,
          65,
          66,
          66,
          67,
          48,
          65,
          65,
          65,
          61,
          61,
          28,
          62,
          63,
          63,
          69,
          69,
          62,
          62,
          63,
          63,
          64,
          64,
          58,
          59,
          59,
          60,
          60,
          61,
          61,
          62,
          62,
          63,
          63,
          64,
          64,
          65,
          65,
          51,
          66,
          67,
          24,
          25,
          25,
          26,
          27,
          27,
          28,
          28,
          29,
          29,
          30,
          30,
          33,
          33,
          34,
          34,
          35,
          35,
          36,
          62,
          62,
          63,
          63,
          64,
          64,
          65,
          44,
          44,
          45,
          61,
          62,
          62,
          63,
          63,
          64,
          64,
          26,
          26,
          27,
          42,
          43,
          44,
          57,
          57,
          60,
          61,
          61,
          61,
          62,
          62,
          63,
          63,
          64,
          64,
          65,
          65,
          66,
          27,
          28,
          44,
          44,
          45,
          45,
          65,
          65,
          66,
          66,
          40,
          40,
          48,
          48,
          49,
          49,
          49,
          50,
          50,
          51,
          51,
          52,
          52,
          52,
          52,
          53,
          53,
          54,
          54,
          50,
          50,
          51,
          51,
          56,
          57,
          57,
          58,
          58,
          44,
          60,
          60,
          61,
          28,
          29,
          29,
          58,
          59,
          59,
          60,
          60,
          61,
          61,
          62,
          62,
          63,
          63,
          64,
          64,
          48,
          42,
          42,
          43,
          43,
          44,
          64,
          65,
          65,
          66,
          66,
          67,
          63,
          64,
          65,
          65,
          57,
          39,
          40,
          40,
          41,
          41,
          42,
          42,
          43,
          43,
          49,
          49,
          50,
          50,
          63,
          52
         ],
         "y": [
          3,
          3,
          3,
          3,
          3,
          3,
          6,
          6,
          6,
          6,
          6,
          6,
          6,
          6,
          6,
          6,
          0,
          0,
          0,
          0,
          0,
          0,
          1,
          3,
          5,
          5,
          5,
          5,
          5,
          5,
          5,
          5,
          5,
          6,
          6,
          6,
          6,
          6,
          6,
          6,
          6,
          6,
          6,
          6,
          1,
          1,
          1,
          3,
          3,
          3,
          3,
          3,
          3,
          3,
          3,
          1,
          1,
          1,
          1,
          3,
          3,
          3,
          3,
          3,
          3,
          3,
          3,
          6,
          6,
          6,
          6,
          6,
          6,
          6,
          6,
          1,
          1,
          1,
          1,
          1,
          1,
          1,
          1,
          1,
          1,
          1,
          1,
          1,
          1,
          1,
          1,
          1,
          1,
          3,
          3,
          3,
          3,
          3,
          3,
          3,
          3,
          3,
          3,
          3,
          4,
          4,
          4,
          4,
          4,
          4,
          4,
          4,
          4,
          4,
          4,
          4,
          5,
          5,
          5,
          5,
          5,
          5,
          5,
          5,
          5,
          5,
          5,
          5,
          5,
          5,
          5,
          5,
          5,
          5,
          5,
          5,
          6,
          6,
          6,
          6,
          1,
          1,
          5,
          5,
          5,
          5,
          6,
          6,
          1,
          1,
          1,
          1,
          1,
          1,
          3,
          3,
          3,
          3,
          3,
          3,
          3,
          3,
          3,
          3,
          3,
          3,
          3,
          3,
          3,
          6,
          6,
          6,
          4,
          4,
          4,
          4,
          4,
          4,
          4,
          4,
          4,
          4,
          4,
          4,
          4,
          4,
          4,
          4,
          4,
          4,
          4,
          4,
          4,
          4,
          4,
          4,
          4,
          4,
          5,
          5,
          5,
          5,
          5,
          5,
          5,
          5,
          5,
          5,
          6,
          6,
          6,
          6,
          6,
          6,
          6,
          6,
          6,
          6,
          3,
          3,
          3,
          3,
          3,
          3,
          3,
          3,
          3,
          3,
          3,
          6,
          6,
          6,
          6,
          6,
          6,
          6,
          6,
          6,
          6,
          0,
          0,
          0,
          0,
          0,
          0,
          0,
          0,
          0,
          0,
          0,
          0,
          0,
          1,
          1,
          1,
          1,
          1,
          1,
          3,
          3,
          3,
          3,
          3,
          3,
          3,
          3,
          3,
          4,
          1,
          1,
          1,
          2,
          2,
          2,
          2,
          2,
          2,
          2,
          2,
          2,
          2,
          2,
          2,
          2,
          2,
          2,
          2,
          4,
          1,
          1,
          1,
          1,
          1,
          1,
          1,
          1,
          1,
          1,
          1,
          3,
          3,
          3,
          3,
          0,
          1,
          1,
          1,
          1,
          1,
          1,
          1,
          1,
          1,
          1,
          1,
          1,
          1,
          2,
          3
         ]
        },
        {
         "marker": {
          "color": "red"
         },
         "mode": "markers",
         "type": "scatter",
         "x": [
          43,
          44,
          44,
          45,
          46,
          43,
          43,
          44,
          44,
          45,
          45,
          46,
          44,
          45,
          45,
          48,
          49,
          49,
          50,
          50,
          44,
          45,
          45,
          46,
          46,
          44,
          44,
          45,
          43,
          44,
          44,
          44,
          45,
          45,
          43,
          43,
          44,
          43,
          43,
          49,
          49,
          50,
          50
         ],
         "y": [
          6,
          6,
          6,
          6,
          6,
          6,
          6,
          6,
          6,
          6,
          6,
          6,
          1,
          1,
          1,
          1,
          1,
          1,
          1,
          1,
          5,
          5,
          5,
          5,
          5,
          5,
          5,
          5,
          6,
          6,
          6,
          6,
          6,
          6,
          1,
          1,
          1,
          1,
          1,
          1,
          1,
          1,
          1
         ]
        }
       ],
       "layout": {
        "shapes": [
         {
          "line": {
           "color": "RoyalBlue"
          },
          "type": "rect",
          "x0": 48,
          "x1": 49,
          "y0": 3,
          "y1": 4
         },
         {
          "line": {
           "color": "RoyalBlue"
          },
          "type": "rect",
          "x0": 43,
          "x1": 47,
          "y0": 3,
          "y1": 4
         },
         {
          "line": {
           "color": "RoyalBlue"
          },
          "type": "rect",
          "x0": 40,
          "x1": 40,
          "y0": 0,
          "y1": 2
         },
         {
          "line": {
           "color": "RoyalBlue"
          },
          "type": "rect",
          "x0": 52,
          "x1": 54,
          "y0": 3,
          "y1": 4
         },
         {
          "line": {
           "color": "RoyalBlue"
          },
          "type": "rect",
          "x0": 30,
          "x1": 39,
          "y0": 1,
          "y1": 1
         },
         {
          "line": {
           "color": "RoyalBlue"
          },
          "type": "rect",
          "x0": 37,
          "x1": 39,
          "y0": 2,
          "y1": 2
         },
         {
          "line": {
           "color": "RoyalBlue"
          },
          "type": "rect",
          "x0": 52,
          "x1": 54,
          "y0": 0,
          "y1": 2
         },
         {
          "line": {
           "color": "RoyalBlue"
          },
          "type": "rect",
          "x0": 40,
          "x1": 49,
          "y0": 3,
          "y1": 3
         },
         {
          "line": {
           "color": "RoyalBlue"
          },
          "type": "rect",
          "x0": 38,
          "x1": 42,
          "y0": 3,
          "y1": 3
         },
         {
          "line": {
           "color": "RoyalBlue"
          },
          "type": "rect",
          "x0": 62,
          "x1": 64,
          "y0": 0,
          "y1": 0
         },
         {
          "line": {
           "color": "RoyalBlue"
          },
          "type": "rect",
          "x0": 20,
          "x1": 25,
          "y0": 0,
          "y1": 5
         },
         {
          "line": {
           "color": "RoyalBlue"
          },
          "type": "rect",
          "x0": 27,
          "x1": 29,
          "y0": 4,
          "y1": 6
         },
         {
          "line": {
           "color": "RoyalBlue"
          },
          "type": "rect",
          "x0": 33,
          "x1": 37,
          "y0": 0,
          "y1": 4
         },
         {
          "line": {
           "color": "RoyalBlue"
          },
          "type": "rect",
          "x0": 38,
          "x1": 42,
          "y0": 4,
          "y1": 4
         },
         {
          "line": {
           "color": "RoyalBlue"
          },
          "type": "rect",
          "x0": 40,
          "x1": 43,
          "y0": 4,
          "y1": 4
         },
         {
          "line": {
           "color": "RoyalBlue"
          },
          "type": "rect",
          "x0": 44,
          "x1": 49,
          "y0": 4,
          "y1": 4
         },
         {
          "line": {
           "color": "RoyalBlue"
          },
          "type": "rect",
          "x0": 48,
          "x1": 51,
          "y0": 4,
          "y1": 4
         },
         {
          "line": {
           "color": "RoyalBlue"
          },
          "type": "rect",
          "x0": 50,
          "x1": 51,
          "y0": 3,
          "y1": 4
         },
         {
          "line": {
           "color": "RoyalBlue"
          },
          "type": "rect",
          "x0": 65,
          "x1": 67,
          "y0": 4,
          "y1": 5
         },
         {
          "line": {
           "color": "RoyalBlue"
          },
          "type": "rect",
          "x0": 40,
          "x1": 42,
          "y0": 3,
          "y1": 4
         },
         {
          "line": {
           "color": "RoyalBlue"
          },
          "type": "rect",
          "x0": 33,
          "x1": 39,
          "y0": 3,
          "y1": 3
         },
         {
          "line": {
           "color": "RoyalBlue"
          },
          "type": "rect",
          "x0": 51,
          "x1": 53,
          "y0": 0,
          "y1": 2
         },
         {
          "line": {
           "color": "RoyalBlue"
          },
          "type": "rect",
          "x0": 66,
          "x1": 66,
          "y0": 0,
          "y1": 1
         },
         {
          "line": {
           "color": "RoyalBlue"
          },
          "type": "rect",
          "x0": 44,
          "x1": 50,
          "y0": 0,
          "y1": 0
         },
         {
          "line": {
           "color": "RoyalBlue"
          },
          "type": "rect",
          "x0": 65,
          "x1": 66,
          "y0": 1,
          "y1": 1
         },
         {
          "line": {
           "color": "RoyalBlue"
          },
          "type": "rect",
          "x0": 55,
          "x1": 60,
          "y0": 0,
          "y1": 0
         },
         {
          "line": {
           "color": "RoyalBlue"
          },
          "type": "rect",
          "x0": 63,
          "x1": 66,
          "y0": 4,
          "y1": 4
         },
         {
          "line": {
           "color": "RoyalBlue"
          },
          "type": "rect",
          "x0": 65,
          "x1": 66,
          "y0": 2,
          "y1": 4
         },
         {
          "line": {
           "color": "RoyalBlue"
          },
          "type": "rect",
          "x0": 61,
          "x1": 62,
          "y0": 3,
          "y1": 3
         },
         {
          "line": {
           "color": "RoyalBlue"
          },
          "type": "rect",
          "x0": 61,
          "x1": 62,
          "y0": 2,
          "y1": 2
         },
         {
          "line": {
           "color": "RoyalBlue"
          },
          "type": "rect",
          "x0": 43,
          "x1": 50,
          "y0": 2,
          "y1": 2
         },
         {
          "line": {
           "color": "RoyalBlue"
          },
          "type": "rect",
          "x0": 26,
          "x1": 32,
          "y0": 5,
          "y1": 6
         },
         {
          "line": {
           "color": "RoyalBlue"
          },
          "type": "rect",
          "x0": 33,
          "x1": 37,
          "y0": 5,
          "y1": 6
         },
         {
          "line": {
           "color": "RoyalBlue"
          },
          "type": "rect",
          "x0": 42,
          "x1": 43,
          "y0": 0,
          "y1": 0
         },
         {
          "line": {
           "color": "RoyalBlue"
          },
          "type": "rect",
          "x0": 38,
          "x1": 42,
          "y0": 5,
          "y1": 6
         },
         {
          "line": {
           "color": "RoyalBlue"
          },
          "type": "rect",
          "x0": 33,
          "x1": 39,
          "y0": 4,
          "y1": 4
         },
         {
          "line": {
           "color": "RoyalBlue"
          },
          "type": "rect",
          "x0": 65,
          "x1": 66,
          "y0": 5,
          "y1": 6
         },
         {
          "line": {
           "color": "RoyalBlue"
          },
          "type": "rect",
          "x0": 47,
          "x1": 47,
          "y0": 5,
          "y1": 5
         },
         {
          "line": {
           "color": "RoyalBlue"
          },
          "type": "rect",
          "x0": 61,
          "x1": 62,
          "y0": 5,
          "y1": 6
         },
         {
          "line": {
           "color": "RoyalBlue"
          },
          "type": "rect",
          "x0": 63,
          "x1": 66,
          "y0": 5,
          "y1": 5
         },
         {
          "line": {
           "color": "RoyalBlue"
          },
          "type": "rect",
          "x0": 62,
          "x1": 64,
          "y0": 5,
          "y1": 6
         },
         {
          "line": {
           "color": "RoyalBlue"
          },
          "type": "rect",
          "x0": 20,
          "x1": 25,
          "y0": 6,
          "y1": 6
         },
         {
          "line": {
           "color": "RoyalBlue"
          },
          "type": "rect",
          "x0": 38,
          "x1": 41,
          "y0": 0,
          "y1": 0
         },
         {
          "line": {
           "color": "RoyalBlue"
          },
          "type": "rect",
          "x0": 65,
          "x1": 66,
          "y0": 0,
          "y1": 0
         },
         {
          "line": {
           "color": "RoyalBlue"
          },
          "type": "rect",
          "x0": 61,
          "x1": 61,
          "y0": 0,
          "y1": 0
         },
         {
          "line": {
           "color": "RoyalBlue"
          },
          "type": "rect",
          "x0": 67,
          "x1": 71,
          "y0": 0,
          "y1": 6
         },
         {
          "line": {
           "color": "RoyalBlue"
          },
          "type": "rect",
          "x0": 61,
          "x1": 61,
          "y0": 1,
          "y1": 6
         },
         {
          "line": {
           "color": "RoyalBlue"
          },
          "type": "rect",
          "x0": 52,
          "x1": 53,
          "y0": 5,
          "y1": 6
         },
         {
          "line": {
           "color": "RoyalBlue"
          },
          "type": "rect",
          "x0": 0,
          "x1": 19,
          "y0": 0,
          "y1": 6
         },
         {
          "line": {
           "color": "RoyalBlue"
          },
          "type": "rect",
          "x0": 13,
          "x1": 20,
          "y0": 0,
          "y1": 6
         },
         {
          "line": {
           "color": "RoyalBlue"
          },
          "type": "rect",
          "x0": 21,
          "x1": 24,
          "y0": 0,
          "y1": 6
         },
         {
          "line": {
           "color": "RoyalBlue"
          },
          "type": "rect",
          "x0": 25,
          "x1": 26,
          "y0": 4,
          "y1": 6
         },
         {
          "line": {
           "color": "RoyalBlue"
          },
          "type": "rect",
          "x0": 25,
          "x1": 29,
          "y0": 0,
          "y1": 1
         },
         {
          "line": {
           "color": "RoyalBlue"
          },
          "type": "rect",
          "x0": 25,
          "x1": 29,
          "y0": 3,
          "y1": 3
         },
         {
          "line": {
           "color": "RoyalBlue"
          },
          "type": "rect",
          "x0": 30,
          "x1": 33,
          "y0": 5,
          "y1": 6
         },
         {
          "line": {
           "color": "RoyalBlue"
          },
          "type": "rect",
          "x0": 30,
          "x1": 34,
          "y0": 0,
          "y1": 0
         },
         {
          "line": {
           "color": "RoyalBlue"
          },
          "type": "rect",
          "x0": 35,
          "x1": 39,
          "y0": 0,
          "y1": 0
         },
         {
          "line": {
           "color": "RoyalBlue"
          },
          "type": "rect",
          "x0": 34,
          "x1": 39,
          "y0": 5,
          "y1": 6
         },
         {
          "line": {
           "color": "RoyalBlue"
          },
          "type": "rect",
          "x0": 41,
          "x1": 42,
          "y0": 0,
          "y1": 0
         },
         {
          "line": {
           "color": "RoyalBlue"
          },
          "type": "rect",
          "x0": 38,
          "x1": 42,
          "y0": 1,
          "y1": 1
         },
         {
          "line": {
           "color": "RoyalBlue"
          },
          "type": "rect",
          "x0": 25,
          "x1": 29,
          "y0": 2,
          "y1": 2
         },
         {
          "line": {
           "color": "RoyalBlue"
          },
          "type": "rect",
          "x0": 30,
          "x1": 36,
          "y0": 2,
          "y1": 2
         },
         {
          "line": {
           "color": "RoyalBlue"
          },
          "type": "rect",
          "x0": 38,
          "x1": 42,
          "y0": 2,
          "y1": 2
         },
         {
          "line": {
           "color": "RoyalBlue"
          },
          "type": "rect",
          "x0": 26,
          "x1": 32,
          "y0": 0,
          "y1": 4
         },
         {
          "line": {
           "color": "RoyalBlue"
          },
          "type": "rect",
          "x0": 54,
          "x1": 54,
          "y0": 5,
          "y1": 6
         },
         {
          "line": {
           "color": "RoyalBlue"
          },
          "type": "rect",
          "x0": 61,
          "x1": 62,
          "y0": 4,
          "y1": 4
         },
         {
          "line": {
           "color": "RoyalBlue"
          },
          "type": "rect",
          "x0": 63,
          "x1": 64,
          "y0": 4,
          "y1": 5
         },
         {
          "line": {
           "color": "RoyalBlue"
          },
          "type": "rect",
          "x0": 48,
          "x1": 51,
          "y0": 5,
          "y1": 6
         },
         {
          "line": {
           "color": "RoyalBlue"
          },
          "type": "rect",
          "x0": 62,
          "x1": 64,
          "y0": 1,
          "y1": 1
         },
         {
          "line": {
           "color": "RoyalBlue"
          },
          "type": "rect",
          "x0": 55,
          "x1": 60,
          "y0": 1,
          "y1": 6
         },
         {
          "line": {
           "color": "RoyalBlue"
          },
          "type": "rect",
          "x0": 62,
          "x1": 64,
          "y0": 2,
          "y1": 4
         }
        ],
        "template": {
         "data": {
          "bar": [
           {
            "error_x": {
             "color": "#2a3f5f"
            },
            "error_y": {
             "color": "#2a3f5f"
            },
            "marker": {
             "line": {
              "color": "#E5ECF6",
              "width": 0.5
             }
            },
            "type": "bar"
           }
          ],
          "barpolar": [
           {
            "marker": {
             "line": {
              "color": "#E5ECF6",
              "width": 0.5
             }
            },
            "type": "barpolar"
           }
          ],
          "carpet": [
           {
            "aaxis": {
             "endlinecolor": "#2a3f5f",
             "gridcolor": "white",
             "linecolor": "white",
             "minorgridcolor": "white",
             "startlinecolor": "#2a3f5f"
            },
            "baxis": {
             "endlinecolor": "#2a3f5f",
             "gridcolor": "white",
             "linecolor": "white",
             "minorgridcolor": "white",
             "startlinecolor": "#2a3f5f"
            },
            "type": "carpet"
           }
          ],
          "choropleth": [
           {
            "colorbar": {
             "outlinewidth": 0,
             "ticks": ""
            },
            "type": "choropleth"
           }
          ],
          "contour": [
           {
            "colorbar": {
             "outlinewidth": 0,
             "ticks": ""
            },
            "colorscale": [
             [
              0,
              "#0d0887"
             ],
             [
              0.1111111111111111,
              "#46039f"
             ],
             [
              0.2222222222222222,
              "#7201a8"
             ],
             [
              0.3333333333333333,
              "#9c179e"
             ],
             [
              0.4444444444444444,
              "#bd3786"
             ],
             [
              0.5555555555555556,
              "#d8576b"
             ],
             [
              0.6666666666666666,
              "#ed7953"
             ],
             [
              0.7777777777777778,
              "#fb9f3a"
             ],
             [
              0.8888888888888888,
              "#fdca26"
             ],
             [
              1,
              "#f0f921"
             ]
            ],
            "type": "contour"
           }
          ],
          "contourcarpet": [
           {
            "colorbar": {
             "outlinewidth": 0,
             "ticks": ""
            },
            "type": "contourcarpet"
           }
          ],
          "heatmap": [
           {
            "colorbar": {
             "outlinewidth": 0,
             "ticks": ""
            },
            "colorscale": [
             [
              0,
              "#0d0887"
             ],
             [
              0.1111111111111111,
              "#46039f"
             ],
             [
              0.2222222222222222,
              "#7201a8"
             ],
             [
              0.3333333333333333,
              "#9c179e"
             ],
             [
              0.4444444444444444,
              "#bd3786"
             ],
             [
              0.5555555555555556,
              "#d8576b"
             ],
             [
              0.6666666666666666,
              "#ed7953"
             ],
             [
              0.7777777777777778,
              "#fb9f3a"
             ],
             [
              0.8888888888888888,
              "#fdca26"
             ],
             [
              1,
              "#f0f921"
             ]
            ],
            "type": "heatmap"
           }
          ],
          "heatmapgl": [
           {
            "colorbar": {
             "outlinewidth": 0,
             "ticks": ""
            },
            "colorscale": [
             [
              0,
              "#0d0887"
             ],
             [
              0.1111111111111111,
              "#46039f"
             ],
             [
              0.2222222222222222,
              "#7201a8"
             ],
             [
              0.3333333333333333,
              "#9c179e"
             ],
             [
              0.4444444444444444,
              "#bd3786"
             ],
             [
              0.5555555555555556,
              "#d8576b"
             ],
             [
              0.6666666666666666,
              "#ed7953"
             ],
             [
              0.7777777777777778,
              "#fb9f3a"
             ],
             [
              0.8888888888888888,
              "#fdca26"
             ],
             [
              1,
              "#f0f921"
             ]
            ],
            "type": "heatmapgl"
           }
          ],
          "histogram": [
           {
            "marker": {
             "colorbar": {
              "outlinewidth": 0,
              "ticks": ""
             }
            },
            "type": "histogram"
           }
          ],
          "histogram2d": [
           {
            "colorbar": {
             "outlinewidth": 0,
             "ticks": ""
            },
            "colorscale": [
             [
              0,
              "#0d0887"
             ],
             [
              0.1111111111111111,
              "#46039f"
             ],
             [
              0.2222222222222222,
              "#7201a8"
             ],
             [
              0.3333333333333333,
              "#9c179e"
             ],
             [
              0.4444444444444444,
              "#bd3786"
             ],
             [
              0.5555555555555556,
              "#d8576b"
             ],
             [
              0.6666666666666666,
              "#ed7953"
             ],
             [
              0.7777777777777778,
              "#fb9f3a"
             ],
             [
              0.8888888888888888,
              "#fdca26"
             ],
             [
              1,
              "#f0f921"
             ]
            ],
            "type": "histogram2d"
           }
          ],
          "histogram2dcontour": [
           {
            "colorbar": {
             "outlinewidth": 0,
             "ticks": ""
            },
            "colorscale": [
             [
              0,
              "#0d0887"
             ],
             [
              0.1111111111111111,
              "#46039f"
             ],
             [
              0.2222222222222222,
              "#7201a8"
             ],
             [
              0.3333333333333333,
              "#9c179e"
             ],
             [
              0.4444444444444444,
              "#bd3786"
             ],
             [
              0.5555555555555556,
              "#d8576b"
             ],
             [
              0.6666666666666666,
              "#ed7953"
             ],
             [
              0.7777777777777778,
              "#fb9f3a"
             ],
             [
              0.8888888888888888,
              "#fdca26"
             ],
             [
              1,
              "#f0f921"
             ]
            ],
            "type": "histogram2dcontour"
           }
          ],
          "mesh3d": [
           {
            "colorbar": {
             "outlinewidth": 0,
             "ticks": ""
            },
            "type": "mesh3d"
           }
          ],
          "parcoords": [
           {
            "line": {
             "colorbar": {
              "outlinewidth": 0,
              "ticks": ""
             }
            },
            "type": "parcoords"
           }
          ],
          "pie": [
           {
            "automargin": true,
            "type": "pie"
           }
          ],
          "scatter": [
           {
            "marker": {
             "colorbar": {
              "outlinewidth": 0,
              "ticks": ""
             }
            },
            "type": "scatter"
           }
          ],
          "scatter3d": [
           {
            "line": {
             "colorbar": {
              "outlinewidth": 0,
              "ticks": ""
             }
            },
            "marker": {
             "colorbar": {
              "outlinewidth": 0,
              "ticks": ""
             }
            },
            "type": "scatter3d"
           }
          ],
          "scattercarpet": [
           {
            "marker": {
             "colorbar": {
              "outlinewidth": 0,
              "ticks": ""
             }
            },
            "type": "scattercarpet"
           }
          ],
          "scattergeo": [
           {
            "marker": {
             "colorbar": {
              "outlinewidth": 0,
              "ticks": ""
             }
            },
            "type": "scattergeo"
           }
          ],
          "scattergl": [
           {
            "marker": {
             "colorbar": {
              "outlinewidth": 0,
              "ticks": ""
             }
            },
            "type": "scattergl"
           }
          ],
          "scattermapbox": [
           {
            "marker": {
             "colorbar": {
              "outlinewidth": 0,
              "ticks": ""
             }
            },
            "type": "scattermapbox"
           }
          ],
          "scatterpolar": [
           {
            "marker": {
             "colorbar": {
              "outlinewidth": 0,
              "ticks": ""
             }
            },
            "type": "scatterpolar"
           }
          ],
          "scatterpolargl": [
           {
            "marker": {
             "colorbar": {
              "outlinewidth": 0,
              "ticks": ""
             }
            },
            "type": "scatterpolargl"
           }
          ],
          "scatterternary": [
           {
            "marker": {
             "colorbar": {
              "outlinewidth": 0,
              "ticks": ""
             }
            },
            "type": "scatterternary"
           }
          ],
          "surface": [
           {
            "colorbar": {
             "outlinewidth": 0,
             "ticks": ""
            },
            "colorscale": [
             [
              0,
              "#0d0887"
             ],
             [
              0.1111111111111111,
              "#46039f"
             ],
             [
              0.2222222222222222,
              "#7201a8"
             ],
             [
              0.3333333333333333,
              "#9c179e"
             ],
             [
              0.4444444444444444,
              "#bd3786"
             ],
             [
              0.5555555555555556,
              "#d8576b"
             ],
             [
              0.6666666666666666,
              "#ed7953"
             ],
             [
              0.7777777777777778,
              "#fb9f3a"
             ],
             [
              0.8888888888888888,
              "#fdca26"
             ],
             [
              1,
              "#f0f921"
             ]
            ],
            "type": "surface"
           }
          ],
          "table": [
           {
            "cells": {
             "fill": {
              "color": "#EBF0F8"
             },
             "line": {
              "color": "white"
             }
            },
            "header": {
             "fill": {
              "color": "#C8D4E3"
             },
             "line": {
              "color": "white"
             }
            },
            "type": "table"
           }
          ]
         },
         "layout": {
          "annotationdefaults": {
           "arrowcolor": "#2a3f5f",
           "arrowhead": 0,
           "arrowwidth": 1
          },
          "autotypenumbers": "strict",
          "coloraxis": {
           "colorbar": {
            "outlinewidth": 0,
            "ticks": ""
           }
          },
          "colorscale": {
           "diverging": [
            [
             0,
             "#8e0152"
            ],
            [
             0.1,
             "#c51b7d"
            ],
            [
             0.2,
             "#de77ae"
            ],
            [
             0.3,
             "#f1b6da"
            ],
            [
             0.4,
             "#fde0ef"
            ],
            [
             0.5,
             "#f7f7f7"
            ],
            [
             0.6,
             "#e6f5d0"
            ],
            [
             0.7,
             "#b8e186"
            ],
            [
             0.8,
             "#7fbc41"
            ],
            [
             0.9,
             "#4d9221"
            ],
            [
             1,
             "#276419"
            ]
           ],
           "sequential": [
            [
             0,
             "#0d0887"
            ],
            [
             0.1111111111111111,
             "#46039f"
            ],
            [
             0.2222222222222222,
             "#7201a8"
            ],
            [
             0.3333333333333333,
             "#9c179e"
            ],
            [
             0.4444444444444444,
             "#bd3786"
            ],
            [
             0.5555555555555556,
             "#d8576b"
            ],
            [
             0.6666666666666666,
             "#ed7953"
            ],
            [
             0.7777777777777778,
             "#fb9f3a"
            ],
            [
             0.8888888888888888,
             "#fdca26"
            ],
            [
             1,
             "#f0f921"
            ]
           ],
           "sequentialminus": [
            [
             0,
             "#0d0887"
            ],
            [
             0.1111111111111111,
             "#46039f"
            ],
            [
             0.2222222222222222,
             "#7201a8"
            ],
            [
             0.3333333333333333,
             "#9c179e"
            ],
            [
             0.4444444444444444,
             "#bd3786"
            ],
            [
             0.5555555555555556,
             "#d8576b"
            ],
            [
             0.6666666666666666,
             "#ed7953"
            ],
            [
             0.7777777777777778,
             "#fb9f3a"
            ],
            [
             0.8888888888888888,
             "#fdca26"
            ],
            [
             1,
             "#f0f921"
            ]
           ]
          },
          "colorway": [
           "#636efa",
           "#EF553B",
           "#00cc96",
           "#ab63fa",
           "#FFA15A",
           "#19d3f3",
           "#FF6692",
           "#B6E880",
           "#FF97FF",
           "#FECB52"
          ],
          "font": {
           "color": "#2a3f5f"
          },
          "geo": {
           "bgcolor": "white",
           "lakecolor": "white",
           "landcolor": "#E5ECF6",
           "showlakes": true,
           "showland": true,
           "subunitcolor": "white"
          },
          "hoverlabel": {
           "align": "left"
          },
          "hovermode": "closest",
          "mapbox": {
           "style": "light"
          },
          "paper_bgcolor": "white",
          "plot_bgcolor": "#E5ECF6",
          "polar": {
           "angularaxis": {
            "gridcolor": "white",
            "linecolor": "white",
            "ticks": ""
           },
           "bgcolor": "#E5ECF6",
           "radialaxis": {
            "gridcolor": "white",
            "linecolor": "white",
            "ticks": ""
           }
          },
          "scene": {
           "xaxis": {
            "backgroundcolor": "#E5ECF6",
            "gridcolor": "white",
            "gridwidth": 2,
            "linecolor": "white",
            "showbackground": true,
            "ticks": "",
            "zerolinecolor": "white"
           },
           "yaxis": {
            "backgroundcolor": "#E5ECF6",
            "gridcolor": "white",
            "gridwidth": 2,
            "linecolor": "white",
            "showbackground": true,
            "ticks": "",
            "zerolinecolor": "white"
           },
           "zaxis": {
            "backgroundcolor": "#E5ECF6",
            "gridcolor": "white",
            "gridwidth": 2,
            "linecolor": "white",
            "showbackground": true,
            "ticks": "",
            "zerolinecolor": "white"
           }
          },
          "shapedefaults": {
           "line": {
            "color": "#2a3f5f"
           }
          },
          "ternary": {
           "aaxis": {
            "gridcolor": "white",
            "linecolor": "white",
            "ticks": ""
           },
           "baxis": {
            "gridcolor": "white",
            "linecolor": "white",
            "ticks": ""
           },
           "bgcolor": "#E5ECF6",
           "caxis": {
            "gridcolor": "white",
            "linecolor": "white",
            "ticks": ""
           }
          },
          "title": {
           "x": 0.05
          },
          "xaxis": {
           "automargin": true,
           "gridcolor": "white",
           "linecolor": "white",
           "ticks": "",
           "title": {
            "standoff": 15
           },
           "zerolinecolor": "white",
           "zerolinewidth": 2
          },
          "yaxis": {
           "automargin": true,
           "gridcolor": "white",
           "linecolor": "white",
           "ticks": "",
           "title": {
            "standoff": 15
           },
           "zerolinecolor": "white",
           "zerolinewidth": 2
          }
         }
        }
       }
      }
     },
     "metadata": {}
    }
   ],
   "source": [
    "import plotly.graph_objects as go\n",
    "from plotly.subplots import make_subplots\n",
    "\n",
    "draw_device = \"HomeOffice\"\n",
    "c_point = [[],[]]\n",
    "missed_point = [[], []]\n",
    "for c in conflict_device[draw_device]:\n",
    "    coor = ctx_info.get_coor_by_ctx(c[\"ctx\"])\n",
    "    c_point[0].append(coor[0])\n",
    "    c_point[1].append(coor[1])\n",
    "for c in missed_gt_conflicts[draw_device]:\n",
    "    coor = ctx_info.get_coor_by_ctx(c[\"ctx\"])\n",
    "    missed_point[0].append(coor[0])\n",
    "    missed_point[1].append(coor[1])\n",
    "fig = go.Figure(data=go.Scatter(x=c_point[0], y=c_point[1], mode=\"markers\"))\n",
    "fig.add_trace(go.Scatter(x=missed_point[0], y=missed_point[1], mode=\"markers\", marker=dict(color=\"red\")))\n",
    "\n",
    "for c in final_conflicts[draw_device]:\n",
    "    fig.add_shape(type=\"rect\",\n",
    "        x0=c[\"box\"][0], y0=c[\"box\"][1], x1=c[\"box\"][2], y1=c[\"box\"][3],\n",
    "        line=dict(color=\"RoyalBlue\"),\n",
    "    )\n",
    "fig.show()\n"
   ]
  },
  {
   "source": [
    "hit_miss_rate = [[],[]]\n",
    "for prob_threshold in np.arange(0.0, 0.5, 0.001):\n",
    "    test_conflict = {\n",
    "        d: [x for x in final_conflicts[d] if x[\"prob\"] >= prob_threshold]\n",
    "        for d in final_conflicts\n",
    "    }\n",
    "    missed_gt_conflicts = {d:[] for d in conflict_device}\n",
    "    hit_gt_conflicts = {d:{} for d in conflict_device}\n",
    "    for d in test_conflict:\n",
    "        hit_gt_conflicts[d] = {i:0 for i in range(len(test_conflict[d]))}\n",
    "    for d, conflicts in conflict_device.items():\n",
    "        for c in conflicts:\n",
    "            coor = ctx_info.get_coor_by_ctx(c[\"ctx\"])\n",
    "            flag = False\n",
    "            for idx,c_predict in enumerate(test_conflict[d]):\n",
    "                if does_contain_point(c_predict[\"box\"], coor):\n",
    "                    flag = True\n",
    "                    hit_gt_conflicts[d][idx] += 1\n",
    "                    break\n",
    "            if not flag:\n",
    "                missed_gt_conflicts[d].append(c)\n",
    "    all_missed_gt_conflicts = sum([len(x) for d,x in missed_gt_conflicts.items()])\n",
    "    all_gt_conflicts = sum([len(x) for d,x in conflict_device.items()])\n",
    "    hit_miss_rate[0].append(1.0 - float(all_missed_gt_conflicts) / all_gt_conflicts)\n",
    "    # print({d:len(missed_gt_conflicts[d]) for d in missed_gt_conflicts})\n",
    "    all_pred_conflicts = 0\n",
    "    all_missed_pred_conflicts = 0\n",
    "    hit_count = {d:[0,0] for d in hit_gt_conflicts}\n",
    "    for d,hit_c in hit_gt_conflicts.items():\n",
    "        for i,h in hit_c.items():\n",
    "            all_pred_conflicts += 1\n",
    "            if h == 0:\n",
    "                all_missed_pred_conflicts += 1\n",
    "                hit_count[d][0] += 1\n",
    "            else:\n",
    "                hit_count[d][1] += 1\n",
    "    hit_miss_rate[1].append(1.0 - float(all_missed_pred_conflicts) / all_pred_conflicts)\n",
    "    # print(hit_count)\n",
    "\n",
    "# print(hit_miss_rate)"
   ],
   "cell_type": "code",
   "metadata": {
    "tags": []
   },
   "execution_count": 32,
   "outputs": []
  },
  {
   "cell_type": "code",
   "execution_count": 33,
   "metadata": {},
   "outputs": [
    {
     "output_type": "stream",
     "name": "stdout",
     "text": [
      "500\n"
     ]
    },
    {
     "output_type": "display_data",
     "data": {
      "application/vnd.plotly.v1+json": {
       "config": {
        "plotlyServerURL": "https://plot.ly"
       },
       "data": [
        {
         "mode": "lines+markers",
         "type": "scatter",
         "x": [
          0.9187145557655955,
          0.9187145557655955,
          0.9111531190926276,
          0.8979206049149339,
          0.8544423440453686,
          0.8185255198487713,
          0.8166351606805293,
          0.7958412098298677,
          0.782608695652174,
          0.7655954631379962,
          0.7655954631379962,
          0.7448015122873346,
          0.7448015122873346,
          0.7448015122873346,
          0.7448015122873346,
          0.7429111531190926,
          0.6786389413988658,
          0.6710775047258979,
          0.6710775047258979,
          0.665406427221172,
          0.665406427221172,
          0.665406427221172,
          0.665406427221172,
          0.665406427221172,
          0.6597353497164462,
          0.6578449905482042,
          0.6578449905482042,
          0.6559546313799622,
          0.6559546313799622,
          0.6294896030245747,
          0.6294896030245747,
          0.6294896030245747,
          0.6294896030245747,
          0.6181474480151229,
          0.6181474480151229,
          0.6181474480151229,
          0.6181474480151229,
          0.6181474480151229,
          0.6181474480151229,
          0.6181474480151229,
          0.6181474480151229,
          0.6181474480151229,
          0.6181474480151229,
          0.6181474480151229,
          0.6181474480151229,
          0.6181474480151229,
          0.6181474480151229,
          0.6181474480151229,
          0.6181474480151229,
          0.6181474480151229,
          0.6143667296786389,
          0.6143667296786389,
          0.6030245746691871,
          0.6030245746691871,
          0.6030245746691871,
          0.6030245746691871,
          0.6030245746691871,
          0.6030245746691871,
          0.5879017013232515,
          0.5879017013232515,
          0.5879017013232515,
          0.5879017013232515,
          0.5879017013232515,
          0.5879017013232515,
          0.5879017013232515,
          0.5689981096408318,
          0.5689981096408318,
          0.5689981096408318,
          0.5689981096408318,
          0.5689981096408318,
          0.5689981096408318,
          0.5689981096408318,
          0.5689981096408318,
          0.5689981096408318,
          0.5274102079395084,
          0.5274102079395084,
          0.5274102079395084,
          0.5274102079395084,
          0.5274102079395084,
          0.5274102079395084,
          0.5274102079395084,
          0.5274102079395084,
          0.5274102079395084,
          0.5274102079395084,
          0.5274102079395084,
          0.5274102079395084,
          0.5274102079395084,
          0.5274102079395084,
          0.5217391304347826,
          0.5217391304347826,
          0.5217391304347826,
          0.5198487712665407,
          0.5198487712665407,
          0.5198487712665407,
          0.5198487712665407,
          0.502835538752363,
          0.502835538752363,
          0.502835538752363,
          0.502835538752363,
          0.502835538752363,
          0.502835538752363,
          0.502835538752363,
          0.502835538752363,
          0.502835538752363,
          0.4896030245746692,
          0.4896030245746692,
          0.4896030245746692,
          0.4896030245746692,
          0.4896030245746692,
          0.4896030245746692,
          0.4896030245746692,
          0.4896030245746692,
          0.4896030245746692,
          0.4896030245746692,
          0.4896030245746692,
          0.4896030245746692,
          0.4896030245746692,
          0.4896030245746692,
          0.4896030245746692,
          0.4896030245746692,
          0.4896030245746692,
          0.4896030245746692,
          0.4896030245746692,
          0.4896030245746692,
          0.4896030245746692,
          0.4896030245746692,
          0.4896030245746692,
          0.4896030245746692,
          0.4896030245746692,
          0.47448015122873344,
          0.47448015122873344,
          0.47448015122873344,
          0.4574669187145558,
          0.4574669187145558,
          0.4574669187145558,
          0.4574669187145558,
          0.4574669187145558,
          0.4574669187145558,
          0.4574669187145558,
          0.4574669187145558,
          0.4574669187145558,
          0.4574669187145558,
          0.4574669187145558,
          0.4574669187145558,
          0.4574669187145558,
          0.4574669187145558,
          0.4574669187145558,
          0.4574669187145558,
          0.4574669187145558,
          0.4574669187145558,
          0.4574669187145558,
          0.4574669187145558,
          0.4574669187145558,
          0.4574669187145558,
          0.4574669187145558,
          0.4574669187145558,
          0.4574669187145558,
          0.4574669187145558,
          0.4574669187145558,
          0.4574669187145558,
          0.4574669187145558,
          0.4574669187145558,
          0.4574669187145558,
          0.4574669187145558,
          0.4574669187145558,
          0.4574669187145558,
          0.44990548204158787,
          0.44990548204158787,
          0.44990548204158787,
          0.44990548204158787,
          0.44990548204158787,
          0.44990548204158787,
          0.44990548204158787,
          0.44990548204158787,
          0.44990548204158787,
          0.44990548204158787,
          0.44990548204158787,
          0.44990548204158787,
          0.44990548204158787,
          0.44990548204158787,
          0.44990548204158787,
          0.44990548204158787,
          0.44990548204158787,
          0.44990548204158787,
          0.44990548204158787,
          0.44990548204158787,
          0.44990548204158787,
          0.44990548204158787,
          0.44990548204158787,
          0.44990548204158787,
          0.44990548204158787,
          0.44990548204158787,
          0.44990548204158787,
          0.44990548204158787,
          0.44990548204158787,
          0.44990548204158787,
          0.44990548204158787,
          0.44990548204158787,
          0.44990548204158787,
          0.44990548204158787,
          0.44990548204158787,
          0.44990548204158787,
          0.44990548204158787,
          0.44990548204158787,
          0.44990548204158787,
          0.44990548204158787,
          0.44990548204158787,
          0.44990548204158787,
          0.44990548204158787,
          0.4347826086956522,
          0.4347826086956522,
          0.4347826086956522,
          0.4347826086956522,
          0.4347826086956522,
          0.4347826086956522,
          0.4347826086956522,
          0.4347826086956522,
          0.4347826086956522,
          0.4347826086956522,
          0.4347826086956522,
          0.4347826086956522,
          0.4347826086956522,
          0.4347826086956522,
          0.4347826086956522,
          0.4347826086956522,
          0.4347826086956522,
          0.4347826086956522,
          0.3856332703213611,
          0.3856332703213611,
          0.3856332703213611,
          0.3856332703213611,
          0.3856332703213611,
          0.3856332703213611,
          0.3856332703213611,
          0.3856332703213611,
          0.3856332703213611,
          0.3856332703213611,
          0.3856332703213611,
          0.3856332703213611,
          0.3856332703213611,
          0.3856332703213611,
          0.3856332703213611,
          0.3856332703213611,
          0.3856332703213611,
          0.3856332703213611,
          0.3856332703213611,
          0.3856332703213611,
          0.3856332703213611,
          0.3856332703213611,
          0.3856332703213611,
          0.3856332703213611,
          0.3856332703213611,
          0.3856332703213611,
          0.3856332703213611,
          0.3856332703213611,
          0.3856332703213611,
          0.3516068052930057,
          0.3516068052930057,
          0.3516068052930057,
          0.3516068052930057,
          0.3516068052930057,
          0.3516068052930057,
          0.3516068052930057,
          0.3516068052930057,
          0.3516068052930057,
          0.3516068052930057,
          0.3516068052930057,
          0.3516068052930057,
          0.3516068052930057,
          0.3516068052930057,
          0.3516068052930057,
          0.3516068052930057,
          0.3516068052930057,
          0.3516068052930057,
          0.3516068052930057,
          0.3516068052930057,
          0.3516068052930057,
          0.3516068052930057,
          0.3516068052930057,
          0.3516068052930057,
          0.3516068052930057,
          0.3516068052930057,
          0.3516068052930057,
          0.3516068052930057,
          0.3516068052930057,
          0.3516068052930057,
          0.3516068052930057,
          0.3516068052930057,
          0.3516068052930057,
          0.3308128544423441,
          0.3308128544423441,
          0.3308128544423441,
          0.3308128544423441,
          0.3308128544423441,
          0.3308128544423441,
          0.3308128544423441,
          0.3308128544423441,
          0.3308128544423441,
          0.3308128544423441,
          0.3308128544423441,
          0.31568998109640833,
          0.31568998109640833,
          0.28355387523629494,
          0.28355387523629494,
          0.28355387523629494,
          0.28355387523629494,
          0.28355387523629494,
          0.28355387523629494,
          0.28355387523629494,
          0.28355387523629494,
          0.28355387523629494,
          0.28355387523629494,
          0.28355387523629494,
          0.28355387523629494,
          0.28355387523629494,
          0.28355387523629494,
          0.28355387523629494,
          0.28355387523629494,
          0.28355387523629494,
          0.28355387523629494,
          0.28355387523629494,
          0.28355387523629494,
          0.28355387523629494,
          0.28355387523629494,
          0.28355387523629494,
          0.28355387523629494,
          0.28355387523629494,
          0.28355387523629494,
          0.28355387523629494,
          0.28355387523629494,
          0.28355387523629494,
          0.28355387523629494,
          0.28355387523629494,
          0.28355387523629494,
          0.28355387523629494,
          0.28355387523629494,
          0.28355387523629494,
          0.28355387523629494,
          0.28355387523629494,
          0.28355387523629494,
          0.28355387523629494,
          0.28355387523629494,
          0.28355387523629494,
          0.28355387523629494,
          0.28355387523629494,
          0.28355387523629494,
          0.28355387523629494,
          0.28355387523629494,
          0.28355387523629494,
          0.28355387523629494,
          0.28355387523629494,
          0.28355387523629494,
          0.28355387523629494,
          0.28355387523629494,
          0.28355387523629494,
          0.28355387523629494,
          0.28355387523629494,
          0.28355387523629494,
          0.28355387523629494,
          0.28355387523629494,
          0.28355387523629494,
          0.28355387523629494,
          0.28355387523629494,
          0.28355387523629494,
          0.28355387523629494,
          0.28355387523629494,
          0.28355387523629494,
          0.28355387523629494,
          0.275992438563327,
          0.275992438563327,
          0.275992438563327,
          0.275992438563327,
          0.275992438563327,
          0.275992438563327,
          0.275992438563327,
          0.275992438563327,
          0.275992438563327,
          0.275992438563327,
          0.275992438563327,
          0.275992438563327,
          0.275992438563327,
          0.275992438563327,
          0.275992438563327,
          0.275992438563327,
          0.275992438563327,
          0.24952741020793956,
          0.24952741020793956,
          0.24952741020793956,
          0.24952741020793956,
          0.24952741020793956,
          0.24952741020793956,
          0.24952741020793956,
          0.24952741020793956,
          0.24952741020793956,
          0.24952741020793956,
          0.24952741020793956,
          0.24952741020793956,
          0.24952741020793956,
          0.24952741020793956,
          0.24952741020793956,
          0.24952741020793956,
          0.24952741020793956,
          0.24952741020793956,
          0.24952741020793956,
          0.24952741020793956,
          0.24952741020793956,
          0.24952741020793956,
          0.24952741020793956,
          0.24952741020793956,
          0.24952741020793956,
          0.24952741020793956,
          0.24952741020793956,
          0.24952741020793956,
          0.24952741020793956,
          0.24952741020793956,
          0.24952741020793956,
          0.24952741020793956,
          0.24952741020793956,
          0.24952741020793956,
          0.24952741020793956,
          0.24952741020793956,
          0.24952741020793956,
          0.24952741020793956,
          0.24952741020793956,
          0.24952741020793956,
          0.24952741020793956,
          0.24952741020793956,
          0.24952741020793956,
          0.24952741020793956,
          0.24952741020793956,
          0.24952741020793956,
          0.24952741020793956,
          0.24952741020793956,
          0.24952741020793956,
          0.24952741020793956,
          0.24952741020793956,
          0.24952741020793956,
          0.24952741020793956,
          0.24952741020793956,
          0.24952741020793956,
          0.24952741020793956,
          0.24952741020793956,
          0.24952741020793956,
          0.24952741020793956,
          0.24952741020793956,
          0.24952741020793956,
          0.24952741020793956,
          0.24952741020793956,
          0.24952741020793956,
          0.20982986767485823,
          0.20982986767485823,
          0.20982986767485823,
          0.20982986767485823,
          0.20982986767485823,
          0.20982986767485823,
          0.20982986767485823,
          0.20982986767485823,
          0.20982986767485823,
          0.20982986767485823,
          0.20982986767485823,
          0.20982986767485823,
          0.20982986767485823,
          0.20982986767485823,
          0.20982986767485823,
          0.20982986767485823,
          0.20982986767485823,
          0.20982986767485823,
          0.20982986767485823,
          0.20982986767485823,
          0.20982986767485823,
          0.20982986767485823,
          0.20982986767485823,
          0.20982986767485823,
          0.15500945179584125,
          0.15500945179584125,
          0.15500945179584125,
          0.15500945179584125,
          0.15500945179584125,
          0.15500945179584125,
          0.15500945179584125,
          0.1285444234404537,
          0.1285444234404537,
          0.1285444234404537,
          0.1285444234404537,
          0.1285444234404537,
          0.1285444234404537,
          0.1285444234404537,
          0.1285444234404537,
          0.1285444234404537,
          0.1285444234404537,
          0.1285444234404537,
          0.1285444234404537,
          0.1285444234404537,
          0.1285444234404537,
          0.1285444234404537,
          0.1285444234404537,
          0.1285444234404537,
          0.1285444234404537,
          0.1285444234404537,
          0.1285444234404537
         ],
         "y": [
          0.38829787234042556,
          0.6545454545454545,
          0.7111111111111111,
          0.7530864197530864,
          0.7837837837837838,
          0.791044776119403,
          0.7878787878787878,
          0.7777777777777778,
          0.7796610169491526,
          0.7818181818181819,
          0.7818181818181819,
          0.7884615384615384,
          0.7884615384615384,
          0.8200000000000001,
          0.8200000000000001,
          0.8163265306122449,
          0.8125,
          0.8085106382978724,
          0.8085106382978724,
          0.8,
          0.8,
          0.8,
          0.8,
          0.8181818181818181,
          0.813953488372093,
          0.8048780487804879,
          0.8048780487804879,
          0.8,
          0.8,
          0.8157894736842105,
          0.8108108108108107,
          0.8108108108108107,
          0.8108108108108107,
          0.8529411764705882,
          0.8529411764705882,
          0.8529411764705882,
          0.8529411764705882,
          0.8484848484848485,
          0.8484848484848485,
          0.8484848484848485,
          0.8484848484848485,
          0.8484848484848485,
          0.8484848484848485,
          0.8484848484848485,
          0.8484848484848485,
          0.8484848484848485,
          0.8484848484848485,
          0.8484848484848485,
          0.8484848484848485,
          0.8484848484848485,
          0.84375,
          0.84375,
          0.8387096774193549,
          0.8387096774193549,
          0.8620689655172413,
          0.8620689655172413,
          0.8620689655172413,
          0.8620689655172413,
          0.8571428571428572,
          0.8571428571428572,
          0.8571428571428572,
          0.8571428571428572,
          0.8571428571428572,
          0.8571428571428572,
          0.8571428571428572,
          0.8518518518518519,
          0.8518518518518519,
          0.8518518518518519,
          0.8518518518518519,
          0.8518518518518519,
          0.8518518518518519,
          0.8518518518518519,
          0.8518518518518519,
          0.8518518518518519,
          0.8461538461538461,
          0.8461538461538461,
          0.8461538461538461,
          0.8461538461538461,
          0.8461538461538461,
          0.8461538461538461,
          0.8461538461538461,
          0.8461538461538461,
          0.88,
          0.88,
          0.88,
          0.88,
          0.88,
          0.88,
          0.875,
          0.875,
          0.875,
          0.8695652173913043,
          0.8695652173913043,
          0.8695652173913043,
          0.9090909090909091,
          0.9047619047619048,
          0.9047619047619048,
          0.9047619047619048,
          0.9047619047619048,
          0.9047619047619048,
          0.9047619047619048,
          0.9047619047619048,
          0.9047619047619048,
          0.9047619047619048,
          0.9,
          0.9,
          0.9,
          0.9,
          0.9,
          0.9,
          0.9,
          0.9,
          0.9,
          0.9,
          0.9,
          0.9,
          0.9,
          0.9,
          0.9,
          0.9,
          0.9,
          0.9,
          0.9,
          0.9,
          0.9,
          0.9,
          0.9,
          0.9,
          0.9,
          0.9473684210526316,
          0.9473684210526316,
          0.9473684210526316,
          0.9444444444444444,
          0.9444444444444444,
          0.9444444444444444,
          0.9444444444444444,
          0.9444444444444444,
          0.9444444444444444,
          0.9444444444444444,
          0.9444444444444444,
          0.9444444444444444,
          0.9444444444444444,
          0.9444444444444444,
          0.9444444444444444,
          0.9444444444444444,
          0.9444444444444444,
          0.9444444444444444,
          0.9444444444444444,
          0.9444444444444444,
          0.9444444444444444,
          0.9444444444444444,
          0.9444444444444444,
          0.9444444444444444,
          0.9444444444444444,
          0.9444444444444444,
          0.9444444444444444,
          0.9444444444444444,
          0.9444444444444444,
          0.9444444444444444,
          0.9444444444444444,
          0.9444444444444444,
          0.9444444444444444,
          0.9444444444444444,
          0.9444444444444444,
          0.9444444444444444,
          0.9444444444444444,
          0.9411764705882353,
          0.9411764705882353,
          0.9411764705882353,
          0.9411764705882353,
          0.9411764705882353,
          0.9411764705882353,
          0.9411764705882353,
          0.9411764705882353,
          0.9411764705882353,
          0.9411764705882353,
          0.9411764705882353,
          0.9411764705882353,
          0.9411764705882353,
          0.9411764705882353,
          0.9411764705882353,
          0.9411764705882353,
          0.9411764705882353,
          0.9411764705882353,
          0.9411764705882353,
          0.9411764705882353,
          0.9411764705882353,
          0.9411764705882353,
          0.9411764705882353,
          0.9411764705882353,
          0.9411764705882353,
          0.9411764705882353,
          0.9411764705882353,
          0.9411764705882353,
          0.9411764705882353,
          0.9411764705882353,
          0.9411764705882353,
          0.9411764705882353,
          0.9411764705882353,
          0.9411764705882353,
          0.9411764705882353,
          0.9411764705882353,
          0.9411764705882353,
          0.9411764705882353,
          0.9411764705882353,
          0.9411764705882353,
          0.9411764705882353,
          0.9411764705882353,
          0.9411764705882353,
          0.9375,
          0.9375,
          0.9375,
          0.9375,
          0.9375,
          0.9375,
          0.9375,
          0.9375,
          0.9375,
          0.9375,
          0.9375,
          0.9375,
          0.9375,
          0.9375,
          0.9375,
          0.9375,
          0.9375,
          0.9375,
          0.9333333333333333,
          0.9333333333333333,
          0.9333333333333333,
          0.9333333333333333,
          0.9333333333333333,
          0.9333333333333333,
          0.9333333333333333,
          0.9333333333333333,
          0.9333333333333333,
          0.9333333333333333,
          0.9333333333333333,
          0.9333333333333333,
          0.9333333333333333,
          0.9333333333333333,
          0.9333333333333333,
          0.9333333333333333,
          0.9333333333333333,
          0.9333333333333333,
          0.9333333333333333,
          0.9333333333333333,
          0.9333333333333333,
          0.9333333333333333,
          0.9333333333333333,
          0.9333333333333333,
          0.9333333333333333,
          0.9333333333333333,
          0.9333333333333333,
          0.9333333333333333,
          0.9333333333333333,
          0.9285714285714286,
          0.9285714285714286,
          0.9285714285714286,
          0.9285714285714286,
          0.9285714285714286,
          0.9285714285714286,
          0.9285714285714286,
          0.9285714285714286,
          1,
          1,
          1,
          1,
          1,
          1,
          1,
          1,
          1,
          1,
          1,
          1,
          1,
          1,
          1,
          1,
          1,
          1,
          1,
          1,
          1,
          1,
          1,
          1,
          1,
          1,
          1,
          1,
          1,
          1,
          1,
          1,
          1,
          1,
          1,
          1,
          1,
          1,
          1,
          1,
          1,
          1,
          1,
          1,
          1,
          1,
          1,
          1,
          1,
          1,
          1,
          1,
          1,
          1,
          1,
          1,
          1,
          1,
          1,
          1,
          1,
          1,
          1,
          1,
          1,
          1,
          1,
          1,
          1,
          1,
          1,
          1,
          1,
          1,
          1,
          1,
          1,
          1,
          1,
          1,
          1,
          1,
          1,
          1,
          1,
          1,
          1,
          1,
          1,
          1,
          1,
          1,
          1,
          1,
          1,
          1,
          1,
          1,
          1,
          1,
          1,
          1,
          1,
          1,
          1,
          1,
          1,
          1,
          1,
          1,
          1,
          1,
          1,
          1,
          1,
          1,
          1,
          1,
          1,
          1,
          1,
          1,
          1,
          1,
          1,
          1,
          1,
          1,
          1,
          1,
          1,
          1,
          1,
          1,
          1,
          1,
          1,
          1,
          1,
          1,
          1,
          1,
          1,
          1,
          1,
          1,
          1,
          1,
          1,
          1,
          1,
          1,
          1,
          1,
          1,
          1,
          1,
          1,
          1,
          1,
          1,
          1,
          1,
          1,
          1,
          1,
          1,
          1,
          1,
          1,
          1,
          1,
          1,
          1,
          1,
          1,
          1,
          1,
          1,
          1,
          1,
          1,
          1,
          1,
          1,
          1,
          1,
          1,
          1,
          1,
          1,
          1,
          1,
          1,
          1,
          1,
          1,
          1,
          1,
          1,
          1,
          1,
          1,
          1,
          1,
          1,
          1,
          1,
          1,
          1,
          1,
          1,
          1,
          1,
          1,
          1,
          1,
          1,
          1,
          1,
          1,
          1,
          1,
          1,
          1,
          1,
          1,
          1,
          1,
          1,
          1,
          1,
          1,
          1,
          1,
          1
         ]
        }
       ],
       "layout": {
        "template": {
         "data": {
          "bar": [
           {
            "error_x": {
             "color": "#2a3f5f"
            },
            "error_y": {
             "color": "#2a3f5f"
            },
            "marker": {
             "line": {
              "color": "#E5ECF6",
              "width": 0.5
             }
            },
            "type": "bar"
           }
          ],
          "barpolar": [
           {
            "marker": {
             "line": {
              "color": "#E5ECF6",
              "width": 0.5
             }
            },
            "type": "barpolar"
           }
          ],
          "carpet": [
           {
            "aaxis": {
             "endlinecolor": "#2a3f5f",
             "gridcolor": "white",
             "linecolor": "white",
             "minorgridcolor": "white",
             "startlinecolor": "#2a3f5f"
            },
            "baxis": {
             "endlinecolor": "#2a3f5f",
             "gridcolor": "white",
             "linecolor": "white",
             "minorgridcolor": "white",
             "startlinecolor": "#2a3f5f"
            },
            "type": "carpet"
           }
          ],
          "choropleth": [
           {
            "colorbar": {
             "outlinewidth": 0,
             "ticks": ""
            },
            "type": "choropleth"
           }
          ],
          "contour": [
           {
            "colorbar": {
             "outlinewidth": 0,
             "ticks": ""
            },
            "colorscale": [
             [
              0,
              "#0d0887"
             ],
             [
              0.1111111111111111,
              "#46039f"
             ],
             [
              0.2222222222222222,
              "#7201a8"
             ],
             [
              0.3333333333333333,
              "#9c179e"
             ],
             [
              0.4444444444444444,
              "#bd3786"
             ],
             [
              0.5555555555555556,
              "#d8576b"
             ],
             [
              0.6666666666666666,
              "#ed7953"
             ],
             [
              0.7777777777777778,
              "#fb9f3a"
             ],
             [
              0.8888888888888888,
              "#fdca26"
             ],
             [
              1,
              "#f0f921"
             ]
            ],
            "type": "contour"
           }
          ],
          "contourcarpet": [
           {
            "colorbar": {
             "outlinewidth": 0,
             "ticks": ""
            },
            "type": "contourcarpet"
           }
          ],
          "heatmap": [
           {
            "colorbar": {
             "outlinewidth": 0,
             "ticks": ""
            },
            "colorscale": [
             [
              0,
              "#0d0887"
             ],
             [
              0.1111111111111111,
              "#46039f"
             ],
             [
              0.2222222222222222,
              "#7201a8"
             ],
             [
              0.3333333333333333,
              "#9c179e"
             ],
             [
              0.4444444444444444,
              "#bd3786"
             ],
             [
              0.5555555555555556,
              "#d8576b"
             ],
             [
              0.6666666666666666,
              "#ed7953"
             ],
             [
              0.7777777777777778,
              "#fb9f3a"
             ],
             [
              0.8888888888888888,
              "#fdca26"
             ],
             [
              1,
              "#f0f921"
             ]
            ],
            "type": "heatmap"
           }
          ],
          "heatmapgl": [
           {
            "colorbar": {
             "outlinewidth": 0,
             "ticks": ""
            },
            "colorscale": [
             [
              0,
              "#0d0887"
             ],
             [
              0.1111111111111111,
              "#46039f"
             ],
             [
              0.2222222222222222,
              "#7201a8"
             ],
             [
              0.3333333333333333,
              "#9c179e"
             ],
             [
              0.4444444444444444,
              "#bd3786"
             ],
             [
              0.5555555555555556,
              "#d8576b"
             ],
             [
              0.6666666666666666,
              "#ed7953"
             ],
             [
              0.7777777777777778,
              "#fb9f3a"
             ],
             [
              0.8888888888888888,
              "#fdca26"
             ],
             [
              1,
              "#f0f921"
             ]
            ],
            "type": "heatmapgl"
           }
          ],
          "histogram": [
           {
            "marker": {
             "colorbar": {
              "outlinewidth": 0,
              "ticks": ""
             }
            },
            "type": "histogram"
           }
          ],
          "histogram2d": [
           {
            "colorbar": {
             "outlinewidth": 0,
             "ticks": ""
            },
            "colorscale": [
             [
              0,
              "#0d0887"
             ],
             [
              0.1111111111111111,
              "#46039f"
             ],
             [
              0.2222222222222222,
              "#7201a8"
             ],
             [
              0.3333333333333333,
              "#9c179e"
             ],
             [
              0.4444444444444444,
              "#bd3786"
             ],
             [
              0.5555555555555556,
              "#d8576b"
             ],
             [
              0.6666666666666666,
              "#ed7953"
             ],
             [
              0.7777777777777778,
              "#fb9f3a"
             ],
             [
              0.8888888888888888,
              "#fdca26"
             ],
             [
              1,
              "#f0f921"
             ]
            ],
            "type": "histogram2d"
           }
          ],
          "histogram2dcontour": [
           {
            "colorbar": {
             "outlinewidth": 0,
             "ticks": ""
            },
            "colorscale": [
             [
              0,
              "#0d0887"
             ],
             [
              0.1111111111111111,
              "#46039f"
             ],
             [
              0.2222222222222222,
              "#7201a8"
             ],
             [
              0.3333333333333333,
              "#9c179e"
             ],
             [
              0.4444444444444444,
              "#bd3786"
             ],
             [
              0.5555555555555556,
              "#d8576b"
             ],
             [
              0.6666666666666666,
              "#ed7953"
             ],
             [
              0.7777777777777778,
              "#fb9f3a"
             ],
             [
              0.8888888888888888,
              "#fdca26"
             ],
             [
              1,
              "#f0f921"
             ]
            ],
            "type": "histogram2dcontour"
           }
          ],
          "mesh3d": [
           {
            "colorbar": {
             "outlinewidth": 0,
             "ticks": ""
            },
            "type": "mesh3d"
           }
          ],
          "parcoords": [
           {
            "line": {
             "colorbar": {
              "outlinewidth": 0,
              "ticks": ""
             }
            },
            "type": "parcoords"
           }
          ],
          "pie": [
           {
            "automargin": true,
            "type": "pie"
           }
          ],
          "scatter": [
           {
            "marker": {
             "colorbar": {
              "outlinewidth": 0,
              "ticks": ""
             }
            },
            "type": "scatter"
           }
          ],
          "scatter3d": [
           {
            "line": {
             "colorbar": {
              "outlinewidth": 0,
              "ticks": ""
             }
            },
            "marker": {
             "colorbar": {
              "outlinewidth": 0,
              "ticks": ""
             }
            },
            "type": "scatter3d"
           }
          ],
          "scattercarpet": [
           {
            "marker": {
             "colorbar": {
              "outlinewidth": 0,
              "ticks": ""
             }
            },
            "type": "scattercarpet"
           }
          ],
          "scattergeo": [
           {
            "marker": {
             "colorbar": {
              "outlinewidth": 0,
              "ticks": ""
             }
            },
            "type": "scattergeo"
           }
          ],
          "scattergl": [
           {
            "marker": {
             "colorbar": {
              "outlinewidth": 0,
              "ticks": ""
             }
            },
            "type": "scattergl"
           }
          ],
          "scattermapbox": [
           {
            "marker": {
             "colorbar": {
              "outlinewidth": 0,
              "ticks": ""
             }
            },
            "type": "scattermapbox"
           }
          ],
          "scatterpolar": [
           {
            "marker": {
             "colorbar": {
              "outlinewidth": 0,
              "ticks": ""
             }
            },
            "type": "scatterpolar"
           }
          ],
          "scatterpolargl": [
           {
            "marker": {
             "colorbar": {
              "outlinewidth": 0,
              "ticks": ""
             }
            },
            "type": "scatterpolargl"
           }
          ],
          "scatterternary": [
           {
            "marker": {
             "colorbar": {
              "outlinewidth": 0,
              "ticks": ""
             }
            },
            "type": "scatterternary"
           }
          ],
          "surface": [
           {
            "colorbar": {
             "outlinewidth": 0,
             "ticks": ""
            },
            "colorscale": [
             [
              0,
              "#0d0887"
             ],
             [
              0.1111111111111111,
              "#46039f"
             ],
             [
              0.2222222222222222,
              "#7201a8"
             ],
             [
              0.3333333333333333,
              "#9c179e"
             ],
             [
              0.4444444444444444,
              "#bd3786"
             ],
             [
              0.5555555555555556,
              "#d8576b"
             ],
             [
              0.6666666666666666,
              "#ed7953"
             ],
             [
              0.7777777777777778,
              "#fb9f3a"
             ],
             [
              0.8888888888888888,
              "#fdca26"
             ],
             [
              1,
              "#f0f921"
             ]
            ],
            "type": "surface"
           }
          ],
          "table": [
           {
            "cells": {
             "fill": {
              "color": "#EBF0F8"
             },
             "line": {
              "color": "white"
             }
            },
            "header": {
             "fill": {
              "color": "#C8D4E3"
             },
             "line": {
              "color": "white"
             }
            },
            "type": "table"
           }
          ]
         },
         "layout": {
          "annotationdefaults": {
           "arrowcolor": "#2a3f5f",
           "arrowhead": 0,
           "arrowwidth": 1
          },
          "autotypenumbers": "strict",
          "coloraxis": {
           "colorbar": {
            "outlinewidth": 0,
            "ticks": ""
           }
          },
          "colorscale": {
           "diverging": [
            [
             0,
             "#8e0152"
            ],
            [
             0.1,
             "#c51b7d"
            ],
            [
             0.2,
             "#de77ae"
            ],
            [
             0.3,
             "#f1b6da"
            ],
            [
             0.4,
             "#fde0ef"
            ],
            [
             0.5,
             "#f7f7f7"
            ],
            [
             0.6,
             "#e6f5d0"
            ],
            [
             0.7,
             "#b8e186"
            ],
            [
             0.8,
             "#7fbc41"
            ],
            [
             0.9,
             "#4d9221"
            ],
            [
             1,
             "#276419"
            ]
           ],
           "sequential": [
            [
             0,
             "#0d0887"
            ],
            [
             0.1111111111111111,
             "#46039f"
            ],
            [
             0.2222222222222222,
             "#7201a8"
            ],
            [
             0.3333333333333333,
             "#9c179e"
            ],
            [
             0.4444444444444444,
             "#bd3786"
            ],
            [
             0.5555555555555556,
             "#d8576b"
            ],
            [
             0.6666666666666666,
             "#ed7953"
            ],
            [
             0.7777777777777778,
             "#fb9f3a"
            ],
            [
             0.8888888888888888,
             "#fdca26"
            ],
            [
             1,
             "#f0f921"
            ]
           ],
           "sequentialminus": [
            [
             0,
             "#0d0887"
            ],
            [
             0.1111111111111111,
             "#46039f"
            ],
            [
             0.2222222222222222,
             "#7201a8"
            ],
            [
             0.3333333333333333,
             "#9c179e"
            ],
            [
             0.4444444444444444,
             "#bd3786"
            ],
            [
             0.5555555555555556,
             "#d8576b"
            ],
            [
             0.6666666666666666,
             "#ed7953"
            ],
            [
             0.7777777777777778,
             "#fb9f3a"
            ],
            [
             0.8888888888888888,
             "#fdca26"
            ],
            [
             1,
             "#f0f921"
            ]
           ]
          },
          "colorway": [
           "#636efa",
           "#EF553B",
           "#00cc96",
           "#ab63fa",
           "#FFA15A",
           "#19d3f3",
           "#FF6692",
           "#B6E880",
           "#FF97FF",
           "#FECB52"
          ],
          "font": {
           "color": "#2a3f5f"
          },
          "geo": {
           "bgcolor": "white",
           "lakecolor": "white",
           "landcolor": "#E5ECF6",
           "showlakes": true,
           "showland": true,
           "subunitcolor": "white"
          },
          "hoverlabel": {
           "align": "left"
          },
          "hovermode": "closest",
          "mapbox": {
           "style": "light"
          },
          "paper_bgcolor": "white",
          "plot_bgcolor": "#E5ECF6",
          "polar": {
           "angularaxis": {
            "gridcolor": "white",
            "linecolor": "white",
            "ticks": ""
           },
           "bgcolor": "#E5ECF6",
           "radialaxis": {
            "gridcolor": "white",
            "linecolor": "white",
            "ticks": ""
           }
          },
          "scene": {
           "xaxis": {
            "backgroundcolor": "#E5ECF6",
            "gridcolor": "white",
            "gridwidth": 2,
            "linecolor": "white",
            "showbackground": true,
            "ticks": "",
            "zerolinecolor": "white"
           },
           "yaxis": {
            "backgroundcolor": "#E5ECF6",
            "gridcolor": "white",
            "gridwidth": 2,
            "linecolor": "white",
            "showbackground": true,
            "ticks": "",
            "zerolinecolor": "white"
           },
           "zaxis": {
            "backgroundcolor": "#E5ECF6",
            "gridcolor": "white",
            "gridwidth": 2,
            "linecolor": "white",
            "showbackground": true,
            "ticks": "",
            "zerolinecolor": "white"
           }
          },
          "shapedefaults": {
           "line": {
            "color": "#2a3f5f"
           }
          },
          "ternary": {
           "aaxis": {
            "gridcolor": "white",
            "linecolor": "white",
            "ticks": ""
           },
           "baxis": {
            "gridcolor": "white",
            "linecolor": "white",
            "ticks": ""
           },
           "bgcolor": "#E5ECF6",
           "caxis": {
            "gridcolor": "white",
            "linecolor": "white",
            "ticks": ""
           }
          },
          "title": {
           "x": 0.05
          },
          "xaxis": {
           "automargin": true,
           "gridcolor": "white",
           "linecolor": "white",
           "ticks": "",
           "title": {
            "standoff": 15
           },
           "zerolinecolor": "white",
           "zerolinewidth": 2
          },
          "yaxis": {
           "automargin": true,
           "gridcolor": "white",
           "linecolor": "white",
           "ticks": "",
           "title": {
            "standoff": 15
           },
           "zerolinecolor": "white",
           "zerolinewidth": 2
          }
         }
        }
       }
      }
     },
     "metadata": {}
    }
   ],
   "source": [
    "print(len(hit_miss_rate[0]))\n",
    "fig = go.Figure(data=go.Scatter(x=hit_miss_rate[0], y=hit_miss_rate[1], mode=\"lines+markers\"))\n",
    "fig.show()\n"
   ]
  },
  {
   "cell_type": "code",
   "execution_count": 11,
   "metadata": {},
   "outputs": [
    {
     "output_type": "error",
     "ename": "AttributeError",
     "evalue": "'str' object has no attribute 'type'",
     "traceback": [
      "\u001b[0;31m---------------------------------------------------------------------------\u001b[0m",
      "\u001b[0;31mAttributeError\u001b[0m                            Traceback (most recent call last)",
      "\u001b[0;32m<ipython-input-11-5cbe5068dd1d>\u001b[0m in \u001b[0;36m<module>\u001b[0;34m\u001b[0m\n\u001b[1;32m     10\u001b[0m \u001b[0;32mfor\u001b[0m \u001b[0mhome\u001b[0m \u001b[0;32min\u001b[0m \u001b[0mdraw\u001b[0m\u001b[0;34m:\u001b[0m\u001b[0;34m\u001b[0m\u001b[0;34m\u001b[0m\u001b[0m\n\u001b[1;32m     11\u001b[0m     \u001b[0;32mfor\u001b[0m \u001b[0md\u001b[0m \u001b[0;32min\u001b[0m \u001b[0mdraw\u001b[0m\u001b[0;34m[\u001b[0m\u001b[0mhome\u001b[0m\u001b[0;34m]\u001b[0m\u001b[0;34m:\u001b[0m\u001b[0;34m\u001b[0m\u001b[0;34m\u001b[0m\u001b[0m\n\u001b[0;32m---> 12\u001b[0;31m         \u001b[0mr_tree\u001b[0m \u001b[0;34m=\u001b[0m \u001b[0mindex\u001b[0m\u001b[0;34m.\u001b[0m\u001b[0mIndex\u001b[0m\u001b[0;34m(\u001b[0m\u001b[0mproperties\u001b[0m\u001b[0;34m=\u001b[0m\u001b[0mp\u001b[0m\u001b[0;34m)\u001b[0m\u001b[0;34m\u001b[0m\u001b[0;34m\u001b[0m\u001b[0m\n\u001b[0m\u001b[1;32m     13\u001b[0m         \u001b[0;32mfor\u001b[0m \u001b[0mi\u001b[0m\u001b[0;34m,\u001b[0m\u001b[0mx\u001b[0m \u001b[0;32min\u001b[0m \u001b[0menumerate\u001b[0m\u001b[0;34m(\u001b[0m\u001b[0mhabit_groups\u001b[0m\u001b[0;34m[\u001b[0m\u001b[0mhome\u001b[0m\u001b[0;34m]\u001b[0m\u001b[0;34m[\u001b[0m\u001b[0md\u001b[0m\u001b[0;34m]\u001b[0m\u001b[0;34m)\u001b[0m\u001b[0;34m:\u001b[0m\u001b[0;34m\u001b[0m\u001b[0;34m\u001b[0m\u001b[0m\n\u001b[1;32m     14\u001b[0m             \u001b[0mbound\u001b[0m \u001b[0;34m=\u001b[0m \u001b[0mx\u001b[0m\u001b[0;34m[\u001b[0m\u001b[0;34m\"box\"\u001b[0m\u001b[0;34m]\u001b[0m\u001b[0;34m[\u001b[0m\u001b[0;36m0\u001b[0m\u001b[0;34m]\u001b[0m \u001b[0;34m+\u001b[0m \u001b[0mx\u001b[0m\u001b[0;34m[\u001b[0m\u001b[0;34m\"box\"\u001b[0m\u001b[0;34m]\u001b[0m\u001b[0;34m[\u001b[0m\u001b[0;36m1\u001b[0m\u001b[0;34m]\u001b[0m\u001b[0;34m\u001b[0m\u001b[0;34m\u001b[0m\u001b[0m\n",
      "\u001b[0;32m~/protemp/MPC/ConflictDetection/venv/lib/python3.7/site-packages/rtree/index.py\u001b[0m in \u001b[0;36m__init__\u001b[0;34m(self, *args, **kwargs)\u001b[0m\n\u001b[1;32m    199\u001b[0m         \u001b[0mself\u001b[0m\u001b[0;34m.\u001b[0m\u001b[0mproperties\u001b[0m \u001b[0;34m=\u001b[0m \u001b[0mkwargs\u001b[0m\u001b[0;34m.\u001b[0m\u001b[0mget\u001b[0m\u001b[0;34m(\u001b[0m\u001b[0;34m'properties'\u001b[0m\u001b[0;34m,\u001b[0m \u001b[0mProperty\u001b[0m\u001b[0;34m(\u001b[0m\u001b[0;34m)\u001b[0m\u001b[0;34m)\u001b[0m\u001b[0;34m\u001b[0m\u001b[0;34m\u001b[0m\u001b[0m\n\u001b[1;32m    200\u001b[0m \u001b[0;34m\u001b[0m\u001b[0m\n\u001b[0;32m--> 201\u001b[0;31m         \u001b[0;32mif\u001b[0m \u001b[0mself\u001b[0m\u001b[0;34m.\u001b[0m\u001b[0mproperties\u001b[0m\u001b[0;34m.\u001b[0m\u001b[0mtype\u001b[0m \u001b[0;34m==\u001b[0m \u001b[0mRT_TPRTree\u001b[0m\u001b[0;31m \u001b[0m\u001b[0;31m\\\u001b[0m\u001b[0;34m\u001b[0m\u001b[0;34m\u001b[0m\u001b[0m\n\u001b[0m\u001b[1;32m    202\u001b[0m                 \u001b[0;32mand\u001b[0m \u001b[0;32mnot\u001b[0m \u001b[0mhasattr\u001b[0m\u001b[0;34m(\u001b[0m\u001b[0mcore\u001b[0m\u001b[0;34m.\u001b[0m\u001b[0mrt\u001b[0m\u001b[0;34m,\u001b[0m \u001b[0;34m'Index_InsertTPData'\u001b[0m\u001b[0;34m)\u001b[0m\u001b[0;34m:\u001b[0m\u001b[0;34m\u001b[0m\u001b[0;34m\u001b[0m\u001b[0m\n\u001b[1;32m    203\u001b[0m             raise RuntimeError(\n",
      "\u001b[0;31mAttributeError\u001b[0m: 'str' object has no attribute 'type'"
     ]
    }
   ],
   "source": [
    "from rtree import index\n",
    "\n",
    "\n",
    "draw = {\n",
    "    \"HomeA/2016\": [\"Range\"],\n",
    "    \"HomeG/2016\": [\"Range\"],\n",
    "}\n",
    "fig = make_subplots(rows=sum([len(draw[x]) for x in draw]), cols=1)\n",
    "p = index.Property()\n",
    "p.dimension = len(ctx_info.get_all_ctx_ordered())\n",
    "row_id = 1\n",
    "for home in draw:\n",
    "    for d in draw[home]:\n",
    "        r_tree = index.Index(properties=p)\n",
    "        for i,x in enumerate(habit_groups[home][d]):\n",
    "            bound = x[\"box\"][0] + x[\"box\"][1] \n",
    "            r_tree.insert(id=i, coordinates=bound, obj=sum(x[\"dis\"]))\n",
    "        on_rate_group = np.full(ctx_info.get_ctx_space_shape(), -0.1)\n",
    "\n",
    "        for i in range(ctx_info.get_ctx_space_shape()[0]):\n",
    "            for j in range(ctx_info.get_ctx_space_shape()[1]):\n",
    "                result = list(r_tree.intersection([i,j,i,j], objects=True))\n",
    "\n",
    "                on_rate_group[i,j] = result[0].object\n",
    "        fig.append_trace(\n",
    "            go.Heatmap(z=np.transpose(on_rate_group)),\n",
    "            row_id, 1\n",
    "        )\n",
    "        row_id += 1\n",
    "fig.show()"
   ]
  },
  {
   "cell_type": "code",
   "execution_count": null,
   "metadata": {},
   "outputs": [],
   "source": []
  },
  {
   "cell_type": "code",
   "execution_count": null,
   "metadata": {},
   "outputs": [],
   "source": []
  }
 ]
}
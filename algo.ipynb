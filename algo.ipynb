{
 "metadata": {
  "language_info": {
   "codemirror_mode": {
    "name": "ipython",
    "version": 3
   },
   "file_extension": ".py",
   "mimetype": "text/x-python",
   "name": "python",
   "nbconvert_exporter": "python",
   "pygments_lexer": "ipython3",
   "version": "3.7.6"
  },
  "orig_nbformat": 2,
  "kernelspec": {
   "name": "pythonjvsc74a57bd04fe898ffcadce6da2343864bf819ed3269e46dcfc725e07ab6320af456fe33e5",
   "display_name": "Python 3.7.6  ('venv': venv)"
  },
  "metadata": {
   "interpreter": {
    "hash": "4fe898ffcadce6da2343864bf819ed3269e46dcfc725e07ab6320af456fe33e5"
   }
  }
 },
 "nbformat": 4,
 "nbformat_minor": 2,
 "cells": [
  {
   "cell_type": "code",
   "execution_count": 1,
   "metadata": {},
   "outputs": [],
   "source": [
    "import json\n",
    "import os\n",
    "import numpy as np\n",
    "import math\n",
    "from typing import Dict, List, Tuple\n",
    "import copy\n",
    "\n",
    "from datetime import timedelta\n",
    "from config import *\n",
    "from utils import *\n",
    "from main import *\n",
    "from GtConflictFinder import GtConflictFinder\n",
    "from ConflictDetector import ConflictDetector\n",
    "\n",
    "import plotly.graph_objects as go\n",
    "from plotly.subplots import make_subplots\n",
    "test_projects = [\n",
    "    \"HomeA/2016\",\n",
    "    \"HomeB/2016\",\n",
    "    \"HomeC/2016\",\n",
    "    \"HomeD/2016\",\n",
    "    \"HomeF/2016\",\n",
    "    \"HomeG/2016\",\n",
    "]\n",
    "ctx_info = ContextAccessor({\n",
    "            TIME_CTX: {\n",
    "                \"range\" : (0, 24*60),\n",
    "                \"interval\" : 20,\n",
    "            },\n",
    "            # \"humidity#NUM\" : {\n",
    "            #     \"range\" : (0., 1.0),\n",
    "            #     \"interval\" : 0.1,\n",
    "            # },\n",
    "            # \"apparentTemperature#NUM\" : {\n",
    "            #     \"range\" : (-10., 100),\n",
    "            #     \"interval\" : 10,\n",
    "            # },\n",
    "            \"summary#CAT\": {},\n",
    "            WEEKDAY_CTX: {\n",
    "                \"range\": (0, 6),\n",
    "                \"interval\": 1,\n",
    "            },\n",
    "        })\n",
    "capacity = {\n",
    "    \"Range\" : 2,\n",
    "    \"Microwave\": 1,\n",
    "    \"LivingLights\": 0,\n",
    "    \"HomeOffice\": 1,\n",
    "    \"WashingMachine\": 1,\n",
    "}\n"
   ]
  },
  {
   "cell_type": "code",
   "execution_count": 2,
   "metadata": {},
   "outputs": [
    {
     "output_type": "stream",
     "name": "stderr",
     "text": [
      "DEBUG:root:The number of device events from processed file: {'Range': 377, 'Microwave': 931, 'LivingLights': 1099, 'HomeOffice': 997}\n",
      "DEBUG:root:The number of context events from processed file: {'apparentTemperature#NUM': 6119, 'temperature#NUM': 6119, 'humidity#NUM': 5418, 'summary#CAT': 1835}\n",
      "DEBUG:root:The number of device events from processed file: {'LivingLights': 1384, 'Microwave': 619}\n",
      "DEBUG:root:The number of context events from processed file: {'apparentTemperature#NUM': 6112, 'temperature#NUM': 6118, 'humidity#NUM': 5422, 'summary#CAT': 1290}\n",
      "DEBUG:root:The number of device events from processed file: {'HomeOffice': 746, 'Microwave': 1425, 'LivingLights': 1283}\n",
      "DEBUG:root:The number of context events from processed file: {'apparentTemperature#NUM': 6115, 'temperature#NUM': 6112, 'humidity#NUM': 5404, 'summary#CAT': 1322}\n",
      "DEBUG:root:The number of device events from processed file: {'Microwave': 929, 'LivingLights': 831, 'WashingMachine': 215, 'Range': 871}\n",
      "DEBUG:root:The number of context events from processed file: {'apparentTemperature#NUM': 6141, 'temperature#NUM': 6133, 'humidity#NUM': 5460, 'summary#CAT': 1761}\n",
      "DEBUG:root:The number of device events from processed file: {'Microwave': 3127, 'WashingMachine': 383}\n",
      "DEBUG:root:The number of context events from processed file: {'apparentTemperature#NUM': 6123, 'temperature#NUM': 6121, 'humidity#NUM': 5424, 'summary#CAT': 1338}\n",
      "DEBUG:root:The number of device events from processed file: {'LivingLights': 1331, 'HomeOffice': 813, 'Range': 83, 'Microwave': 1791}\n",
      "DEBUG:root:The number of context events from processed file: {'apparentTemperature#NUM': 6135, 'temperature#NUM': 6134, 'humidity#NUM': 5426, 'summary#CAT': 1473}\n"
     ]
    },
    {
     "output_type": "error",
     "ename": "ValueError",
     "evalue": "'Breezy and Overcast' is not in list",
     "traceback": [
      "\u001b[0;31m---------------------------------------------------------------------------\u001b[0m",
      "\u001b[0;31mValueError\u001b[0m                                Traceback (most recent call last)",
      "\u001b[0;32m<ipython-input-2-29db06678fef>\u001b[0m in \u001b[0;36m<module>\u001b[0;34m\u001b[0m\n\u001b[1;32m      1\u001b[0m \u001b[0mhabit_groups\u001b[0m \u001b[0;34m=\u001b[0m \u001b[0;34m{\u001b[0m\u001b[0;34m}\u001b[0m\u001b[0;34m\u001b[0m\u001b[0;34m\u001b[0m\u001b[0m\n\u001b[1;32m      2\u001b[0m \u001b[0;32mfor\u001b[0m \u001b[0mp\u001b[0m \u001b[0;32min\u001b[0m \u001b[0mtest_projects\u001b[0m\u001b[0;34m:\u001b[0m\u001b[0;34m\u001b[0m\u001b[0;34m\u001b[0m\u001b[0m\n\u001b[0;32m----> 3\u001b[0;31m     \u001b[0mhabit_groups\u001b[0m\u001b[0;34m[\u001b[0m\u001b[0mp\u001b[0m\u001b[0;34m]\u001b[0m\u001b[0;34m,\u001b[0m \u001b[0m_\u001b[0m \u001b[0;34m=\u001b[0m \u001b[0mtest_umass\u001b[0m\u001b[0;34m(\u001b[0m\u001b[0mtest_project\u001b[0m\u001b[0;34m=\u001b[0m\u001b[0mp\u001b[0m\u001b[0;34m,\u001b[0m \u001b[0mctx_info\u001b[0m\u001b[0;34m=\u001b[0m\u001b[0mctx_info\u001b[0m\u001b[0;34m,\u001b[0m\u001b[0mtrain_ratio\u001b[0m\u001b[0;34m=\u001b[0m\u001b[0;36m0.7\u001b[0m\u001b[0;34m)\u001b[0m\u001b[0;34m\u001b[0m\u001b[0;34m\u001b[0m\u001b[0m\n\u001b[0m",
      "\u001b[0;32m~/protemp/MPC/ConflictDetection/main.py\u001b[0m in \u001b[0;36mtest_umass\u001b[0;34m(test_project, ctx_info, train_ratio)\u001b[0m\n\u001b[1;32m     75\u001b[0m     }\n\u001b[1;32m     76\u001b[0m     \u001b[0mp_builder\u001b[0m \u001b[0;34m=\u001b[0m \u001b[0mGridPatternBuilder\u001b[0m\u001b[0;34m(\u001b[0m\u001b[0mgrid_pattern_cfg\u001b[0m\u001b[0;34m)\u001b[0m\u001b[0;34m\u001b[0m\u001b[0;34m\u001b[0m\u001b[0m\n\u001b[0;32m---> 77\u001b[0;31m     \u001b[0;32mreturn\u001b[0m \u001b[0mp_builder\u001b[0m\u001b[0;34m.\u001b[0m\u001b[0mmine_patterns\u001b[0m\u001b[0;34m(\u001b[0m\u001b[0mctx_evts\u001b[0m\u001b[0;34m,\u001b[0m \u001b[0mdevice_evts\u001b[0m\u001b[0;34m)\u001b[0m\u001b[0;34m\u001b[0m\u001b[0;34m\u001b[0m\u001b[0m\n\u001b[0m\u001b[1;32m     78\u001b[0m \u001b[0;34m\u001b[0m\u001b[0m\n\u001b[1;32m     79\u001b[0m \u001b[0;34m\u001b[0m\u001b[0m\n",
      "\u001b[0;32m~/protemp/MPC/ConflictDetection/GridPatternBuilder.py\u001b[0m in \u001b[0;36mmine_patterns\u001b[0;34m(self, ctx_evts, device_evts)\u001b[0m\n\u001b[1;32m    158\u001b[0m     \u001b[0;32mdef\u001b[0m \u001b[0mmine_patterns\u001b[0m\u001b[0;34m(\u001b[0m\u001b[0mself\u001b[0m\u001b[0;34m,\u001b[0m \u001b[0mctx_evts\u001b[0m\u001b[0;34m:\u001b[0m \u001b[0mDict\u001b[0m\u001b[0;34m,\u001b[0m \u001b[0mdevice_evts\u001b[0m\u001b[0;34m:\u001b[0m \u001b[0mDict\u001b[0m\u001b[0;34m)\u001b[0m\u001b[0;34m:\u001b[0m\u001b[0;34m\u001b[0m\u001b[0;34m\u001b[0m\u001b[0m\n\u001b[1;32m    159\u001b[0m         \u001b[0mself\u001b[0m\u001b[0;34m.\u001b[0m\u001b[0mpreprocess\u001b[0m\u001b[0;34m(\u001b[0m\u001b[0mctx_evts\u001b[0m\u001b[0;34m,\u001b[0m \u001b[0mdevice_evts\u001b[0m\u001b[0;34m)\u001b[0m\u001b[0;34m\u001b[0m\u001b[0;34m\u001b[0m\u001b[0m\n\u001b[0;32m--> 160\u001b[0;31m         \u001b[0mdevice_patterns\u001b[0m \u001b[0;34m=\u001b[0m \u001b[0mself\u001b[0m\u001b[0;34m.\u001b[0m\u001b[0mbuild_device_pattern_mat\u001b[0m\u001b[0;34m(\u001b[0m\u001b[0mctx_evts\u001b[0m\u001b[0;34m,\u001b[0m \u001b[0mdevice_evts\u001b[0m\u001b[0;34m)\u001b[0m\u001b[0;34m\u001b[0m\u001b[0;34m\u001b[0m\u001b[0m\n\u001b[0m\u001b[1;32m    161\u001b[0m \u001b[0;34m\u001b[0m\u001b[0m\n\u001b[1;32m    162\u001b[0m         \u001b[0mhabit_groups\u001b[0m \u001b[0;34m=\u001b[0m  \u001b[0mself\u001b[0m\u001b[0;34m.\u001b[0m\u001b[0mbuild_habit_groups\u001b[0m\u001b[0;34m(\u001b[0m\u001b[0mdevice_patterns\u001b[0m\u001b[0;34m)\u001b[0m\u001b[0;34m\u001b[0m\u001b[0;34m\u001b[0m\u001b[0m\n",
      "\u001b[0;32m~/protemp/MPC/ConflictDetection/GridPatternBuilder.py\u001b[0m in \u001b[0;36mbuild_device_pattern_mat\u001b[0;34m(self, ctx_evts, device_evts)\u001b[0m\n\u001b[1;32m     90\u001b[0m                 cell = self.process_snapshot(space_mat, \n\u001b[1;32m     91\u001b[0m                             \u001b[0mcur_time\u001b[0m\u001b[0;34m,\u001b[0m \u001b[0mctx_snapshot\u001b[0m\u001b[0;34m,\u001b[0m\u001b[0;34m\u001b[0m\u001b[0;34m\u001b[0m\u001b[0m\n\u001b[0;32m---> 92\u001b[0;31m                             self.device_state_mapping[d][d_state])  \n\u001b[0m\u001b[1;32m     93\u001b[0m                 \u001b[0;32mif\u001b[0m \u001b[0mcell\u001b[0m\u001b[0;34m:\u001b[0m\u001b[0;34m\u001b[0m\u001b[0;34m\u001b[0m\u001b[0m\n\u001b[1;32m     94\u001b[0m                     \u001b[0mcell_to_process\u001b[0m\u001b[0;34m.\u001b[0m\u001b[0mappend\u001b[0m\u001b[0;34m(\u001b[0m\u001b[0mcell\u001b[0m\u001b[0;34m)\u001b[0m\u001b[0;34m\u001b[0m\u001b[0;34m\u001b[0m\u001b[0m\n",
      "\u001b[0;32m~/protemp/MPC/ConflictDetection/GridPatternBuilder.py\u001b[0m in \u001b[0;36mprocess_snapshot\u001b[0;34m(self, space_mat, cur_time, ctx_snapshot, d_state)\u001b[0m\n\u001b[1;32m     51\u001b[0m \u001b[0;34m\u001b[0m\u001b[0m\n\u001b[1;32m     52\u001b[0m     \u001b[0;32mdef\u001b[0m \u001b[0mprocess_snapshot\u001b[0m\u001b[0;34m(\u001b[0m\u001b[0mself\u001b[0m\u001b[0;34m,\u001b[0m \u001b[0mspace_mat\u001b[0m\u001b[0;34m,\u001b[0m \u001b[0mcur_time\u001b[0m\u001b[0;34m,\u001b[0m \u001b[0mctx_snapshot\u001b[0m\u001b[0;34m,\u001b[0m \u001b[0md_state\u001b[0m \u001b[0;34m:\u001b[0m \u001b[0mint\u001b[0m\u001b[0;34m)\u001b[0m\u001b[0;34m:\u001b[0m\u001b[0;34m\u001b[0m\u001b[0;34m\u001b[0m\u001b[0m\n\u001b[0;32m---> 53\u001b[0;31m         \u001b[0mcell_idx\u001b[0m \u001b[0;34m=\u001b[0m \u001b[0mself\u001b[0m\u001b[0;34m.\u001b[0m\u001b[0mctx_accessor\u001b[0m\u001b[0;34m.\u001b[0m\u001b[0mget_coor_by_ctx\u001b[0m\u001b[0;34m(\u001b[0m\u001b[0mctx_snapshot\u001b[0m\u001b[0;34m)\u001b[0m\u001b[0;34m\u001b[0m\u001b[0;34m\u001b[0m\u001b[0m\n\u001b[0m\u001b[1;32m     54\u001b[0m         \u001b[0mspace_mat\u001b[0m\u001b[0;34m[\u001b[0m\u001b[0mcell_idx\u001b[0m\u001b[0;34m]\u001b[0m\u001b[0;34m[\u001b[0m\u001b[0md_state\u001b[0m\u001b[0;34m]\u001b[0m \u001b[0;34m+=\u001b[0m \u001b[0;36m1\u001b[0m\u001b[0;34m\u001b[0m\u001b[0;34m\u001b[0m\u001b[0m\n\u001b[1;32m     55\u001b[0m \u001b[0;34m\u001b[0m\u001b[0m\n",
      "\u001b[0;32m~/protemp/MPC/ConflictDetection/ContextAccessor.py\u001b[0m in \u001b[0;36mget_coor_by_ctx\u001b[0;34m(self, ctx_val)\u001b[0m\n\u001b[1;32m     52\u001b[0m         cell_idx = tuple([\n\u001b[1;32m     53\u001b[0m             \u001b[0mself\u001b[0m\u001b[0;34m.\u001b[0m\u001b[0mget_ctx_idx\u001b[0m\u001b[0;34m(\u001b[0m\u001b[0mk\u001b[0m\u001b[0;34m,\u001b[0m \u001b[0mctx_val\u001b[0m\u001b[0;34m[\u001b[0m\u001b[0mk\u001b[0m\u001b[0;34m]\u001b[0m\u001b[0;34m)\u001b[0m\u001b[0;34m\u001b[0m\u001b[0;34m\u001b[0m\u001b[0m\n\u001b[0;32m---> 54\u001b[0;31m             \u001b[0;32mfor\u001b[0m \u001b[0mk\u001b[0m \u001b[0;32min\u001b[0m \u001b[0mctx_val\u001b[0m\u001b[0;34m\u001b[0m\u001b[0;34m\u001b[0m\u001b[0m\n\u001b[0m\u001b[1;32m     55\u001b[0m         ])\n\u001b[1;32m     56\u001b[0m         \u001b[0;32mreturn\u001b[0m \u001b[0mcell_idx\u001b[0m\u001b[0;34m\u001b[0m\u001b[0;34m\u001b[0m\u001b[0m\n",
      "\u001b[0;32m~/protemp/MPC/ConflictDetection/ContextAccessor.py\u001b[0m in \u001b[0;36m<listcomp>\u001b[0;34m(.0)\u001b[0m\n\u001b[1;32m     52\u001b[0m         cell_idx = tuple([\n\u001b[1;32m     53\u001b[0m             \u001b[0mself\u001b[0m\u001b[0;34m.\u001b[0m\u001b[0mget_ctx_idx\u001b[0m\u001b[0;34m(\u001b[0m\u001b[0mk\u001b[0m\u001b[0;34m,\u001b[0m \u001b[0mctx_val\u001b[0m\u001b[0;34m[\u001b[0m\u001b[0mk\u001b[0m\u001b[0;34m]\u001b[0m\u001b[0;34m)\u001b[0m\u001b[0;34m\u001b[0m\u001b[0;34m\u001b[0m\u001b[0m\n\u001b[0;32m---> 54\u001b[0;31m             \u001b[0;32mfor\u001b[0m \u001b[0mk\u001b[0m \u001b[0;32min\u001b[0m \u001b[0mctx_val\u001b[0m\u001b[0;34m\u001b[0m\u001b[0;34m\u001b[0m\u001b[0m\n\u001b[0m\u001b[1;32m     55\u001b[0m         ])\n\u001b[1;32m     56\u001b[0m         \u001b[0;32mreturn\u001b[0m \u001b[0mcell_idx\u001b[0m\u001b[0;34m\u001b[0m\u001b[0;34m\u001b[0m\u001b[0m\n",
      "\u001b[0;32m~/protemp/MPC/ConflictDetection/ContextAccessor.py\u001b[0m in \u001b[0;36mget_ctx_idx\u001b[0;34m(self, ctx_name, ctx_val)\u001b[0m\n\u001b[1;32m     45\u001b[0m     \u001b[0;32mdef\u001b[0m \u001b[0mget_ctx_idx\u001b[0m\u001b[0;34m(\u001b[0m\u001b[0mself\u001b[0m\u001b[0;34m,\u001b[0m \u001b[0mctx_name\u001b[0m\u001b[0;34m,\u001b[0m \u001b[0mctx_val\u001b[0m\u001b[0;34m)\u001b[0m \u001b[0;34m->\u001b[0m \u001b[0mint\u001b[0m\u001b[0;34m:\u001b[0m\u001b[0;34m\u001b[0m\u001b[0;34m\u001b[0m\u001b[0m\n\u001b[1;32m     46\u001b[0m         \u001b[0;32mif\u001b[0m \u001b[0mCATEGORICAL_CTX_SUFFIX\u001b[0m \u001b[0;32min\u001b[0m \u001b[0mctx_name\u001b[0m\u001b[0;34m:\u001b[0m\u001b[0;34m\u001b[0m\u001b[0;34m\u001b[0m\u001b[0m\n\u001b[0;32m---> 47\u001b[0;31m             \u001b[0;32mreturn\u001b[0m \u001b[0mCAT_CTX_ORDER\u001b[0m\u001b[0;34m[\u001b[0m\u001b[0mctx_name\u001b[0m\u001b[0;34m]\u001b[0m\u001b[0;34m.\u001b[0m\u001b[0mindex\u001b[0m\u001b[0;34m(\u001b[0m\u001b[0mctx_val\u001b[0m\u001b[0;34m)\u001b[0m\u001b[0;34m\u001b[0m\u001b[0;34m\u001b[0m\u001b[0m\n\u001b[0m\u001b[1;32m     48\u001b[0m         \u001b[0mr\u001b[0m \u001b[0;34m=\u001b[0m \u001b[0mself\u001b[0m\u001b[0;34m.\u001b[0m\u001b[0mget_ctx_range\u001b[0m\u001b[0;34m(\u001b[0m\u001b[0mctx_name\u001b[0m\u001b[0;34m)\u001b[0m\u001b[0;34m\u001b[0m\u001b[0;34m\u001b[0m\u001b[0m\n\u001b[1;32m     49\u001b[0m         \u001b[0;32mreturn\u001b[0m \u001b[0mint\u001b[0m\u001b[0;34m(\u001b[0m\u001b[0;34m(\u001b[0m\u001b[0mctx_val\u001b[0m \u001b[0;34m-\u001b[0m \u001b[0mr\u001b[0m\u001b[0;34m[\u001b[0m\u001b[0;36m0\u001b[0m\u001b[0;34m]\u001b[0m\u001b[0;34m)\u001b[0m \u001b[0;34m/\u001b[0m \u001b[0mself\u001b[0m\u001b[0;34m.\u001b[0m \u001b[0mget_ctx_interval\u001b[0m\u001b[0;34m(\u001b[0m\u001b[0mctx_name\u001b[0m\u001b[0;34m)\u001b[0m\u001b[0;34m)\u001b[0m\u001b[0;34m\u001b[0m\u001b[0;34m\u001b[0m\u001b[0m\n",
      "\u001b[0;31mValueError\u001b[0m: 'Breezy and Overcast' is not in list"
     ]
    }
   ],
   "source": [
    "habit_groups = {}\n",
    "for p in test_projects:\n",
    "    habit_groups[p], _ = test_umass(test_project=p, ctx_info=ctx_info,train_ratio=0.7)"
   ]
  },
  {
   "cell_type": "code",
   "execution_count": null,
   "metadata": {},
   "outputs": [],
   "source": [
    "#Exps:\n",
    "#   1. Contrived environment with injected conflicts:\n",
    "#   2. Real dataset with groundtruth conflicts:\n",
    "#   3. observations about the algorithm: with different threshold, different capacity for the devices, different number of users."
   ]
  },
  {
   "cell_type": "code",
   "execution_count": null,
   "metadata": {},
   "outputs": [],
   "source": [
    "for home, groups in habit_groups.items():\n",
    "    print(\"The habit groups found in {}\".format(home))\n",
    "    for d, d_groups in groups.items():\n",
    "        print(d + \" \" + str(len(d_groups)))\n"
   ]
  },
  {
   "cell_type": "code",
   "execution_count": 5,
   "metadata": {
    "tags": []
   },
   "outputs": [
    {
     "output_type": "stream",
     "name": "stdout",
     "text": [
      "{'Range': 0, 'Microwave': 48, 'LivingLights': 0, 'HomeOffice': 79, 'WashingMachine': 23}\n"
     ]
    }
   ],
   "source": [
    "c_detector = ConflictDetector(ctx_info, capacity)\n",
    "final_conflicts = c_detector.predict_conflict_scenarios(habit_groups)\n",
    "print({x:len(final_conflicts[x]) for x in final_conflicts})"
   ]
  },
  {
   "cell_type": "code",
   "execution_count": 8,
   "metadata": {
    "tags": []
   },
   "outputs": [],
   "source": [
    "import plotly.express as px\n",
    "probs = [(x[\"box\"],x[\"prob\"]) for x in final_conflicts[\"Microwave\"]]\n",
    "# print(probs)\n",
    "# fig = px.histogram(probs)\n",
    "# fig.show()"
   ]
  },
  {
   "cell_type": "code",
   "execution_count": 9,
   "metadata": {},
   "outputs": [
    {
     "output_type": "stream",
     "name": "stdout",
     "text": [
      "1663\n"
     ]
    }
   ],
   "source": [
    "import copy\n",
    "# Make ground truth:\n",
    "ratio = 0.3\n",
    "device_events = {}\n",
    "for p in test_projects:\n",
    "    ctx_evts, device_evts = load_processed(p)\n",
    "    device_events[p] = device_evts\n",
    "\n",
    "gtconflict_cfg = {\n",
    "    \"context_info\": ctx_info,\n",
    "    \"capacity\": capacity\n",
    "}\n",
    "\n",
    "conflict_finder = GtConflictFinder(gtconflict_cfg)\n",
    "conflicts = conflict_finder.get_Gt_conflict(ctx_evts, device_events)\n",
    "print(len(conflicts))"
   ]
  },
  {
   "cell_type": "code",
   "execution_count": 10,
   "metadata": {
    "tags": []
   },
   "outputs": [
    {
     "output_type": "stream",
     "name": "stdout",
     "text": [
      "2016-01-01 15:07:00\n2016-12-29 16:48:00\n2016-09-11 18:41:42\n{'Range': 0, 'Microwave': 197, 'LivingLights': 0, 'HomeOffice': 319, 'WashingMachine': 13}\n"
     ]
    }
   ],
   "source": [
    "import plotly.express as px\n",
    "\n",
    "TEST_RATIO = 0.3\n",
    "conflict_time = [x['cur_time'] for x in conflicts]\n",
    "end_time = max(conflict_time)\n",
    "start_time = min(conflict_time)\n",
    "print(start_time)\n",
    "print(end_time)\n",
    "total_time_range = end_time - start_time\n",
    "test_start = end_time - total_time_range * TEST_RATIO\n",
    "print(test_start)\n",
    "\n",
    "conflict_device = {\n",
    "    d:[]\n",
    "    for d in capacity\n",
    "}\n",
    "for c in conflicts:\n",
    "    if c[\"cur_time\"] > test_start:\n",
    "        conflict_device[c[\"device\"]].append(c)\n",
    "print({d:len(c) for d,c in conflict_device.items()})\n"
   ]
  },
  {
   "cell_type": "code",
   "execution_count": 11,
   "metadata": {
    "tags": []
   },
   "outputs": [
    {
     "output_type": "stream",
     "name": "stdout",
     "text": [
      "{'Range': 0, 'Microwave': 8, 'LivingLights': 0, 'HomeOffice': 31, 'WashingMachine': 0}\n{'Range': [0, 0], 'Microwave': [15, 33], 'LivingLights': [0, 0], 'HomeOffice': [29, 50], 'WashingMachine': [20, 3]}\n"
     ]
    }
   ],
   "source": [
    "\n",
    "missed_gt_conflicts = {d:[] for d in conflict_device}\n",
    "hit_gt_conflicts = {d:{} for d in conflict_device}\n",
    "for d in final_conflicts:\n",
    "    hit_gt_conflicts[d] = {i:0 for i in range(len(final_conflicts[d]))}\n",
    "for d, conflicts in conflict_device.items():\n",
    "    for c in conflicts:\n",
    "        coor = ctx_info.get_coor_by_ctx(c[\"ctx\"])\n",
    "        flag = False\n",
    "        for idx,c_predict in enumerate(final_conflicts[d]):\n",
    "            if does_contain_point(c_predict[\"box\"], coor):\n",
    "                flag = True\n",
    "                hit_gt_conflicts[d][idx] += 1\n",
    "                break\n",
    "        if not flag:\n",
    "            missed_gt_conflicts[d].append(c)\n",
    "print({d:len(missed_gt_conflicts[d]) for d in missed_gt_conflicts})\n",
    "hit_count = {d:[0,0] for d in hit_gt_conflicts}\n",
    "for d,hit_c in hit_gt_conflicts.items():\n",
    "    for i,h in hit_c.items():\n",
    "        if h == 0:\n",
    "            hit_count[d][0] += 1\n",
    "        else:\n",
    "            hit_count[d][1] += 1\n",
    "print(hit_count)"
   ]
  },
  {
   "cell_type": "code",
   "execution_count": 10,
   "metadata": {},
   "outputs": [
    {
     "output_type": "display_data",
     "data": {
      "application/vnd.plotly.v1+json": {
       "config": {
        "plotlyServerURL": "https://plot.ly"
       },
       "data": [
        {
         "mode": "markers",
         "type": "scatter",
         "x": [
          47,
          47,
          48,
          48,
          49,
          50,
          37,
          41,
          41,
          42,
          43,
          44,
          44,
          45,
          46,
          58,
          64,
          65,
          65,
          66,
          66,
          67,
          69,
          50,
          38,
          39,
          39,
          40,
          40,
          60,
          61,
          61,
          62,
          43,
          43,
          44,
          44,
          45,
          45,
          46,
          64,
          64,
          65,
          65,
          44,
          45,
          45,
          49,
          63,
          63,
          64,
          64,
          65,
          65,
          66,
          57,
          60,
          60,
          63,
          41,
          41,
          42,
          42,
          61,
          63,
          64,
          65,
          64,
          64,
          65,
          65,
          66,
          66,
          67,
          67,
          31,
          32,
          32,
          33,
          33,
          34,
          34,
          35,
          35,
          36,
          36,
          37,
          48,
          49,
          49,
          50,
          50,
          51,
          48,
          48,
          65,
          65,
          66,
          66,
          67,
          67,
          68,
          68,
          69,
          28,
          28,
          29,
          29,
          30,
          30,
          33,
          33,
          34,
          34,
          65,
          66,
          44,
          45,
          45,
          46,
          46,
          47,
          47,
          47,
          48,
          48,
          49,
          49,
          50,
          50,
          51,
          60,
          65,
          66,
          66,
          67,
          48,
          65,
          65,
          65,
          61,
          61,
          28,
          62,
          63,
          63,
          69,
          69,
          62,
          62,
          63,
          63,
          64,
          64,
          58,
          59,
          59,
          60,
          60,
          61,
          61,
          62,
          62,
          63,
          63,
          64,
          64,
          65,
          65,
          51,
          66,
          67,
          24,
          25,
          25,
          26,
          27,
          27,
          28,
          28,
          29,
          29,
          30,
          30,
          33,
          33,
          34,
          34,
          35,
          35,
          36,
          62,
          62,
          63,
          63,
          64,
          64,
          65,
          44,
          44,
          45,
          61,
          62,
          62,
          63,
          63,
          64,
          64,
          26,
          26,
          27,
          42,
          43,
          44,
          57,
          57,
          60,
          61,
          61,
          61,
          62,
          62,
          63,
          63,
          64,
          64,
          65,
          65,
          66,
          27,
          28,
          44,
          44,
          45,
          45,
          65,
          65,
          66,
          66,
          40,
          40,
          48,
          48,
          49,
          49,
          49,
          50,
          50,
          51,
          51,
          52,
          52,
          52,
          52,
          53,
          53,
          54,
          54,
          50,
          50,
          51,
          51,
          56,
          57,
          57,
          58,
          58,
          44,
          60,
          60,
          61,
          28,
          29,
          29,
          58,
          59,
          59,
          60,
          60,
          61,
          61,
          62,
          62,
          63,
          63,
          64,
          64,
          48,
          42,
          42,
          43,
          43,
          44,
          64,
          65,
          65,
          66,
          66,
          67,
          63,
          64,
          65,
          65,
          57,
          39,
          40,
          40,
          41,
          41,
          42,
          42,
          43,
          43,
          49,
          49,
          50,
          50,
          63,
          52
         ],
         "y": [
          7,
          7,
          8,
          8,
          8,
          8,
          8,
          8,
          8,
          8,
          8,
          8,
          8,
          8,
          8,
          8,
          7,
          7,
          7,
          7,
          7,
          7,
          7,
          9,
          7,
          7,
          7,
          7,
          7,
          6,
          6,
          6,
          6,
          7,
          7,
          7,
          7,
          7,
          7,
          7,
          5,
          5,
          5,
          5,
          7,
          8,
          8,
          7,
          6,
          6,
          6,
          6,
          6,
          6,
          6,
          6,
          6,
          6,
          6,
          7,
          7,
          8,
          8,
          6,
          6,
          6,
          6,
          7,
          7,
          7,
          7,
          7,
          7,
          7,
          7,
          7,
          7,
          7,
          7,
          7,
          7,
          7,
          7,
          7,
          8,
          8,
          8,
          8,
          8,
          8,
          8,
          8,
          8,
          7,
          7,
          6,
          6,
          6,
          6,
          6,
          6,
          6,
          6,
          6,
          6,
          6,
          6,
          6,
          7,
          7,
          7,
          7,
          7,
          7,
          7,
          7,
          5,
          4,
          4,
          4,
          4,
          4,
          4,
          4,
          4,
          4,
          4,
          4,
          4,
          4,
          4,
          4,
          4,
          4,
          4,
          4,
          6,
          6,
          6,
          6,
          4,
          4,
          4,
          6,
          6,
          6,
          5,
          5,
          5,
          5,
          5,
          5,
          5,
          5,
          6,
          6,
          6,
          6,
          6,
          6,
          6,
          6,
          6,
          6,
          6,
          6,
          6,
          6,
          6,
          4,
          4,
          4,
          5,
          5,
          5,
          5,
          6,
          6,
          6,
          6,
          6,
          6,
          6,
          6,
          6,
          6,
          6,
          6,
          6,
          6,
          6,
          4,
          4,
          4,
          4,
          4,
          4,
          4,
          5,
          5,
          5,
          4,
          4,
          4,
          3,
          3,
          3,
          3,
          4,
          4,
          5,
          6,
          6,
          6,
          4,
          4,
          4,
          4,
          5,
          5,
          5,
          5,
          5,
          5,
          5,
          5,
          5,
          5,
          4,
          3,
          3,
          4,
          4,
          3,
          3,
          3,
          3,
          3,
          3,
          3,
          3,
          3,
          3,
          3,
          3,
          3,
          3,
          3,
          3,
          3,
          3,
          3,
          3,
          3,
          3,
          3,
          3,
          3,
          4,
          4,
          4,
          4,
          4,
          4,
          4,
          4,
          4,
          5,
          5,
          5,
          5,
          5,
          5,
          5,
          5,
          5,
          5,
          5,
          5,
          5,
          5,
          5,
          5,
          5,
          5,
          5,
          5,
          5,
          5,
          5,
          5,
          5,
          5,
          4,
          4,
          4,
          4,
          4,
          4,
          3,
          3,
          3,
          3,
          3,
          4,
          4,
          4,
          4,
          4,
          4,
          4,
          4,
          4,
          4,
          4,
          4,
          4,
          2,
          1
         ]
        },
        {
         "marker": {
          "color": "red"
         },
         "mode": "markers",
         "type": "scatter",
         "x": [
          47,
          47,
          41,
          41,
          44,
          44,
          45,
          45,
          46,
          49,
          48,
          48,
          67,
          67,
          66,
          66,
          67,
          65,
          65,
          65,
          51,
          30,
          30,
          33,
          33,
          34,
          34,
          35,
          35,
          36,
          44,
          44,
          48,
          48,
          49,
          49,
          49,
          50,
          50,
          51,
          51,
          52,
          52,
          52,
          52,
          53,
          53,
          54,
          54,
          50,
          50,
          51,
          51,
          44,
          48,
          63,
          64,
          63,
          52
         ],
         "y": [
          7,
          7,
          8,
          8,
          7,
          7,
          7,
          7,
          7,
          7,
          7,
          7,
          6,
          6,
          4,
          4,
          4,
          6,
          6,
          6,
          4,
          6,
          6,
          6,
          6,
          6,
          6,
          6,
          6,
          6,
          4,
          4,
          3,
          3,
          3,
          3,
          3,
          3,
          3,
          3,
          3,
          3,
          3,
          3,
          3,
          3,
          3,
          3,
          3,
          4,
          4,
          4,
          4,
          5,
          5,
          3,
          3,
          2,
          1
         ]
        }
       ],
       "layout": {
        "shapes": [
         {
          "line": {
           "color": "RoyalBlue"
          },
          "type": "rect",
          "x0": 63,
          "x1": 6,
          "y0": 4,
          "y1": 63
         },
         {
          "line": {
           "color": "RoyalBlue"
          },
          "type": "rect",
          "x0": 63,
          "x1": 0,
          "y0": 4,
          "y1": 63
         },
         {
          "line": {
           "color": "RoyalBlue"
          },
          "type": "rect",
          "x0": 63,
          "x1": 0,
          "y0": 7,
          "y1": 64
         },
         {
          "line": {
           "color": "RoyalBlue"
          },
          "type": "rect",
          "x0": 63,
          "x1": 0,
          "y0": 3,
          "y1": 64
         },
         {
          "line": {
           "color": "RoyalBlue"
          },
          "type": "rect",
          "x0": 63,
          "x1": 1,
          "y0": 6,
          "y1": 64
         },
         {
          "line": {
           "color": "RoyalBlue"
          },
          "type": "rect",
          "x0": 63,
          "x1": 2,
          "y0": 7,
          "y1": 64
         },
         {
          "line": {
           "color": "RoyalBlue"
          },
          "type": "rect",
          "x0": 63,
          "x1": 2,
          "y0": 5,
          "y1": 63
         },
         {
          "line": {
           "color": "RoyalBlue"
          },
          "type": "rect",
          "x0": 63,
          "x1": 3,
          "y0": 5,
          "y1": 63
         },
         {
          "line": {
           "color": "RoyalBlue"
          },
          "type": "rect",
          "x0": 63,
          "x1": 4,
          "y0": 7,
          "y1": 63
         },
         {
          "line": {
           "color": "RoyalBlue"
          },
          "type": "rect",
          "x0": 63,
          "x1": 4,
          "y0": 6,
          "y1": 64
         },
         {
          "line": {
           "color": "RoyalBlue"
          },
          "type": "rect",
          "x0": 63,
          "x1": 4,
          "y0": 3,
          "y1": 63
         },
         {
          "line": {
           "color": "RoyalBlue"
          },
          "type": "rect",
          "x0": 63,
          "x1": 5,
          "y0": 3,
          "y1": 64
         },
         {
          "line": {
           "color": "RoyalBlue"
          },
          "type": "rect",
          "x0": 63,
          "x1": 5,
          "y0": 3,
          "y1": 63
         },
         {
          "line": {
           "color": "RoyalBlue"
          },
          "type": "rect",
          "x0": 63,
          "x1": 5,
          "y0": 6,
          "y1": 64
         },
         {
          "line": {
           "color": "RoyalBlue"
          },
          "type": "rect",
          "x0": 63,
          "x1": 5,
          "y0": 7,
          "y1": 63
         },
         {
          "line": {
           "color": "RoyalBlue"
          },
          "type": "rect",
          "x0": 63,
          "x1": 5,
          "y0": 7,
          "y1": 64
         },
         {
          "line": {
           "color": "RoyalBlue"
          },
          "type": "rect",
          "x0": 63,
          "x1": 6,
          "y0": 5,
          "y1": 64
         },
         {
          "line": {
           "color": "RoyalBlue"
          },
          "type": "rect",
          "x0": 63,
          "x1": 6,
          "y0": 3,
          "y1": 65
         },
         {
          "line": {
           "color": "RoyalBlue"
          },
          "type": "rect",
          "x0": 63,
          "x1": 6,
          "y0": 7,
          "y1": 64
         },
         {
          "line": {
           "color": "RoyalBlue"
          },
          "type": "rect",
          "x0": 64,
          "x1": 5,
          "y0": 4,
          "y1": 64
         },
         {
          "line": {
           "color": "RoyalBlue"
          },
          "type": "rect",
          "x0": 64,
          "x1": 6,
          "y0": 4,
          "y1": 64
         },
         {
          "line": {
           "color": "RoyalBlue"
          },
          "type": "rect",
          "x0": 64,
          "x1": 2,
          "y0": 5,
          "y1": 64
         },
         {
          "line": {
           "color": "RoyalBlue"
          },
          "type": "rect",
          "x0": 64,
          "x1": 6,
          "y0": 4,
          "y1": 65
         },
         {
          "line": {
           "color": "RoyalBlue"
          },
          "type": "rect",
          "x0": 64,
          "x1": 1,
          "y0": 7,
          "y1": 65
         },
         {
          "line": {
           "color": "RoyalBlue"
          },
          "type": "rect",
          "x0": 64,
          "x1": 0,
          "y0": 6,
          "y1": 64
         },
         {
          "line": {
           "color": "RoyalBlue"
          },
          "type": "rect",
          "x0": 64,
          "x1": 5,
          "y0": 7,
          "y1": 64
         },
         {
          "line": {
           "color": "RoyalBlue"
          },
          "type": "rect",
          "x0": 64,
          "x1": 5,
          "y0": 8,
          "y1": 65
         },
         {
          "line": {
           "color": "RoyalBlue"
          },
          "type": "rect",
          "x0": 64,
          "x1": 6,
          "y0": 8,
          "y1": 65
         },
         {
          "line": {
           "color": "RoyalBlue"
          },
          "type": "rect",
          "x0": 64,
          "x1": 4,
          "y0": 4,
          "y1": 64
         },
         {
          "line": {
           "color": "RoyalBlue"
          },
          "type": "rect",
          "x0": 64,
          "x1": 4,
          "y0": 7,
          "y1": 64
         },
         {
          "line": {
           "color": "RoyalBlue"
          },
          "type": "rect",
          "x0": 64,
          "x1": 4,
          "y0": 2,
          "y1": 64
         },
         {
          "line": {
           "color": "RoyalBlue"
          },
          "type": "rect",
          "x0": 64,
          "x1": 3,
          "y0": 8,
          "y1": 64
         },
         {
          "line": {
           "color": "RoyalBlue"
          },
          "type": "rect",
          "x0": 65,
          "x1": 1,
          "y0": 8,
          "y1": 66
         },
         {
          "line": {
           "color": "RoyalBlue"
          },
          "type": "rect",
          "x0": 65,
          "x1": 2,
          "y0": 5,
          "y1": 66
         },
         {
          "line": {
           "color": "RoyalBlue"
          },
          "type": "rect",
          "x0": 65,
          "x1": 1,
          "y0": 4,
          "y1": 65
         },
         {
          "line": {
           "color": "RoyalBlue"
          },
          "type": "rect",
          "x0": 65,
          "x1": 5,
          "y0": 6,
          "y1": 65
         },
         {
          "line": {
           "color": "RoyalBlue"
          },
          "type": "rect",
          "x0": 65,
          "x1": 0,
          "y0": 6,
          "y1": 66
         },
         {
          "line": {
           "color": "RoyalBlue"
          },
          "type": "rect",
          "x0": 65,
          "x1": 1,
          "y0": 6,
          "y1": 65
         },
         {
          "line": {
           "color": "RoyalBlue"
          },
          "type": "rect",
          "x0": 65,
          "x1": 4,
          "y0": 7,
          "y1": 66
         },
         {
          "line": {
           "color": "RoyalBlue"
          },
          "type": "rect",
          "x0": 65,
          "x1": 0,
          "y0": 8,
          "y1": 66
         },
         {
          "line": {
           "color": "RoyalBlue"
          },
          "type": "rect",
          "x0": 65,
          "x1": 4,
          "y0": 6,
          "y1": 65
         },
         {
          "line": {
           "color": "RoyalBlue"
          },
          "type": "rect",
          "x0": 65,
          "x1": 4,
          "y0": 4,
          "y1": 66
         },
         {
          "line": {
           "color": "RoyalBlue"
          },
          "type": "rect",
          "x0": 65,
          "x1": 5,
          "y0": 8,
          "y1": 66
         },
         {
          "line": {
           "color": "RoyalBlue"
          },
          "type": "rect",
          "x0": 65,
          "x1": 6,
          "y0": 5,
          "y1": 66
         },
         {
          "line": {
           "color": "RoyalBlue"
          },
          "type": "rect",
          "x0": 65,
          "x1": 2,
          "y0": 8,
          "y1": 66
         },
         {
          "line": {
           "color": "RoyalBlue"
          },
          "type": "rect",
          "x0": 65,
          "x1": 3,
          "y0": 2,
          "y1": 66
         },
         {
          "line": {
           "color": "RoyalBlue"
          },
          "type": "rect",
          "x0": 65,
          "x1": 0,
          "y0": 8,
          "y1": 65
         },
         {
          "line": {
           "color": "RoyalBlue"
          },
          "type": "rect",
          "x0": 65,
          "x1": 5,
          "y0": 4,
          "y1": 65
         },
         {
          "line": {
           "color": "RoyalBlue"
          },
          "type": "rect",
          "x0": 65,
          "x1": 2,
          "y0": 3,
          "y1": 66
         },
         {
          "line": {
           "color": "RoyalBlue"
          },
          "type": "rect",
          "x0": 66,
          "x1": 0,
          "y0": 7,
          "y1": 66
         },
         {
          "line": {
           "color": "RoyalBlue"
          },
          "type": "rect",
          "x0": 66,
          "x1": 5,
          "y0": 6,
          "y1": 66
         },
         {
          "line": {
           "color": "RoyalBlue"
          },
          "type": "rect",
          "x0": 66,
          "x1": 1,
          "y0": 4,
          "y1": 66
         },
         {
          "line": {
           "color": "RoyalBlue"
          },
          "type": "rect",
          "x0": 66,
          "x1": 1,
          "y0": 5,
          "y1": 66
         },
         {
          "line": {
           "color": "RoyalBlue"
          },
          "type": "rect",
          "x0": 66,
          "x1": 6,
          "y0": 4,
          "y1": 66
         },
         {
          "line": {
           "color": "RoyalBlue"
          },
          "type": "rect",
          "x0": 65,
          "x1": 6,
          "y0": 4,
          "y1": 66
         },
         {
          "line": {
           "color": "RoyalBlue"
          },
          "type": "rect",
          "x0": 67,
          "x1": 6,
          "y0": 4,
          "y1": 67
         },
         {
          "line": {
           "color": "RoyalBlue"
          },
          "type": "rect",
          "x0": 67,
          "x1": 0,
          "y0": 4,
          "y1": 67
         },
         {
          "line": {
           "color": "RoyalBlue"
          },
          "type": "rect",
          "x0": 65,
          "x1": 6,
          "y0": 7,
          "y1": 67
         },
         {
          "line": {
           "color": "RoyalBlue"
          },
          "type": "rect",
          "x0": 67,
          "x1": 1,
          "y0": 4,
          "y1": 67
         },
         {
          "line": {
           "color": "RoyalBlue"
          },
          "type": "rect",
          "x0": 67,
          "x1": 2,
          "y0": 3,
          "y1": 67
         },
         {
          "line": {
           "color": "RoyalBlue"
          },
          "type": "rect",
          "x0": 67,
          "x1": 0,
          "y0": 5,
          "y1": 67
         },
         {
          "line": {
           "color": "RoyalBlue"
          },
          "type": "rect",
          "x0": 67,
          "x1": 2,
          "y0": 5,
          "y1": 67
         },
         {
          "line": {
           "color": "RoyalBlue"
          },
          "type": "rect",
          "x0": 67,
          "x1": 3,
          "y0": 2,
          "y1": 67
         },
         {
          "line": {
           "color": "RoyalBlue"
          },
          "type": "rect",
          "x0": 67,
          "x1": 4,
          "y0": 4,
          "y1": 67
         },
         {
          "line": {
           "color": "RoyalBlue"
          },
          "type": "rect",
          "x0": 67,
          "x1": 4,
          "y0": 5,
          "y1": 67
         },
         {
          "line": {
           "color": "RoyalBlue"
          },
          "type": "rect",
          "x0": 65,
          "x1": 4,
          "y0": 2,
          "y1": 67
         },
         {
          "line": {
           "color": "RoyalBlue"
          },
          "type": "rect",
          "x0": 65,
          "x1": 0,
          "y0": 5,
          "y1": 67
         },
         {
          "line": {
           "color": "RoyalBlue"
          },
          "type": "rect",
          "x0": 68,
          "x1": 2,
          "y0": 5,
          "y1": 68
         },
         {
          "line": {
           "color": "RoyalBlue"
          },
          "type": "rect",
          "x0": 68,
          "x1": 2,
          "y0": 3,
          "y1": 68
         },
         {
          "line": {
           "color": "RoyalBlue"
          },
          "type": "rect",
          "x0": 68,
          "x1": 1,
          "y0": 4,
          "y1": 68
         },
         {
          "line": {
           "color": "RoyalBlue"
          },
          "type": "rect",
          "x0": 68,
          "x1": 1,
          "y0": 5,
          "y1": 68
         },
         {
          "line": {
           "color": "RoyalBlue"
          },
          "type": "rect",
          "x0": 68,
          "x1": 6,
          "y0": 4,
          "y1": 68
         },
         {
          "line": {
           "color": "RoyalBlue"
          },
          "type": "rect",
          "x0": 68,
          "x1": 6,
          "y0": 5,
          "y1": 68
         },
         {
          "line": {
           "color": "RoyalBlue"
          },
          "type": "rect",
          "x0": 65,
          "x1": 6,
          "y0": 3,
          "y1": 68
         },
         {
          "line": {
           "color": "RoyalBlue"
          },
          "type": "rect",
          "x0": 68,
          "x1": 3,
          "y0": 5,
          "y1": 68
         },
         {
          "line": {
           "color": "RoyalBlue"
          },
          "type": "rect",
          "x0": 68,
          "x1": 4,
          "y0": 2,
          "y1": 68
         },
         {
          "line": {
           "color": "RoyalBlue"
          },
          "type": "rect",
          "x0": 68,
          "x1": 4,
          "y0": 5,
          "y1": 68
         },
         {
          "line": {
           "color": "RoyalBlue"
          },
          "type": "rect",
          "x0": 69,
          "x1": 1,
          "y0": 3,
          "y1": 69
         },
         {
          "line": {
           "color": "RoyalBlue"
          },
          "type": "rect",
          "x0": 69,
          "x1": 2,
          "y0": 3,
          "y1": 69
         },
         {
          "line": {
           "color": "RoyalBlue"
          },
          "type": "rect",
          "x0": 69,
          "x1": 0,
          "y0": 5,
          "y1": 69
         },
         {
          "line": {
           "color": "RoyalBlue"
          },
          "type": "rect",
          "x0": 69,
          "x1": 3,
          "y0": 3,
          "y1": 69
         },
         {
          "line": {
           "color": "RoyalBlue"
          },
          "type": "rect",
          "x0": 70,
          "x1": 0,
          "y0": 2,
          "y1": 71
         },
         {
          "line": {
           "color": "RoyalBlue"
          },
          "type": "rect",
          "x0": 69,
          "x1": 6,
          "y0": 4,
          "y1": 71
         },
         {
          "line": {
           "color": "RoyalBlue"
          },
          "type": "rect",
          "x0": 67,
          "x1": 0,
          "y0": 6,
          "y1": 67
         },
         {
          "line": {
           "color": "RoyalBlue"
          },
          "type": "rect",
          "x0": 70,
          "x1": 1,
          "y0": 3,
          "y1": 71
         },
         {
          "line": {
           "color": "RoyalBlue"
          },
          "type": "rect",
          "x0": 70,
          "x1": 0,
          "y0": 5,
          "y1": 71
         },
         {
          "line": {
           "color": "RoyalBlue"
          },
          "type": "rect",
          "x0": 70,
          "x1": 2,
          "y0": 3,
          "y1": 71
         },
         {
          "line": {
           "color": "RoyalBlue"
          },
          "type": "rect",
          "x0": 66,
          "x1": 1,
          "y0": 6,
          "y1": 71
         },
         {
          "line": {
           "color": "RoyalBlue"
          },
          "type": "rect",
          "x0": 67,
          "x1": 5,
          "y0": 6,
          "y1": 67
         },
         {
          "line": {
           "color": "RoyalBlue"
          },
          "type": "rect",
          "x0": 68,
          "x1": 0,
          "y0": 5,
          "y1": 71
         },
         {
          "line": {
           "color": "RoyalBlue"
          },
          "type": "rect",
          "x0": 67,
          "x1": 0,
          "y0": 7,
          "y1": 71
         },
         {
          "line": {
           "color": "RoyalBlue"
          },
          "type": "rect",
          "x0": 26,
          "x1": 5,
          "y0": 4,
          "y1": 33
         },
         {
          "line": {
           "color": "RoyalBlue"
          },
          "type": "rect",
          "x0": 26,
          "x1": 5,
          "y0": 6,
          "y1": 33
         },
         {
          "line": {
           "color": "RoyalBlue"
          },
          "type": "rect",
          "x0": 26,
          "x1": 6,
          "y0": 3,
          "y1": 33
         },
         {
          "line": {
           "color": "RoyalBlue"
          },
          "type": "rect",
          "x0": 26,
          "x1": 2,
          "y0": 3,
          "y1": 38
         },
         {
          "line": {
           "color": "RoyalBlue"
          },
          "type": "rect",
          "x0": 26,
          "x1": 0,
          "y0": 2,
          "y1": 30
         },
         {
          "line": {
           "color": "RoyalBlue"
          },
          "type": "rect",
          "x0": 26,
          "x1": 4,
          "y0": 4,
          "y1": 33
         },
         {
          "line": {
           "color": "RoyalBlue"
          },
          "type": "rect",
          "x0": 27,
          "x1": 5,
          "y0": 7,
          "y1": 35
         },
         {
          "line": {
           "color": "RoyalBlue"
          },
          "type": "rect",
          "x0": 27,
          "x1": 6,
          "y0": 7,
          "y1": 35
         },
         {
          "line": {
           "color": "RoyalBlue"
          },
          "type": "rect",
          "x0": 27,
          "x1": 0,
          "y0": 7,
          "y1": 30
         },
         {
          "line": {
           "color": "RoyalBlue"
          },
          "type": "rect",
          "x0": 27,
          "x1": 5,
          "y0": 3,
          "y1": 33
         },
         {
          "line": {
           "color": "RoyalBlue"
          },
          "type": "rect",
          "x0": 27,
          "x1": 4,
          "y0": 3,
          "y1": 33
         },
         {
          "line": {
           "color": "RoyalBlue"
          },
          "type": "rect",
          "x0": 28,
          "x1": 4,
          "y0": 4,
          "y1": 30
         },
         {
          "line": {
           "color": "RoyalBlue"
          },
          "type": "rect",
          "x0": 28,
          "x1": 0,
          "y0": 7,
          "y1": 37
         },
         {
          "line": {
           "color": "RoyalBlue"
          },
          "type": "rect",
          "x0": 28,
          "x1": 4,
          "y0": 3,
          "y1": 30
         },
         {
          "line": {
           "color": "RoyalBlue"
          },
          "type": "rect",
          "x0": 28,
          "x1": 3,
          "y0": 2,
          "y1": 32
         },
         {
          "line": {
           "color": "RoyalBlue"
          },
          "type": "rect",
          "x0": 28,
          "x1": 2,
          "y0": 8,
          "y1": 36
         },
         {
          "line": {
           "color": "RoyalBlue"
          },
          "type": "rect",
          "x0": 28,
          "x1": 1,
          "y0": 3,
          "y1": 33
         },
         {
          "line": {
           "color": "RoyalBlue"
          },
          "type": "rect",
          "x0": 28,
          "x1": 2,
          "y0": 3,
          "y1": 45
         },
         {
          "line": {
           "color": "RoyalBlue"
          },
          "type": "rect",
          "x0": 28,
          "x1": 6,
          "y0": 7,
          "y1": 32
         },
         {
          "line": {
           "color": "RoyalBlue"
          },
          "type": "rect",
          "x0": 28,
          "x1": 0,
          "y0": 3,
          "y1": 45
         },
         {
          "line": {
           "color": "RoyalBlue"
          },
          "type": "rect",
          "x0": 29,
          "x1": 3,
          "y0": 6,
          "y1": 35
         },
         {
          "line": {
           "color": "RoyalBlue"
          },
          "type": "rect",
          "x0": 30,
          "x1": 3,
          "y0": 8,
          "y1": 32
         },
         {
          "line": {
           "color": "RoyalBlue"
          },
          "type": "rect",
          "x0": 30,
          "x1": 5,
          "y0": 8,
          "y1": 32
         },
         {
          "line": {
           "color": "RoyalBlue"
          },
          "type": "rect",
          "x0": 30,
          "x1": 4,
          "y0": 7,
          "y1": 32
         },
         {
          "line": {
           "color": "RoyalBlue"
          },
          "type": "rect",
          "x0": 31,
          "x1": 4,
          "y0": 3,
          "y1": 37
         },
         {
          "line": {
           "color": "RoyalBlue"
          },
          "type": "rect",
          "x0": 31,
          "x1": 1,
          "y0": 7,
          "y1": 37
         },
         {
          "line": {
           "color": "RoyalBlue"
          },
          "type": "rect",
          "x0": 31,
          "x1": 5,
          "y0": 3,
          "y1": 37
         },
         {
          "line": {
           "color": "RoyalBlue"
          },
          "type": "rect",
          "x0": 31,
          "x1": 0,
          "y0": 7,
          "y1": 38
         },
         {
          "line": {
           "color": "RoyalBlue"
          },
          "type": "rect",
          "x0": 31,
          "x1": 4,
          "y0": 3,
          "y1": 33
         },
         {
          "line": {
           "color": "RoyalBlue"
          },
          "type": "rect",
          "x0": 33,
          "x1": 6,
          "y0": 7,
          "y1": 37
         },
         {
          "line": {
           "color": "RoyalBlue"
          },
          "type": "rect",
          "x0": 33,
          "x1": 1,
          "y0": 4,
          "y1": 38
         },
         {
          "line": {
           "color": "RoyalBlue"
          },
          "type": "rect",
          "x0": 33,
          "x1": 5,
          "y0": 5,
          "y1": 45
         },
         {
          "line": {
           "color": "RoyalBlue"
          },
          "type": "rect",
          "x0": 33,
          "x1": 5,
          "y0": 8,
          "y1": 38
         },
         {
          "line": {
           "color": "RoyalBlue"
          },
          "type": "rect",
          "x0": 33,
          "x1": 3,
          "y0": 7,
          "y1": 37
         },
         {
          "line": {
           "color": "RoyalBlue"
          },
          "type": "rect",
          "x0": 33,
          "x1": 4,
          "y0": 8,
          "y1": 40
         },
         {
          "line": {
           "color": "RoyalBlue"
          },
          "type": "rect",
          "x0": 33,
          "x1": 3,
          "y0": 8,
          "y1": 40
         },
         {
          "line": {
           "color": "RoyalBlue"
          },
          "type": "rect",
          "x0": 34,
          "x1": 5,
          "y0": 3,
          "y1": 38
         },
         {
          "line": {
           "color": "RoyalBlue"
          },
          "type": "rect",
          "x0": 34,
          "x1": 4,
          "y0": 3,
          "y1": 38
         },
         {
          "line": {
           "color": "RoyalBlue"
          },
          "type": "rect",
          "x0": 34,
          "x1": 1,
          "y0": 3,
          "y1": 39
         },
         {
          "line": {
           "color": "RoyalBlue"
          },
          "type": "rect",
          "x0": 35,
          "x1": 1,
          "y0": 7,
          "y1": 38
         },
         {
          "line": {
           "color": "RoyalBlue"
          },
          "type": "rect",
          "x0": 36,
          "x1": 0,
          "y0": 9,
          "y1": 38
         },
         {
          "line": {
           "color": "RoyalBlue"
          },
          "type": "rect",
          "x0": 36,
          "x1": 3,
          "y0": 6,
          "y1": 47
         },
         {
          "line": {
           "color": "RoyalBlue"
          },
          "type": "rect",
          "x0": 36,
          "x1": 3,
          "y0": 9,
          "y1": 37
         },
         {
          "line": {
           "color": "RoyalBlue"
          },
          "type": "rect",
          "x0": 36,
          "x1": 5,
          "y0": 9,
          "y1": 40
         },
         {
          "line": {
           "color": "RoyalBlue"
          },
          "type": "rect",
          "x0": 36,
          "x1": 6,
          "y0": 9,
          "y1": 40
         },
         {
          "line": {
           "color": "RoyalBlue"
          },
          "type": "rect",
          "x0": 37,
          "x1": 2,
          "y0": 8,
          "y1": 38
         },
         {
          "line": {
           "color": "RoyalBlue"
          },
          "type": "rect",
          "x0": 38,
          "x1": 4,
          "y0": 7,
          "y1": 40
         },
         {
          "line": {
           "color": "RoyalBlue"
          },
          "type": "rect",
          "x0": 38,
          "x1": 3,
          "y0": 7,
          "y1": 40
         },
         {
          "line": {
           "color": "RoyalBlue"
          },
          "type": "rect",
          "x0": 38,
          "x1": 4,
          "y0": 3,
          "y1": 38
         },
         {
          "line": {
           "color": "RoyalBlue"
          },
          "type": "rect",
          "x0": 38,
          "x1": 0,
          "y0": 7,
          "y1": 40
         },
         {
          "line": {
           "color": "RoyalBlue"
          },
          "type": "rect",
          "x0": 38,
          "x1": 5,
          "y0": 7,
          "y1": 40
         },
         {
          "line": {
           "color": "RoyalBlue"
          },
          "type": "rect",
          "x0": 38,
          "x1": 5,
          "y0": 9,
          "y1": 45
         },
         {
          "line": {
           "color": "RoyalBlue"
          },
          "type": "rect",
          "x0": 38,
          "x1": 3,
          "y0": 7,
          "y1": 40
         },
         {
          "line": {
           "color": "RoyalBlue"
          },
          "type": "rect",
          "x0": 38,
          "x1": 3,
          "y0": 9,
          "y1": 40
         },
         {
          "line": {
           "color": "RoyalBlue"
          },
          "type": "rect",
          "x0": 38,
          "x1": 4,
          "y0": 9,
          "y1": 40
         },
         {
          "line": {
           "color": "RoyalBlue"
          },
          "type": "rect",
          "x0": 38,
          "x1": 1,
          "y0": 7,
          "y1": 40
         },
         {
          "line": {
           "color": "RoyalBlue"
          },
          "type": "rect",
          "x0": 39,
          "x1": 1,
          "y0": 4,
          "y1": 45
         },
         {
          "line": {
           "color": "RoyalBlue"
          },
          "type": "rect",
          "x0": 39,
          "x1": 1,
          "y0": 5,
          "y1": 44
         },
         {
          "line": {
           "color": "RoyalBlue"
          },
          "type": "rect",
          "x0": 39,
          "x1": 1,
          "y0": 7,
          "y1": 44
         },
         {
          "line": {
           "color": "RoyalBlue"
          },
          "type": "rect",
          "x0": 39,
          "x1": 0,
          "y0": 9,
          "y1": 45
         },
         {
          "line": {
           "color": "RoyalBlue"
          },
          "type": "rect",
          "x0": 39,
          "x1": 2,
          "y0": 8,
          "y1": 43
         },
         {
          "line": {
           "color": "RoyalBlue"
          },
          "type": "rect",
          "x0": 39,
          "x1": 5,
          "y0": 8,
          "y1": 41
         },
         {
          "line": {
           "color": "RoyalBlue"
          },
          "type": "rect",
          "x0": 39,
          "x1": 4,
          "y0": 3,
          "y1": 41
         },
         {
          "line": {
           "color": "RoyalBlue"
          },
          "type": "rect",
          "x0": 39,
          "x1": 5,
          "y0": 3,
          "y1": 41
         },
         {
          "line": {
           "color": "RoyalBlue"
          },
          "type": "rect",
          "x0": 39,
          "x1": 4,
          "y0": 3,
          "y1": 40
         },
         {
          "line": {
           "color": "RoyalBlue"
          },
          "type": "rect",
          "x0": 39,
          "x1": 0,
          "y0": 4,
          "y1": 40
         },
         {
          "line": {
           "color": "RoyalBlue"
          },
          "type": "rect",
          "x0": 41,
          "x1": 3,
          "y0": 8,
          "y1": 47
         },
         {
          "line": {
           "color": "RoyalBlue"
          },
          "type": "rect",
          "x0": 41,
          "x1": 0,
          "y0": 4,
          "y1": 48
         },
         {
          "line": {
           "color": "RoyalBlue"
          },
          "type": "rect",
          "x0": 41,
          "x1": 4,
          "y0": 8,
          "y1": 47
         },
         {
          "line": {
           "color": "RoyalBlue"
          },
          "type": "rect",
          "x0": 42,
          "x1": 5,
          "y0": 7,
          "y1": 45
         },
         {
          "line": {
           "color": "RoyalBlue"
          },
          "type": "rect",
          "x0": 41,
          "x1": 0,
          "y0": 8,
          "y1": 47
         },
         {
          "line": {
           "color": "RoyalBlue"
          },
          "type": "rect",
          "x0": 43,
          "x1": 6,
          "y0": 8,
          "y1": 45
         },
         {
          "line": {
           "color": "RoyalBlue"
          },
          "type": "rect",
          "x0": 42,
          "x1": 2,
          "y0": 9,
          "y1": 45
         },
         {
          "line": {
           "color": "RoyalBlue"
          },
          "type": "rect",
          "x0": 42,
          "x1": 5,
          "y0": 3,
          "y1": 45
         },
         {
          "line": {
           "color": "RoyalBlue"
          },
          "type": "rect",
          "x0": 41,
          "x1": 2,
          "y0": 8,
          "y1": 45
         },
         {
          "line": {
           "color": "RoyalBlue"
          },
          "type": "rect",
          "x0": 41,
          "x1": 1,
          "y0": 8,
          "y1": 45
         },
         {
          "line": {
           "color": "RoyalBlue"
          },
          "type": "rect",
          "x0": 41,
          "x1": 5,
          "y0": 8,
          "y1": 45
         },
         {
          "line": {
           "color": "RoyalBlue"
          },
          "type": "rect",
          "x0": 42,
          "x1": 4,
          "y0": 3,
          "y1": 44
         },
         {
          "line": {
           "color": "RoyalBlue"
          },
          "type": "rect",
          "x0": 41,
          "x1": 3,
          "y0": 9,
          "y1": 45
         },
         {
          "line": {
           "color": "RoyalBlue"
          },
          "type": "rect",
          "x0": 41,
          "x1": 0,
          "y0": 4,
          "y1": 45
         },
         {
          "line": {
           "color": "RoyalBlue"
          },
          "type": "rect",
          "x0": 41,
          "x1": 4,
          "y0": 9,
          "y1": 45
         },
         {
          "line": {
           "color": "RoyalBlue"
          },
          "type": "rect",
          "x0": 41,
          "x1": 4,
          "y0": 4,
          "y1": 44
         },
         {
          "line": {
           "color": "RoyalBlue"
          },
          "type": "rect",
          "x0": 41,
          "x1": 3,
          "y0": 7,
          "y1": 43
         },
         {
          "line": {
           "color": "RoyalBlue"
          },
          "type": "rect",
          "x0": 41,
          "x1": 1,
          "y0": 7,
          "y1": 43
         },
         {
          "line": {
           "color": "RoyalBlue"
          },
          "type": "rect",
          "x0": 42,
          "x1": 6,
          "y0": 8,
          "y1": 43
         },
         {
          "line": {
           "color": "RoyalBlue"
          },
          "type": "rect",
          "x0": 41,
          "x1": 5,
          "y0": 7,
          "y1": 43
         },
         {
          "line": {
           "color": "RoyalBlue"
          },
          "type": "rect",
          "x0": 41,
          "x1": 4,
          "y0": 4,
          "y1": 41
         },
         {
          "line": {
           "color": "RoyalBlue"
          },
          "type": "rect",
          "x0": 59,
          "x1": 2,
          "y0": 6,
          "y1": 60
         },
         {
          "line": {
           "color": "RoyalBlue"
          },
          "type": "rect",
          "x0": 59,
          "x1": 0,
          "y0": 3,
          "y1": 62
         },
         {
          "line": {
           "color": "RoyalBlue"
          },
          "type": "rect",
          "x0": 59,
          "x1": 3,
          "y0": 6,
          "y1": 60
         },
         {
          "line": {
           "color": "RoyalBlue"
          },
          "type": "rect",
          "x0": 59,
          "x1": 3,
          "y0": 5,
          "y1": 64
         },
         {
          "line": {
           "color": "RoyalBlue"
          },
          "type": "rect",
          "x0": 59,
          "x1": 0,
          "y0": 7,
          "y1": 61
         },
         {
          "line": {
           "color": "RoyalBlue"
          },
          "type": "rect",
          "x0": 59,
          "x1": 5,
          "y0": 7,
          "y1": 61
         },
         {
          "line": {
           "color": "RoyalBlue"
          },
          "type": "rect",
          "x0": 59,
          "x1": 0,
          "y0": 7,
          "y1": 60
         },
         {
          "line": {
           "color": "RoyalBlue"
          },
          "type": "rect",
          "x0": 59,
          "x1": 5,
          "y0": 5,
          "y1": 60
         },
         {
          "line": {
           "color": "RoyalBlue"
          },
          "type": "rect",
          "x0": 59,
          "x1": 4,
          "y0": 3,
          "y1": 60
         },
         {
          "line": {
           "color": "RoyalBlue"
          },
          "type": "rect",
          "x0": 59,
          "x1": 2,
          "y0": 7,
          "y1": 61
         },
         {
          "line": {
           "color": "RoyalBlue"
          },
          "type": "rect",
          "x0": 59,
          "x1": 0,
          "y0": 6,
          "y1": 60
         },
         {
          "line": {
           "color": "RoyalBlue"
          },
          "type": "rect",
          "x0": 59,
          "x1": 0,
          "y0": 3,
          "y1": 60
         },
         {
          "line": {
           "color": "RoyalBlue"
          },
          "type": "rect",
          "x0": 59,
          "x1": 5,
          "y0": 3,
          "y1": 61
         },
         {
          "line": {
           "color": "RoyalBlue"
          },
          "type": "rect",
          "x0": 59,
          "x1": 5,
          "y0": 3,
          "y1": 60
         },
         {
          "line": {
           "color": "RoyalBlue"
          },
          "type": "rect",
          "x0": 59,
          "x1": 4,
          "y0": 5,
          "y1": 60
         },
         {
          "line": {
           "color": "RoyalBlue"
          },
          "type": "rect",
          "x0": 59,
          "x1": 2,
          "y0": 5,
          "y1": 64
         },
         {
          "line": {
           "color": "RoyalBlue"
          },
          "type": "rect",
          "x0": 59,
          "x1": 1,
          "y0": 3,
          "y1": 64
         },
         {
          "line": {
           "color": "RoyalBlue"
          },
          "type": "rect",
          "x0": 61,
          "x1": 6,
          "y0": 6,
          "y1": 62
         },
         {
          "line": {
           "color": "RoyalBlue"
          },
          "type": "rect",
          "x0": 61,
          "x1": 5,
          "y0": 7,
          "y1": 62
         },
         {
          "line": {
           "color": "RoyalBlue"
          },
          "type": "rect",
          "x0": 61,
          "x1": 4,
          "y0": 8,
          "y1": 61
         },
         {
          "line": {
           "color": "RoyalBlue"
          },
          "type": "rect",
          "x0": 61,
          "x1": 4,
          "y0": 3,
          "y1": 61
         },
         {
          "line": {
           "color": "RoyalBlue"
          },
          "type": "rect",
          "x0": 61,
          "x1": 0,
          "y0": 7,
          "y1": 61
         },
         {
          "line": {
           "color": "RoyalBlue"
          },
          "type": "rect",
          "x0": 61,
          "x1": 4,
          "y0": 8,
          "y1": 62
         },
         {
          "line": {
           "color": "RoyalBlue"
          },
          "type": "rect",
          "x0": 61,
          "x1": 0,
          "y0": 7,
          "y1": 62
         },
         {
          "line": {
           "color": "RoyalBlue"
          },
          "type": "rect",
          "x0": 61,
          "x1": 4,
          "y0": 5,
          "y1": 62
         },
         {
          "line": {
           "color": "RoyalBlue"
          },
          "type": "rect",
          "x0": 61,
          "x1": 6,
          "y0": 7,
          "y1": 62
         },
         {
          "line": {
           "color": "RoyalBlue"
          },
          "type": "rect",
          "x0": 61,
          "x1": 6,
          "y0": 3,
          "y1": 62
         },
         {
          "line": {
           "color": "RoyalBlue"
          },
          "type": "rect",
          "x0": 61,
          "x1": 6,
          "y0": 5,
          "y1": 61
         },
         {
          "line": {
           "color": "RoyalBlue"
          },
          "type": "rect",
          "x0": 61,
          "x1": 0,
          "y0": 3,
          "y1": 62
         },
         {
          "line": {
           "color": "RoyalBlue"
          },
          "type": "rect",
          "x0": 61,
          "x1": 5,
          "y0": 8,
          "y1": 62
         },
         {
          "line": {
           "color": "RoyalBlue"
          },
          "type": "rect",
          "x0": 61,
          "x1": 4,
          "y0": 7,
          "y1": 61
         },
         {
          "line": {
           "color": "RoyalBlue"
          },
          "type": "rect",
          "x0": 61,
          "x1": 5,
          "y0": 6,
          "y1": 62
         },
         {
          "line": {
           "color": "RoyalBlue"
          },
          "type": "rect",
          "x0": 61,
          "x1": 2,
          "y0": 7,
          "y1": 62
         },
         {
          "line": {
           "color": "RoyalBlue"
          },
          "type": "rect",
          "x0": 61,
          "x1": 5,
          "y0": 5,
          "y1": 61
         },
         {
          "line": {
           "color": "RoyalBlue"
          },
          "type": "rect",
          "x0": 61,
          "x1": 0,
          "y0": 6,
          "y1": 62
         },
         {
          "line": {
           "color": "RoyalBlue"
          },
          "type": "rect",
          "x0": 61,
          "x1": 5,
          "y0": 3,
          "y1": 62
         },
         {
          "line": {
           "color": "RoyalBlue"
          },
          "type": "rect",
          "x0": 61,
          "x1": 3,
          "y0": 6,
          "y1": 62
         },
         {
          "line": {
           "color": "RoyalBlue"
          },
          "type": "rect",
          "x0": 62,
          "x1": 2,
          "y0": 8,
          "y1": 63
         },
         {
          "line": {
           "color": "RoyalBlue"
          },
          "type": "rect",
          "x0": 62,
          "x1": 5,
          "y0": 7,
          "y1": 62
         },
         {
          "line": {
           "color": "RoyalBlue"
          },
          "type": "rect",
          "x0": 62,
          "x1": 0,
          "y0": 8,
          "y1": 64
         },
         {
          "line": {
           "color": "RoyalBlue"
          },
          "type": "rect",
          "x0": 62,
          "x1": 5,
          "y0": 8,
          "y1": 63
         },
         {
          "line": {
           "color": "RoyalBlue"
          },
          "type": "rect",
          "x0": 62,
          "x1": 4,
          "y0": 8,
          "y1": 62
         },
         {
          "line": {
           "color": "RoyalBlue"
          },
          "type": "rect",
          "x0": 62,
          "x1": 4,
          "y0": 2,
          "y1": 62
         },
         {
          "line": {
           "color": "RoyalBlue"
          },
          "type": "rect",
          "x0": 62,
          "x1": 4,
          "y0": 7,
          "y1": 62
         },
         {
          "line": {
           "color": "RoyalBlue"
          },
          "type": "rect",
          "x0": 62,
          "x1": 4,
          "y0": 3,
          "y1": 62
         },
         {
          "line": {
           "color": "RoyalBlue"
          },
          "type": "rect",
          "x0": 62,
          "x1": 2,
          "y0": 7,
          "y1": 62
         },
         {
          "line": {
           "color": "RoyalBlue"
          },
          "type": "rect",
          "x0": 0,
          "x1": 0,
          "y0": 2,
          "y1": 12
         },
         {
          "line": {
           "color": "RoyalBlue"
          },
          "type": "rect",
          "x0": 0,
          "x1": 0,
          "y0": 2,
          "y1": 19
         },
         {
          "line": {
           "color": "RoyalBlue"
          },
          "type": "rect",
          "x0": 13,
          "x1": 0,
          "y0": 2,
          "y1": 20
         },
         {
          "line": {
           "color": "RoyalBlue"
          },
          "type": "rect",
          "x0": 13,
          "x1": 0,
          "y0": 7,
          "y1": 22
         },
         {
          "line": {
           "color": "RoyalBlue"
          },
          "type": "rect",
          "x0": 21,
          "x1": 0,
          "y0": 2,
          "y1": 22
         },
         {
          "line": {
           "color": "RoyalBlue"
          },
          "type": "rect",
          "x0": 21,
          "x1": 2,
          "y0": 2,
          "y1": 22
         },
         {
          "line": {
           "color": "RoyalBlue"
          },
          "type": "rect",
          "x0": 21,
          "x1": 1,
          "y0": 2,
          "y1": 22
         },
         {
          "line": {
           "color": "RoyalBlue"
          },
          "type": "rect",
          "x0": 21,
          "x1": 0,
          "y0": 4,
          "y1": 22
         },
         {
          "line": {
           "color": "RoyalBlue"
          },
          "type": "rect",
          "x0": 21,
          "x1": 1,
          "y0": 6,
          "y1": 22
         },
         {
          "line": {
           "color": "RoyalBlue"
          },
          "type": "rect",
          "x0": 23,
          "x1": 0,
          "y0": 7,
          "y1": 23
         },
         {
          "line": {
           "color": "RoyalBlue"
          },
          "type": "rect",
          "x0": 23,
          "x1": 6,
          "y0": 7,
          "y1": 25
         },
         {
          "line": {
           "color": "RoyalBlue"
          },
          "type": "rect",
          "x0": 23,
          "x1": 2,
          "y0": 3,
          "y1": 25
         },
         {
          "line": {
           "color": "RoyalBlue"
          },
          "type": "rect",
          "x0": 23,
          "x1": 4,
          "y0": 2,
          "y1": 25
         },
         {
          "line": {
           "color": "RoyalBlue"
          },
          "type": "rect",
          "x0": 23,
          "x1": 3,
          "y0": 7,
          "y1": 25
         },
         {
          "line": {
           "color": "RoyalBlue"
          },
          "type": "rect",
          "x0": 20,
          "x1": 5,
          "y0": 2,
          "y1": 25
         },
         {
          "line": {
           "color": "RoyalBlue"
          },
          "type": "rect",
          "x0": 26,
          "x1": 3,
          "y0": 2,
          "y1": 27
         },
         {
          "line": {
           "color": "RoyalBlue"
          },
          "type": "rect",
          "x0": 26,
          "x1": 0,
          "y0": 2,
          "y1": 27
         },
         {
          "line": {
           "color": "RoyalBlue"
          },
          "type": "rect",
          "x0": 23,
          "x1": 0,
          "y0": 2,
          "y1": 27
         },
         {
          "line": {
           "color": "RoyalBlue"
          },
          "type": "rect",
          "x0": 27,
          "x1": 0,
          "y0": 8,
          "y1": 27
         },
         {
          "line": {
           "color": "RoyalBlue"
          },
          "type": "rect",
          "x0": 26,
          "x1": 5,
          "y0": 7,
          "y1": 27
         },
         {
          "line": {
           "color": "RoyalBlue"
          },
          "type": "rect",
          "x0": 26,
          "x1": 5,
          "y0": 3,
          "y1": 27
         },
         {
          "line": {
           "color": "RoyalBlue"
          },
          "type": "rect",
          "x0": 26,
          "x1": 6,
          "y0": 3,
          "y1": 27
         },
         {
          "line": {
           "color": "RoyalBlue"
          },
          "type": "rect",
          "x0": 26,
          "x1": 1,
          "y0": 3,
          "y1": 27
         },
         {
          "line": {
           "color": "RoyalBlue"
          },
          "type": "rect",
          "x0": 26,
          "x1": 1,
          "y0": 7,
          "y1": 27
         },
         {
          "line": {
           "color": "RoyalBlue"
          },
          "type": "rect",
          "x0": 23,
          "x1": 3,
          "y0": 2,
          "y1": 27
         },
         {
          "line": {
           "color": "RoyalBlue"
          },
          "type": "rect",
          "x0": 26,
          "x1": 3,
          "y0": 2,
          "y1": 28
         },
         {
          "line": {
           "color": "RoyalBlue"
          },
          "type": "rect",
          "x0": 27,
          "x1": 5,
          "y0": 8,
          "y1": 29
         },
         {
          "line": {
           "color": "RoyalBlue"
          },
          "type": "rect",
          "x0": 28,
          "x1": 3,
          "y0": 8,
          "y1": 29
         },
         {
          "line": {
           "color": "RoyalBlue"
          },
          "type": "rect",
          "x0": 27,
          "x1": 3,
          "y0": 8,
          "y1": 29
         },
         {
          "line": {
           "color": "RoyalBlue"
          },
          "type": "rect",
          "x0": 27,
          "x1": 3,
          "y0": 7,
          "y1": 29
         },
         {
          "line": {
           "color": "RoyalBlue"
          },
          "type": "rect",
          "x0": 27,
          "x1": 4,
          "y0": 7,
          "y1": 29
         },
         {
          "line": {
           "color": "RoyalBlue"
          },
          "type": "rect",
          "x0": 26,
          "x1": 4,
          "y0": 6,
          "y1": 29
         },
         {
          "line": {
           "color": "RoyalBlue"
          },
          "type": "rect",
          "x0": 28,
          "x1": 2,
          "y0": 7,
          "y1": 29
         },
         {
          "line": {
           "color": "RoyalBlue"
          },
          "type": "rect",
          "x0": 27,
          "x1": 1,
          "y0": 6,
          "y1": 29
         },
         {
          "line": {
           "color": "RoyalBlue"
          },
          "type": "rect",
          "x0": 27,
          "x1": 1,
          "y0": 8,
          "y1": 30
         },
         {
          "line": {
           "color": "RoyalBlue"
          },
          "type": "rect",
          "x0": 28,
          "x1": 5,
          "y0": 3,
          "y1": 30
         },
         {
          "line": {
           "color": "RoyalBlue"
          },
          "type": "rect",
          "x0": 28,
          "x1": 0,
          "y0": 8,
          "y1": 30
         },
         {
          "line": {
           "color": "RoyalBlue"
          },
          "type": "rect",
          "x0": 27,
          "x1": 0,
          "y0": 8,
          "y1": 30
         },
         {
          "line": {
           "color": "RoyalBlue"
          },
          "type": "rect",
          "x0": 26,
          "x1": 1,
          "y0": 3,
          "y1": 30
         },
         {
          "line": {
           "color": "RoyalBlue"
          },
          "type": "rect",
          "x0": 48,
          "x1": 3,
          "y0": 6,
          "y1": 50
         },
         {
          "line": {
           "color": "RoyalBlue"
          },
          "type": "rect",
          "x0": 48,
          "x1": 4,
          "y0": 7,
          "y1": 52
         },
         {
          "line": {
           "color": "RoyalBlue"
          },
          "type": "rect",
          "x0": 48,
          "x1": 3,
          "y0": 8,
          "y1": 52
         },
         {
          "line": {
           "color": "RoyalBlue"
          },
          "type": "rect",
          "x0": 48,
          "x1": 1,
          "y0": 7,
          "y1": 52
         },
         {
          "line": {
           "color": "RoyalBlue"
          },
          "type": "rect",
          "x0": 48,
          "x1": 4,
          "y0": 8,
          "y1": 52
         },
         {
          "line": {
           "color": "RoyalBlue"
          },
          "type": "rect",
          "x0": 46,
          "x1": 5,
          "y0": 7,
          "y1": 51
         },
         {
          "line": {
           "color": "RoyalBlue"
          },
          "type": "rect",
          "x0": 46,
          "x1": 2,
          "y0": 6,
          "y1": 58
         },
         {
          "line": {
           "color": "RoyalBlue"
          },
          "type": "rect",
          "x0": 46,
          "x1": 3,
          "y0": 8,
          "y1": 49
         },
         {
          "line": {
           "color": "RoyalBlue"
          },
          "type": "rect",
          "x0": 50,
          "x1": 3,
          "y0": 8,
          "y1": 53
         },
         {
          "line": {
           "color": "RoyalBlue"
          },
          "type": "rect",
          "x0": 48,
          "x1": 5,
          "y0": 7,
          "y1": 52
         },
         {
          "line": {
           "color": "RoyalBlue"
          },
          "type": "rect",
          "x0": 50,
          "x1": 4,
          "y0": 8,
          "y1": 53
         },
         {
          "line": {
           "color": "RoyalBlue"
          },
          "type": "rect",
          "x0": 46,
          "x1": 4,
          "y0": 8,
          "y1": 49
         },
         {
          "line": {
           "color": "RoyalBlue"
          },
          "type": "rect",
          "x0": 48,
          "x1": 4,
          "y0": 3,
          "y1": 49
         },
         {
          "line": {
           "color": "RoyalBlue"
          },
          "type": "rect",
          "x0": 49,
          "x1": 0,
          "y0": 6,
          "y1": 53
         },
         {
          "line": {
           "color": "RoyalBlue"
          },
          "type": "rect",
          "x0": 48,
          "x1": 1,
          "y0": 9,
          "y1": 51
         },
         {
          "line": {
           "color": "RoyalBlue"
          },
          "type": "rect",
          "x0": 46,
          "x1": 1,
          "y0": 4,
          "y1": 50
         },
         {
          "line": {
           "color": "RoyalBlue"
          },
          "type": "rect",
          "x0": 48,
          "x1": 4,
          "y0": 9,
          "y1": 52
         },
         {
          "line": {
           "color": "RoyalBlue"
          },
          "type": "rect",
          "x0": 49,
          "x1": 0,
          "y0": 4,
          "y1": 51
         },
         {
          "line": {
           "color": "RoyalBlue"
          },
          "type": "rect",
          "x0": 52,
          "x1": 2,
          "y0": 7,
          "y1": 53
         },
         {
          "line": {
           "color": "RoyalBlue"
          },
          "type": "rect",
          "x0": 46,
          "x1": 2,
          "y0": 8,
          "y1": 48
         },
         {
          "line": {
           "color": "RoyalBlue"
          },
          "type": "rect",
          "x0": 49,
          "x1": 0,
          "y0": 4,
          "y1": 53
         },
         {
          "line": {
           "color": "RoyalBlue"
          },
          "type": "rect",
          "x0": 51,
          "x1": 1,
          "y0": 3,
          "y1": 51
         },
         {
          "line": {
           "color": "RoyalBlue"
          },
          "type": "rect",
          "x0": 50,
          "x1": 4,
          "y0": 3,
          "y1": 53
         },
         {
          "line": {
           "color": "RoyalBlue"
          },
          "type": "rect",
          "x0": 46,
          "x1": 5,
          "y0": 5,
          "y1": 58
         },
         {
          "line": {
           "color": "RoyalBlue"
          },
          "type": "rect",
          "x0": 46,
          "x1": 1,
          "y0": 6,
          "y1": 47
         },
         {
          "line": {
           "color": "RoyalBlue"
          },
          "type": "rect",
          "x0": 48,
          "x1": 0,
          "y0": 8,
          "y1": 50
         },
         {
          "line": {
           "color": "RoyalBlue"
          },
          "type": "rect",
          "x0": 48,
          "x1": 5,
          "y0": 9,
          "y1": 52
         },
         {
          "line": {
           "color": "RoyalBlue"
          },
          "type": "rect",
          "x0": 52,
          "x1": 2,
          "y0": 8,
          "y1": 53
         },
         {
          "line": {
           "color": "RoyalBlue"
          },
          "type": "rect",
          "x0": 52,
          "x1": 5,
          "y0": 7,
          "y1": 53
         },
         {
          "line": {
           "color": "RoyalBlue"
          },
          "type": "rect",
          "x0": 46,
          "x1": 1,
          "y0": 8,
          "y1": 48
         },
         {
          "line": {
           "color": "RoyalBlue"
          },
          "type": "rect",
          "x0": 50,
          "x1": 5,
          "y0": 8,
          "y1": 53
         },
         {
          "line": {
           "color": "RoyalBlue"
          },
          "type": "rect",
          "x0": 46,
          "x1": 0,
          "y0": 6,
          "y1": 48
         },
         {
          "line": {
           "color": "RoyalBlue"
          },
          "type": "rect",
          "x0": 46,
          "x1": 6,
          "y0": 8,
          "y1": 49
         },
         {
          "line": {
           "color": "RoyalBlue"
          },
          "type": "rect",
          "x0": 46,
          "x1": 5,
          "y0": 8,
          "y1": 47
         },
         {
          "line": {
           "color": "RoyalBlue"
          },
          "type": "rect",
          "x0": 52,
          "x1": 0,
          "y0": 9,
          "y1": 52
         },
         {
          "line": {
           "color": "RoyalBlue"
          },
          "type": "rect",
          "x0": 52,
          "x1": 4,
          "y0": 9,
          "y1": 52
         },
         {
          "line": {
           "color": "RoyalBlue"
          },
          "type": "rect",
          "x0": 52,
          "x1": 3,
          "y0": 9,
          "y1": 53
         },
         {
          "line": {
           "color": "RoyalBlue"
          },
          "type": "rect",
          "x0": 48,
          "x1": 6,
          "y0": 9,
          "y1": 50
         },
         {
          "line": {
           "color": "RoyalBlue"
          },
          "type": "rect",
          "x0": 46,
          "x1": 3,
          "y0": 9,
          "y1": 47
         },
         {
          "line": {
           "color": "RoyalBlue"
          },
          "type": "rect",
          "x0": 53,
          "x1": 3,
          "y0": 8,
          "y1": 53
         },
         {
          "line": {
           "color": "RoyalBlue"
          },
          "type": "rect",
          "x0": 56,
          "x1": 3,
          "y0": 7,
          "y1": 58
         },
         {
          "line": {
           "color": "RoyalBlue"
          },
          "type": "rect",
          "x0": 52,
          "x1": 4,
          "y0": 9,
          "y1": 53
         },
         {
          "line": {
           "color": "RoyalBlue"
          },
          "type": "rect",
          "x0": 52,
          "x1": 2,
          "y0": 9,
          "y1": 53
         },
         {
          "line": {
           "color": "RoyalBlue"
          },
          "type": "rect",
          "x0": 53,
          "x1": 2,
          "y0": 8,
          "y1": 53
         },
         {
          "line": {
           "color": "RoyalBlue"
          },
          "type": "rect",
          "x0": 52,
          "x1": 1,
          "y0": 4,
          "y1": 54
         },
         {
          "line": {
           "color": "RoyalBlue"
          },
          "type": "rect",
          "x0": 45,
          "x1": 1,
          "y0": 8,
          "y1": 47
         },
         {
          "line": {
           "color": "RoyalBlue"
          },
          "type": "rect",
          "x0": 45,
          "x1": 4,
          "y0": 3,
          "y1": 47
         },
         {
          "line": {
           "color": "RoyalBlue"
          },
          "type": "rect",
          "x0": 44,
          "x1": 2,
          "y0": 8,
          "y1": 47
         },
         {
          "line": {
           "color": "RoyalBlue"
          },
          "type": "rect",
          "x0": 44,
          "x1": 5,
          "y0": 7,
          "y1": 47
         },
         {
          "line": {
           "color": "RoyalBlue"
          },
          "type": "rect",
          "x0": 45,
          "x1": 3,
          "y0": 9,
          "y1": 47
         },
         {
          "line": {
           "color": "RoyalBlue"
          },
          "type": "rect",
          "x0": 51,
          "x1": 6,
          "y0": 9,
          "y1": 52
         },
         {
          "line": {
           "color": "RoyalBlue"
          },
          "type": "rect",
          "x0": 46,
          "x1": 1,
          "y0": 9,
          "y1": 47
         },
         {
          "line": {
           "color": "RoyalBlue"
          },
          "type": "rect",
          "x0": 52,
          "x1": 1,
          "y0": 9,
          "y1": 53
         },
         {
          "line": {
           "color": "RoyalBlue"
          },
          "type": "rect",
          "x0": 52,
          "x1": 5,
          "y0": 9,
          "y1": 53
         },
         {
          "line": {
           "color": "RoyalBlue"
          },
          "type": "rect",
          "x0": 46,
          "x1": 4,
          "y0": 9,
          "y1": 47
         },
         {
          "line": {
           "color": "RoyalBlue"
          },
          "type": "rect",
          "x0": 45,
          "x1": 4,
          "y0": 9,
          "y1": 47
         },
         {
          "line": {
           "color": "RoyalBlue"
          },
          "type": "rect",
          "x0": 54,
          "x1": 3,
          "y0": 3,
          "y1": 54
         },
         {
          "line": {
           "color": "RoyalBlue"
          },
          "type": "rect",
          "x0": 54,
          "x1": 2,
          "y0": 3,
          "y1": 54
         },
         {
          "line": {
           "color": "RoyalBlue"
          },
          "type": "rect",
          "x0": 53,
          "x1": 4,
          "y0": 9,
          "y1": 53
         },
         {
          "line": {
           "color": "RoyalBlue"
          },
          "type": "rect",
          "x0": 47,
          "x1": 0,
          "y0": 9,
          "y1": 47
         },
         {
          "line": {
           "color": "RoyalBlue"
          },
          "type": "rect",
          "x0": 54,
          "x1": 0,
          "y0": 7,
          "y1": 54
         },
         {
          "line": {
           "color": "RoyalBlue"
          },
          "type": "rect",
          "x0": 45,
          "x1": 1,
          "y0": 6,
          "y1": 45
         },
         {
          "line": {
           "color": "RoyalBlue"
          },
          "type": "rect",
          "x0": 54,
          "x1": 0,
          "y0": 6,
          "y1": 54
         },
         {
          "line": {
           "color": "RoyalBlue"
          },
          "type": "rect",
          "x0": 44,
          "x1": 2,
          "y0": 9,
          "y1": 47
         },
         {
          "line": {
           "color": "RoyalBlue"
          },
          "type": "rect",
          "x0": 54,
          "x1": 5,
          "y0": 3,
          "y1": 54
         },
         {
          "line": {
           "color": "RoyalBlue"
          },
          "type": "rect",
          "x0": 52,
          "x1": 6,
          "y0": 9,
          "y1": 53
         },
         {
          "line": {
           "color": "RoyalBlue"
          },
          "type": "rect",
          "x0": 52,
          "x1": 0,
          "y0": 9,
          "y1": 53
         },
         {
          "line": {
           "color": "RoyalBlue"
          },
          "type": "rect",
          "x0": 44,
          "x1": 6,
          "y0": 8,
          "y1": 47
         },
         {
          "line": {
           "color": "RoyalBlue"
          },
          "type": "rect",
          "x0": 45,
          "x1": 3,
          "y0": 9,
          "y1": 45
         },
         {
          "line": {
           "color": "RoyalBlue"
          },
          "type": "rect",
          "x0": 54,
          "x1": 4,
          "y0": 3,
          "y1": 54
         },
         {
          "line": {
           "color": "RoyalBlue"
          },
          "type": "rect",
          "x0": 45,
          "x1": 1,
          "y0": 8,
          "y1": 45
         },
         {
          "line": {
           "color": "RoyalBlue"
          },
          "type": "rect",
          "x0": 54,
          "x1": 0,
          "y0": 3,
          "y1": 54
         },
         {
          "line": {
           "color": "RoyalBlue"
          },
          "type": "rect",
          "x0": 44,
          "x1": 2,
          "y0": 8,
          "y1": 45
         },
         {
          "line": {
           "color": "RoyalBlue"
          },
          "type": "rect",
          "x0": 45,
          "x1": 5,
          "y0": 3,
          "y1": 45
         },
         {
          "line": {
           "color": "RoyalBlue"
          },
          "type": "rect",
          "x0": 45,
          "x1": 0,
          "y0": 9,
          "y1": 46
         },
         {
          "line": {
           "color": "RoyalBlue"
          },
          "type": "rect",
          "x0": 55,
          "x1": 0,
          "y0": 3,
          "y1": 58
         },
         {
          "line": {
           "color": "RoyalBlue"
          },
          "type": "rect",
          "x0": 55,
          "x1": 6,
          "y0": 8,
          "y1": 58
         },
         {
          "line": {
           "color": "RoyalBlue"
          },
          "type": "rect",
          "x0": 55,
          "x1": 3,
          "y0": 3,
          "y1": 58
         },
         {
          "line": {
           "color": "RoyalBlue"
          },
          "type": "rect",
          "x0": 55,
          "x1": 3,
          "y0": 8,
          "y1": 55
         },
         {
          "line": {
           "color": "RoyalBlue"
          },
          "type": "rect",
          "x0": 55,
          "x1": 2,
          "y0": 3,
          "y1": 58
         },
         {
          "line": {
           "color": "RoyalBlue"
          },
          "type": "rect",
          "x0": 55,
          "x1": 1,
          "y0": 3,
          "y1": 58
         },
         {
          "line": {
           "color": "RoyalBlue"
          },
          "type": "rect",
          "x0": 55,
          "x1": 4,
          "y0": 3,
          "y1": 58
         },
         {
          "line": {
           "color": "RoyalBlue"
          },
          "type": "rect",
          "x0": 55,
          "x1": 0,
          "y0": 6,
          "y1": 58
         },
         {
          "line": {
           "color": "RoyalBlue"
          },
          "type": "rect",
          "x0": 55,
          "x1": 6,
          "y0": 3,
          "y1": 58
         },
         {
          "line": {
           "color": "RoyalBlue"
          },
          "type": "rect",
          "x0": 55,
          "x1": 5,
          "y0": 3,
          "y1": 58
         },
         {
          "line": {
           "color": "RoyalBlue"
          },
          "type": "rect",
          "x0": 55,
          "x1": 2,
          "y0": 9,
          "y1": 58
         },
         {
          "line": {
           "color": "RoyalBlue"
          },
          "type": "rect",
          "x0": 48,
          "x1": 0,
          "y0": 9,
          "y1": 51
         },
         {
          "line": {
           "color": "RoyalBlue"
          },
          "type": "rect",
          "x0": 55,
          "x1": 0,
          "y0": 9,
          "y1": 57
         },
         {
          "line": {
           "color": "RoyalBlue"
          },
          "type": "rect",
          "x0": 58,
          "x1": 1,
          "y0": 9,
          "y1": 58
         }
        ],
        "template": {
         "data": {
          "bar": [
           {
            "error_x": {
             "color": "#2a3f5f"
            },
            "error_y": {
             "color": "#2a3f5f"
            },
            "marker": {
             "line": {
              "color": "#E5ECF6",
              "width": 0.5
             }
            },
            "type": "bar"
           }
          ],
          "barpolar": [
           {
            "marker": {
             "line": {
              "color": "#E5ECF6",
              "width": 0.5
             }
            },
            "type": "barpolar"
           }
          ],
          "carpet": [
           {
            "aaxis": {
             "endlinecolor": "#2a3f5f",
             "gridcolor": "white",
             "linecolor": "white",
             "minorgridcolor": "white",
             "startlinecolor": "#2a3f5f"
            },
            "baxis": {
             "endlinecolor": "#2a3f5f",
             "gridcolor": "white",
             "linecolor": "white",
             "minorgridcolor": "white",
             "startlinecolor": "#2a3f5f"
            },
            "type": "carpet"
           }
          ],
          "choropleth": [
           {
            "colorbar": {
             "outlinewidth": 0,
             "ticks": ""
            },
            "type": "choropleth"
           }
          ],
          "contour": [
           {
            "colorbar": {
             "outlinewidth": 0,
             "ticks": ""
            },
            "colorscale": [
             [
              0,
              "#0d0887"
             ],
             [
              0.1111111111111111,
              "#46039f"
             ],
             [
              0.2222222222222222,
              "#7201a8"
             ],
             [
              0.3333333333333333,
              "#9c179e"
             ],
             [
              0.4444444444444444,
              "#bd3786"
             ],
             [
              0.5555555555555556,
              "#d8576b"
             ],
             [
              0.6666666666666666,
              "#ed7953"
             ],
             [
              0.7777777777777778,
              "#fb9f3a"
             ],
             [
              0.8888888888888888,
              "#fdca26"
             ],
             [
              1,
              "#f0f921"
             ]
            ],
            "type": "contour"
           }
          ],
          "contourcarpet": [
           {
            "colorbar": {
             "outlinewidth": 0,
             "ticks": ""
            },
            "type": "contourcarpet"
           }
          ],
          "heatmap": [
           {
            "colorbar": {
             "outlinewidth": 0,
             "ticks": ""
            },
            "colorscale": [
             [
              0,
              "#0d0887"
             ],
             [
              0.1111111111111111,
              "#46039f"
             ],
             [
              0.2222222222222222,
              "#7201a8"
             ],
             [
              0.3333333333333333,
              "#9c179e"
             ],
             [
              0.4444444444444444,
              "#bd3786"
             ],
             [
              0.5555555555555556,
              "#d8576b"
             ],
             [
              0.6666666666666666,
              "#ed7953"
             ],
             [
              0.7777777777777778,
              "#fb9f3a"
             ],
             [
              0.8888888888888888,
              "#fdca26"
             ],
             [
              1,
              "#f0f921"
             ]
            ],
            "type": "heatmap"
           }
          ],
          "heatmapgl": [
           {
            "colorbar": {
             "outlinewidth": 0,
             "ticks": ""
            },
            "colorscale": [
             [
              0,
              "#0d0887"
             ],
             [
              0.1111111111111111,
              "#46039f"
             ],
             [
              0.2222222222222222,
              "#7201a8"
             ],
             [
              0.3333333333333333,
              "#9c179e"
             ],
             [
              0.4444444444444444,
              "#bd3786"
             ],
             [
              0.5555555555555556,
              "#d8576b"
             ],
             [
              0.6666666666666666,
              "#ed7953"
             ],
             [
              0.7777777777777778,
              "#fb9f3a"
             ],
             [
              0.8888888888888888,
              "#fdca26"
             ],
             [
              1,
              "#f0f921"
             ]
            ],
            "type": "heatmapgl"
           }
          ],
          "histogram": [
           {
            "marker": {
             "colorbar": {
              "outlinewidth": 0,
              "ticks": ""
             }
            },
            "type": "histogram"
           }
          ],
          "histogram2d": [
           {
            "colorbar": {
             "outlinewidth": 0,
             "ticks": ""
            },
            "colorscale": [
             [
              0,
              "#0d0887"
             ],
             [
              0.1111111111111111,
              "#46039f"
             ],
             [
              0.2222222222222222,
              "#7201a8"
             ],
             [
              0.3333333333333333,
              "#9c179e"
             ],
             [
              0.4444444444444444,
              "#bd3786"
             ],
             [
              0.5555555555555556,
              "#d8576b"
             ],
             [
              0.6666666666666666,
              "#ed7953"
             ],
             [
              0.7777777777777778,
              "#fb9f3a"
             ],
             [
              0.8888888888888888,
              "#fdca26"
             ],
             [
              1,
              "#f0f921"
             ]
            ],
            "type": "histogram2d"
           }
          ],
          "histogram2dcontour": [
           {
            "colorbar": {
             "outlinewidth": 0,
             "ticks": ""
            },
            "colorscale": [
             [
              0,
              "#0d0887"
             ],
             [
              0.1111111111111111,
              "#46039f"
             ],
             [
              0.2222222222222222,
              "#7201a8"
             ],
             [
              0.3333333333333333,
              "#9c179e"
             ],
             [
              0.4444444444444444,
              "#bd3786"
             ],
             [
              0.5555555555555556,
              "#d8576b"
             ],
             [
              0.6666666666666666,
              "#ed7953"
             ],
             [
              0.7777777777777778,
              "#fb9f3a"
             ],
             [
              0.8888888888888888,
              "#fdca26"
             ],
             [
              1,
              "#f0f921"
             ]
            ],
            "type": "histogram2dcontour"
           }
          ],
          "mesh3d": [
           {
            "colorbar": {
             "outlinewidth": 0,
             "ticks": ""
            },
            "type": "mesh3d"
           }
          ],
          "parcoords": [
           {
            "line": {
             "colorbar": {
              "outlinewidth": 0,
              "ticks": ""
             }
            },
            "type": "parcoords"
           }
          ],
          "pie": [
           {
            "automargin": true,
            "type": "pie"
           }
          ],
          "scatter": [
           {
            "marker": {
             "colorbar": {
              "outlinewidth": 0,
              "ticks": ""
             }
            },
            "type": "scatter"
           }
          ],
          "scatter3d": [
           {
            "line": {
             "colorbar": {
              "outlinewidth": 0,
              "ticks": ""
             }
            },
            "marker": {
             "colorbar": {
              "outlinewidth": 0,
              "ticks": ""
             }
            },
            "type": "scatter3d"
           }
          ],
          "scattercarpet": [
           {
            "marker": {
             "colorbar": {
              "outlinewidth": 0,
              "ticks": ""
             }
            },
            "type": "scattercarpet"
           }
          ],
          "scattergeo": [
           {
            "marker": {
             "colorbar": {
              "outlinewidth": 0,
              "ticks": ""
             }
            },
            "type": "scattergeo"
           }
          ],
          "scattergl": [
           {
            "marker": {
             "colorbar": {
              "outlinewidth": 0,
              "ticks": ""
             }
            },
            "type": "scattergl"
           }
          ],
          "scattermapbox": [
           {
            "marker": {
             "colorbar": {
              "outlinewidth": 0,
              "ticks": ""
             }
            },
            "type": "scattermapbox"
           }
          ],
          "scatterpolar": [
           {
            "marker": {
             "colorbar": {
              "outlinewidth": 0,
              "ticks": ""
             }
            },
            "type": "scatterpolar"
           }
          ],
          "scatterpolargl": [
           {
            "marker": {
             "colorbar": {
              "outlinewidth": 0,
              "ticks": ""
             }
            },
            "type": "scatterpolargl"
           }
          ],
          "scatterternary": [
           {
            "marker": {
             "colorbar": {
              "outlinewidth": 0,
              "ticks": ""
             }
            },
            "type": "scatterternary"
           }
          ],
          "surface": [
           {
            "colorbar": {
             "outlinewidth": 0,
             "ticks": ""
            },
            "colorscale": [
             [
              0,
              "#0d0887"
             ],
             [
              0.1111111111111111,
              "#46039f"
             ],
             [
              0.2222222222222222,
              "#7201a8"
             ],
             [
              0.3333333333333333,
              "#9c179e"
             ],
             [
              0.4444444444444444,
              "#bd3786"
             ],
             [
              0.5555555555555556,
              "#d8576b"
             ],
             [
              0.6666666666666666,
              "#ed7953"
             ],
             [
              0.7777777777777778,
              "#fb9f3a"
             ],
             [
              0.8888888888888888,
              "#fdca26"
             ],
             [
              1,
              "#f0f921"
             ]
            ],
            "type": "surface"
           }
          ],
          "table": [
           {
            "cells": {
             "fill": {
              "color": "#EBF0F8"
             },
             "line": {
              "color": "white"
             }
            },
            "header": {
             "fill": {
              "color": "#C8D4E3"
             },
             "line": {
              "color": "white"
             }
            },
            "type": "table"
           }
          ]
         },
         "layout": {
          "annotationdefaults": {
           "arrowcolor": "#2a3f5f",
           "arrowhead": 0,
           "arrowwidth": 1
          },
          "autotypenumbers": "strict",
          "coloraxis": {
           "colorbar": {
            "outlinewidth": 0,
            "ticks": ""
           }
          },
          "colorscale": {
           "diverging": [
            [
             0,
             "#8e0152"
            ],
            [
             0.1,
             "#c51b7d"
            ],
            [
             0.2,
             "#de77ae"
            ],
            [
             0.3,
             "#f1b6da"
            ],
            [
             0.4,
             "#fde0ef"
            ],
            [
             0.5,
             "#f7f7f7"
            ],
            [
             0.6,
             "#e6f5d0"
            ],
            [
             0.7,
             "#b8e186"
            ],
            [
             0.8,
             "#7fbc41"
            ],
            [
             0.9,
             "#4d9221"
            ],
            [
             1,
             "#276419"
            ]
           ],
           "sequential": [
            [
             0,
             "#0d0887"
            ],
            [
             0.1111111111111111,
             "#46039f"
            ],
            [
             0.2222222222222222,
             "#7201a8"
            ],
            [
             0.3333333333333333,
             "#9c179e"
            ],
            [
             0.4444444444444444,
             "#bd3786"
            ],
            [
             0.5555555555555556,
             "#d8576b"
            ],
            [
             0.6666666666666666,
             "#ed7953"
            ],
            [
             0.7777777777777778,
             "#fb9f3a"
            ],
            [
             0.8888888888888888,
             "#fdca26"
            ],
            [
             1,
             "#f0f921"
            ]
           ],
           "sequentialminus": [
            [
             0,
             "#0d0887"
            ],
            [
             0.1111111111111111,
             "#46039f"
            ],
            [
             0.2222222222222222,
             "#7201a8"
            ],
            [
             0.3333333333333333,
             "#9c179e"
            ],
            [
             0.4444444444444444,
             "#bd3786"
            ],
            [
             0.5555555555555556,
             "#d8576b"
            ],
            [
             0.6666666666666666,
             "#ed7953"
            ],
            [
             0.7777777777777778,
             "#fb9f3a"
            ],
            [
             0.8888888888888888,
             "#fdca26"
            ],
            [
             1,
             "#f0f921"
            ]
           ]
          },
          "colorway": [
           "#636efa",
           "#EF553B",
           "#00cc96",
           "#ab63fa",
           "#FFA15A",
           "#19d3f3",
           "#FF6692",
           "#B6E880",
           "#FF97FF",
           "#FECB52"
          ],
          "font": {
           "color": "#2a3f5f"
          },
          "geo": {
           "bgcolor": "white",
           "lakecolor": "white",
           "landcolor": "#E5ECF6",
           "showlakes": true,
           "showland": true,
           "subunitcolor": "white"
          },
          "hoverlabel": {
           "align": "left"
          },
          "hovermode": "closest",
          "mapbox": {
           "style": "light"
          },
          "paper_bgcolor": "white",
          "plot_bgcolor": "#E5ECF6",
          "polar": {
           "angularaxis": {
            "gridcolor": "white",
            "linecolor": "white",
            "ticks": ""
           },
           "bgcolor": "#E5ECF6",
           "radialaxis": {
            "gridcolor": "white",
            "linecolor": "white",
            "ticks": ""
           }
          },
          "scene": {
           "xaxis": {
            "backgroundcolor": "#E5ECF6",
            "gridcolor": "white",
            "gridwidth": 2,
            "linecolor": "white",
            "showbackground": true,
            "ticks": "",
            "zerolinecolor": "white"
           },
           "yaxis": {
            "backgroundcolor": "#E5ECF6",
            "gridcolor": "white",
            "gridwidth": 2,
            "linecolor": "white",
            "showbackground": true,
            "ticks": "",
            "zerolinecolor": "white"
           },
           "zaxis": {
            "backgroundcolor": "#E5ECF6",
            "gridcolor": "white",
            "gridwidth": 2,
            "linecolor": "white",
            "showbackground": true,
            "ticks": "",
            "zerolinecolor": "white"
           }
          },
          "shapedefaults": {
           "line": {
            "color": "#2a3f5f"
           }
          },
          "ternary": {
           "aaxis": {
            "gridcolor": "white",
            "linecolor": "white",
            "ticks": ""
           },
           "baxis": {
            "gridcolor": "white",
            "linecolor": "white",
            "ticks": ""
           },
           "bgcolor": "#E5ECF6",
           "caxis": {
            "gridcolor": "white",
            "linecolor": "white",
            "ticks": ""
           }
          },
          "title": {
           "x": 0.05
          },
          "xaxis": {
           "automargin": true,
           "gridcolor": "white",
           "linecolor": "white",
           "ticks": "",
           "title": {
            "standoff": 15
           },
           "zerolinecolor": "white",
           "zerolinewidth": 2
          },
          "yaxis": {
           "automargin": true,
           "gridcolor": "white",
           "linecolor": "white",
           "ticks": "",
           "title": {
            "standoff": 15
           },
           "zerolinecolor": "white",
           "zerolinewidth": 2
          }
         }
        }
       }
      }
     },
     "metadata": {}
    }
   ],
   "source": [
    "import plotly.graph_objects as go\n",
    "from plotly.subplots import make_subplots\n",
    "\n",
    "draw_device = \"HomeOffice\"\n",
    "c_point = [[],[]]\n",
    "missed_point = [[], []]\n",
    "for c in conflict_device[draw_device]:\n",
    "    coor = ctx_info.get_coor_by_ctx(c[\"ctx\"])\n",
    "    c_point[0].append(coor[0])\n",
    "    c_point[1].append(coor[1])\n",
    "for c in missed_gt_conflicts[draw_device]:\n",
    "    coor = ctx_info.get_coor_by_ctx(c[\"ctx\"])\n",
    "    missed_point[0].append(coor[0])\n",
    "    missed_point[1].append(coor[1])\n",
    "fig = go.Figure(data=go.Scatter(x=c_point[0], y=c_point[1], mode=\"markers\"))\n",
    "fig.add_trace(go.Scatter(x=missed_point[0], y=missed_point[1], mode=\"markers\", marker=dict(color=\"red\")))\n",
    "\n",
    "for c in final_conflicts[draw_device]:\n",
    "    fig.add_shape(type=\"rect\",\n",
    "        x0=c[\"box\"][0], y0=c[\"box\"][1], x1=c[\"box\"][2], y1=c[\"box\"][3],\n",
    "        line=dict(color=\"RoyalBlue\"),\n",
    "    )\n",
    "fig.show()\n"
   ]
  },
  {
   "source": [
    "hit_miss_rate = [[],[]]\n",
    "for prob_threshold in np.arange(0.0, 0.5, 0.001):\n",
    "    test_conflict = {\n",
    "        d: [x for x in final_conflicts[d] if x[\"prob\"] >= prob_threshold]\n",
    "        for d in final_conflicts\n",
    "    }\n",
    "    missed_gt_conflicts = {d:[] for d in conflict_device}\n",
    "    hit_gt_conflicts = {d:{} for d in conflict_device}\n",
    "    for d in test_conflict:\n",
    "        hit_gt_conflicts[d] = {i:0 for i in range(len(test_conflict[d]))}\n",
    "    for d, conflicts in conflict_device.items():\n",
    "        for c in conflicts:\n",
    "            coor = ctx_info.get_coor_by_ctx(c[\"ctx\"])\n",
    "            flag = False\n",
    "            for idx,c_predict in enumerate(test_conflict[d]):\n",
    "                if does_contain_point(c_predict[\"box\"], coor):\n",
    "                    flag = True\n",
    "                    hit_gt_conflicts[d][idx] += 1\n",
    "                    break\n",
    "            if not flag:\n",
    "                missed_gt_conflicts[d].append(c)\n",
    "    all_missed_gt_conflicts = sum([len(x) for d,x in missed_gt_conflicts.items()])\n",
    "    all_gt_conflicts = sum([len(x) for d,x in conflict_device.items()])\n",
    "    hit_miss_rate[0].append(1.0 - float(all_missed_gt_conflicts) / all_gt_conflicts)\n",
    "    # print({d:len(missed_gt_conflicts[d]) for d in missed_gt_conflicts})\n",
    "    all_pred_conflicts = 0\n",
    "    all_missed_pred_conflicts = 0\n",
    "    hit_count = {d:[0,0] for d in hit_gt_conflicts}\n",
    "    for d,hit_c in hit_gt_conflicts.items():\n",
    "        for i,h in hit_c.items():\n",
    "            all_pred_conflicts += 1\n",
    "            if h == 0:\n",
    "                all_missed_pred_conflicts += 1\n",
    "                hit_count[d][0] += 1\n",
    "            else:\n",
    "                hit_count[d][1] += 1\n",
    "    hit_miss_rate[1].append(1.0 - float(all_missed_pred_conflicts) / all_pred_conflicts)\n",
    "    # print(hit_count)\n",
    "\n",
    "print(hit_miss_rate)"
   ],
   "cell_type": "code",
   "metadata": {
    "tags": []
   },
   "execution_count": 11,
   "outputs": [
    {
     "output_type": "stream",
     "name": "stdout",
     "text": [
      "[[0.8128544423440454, 0.7863894139886578, 0.7561436672967864, 0.7353497164461248, 0.724007561436673, 0.6994328922495274, 0.6956521739130435, 0.6748582230623819, 0.6635160680529301, 0.6446124763705103, 0.6275992438563327, 0.6238185255198487, 0.6238185255198487, 0.6105860113421551, 0.5879017013232515, 0.5784499054820416, 0.5784499054820416, 0.5406427221172023, 0.5255198487712666, 0.5255198487712666, 0.5255198487712666, 0.5141776937618148, 0.5141776937618148, 0.5047258979206048, 0.4820415879017014, 0.4820415879017014, 0.4593572778827977, 0.4593572778827977, 0.4593572778827977, 0.4555765595463138, 0.4555765595463138, 0.4555765595463138, 0.4555765595463138, 0.45368620037807184, 0.45179584120982985, 0.4385633270321361, 0.4385633270321361, 0.4385633270321361, 0.43289224952741023, 0.4253308128544423, 0.4253308128544423, 0.4234404536862004, 0.41965973534971646, 0.41965973534971646, 0.41965973534971646, 0.41776937618147447, 0.4158790170132325, 0.4158790170132325, 0.4158790170132325, 0.3837429111531191, 0.3837429111531191, 0.37618147448015127, 0.37618147448015127, 0.37618147448015127, 0.37618147448015127, 0.37618147448015127, 0.37618147448015127, 0.37618147448015127, 0.37618147448015127, 0.37618147448015127, 0.37618147448015127, 0.3648393194706995, 0.3497164461247637, 0.34782608695652173, 0.34782608695652173, 0.34782608695652173, 0.34782608695652173, 0.34782608695652173, 0.34782608695652173, 0.34782608695652173, 0.34404536862003776, 0.34404536862003776, 0.3402646502835539, 0.3402646502835539, 0.3402646502835539, 0.3383742911153119, 0.3383742911153119, 0.3383742911153119, 0.3383742911153119, 0.3383742911153119, 0.3270321361058601, 0.3194706994328923, 0.3194706994328923, 0.3194706994328923, 0.3194706994328923, 0.3194706994328923, 0.3194706994328923, 0.3194706994328923, 0.3194706994328923, 0.3194706994328923, 0.3194706994328923, 0.3194706994328923, 0.3194706994328923, 0.31568998109640833, 0.31568998109640833, 0.31568998109640833, 0.31568998109640833, 0.31568998109640833, 0.31568998109640833, 0.31568998109640833, 0.31568998109640833, 0.31568998109640833, 0.31568998109640833, 0.31568998109640833, 0.31568998109640833, 0.31568998109640833, 0.31568998109640833, 0.31568998109640833, 0.31568998109640833, 0.31568998109640833, 0.31568998109640833, 0.31568998109640833, 0.31568998109640833, 0.31568998109640833, 0.31568998109640833, 0.31568998109640833, 0.31568998109640833, 0.31190926275992437, 0.31190926275992437, 0.31190926275992437, 0.31190926275992437, 0.31190926275992437, 0.31190926275992437, 0.31190926275992437, 0.31190926275992437, 0.31190926275992437, 0.31190926275992437, 0.3100189035916824, 0.2986767485822306, 0.2986767485822306, 0.2986767485822306, 0.2986767485822306, 0.2986767485822306, 0.2967863894139886, 0.2967863894139886, 0.2967863894139886, 0.2967863894139886, 0.2967863894139886, 0.2967863894139886, 0.2967863894139886, 0.2967863894139886, 0.2967863894139886, 0.2967863894139886, 0.2967863894139886, 0.29111531190926276, 0.29111531190926276, 0.29111531190926276, 0.29111531190926276, 0.29111531190926276, 0.29111531190926276, 0.29111531190926276, 0.29111531190926276, 0.29111531190926276, 0.29111531190926276, 0.29111531190926276, 0.29111531190926276, 0.29111531190926276, 0.29111531190926276, 0.29111531190926276, 0.29111531190926276, 0.29111531190926276, 0.2873345935727788, 0.2873345935727788, 0.2873345935727788, 0.2873345935727788, 0.2873345935727788, 0.28355387523629494, 0.28355387523629494, 0.28355387523629494, 0.28355387523629494, 0.28355387523629494, 0.28355387523629494, 0.28355387523629494, 0.28355387523629494, 0.28355387523629494, 0.28355387523629494, 0.28166351606805295, 0.28166351606805295, 0.28166351606805295, 0.28166351606805295, 0.28166351606805295, 0.28166351606805295, 0.28166351606805295, 0.28166351606805295, 0.28166351606805295, 0.28166351606805295, 0.28166351606805295, 0.28166351606805295, 0.28166351606805295, 0.28166351606805295, 0.28166351606805295, 0.28166351606805295, 0.28166351606805295, 0.28166351606805295, 0.28166351606805295, 0.28166351606805295, 0.28166351606805295, 0.28166351606805295, 0.28166351606805295, 0.28166351606805295, 0.28166351606805295, 0.28166351606805295, 0.28166351606805295, 0.28166351606805295, 0.28166351606805295, 0.28166351606805295, 0.28166351606805295, 0.28166351606805295, 0.28166351606805295, 0.28166351606805295, 0.28166351606805295, 0.28166351606805295, 0.28166351606805295, 0.28166351606805295, 0.28166351606805295, 0.277882797731569, 0.277882797731569, 0.2627599243856332, 0.2627599243856332, 0.2627599243856332, 0.2627599243856332, 0.2627599243856332, 0.24007561436672964, 0.24007561436672964, 0.24007561436672964, 0.24007561436672964, 0.24007561436672964, 0.24007561436672964, 0.23629489603024578, 0.23629489603024578, 0.23629489603024578, 0.23629489603024578, 0.23629489603024578, 0.23629489603024578, 0.23629489603024578, 0.23629489603024578, 0.23629489603024578, 0.23629489603024578, 0.23629489603024578, 0.224952741020794, 0.224952741020794, 0.224952741020794, 0.224952741020794, 0.224952741020794, 0.21928166351606804, 0.21928166351606804, 0.2136105860113422, 0.2136105860113422, 0.2136105860113422, 0.2136105860113422, 0.2136105860113422, 0.2136105860113422, 0.2136105860113422, 0.2117202268431002, 0.2117202268431002, 0.2117202268431002, 0.2117202268431002, 0.2117202268431002, 0.2117202268431002, 0.2117202268431002, 0.20415879017013228, 0.20415879017013228, 0.20415879017013228, 0.20415879017013228, 0.20415879017013228, 0.20415879017013228, 0.20415879017013228, 0.20415879017013228, 0.20415879017013228, 0.20415879017013228, 0.20415879017013228, 0.19848771266540643, 0.19848771266540643, 0.19848771266540643, 0.19848771266540643, 0.19848771266540643, 0.19848771266540643, 0.19848771266540643, 0.19848771266540643, 0.19848771266540643, 0.19848771266540643, 0.19848771266540643, 0.19848771266540643, 0.19848771266540643, 0.19848771266540643, 0.19848771266540643, 0.19848771266540643, 0.19848771266540643, 0.19848771266540643, 0.19848771266540643, 0.19848771266540643, 0.19848771266540643, 0.19848771266540643, 0.19848771266540643, 0.19848771266540643, 0.19848771266540643, 0.19848771266540643, 0.19848771266540643, 0.19848771266540643, 0.19848771266540643, 0.19848771266540643, 0.19848771266540643, 0.19848771266540643, 0.19848771266540643, 0.19848771266540643, 0.19848771266540643, 0.19659735349716445, 0.19659735349716445, 0.19659735349716445, 0.19659735349716445, 0.19659735349716445, 0.19659735349716445, 0.19659735349716445, 0.19659735349716445, 0.19659735349716445, 0.19659735349716445, 0.19659735349716445, 0.19659735349716445, 0.19659735349716445, 0.19659735349716445, 0.19659735349716445, 0.19659735349716445, 0.19659735349716445, 0.19659735349716445, 0.19659735349716445, 0.19659735349716445, 0.19659735349716445, 0.19659735349716445, 0.19659735349716445, 0.19659735349716445, 0.19659735349716445, 0.19659735349716445, 0.19659735349716445, 0.19659735349716445, 0.19659735349716445, 0.19659735349716445, 0.19659735349716445, 0.19659735349716445, 0.19659735349716445, 0.19659735349716445, 0.19659735349716445, 0.19659735349716445, 0.19659735349716445, 0.19659735349716445, 0.19659735349716445, 0.19659735349716445, 0.19659735349716445, 0.19659735349716445, 0.19659735349716445, 0.19659735349716445, 0.19659735349716445, 0.19659735349716445, 0.19659735349716445, 0.19659735349716445, 0.19659735349716445, 0.19659735349716445, 0.19659735349716445, 0.19659735349716445, 0.19659735349716445, 0.19659735349716445, 0.19659735349716445, 0.19659735349716445, 0.19659735349716445, 0.19659735349716445, 0.19659735349716445, 0.19659735349716445, 0.19659735349716445, 0.19659735349716445, 0.19659735349716445, 0.19659735349716445, 0.19659735349716445, 0.19659735349716445, 0.19659735349716445, 0.19659735349716445, 0.19659735349716445, 0.19659735349716445, 0.19659735349716445, 0.19659735349716445, 0.19659735349716445, 0.19659735349716445, 0.19659735349716445, 0.19659735349716445, 0.19659735349716445, 0.19659735349716445, 0.19659735349716445, 0.19659735349716445, 0.19659735349716445, 0.19659735349716445, 0.19659735349716445, 0.19659735349716445, 0.19659735349716445, 0.19659735349716445, 0.19659735349716445, 0.19659735349716445, 0.19659735349716445, 0.19659735349716445, 0.19659735349716445, 0.19659735349716445, 0.19659735349716445, 0.19659735349716445, 0.19659735349716445, 0.19659735349716445, 0.19659735349716445, 0.19659735349716445, 0.18903591682419663, 0.18903591682419663, 0.18903591682419663, 0.18903591682419663, 0.18903591682419663, 0.18525519848771266, 0.18525519848771266, 0.18525519848771266, 0.18525519848771266, 0.18525519848771266, 0.18525519848771266, 0.18525519848771266, 0.18525519848771266, 0.18525519848771266, 0.18525519848771266, 0.18525519848771266, 0.18525519848771266, 0.18525519848771266, 0.18525519848771266, 0.18525519848771266, 0.18525519848771266, 0.18525519848771266, 0.18525519848771266, 0.18525519848771266, 0.18525519848771266, 0.18525519848771266, 0.18525519848771266, 0.18525519848771266, 0.18525519848771266, 0.18525519848771266, 0.18525519848771266, 0.18525519848771266, 0.18525519848771266, 0.18525519848771266, 0.18525519848771266, 0.18525519848771266, 0.1814744801512287, 0.1814744801512287, 0.1814744801512287, 0.1814744801512287, 0.1814744801512287, 0.1814744801512287, 0.1814744801512287, 0.1814744801512287, 0.1814744801512287, 0.1814744801512287, 0.1814744801512287, 0.1814744801512287, 0.1814744801512287, 0.1814744801512287, 0.1814744801512287, 0.1814744801512287, 0.1814744801512287, 0.1814744801512287, 0.1814744801512287, 0.1814744801512287, 0.1814744801512287, 0.1814744801512287, 0.1814744801512287, 0.1814744801512287, 0.1814744801512287, 0.1814744801512287, 0.1814744801512287, 0.1814744801512287, 0.1814744801512287, 0.1814744801512287, 0.1814744801512287, 0.1814744801512287, 0.1814744801512287, 0.1814744801512287, 0.1814744801512287, 0.1814744801512287, 0.1814744801512287, 0.1814744801512287, 0.1814744801512287, 0.1814744801512287, 0.1814744801512287, 0.1814744801512287, 0.1814744801512287, 0.1814744801512287, 0.17958412098298682, 0.17958412098298682, 0.17958412098298682, 0.17958412098298682, 0.17958412098298682, 0.17958412098298682, 0.17958412098298682, 0.17958412098298682, 0.17958412098298682, 0.17958412098298682, 0.17958412098298682, 0.17958412098298682, 0.17958412098298682, 0.17958412098298682, 0.17958412098298682, 0.17958412098298682], [0.2071197411003236, 0.2939759036144578, 0.3145161290322581, 0.32647058823529407, 0.3440514469453376, 0.3506944444444444, 0.36397058823529416, 0.3639846743295019, 0.3694779116465864, 0.37446808510638296, 0.3744493392070485, 0.3727272727272727, 0.37788018433179726, 0.37735849056603776, 0.37745098039215685, 0.38, 0.3937823834196891, 0.39459459459459456, 0.38888888888888884, 0.4046242774566474, 0.41420118343195267, 0.40718562874251496, 0.4121212121212121, 0.4049079754601227, 0.4025157232704403, 0.40506329113924056, 0.40909090909090906, 0.40522875816993464, 0.40522875816993464, 0.4066666666666666, 0.4093959731543624, 0.410958904109589, 0.41666666666666663, 0.4214285714285714, 0.41726618705035967, 0.4117647058823529, 0.4117647058823529, 0.42105263157894735, 0.4122137404580153, 0.4108527131782945, 0.4140625, 0.41600000000000004, 0.41463414634146345, 0.42148760330578516, 0.42500000000000004, 0.423728813559322, 0.4224137931034483, 0.4224137931034483, 0.4260869565217391, 0.4196428571428571, 0.42342342342342343, 0.41666666666666663, 0.42056074766355145, 0.42056074766355145, 0.42452830188679247, 0.4285714285714286, 0.4285714285714286, 0.4326923076923077, 0.4411764705882353, 0.4411764705882353, 0.4455445544554455, 0.4444444444444444, 0.44329896907216493, 0.4408602150537635, 0.44565217391304346, 0.4505494505494505, 0.4505494505494505, 0.4505494505494505, 0.4555555555555556, 0.4606741573033708, 0.4545454545454546, 0.4545454545454546, 0.4482758620689655, 0.4534883720930233, 0.4534883720930233, 0.44705882352941173, 0.44705882352941173, 0.44705882352941173, 0.45238095238095233, 0.45783132530120485, 0.44999999999999996, 0.4487179487179487, 0.4487179487179487, 0.4545454545454546, 0.4605263157894737, 0.4605263157894737, 0.4605263157894737, 0.4605263157894737, 0.4605263157894737, 0.4605263157894737, 0.4666666666666667, 0.4666666666666667, 0.472972972972973, 0.47887323943661975, 0.47887323943661975, 0.47887323943661975, 0.48571428571428577, 0.48571428571428577, 0.48571428571428577, 0.48571428571428577, 0.49275362318840576, 0.49275362318840576, 0.5, 0.5, 0.5, 0.5, 0.5074626865671642, 0.523076923076923, 0.523076923076923, 0.523076923076923, 0.523076923076923, 0.523076923076923, 0.523076923076923, 0.523076923076923, 0.523076923076923, 0.523076923076923, 0.523076923076923, 0.515625, 0.515625, 0.515625, 0.5238095238095238, 0.5238095238095238, 0.532258064516129, 0.540983606557377, 0.55, 0.55, 0.55, 0.5423728813559322, 0.5344827586206897, 0.543859649122807, 0.543859649122807, 0.543859649122807, 0.543859649122807, 0.5357142857142857, 0.5454545454545454, 0.5555555555555556, 0.5555555555555556, 0.5555555555555556, 0.5555555555555556, 0.5555555555555556, 0.5555555555555556, 0.5660377358490566, 0.5660377358490566, 0.5660377358490566, 0.5576923076923077, 0.5686274509803921, 0.5686274509803921, 0.5686274509803921, 0.5686274509803921, 0.5686274509803921, 0.5686274509803921, 0.5686274509803921, 0.5686274509803921, 0.5686274509803921, 0.5686274509803921, 0.5686274509803921, 0.5686274509803921, 0.5686274509803921, 0.5800000000000001, 0.5800000000000001, 0.5800000000000001, 0.5714285714285714, 0.5714285714285714, 0.5714285714285714, 0.5714285714285714, 0.5714285714285714, 0.5625, 0.5869565217391304, 0.5869565217391304, 0.5869565217391304, 0.6, 0.6, 0.6, 0.6, 0.6, 0.6, 0.5909090909090908, 0.5909090909090908, 0.5909090909090908, 0.5909090909090908, 0.5909090909090908, 0.5909090909090908, 0.6046511627906976, 0.6046511627906976, 0.6046511627906976, 0.6046511627906976, 0.6046511627906976, 0.5952380952380952, 0.5952380952380952, 0.5952380952380952, 0.5952380952380952, 0.5952380952380952, 0.5952380952380952, 0.6097560975609756, 0.6097560975609756, 0.6097560975609756, 0.6097560975609756, 0.6097560975609756, 0.6097560975609756, 0.6097560975609756, 0.6097560975609756, 0.6097560975609756, 0.6097560975609756, 0.6097560975609756, 0.6097560975609756, 0.6097560975609756, 0.625, 0.625, 0.625, 0.625, 0.625, 0.625, 0.625, 0.625, 0.625, 0.6153846153846154, 0.6153846153846154, 0.6052631578947368, 0.6052631578947368, 0.6052631578947368, 0.6052631578947368, 0.6052631578947368, 0.5945945945945945, 0.5945945945945945, 0.5945945945945945, 0.5945945945945945, 0.5945945945945945, 0.6111111111111112, 0.6285714285714286, 0.6285714285714286, 0.6285714285714286, 0.6285714285714286, 0.6285714285714286, 0.6285714285714286, 0.6285714285714286, 0.6285714285714286, 0.6285714285714286, 0.6285714285714286, 0.6285714285714286, 0.6176470588235294, 0.6176470588235294, 0.6176470588235294, 0.6176470588235294, 0.6176470588235294, 0.59375, 0.6129032258064516, 0.6206896551724138, 0.6206896551724138, 0.6206896551724138, 0.6206896551724138, 0.6428571428571428, 0.6428571428571428, 0.6428571428571428, 0.6296296296296297, 0.6296296296296297, 0.6296296296296297, 0.6296296296296297, 0.6296296296296297, 0.6296296296296297, 0.6296296296296297, 0.6153846153846154, 0.6153846153846154, 0.6153846153846154, 0.6153846153846154, 0.6153846153846154, 0.6153846153846154, 0.6153846153846154, 0.6153846153846154, 0.6153846153846154, 0.6153846153846154, 0.6153846153846154, 0.6, 0.6, 0.6, 0.6, 0.6, 0.6, 0.6, 0.6, 0.6, 0.6, 0.6, 0.6, 0.6, 0.6, 0.6, 0.6, 0.6, 0.6, 0.6, 0.6, 0.6, 0.6, 0.6, 0.6, 0.6, 0.6, 0.6, 0.6, 0.6, 0.6, 0.6, 0.6, 0.6, 0.625, 0.625, 0.6086956521739131, 0.6086956521739131, 0.6086956521739131, 0.6086956521739131, 0.6086956521739131, 0.6086956521739131, 0.6086956521739131, 0.6086956521739131, 0.6086956521739131, 0.6086956521739131, 0.6086956521739131, 0.6086956521739131, 0.6086956521739131, 0.6086956521739131, 0.6086956521739131, 0.6086956521739131, 0.6086956521739131, 0.6666666666666667, 0.6666666666666667, 0.6666666666666667, 0.6666666666666667, 0.6666666666666667, 0.6666666666666667, 0.7, 0.7, 0.7, 0.7, 0.7, 0.7, 0.7, 0.7, 0.7, 0.7, 0.7, 0.7, 0.7, 0.7, 0.7, 0.7, 0.7, 0.7, 0.7, 0.7, 0.7, 0.7, 0.7, 0.7, 0.7, 0.7, 0.7, 0.7, 0.7, 0.7, 0.7, 0.7, 0.7, 0.7, 0.7, 0.7, 0.7, 0.7, 0.7, 0.7, 0.7, 0.7, 0.7, 0.7, 0.7, 0.736842105263158, 0.736842105263158, 0.736842105263158, 0.736842105263158, 0.736842105263158, 0.736842105263158, 0.736842105263158, 0.736842105263158, 0.736842105263158, 0.736842105263158, 0.736842105263158, 0.736842105263158, 0.736842105263158, 0.736842105263158, 0.736842105263158, 0.736842105263158, 0.736842105263158, 0.736842105263158, 0.736842105263158, 0.736842105263158, 0.736842105263158, 0.736842105263158, 0.736842105263158, 0.736842105263158, 0.736842105263158, 0.736842105263158, 0.736842105263158, 0.736842105263158, 0.736842105263158, 0.736842105263158, 0.7222222222222222, 0.7222222222222222, 0.7222222222222222, 0.7222222222222222, 0.7222222222222222, 0.7058823529411764, 0.7058823529411764, 0.7058823529411764, 0.7058823529411764, 0.7058823529411764, 0.7058823529411764, 0.7058823529411764, 0.7058823529411764, 0.7058823529411764, 0.7058823529411764, 0.7058823529411764, 0.7058823529411764, 0.7058823529411764, 0.7058823529411764, 0.7058823529411764, 0.7058823529411764, 0.7058823529411764, 0.7058823529411764, 0.7058823529411764, 0.7058823529411764, 0.7058823529411764, 0.7058823529411764, 0.7058823529411764, 0.75, 0.75, 0.75, 0.75, 0.75, 0.75, 0.75, 0.75, 0.7333333333333334, 0.7333333333333334, 0.7333333333333334, 0.7333333333333334, 0.7333333333333334, 0.7333333333333334, 0.7333333333333334, 0.7333333333333334, 0.7333333333333334, 0.7333333333333334, 0.7333333333333334, 0.7333333333333334, 0.7333333333333334, 0.7333333333333334, 0.7333333333333334, 0.7333333333333334, 0.7333333333333334, 0.7333333333333334, 0.7333333333333334, 0.7333333333333334, 0.7333333333333334, 0.7333333333333334, 0.7333333333333334, 0.7333333333333334, 0.7333333333333334, 0.7333333333333334, 0.7333333333333334, 0.7333333333333334, 0.7333333333333334, 0.7333333333333334, 0.7333333333333334, 0.7333333333333334, 0.7333333333333334, 0.7333333333333334, 0.7333333333333334, 0.7333333333333334, 0.7333333333333334, 0.7333333333333334, 0.7333333333333334, 0.7333333333333334, 0.7333333333333334, 0.7333333333333334, 0.7333333333333334, 0.7857142857142857, 0.7692307692307692, 0.7692307692307692, 0.7692307692307692, 0.7692307692307692, 0.7692307692307692, 0.7692307692307692, 0.7692307692307692, 0.7692307692307692, 0.7692307692307692, 0.7692307692307692, 0.7692307692307692, 0.7692307692307692, 0.7692307692307692, 0.7692307692307692, 0.7692307692307692, 0.7692307692307692]]\n"
     ]
    }
   ]
  },
  {
   "cell_type": "code",
   "execution_count": 12,
   "metadata": {},
   "outputs": [
    {
     "output_type": "stream",
     "name": "stdout",
     "text": [
      "500\n"
     ]
    },
    {
     "output_type": "display_data",
     "data": {
      "application/vnd.plotly.v1+json": {
       "config": {
        "plotlyServerURL": "https://plot.ly"
       },
       "data": [
        {
         "mode": "lines+markers",
         "type": "scatter",
         "x": [
          0.8128544423440454,
          0.7863894139886578,
          0.7561436672967864,
          0.7353497164461248,
          0.724007561436673,
          0.6994328922495274,
          0.6956521739130435,
          0.6748582230623819,
          0.6635160680529301,
          0.6446124763705103,
          0.6275992438563327,
          0.6238185255198487,
          0.6238185255198487,
          0.6105860113421551,
          0.5879017013232515,
          0.5784499054820416,
          0.5784499054820416,
          0.5406427221172023,
          0.5255198487712666,
          0.5255198487712666,
          0.5255198487712666,
          0.5141776937618148,
          0.5141776937618148,
          0.5047258979206048,
          0.4820415879017014,
          0.4820415879017014,
          0.4593572778827977,
          0.4593572778827977,
          0.4593572778827977,
          0.4555765595463138,
          0.4555765595463138,
          0.4555765595463138,
          0.4555765595463138,
          0.45368620037807184,
          0.45179584120982985,
          0.4385633270321361,
          0.4385633270321361,
          0.4385633270321361,
          0.43289224952741023,
          0.4253308128544423,
          0.4253308128544423,
          0.4234404536862004,
          0.41965973534971646,
          0.41965973534971646,
          0.41965973534971646,
          0.41776937618147447,
          0.4158790170132325,
          0.4158790170132325,
          0.4158790170132325,
          0.3837429111531191,
          0.3837429111531191,
          0.37618147448015127,
          0.37618147448015127,
          0.37618147448015127,
          0.37618147448015127,
          0.37618147448015127,
          0.37618147448015127,
          0.37618147448015127,
          0.37618147448015127,
          0.37618147448015127,
          0.37618147448015127,
          0.3648393194706995,
          0.3497164461247637,
          0.34782608695652173,
          0.34782608695652173,
          0.34782608695652173,
          0.34782608695652173,
          0.34782608695652173,
          0.34782608695652173,
          0.34782608695652173,
          0.34404536862003776,
          0.34404536862003776,
          0.3402646502835539,
          0.3402646502835539,
          0.3402646502835539,
          0.3383742911153119,
          0.3383742911153119,
          0.3383742911153119,
          0.3383742911153119,
          0.3383742911153119,
          0.3270321361058601,
          0.3194706994328923,
          0.3194706994328923,
          0.3194706994328923,
          0.3194706994328923,
          0.3194706994328923,
          0.3194706994328923,
          0.3194706994328923,
          0.3194706994328923,
          0.3194706994328923,
          0.3194706994328923,
          0.3194706994328923,
          0.3194706994328923,
          0.31568998109640833,
          0.31568998109640833,
          0.31568998109640833,
          0.31568998109640833,
          0.31568998109640833,
          0.31568998109640833,
          0.31568998109640833,
          0.31568998109640833,
          0.31568998109640833,
          0.31568998109640833,
          0.31568998109640833,
          0.31568998109640833,
          0.31568998109640833,
          0.31568998109640833,
          0.31568998109640833,
          0.31568998109640833,
          0.31568998109640833,
          0.31568998109640833,
          0.31568998109640833,
          0.31568998109640833,
          0.31568998109640833,
          0.31568998109640833,
          0.31568998109640833,
          0.31568998109640833,
          0.31190926275992437,
          0.31190926275992437,
          0.31190926275992437,
          0.31190926275992437,
          0.31190926275992437,
          0.31190926275992437,
          0.31190926275992437,
          0.31190926275992437,
          0.31190926275992437,
          0.31190926275992437,
          0.3100189035916824,
          0.2986767485822306,
          0.2986767485822306,
          0.2986767485822306,
          0.2986767485822306,
          0.2986767485822306,
          0.2967863894139886,
          0.2967863894139886,
          0.2967863894139886,
          0.2967863894139886,
          0.2967863894139886,
          0.2967863894139886,
          0.2967863894139886,
          0.2967863894139886,
          0.2967863894139886,
          0.2967863894139886,
          0.2967863894139886,
          0.29111531190926276,
          0.29111531190926276,
          0.29111531190926276,
          0.29111531190926276,
          0.29111531190926276,
          0.29111531190926276,
          0.29111531190926276,
          0.29111531190926276,
          0.29111531190926276,
          0.29111531190926276,
          0.29111531190926276,
          0.29111531190926276,
          0.29111531190926276,
          0.29111531190926276,
          0.29111531190926276,
          0.29111531190926276,
          0.29111531190926276,
          0.2873345935727788,
          0.2873345935727788,
          0.2873345935727788,
          0.2873345935727788,
          0.2873345935727788,
          0.28355387523629494,
          0.28355387523629494,
          0.28355387523629494,
          0.28355387523629494,
          0.28355387523629494,
          0.28355387523629494,
          0.28355387523629494,
          0.28355387523629494,
          0.28355387523629494,
          0.28355387523629494,
          0.28166351606805295,
          0.28166351606805295,
          0.28166351606805295,
          0.28166351606805295,
          0.28166351606805295,
          0.28166351606805295,
          0.28166351606805295,
          0.28166351606805295,
          0.28166351606805295,
          0.28166351606805295,
          0.28166351606805295,
          0.28166351606805295,
          0.28166351606805295,
          0.28166351606805295,
          0.28166351606805295,
          0.28166351606805295,
          0.28166351606805295,
          0.28166351606805295,
          0.28166351606805295,
          0.28166351606805295,
          0.28166351606805295,
          0.28166351606805295,
          0.28166351606805295,
          0.28166351606805295,
          0.28166351606805295,
          0.28166351606805295,
          0.28166351606805295,
          0.28166351606805295,
          0.28166351606805295,
          0.28166351606805295,
          0.28166351606805295,
          0.28166351606805295,
          0.28166351606805295,
          0.28166351606805295,
          0.28166351606805295,
          0.28166351606805295,
          0.28166351606805295,
          0.28166351606805295,
          0.28166351606805295,
          0.277882797731569,
          0.277882797731569,
          0.2627599243856332,
          0.2627599243856332,
          0.2627599243856332,
          0.2627599243856332,
          0.2627599243856332,
          0.24007561436672964,
          0.24007561436672964,
          0.24007561436672964,
          0.24007561436672964,
          0.24007561436672964,
          0.24007561436672964,
          0.23629489603024578,
          0.23629489603024578,
          0.23629489603024578,
          0.23629489603024578,
          0.23629489603024578,
          0.23629489603024578,
          0.23629489603024578,
          0.23629489603024578,
          0.23629489603024578,
          0.23629489603024578,
          0.23629489603024578,
          0.224952741020794,
          0.224952741020794,
          0.224952741020794,
          0.224952741020794,
          0.224952741020794,
          0.21928166351606804,
          0.21928166351606804,
          0.2136105860113422,
          0.2136105860113422,
          0.2136105860113422,
          0.2136105860113422,
          0.2136105860113422,
          0.2136105860113422,
          0.2136105860113422,
          0.2117202268431002,
          0.2117202268431002,
          0.2117202268431002,
          0.2117202268431002,
          0.2117202268431002,
          0.2117202268431002,
          0.2117202268431002,
          0.20415879017013228,
          0.20415879017013228,
          0.20415879017013228,
          0.20415879017013228,
          0.20415879017013228,
          0.20415879017013228,
          0.20415879017013228,
          0.20415879017013228,
          0.20415879017013228,
          0.20415879017013228,
          0.20415879017013228,
          0.19848771266540643,
          0.19848771266540643,
          0.19848771266540643,
          0.19848771266540643,
          0.19848771266540643,
          0.19848771266540643,
          0.19848771266540643,
          0.19848771266540643,
          0.19848771266540643,
          0.19848771266540643,
          0.19848771266540643,
          0.19848771266540643,
          0.19848771266540643,
          0.19848771266540643,
          0.19848771266540643,
          0.19848771266540643,
          0.19848771266540643,
          0.19848771266540643,
          0.19848771266540643,
          0.19848771266540643,
          0.19848771266540643,
          0.19848771266540643,
          0.19848771266540643,
          0.19848771266540643,
          0.19848771266540643,
          0.19848771266540643,
          0.19848771266540643,
          0.19848771266540643,
          0.19848771266540643,
          0.19848771266540643,
          0.19848771266540643,
          0.19848771266540643,
          0.19848771266540643,
          0.19848771266540643,
          0.19848771266540643,
          0.19659735349716445,
          0.19659735349716445,
          0.19659735349716445,
          0.19659735349716445,
          0.19659735349716445,
          0.19659735349716445,
          0.19659735349716445,
          0.19659735349716445,
          0.19659735349716445,
          0.19659735349716445,
          0.19659735349716445,
          0.19659735349716445,
          0.19659735349716445,
          0.19659735349716445,
          0.19659735349716445,
          0.19659735349716445,
          0.19659735349716445,
          0.19659735349716445,
          0.19659735349716445,
          0.19659735349716445,
          0.19659735349716445,
          0.19659735349716445,
          0.19659735349716445,
          0.19659735349716445,
          0.19659735349716445,
          0.19659735349716445,
          0.19659735349716445,
          0.19659735349716445,
          0.19659735349716445,
          0.19659735349716445,
          0.19659735349716445,
          0.19659735349716445,
          0.19659735349716445,
          0.19659735349716445,
          0.19659735349716445,
          0.19659735349716445,
          0.19659735349716445,
          0.19659735349716445,
          0.19659735349716445,
          0.19659735349716445,
          0.19659735349716445,
          0.19659735349716445,
          0.19659735349716445,
          0.19659735349716445,
          0.19659735349716445,
          0.19659735349716445,
          0.19659735349716445,
          0.19659735349716445,
          0.19659735349716445,
          0.19659735349716445,
          0.19659735349716445,
          0.19659735349716445,
          0.19659735349716445,
          0.19659735349716445,
          0.19659735349716445,
          0.19659735349716445,
          0.19659735349716445,
          0.19659735349716445,
          0.19659735349716445,
          0.19659735349716445,
          0.19659735349716445,
          0.19659735349716445,
          0.19659735349716445,
          0.19659735349716445,
          0.19659735349716445,
          0.19659735349716445,
          0.19659735349716445,
          0.19659735349716445,
          0.19659735349716445,
          0.19659735349716445,
          0.19659735349716445,
          0.19659735349716445,
          0.19659735349716445,
          0.19659735349716445,
          0.19659735349716445,
          0.19659735349716445,
          0.19659735349716445,
          0.19659735349716445,
          0.19659735349716445,
          0.19659735349716445,
          0.19659735349716445,
          0.19659735349716445,
          0.19659735349716445,
          0.19659735349716445,
          0.19659735349716445,
          0.19659735349716445,
          0.19659735349716445,
          0.19659735349716445,
          0.19659735349716445,
          0.19659735349716445,
          0.19659735349716445,
          0.19659735349716445,
          0.19659735349716445,
          0.19659735349716445,
          0.19659735349716445,
          0.19659735349716445,
          0.19659735349716445,
          0.19659735349716445,
          0.18903591682419663,
          0.18903591682419663,
          0.18903591682419663,
          0.18903591682419663,
          0.18903591682419663,
          0.18525519848771266,
          0.18525519848771266,
          0.18525519848771266,
          0.18525519848771266,
          0.18525519848771266,
          0.18525519848771266,
          0.18525519848771266,
          0.18525519848771266,
          0.18525519848771266,
          0.18525519848771266,
          0.18525519848771266,
          0.18525519848771266,
          0.18525519848771266,
          0.18525519848771266,
          0.18525519848771266,
          0.18525519848771266,
          0.18525519848771266,
          0.18525519848771266,
          0.18525519848771266,
          0.18525519848771266,
          0.18525519848771266,
          0.18525519848771266,
          0.18525519848771266,
          0.18525519848771266,
          0.18525519848771266,
          0.18525519848771266,
          0.18525519848771266,
          0.18525519848771266,
          0.18525519848771266,
          0.18525519848771266,
          0.18525519848771266,
          0.1814744801512287,
          0.1814744801512287,
          0.1814744801512287,
          0.1814744801512287,
          0.1814744801512287,
          0.1814744801512287,
          0.1814744801512287,
          0.1814744801512287,
          0.1814744801512287,
          0.1814744801512287,
          0.1814744801512287,
          0.1814744801512287,
          0.1814744801512287,
          0.1814744801512287,
          0.1814744801512287,
          0.1814744801512287,
          0.1814744801512287,
          0.1814744801512287,
          0.1814744801512287,
          0.1814744801512287,
          0.1814744801512287,
          0.1814744801512287,
          0.1814744801512287,
          0.1814744801512287,
          0.1814744801512287,
          0.1814744801512287,
          0.1814744801512287,
          0.1814744801512287,
          0.1814744801512287,
          0.1814744801512287,
          0.1814744801512287,
          0.1814744801512287,
          0.1814744801512287,
          0.1814744801512287,
          0.1814744801512287,
          0.1814744801512287,
          0.1814744801512287,
          0.1814744801512287,
          0.1814744801512287,
          0.1814744801512287,
          0.1814744801512287,
          0.1814744801512287,
          0.1814744801512287,
          0.1814744801512287,
          0.17958412098298682,
          0.17958412098298682,
          0.17958412098298682,
          0.17958412098298682,
          0.17958412098298682,
          0.17958412098298682,
          0.17958412098298682,
          0.17958412098298682,
          0.17958412098298682,
          0.17958412098298682,
          0.17958412098298682,
          0.17958412098298682,
          0.17958412098298682,
          0.17958412098298682,
          0.17958412098298682,
          0.17958412098298682
         ],
         "y": [
          0.2071197411003236,
          0.2939759036144578,
          0.3145161290322581,
          0.32647058823529407,
          0.3440514469453376,
          0.3506944444444444,
          0.36397058823529416,
          0.3639846743295019,
          0.3694779116465864,
          0.37446808510638296,
          0.3744493392070485,
          0.3727272727272727,
          0.37788018433179726,
          0.37735849056603776,
          0.37745098039215685,
          0.38,
          0.3937823834196891,
          0.39459459459459456,
          0.38888888888888884,
          0.4046242774566474,
          0.41420118343195267,
          0.40718562874251496,
          0.4121212121212121,
          0.4049079754601227,
          0.4025157232704403,
          0.40506329113924056,
          0.40909090909090906,
          0.40522875816993464,
          0.40522875816993464,
          0.4066666666666666,
          0.4093959731543624,
          0.410958904109589,
          0.41666666666666663,
          0.4214285714285714,
          0.41726618705035967,
          0.4117647058823529,
          0.4117647058823529,
          0.42105263157894735,
          0.4122137404580153,
          0.4108527131782945,
          0.4140625,
          0.41600000000000004,
          0.41463414634146345,
          0.42148760330578516,
          0.42500000000000004,
          0.423728813559322,
          0.4224137931034483,
          0.4224137931034483,
          0.4260869565217391,
          0.4196428571428571,
          0.42342342342342343,
          0.41666666666666663,
          0.42056074766355145,
          0.42056074766355145,
          0.42452830188679247,
          0.4285714285714286,
          0.4285714285714286,
          0.4326923076923077,
          0.4411764705882353,
          0.4411764705882353,
          0.4455445544554455,
          0.4444444444444444,
          0.44329896907216493,
          0.4408602150537635,
          0.44565217391304346,
          0.4505494505494505,
          0.4505494505494505,
          0.4505494505494505,
          0.4555555555555556,
          0.4606741573033708,
          0.4545454545454546,
          0.4545454545454546,
          0.4482758620689655,
          0.4534883720930233,
          0.4534883720930233,
          0.44705882352941173,
          0.44705882352941173,
          0.44705882352941173,
          0.45238095238095233,
          0.45783132530120485,
          0.44999999999999996,
          0.4487179487179487,
          0.4487179487179487,
          0.4545454545454546,
          0.4605263157894737,
          0.4605263157894737,
          0.4605263157894737,
          0.4605263157894737,
          0.4605263157894737,
          0.4605263157894737,
          0.4666666666666667,
          0.4666666666666667,
          0.472972972972973,
          0.47887323943661975,
          0.47887323943661975,
          0.47887323943661975,
          0.48571428571428577,
          0.48571428571428577,
          0.48571428571428577,
          0.48571428571428577,
          0.49275362318840576,
          0.49275362318840576,
          0.5,
          0.5,
          0.5,
          0.5,
          0.5074626865671642,
          0.523076923076923,
          0.523076923076923,
          0.523076923076923,
          0.523076923076923,
          0.523076923076923,
          0.523076923076923,
          0.523076923076923,
          0.523076923076923,
          0.523076923076923,
          0.523076923076923,
          0.515625,
          0.515625,
          0.515625,
          0.5238095238095238,
          0.5238095238095238,
          0.532258064516129,
          0.540983606557377,
          0.55,
          0.55,
          0.55,
          0.5423728813559322,
          0.5344827586206897,
          0.543859649122807,
          0.543859649122807,
          0.543859649122807,
          0.543859649122807,
          0.5357142857142857,
          0.5454545454545454,
          0.5555555555555556,
          0.5555555555555556,
          0.5555555555555556,
          0.5555555555555556,
          0.5555555555555556,
          0.5555555555555556,
          0.5660377358490566,
          0.5660377358490566,
          0.5660377358490566,
          0.5576923076923077,
          0.5686274509803921,
          0.5686274509803921,
          0.5686274509803921,
          0.5686274509803921,
          0.5686274509803921,
          0.5686274509803921,
          0.5686274509803921,
          0.5686274509803921,
          0.5686274509803921,
          0.5686274509803921,
          0.5686274509803921,
          0.5686274509803921,
          0.5686274509803921,
          0.5800000000000001,
          0.5800000000000001,
          0.5800000000000001,
          0.5714285714285714,
          0.5714285714285714,
          0.5714285714285714,
          0.5714285714285714,
          0.5714285714285714,
          0.5625,
          0.5869565217391304,
          0.5869565217391304,
          0.5869565217391304,
          0.6,
          0.6,
          0.6,
          0.6,
          0.6,
          0.6,
          0.5909090909090908,
          0.5909090909090908,
          0.5909090909090908,
          0.5909090909090908,
          0.5909090909090908,
          0.5909090909090908,
          0.6046511627906976,
          0.6046511627906976,
          0.6046511627906976,
          0.6046511627906976,
          0.6046511627906976,
          0.5952380952380952,
          0.5952380952380952,
          0.5952380952380952,
          0.5952380952380952,
          0.5952380952380952,
          0.5952380952380952,
          0.6097560975609756,
          0.6097560975609756,
          0.6097560975609756,
          0.6097560975609756,
          0.6097560975609756,
          0.6097560975609756,
          0.6097560975609756,
          0.6097560975609756,
          0.6097560975609756,
          0.6097560975609756,
          0.6097560975609756,
          0.6097560975609756,
          0.6097560975609756,
          0.625,
          0.625,
          0.625,
          0.625,
          0.625,
          0.625,
          0.625,
          0.625,
          0.625,
          0.6153846153846154,
          0.6153846153846154,
          0.6052631578947368,
          0.6052631578947368,
          0.6052631578947368,
          0.6052631578947368,
          0.6052631578947368,
          0.5945945945945945,
          0.5945945945945945,
          0.5945945945945945,
          0.5945945945945945,
          0.5945945945945945,
          0.6111111111111112,
          0.6285714285714286,
          0.6285714285714286,
          0.6285714285714286,
          0.6285714285714286,
          0.6285714285714286,
          0.6285714285714286,
          0.6285714285714286,
          0.6285714285714286,
          0.6285714285714286,
          0.6285714285714286,
          0.6285714285714286,
          0.6176470588235294,
          0.6176470588235294,
          0.6176470588235294,
          0.6176470588235294,
          0.6176470588235294,
          0.59375,
          0.6129032258064516,
          0.6206896551724138,
          0.6206896551724138,
          0.6206896551724138,
          0.6206896551724138,
          0.6428571428571428,
          0.6428571428571428,
          0.6428571428571428,
          0.6296296296296297,
          0.6296296296296297,
          0.6296296296296297,
          0.6296296296296297,
          0.6296296296296297,
          0.6296296296296297,
          0.6296296296296297,
          0.6153846153846154,
          0.6153846153846154,
          0.6153846153846154,
          0.6153846153846154,
          0.6153846153846154,
          0.6153846153846154,
          0.6153846153846154,
          0.6153846153846154,
          0.6153846153846154,
          0.6153846153846154,
          0.6153846153846154,
          0.6,
          0.6,
          0.6,
          0.6,
          0.6,
          0.6,
          0.6,
          0.6,
          0.6,
          0.6,
          0.6,
          0.6,
          0.6,
          0.6,
          0.6,
          0.6,
          0.6,
          0.6,
          0.6,
          0.6,
          0.6,
          0.6,
          0.6,
          0.6,
          0.6,
          0.6,
          0.6,
          0.6,
          0.6,
          0.6,
          0.6,
          0.6,
          0.6,
          0.625,
          0.625,
          0.6086956521739131,
          0.6086956521739131,
          0.6086956521739131,
          0.6086956521739131,
          0.6086956521739131,
          0.6086956521739131,
          0.6086956521739131,
          0.6086956521739131,
          0.6086956521739131,
          0.6086956521739131,
          0.6086956521739131,
          0.6086956521739131,
          0.6086956521739131,
          0.6086956521739131,
          0.6086956521739131,
          0.6086956521739131,
          0.6086956521739131,
          0.6666666666666667,
          0.6666666666666667,
          0.6666666666666667,
          0.6666666666666667,
          0.6666666666666667,
          0.6666666666666667,
          0.7,
          0.7,
          0.7,
          0.7,
          0.7,
          0.7,
          0.7,
          0.7,
          0.7,
          0.7,
          0.7,
          0.7,
          0.7,
          0.7,
          0.7,
          0.7,
          0.7,
          0.7,
          0.7,
          0.7,
          0.7,
          0.7,
          0.7,
          0.7,
          0.7,
          0.7,
          0.7,
          0.7,
          0.7,
          0.7,
          0.7,
          0.7,
          0.7,
          0.7,
          0.7,
          0.7,
          0.7,
          0.7,
          0.7,
          0.7,
          0.7,
          0.7,
          0.7,
          0.7,
          0.7,
          0.736842105263158,
          0.736842105263158,
          0.736842105263158,
          0.736842105263158,
          0.736842105263158,
          0.736842105263158,
          0.736842105263158,
          0.736842105263158,
          0.736842105263158,
          0.736842105263158,
          0.736842105263158,
          0.736842105263158,
          0.736842105263158,
          0.736842105263158,
          0.736842105263158,
          0.736842105263158,
          0.736842105263158,
          0.736842105263158,
          0.736842105263158,
          0.736842105263158,
          0.736842105263158,
          0.736842105263158,
          0.736842105263158,
          0.736842105263158,
          0.736842105263158,
          0.736842105263158,
          0.736842105263158,
          0.736842105263158,
          0.736842105263158,
          0.736842105263158,
          0.7222222222222222,
          0.7222222222222222,
          0.7222222222222222,
          0.7222222222222222,
          0.7222222222222222,
          0.7058823529411764,
          0.7058823529411764,
          0.7058823529411764,
          0.7058823529411764,
          0.7058823529411764,
          0.7058823529411764,
          0.7058823529411764,
          0.7058823529411764,
          0.7058823529411764,
          0.7058823529411764,
          0.7058823529411764,
          0.7058823529411764,
          0.7058823529411764,
          0.7058823529411764,
          0.7058823529411764,
          0.7058823529411764,
          0.7058823529411764,
          0.7058823529411764,
          0.7058823529411764,
          0.7058823529411764,
          0.7058823529411764,
          0.7058823529411764,
          0.7058823529411764,
          0.75,
          0.75,
          0.75,
          0.75,
          0.75,
          0.75,
          0.75,
          0.75,
          0.7333333333333334,
          0.7333333333333334,
          0.7333333333333334,
          0.7333333333333334,
          0.7333333333333334,
          0.7333333333333334,
          0.7333333333333334,
          0.7333333333333334,
          0.7333333333333334,
          0.7333333333333334,
          0.7333333333333334,
          0.7333333333333334,
          0.7333333333333334,
          0.7333333333333334,
          0.7333333333333334,
          0.7333333333333334,
          0.7333333333333334,
          0.7333333333333334,
          0.7333333333333334,
          0.7333333333333334,
          0.7333333333333334,
          0.7333333333333334,
          0.7333333333333334,
          0.7333333333333334,
          0.7333333333333334,
          0.7333333333333334,
          0.7333333333333334,
          0.7333333333333334,
          0.7333333333333334,
          0.7333333333333334,
          0.7333333333333334,
          0.7333333333333334,
          0.7333333333333334,
          0.7333333333333334,
          0.7333333333333334,
          0.7333333333333334,
          0.7333333333333334,
          0.7333333333333334,
          0.7333333333333334,
          0.7333333333333334,
          0.7333333333333334,
          0.7333333333333334,
          0.7333333333333334,
          0.7857142857142857,
          0.7692307692307692,
          0.7692307692307692,
          0.7692307692307692,
          0.7692307692307692,
          0.7692307692307692,
          0.7692307692307692,
          0.7692307692307692,
          0.7692307692307692,
          0.7692307692307692,
          0.7692307692307692,
          0.7692307692307692,
          0.7692307692307692,
          0.7692307692307692,
          0.7692307692307692,
          0.7692307692307692,
          0.7692307692307692
         ]
        }
       ],
       "layout": {
        "template": {
         "data": {
          "bar": [
           {
            "error_x": {
             "color": "#2a3f5f"
            },
            "error_y": {
             "color": "#2a3f5f"
            },
            "marker": {
             "line": {
              "color": "#E5ECF6",
              "width": 0.5
             }
            },
            "type": "bar"
           }
          ],
          "barpolar": [
           {
            "marker": {
             "line": {
              "color": "#E5ECF6",
              "width": 0.5
             }
            },
            "type": "barpolar"
           }
          ],
          "carpet": [
           {
            "aaxis": {
             "endlinecolor": "#2a3f5f",
             "gridcolor": "white",
             "linecolor": "white",
             "minorgridcolor": "white",
             "startlinecolor": "#2a3f5f"
            },
            "baxis": {
             "endlinecolor": "#2a3f5f",
             "gridcolor": "white",
             "linecolor": "white",
             "minorgridcolor": "white",
             "startlinecolor": "#2a3f5f"
            },
            "type": "carpet"
           }
          ],
          "choropleth": [
           {
            "colorbar": {
             "outlinewidth": 0,
             "ticks": ""
            },
            "type": "choropleth"
           }
          ],
          "contour": [
           {
            "colorbar": {
             "outlinewidth": 0,
             "ticks": ""
            },
            "colorscale": [
             [
              0,
              "#0d0887"
             ],
             [
              0.1111111111111111,
              "#46039f"
             ],
             [
              0.2222222222222222,
              "#7201a8"
             ],
             [
              0.3333333333333333,
              "#9c179e"
             ],
             [
              0.4444444444444444,
              "#bd3786"
             ],
             [
              0.5555555555555556,
              "#d8576b"
             ],
             [
              0.6666666666666666,
              "#ed7953"
             ],
             [
              0.7777777777777778,
              "#fb9f3a"
             ],
             [
              0.8888888888888888,
              "#fdca26"
             ],
             [
              1,
              "#f0f921"
             ]
            ],
            "type": "contour"
           }
          ],
          "contourcarpet": [
           {
            "colorbar": {
             "outlinewidth": 0,
             "ticks": ""
            },
            "type": "contourcarpet"
           }
          ],
          "heatmap": [
           {
            "colorbar": {
             "outlinewidth": 0,
             "ticks": ""
            },
            "colorscale": [
             [
              0,
              "#0d0887"
             ],
             [
              0.1111111111111111,
              "#46039f"
             ],
             [
              0.2222222222222222,
              "#7201a8"
             ],
             [
              0.3333333333333333,
              "#9c179e"
             ],
             [
              0.4444444444444444,
              "#bd3786"
             ],
             [
              0.5555555555555556,
              "#d8576b"
             ],
             [
              0.6666666666666666,
              "#ed7953"
             ],
             [
              0.7777777777777778,
              "#fb9f3a"
             ],
             [
              0.8888888888888888,
              "#fdca26"
             ],
             [
              1,
              "#f0f921"
             ]
            ],
            "type": "heatmap"
           }
          ],
          "heatmapgl": [
           {
            "colorbar": {
             "outlinewidth": 0,
             "ticks": ""
            },
            "colorscale": [
             [
              0,
              "#0d0887"
             ],
             [
              0.1111111111111111,
              "#46039f"
             ],
             [
              0.2222222222222222,
              "#7201a8"
             ],
             [
              0.3333333333333333,
              "#9c179e"
             ],
             [
              0.4444444444444444,
              "#bd3786"
             ],
             [
              0.5555555555555556,
              "#d8576b"
             ],
             [
              0.6666666666666666,
              "#ed7953"
             ],
             [
              0.7777777777777778,
              "#fb9f3a"
             ],
             [
              0.8888888888888888,
              "#fdca26"
             ],
             [
              1,
              "#f0f921"
             ]
            ],
            "type": "heatmapgl"
           }
          ],
          "histogram": [
           {
            "marker": {
             "colorbar": {
              "outlinewidth": 0,
              "ticks": ""
             }
            },
            "type": "histogram"
           }
          ],
          "histogram2d": [
           {
            "colorbar": {
             "outlinewidth": 0,
             "ticks": ""
            },
            "colorscale": [
             [
              0,
              "#0d0887"
             ],
             [
              0.1111111111111111,
              "#46039f"
             ],
             [
              0.2222222222222222,
              "#7201a8"
             ],
             [
              0.3333333333333333,
              "#9c179e"
             ],
             [
              0.4444444444444444,
              "#bd3786"
             ],
             [
              0.5555555555555556,
              "#d8576b"
             ],
             [
              0.6666666666666666,
              "#ed7953"
             ],
             [
              0.7777777777777778,
              "#fb9f3a"
             ],
             [
              0.8888888888888888,
              "#fdca26"
             ],
             [
              1,
              "#f0f921"
             ]
            ],
            "type": "histogram2d"
           }
          ],
          "histogram2dcontour": [
           {
            "colorbar": {
             "outlinewidth": 0,
             "ticks": ""
            },
            "colorscale": [
             [
              0,
              "#0d0887"
             ],
             [
              0.1111111111111111,
              "#46039f"
             ],
             [
              0.2222222222222222,
              "#7201a8"
             ],
             [
              0.3333333333333333,
              "#9c179e"
             ],
             [
              0.4444444444444444,
              "#bd3786"
             ],
             [
              0.5555555555555556,
              "#d8576b"
             ],
             [
              0.6666666666666666,
              "#ed7953"
             ],
             [
              0.7777777777777778,
              "#fb9f3a"
             ],
             [
              0.8888888888888888,
              "#fdca26"
             ],
             [
              1,
              "#f0f921"
             ]
            ],
            "type": "histogram2dcontour"
           }
          ],
          "mesh3d": [
           {
            "colorbar": {
             "outlinewidth": 0,
             "ticks": ""
            },
            "type": "mesh3d"
           }
          ],
          "parcoords": [
           {
            "line": {
             "colorbar": {
              "outlinewidth": 0,
              "ticks": ""
             }
            },
            "type": "parcoords"
           }
          ],
          "pie": [
           {
            "automargin": true,
            "type": "pie"
           }
          ],
          "scatter": [
           {
            "marker": {
             "colorbar": {
              "outlinewidth": 0,
              "ticks": ""
             }
            },
            "type": "scatter"
           }
          ],
          "scatter3d": [
           {
            "line": {
             "colorbar": {
              "outlinewidth": 0,
              "ticks": ""
             }
            },
            "marker": {
             "colorbar": {
              "outlinewidth": 0,
              "ticks": ""
             }
            },
            "type": "scatter3d"
           }
          ],
          "scattercarpet": [
           {
            "marker": {
             "colorbar": {
              "outlinewidth": 0,
              "ticks": ""
             }
            },
            "type": "scattercarpet"
           }
          ],
          "scattergeo": [
           {
            "marker": {
             "colorbar": {
              "outlinewidth": 0,
              "ticks": ""
             }
            },
            "type": "scattergeo"
           }
          ],
          "scattergl": [
           {
            "marker": {
             "colorbar": {
              "outlinewidth": 0,
              "ticks": ""
             }
            },
            "type": "scattergl"
           }
          ],
          "scattermapbox": [
           {
            "marker": {
             "colorbar": {
              "outlinewidth": 0,
              "ticks": ""
             }
            },
            "type": "scattermapbox"
           }
          ],
          "scatterpolar": [
           {
            "marker": {
             "colorbar": {
              "outlinewidth": 0,
              "ticks": ""
             }
            },
            "type": "scatterpolar"
           }
          ],
          "scatterpolargl": [
           {
            "marker": {
             "colorbar": {
              "outlinewidth": 0,
              "ticks": ""
             }
            },
            "type": "scatterpolargl"
           }
          ],
          "scatterternary": [
           {
            "marker": {
             "colorbar": {
              "outlinewidth": 0,
              "ticks": ""
             }
            },
            "type": "scatterternary"
           }
          ],
          "surface": [
           {
            "colorbar": {
             "outlinewidth": 0,
             "ticks": ""
            },
            "colorscale": [
             [
              0,
              "#0d0887"
             ],
             [
              0.1111111111111111,
              "#46039f"
             ],
             [
              0.2222222222222222,
              "#7201a8"
             ],
             [
              0.3333333333333333,
              "#9c179e"
             ],
             [
              0.4444444444444444,
              "#bd3786"
             ],
             [
              0.5555555555555556,
              "#d8576b"
             ],
             [
              0.6666666666666666,
              "#ed7953"
             ],
             [
              0.7777777777777778,
              "#fb9f3a"
             ],
             [
              0.8888888888888888,
              "#fdca26"
             ],
             [
              1,
              "#f0f921"
             ]
            ],
            "type": "surface"
           }
          ],
          "table": [
           {
            "cells": {
             "fill": {
              "color": "#EBF0F8"
             },
             "line": {
              "color": "white"
             }
            },
            "header": {
             "fill": {
              "color": "#C8D4E3"
             },
             "line": {
              "color": "white"
             }
            },
            "type": "table"
           }
          ]
         },
         "layout": {
          "annotationdefaults": {
           "arrowcolor": "#2a3f5f",
           "arrowhead": 0,
           "arrowwidth": 1
          },
          "autotypenumbers": "strict",
          "coloraxis": {
           "colorbar": {
            "outlinewidth": 0,
            "ticks": ""
           }
          },
          "colorscale": {
           "diverging": [
            [
             0,
             "#8e0152"
            ],
            [
             0.1,
             "#c51b7d"
            ],
            [
             0.2,
             "#de77ae"
            ],
            [
             0.3,
             "#f1b6da"
            ],
            [
             0.4,
             "#fde0ef"
            ],
            [
             0.5,
             "#f7f7f7"
            ],
            [
             0.6,
             "#e6f5d0"
            ],
            [
             0.7,
             "#b8e186"
            ],
            [
             0.8,
             "#7fbc41"
            ],
            [
             0.9,
             "#4d9221"
            ],
            [
             1,
             "#276419"
            ]
           ],
           "sequential": [
            [
             0,
             "#0d0887"
            ],
            [
             0.1111111111111111,
             "#46039f"
            ],
            [
             0.2222222222222222,
             "#7201a8"
            ],
            [
             0.3333333333333333,
             "#9c179e"
            ],
            [
             0.4444444444444444,
             "#bd3786"
            ],
            [
             0.5555555555555556,
             "#d8576b"
            ],
            [
             0.6666666666666666,
             "#ed7953"
            ],
            [
             0.7777777777777778,
             "#fb9f3a"
            ],
            [
             0.8888888888888888,
             "#fdca26"
            ],
            [
             1,
             "#f0f921"
            ]
           ],
           "sequentialminus": [
            [
             0,
             "#0d0887"
            ],
            [
             0.1111111111111111,
             "#46039f"
            ],
            [
             0.2222222222222222,
             "#7201a8"
            ],
            [
             0.3333333333333333,
             "#9c179e"
            ],
            [
             0.4444444444444444,
             "#bd3786"
            ],
            [
             0.5555555555555556,
             "#d8576b"
            ],
            [
             0.6666666666666666,
             "#ed7953"
            ],
            [
             0.7777777777777778,
             "#fb9f3a"
            ],
            [
             0.8888888888888888,
             "#fdca26"
            ],
            [
             1,
             "#f0f921"
            ]
           ]
          },
          "colorway": [
           "#636efa",
           "#EF553B",
           "#00cc96",
           "#ab63fa",
           "#FFA15A",
           "#19d3f3",
           "#FF6692",
           "#B6E880",
           "#FF97FF",
           "#FECB52"
          ],
          "font": {
           "color": "#2a3f5f"
          },
          "geo": {
           "bgcolor": "white",
           "lakecolor": "white",
           "landcolor": "#E5ECF6",
           "showlakes": true,
           "showland": true,
           "subunitcolor": "white"
          },
          "hoverlabel": {
           "align": "left"
          },
          "hovermode": "closest",
          "mapbox": {
           "style": "light"
          },
          "paper_bgcolor": "white",
          "plot_bgcolor": "#E5ECF6",
          "polar": {
           "angularaxis": {
            "gridcolor": "white",
            "linecolor": "white",
            "ticks": ""
           },
           "bgcolor": "#E5ECF6",
           "radialaxis": {
            "gridcolor": "white",
            "linecolor": "white",
            "ticks": ""
           }
          },
          "scene": {
           "xaxis": {
            "backgroundcolor": "#E5ECF6",
            "gridcolor": "white",
            "gridwidth": 2,
            "linecolor": "white",
            "showbackground": true,
            "ticks": "",
            "zerolinecolor": "white"
           },
           "yaxis": {
            "backgroundcolor": "#E5ECF6",
            "gridcolor": "white",
            "gridwidth": 2,
            "linecolor": "white",
            "showbackground": true,
            "ticks": "",
            "zerolinecolor": "white"
           },
           "zaxis": {
            "backgroundcolor": "#E5ECF6",
            "gridcolor": "white",
            "gridwidth": 2,
            "linecolor": "white",
            "showbackground": true,
            "ticks": "",
            "zerolinecolor": "white"
           }
          },
          "shapedefaults": {
           "line": {
            "color": "#2a3f5f"
           }
          },
          "ternary": {
           "aaxis": {
            "gridcolor": "white",
            "linecolor": "white",
            "ticks": ""
           },
           "baxis": {
            "gridcolor": "white",
            "linecolor": "white",
            "ticks": ""
           },
           "bgcolor": "#E5ECF6",
           "caxis": {
            "gridcolor": "white",
            "linecolor": "white",
            "ticks": ""
           }
          },
          "title": {
           "x": 0.05
          },
          "xaxis": {
           "automargin": true,
           "gridcolor": "white",
           "linecolor": "white",
           "ticks": "",
           "title": {
            "standoff": 15
           },
           "zerolinecolor": "white",
           "zerolinewidth": 2
          },
          "yaxis": {
           "automargin": true,
           "gridcolor": "white",
           "linecolor": "white",
           "ticks": "",
           "title": {
            "standoff": 15
           },
           "zerolinecolor": "white",
           "zerolinewidth": 2
          }
         }
        }
       }
      }
     },
     "metadata": {}
    }
   ],
   "source": [
    "print(len(hit_miss_rate[0]))\n",
    "fig = go.Figure(data=go.Scatter(x=hit_miss_rate[0], y=hit_miss_rate[1], mode=\"lines+markers\"))\n",
    "fig.show()\n"
   ]
  },
  {
   "cell_type": "code",
   "execution_count": 11,
   "metadata": {},
   "outputs": [
    {
     "output_type": "error",
     "ename": "AttributeError",
     "evalue": "'str' object has no attribute 'type'",
     "traceback": [
      "\u001b[0;31m---------------------------------------------------------------------------\u001b[0m",
      "\u001b[0;31mAttributeError\u001b[0m                            Traceback (most recent call last)",
      "\u001b[0;32m<ipython-input-11-5cbe5068dd1d>\u001b[0m in \u001b[0;36m<module>\u001b[0;34m\u001b[0m\n\u001b[1;32m     10\u001b[0m \u001b[0;32mfor\u001b[0m \u001b[0mhome\u001b[0m \u001b[0;32min\u001b[0m \u001b[0mdraw\u001b[0m\u001b[0;34m:\u001b[0m\u001b[0;34m\u001b[0m\u001b[0;34m\u001b[0m\u001b[0m\n\u001b[1;32m     11\u001b[0m     \u001b[0;32mfor\u001b[0m \u001b[0md\u001b[0m \u001b[0;32min\u001b[0m \u001b[0mdraw\u001b[0m\u001b[0;34m[\u001b[0m\u001b[0mhome\u001b[0m\u001b[0;34m]\u001b[0m\u001b[0;34m:\u001b[0m\u001b[0;34m\u001b[0m\u001b[0;34m\u001b[0m\u001b[0m\n\u001b[0;32m---> 12\u001b[0;31m         \u001b[0mr_tree\u001b[0m \u001b[0;34m=\u001b[0m \u001b[0mindex\u001b[0m\u001b[0;34m.\u001b[0m\u001b[0mIndex\u001b[0m\u001b[0;34m(\u001b[0m\u001b[0mproperties\u001b[0m\u001b[0;34m=\u001b[0m\u001b[0mp\u001b[0m\u001b[0;34m)\u001b[0m\u001b[0;34m\u001b[0m\u001b[0;34m\u001b[0m\u001b[0m\n\u001b[0m\u001b[1;32m     13\u001b[0m         \u001b[0;32mfor\u001b[0m \u001b[0mi\u001b[0m\u001b[0;34m,\u001b[0m\u001b[0mx\u001b[0m \u001b[0;32min\u001b[0m \u001b[0menumerate\u001b[0m\u001b[0;34m(\u001b[0m\u001b[0mhabit_groups\u001b[0m\u001b[0;34m[\u001b[0m\u001b[0mhome\u001b[0m\u001b[0;34m]\u001b[0m\u001b[0;34m[\u001b[0m\u001b[0md\u001b[0m\u001b[0;34m]\u001b[0m\u001b[0;34m)\u001b[0m\u001b[0;34m:\u001b[0m\u001b[0;34m\u001b[0m\u001b[0;34m\u001b[0m\u001b[0m\n\u001b[1;32m     14\u001b[0m             \u001b[0mbound\u001b[0m \u001b[0;34m=\u001b[0m \u001b[0mx\u001b[0m\u001b[0;34m[\u001b[0m\u001b[0;34m\"box\"\u001b[0m\u001b[0;34m]\u001b[0m\u001b[0;34m[\u001b[0m\u001b[0;36m0\u001b[0m\u001b[0;34m]\u001b[0m \u001b[0;34m+\u001b[0m \u001b[0mx\u001b[0m\u001b[0;34m[\u001b[0m\u001b[0;34m\"box\"\u001b[0m\u001b[0;34m]\u001b[0m\u001b[0;34m[\u001b[0m\u001b[0;36m1\u001b[0m\u001b[0;34m]\u001b[0m\u001b[0;34m\u001b[0m\u001b[0;34m\u001b[0m\u001b[0m\n",
      "\u001b[0;32m~/protemp/MPC/ConflictDetection/venv/lib/python3.7/site-packages/rtree/index.py\u001b[0m in \u001b[0;36m__init__\u001b[0;34m(self, *args, **kwargs)\u001b[0m\n\u001b[1;32m    199\u001b[0m         \u001b[0mself\u001b[0m\u001b[0;34m.\u001b[0m\u001b[0mproperties\u001b[0m \u001b[0;34m=\u001b[0m \u001b[0mkwargs\u001b[0m\u001b[0;34m.\u001b[0m\u001b[0mget\u001b[0m\u001b[0;34m(\u001b[0m\u001b[0;34m'properties'\u001b[0m\u001b[0;34m,\u001b[0m \u001b[0mProperty\u001b[0m\u001b[0;34m(\u001b[0m\u001b[0;34m)\u001b[0m\u001b[0;34m)\u001b[0m\u001b[0;34m\u001b[0m\u001b[0;34m\u001b[0m\u001b[0m\n\u001b[1;32m    200\u001b[0m \u001b[0;34m\u001b[0m\u001b[0m\n\u001b[0;32m--> 201\u001b[0;31m         \u001b[0;32mif\u001b[0m \u001b[0mself\u001b[0m\u001b[0;34m.\u001b[0m\u001b[0mproperties\u001b[0m\u001b[0;34m.\u001b[0m\u001b[0mtype\u001b[0m \u001b[0;34m==\u001b[0m \u001b[0mRT_TPRTree\u001b[0m\u001b[0;31m \u001b[0m\u001b[0;31m\\\u001b[0m\u001b[0;34m\u001b[0m\u001b[0;34m\u001b[0m\u001b[0m\n\u001b[0m\u001b[1;32m    202\u001b[0m                 \u001b[0;32mand\u001b[0m \u001b[0;32mnot\u001b[0m \u001b[0mhasattr\u001b[0m\u001b[0;34m(\u001b[0m\u001b[0mcore\u001b[0m\u001b[0;34m.\u001b[0m\u001b[0mrt\u001b[0m\u001b[0;34m,\u001b[0m \u001b[0;34m'Index_InsertTPData'\u001b[0m\u001b[0;34m)\u001b[0m\u001b[0;34m:\u001b[0m\u001b[0;34m\u001b[0m\u001b[0;34m\u001b[0m\u001b[0m\n\u001b[1;32m    203\u001b[0m             raise RuntimeError(\n",
      "\u001b[0;31mAttributeError\u001b[0m: 'str' object has no attribute 'type'"
     ]
    }
   ],
   "source": [
    "from rtree import index\n",
    "\n",
    "\n",
    "draw = {\n",
    "    \"HomeA/2016\": [\"Range\"],\n",
    "    \"HomeG/2016\": [\"Range\"],\n",
    "}\n",
    "fig = make_subplots(rows=sum([len(draw[x]) for x in draw]), cols=1)\n",
    "p = index.Property()\n",
    "p.dimension = len(ctx_info.get_all_ctx_ordered())\n",
    "row_id = 1\n",
    "for home in draw:\n",
    "    for d in draw[home]:\n",
    "        r_tree = index.Index(properties=p)\n",
    "        for i,x in enumerate(habit_groups[home][d]):\n",
    "            bound = x[\"box\"][0] + x[\"box\"][1] \n",
    "            r_tree.insert(id=i, coordinates=bound, obj=sum(x[\"dis\"]))\n",
    "        on_rate_group = np.full(ctx_info.get_ctx_space_shape(), -0.1)\n",
    "\n",
    "        for i in range(ctx_info.get_ctx_space_shape()[0]):\n",
    "            for j in range(ctx_info.get_ctx_space_shape()[1]):\n",
    "                result = list(r_tree.intersection([i,j,i,j], objects=True))\n",
    "\n",
    "                on_rate_group[i,j] = result[0].object\n",
    "        fig.append_trace(\n",
    "            go.Heatmap(z=np.transpose(on_rate_group)),\n",
    "            row_id, 1\n",
    "        )\n",
    "        row_id += 1\n",
    "fig.show()"
   ]
  },
  {
   "cell_type": "code",
   "execution_count": null,
   "metadata": {},
   "outputs": [],
   "source": []
  },
  {
   "cell_type": "code",
   "execution_count": null,
   "metadata": {},
   "outputs": [],
   "source": []
  }
 ]
}
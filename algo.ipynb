{
 "metadata": {
  "language_info": {
   "codemirror_mode": {
    "name": "ipython",
    "version": 3
   },
   "file_extension": ".py",
   "mimetype": "text/x-python",
   "name": "python",
   "nbconvert_exporter": "python",
   "pygments_lexer": "ipython3",
   "version": "3.7.6"
  },
  "orig_nbformat": 2,
  "kernelspec": {
   "name": "pythonjvsc74a57bd04fe898ffcadce6da2343864bf819ed3269e46dcfc725e07ab6320af456fe33e5",
   "display_name": "Python 3.7.6  ('venv': venv)"
  },
  "metadata": {
   "interpreter": {
    "hash": "4fe898ffcadce6da2343864bf819ed3269e46dcfc725e07ab6320af456fe33e5"
   }
  }
 },
 "nbformat": 4,
 "nbformat_minor": 2,
 "cells": [
  {
   "cell_type": "code",
   "execution_count": 2,
   "metadata": {},
   "outputs": [
    {
     "output_type": "stream",
     "name": "stderr",
     "text": [
      "DEBUG:root:The number of device events from processed file: {'Range': 625, 'Microwave': 1591, 'LivingLights': 1609, 'HomeOffice': 1481}\n",
      "DEBUG:root:The number of context events from processed file: {'apparentTemperature#NUM': 8738, 'temperature#NUM': 8735, 'humidity#NUM': 7642, 'summary#CAT': 2669}\n",
      "DEBUG:root:The number of device events from processed file: {'LivingLights': 1923, 'Microwave': 863}\n",
      "DEBUG:root:The number of context events from processed file: {'apparentTemperature#NUM': 8734, 'temperature#NUM': 8737, 'humidity#NUM': 7657, 'summary#CAT': 1799}\n",
      "DEBUG:root:The number of device events from processed file: {'HomeOffice': 968, 'Microwave': 2059, 'LivingLights': 1759}\n",
      "DEBUG:root:The number of context events from processed file: {'apparentTemperature#NUM': 8736, 'temperature#NUM': 8735, 'humidity#NUM': 7618, 'summary#CAT': 1863}\n",
      "DEBUG:root:The number of device events from processed file: {'Microwave': 1423, 'LivingLights': 1159, 'WashingMachine': 313, 'Range': 1163}\n",
      "DEBUG:root:The number of context events from processed file: {'apparentTemperature#NUM': 8764, 'temperature#NUM': 8747, 'humidity#NUM': 7703, 'summary#CAT': 2578}\n",
      "DEBUG:root:The number of device events from processed file: {'Microwave': 5013, 'WashingMachine': 589}\n",
      "DEBUG:root:The number of context events from processed file: {'apparentTemperature#NUM': 8743, 'temperature#NUM': 8741, 'humidity#NUM': 7669, 'summary#CAT': 1892}\n",
      "DEBUG:root:The number of device events from processed file: {'LivingLights': 1951, 'HomeOffice': 1175, 'Range': 225, 'Microwave': 2915}\n",
      "DEBUG:root:The number of context events from processed file: {'apparentTemperature#NUM': 8764, 'temperature#NUM': 8760, 'humidity#NUM': 7653, 'summary#CAT': 2110}\n"
     ]
    }
   ],
   "source": [
    "import json\n",
    "import os\n",
    "import numpy as np\n",
    "import math\n",
    "from typing import Dict, List, Tuple\n",
    "\n",
    "from datetime import timedelta\n",
    "from config import *\n",
    "from utils import *\n",
    "from main import *\n",
    "\n",
    "import plotly.graph_objects as go\n",
    "from plotly.subplots import make_subplots\n",
    "\n",
    "habit_groups_a, _ = test_umass(test_project=\"HomeA/2016\")\n",
    "habit_groups_b, _ = test_umass(test_project=\"HomeB/2016\")\n",
    "habit_groups_c, _ = test_umass(test_project=\"HomeC/2016\")\n",
    "habit_groups_d, _ = test_umass(test_project=\"HomeD/2016\")\n",
    "habit_groups_f, _ = test_umass(test_project=\"HomeF/2016\")\n",
    "habit_groups_g, _ = test_umass(test_project=\"HomeG/2016\")"
   ]
  },
  {
   "cell_type": "code",
   "execution_count": null,
   "metadata": {},
   "outputs": [],
   "source": []
  }
 ]
}
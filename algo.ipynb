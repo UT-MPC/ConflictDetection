{
 "metadata": {
  "language_info": {
   "codemirror_mode": {
    "name": "ipython",
    "version": 3
   },
   "file_extension": ".py",
   "mimetype": "text/x-python",
   "name": "python",
   "nbconvert_exporter": "python",
   "pygments_lexer": "ipython3",
   "version": "3.7.6"
  },
  "orig_nbformat": 2,
  "kernelspec": {
   "name": "python3",
   "display_name": "Python 3.7.6 64-bit ('venv': venv)"
  },
  "metadata": {
   "interpreter": {
    "hash": "4fe898ffcadce6da2343864bf819ed3269e46dcfc725e07ab6320af456fe33e5"
   }
  },
  "interpreter": {
   "hash": "4fe898ffcadce6da2343864bf819ed3269e46dcfc725e07ab6320af456fe33e5"
  }
 },
 "nbformat": 4,
 "nbformat_minor": 2,
 "cells": [
  {
   "cell_type": "code",
   "execution_count": 26,
   "metadata": {},
   "outputs": [],
   "source": [
    "import json\n",
    "import os\n",
    "import numpy as np\n",
    "import math\n",
    "from typing import Dict, List, Tuple\n",
    "import copy\n",
    "from itertools import combinations\n",
    "\n",
    "from datetime import timedelta\n",
    "from config import *\n",
    "from utils import *\n",
    "from main import *\n",
    "from GtConflictFinder import GtConflictFinder\n",
    "from ConflictDetector import ConflictDetector, ConflictPredicator\n",
    "\n",
    "import plotly.graph_objects as go\n",
    "from plotly.subplots import make_subplots\n",
    "test_projects = [\n",
    "    \"HomeA/2016\",\n",
    "    \"HomeB/2016\",\n",
    "    \"HomeC/2016\",\n",
    "    # \"HomeD/2016\",\n",
    "    \"HomeF/2016\",\n",
    "    \"HomeG/2016\",\n",
    "]\n",
    "ctx_info = ContextAccessor({\n",
    "            TIME_CTX: {\n",
    "                \"range\" : (0, 24*60),\n",
    "                \"interval\" : 20,\n",
    "            },\n",
    "            # \"humidity#NUM\" : {\n",
    "            #     \"range\" : (0., 1.0),\n",
    "            #     \"interval\" : 0.1,\n",
    "            # },\n",
    "            # \"apparentTemperature#NUM\" : {\n",
    "            #     \"range\" : (-10., 100),\n",
    "            #     \"interval\" : 10,\n",
    "            # },\n",
    "            # \"summary#CAT\": {},\n",
    "            WEEKDAY_CTX: {\n",
    "                \"range\": (0, 6),\n",
    "                \"interval\": 1,\n",
    "            },\n",
    "        })\n",
    "capacity = {\n",
    "    \"Range\" : 1,\n",
    "    \"Microwave\": 1,\n",
    "    \"LivingLights\": 0,\n",
    "    \"HomeOffice\": 1,\n",
    "    \"WashingMachine\": 1,\n",
    "    # \"Window\": 0,\n",
    "}\n",
    "BOOL_SIM = False\n",
    "test_dates = generate_test_date(test_projects, test_ratio = 0.3, true_random=False, is_sim=BOOL_SIM)\n"
   ]
  },
  {
   "cell_type": "code",
   "execution_count": 26,
   "metadata": {},
   "outputs": [],
   "source": [
    "    "
   ]
  },
  {
   "cell_type": "code",
   "execution_count": 27,
   "metadata": {
    "tags": []
   },
   "outputs": [],
   "source": [
    "habit_groups = {}\n",
    "for p in test_projects:\n",
    "    habit_groups[p], grid_data = test_umass(test_project=p, ctx_info=ctx_info, ccp_alpha=1e-4, test_dates=test_dates, is_sim=BOOL_SIM)"
   ]
  },
  {
   "cell_type": "code",
   "execution_count": 28,
   "metadata": {},
   "outputs": [],
   "source": [
    "#Exps:\n",
    "#   1. Contrived environment with injected conflicts:\n",
    "#   2. Real dataset with groundtruth conflicts:\n",
    "#   3. observations about the algorithm: with different threshold, different capacity for the devices, different number of users."
   ]
  },
  {
   "cell_type": "code",
   "execution_count": 29,
   "metadata": {},
   "outputs": [
    {
     "output_type": "stream",
     "name": "stdout",
     "text": [
      "The habit groups found in HomeA/2016\nRange 3\nMicrowave 1\nLivingLights 33\nHomeOffice 12\nThe habit groups found in HomeB/2016\nLivingLights 9\nMicrowave 1\nThe habit groups found in HomeC/2016\nHomeOffice 9\nMicrowave 1\nLivingLights 31\nThe habit groups found in HomeF/2016\nMicrowave 1\nWashingMachine 4\nThe habit groups found in HomeG/2016\nRange 4\nLivingLights 5\nHomeOffice 11\nMicrowave 3\n"
     ]
    }
   ],
   "source": [
    "for home, groups in habit_groups.items():\n",
    "    print(\"The habit groups found in {}\".format(home))\n",
    "    for d, d_groups in groups.items():\n",
    "        print(d + \" \" + str(len(d_groups)))\n",
    "        # for g in d_groups:\n",
    "        #     print(ctx_info.translate_ctx_box(g[\"box\"][0] + g[\"box\"][1]))\n",
    "        #     print(g[\"dis\"])\n"
   ]
  },
  {
   "cell_type": "code",
   "execution_count": 30,
   "metadata": {
    "tags": []
   },
   "outputs": [
    {
     "output_type": "stream",
     "name": "stdout",
     "text": [
      "{'Range': 6, 'Microwave': 18, 'LivingLights': 0, 'HomeOffice': 79, 'WashingMachine': 0}\n"
     ]
    }
   ],
   "source": [
    "c_detector = ConflictDetector(ctx_info, capacity)\n",
    "final_conflicts = c_detector.predict_conflict_scenarios(habit_groups)\n",
    "print({x:len(final_conflicts[x]) for x in final_conflicts})"
   ]
  },
  {
   "cell_type": "code",
   "execution_count": 31,
   "metadata": {
    "tags": []
   },
   "outputs": [],
   "source": [
    "import plotly.express as px\n",
    "# for x in final_conflicts[\"Window\"]:\n",
    "#     print((ctx_info.translate_ctx_box(x[\"box\"]),x[\"prob\"]))\n",
    "# probs_i = [(x[\"prob\"], i) for i, x in enumerate(final_conflicts[\"Window\"])]\n",
    "# fig = px.histogram(probs)\n",
    "# fig.show()"
   ]
  },
  {
   "cell_type": "code",
   "execution_count": 32,
   "metadata": {},
   "outputs": [
    {
     "output_type": "stream",
     "name": "stdout",
     "text": [
      "191\n"
     ]
    }
   ],
   "source": [
    "import copy\n",
    "# Make ground truth:\n",
    "device_events = {}\n",
    "for p in test_projects:\n",
    "    ctx_evts, device_evts = load_processed(p, is_sim=BOOL_SIM)\n",
    "    device_events[p] = device_evts\n",
    "\n",
    "gtconflict_cfg = {\n",
    "    \"context_info\": ctx_info,\n",
    "    \"capacity\": capacity\n",
    "}\n",
    "# test_dates = generate_test_date(test_projects, test_ratio = 1., true_random=False)\n",
    "\n",
    "conflict_finder = GtConflictFinder(gtconflict_cfg)\n",
    "gt_conflicts, test_state_cnt = conflict_finder.get_Gt_conflict(ctx_evts, device_events, test_dates)\n",
    "print(len(gt_conflicts))"
   ]
  },
  {
   "cell_type": "code",
   "execution_count": 33,
   "metadata": {
    "tags": []
   },
   "outputs": [
    {
     "output_type": "stream",
     "name": "stdout",
     "text": [
      "{'Range': 2, 'Microwave': 19, 'LivingLights': 0, 'HomeOffice': 170, 'WashingMachine': 0}\n{'Range': 2, 'Microwave': 14, 'LivingLights': 0, 'HomeOffice': 75, 'WashingMachine': 0}\n"
     ]
    }
   ],
   "source": [
    "\n",
    "# TEST_RATIO = 0.3\n",
    "# conflict_time = [x['cur_time'] for x in conflicts]\n",
    "# end_time = max(conflict_time)\n",
    "# start_time = min(conflict_time)\n",
    "# print(start_time)\n",
    "# print(end_time)\n",
    "# total_time_range = end_time - start_time\n",
    "# test_start = end_time - total_time_range * TEST_RATIO\n",
    "# print(test_start)\n",
    "\n",
    "conflict_device = {\n",
    "    d:[]\n",
    "    for d in capacity\n",
    "}\n",
    "\n",
    "conflict_state_device = {\n",
    "    d:{}\n",
    "    for d in capacity\n",
    "}\n",
    "MIN_TEST_OBS = 10\n",
    "\n",
    "for c in gt_conflicts:\n",
    "    d = c[\"device\"]\n",
    "    conflict_device[d].append(c)\n",
    "    s = ctx_info.get_coor_by_ctx(c[\"ctx\"])\n",
    "    users = frozenset(c[\"device_states\"].keys())\n",
    "    if test_state_cnt[s] < MIN_TEST_OBS:\n",
    "        continue\n",
    "    if s not in conflict_state_device[d]:\n",
    "        conflict_state_device[d][s] = {}\n",
    "    conflict_state_device[d][s][users] = conflict_state_device[d][s].get(users, 0) + 1\n",
    "    \n",
    "print({d:len(c) for d,c in conflict_device.items()})\n",
    "print({d:len(c) for d,c in conflict_state_device.items()})\n"
   ]
  },
  {
   "cell_type": "code",
   "execution_count": 34,
   "metadata": {
    "tags": []
   },
   "outputs": [
    {
     "output_type": "stream",
     "name": "stdout",
     "text": [
      "{'Range': [0.023766693210107524, 2, 6.053456936148705e-05, 5038, 0.03333333333333333], 'Microwave': [0.04125416232764394, 14, 0.00017984335212940084, 5026, 0.041470872179076516], 'LivingLights': [0, 0, 0.0, 5040, 0], 'HomeOffice': [0.03497984687777625, 90, 0.001326184699759625, 4950, 0.06071370248707792], 'WashingMachine': [0, 0, 0.0, 5040, 0]}\n"
     ]
    }
   ],
   "source": [
    "it = np.nditer(test_state_cnt, flags=['multi_index'])\n",
    "all_users = test_projects\n",
    "all_devices = capacity.keys()\n",
    "user_pairs = list(combinations(all_users, 2))\n",
    "conflict_predicator = ConflictPredicator(ctx_info, final_conflicts)\n",
    "exp_cnt = 0\n",
    "exp_error = 0\n",
    "exp_gt_c = 0\n",
    "exp_result = {d:[0,0,0,0, 0] for d in all_devices}\n",
    "max_p = 0\n",
    "for count in it:\n",
    "    if count < MIN_TEST_OBS:\n",
    "        continue\n",
    "    state = it.multi_index\n",
    "    for d in all_devices:\n",
    "        for u_pair in user_pairs:\n",
    "            gt_prob = 0.\n",
    "            if (d in conflict_state_device) and \\\n",
    "                (state in conflict_state_device[d]) and \\\n",
    "                (frozenset(u_pair) in conflict_state_device[d][state]):\n",
    "                gt_prob =  float(conflict_state_device[d][state][frozenset(u_pair)]) / count\n",
    "            pred_prob = conflict_predicator.get_prob_conflict(state, u_pair, d)\n",
    "            exp_cnt += 1\n",
    "            if gt_prob > 0:\n",
    "                # if pred_prob <= 0.001:\n",
    "                #     print(ctx_info.translate_ctx_point(state).values(), gt_prob, pred_prob)\n",
    "                exp_error += abs(pred_prob - gt_prob)\n",
    "                exp_gt_c += 1\n",
    "                exp_result[d][0] += abs(pred_prob - gt_prob)\n",
    "                exp_result[d][1] += 1\n",
    "                exp_result[d][4] += gt_prob\n",
    "                max_p = max(gt_prob, max_p)\n",
    "            else:\n",
    "                exp_result[d][2] += abs(pred_prob - gt_prob)\n",
    "                exp_result[d][3] += 1\n",
    "\n",
    "for d in exp_result:\n",
    "    if exp_result[d][1] > 0:\n",
    "        exp_result[d][0] = exp_result[d][0] / exp_result[d][1]\n",
    "        exp_result[d][4] = exp_result[d][4] / exp_result[d][1]\n",
    "    if exp_result[d][3] > 0:\n",
    "        exp_result[d][2] = exp_result[d][2] / exp_result[d][3]\n",
    "\n",
    "print(exp_result)"
   ]
  },
  {
   "cell_type": "code",
   "execution_count": 35,
   "metadata": {
    "tags": []
   },
   "outputs": [
    {
     "output_type": "stream",
     "name": "stdout",
     "text": [
      "0.05765558585859196 0.02525230846885295 0.03559696111327445\n"
     ]
    }
   ],
   "source": [
    "missed_gt_conflicts = {d:[] for d in conflict_device}\n",
    "hit_gt_conflicts = {d:{} for d in conflict_device}\n",
    "for d in final_conflicts:\n",
    "    hit_gt_conflicts[d] = {i:0 for i in range(len(final_conflicts[d]))}\n",
    "\n",
    "prob_loss = {}\n",
    "sum_pred = 0\n",
    "sum_gt = 0\n",
    "err = 0\n",
    "cntt = 0\n",
    "for d, conflicts_d in conflict_state_device.items():\n",
    "    for s, conflicts in conflicts_d.items():\n",
    "        for users, cnt in conflicts.items():\n",
    "            flag = False\n",
    "            for idx, c_predict in enumerate(final_conflicts[d]):\n",
    "                if not match_user_groups([x[0] for x in c_predict[\"users\"]], users):\n",
    "                    continue\n",
    "                if does_contain_point(c_predict[\"box\"], s):\n",
    "                    pred_prob = c_predict[\"prob\"]\n",
    "                    gt_prob = float(cnt) / test_state_cnt[s]\n",
    "                    sum_pred += pred_prob\n",
    "                    sum_gt += gt_prob\n",
    "                    err += abs(gt_prob - pred_prob)\n",
    "                    cntt += 1\n",
    "                    flag = True\n",
    "            if not flag:\n",
    "                print(\"????\")\n",
    "print(sum_gt/cntt, sum_pred/cntt, err/cntt)\n",
    "\n"
   ]
  },
  {
   "cell_type": "code",
   "execution_count": 36,
   "metadata": {
    "tags": []
   },
   "outputs": [],
   "source": [
    "# def match_pair(predicted_users, gt_users):\n",
    "#     return set(predicted_users) == set(gt_users)\n",
    "# missed_gt_conflicts = {d:[] for d in conflict_device}\n",
    "# hit_gt_conflicts = {d:{} for d in conflict_device}\n",
    "# for d in final_conflicts:\n",
    "#     hit_gt_conflicts[d] = {i:0 for i in range(len(final_conflicts[d]))}\n",
    "# for d, conflicts in conflict_device.items():\n",
    "#     for c in conflicts:\n",
    "#         coor = ctx_info.get_coor_by_ctx(c[\"ctx\"])\n",
    "#         flag = False\n",
    "#         for idx,c_predict in enumerate(final_conflicts[d]):\n",
    "#             if not match_user_groups([x[0] for x in c_predict[\"users\"]], c[\"device_states\"].keys()):\n",
    "#                 # print(c_predict[\"users\"], c[\"device_states\"])\n",
    "#                 continue\n",
    "#             if does_contain_point(c_predict[\"box\"], coor):\n",
    "#                 flag = True\n",
    "#                 hit_gt_conflicts[d][idx] += 1\n",
    "#                 break\n",
    "#         if not flag:\n",
    "#             missed_gt_conflicts[d].append(c)\n",
    "# print({d:len(missed_gt_conflicts[d]) for d in missed_gt_conflicts})\n",
    "# hit_count = {d:[0,0] for d in hit_gt_conflicts}\n",
    "# for d,hit_c in hit_gt_conflicts.items():\n",
    "#     for i,h in hit_c.items():\n",
    "#         if h == 0:\n",
    "#             hit_count[d][0] += 1\n",
    "#         else:\n",
    "#             hit_count[d][1] += 1\n",
    "# # print(hit_gt_conflicts[\"Microwave\"])\n",
    "# # print(final_conflicts[\"Microwave\"][14])\n",
    "# print(hit_count)"
   ]
  },
  {
   "cell_type": "code",
   "execution_count": 37,
   "metadata": {},
   "outputs": [
    {
     "output_type": "display_data",
     "data": {
      "application/vnd.plotly.v1+json": {
       "config": {
        "plotlyServerURL": "https://plot.ly"
       },
       "data": [
        {
         "mode": "markers",
         "type": "scatter",
         "x": [
          33,
          33,
          34,
          49,
          49,
          50,
          50,
          51,
          51,
          51,
          51,
          63,
          63,
          63,
          63,
          64,
          62,
          45,
          45,
          48,
          49,
          62,
          65,
          67,
          67,
          66,
          63,
          67,
          67,
          61,
          61,
          62,
          62,
          63,
          63,
          64,
          64,
          65,
          65,
          40,
          41,
          41,
          42,
          42,
          43,
          43,
          44,
          44,
          45,
          43,
          64,
          65,
          49,
          63,
          63,
          64,
          37,
          38,
          42,
          43,
          43,
          44,
          50,
          50,
          51,
          51,
          45,
          45,
          46,
          46,
          47,
          47,
          66,
          65,
          66,
          61,
          24,
          25,
          25,
          29,
          46,
          46,
          47,
          47,
          48,
          65,
          62,
          62,
          48,
          49,
          49,
          50,
          50,
          51,
          64,
          47,
          47,
          48,
          48,
          49,
          50,
          41,
          41,
          42,
          42,
          63,
          64,
          64,
          44,
          45,
          45,
          46,
          46,
          47,
          47,
          47,
          47,
          47,
          47,
          47,
          48,
          48,
          49,
          49,
          50,
          50,
          51,
          60,
          65,
          66,
          65,
          28,
          62,
          63,
          63,
          51,
          67,
          44,
          44,
          45,
          61,
          62,
          62,
          63,
          63,
          64,
          64,
          27,
          28,
          44,
          44,
          45,
          45,
          65,
          65,
          66,
          66,
          39,
          40,
          40,
          41,
          41,
          42,
          42,
          43,
          43,
          49,
          49,
          50,
          50
         ],
         "y": [
          2,
          2,
          2,
          2,
          2,
          2,
          2,
          2,
          2,
          2,
          2,
          2,
          2,
          2,
          2,
          2,
          6,
          5,
          5,
          5,
          5,
          4,
          6,
          6,
          6,
          0,
          3,
          3,
          3,
          6,
          6,
          6,
          6,
          6,
          6,
          6,
          6,
          6,
          6,
          1,
          1,
          1,
          1,
          1,
          1,
          1,
          1,
          1,
          1,
          6,
          6,
          6,
          2,
          2,
          2,
          2,
          5,
          5,
          5,
          5,
          5,
          5,
          5,
          5,
          5,
          5,
          0,
          0,
          0,
          0,
          0,
          0,
          2,
          1,
          1,
          3,
          6,
          6,
          6,
          6,
          6,
          6,
          6,
          6,
          6,
          6,
          2,
          2,
          5,
          5,
          5,
          5,
          5,
          5,
          4,
          3,
          3,
          3,
          3,
          3,
          3,
          3,
          3,
          3,
          3,
          3,
          3,
          3,
          5,
          5,
          5,
          5,
          5,
          5,
          5,
          5,
          5,
          5,
          5,
          5,
          5,
          5,
          5,
          5,
          5,
          5,
          5,
          5,
          5,
          5,
          6,
          5,
          5,
          5,
          5,
          6,
          6,
          5,
          5,
          5,
          5,
          5,
          5,
          5,
          5,
          5,
          5,
          6,
          6,
          6,
          6,
          6,
          6,
          6,
          6,
          6,
          6,
          1,
          1,
          1,
          1,
          1,
          1,
          1,
          1,
          1,
          1,
          1,
          1,
          1
         ]
        },
        {
         "marker": {
          "color": "red"
         },
         "mode": "markers",
         "type": "scatter",
         "x": [],
         "y": []
        }
       ],
       "layout": {
        "shapes": [
         {
          "line": {
           "color": "RoyalBlue"
          },
          "type": "rect",
          "x0": 0,
          "x1": 26,
          "y0": 0,
          "y1": 7
         },
         {
          "line": {
           "color": "RoyalBlue"
          },
          "type": "rect",
          "x0": 0,
          "x1": 24,
          "y0": 0,
          "y1": 7
         },
         {
          "line": {
           "color": "RoyalBlue"
          },
          "type": "rect",
          "x0": 24,
          "x1": 26,
          "y0": 0,
          "y1": 7
         },
         {
          "line": {
           "color": "RoyalBlue"
          },
          "type": "rect",
          "x0": 26,
          "x1": 39,
          "y0": 0,
          "y1": 5
         },
         {
          "line": {
           "color": "RoyalBlue"
          },
          "type": "rect",
          "x0": 26,
          "x1": 28,
          "y0": 0,
          "y1": 5
         },
         {
          "line": {
           "color": "RoyalBlue"
          },
          "type": "rect",
          "x0": 28,
          "x1": 32,
          "y0": 3,
          "y1": 4
         },
         {
          "line": {
           "color": "RoyalBlue"
          },
          "type": "rect",
          "x0": 28,
          "x1": 39,
          "y0": 0,
          "y1": 2
         },
         {
          "line": {
           "color": "RoyalBlue"
          },
          "type": "rect",
          "x0": 28,
          "x1": 32,
          "y0": 4,
          "y1": 5
         },
         {
          "line": {
           "color": "RoyalBlue"
          },
          "type": "rect",
          "x0": 32,
          "x1": 39,
          "y0": 3,
          "y1": 5
         },
         {
          "line": {
           "color": "RoyalBlue"
          },
          "type": "rect",
          "x0": 28,
          "x1": 39,
          "y0": 2,
          "y1": 3
         },
         {
          "line": {
           "color": "RoyalBlue"
          },
          "type": "rect",
          "x0": 48,
          "x1": 52,
          "y0": 1,
          "y1": 2
         },
         {
          "line": {
           "color": "RoyalBlue"
          },
          "type": "rect",
          "x0": 39,
          "x1": 40,
          "y0": 1,
          "y1": 2
         },
         {
          "line": {
           "color": "RoyalBlue"
          },
          "type": "rect",
          "x0": 39,
          "x1": 48,
          "y0": 1,
          "y1": 2
         },
         {
          "line": {
           "color": "RoyalBlue"
          },
          "type": "rect",
          "x0": 40,
          "x1": 52,
          "y0": 1,
          "y1": 2
         },
         {
          "line": {
           "color": "RoyalBlue"
          },
          "type": "rect",
          "x0": 52,
          "x1": 53,
          "y0": 6,
          "y1": 7
         },
         {
          "line": {
           "color": "RoyalBlue"
          },
          "type": "rect",
          "x0": 52,
          "x1": 61,
          "y0": 0,
          "y1": 7
         },
         {
          "line": {
           "color": "RoyalBlue"
          },
          "type": "rect",
          "x0": 52,
          "x1": 53,
          "y0": 3,
          "y1": 6
         },
         {
          "line": {
           "color": "RoyalBlue"
          },
          "type": "rect",
          "x0": 52,
          "x1": 53,
          "y0": 0,
          "y1": 2
         },
         {
          "line": {
           "color": "RoyalBlue"
          },
          "type": "rect",
          "x0": 53,
          "x1": 61,
          "y0": 0,
          "y1": 7
         },
         {
          "line": {
           "color": "RoyalBlue"
          },
          "type": "rect",
          "x0": 52,
          "x1": 53,
          "y0": 2,
          "y1": 3
         },
         {
          "line": {
           "color": "RoyalBlue"
          },
          "type": "rect",
          "x0": 61,
          "x1": 63,
          "y0": 4,
          "y1": 7
         },
         {
          "line": {
           "color": "RoyalBlue"
          },
          "type": "rect",
          "x0": 61,
          "x1": 63,
          "y0": 0,
          "y1": 4
         },
         {
          "line": {
           "color": "RoyalBlue"
          },
          "type": "rect",
          "x0": 61,
          "x1": 65,
          "y0": 0,
          "y1": 7
         },
         {
          "line": {
           "color": "RoyalBlue"
          },
          "type": "rect",
          "x0": 63,
          "x1": 67,
          "y0": 0,
          "y1": 4
         },
         {
          "line": {
           "color": "RoyalBlue"
          },
          "type": "rect",
          "x0": 63,
          "x1": 67,
          "y0": 4,
          "y1": 6
         },
         {
          "line": {
           "color": "RoyalBlue"
          },
          "type": "rect",
          "x0": 63,
          "x1": 67,
          "y0": 6,
          "y1": 7
         },
         {
          "line": {
           "color": "RoyalBlue"
          },
          "type": "rect",
          "x0": 65,
          "x1": 67,
          "y0": 0,
          "y1": 7
         },
         {
          "line": {
           "color": "RoyalBlue"
          },
          "type": "rect",
          "x0": 67,
          "x1": 68,
          "y0": 0,
          "y1": 4
         },
         {
          "line": {
           "color": "RoyalBlue"
          },
          "type": "rect",
          "x0": 67,
          "x1": 72,
          "y0": 0,
          "y1": 7
         },
         {
          "line": {
           "color": "RoyalBlue"
          },
          "type": "rect",
          "x0": 67,
          "x1": 68,
          "y0": 4,
          "y1": 6
         },
         {
          "line": {
           "color": "RoyalBlue"
          },
          "type": "rect",
          "x0": 67,
          "x1": 68,
          "y0": 6,
          "y1": 7
         },
         {
          "line": {
           "color": "RoyalBlue"
          },
          "type": "rect",
          "x0": 68,
          "x1": 69,
          "y0": 0,
          "y1": 7
         },
         {
          "line": {
           "color": "RoyalBlue"
          },
          "type": "rect",
          "x0": 69,
          "x1": 72,
          "y0": 0,
          "y1": 7
         },
         {
          "line": {
           "color": "RoyalBlue"
          },
          "type": "rect",
          "x0": 48,
          "x1": 52,
          "y0": 0,
          "y1": 1
         },
         {
          "line": {
           "color": "RoyalBlue"
          },
          "type": "rect",
          "x0": 39,
          "x1": 48,
          "y0": 0,
          "y1": 1
         },
         {
          "line": {
           "color": "RoyalBlue"
          },
          "type": "rect",
          "x0": 39,
          "x1": 40,
          "y0": 0,
          "y1": 1
         },
         {
          "line": {
           "color": "RoyalBlue"
          },
          "type": "rect",
          "x0": 40,
          "x1": 52,
          "y0": 0,
          "y1": 1
         },
         {
          "line": {
           "color": "RoyalBlue"
          },
          "type": "rect",
          "x0": 48,
          "x1": 52,
          "y0": 3,
          "y1": 4
         },
         {
          "line": {
           "color": "RoyalBlue"
          },
          "type": "rect",
          "x0": 39,
          "x1": 48,
          "y0": 3,
          "y1": 4
         },
         {
          "line": {
           "color": "RoyalBlue"
          },
          "type": "rect",
          "x0": 39,
          "x1": 52,
          "y0": 3,
          "y1": 4
         },
         {
          "line": {
           "color": "RoyalBlue"
          },
          "type": "rect",
          "x0": 48,
          "x1": 52,
          "y0": 4,
          "y1": 7
         },
         {
          "line": {
           "color": "RoyalBlue"
          },
          "type": "rect",
          "x0": 39,
          "x1": 52,
          "y0": 4,
          "y1": 6
         },
         {
          "line": {
           "color": "RoyalBlue"
          },
          "type": "rect",
          "x0": 39,
          "x1": 48,
          "y0": 4,
          "y1": 7
         },
         {
          "line": {
           "color": "RoyalBlue"
          },
          "type": "rect",
          "x0": 39,
          "x1": 52,
          "y0": 6,
          "y1": 7
         },
         {
          "line": {
           "color": "RoyalBlue"
          },
          "type": "rect",
          "x0": 26,
          "x1": 31,
          "y0": 5,
          "y1": 7
         },
         {
          "line": {
           "color": "RoyalBlue"
          },
          "type": "rect",
          "x0": 26,
          "x1": 28,
          "y0": 5,
          "y1": 7
         },
         {
          "line": {
           "color": "RoyalBlue"
          },
          "type": "rect",
          "x0": 28,
          "x1": 31,
          "y0": 6,
          "y1": 7
         },
         {
          "line": {
           "color": "RoyalBlue"
          },
          "type": "rect",
          "x0": 28,
          "x1": 31,
          "y0": 5,
          "y1": 6
         },
         {
          "line": {
           "color": "RoyalBlue"
          },
          "type": "rect",
          "x0": 31,
          "x1": 39,
          "y0": 6,
          "y1": 7
         },
         {
          "line": {
           "color": "RoyalBlue"
          },
          "type": "rect",
          "x0": 31,
          "x1": 32,
          "y0": 5,
          "y1": 6
         },
         {
          "line": {
           "color": "RoyalBlue"
          },
          "type": "rect",
          "x0": 31,
          "x1": 39,
          "y0": 5,
          "y1": 7
         },
         {
          "line": {
           "color": "RoyalBlue"
          },
          "type": "rect",
          "x0": 32,
          "x1": 39,
          "y0": 5,
          "y1": 6
         },
         {
          "line": {
           "color": "RoyalBlue"
          },
          "type": "rect",
          "x0": 48,
          "x1": 52,
          "y0": 2,
          "y1": 3
         },
         {
          "line": {
           "color": "RoyalBlue"
          },
          "type": "rect",
          "x0": 39,
          "x1": 48,
          "y0": 2,
          "y1": 3
         },
         {
          "line": {
           "color": "RoyalBlue"
          },
          "type": "rect",
          "x0": 39,
          "x1": 52,
          "y0": 2,
          "y1": 3
         },
         {
          "line": {
           "color": "RoyalBlue"
          },
          "type": "rect",
          "x0": 0,
          "x1": 24,
          "y0": 0,
          "y1": 7
         },
         {
          "line": {
           "color": "RoyalBlue"
          },
          "type": "rect",
          "x0": 24,
          "x1": 28,
          "y0": 0,
          "y1": 7
         },
         {
          "line": {
           "color": "RoyalBlue"
          },
          "type": "rect",
          "x0": 28,
          "x1": 40,
          "y0": 0,
          "y1": 2
         },
         {
          "line": {
           "color": "RoyalBlue"
          },
          "type": "rect",
          "x0": 40,
          "x1": 48,
          "y0": 0,
          "y1": 2
         },
         {
          "line": {
           "color": "RoyalBlue"
          },
          "type": "rect",
          "x0": 28,
          "x1": 32,
          "y0": 3,
          "y1": 4
         },
         {
          "line": {
           "color": "RoyalBlue"
          },
          "type": "rect",
          "x0": 32,
          "x1": 48,
          "y0": 3,
          "y1": 6
         },
         {
          "line": {
           "color": "RoyalBlue"
          },
          "type": "rect",
          "x0": 28,
          "x1": 32,
          "y0": 4,
          "y1": 6
         },
         {
          "line": {
           "color": "RoyalBlue"
          },
          "type": "rect",
          "x0": 28,
          "x1": 48,
          "y0": 6,
          "y1": 7
         },
         {
          "line": {
           "color": "RoyalBlue"
          },
          "type": "rect",
          "x0": 28,
          "x1": 48,
          "y0": 2,
          "y1": 3
         },
         {
          "line": {
           "color": "RoyalBlue"
          },
          "type": "rect",
          "x0": 48,
          "x1": 53,
          "y0": 0,
          "y1": 2
         },
         {
          "line": {
           "color": "RoyalBlue"
          },
          "type": "rect",
          "x0": 53,
          "x1": 61,
          "y0": 0,
          "y1": 7
         },
         {
          "line": {
           "color": "RoyalBlue"
          },
          "type": "rect",
          "x0": 48,
          "x1": 53,
          "y0": 3,
          "y1": 6
         },
         {
          "line": {
           "color": "RoyalBlue"
          },
          "type": "rect",
          "x0": 48,
          "x1": 53,
          "y0": 6,
          "y1": 7
         },
         {
          "line": {
           "color": "RoyalBlue"
          },
          "type": "rect",
          "x0": 48,
          "x1": 53,
          "y0": 2,
          "y1": 3
         },
         {
          "line": {
           "color": "RoyalBlue"
          },
          "type": "rect",
          "x0": 61,
          "x1": 63,
          "y0": 0,
          "y1": 4
         },
         {
          "line": {
           "color": "RoyalBlue"
          },
          "type": "rect",
          "x0": 63,
          "x1": 65,
          "y0": 0,
          "y1": 4
         },
         {
          "line": {
           "color": "RoyalBlue"
          },
          "type": "rect",
          "x0": 65,
          "x1": 68,
          "y0": 0,
          "y1": 4
         },
         {
          "line": {
           "color": "RoyalBlue"
          },
          "type": "rect",
          "x0": 68,
          "x1": 69,
          "y0": 0,
          "y1": 7
         },
         {
          "line": {
           "color": "RoyalBlue"
          },
          "type": "rect",
          "x0": 69,
          "x1": 72,
          "y0": 0,
          "y1": 7
         },
         {
          "line": {
           "color": "RoyalBlue"
          },
          "type": "rect",
          "x0": 61,
          "x1": 63,
          "y0": 4,
          "y1": 7
         },
         {
          "line": {
           "color": "RoyalBlue"
          },
          "type": "rect",
          "x0": 63,
          "x1": 65,
          "y0": 4,
          "y1": 6
         },
         {
          "line": {
           "color": "RoyalBlue"
          },
          "type": "rect",
          "x0": 65,
          "x1": 68,
          "y0": 4,
          "y1": 6
         },
         {
          "line": {
           "color": "RoyalBlue"
          },
          "type": "rect",
          "x0": 63,
          "x1": 65,
          "y0": 6,
          "y1": 7
         },
         {
          "line": {
           "color": "RoyalBlue"
          },
          "type": "rect",
          "x0": 65,
          "x1": 68,
          "y0": 6,
          "y1": 7
         }
        ],
        "template": {
         "data": {
          "bar": [
           {
            "error_x": {
             "color": "#2a3f5f"
            },
            "error_y": {
             "color": "#2a3f5f"
            },
            "marker": {
             "line": {
              "color": "#E5ECF6",
              "width": 0.5
             }
            },
            "type": "bar"
           }
          ],
          "barpolar": [
           {
            "marker": {
             "line": {
              "color": "#E5ECF6",
              "width": 0.5
             }
            },
            "type": "barpolar"
           }
          ],
          "carpet": [
           {
            "aaxis": {
             "endlinecolor": "#2a3f5f",
             "gridcolor": "white",
             "linecolor": "white",
             "minorgridcolor": "white",
             "startlinecolor": "#2a3f5f"
            },
            "baxis": {
             "endlinecolor": "#2a3f5f",
             "gridcolor": "white",
             "linecolor": "white",
             "minorgridcolor": "white",
             "startlinecolor": "#2a3f5f"
            },
            "type": "carpet"
           }
          ],
          "choropleth": [
           {
            "colorbar": {
             "outlinewidth": 0,
             "ticks": ""
            },
            "type": "choropleth"
           }
          ],
          "contour": [
           {
            "colorbar": {
             "outlinewidth": 0,
             "ticks": ""
            },
            "colorscale": [
             [
              0,
              "#0d0887"
             ],
             [
              0.1111111111111111,
              "#46039f"
             ],
             [
              0.2222222222222222,
              "#7201a8"
             ],
             [
              0.3333333333333333,
              "#9c179e"
             ],
             [
              0.4444444444444444,
              "#bd3786"
             ],
             [
              0.5555555555555556,
              "#d8576b"
             ],
             [
              0.6666666666666666,
              "#ed7953"
             ],
             [
              0.7777777777777778,
              "#fb9f3a"
             ],
             [
              0.8888888888888888,
              "#fdca26"
             ],
             [
              1,
              "#f0f921"
             ]
            ],
            "type": "contour"
           }
          ],
          "contourcarpet": [
           {
            "colorbar": {
             "outlinewidth": 0,
             "ticks": ""
            },
            "type": "contourcarpet"
           }
          ],
          "heatmap": [
           {
            "colorbar": {
             "outlinewidth": 0,
             "ticks": ""
            },
            "colorscale": [
             [
              0,
              "#0d0887"
             ],
             [
              0.1111111111111111,
              "#46039f"
             ],
             [
              0.2222222222222222,
              "#7201a8"
             ],
             [
              0.3333333333333333,
              "#9c179e"
             ],
             [
              0.4444444444444444,
              "#bd3786"
             ],
             [
              0.5555555555555556,
              "#d8576b"
             ],
             [
              0.6666666666666666,
              "#ed7953"
             ],
             [
              0.7777777777777778,
              "#fb9f3a"
             ],
             [
              0.8888888888888888,
              "#fdca26"
             ],
             [
              1,
              "#f0f921"
             ]
            ],
            "type": "heatmap"
           }
          ],
          "heatmapgl": [
           {
            "colorbar": {
             "outlinewidth": 0,
             "ticks": ""
            },
            "colorscale": [
             [
              0,
              "#0d0887"
             ],
             [
              0.1111111111111111,
              "#46039f"
             ],
             [
              0.2222222222222222,
              "#7201a8"
             ],
             [
              0.3333333333333333,
              "#9c179e"
             ],
             [
              0.4444444444444444,
              "#bd3786"
             ],
             [
              0.5555555555555556,
              "#d8576b"
             ],
             [
              0.6666666666666666,
              "#ed7953"
             ],
             [
              0.7777777777777778,
              "#fb9f3a"
             ],
             [
              0.8888888888888888,
              "#fdca26"
             ],
             [
              1,
              "#f0f921"
             ]
            ],
            "type": "heatmapgl"
           }
          ],
          "histogram": [
           {
            "marker": {
             "colorbar": {
              "outlinewidth": 0,
              "ticks": ""
             }
            },
            "type": "histogram"
           }
          ],
          "histogram2d": [
           {
            "colorbar": {
             "outlinewidth": 0,
             "ticks": ""
            },
            "colorscale": [
             [
              0,
              "#0d0887"
             ],
             [
              0.1111111111111111,
              "#46039f"
             ],
             [
              0.2222222222222222,
              "#7201a8"
             ],
             [
              0.3333333333333333,
              "#9c179e"
             ],
             [
              0.4444444444444444,
              "#bd3786"
             ],
             [
              0.5555555555555556,
              "#d8576b"
             ],
             [
              0.6666666666666666,
              "#ed7953"
             ],
             [
              0.7777777777777778,
              "#fb9f3a"
             ],
             [
              0.8888888888888888,
              "#fdca26"
             ],
             [
              1,
              "#f0f921"
             ]
            ],
            "type": "histogram2d"
           }
          ],
          "histogram2dcontour": [
           {
            "colorbar": {
             "outlinewidth": 0,
             "ticks": ""
            },
            "colorscale": [
             [
              0,
              "#0d0887"
             ],
             [
              0.1111111111111111,
              "#46039f"
             ],
             [
              0.2222222222222222,
              "#7201a8"
             ],
             [
              0.3333333333333333,
              "#9c179e"
             ],
             [
              0.4444444444444444,
              "#bd3786"
             ],
             [
              0.5555555555555556,
              "#d8576b"
             ],
             [
              0.6666666666666666,
              "#ed7953"
             ],
             [
              0.7777777777777778,
              "#fb9f3a"
             ],
             [
              0.8888888888888888,
              "#fdca26"
             ],
             [
              1,
              "#f0f921"
             ]
            ],
            "type": "histogram2dcontour"
           }
          ],
          "mesh3d": [
           {
            "colorbar": {
             "outlinewidth": 0,
             "ticks": ""
            },
            "type": "mesh3d"
           }
          ],
          "parcoords": [
           {
            "line": {
             "colorbar": {
              "outlinewidth": 0,
              "ticks": ""
             }
            },
            "type": "parcoords"
           }
          ],
          "pie": [
           {
            "automargin": true,
            "type": "pie"
           }
          ],
          "scatter": [
           {
            "marker": {
             "colorbar": {
              "outlinewidth": 0,
              "ticks": ""
             }
            },
            "type": "scatter"
           }
          ],
          "scatter3d": [
           {
            "line": {
             "colorbar": {
              "outlinewidth": 0,
              "ticks": ""
             }
            },
            "marker": {
             "colorbar": {
              "outlinewidth": 0,
              "ticks": ""
             }
            },
            "type": "scatter3d"
           }
          ],
          "scattercarpet": [
           {
            "marker": {
             "colorbar": {
              "outlinewidth": 0,
              "ticks": ""
             }
            },
            "type": "scattercarpet"
           }
          ],
          "scattergeo": [
           {
            "marker": {
             "colorbar": {
              "outlinewidth": 0,
              "ticks": ""
             }
            },
            "type": "scattergeo"
           }
          ],
          "scattergl": [
           {
            "marker": {
             "colorbar": {
              "outlinewidth": 0,
              "ticks": ""
             }
            },
            "type": "scattergl"
           }
          ],
          "scattermapbox": [
           {
            "marker": {
             "colorbar": {
              "outlinewidth": 0,
              "ticks": ""
             }
            },
            "type": "scattermapbox"
           }
          ],
          "scatterpolar": [
           {
            "marker": {
             "colorbar": {
              "outlinewidth": 0,
              "ticks": ""
             }
            },
            "type": "scatterpolar"
           }
          ],
          "scatterpolargl": [
           {
            "marker": {
             "colorbar": {
              "outlinewidth": 0,
              "ticks": ""
             }
            },
            "type": "scatterpolargl"
           }
          ],
          "scatterternary": [
           {
            "marker": {
             "colorbar": {
              "outlinewidth": 0,
              "ticks": ""
             }
            },
            "type": "scatterternary"
           }
          ],
          "surface": [
           {
            "colorbar": {
             "outlinewidth": 0,
             "ticks": ""
            },
            "colorscale": [
             [
              0,
              "#0d0887"
             ],
             [
              0.1111111111111111,
              "#46039f"
             ],
             [
              0.2222222222222222,
              "#7201a8"
             ],
             [
              0.3333333333333333,
              "#9c179e"
             ],
             [
              0.4444444444444444,
              "#bd3786"
             ],
             [
              0.5555555555555556,
              "#d8576b"
             ],
             [
              0.6666666666666666,
              "#ed7953"
             ],
             [
              0.7777777777777778,
              "#fb9f3a"
             ],
             [
              0.8888888888888888,
              "#fdca26"
             ],
             [
              1,
              "#f0f921"
             ]
            ],
            "type": "surface"
           }
          ],
          "table": [
           {
            "cells": {
             "fill": {
              "color": "#EBF0F8"
             },
             "line": {
              "color": "white"
             }
            },
            "header": {
             "fill": {
              "color": "#C8D4E3"
             },
             "line": {
              "color": "white"
             }
            },
            "type": "table"
           }
          ]
         },
         "layout": {
          "annotationdefaults": {
           "arrowcolor": "#2a3f5f",
           "arrowhead": 0,
           "arrowwidth": 1
          },
          "autotypenumbers": "strict",
          "coloraxis": {
           "colorbar": {
            "outlinewidth": 0,
            "ticks": ""
           }
          },
          "colorscale": {
           "diverging": [
            [
             0,
             "#8e0152"
            ],
            [
             0.1,
             "#c51b7d"
            ],
            [
             0.2,
             "#de77ae"
            ],
            [
             0.3,
             "#f1b6da"
            ],
            [
             0.4,
             "#fde0ef"
            ],
            [
             0.5,
             "#f7f7f7"
            ],
            [
             0.6,
             "#e6f5d0"
            ],
            [
             0.7,
             "#b8e186"
            ],
            [
             0.8,
             "#7fbc41"
            ],
            [
             0.9,
             "#4d9221"
            ],
            [
             1,
             "#276419"
            ]
           ],
           "sequential": [
            [
             0,
             "#0d0887"
            ],
            [
             0.1111111111111111,
             "#46039f"
            ],
            [
             0.2222222222222222,
             "#7201a8"
            ],
            [
             0.3333333333333333,
             "#9c179e"
            ],
            [
             0.4444444444444444,
             "#bd3786"
            ],
            [
             0.5555555555555556,
             "#d8576b"
            ],
            [
             0.6666666666666666,
             "#ed7953"
            ],
            [
             0.7777777777777778,
             "#fb9f3a"
            ],
            [
             0.8888888888888888,
             "#fdca26"
            ],
            [
             1,
             "#f0f921"
            ]
           ],
           "sequentialminus": [
            [
             0,
             "#0d0887"
            ],
            [
             0.1111111111111111,
             "#46039f"
            ],
            [
             0.2222222222222222,
             "#7201a8"
            ],
            [
             0.3333333333333333,
             "#9c179e"
            ],
            [
             0.4444444444444444,
             "#bd3786"
            ],
            [
             0.5555555555555556,
             "#d8576b"
            ],
            [
             0.6666666666666666,
             "#ed7953"
            ],
            [
             0.7777777777777778,
             "#fb9f3a"
            ],
            [
             0.8888888888888888,
             "#fdca26"
            ],
            [
             1,
             "#f0f921"
            ]
           ]
          },
          "colorway": [
           "#636efa",
           "#EF553B",
           "#00cc96",
           "#ab63fa",
           "#FFA15A",
           "#19d3f3",
           "#FF6692",
           "#B6E880",
           "#FF97FF",
           "#FECB52"
          ],
          "font": {
           "color": "#2a3f5f"
          },
          "geo": {
           "bgcolor": "white",
           "lakecolor": "white",
           "landcolor": "#E5ECF6",
           "showlakes": true,
           "showland": true,
           "subunitcolor": "white"
          },
          "hoverlabel": {
           "align": "left"
          },
          "hovermode": "closest",
          "mapbox": {
           "style": "light"
          },
          "paper_bgcolor": "white",
          "plot_bgcolor": "#E5ECF6",
          "polar": {
           "angularaxis": {
            "gridcolor": "white",
            "linecolor": "white",
            "ticks": ""
           },
           "bgcolor": "#E5ECF6",
           "radialaxis": {
            "gridcolor": "white",
            "linecolor": "white",
            "ticks": ""
           }
          },
          "scene": {
           "xaxis": {
            "backgroundcolor": "#E5ECF6",
            "gridcolor": "white",
            "gridwidth": 2,
            "linecolor": "white",
            "showbackground": true,
            "ticks": "",
            "zerolinecolor": "white"
           },
           "yaxis": {
            "backgroundcolor": "#E5ECF6",
            "gridcolor": "white",
            "gridwidth": 2,
            "linecolor": "white",
            "showbackground": true,
            "ticks": "",
            "zerolinecolor": "white"
           },
           "zaxis": {
            "backgroundcolor": "#E5ECF6",
            "gridcolor": "white",
            "gridwidth": 2,
            "linecolor": "white",
            "showbackground": true,
            "ticks": "",
            "zerolinecolor": "white"
           }
          },
          "shapedefaults": {
           "line": {
            "color": "#2a3f5f"
           }
          },
          "ternary": {
           "aaxis": {
            "gridcolor": "white",
            "linecolor": "white",
            "ticks": ""
           },
           "baxis": {
            "gridcolor": "white",
            "linecolor": "white",
            "ticks": ""
           },
           "bgcolor": "#E5ECF6",
           "caxis": {
            "gridcolor": "white",
            "linecolor": "white",
            "ticks": ""
           }
          },
          "title": {
           "x": 0.05
          },
          "xaxis": {
           "automargin": true,
           "gridcolor": "white",
           "linecolor": "white",
           "ticks": "",
           "title": {
            "standoff": 15
           },
           "zerolinecolor": "white",
           "zerolinewidth": 2
          },
          "yaxis": {
           "automargin": true,
           "gridcolor": "white",
           "linecolor": "white",
           "ticks": "",
           "title": {
            "standoff": 15
           },
           "zerolinecolor": "white",
           "zerolinewidth": 2
          }
         }
        }
       }
      }
     },
     "metadata": {}
    }
   ],
   "source": [
    "import plotly.graph_objects as go\n",
    "from plotly.subplots import make_subplots\n",
    "\n",
    "draw_device = \"HomeOffice\"\n",
    "c_point = [[],[]]\n",
    "missed_point = [[], []]\n",
    "for c in conflict_device[draw_device]:\n",
    "    coor = ctx_info.get_coor_by_ctx(c[\"ctx\"])\n",
    "    c_point[0].append(coor[0])\n",
    "    c_point[1].append(coor[1])\n",
    "for c in missed_gt_conflicts[draw_device]:\n",
    "    coor = ctx_info.get_coor_by_ctx(c[\"ctx\"])\n",
    "    missed_point[0].append(coor[0])\n",
    "    missed_point[1].append(coor[1])\n",
    "fig = go.Figure(data=go.Scatter(x=c_point[0], y=c_point[1], mode=\"markers\"))\n",
    "fig.add_trace(go.Scatter(x=missed_point[0], y=missed_point[1], mode=\"markers\", marker=dict(color=\"red\")))\n",
    "\n",
    "for c in final_conflicts[draw_device]:\n",
    "    fig.add_shape(type=\"rect\",\n",
    "        x0=c[\"box\"][0], y0=c[\"box\"][1], x1=c[\"box\"][2], y1=c[\"box\"][3],\n",
    "        line=dict(color=\"RoyalBlue\"),\n",
    "    )\n",
    "fig.show()\n"
   ]
  },
  {
   "source": [
    "hit_miss_rate = [[],[]]\n",
    "for prob_threshold in np.arange(0.0, 0.5, 0.001):\n",
    "    test_conflict = {\n",
    "        d: [x for x in final_conflicts[d] if x[\"prob\"] >= prob_threshold]\n",
    "        for d in final_conflicts\n",
    "    }\n",
    "    missed_gt_conflicts = {d:[] for d in conflict_device}\n",
    "    hit_gt_conflicts = {d:{} for d in conflict_device}\n",
    "    for d in test_conflict:\n",
    "        hit_gt_conflicts[d] = {i:0 for i in range(len(test_conflict[d]))}\n",
    "    for d, conflicts in conflict_device.items():\n",
    "        for c in conflicts:\n",
    "            coor = ctx_info.get_coor_by_ctx(c[\"ctx\"])\n",
    "            flag = False\n",
    "            for idx,c_predict in enumerate(test_conflict[d]):\n",
    "                if does_contain_point(c_predict[\"box\"], coor):\n",
    "                    flag = True\n",
    "                    hit_gt_conflicts[d][idx] += 1\n",
    "                    break\n",
    "            if not flag:\n",
    "                missed_gt_conflicts[d].append(c)\n",
    "    all_missed_gt_conflicts = sum([len(x) for d,x in missed_gt_conflicts.items()])\n",
    "    all_gt_conflicts = sum([len(x) for d,x in conflict_device.items()])\n",
    "    hit_miss_rate[0].append(1.0 - float(all_missed_gt_conflicts) / all_gt_conflicts)\n",
    "    # print({d:len(missed_gt_conflicts[d]) for d in missed_gt_conflicts})\n",
    "    all_pred_conflicts = 0\n",
    "    all_missed_pred_conflicts = 0\n",
    "    hit_count = {d:[0,0] for d in hit_gt_conflicts}\n",
    "    for d,hit_c in hit_gt_conflicts.items():\n",
    "        for i,h in hit_c.items():\n",
    "            all_pred_conflicts += 1\n",
    "            if h == 0:\n",
    "                all_missed_pred_conflicts += 1\n",
    "                hit_count[d][0] += 1\n",
    "            else:\n",
    "                hit_count[d][1] += 1\n",
    "    if all_pred_conflicts == 0:\n",
    "        break\n",
    "    hit_miss_rate[1].append(1.0 - float(all_missed_pred_conflicts) / all_pred_conflicts)\n",
    "    # print(hit_count)\n"
   ],
   "cell_type": "code",
   "metadata": {
    "tags": []
   },
   "execution_count": 14,
   "outputs": [
    {
     "output_type": "stream",
     "name": "stdout",
     "text": [
      "{'Range': {}, 'Microwave': {}, 'LivingLights': {}, 'HomeOffice': {}, 'WashingMachine': {}}\n"
     ]
    }
   ]
  },
  {
   "cell_type": "code",
   "execution_count": 15,
   "metadata": {},
   "outputs": [
    {
     "output_type": "stream",
     "name": "stdout",
     "text": [
      "77\n"
     ]
    },
    {
     "output_type": "display_data",
     "data": {
      "application/vnd.plotly.v1+json": {
       "config": {
        "plotlyServerURL": "https://plot.ly"
       },
       "data": [
        {
         "mode": "lines+markers",
         "type": "scatter",
         "x": [
          1,
          0.8589108910891089,
          0.7846534653465347,
          0.7821782178217822,
          0.7178217821782178,
          0.6584158415841583,
          0.6584158415841583,
          0.6584158415841583,
          0.6584158415841583,
          0.5965346534653465,
          0.5915841584158417,
          0.5915841584158417,
          0.5866336633663367,
          0.5792079207920793,
          0.5717821782178218,
          0.5074257425742574,
          0.49504950495049505,
          0.49504950495049505,
          0.49504950495049505,
          0.3910891089108911,
          0.37623762376237624,
          0.37623762376237624,
          0.3589108910891089,
          0.3589108910891089,
          0.3589108910891089,
          0.3143564356435643,
          0.3143564356435643,
          0.21534653465346532,
          0.21534653465346532,
          0.21534653465346532,
          0.21039603960396036,
          0.21039603960396036,
          0.21039603960396036,
          0.21039603960396036,
          0.21039603960396036,
          0.21039603960396036,
          0.21039603960396036,
          0.21039603960396036,
          0.21039603960396036,
          0.21039603960396036,
          0.20792079207920788,
          0.18811881188118806,
          0.18811881188118806,
          0.18811881188118806,
          0.18811881188118806,
          0.18811881188118806,
          0.18811881188118806,
          0.18316831683168322,
          0.18316831683168322,
          0.18316831683168322,
          0.1633663366336634,
          0.1633663366336634,
          0.1633663366336634,
          0.1633663366336634,
          0.1633663366336634,
          0.16089108910891092,
          0.16089108910891092,
          0.13366336633663367,
          0.13366336633663367,
          0.13366336633663367,
          0.13366336633663367,
          0.13366336633663367,
          0.13366336633663367,
          0.13366336633663367,
          0.13366336633663367,
          0.13366336633663367,
          0.13366336633663367,
          0.13366336633663367,
          0.13366336633663367,
          0.13366336633663367,
          0.13366336633663367,
          0.09158415841584155,
          0.09158415841584155,
          0.03712871287128716,
          0.03712871287128716,
          0.03712871287128716,
          0
         ],
         "y": [
          0.16279069767441856,
          0.282258064516129,
          0.306930693069307,
          0.3950617283950617,
          0.4305555555555556,
          0.46031746031746035,
          0.47457627118644063,
          0.5,
          0.5384615384615384,
          0.574468085106383,
          0.5909090909090908,
          0.6190476190476191,
          0.6944444444444444,
          0.7058823529411764,
          0.71875,
          0.7,
          0.7037037037037037,
          0.76,
          0.782608695652174,
          0.7727272727272727,
          0.7619047619047619,
          0.7619047619047619,
          0.7777777777777778,
          0.8235294117647058,
          0.8235294117647058,
          0.8,
          0.8,
          0.7692307692307692,
          0.7692307692307692,
          0.7692307692307692,
          0.75,
          0.8181818181818181,
          0.8181818181818181,
          0.9,
          0.9,
          1,
          1,
          1,
          1,
          1,
          1,
          1,
          1,
          1,
          1,
          1,
          1,
          1,
          1,
          1,
          1,
          1,
          1,
          1,
          1,
          1,
          1,
          1,
          1,
          1,
          1,
          1,
          1,
          1,
          1,
          1,
          1,
          1,
          1,
          1,
          1,
          1,
          1,
          1,
          1,
          1
         ]
        }
       ],
       "layout": {
        "template": {
         "data": {
          "bar": [
           {
            "error_x": {
             "color": "#2a3f5f"
            },
            "error_y": {
             "color": "#2a3f5f"
            },
            "marker": {
             "line": {
              "color": "#E5ECF6",
              "width": 0.5
             }
            },
            "type": "bar"
           }
          ],
          "barpolar": [
           {
            "marker": {
             "line": {
              "color": "#E5ECF6",
              "width": 0.5
             }
            },
            "type": "barpolar"
           }
          ],
          "carpet": [
           {
            "aaxis": {
             "endlinecolor": "#2a3f5f",
             "gridcolor": "white",
             "linecolor": "white",
             "minorgridcolor": "white",
             "startlinecolor": "#2a3f5f"
            },
            "baxis": {
             "endlinecolor": "#2a3f5f",
             "gridcolor": "white",
             "linecolor": "white",
             "minorgridcolor": "white",
             "startlinecolor": "#2a3f5f"
            },
            "type": "carpet"
           }
          ],
          "choropleth": [
           {
            "colorbar": {
             "outlinewidth": 0,
             "ticks": ""
            },
            "type": "choropleth"
           }
          ],
          "contour": [
           {
            "colorbar": {
             "outlinewidth": 0,
             "ticks": ""
            },
            "colorscale": [
             [
              0,
              "#0d0887"
             ],
             [
              0.1111111111111111,
              "#46039f"
             ],
             [
              0.2222222222222222,
              "#7201a8"
             ],
             [
              0.3333333333333333,
              "#9c179e"
             ],
             [
              0.4444444444444444,
              "#bd3786"
             ],
             [
              0.5555555555555556,
              "#d8576b"
             ],
             [
              0.6666666666666666,
              "#ed7953"
             ],
             [
              0.7777777777777778,
              "#fb9f3a"
             ],
             [
              0.8888888888888888,
              "#fdca26"
             ],
             [
              1,
              "#f0f921"
             ]
            ],
            "type": "contour"
           }
          ],
          "contourcarpet": [
           {
            "colorbar": {
             "outlinewidth": 0,
             "ticks": ""
            },
            "type": "contourcarpet"
           }
          ],
          "heatmap": [
           {
            "colorbar": {
             "outlinewidth": 0,
             "ticks": ""
            },
            "colorscale": [
             [
              0,
              "#0d0887"
             ],
             [
              0.1111111111111111,
              "#46039f"
             ],
             [
              0.2222222222222222,
              "#7201a8"
             ],
             [
              0.3333333333333333,
              "#9c179e"
             ],
             [
              0.4444444444444444,
              "#bd3786"
             ],
             [
              0.5555555555555556,
              "#d8576b"
             ],
             [
              0.6666666666666666,
              "#ed7953"
             ],
             [
              0.7777777777777778,
              "#fb9f3a"
             ],
             [
              0.8888888888888888,
              "#fdca26"
             ],
             [
              1,
              "#f0f921"
             ]
            ],
            "type": "heatmap"
           }
          ],
          "heatmapgl": [
           {
            "colorbar": {
             "outlinewidth": 0,
             "ticks": ""
            },
            "colorscale": [
             [
              0,
              "#0d0887"
             ],
             [
              0.1111111111111111,
              "#46039f"
             ],
             [
              0.2222222222222222,
              "#7201a8"
             ],
             [
              0.3333333333333333,
              "#9c179e"
             ],
             [
              0.4444444444444444,
              "#bd3786"
             ],
             [
              0.5555555555555556,
              "#d8576b"
             ],
             [
              0.6666666666666666,
              "#ed7953"
             ],
             [
              0.7777777777777778,
              "#fb9f3a"
             ],
             [
              0.8888888888888888,
              "#fdca26"
             ],
             [
              1,
              "#f0f921"
             ]
            ],
            "type": "heatmapgl"
           }
          ],
          "histogram": [
           {
            "marker": {
             "colorbar": {
              "outlinewidth": 0,
              "ticks": ""
             }
            },
            "type": "histogram"
           }
          ],
          "histogram2d": [
           {
            "colorbar": {
             "outlinewidth": 0,
             "ticks": ""
            },
            "colorscale": [
             [
              0,
              "#0d0887"
             ],
             [
              0.1111111111111111,
              "#46039f"
             ],
             [
              0.2222222222222222,
              "#7201a8"
             ],
             [
              0.3333333333333333,
              "#9c179e"
             ],
             [
              0.4444444444444444,
              "#bd3786"
             ],
             [
              0.5555555555555556,
              "#d8576b"
             ],
             [
              0.6666666666666666,
              "#ed7953"
             ],
             [
              0.7777777777777778,
              "#fb9f3a"
             ],
             [
              0.8888888888888888,
              "#fdca26"
             ],
             [
              1,
              "#f0f921"
             ]
            ],
            "type": "histogram2d"
           }
          ],
          "histogram2dcontour": [
           {
            "colorbar": {
             "outlinewidth": 0,
             "ticks": ""
            },
            "colorscale": [
             [
              0,
              "#0d0887"
             ],
             [
              0.1111111111111111,
              "#46039f"
             ],
             [
              0.2222222222222222,
              "#7201a8"
             ],
             [
              0.3333333333333333,
              "#9c179e"
             ],
             [
              0.4444444444444444,
              "#bd3786"
             ],
             [
              0.5555555555555556,
              "#d8576b"
             ],
             [
              0.6666666666666666,
              "#ed7953"
             ],
             [
              0.7777777777777778,
              "#fb9f3a"
             ],
             [
              0.8888888888888888,
              "#fdca26"
             ],
             [
              1,
              "#f0f921"
             ]
            ],
            "type": "histogram2dcontour"
           }
          ],
          "mesh3d": [
           {
            "colorbar": {
             "outlinewidth": 0,
             "ticks": ""
            },
            "type": "mesh3d"
           }
          ],
          "parcoords": [
           {
            "line": {
             "colorbar": {
              "outlinewidth": 0,
              "ticks": ""
             }
            },
            "type": "parcoords"
           }
          ],
          "pie": [
           {
            "automargin": true,
            "type": "pie"
           }
          ],
          "scatter": [
           {
            "marker": {
             "colorbar": {
              "outlinewidth": 0,
              "ticks": ""
             }
            },
            "type": "scatter"
           }
          ],
          "scatter3d": [
           {
            "line": {
             "colorbar": {
              "outlinewidth": 0,
              "ticks": ""
             }
            },
            "marker": {
             "colorbar": {
              "outlinewidth": 0,
              "ticks": ""
             }
            },
            "type": "scatter3d"
           }
          ],
          "scattercarpet": [
           {
            "marker": {
             "colorbar": {
              "outlinewidth": 0,
              "ticks": ""
             }
            },
            "type": "scattercarpet"
           }
          ],
          "scattergeo": [
           {
            "marker": {
             "colorbar": {
              "outlinewidth": 0,
              "ticks": ""
             }
            },
            "type": "scattergeo"
           }
          ],
          "scattergl": [
           {
            "marker": {
             "colorbar": {
              "outlinewidth": 0,
              "ticks": ""
             }
            },
            "type": "scattergl"
           }
          ],
          "scattermapbox": [
           {
            "marker": {
             "colorbar": {
              "outlinewidth": 0,
              "ticks": ""
             }
            },
            "type": "scattermapbox"
           }
          ],
          "scatterpolar": [
           {
            "marker": {
             "colorbar": {
              "outlinewidth": 0,
              "ticks": ""
             }
            },
            "type": "scatterpolar"
           }
          ],
          "scatterpolargl": [
           {
            "marker": {
             "colorbar": {
              "outlinewidth": 0,
              "ticks": ""
             }
            },
            "type": "scatterpolargl"
           }
          ],
          "scatterternary": [
           {
            "marker": {
             "colorbar": {
              "outlinewidth": 0,
              "ticks": ""
             }
            },
            "type": "scatterternary"
           }
          ],
          "surface": [
           {
            "colorbar": {
             "outlinewidth": 0,
             "ticks": ""
            },
            "colorscale": [
             [
              0,
              "#0d0887"
             ],
             [
              0.1111111111111111,
              "#46039f"
             ],
             [
              0.2222222222222222,
              "#7201a8"
             ],
             [
              0.3333333333333333,
              "#9c179e"
             ],
             [
              0.4444444444444444,
              "#bd3786"
             ],
             [
              0.5555555555555556,
              "#d8576b"
             ],
             [
              0.6666666666666666,
              "#ed7953"
             ],
             [
              0.7777777777777778,
              "#fb9f3a"
             ],
             [
              0.8888888888888888,
              "#fdca26"
             ],
             [
              1,
              "#f0f921"
             ]
            ],
            "type": "surface"
           }
          ],
          "table": [
           {
            "cells": {
             "fill": {
              "color": "#EBF0F8"
             },
             "line": {
              "color": "white"
             }
            },
            "header": {
             "fill": {
              "color": "#C8D4E3"
             },
             "line": {
              "color": "white"
             }
            },
            "type": "table"
           }
          ]
         },
         "layout": {
          "annotationdefaults": {
           "arrowcolor": "#2a3f5f",
           "arrowhead": 0,
           "arrowwidth": 1
          },
          "autotypenumbers": "strict",
          "coloraxis": {
           "colorbar": {
            "outlinewidth": 0,
            "ticks": ""
           }
          },
          "colorscale": {
           "diverging": [
            [
             0,
             "#8e0152"
            ],
            [
             0.1,
             "#c51b7d"
            ],
            [
             0.2,
             "#de77ae"
            ],
            [
             0.3,
             "#f1b6da"
            ],
            [
             0.4,
             "#fde0ef"
            ],
            [
             0.5,
             "#f7f7f7"
            ],
            [
             0.6,
             "#e6f5d0"
            ],
            [
             0.7,
             "#b8e186"
            ],
            [
             0.8,
             "#7fbc41"
            ],
            [
             0.9,
             "#4d9221"
            ],
            [
             1,
             "#276419"
            ]
           ],
           "sequential": [
            [
             0,
             "#0d0887"
            ],
            [
             0.1111111111111111,
             "#46039f"
            ],
            [
             0.2222222222222222,
             "#7201a8"
            ],
            [
             0.3333333333333333,
             "#9c179e"
            ],
            [
             0.4444444444444444,
             "#bd3786"
            ],
            [
             0.5555555555555556,
             "#d8576b"
            ],
            [
             0.6666666666666666,
             "#ed7953"
            ],
            [
             0.7777777777777778,
             "#fb9f3a"
            ],
            [
             0.8888888888888888,
             "#fdca26"
            ],
            [
             1,
             "#f0f921"
            ]
           ],
           "sequentialminus": [
            [
             0,
             "#0d0887"
            ],
            [
             0.1111111111111111,
             "#46039f"
            ],
            [
             0.2222222222222222,
             "#7201a8"
            ],
            [
             0.3333333333333333,
             "#9c179e"
            ],
            [
             0.4444444444444444,
             "#bd3786"
            ],
            [
             0.5555555555555556,
             "#d8576b"
            ],
            [
             0.6666666666666666,
             "#ed7953"
            ],
            [
             0.7777777777777778,
             "#fb9f3a"
            ],
            [
             0.8888888888888888,
             "#fdca26"
            ],
            [
             1,
             "#f0f921"
            ]
           ]
          },
          "colorway": [
           "#636efa",
           "#EF553B",
           "#00cc96",
           "#ab63fa",
           "#FFA15A",
           "#19d3f3",
           "#FF6692",
           "#B6E880",
           "#FF97FF",
           "#FECB52"
          ],
          "font": {
           "color": "#2a3f5f"
          },
          "geo": {
           "bgcolor": "white",
           "lakecolor": "white",
           "landcolor": "#E5ECF6",
           "showlakes": true,
           "showland": true,
           "subunitcolor": "white"
          },
          "hoverlabel": {
           "align": "left"
          },
          "hovermode": "closest",
          "mapbox": {
           "style": "light"
          },
          "paper_bgcolor": "white",
          "plot_bgcolor": "#E5ECF6",
          "polar": {
           "angularaxis": {
            "gridcolor": "white",
            "linecolor": "white",
            "ticks": ""
           },
           "bgcolor": "#E5ECF6",
           "radialaxis": {
            "gridcolor": "white",
            "linecolor": "white",
            "ticks": ""
           }
          },
          "scene": {
           "xaxis": {
            "backgroundcolor": "#E5ECF6",
            "gridcolor": "white",
            "gridwidth": 2,
            "linecolor": "white",
            "showbackground": true,
            "ticks": "",
            "zerolinecolor": "white"
           },
           "yaxis": {
            "backgroundcolor": "#E5ECF6",
            "gridcolor": "white",
            "gridwidth": 2,
            "linecolor": "white",
            "showbackground": true,
            "ticks": "",
            "zerolinecolor": "white"
           },
           "zaxis": {
            "backgroundcolor": "#E5ECF6",
            "gridcolor": "white",
            "gridwidth": 2,
            "linecolor": "white",
            "showbackground": true,
            "ticks": "",
            "zerolinecolor": "white"
           }
          },
          "shapedefaults": {
           "line": {
            "color": "#2a3f5f"
           }
          },
          "ternary": {
           "aaxis": {
            "gridcolor": "white",
            "linecolor": "white",
            "ticks": ""
           },
           "baxis": {
            "gridcolor": "white",
            "linecolor": "white",
            "ticks": ""
           },
           "bgcolor": "#E5ECF6",
           "caxis": {
            "gridcolor": "white",
            "linecolor": "white",
            "ticks": ""
           }
          },
          "title": {
           "x": 0.05
          },
          "xaxis": {
           "automargin": true,
           "gridcolor": "white",
           "linecolor": "white",
           "ticks": "",
           "title": {
            "standoff": 15
           },
           "zerolinecolor": "white",
           "zerolinewidth": 2
          },
          "yaxis": {
           "automargin": true,
           "gridcolor": "white",
           "linecolor": "white",
           "ticks": "",
           "title": {
            "standoff": 15
           },
           "zerolinecolor": "white",
           "zerolinewidth": 2
          }
         }
        }
       }
      }
     },
     "metadata": {}
    },
    {
     "output_type": "error",
     "ename": "IndexError",
     "evalue": "list index out of range",
     "traceback": [
      "\u001b[0;31m---------------------------------------------------------------------------\u001b[0m",
      "\u001b[0;31mIndexError\u001b[0m                                Traceback (most recent call last)",
      "\u001b[0;32m<ipython-input-15-a0b21855fb1c>\u001b[0m in \u001b[0;36m<module>\u001b[0;34m\u001b[0m\n\u001b[1;32m      4\u001b[0m \u001b[0mfig\u001b[0m\u001b[0;34m.\u001b[0m\u001b[0mshow\u001b[0m\u001b[0;34m(\u001b[0m\u001b[0;34m)\u001b[0m\u001b[0;34m\u001b[0m\u001b[0;34m\u001b[0m\u001b[0m\n\u001b[1;32m      5\u001b[0m \u001b[0;34m\u001b[0m\u001b[0m\n\u001b[0;32m----> 6\u001b[0;31m \u001b[0mprint\u001b[0m\u001b[0;34m(\u001b[0m\u001b[0mcompute_auc\u001b[0m\u001b[0;34m(\u001b[0m\u001b[0mhit_miss_rate\u001b[0m\u001b[0;34m[\u001b[0m\u001b[0;36m0\u001b[0m\u001b[0;34m]\u001b[0m\u001b[0;34m,\u001b[0m \u001b[0mhit_miss_rate\u001b[0m\u001b[0;34m[\u001b[0m\u001b[0;36m1\u001b[0m\u001b[0;34m]\u001b[0m\u001b[0;34m)\u001b[0m\u001b[0;34m)\u001b[0m\u001b[0;34m\u001b[0m\u001b[0;34m\u001b[0m\u001b[0m\n\u001b[0m\u001b[1;32m      7\u001b[0m \u001b[0;34m\u001b[0m\u001b[0m\n",
      "\u001b[0;32m~/protemp/MPC/ConflictDetection/alpha_test.py\u001b[0m in \u001b[0;36mcompute_auc\u001b[0;34m(xs, ys)\u001b[0m\n\u001b[1;32m     39\u001b[0m         \u001b[0;32mif\u001b[0m \u001b[0mi\u001b[0m \u001b[0;34m==\u001b[0m \u001b[0mlen\u001b[0m\u001b[0;34m(\u001b[0m\u001b[0mxs\u001b[0m\u001b[0;34m)\u001b[0m \u001b[0;34m-\u001b[0m \u001b[0;36m1\u001b[0m\u001b[0;34m:\u001b[0m\u001b[0;34m\u001b[0m\u001b[0;34m\u001b[0m\u001b[0m\n\u001b[1;32m     40\u001b[0m             \u001b[0;32mbreak\u001b[0m\u001b[0;34m\u001b[0m\u001b[0;34m\u001b[0m\u001b[0m\n\u001b[0;32m---> 41\u001b[0;31m         \u001b[0mauc\u001b[0m \u001b[0;34m+=\u001b[0m \u001b[0;34m(\u001b[0m\u001b[0mys\u001b[0m\u001b[0;34m[\u001b[0m\u001b[0mi\u001b[0m\u001b[0;34m]\u001b[0m \u001b[0;34m+\u001b[0m \u001b[0mys\u001b[0m\u001b[0;34m[\u001b[0m\u001b[0mi\u001b[0m\u001b[0;34m+\u001b[0m\u001b[0;36m1\u001b[0m\u001b[0;34m]\u001b[0m\u001b[0;34m)\u001b[0m \u001b[0;34m*\u001b[0m \u001b[0mabs\u001b[0m\u001b[0;34m(\u001b[0m\u001b[0mxs\u001b[0m\u001b[0;34m[\u001b[0m\u001b[0mi\u001b[0m\u001b[0;34m+\u001b[0m\u001b[0;36m1\u001b[0m\u001b[0;34m]\u001b[0m \u001b[0;34m-\u001b[0m \u001b[0mx\u001b[0m\u001b[0;34m)\u001b[0m \u001b[0;34m/\u001b[0m \u001b[0;36m2\u001b[0m\u001b[0;34m\u001b[0m\u001b[0;34m\u001b[0m\u001b[0m\n\u001b[0m\u001b[1;32m     42\u001b[0m     \u001b[0;32mreturn\u001b[0m \u001b[0mauc\u001b[0m\u001b[0;34m\u001b[0m\u001b[0;34m\u001b[0m\u001b[0m\n\u001b[1;32m     43\u001b[0m \u001b[0;34m\u001b[0m\u001b[0m\n",
      "\u001b[0;31mIndexError\u001b[0m: list index out of range"
     ]
    }
   ],
   "source": [
    "print(len(hit_miss_rate[0]))\n",
    "from alpha_test import compute_auc\n",
    "fig = go.Figure(data=go.Scatter(x=hit_miss_rate[0], y=hit_miss_rate[1], mode=\"lines+markers\"))\n",
    "fig.show()\n",
    "\n",
    "print(compute_auc(hit_miss_rate[0], hit_miss_rate[1]))\n",
    "\n"
   ]
  },
  {
   "cell_type": "code",
   "execution_count": 13,
   "metadata": {},
   "outputs": [
    {
     "output_type": "error",
     "ename": "IndexError",
     "evalue": "list index out of range",
     "traceback": [
      "\u001b[0;31m---------------------------------------------------------------------------\u001b[0m",
      "\u001b[0;31mIndexError\u001b[0m                                Traceback (most recent call last)",
      "\u001b[0;32m<ipython-input-13-02e7e6fc26c1>\u001b[0m in \u001b[0;36m<module>\u001b[0;34m\u001b[0m\n\u001b[1;32m     22\u001b[0m                 \u001b[0mresult\u001b[0m \u001b[0;34m=\u001b[0m \u001b[0mlist\u001b[0m\u001b[0;34m(\u001b[0m\u001b[0mr_tree\u001b[0m\u001b[0;34m.\u001b[0m\u001b[0mintersection\u001b[0m\u001b[0;34m(\u001b[0m\u001b[0;34m[\u001b[0m\u001b[0mi\u001b[0m\u001b[0;34m,\u001b[0m\u001b[0mj\u001b[0m\u001b[0;34m,\u001b[0m\u001b[0mi\u001b[0m\u001b[0;34m,\u001b[0m\u001b[0mj\u001b[0m\u001b[0;34m]\u001b[0m\u001b[0;34m,\u001b[0m \u001b[0mobjects\u001b[0m\u001b[0;34m=\u001b[0m\u001b[0;32mTrue\u001b[0m\u001b[0;34m)\u001b[0m\u001b[0;34m)\u001b[0m\u001b[0;34m\u001b[0m\u001b[0;34m\u001b[0m\u001b[0m\n\u001b[1;32m     23\u001b[0m \u001b[0;34m\u001b[0m\u001b[0m\n\u001b[0;32m---> 24\u001b[0;31m                 \u001b[0mon_rate_group\u001b[0m\u001b[0;34m[\u001b[0m\u001b[0mi\u001b[0m\u001b[0;34m,\u001b[0m\u001b[0mj\u001b[0m\u001b[0;34m]\u001b[0m \u001b[0;34m=\u001b[0m \u001b[0mresult\u001b[0m\u001b[0;34m[\u001b[0m\u001b[0;36m0\u001b[0m\u001b[0;34m]\u001b[0m\u001b[0;34m.\u001b[0m\u001b[0mobject\u001b[0m\u001b[0;34m\u001b[0m\u001b[0;34m\u001b[0m\u001b[0m\n\u001b[0m\u001b[1;32m     25\u001b[0m         fig.append_trace(\n\u001b[1;32m     26\u001b[0m             \u001b[0mgo\u001b[0m\u001b[0;34m.\u001b[0m\u001b[0mHeatmap\u001b[0m\u001b[0;34m(\u001b[0m\u001b[0mz\u001b[0m\u001b[0;34m=\u001b[0m\u001b[0mnp\u001b[0m\u001b[0;34m.\u001b[0m\u001b[0mtranspose\u001b[0m\u001b[0;34m(\u001b[0m\u001b[0mon_rate_group\u001b[0m\u001b[0;34m)\u001b[0m\u001b[0;34m)\u001b[0m\u001b[0;34m,\u001b[0m\u001b[0;34m\u001b[0m\u001b[0;34m\u001b[0m\u001b[0m\n",
      "\u001b[0;31mIndexError\u001b[0m: list index out of range"
     ]
    }
   ],
   "source": [
    "from rtree import index\n",
    "\n",
    "\n",
    "draw = {\n",
    "    \"HomeA/2016\": [\"Range\"],\n",
    "    \"HomeG/2016\": [\"Range\"],\n",
    "}\n",
    "fig = make_subplots(rows=sum([len(draw[x]) for x in draw]), cols=1)\n",
    "p = index.Property()\n",
    "p.dimension = len(ctx_info.get_all_ctx_ordered())\n",
    "row_id = 1\n",
    "for home in draw:\n",
    "    for d in draw[home]:\n",
    "        r_tree = index.Index(properties=p)\n",
    "        for i,x in enumerate(habit_groups[home][d]):\n",
    "            bound = x[\"box\"][0] + x[\"box\"][1] \n",
    "            r_tree.insert(id=i, coordinates=bound, obj=sum(x[\"dis\"]))\n",
    "        on_rate_group = np.full(ctx_info.get_ctx_space_shape(), -0.1)\n",
    "\n",
    "        for i in range(ctx_info.get_ctx_space_shape()[0]):\n",
    "            for j in range(ctx_info.get_ctx_space_shape()[1]):\n",
    "                result = list(r_tree.intersection([i,j,i,j], objects=True))\n",
    "\n",
    "                on_rate_group[i,j] = result[0].object\n",
    "        fig.append_trace(\n",
    "            go.Heatmap(z=np.transpose(on_rate_group)),\n",
    "            row_id, 1\n",
    "        )\n",
    "        row_id += 1\n",
    "fig.show()"
   ]
  },
  {
   "cell_type": "code",
   "execution_count": null,
   "metadata": {},
   "outputs": [],
   "source": [
    "from ConflictDetector import device_capacity_conflict\n",
    "print(ctx_info.get_space_area())\n",
    "print(ctx_info.get_ctx_space_shape())\n",
    "mins = ctx_info.get_coor_by_ctx({TIME_CTX:0, WEEKDAY_CTX:0})\n",
    "maxs = ctx_info.get_coor_by_ctx({TIME_CTX:24*60, WEEKDAY_CTX:6})\n",
    "print(compute_area([0,0, 72,6]))"
   ]
  },
  {
   "cell_type": "code",
   "execution_count": null,
   "metadata": {},
   "outputs": [],
   "source": []
  }
 ]
}
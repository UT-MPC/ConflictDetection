{
 "metadata": {
  "language_info": {
   "codemirror_mode": {
    "name": "ipython",
    "version": 3
   },
   "file_extension": ".py",
   "mimetype": "text/x-python",
   "name": "python",
   "nbconvert_exporter": "python",
   "pygments_lexer": "ipython3",
   "version": "3.7.6"
  },
  "orig_nbformat": 2,
  "kernelspec": {
   "name": "pythonjvsc74a57bd04fe898ffcadce6da2343864bf819ed3269e46dcfc725e07ab6320af456fe33e5",
   "display_name": "Python 3.7.6  ('venv': venv)"
  },
  "metadata": {
   "interpreter": {
    "hash": "4fe898ffcadce6da2343864bf819ed3269e46dcfc725e07ab6320af456fe33e5"
   }
  }
 },
 "nbformat": 4,
 "nbformat_minor": 2,
 "cells": [
  {
   "cell_type": "code",
   "execution_count": 31,
   "metadata": {},
   "outputs": [],
   "source": [
    "import json\n",
    "import os\n",
    "import numpy as np\n",
    "import math\n",
    "from typing import Dict, List, Tuple\n",
    "import copy\n",
    "\n",
    "from datetime import timedelta\n",
    "from config import *\n",
    "from utils import *\n",
    "from main import *\n",
    "from GtConflictFinder import GtConflictFinder\n",
    "\n",
    "import plotly.graph_objects as go\n",
    "from plotly.subplots import make_subplots\n",
    "test_projects = [\n",
    "    \"HomeA/2016\",\n",
    "    \"HomeB/2016\",\n",
    "    \"HomeC/2016\",\n",
    "    \"HomeD/2016\",\n",
    "    \"HomeF/2016\",\n",
    "    \"HomeG/2016\",\n",
    "]\n",
    "ctx_info = ContextAccessor({\n",
    "            TIME_CTX: {\n",
    "                \"range\" : (0, 24*60),\n",
    "                \"interval\" : 20,\n",
    "            },\n",
    "            # \"humidity#NUM\" : {\n",
    "            #     \"range\" : (0., 1.0),\n",
    "            #     \"interval\" : 0.1,\n",
    "            # },\n",
    "            WEEKDAY_CTX: {\n",
    "                \"range\": (0, 6.1),\n",
    "                \"interval\": 1,\n",
    "            },\n",
    "        })\n",
    "capacity = {\n",
    "    \"Range\" : 2,\n",
    "    \"Microwave\": 1,\n",
    "    \"LivingLights\": 0,\n",
    "    \"HomeOffice\": 1,\n",
    "    \"WashingMachine\": 1,\n",
    "}\n"
   ]
  },
  {
   "cell_type": "code",
   "execution_count": 32,
   "metadata": {},
   "outputs": [
    {
     "output_type": "stream",
     "name": "stderr",
     "text": [
      "DEBUG:root:The number of device events from processed file: {'Range': 625, 'Microwave': 1591, 'LivingLights': 1609, 'HomeOffice': 1481}\n",
      "DEBUG:root:The number of context events from processed file: {'apparentTemperature#NUM': 8738, 'temperature#NUM': 8735, 'humidity#NUM': 7642, 'summary#CAT': 2669}\n",
      "DEBUG:root:The number of device events from processed file: {'LivingLights': 1923, 'Microwave': 863}\n",
      "DEBUG:root:The number of context events from processed file: {'apparentTemperature#NUM': 8734, 'temperature#NUM': 8737, 'humidity#NUM': 7657, 'summary#CAT': 1799}\n",
      "DEBUG:root:The number of device events from processed file: {'HomeOffice': 968, 'Microwave': 2059, 'LivingLights': 1759}\n",
      "DEBUG:root:The number of context events from processed file: {'apparentTemperature#NUM': 8736, 'temperature#NUM': 8735, 'humidity#NUM': 7618, 'summary#CAT': 1863}\n",
      "DEBUG:root:The number of device events from processed file: {'Microwave': 1423, 'LivingLights': 1159, 'WashingMachine': 313, 'Range': 1163}\n",
      "DEBUG:root:The number of context events from processed file: {'apparentTemperature#NUM': 8764, 'temperature#NUM': 8747, 'humidity#NUM': 7703, 'summary#CAT': 2578}\n",
      "DEBUG:root:The number of device events from processed file: {'Microwave': 5013, 'WashingMachine': 589}\n",
      "DEBUG:root:The number of context events from processed file: {'apparentTemperature#NUM': 8743, 'temperature#NUM': 8741, 'humidity#NUM': 7669, 'summary#CAT': 1892}\n",
      "DEBUG:root:The number of device events from processed file: {'LivingLights': 1951, 'HomeOffice': 1175, 'Range': 225, 'Microwave': 2915}\n",
      "DEBUG:root:The number of context events from processed file: {'apparentTemperature#NUM': 8764, 'temperature#NUM': 8760, 'humidity#NUM': 7653, 'summary#CAT': 2110}\n"
     ]
    }
   ],
   "source": [
    "habit_groups = {}\n",
    "for p in test_projects:\n",
    "    habit_groups[p], _ = test_umass(test_project=p, ctx_info=ctx_info)"
   ]
  },
  {
   "cell_type": "code",
   "execution_count": 33,
   "metadata": {},
   "outputs": [],
   "source": [
    "#Exps:\n",
    "#   1. Contrived environment with injected conflicts:\n",
    "#   2. Real dataset with groundtruth conflicts:\n",
    "#   3. observations about the algorithm: with different threshold, different capacity for the devices, different number of users."
   ]
  },
  {
   "cell_type": "code",
   "execution_count": 34,
   "metadata": {},
   "outputs": [
    {
     "output_type": "stream",
     "name": "stdout",
     "text": [
      "The habit groups found in HomeA/2016\nRange 10\nMicrowave 8\nLivingLights 72\nHomeOffice 22\nThe habit groups found in HomeB/2016\nLivingLights 37\nMicrowave 3\nThe habit groups found in HomeC/2016\nHomeOffice 35\nMicrowave 10\nLivingLights 54\nThe habit groups found in HomeD/2016\nMicrowave 6\nLivingLights 25\nWashingMachine 8\nRange 15\nThe habit groups found in HomeF/2016\nMicrowave 15\nWashingMachine 11\nThe habit groups found in HomeG/2016\nLivingLights 11\nHomeOffice 32\nRange 7\nMicrowave 9\n"
     ]
    }
   ],
   "source": [
    "for home, groups in habit_groups.items():\n",
    "    print(\"The habit groups found in {}\".format(home))\n",
    "    for d, d_groups in groups.items():\n",
    "        print(d + \" \" + str(len(d_groups)))\n"
   ]
  },
  {
   "cell_type": "code",
   "execution_count": 35,
   "metadata": {
    "tags": []
   },
   "outputs": [
    {
     "output_type": "stream",
     "name": "stdout",
     "text": [
      "2\n",
      "{'Range': 49, 'Microwave': 2004, 'LivingLights': 0, 'HomeOffice': 315, 'WashingMachine': 23}\n",
      "{'Range': 0, 'Microwave': 10, 'LivingLights': 0, 'HomeOffice': 34, 'WashingMachine': 3}\n"
     ]
    }
   ],
   "source": [
    " \n",
    "from rtree import index\n",
    "from itertools import combinations\n",
    "\n",
    "def get_bound(box):\n",
    "    mid = len(box) // 2\n",
    "    return box[:mid], box[mid:]\n",
    "\n",
    "def compute_intersection_area(box_i, box_j):\n",
    "    # This method assume the input boxes does intersect\n",
    "    mins_i, maxs_i = get_bound(box_i)\n",
    "    mins_j, maxs_j = get_bound(box_j)\n",
    "    mins = [max(i,j) for i,j in zip(mins_i, mins_j)]\n",
    "    maxs = [min(i,j) for i,j in zip(maxs_i, maxs_j)]\n",
    "    return mins+maxs\n",
    "\n",
    "def does_contain(box_i, box_j):\n",
    "    mins_i, maxs_i = get_bound(box_i)\n",
    "    mins_j, maxs_j = get_bound(box_j)\n",
    "    for i in range(len(mins_i)):\n",
    "        if mins_i[i] < mins_j[i]  or maxs_i[i] > maxs_j[i]:\n",
    "            return False\n",
    "    return True\n",
    "\n",
    "def device_state_conflict(dis_i, dis_j):\n",
    "    total_j = sum(dis_j)\n",
    "    prob = 0\n",
    "    for idx, p in enumerate(dis_i):\n",
    "        prob += p * (total_j -  dis_j[idx])\n",
    "    return prob\n",
    "\n",
    "def device_capacity_conflict(dis, capacity):\n",
    "    probs = [sum(x) for x in dis]\n",
    "    ids = range(len(dis))\n",
    "    prob = 1\n",
    "    for i in range(0, capacity+1):\n",
    "        cbs = list(combinations(ids, i))\n",
    "        for c in cbs:\n",
    "            pp = 1\n",
    "            for i, p in enumerate(probs):\n",
    "                pp *= p if i in c else (1-p)\n",
    "            prob -= pp\n",
    "    return prob\n",
    "\n",
    "users = list(habit_groups.keys())\n",
    "p = index.Property()\n",
    "p.dimension = len(ctx_info.get_all_ctx_ordered())\n",
    "print(p.dimension)\n",
    "final_conflicts = {x:{\n",
    "    \"DiffState\": [],\n",
    "    \"Capacity\": [],\n",
    "} for x in capacity}\n",
    "capacity_conflict_tree = {x:index.Index(properties=p) for x in capacity}\n",
    "capacity_conflict_id = {x:0 for x in capacity}\n",
    "min_conflict_prob = 0.01\n",
    "for user_i in range(len(users)):\n",
    "# for user_i in [0]:\n",
    "    for device, groups in habit_groups[users[user_i]].items():\n",
    "        r_tree = index.Index(properties=p)\n",
    "        for i in range(len(groups)):\n",
    "            bound = groups[i][\"box\"][0] + groups[i][\"box\"][1] \n",
    "            r_tree.insert(id=i, coordinates=bound, obj={(user_i, i)})\n",
    "        tree_id = len(groups)\n",
    "        for user_j in range(user_i+1, len(users)):\n",
    "            if device not in habit_groups[users[user_j]]:\n",
    "                # This user does not have this device\n",
    "                continue    \n",
    "            j_groups = habit_groups[users[user_j]][device]\n",
    "            for j, g in enumerate(j_groups):\n",
    "                bbox = g[\"box\"][0] + g[\"box\"][1]\n",
    "                intersects = list(r_tree.intersection(bbox, objects=True))\n",
    "                for intersect in intersects:\n",
    "                    intersect_box = compute_intersection_area(intersect.bbox, bbox)\n",
    "                    dis = intersect.object.union({(user_j, j)})\n",
    "                    r_tree.insert(id=tree_id, coordinates=intersect_box, obj=dis)\n",
    "                    tree_id += 1\n",
    "        # Use the original box to intersect all\n",
    "        for i in range(len(groups)):\n",
    "            bound = groups[i][\"box\"][0] + groups[i][\"box\"][1] \n",
    "            intersects = list(r_tree.intersection(bound, objects=True))\n",
    "            # intersects = sorted(intersects, key = lambda x: len(x.object))\n",
    "\n",
    "            # First we calculate conflicts between two users\n",
    "            for ints in intersects:\n",
    "                if len(ints.object) == 2:\n",
    "                    # compute conflict between two users\n",
    "                    dis = [\n",
    "                        habit_groups[users[x[0]]][device][x[1]][\"dis\"]\n",
    "                        for x in ints.object\n",
    "                    ]\n",
    "                    prob = device_state_conflict(dis[0], dis[1])\n",
    "                    if prob > min_conflict_prob:\n",
    "                        final_conflicts[device][\"DiffState\"].append({\n",
    "                            \"users\": ints.object,\n",
    "                            \"box\": ints.bbox,\n",
    "                            \"prob\": prob,\n",
    "                        })\n",
    "                if len(ints.object) > capacity[device] and capacity[device] != 0:\n",
    "                    # Put capacity conflicts into a R-tree for further analysis\n",
    "                    cap_box = ints.bbox\n",
    "                    cap_ints = list(capacity_conflict_tree[device].intersection(cap_box, objects=True))\n",
    "                    box_to_insert = ints.bbox\n",
    "                    obj_to_insert = ints.object\n",
    "                    for inter_box in cap_ints:\n",
    "                        if does_contain(cap_box, inter_box.bbox):\n",
    "                            capacity_conflict_tree[device].delete(inter_box.id, inter_box.bbox)\n",
    "                            dis_union = inter_box.object.union(ints.object)\n",
    "                            box_to_insert = inter_box.bbox\n",
    "                            obj_to_insert = dis_union\n",
    "                        if does_contain(inter_box.bbox, cap_box):\n",
    "                            capacity_conflict_tree[device].delete(inter_box.id, inter_box.bbox)\n",
    "                            dis_union = inter_box.object.union(ints.object)\n",
    "                            box_to_insert = cap_box\n",
    "                            obj_to_insert = dis_union\n",
    "\n",
    "                    capacity_conflict_tree[device].insert(\n",
    "                        id=capacity_conflict_id[device],\n",
    "                        coordinates=box_to_insert, \n",
    "                        obj = obj_to_insert,\n",
    "                    )\n",
    "                    capacity_conflict_id[device] += 1\n",
    "                \n",
    "print(capacity_conflict_id)\n",
    "max_box = [0]*len(ctx_info.get_ctx_space_shape()) + [\n",
    "    x - 1\n",
    "    for x in ctx_info.get_ctx_space_shape()\n",
    "]\n",
    "for d, tree in capacity_conflict_tree.items():\n",
    "    conflicts = list(tree.intersection(max_box, objects=True))\n",
    "    for c in conflicts:\n",
    "        dis = [ \n",
    "            habit_groups[users[x[0]]][d][x[1]][\"dis\"]\n",
    "            for x in c.object\n",
    "        ]\n",
    "        prob = device_capacity_conflict(dis, capacity[d])\n",
    "        if prob > min_conflict_prob:\n",
    "            final_conflicts[d][\"Capacity\"].append({\n",
    "                \"users\": c.object,\n",
    "                \"box\": c.bbox,\n",
    "                \"prob\": prob,\n",
    "            })\n",
    "print({x:len(final_conflicts[x][\"Capacity\"]) for x in final_conflicts})"
   ]
  },
  {
   "cell_type": "code",
   "execution_count": 36,
   "metadata": {
    "tags": []
   },
   "outputs": [
    {
     "output_type": "stream",
     "name": "stdout",
     "text": [
      "[([60.0, 6.0, 63.0, 6.0], 0.01667065286318719), ([40.0, 0.0, 52.0, 3.0], 0.16301348761816012), ([37.0, 0.0, 43.0, 0.0], 0.01067120761841214), ([18.0, 4.0, 27.0, 6.0], 0.048572183804670065), ([40.0, 4.0, 52.0, 6.0], 0.284906712873913), ([28.0, 0.0, 39.0, 3.0], 0.01971688643413323), ([53.0, 0.0, 59.0, 3.0], 0.04892256164828413), ([53.0, 0.0, 53.0, 4.0], 0.011699922341680685), ([53.0, 4.0, 55.0, 6.0], 0.08640197893077751), ([28.0, 4.0, 39.0, 6.0], 0.08983047495783551)]\n"
     ]
    }
   ],
   "source": [
    "import plotly.express as px\n",
    "probs = [(x[\"box\"],x[\"prob\"]) for x in final_conflicts[\"Microwave\"][\"Capacity\"]]\n",
    "print(probs)\n",
    "# fig = px.histogram(probs)\n",
    "# fig.show()"
   ]
  },
  {
   "cell_type": "code",
   "execution_count": 9,
   "metadata": {},
   "outputs": [
    {
     "output_type": "error",
     "ename": "RTreeError",
     "evalue": "Coordinates must be in the form (minx, miny, maxx, maxy) or (x, y) for 2D indexes",
     "traceback": [
      "\u001b[0;31m---------------------------------------------------------------------------\u001b[0m",
      "\u001b[0;31mRTreeError\u001b[0m                                Traceback (most recent call last)",
      "\u001b[0;32m<ipython-input-9-a81600f7c150>\u001b[0m in \u001b[0;36m<module>\u001b[0;34m\u001b[0m\n\u001b[1;32m     18\u001b[0m         \u001b[0;32mfor\u001b[0m \u001b[0mi\u001b[0m \u001b[0;32min\u001b[0m \u001b[0mrange\u001b[0m\u001b[0;34m(\u001b[0m\u001b[0mctx_info\u001b[0m\u001b[0;34m.\u001b[0m\u001b[0mget_ctx_space_shape\u001b[0m\u001b[0;34m(\u001b[0m\u001b[0;34m)\u001b[0m\u001b[0;34m[\u001b[0m\u001b[0;36m0\u001b[0m\u001b[0;34m]\u001b[0m\u001b[0;34m)\u001b[0m\u001b[0;34m:\u001b[0m\u001b[0;34m\u001b[0m\u001b[0;34m\u001b[0m\u001b[0m\n\u001b[1;32m     19\u001b[0m             \u001b[0;32mfor\u001b[0m \u001b[0mj\u001b[0m \u001b[0;32min\u001b[0m \u001b[0mrange\u001b[0m\u001b[0;34m(\u001b[0m\u001b[0mctx_info\u001b[0m\u001b[0;34m.\u001b[0m\u001b[0mget_ctx_space_shape\u001b[0m\u001b[0;34m(\u001b[0m\u001b[0;34m)\u001b[0m\u001b[0;34m[\u001b[0m\u001b[0;36m1\u001b[0m\u001b[0;34m]\u001b[0m\u001b[0;34m)\u001b[0m\u001b[0;34m:\u001b[0m\u001b[0;34m\u001b[0m\u001b[0;34m\u001b[0m\u001b[0m\n\u001b[0;32m---> 20\u001b[0;31m                 \u001b[0mresult\u001b[0m \u001b[0;34m=\u001b[0m \u001b[0mlist\u001b[0m\u001b[0;34m(\u001b[0m\u001b[0mr_tree\u001b[0m\u001b[0;34m.\u001b[0m\u001b[0mintersection\u001b[0m\u001b[0;34m(\u001b[0m\u001b[0;34m[\u001b[0m\u001b[0mi\u001b[0m\u001b[0;34m,\u001b[0m\u001b[0mj\u001b[0m\u001b[0;34m,\u001b[0m\u001b[0mi\u001b[0m\u001b[0;34m,\u001b[0m\u001b[0mj\u001b[0m\u001b[0;34m]\u001b[0m\u001b[0;34m,\u001b[0m \u001b[0mobjects\u001b[0m\u001b[0;34m=\u001b[0m\u001b[0;32mTrue\u001b[0m\u001b[0;34m)\u001b[0m\u001b[0;34m)\u001b[0m\u001b[0;34m\u001b[0m\u001b[0;34m\u001b[0m\u001b[0m\n\u001b[0m\u001b[1;32m     21\u001b[0m \u001b[0;34m\u001b[0m\u001b[0m\n\u001b[1;32m     22\u001b[0m                 \u001b[0mon_rate_group\u001b[0m\u001b[0;34m[\u001b[0m\u001b[0mi\u001b[0m\u001b[0;34m,\u001b[0m\u001b[0mj\u001b[0m\u001b[0;34m]\u001b[0m \u001b[0;34m=\u001b[0m \u001b[0mresult\u001b[0m\u001b[0;34m[\u001b[0m\u001b[0;36m0\u001b[0m\u001b[0;34m]\u001b[0m\u001b[0;34m.\u001b[0m\u001b[0mobject\u001b[0m\u001b[0;34m\u001b[0m\u001b[0;34m\u001b[0m\u001b[0m\n",
      "\u001b[0;32m~/protemp/MPC/ConflictDetection/venv/lib/python3.7/site-packages/rtree/index.py\u001b[0m in \u001b[0;36mintersection\u001b[0;34m(self, coordinates, objects)\u001b[0m\n\u001b[1;32m    678\u001b[0m             \u001b[0;32mreturn\u001b[0m \u001b[0mself\u001b[0m\u001b[0;34m.\u001b[0m\u001b[0m_intersectionTP\u001b[0m\u001b[0;34m(\u001b[0m\u001b[0;34m*\u001b[0m\u001b[0mcoordinates\u001b[0m\u001b[0;34m,\u001b[0m \u001b[0mobjects\u001b[0m\u001b[0;34m=\u001b[0m\u001b[0mobjects\u001b[0m\u001b[0;34m)\u001b[0m\u001b[0;34m\u001b[0m\u001b[0;34m\u001b[0m\u001b[0m\n\u001b[1;32m    679\u001b[0m         \u001b[0;32mif\u001b[0m \u001b[0mobjects\u001b[0m\u001b[0;34m:\u001b[0m\u001b[0;34m\u001b[0m\u001b[0;34m\u001b[0m\u001b[0m\n\u001b[0;32m--> 680\u001b[0;31m             \u001b[0;32mreturn\u001b[0m \u001b[0mself\u001b[0m\u001b[0;34m.\u001b[0m\u001b[0m_intersection_obj\u001b[0m\u001b[0;34m(\u001b[0m\u001b[0mcoordinates\u001b[0m\u001b[0;34m,\u001b[0m \u001b[0mobjects\u001b[0m\u001b[0;34m)\u001b[0m\u001b[0;34m\u001b[0m\u001b[0;34m\u001b[0m\u001b[0m\n\u001b[0m\u001b[1;32m    681\u001b[0m \u001b[0;34m\u001b[0m\u001b[0m\n\u001b[1;32m    682\u001b[0m         \u001b[0mp_mins\u001b[0m\u001b[0;34m,\u001b[0m \u001b[0mp_maxs\u001b[0m \u001b[0;34m=\u001b[0m \u001b[0mself\u001b[0m\u001b[0;34m.\u001b[0m\u001b[0mget_coordinate_pointers\u001b[0m\u001b[0;34m(\u001b[0m\u001b[0mcoordinates\u001b[0m\u001b[0;34m)\u001b[0m\u001b[0;34m\u001b[0m\u001b[0;34m\u001b[0m\u001b[0m\n",
      "\u001b[0;32m~/protemp/MPC/ConflictDetection/venv/lib/python3.7/site-packages/rtree/index.py\u001b[0m in \u001b[0;36m_intersection_obj\u001b[0;34m(self, coordinates, objects)\u001b[0m\n\u001b[1;32m    720\u001b[0m     \u001b[0;32mdef\u001b[0m \u001b[0m_intersection_obj\u001b[0m\u001b[0;34m(\u001b[0m\u001b[0mself\u001b[0m\u001b[0;34m,\u001b[0m \u001b[0mcoordinates\u001b[0m\u001b[0;34m,\u001b[0m \u001b[0mobjects\u001b[0m\u001b[0;34m)\u001b[0m\u001b[0;34m:\u001b[0m\u001b[0;34m\u001b[0m\u001b[0;34m\u001b[0m\u001b[0m\n\u001b[1;32m    721\u001b[0m \u001b[0;34m\u001b[0m\u001b[0m\n\u001b[0;32m--> 722\u001b[0;31m         \u001b[0mp_mins\u001b[0m\u001b[0;34m,\u001b[0m \u001b[0mp_maxs\u001b[0m \u001b[0;34m=\u001b[0m \u001b[0mself\u001b[0m\u001b[0;34m.\u001b[0m\u001b[0mget_coordinate_pointers\u001b[0m\u001b[0;34m(\u001b[0m\u001b[0mcoordinates\u001b[0m\u001b[0;34m)\u001b[0m\u001b[0;34m\u001b[0m\u001b[0;34m\u001b[0m\u001b[0m\n\u001b[0m\u001b[1;32m    723\u001b[0m \u001b[0;34m\u001b[0m\u001b[0m\n\u001b[1;32m    724\u001b[0m         \u001b[0mp_num_results\u001b[0m \u001b[0;34m=\u001b[0m \u001b[0mctypes\u001b[0m\u001b[0;34m.\u001b[0m\u001b[0mc_uint64\u001b[0m\u001b[0;34m(\u001b[0m\u001b[0;36m0\u001b[0m\u001b[0;34m)\u001b[0m\u001b[0;34m\u001b[0m\u001b[0;34m\u001b[0m\u001b[0m\n",
      "\u001b[0;32m~/protemp/MPC/ConflictDetection/venv/lib/python3.7/site-packages/rtree/index.py\u001b[0m in \u001b[0;36mget_coordinate_pointers\u001b[0;34m(self, coordinates)\u001b[0m\n\u001b[1;32m    348\u001b[0m         \u001b[0;32mif\u001b[0m \u001b[0mlen\u001b[0m\u001b[0;34m(\u001b[0m\u001b[0mcoordinates\u001b[0m\u001b[0;34m)\u001b[0m \u001b[0;34m!=\u001b[0m \u001b[0mdimension\u001b[0m \u001b[0;34m*\u001b[0m \u001b[0;36m2\u001b[0m\u001b[0;34m:\u001b[0m\u001b[0;34m\u001b[0m\u001b[0;34m\u001b[0m\u001b[0m\n\u001b[1;32m    349\u001b[0m             raise core.RTreeError(\n\u001b[0;32m--> 350\u001b[0;31m                 \u001b[0;34m\"Coordinates must be in the form \"\u001b[0m\u001b[0;34m\u001b[0m\u001b[0;34m\u001b[0m\u001b[0m\n\u001b[0m\u001b[1;32m    351\u001b[0m                 \"(minx, miny, maxx, maxy) or (x, y) for 2D indexes\")\n\u001b[1;32m    352\u001b[0m \u001b[0;34m\u001b[0m\u001b[0m\n",
      "\u001b[0;31mRTreeError\u001b[0m: Coordinates must be in the form (minx, miny, maxx, maxy) or (x, y) for 2D indexes"
     ]
    }
   ],
   "source": [
    "import plotly.graph_objects as go\n",
    "from plotly.subplots import make_subplots\n",
    "\n",
    "draw = {\n",
    "    \"HomeA/2016\": [\"Range\"],\n",
    "    \"HomeG/2016\": [\"Range\"],\n",
    "}\n",
    "fig = make_subplots(rows=sum([len(draw[x]) for x in draw]), cols=1)\n",
    "row_id = 1\n",
    "for home in draw:\n",
    "    for d in draw[home]:\n",
    "        r_tree = index.Index(properties=p)\n",
    "        for i,x in enumerate(habit_groups[home][d]):\n",
    "            bound = x[\"box\"][0] + x[\"box\"][1] \n",
    "            r_tree.insert(id=i, coordinates=bound, obj=sum(x[\"dis\"]))\n",
    "        on_rate_group = np.full(ctx_info.get_ctx_space_shape(), -0.1)\n",
    "\n",
    "        for i in range(ctx_info.get_ctx_space_shape()[0]):\n",
    "            for j in range(ctx_info.get_ctx_space_shape()[1]):\n",
    "                result = list(r_tree.intersection([i,j,i,j], objects=True))\n",
    "\n",
    "                on_rate_group[i,j] = result[0].object\n",
    "        fig.append_trace(\n",
    "            go.Heatmap(z=np.transpose(on_rate_group)),\n",
    "            row_id, 1\n",
    "        )\n",
    "        row_id += 1\n",
    "fig.show()"
   ]
  },
  {
   "cell_type": "code",
   "execution_count": 37,
   "metadata": {},
   "outputs": [
    {
     "output_type": "error",
     "ename": "AttributeError",
     "evalue": "'int' object has no attribute 'intersection'",
     "traceback": [
      "\u001b[0;31m---------------------------------------------------------------------------\u001b[0m",
      "\u001b[0;31mAttributeError\u001b[0m                            Traceback (most recent call last)",
      "\u001b[0;32m<ipython-input-37-a30878d8baef>\u001b[0m in \u001b[0;36m<module>\u001b[0;34m\u001b[0m\n\u001b[0;32m----> 1\u001b[0;31m \u001b[0ma\u001b[0m \u001b[0;34m=\u001b[0m \u001b[0mlist\u001b[0m\u001b[0;34m(\u001b[0m\u001b[0midx\u001b[0m\u001b[0;34m.\u001b[0m\u001b[0mintersection\u001b[0m\u001b[0;34m(\u001b[0m\u001b[0mbox\u001b[0m\u001b[0;34m,\u001b[0m  \u001b[0mobjects\u001b[0m\u001b[0;34m=\u001b[0m\u001b[0;32mTrue\u001b[0m\u001b[0;34m)\u001b[0m\u001b[0;34m)\u001b[0m\u001b[0;34m\u001b[0m\u001b[0;34m\u001b[0m\u001b[0m\n\u001b[0m\u001b[1;32m      2\u001b[0m \u001b[0mprint\u001b[0m\u001b[0;34m(\u001b[0m\u001b[0ma\u001b[0m\u001b[0;34m[\u001b[0m\u001b[0;36m0\u001b[0m\u001b[0;34m]\u001b[0m\u001b[0;34m.\u001b[0m\u001b[0mid\u001b[0m\u001b[0;34m)\u001b[0m\u001b[0;34m\u001b[0m\u001b[0;34m\u001b[0m\u001b[0m\n",
      "\u001b[0;31mAttributeError\u001b[0m: 'int' object has no attribute 'intersection'"
     ]
    }
   ],
   "source": [
    "\n",
    "a = list(idx.intersection(box,  objects=True))\n",
    "print(a[0].id)"
   ]
  },
  {
   "cell_type": "code",
   "execution_count": 46,
   "metadata": {},
   "outputs": [
    {
     "output_type": "stream",
     "name": "stdout",
     "text": [
      "868\n"
     ]
    }
   ],
   "source": [
    "import copy\n",
    "# Make ground truth:\n",
    "ratio = 0.3\n",
    "device_events = {}\n",
    "for p in test_projects:\n",
    "    ctx_evts, device_evts = load_processed(p)\n",
    "    device_events[p] = device_evts\n",
    "\n",
    "gtconflict_cfg = {\n",
    "    \"context_info\": ctx_info,\n",
    "    \"capacity\": capacity\n",
    "}\n",
    "\n",
    "conflict_finder = GtConflictFinder(gtconflict_cfg)\n",
    "conflicts = conflict_finder.get_Gt_conflict(ctx_evts, device_events)\n",
    "print(len(conflicts))"
   ]
  },
  {
   "cell_type": "code",
   "execution_count": 47,
   "metadata": {
    "tags": []
   },
   "outputs": [
    {
     "output_type": "stream",
     "name": "stdout",
     "text": [
      "2016-01-01 15:07:00\n2016-12-29 16:48:00\n2016-09-11 18:41:42\n{'Range': 0, 'Microwave': 194, 'LivingLights': 0, 'HomeOffice': 91, 'WashingMachine': 4}\n"
     ]
    }
   ],
   "source": [
    "import plotly.express as px\n",
    "\n",
    "TEST_RATIO = 0.3\n",
    "conflict_time = [x['cur_time'] for x in conflicts]\n",
    "end_time = max(conflict_time)\n",
    "start_time = min(conflict_time)\n",
    "print(start_time)\n",
    "print(end_time)\n",
    "total_time_range = end_time - start_time\n",
    "test_start = end_time - total_time_range * TEST_RATIO\n",
    "print(test_start)\n",
    "\n",
    "conflict_device = {\n",
    "    d:[]\n",
    "    for d in capacity\n",
    "}\n",
    "for c in conflicts:\n",
    "    if c[\"cur_time\"] > test_start:\n",
    "        conflict_device[c[\"device\"]].append(c)\n",
    "print({d:len(c) for d,c in conflict_device.items()})\n"
   ]
  },
  {
   "cell_type": "code",
   "execution_count": 48,
   "metadata": {
    "tags": []
   },
   "outputs": [
    {
     "output_type": "stream",
     "name": "stdout",
     "text": [
      "{'Range': 0, 'Microwave': 36, 'LivingLights': 0, 'HomeOffice': 16, 'WashingMachine': 1}\n{'Range': [0, 0], 'Microwave': [0, 10], 'LivingLights': [0, 0], 'HomeOffice': [7, 27], 'WashingMachine': [0, 3]}\n"
     ]
    }
   ],
   "source": [
    "def does_contain_point(box, point):\n",
    "    mins_i, maxs_i = get_bound(box)\n",
    "    for i in range(len(mins_i)):\n",
    "        if point[i] < mins_i[i] or point[i] > maxs_i[i]:\n",
    "            return False\n",
    "    return True\n",
    "\n",
    "missed_gt_conflicts = {d:[] for d in conflict_device}\n",
    "hit_gt_conflicts = {d:{} for d in conflict_device}\n",
    "for d in final_conflicts:\n",
    "    hit_gt_conflicts[d] = {i:0 for i in range(len(final_conflicts[d][\"Capacity\"]))}\n",
    "for d, conflicts in conflict_device.items():\n",
    "    for c in conflicts:\n",
    "        coor = ctx_info.get_coor_by_ctx(c[\"ctx\"])\n",
    "        flag = False\n",
    "        for idx,c_predict in enumerate(final_conflicts[d][\"Capacity\"]):\n",
    "            if does_contain_point(c_predict[\"box\"], coor):\n",
    "                flag = True\n",
    "                hit_gt_conflicts[d][idx] += 1\n",
    "        if not flag:\n",
    "            missed_gt_conflicts[d].append(c)\n",
    "print({d:len(missed_gt_conflicts[d]) for d in missed_gt_conflicts})\n",
    "hit_count = {d:[0,0] for d in hit_gt_conflicts}\n",
    "for d,hit_c in hit_gt_conflicts.items():\n",
    "    for i,h in hit_c.items():\n",
    "        if h == 0:\n",
    "            hit_count[d][0] += 1\n",
    "        else:\n",
    "            hit_count[d][1] += 1\n",
    "print(hit_count)"
   ]
  },
  {
   "cell_type": "code",
   "execution_count": null,
   "metadata": {},
   "outputs": [],
   "source": []
  }
 ]
}
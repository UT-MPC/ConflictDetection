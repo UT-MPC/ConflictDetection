{
 "cells": [
  {
   "cell_type": "code",
   "execution_count": 1,
   "source": [
    "import os\n",
    "\n",
    "os.chdir(\"..\")"
   ],
   "outputs": [],
   "metadata": {}
  },
  {
   "cell_type": "code",
   "execution_count": 2,
   "source": [
    "from ifttt_sim import Applet, Action, Trigger\n",
    "\n",
    "a = Applet(Trigger({}), Action({}))"
   ],
   "outputs": [],
   "metadata": {}
  },
  {
   "cell_type": "code",
   "execution_count": 3,
   "source": [
    "test_rule = {\n",
    "    \"Trigger\": {\"Temperature\": [-10,10]},\n",
    "    \"Action\": {\"Thermostat\": 20},\n",
    "}\n",
    "a = Applet.builder(test_rule[\"Trigger\"], test_rule[\"Action\"])\n",
    "a.check_frame({\"Temperature\": 5}, {\"Thermostat\": 10})"
   ],
   "outputs": [
    {
     "output_type": "execute_result",
     "data": {
      "text/plain": [
       "{'Thermostat': 20}"
      ]
     },
     "metadata": {},
     "execution_count": 3
    }
   ],
   "metadata": {}
  },
  {
   "cell_type": "code",
   "execution_count": 4,
   "source": [
    "from config import *\n",
    "import json\n",
    "input_file = os.path.join(DATA_ROOT, \"ifttt/processed\", \"rules.json\")\n",
    "all_applet = []\n",
    "with open(input_file) as f:\n",
    "    json_str = f.read()\n",
    "    rules = json.loads(json_str)\n",
    "    for rule in rules:\n",
    "        all_applet.append(\n",
    "            Applet.builder(rule[0], rule[1])\n",
    "        )\n",
    "    print(all_applet)"
   ],
   "outputs": [
    {
     "output_type": "stream",
     "name": "stdout",
     "text": [
      "[{Trigger: {'Temperature': [-100, 10]}, Action: {'Thermostat': 25}}, {Trigger: {'DayNight': {'Day'}}, Action: {'Light': 'on'}}]\n"
     ]
    }
   ],
   "metadata": {}
  },
  {
   "cell_type": "code",
   "execution_count": null,
   "source": [
    "from data_prepare.casas_processor import parse_line\n",
    "import pandas as pd\n",
    "datetime_temp = \"%Y-%m-%d %H:%M:%S\"\n",
    "\n",
    "casas_file = os.path.join(DATA_ROOT, \"hh104\", \"rawdata.txt\")\n",
    "weather_file = os.path.join(DATA_ROOT,\"hh104\", \"Weather.csv\")\n",
    "weather = pd.read_csv(weather_file)\n",
    "\n"
   ],
   "outputs": [],
   "metadata": {}
  }
 ],
 "metadata": {
  "orig_nbformat": 4,
  "language_info": {
   "name": "python",
   "version": "3.7.6",
   "mimetype": "text/x-python",
   "codemirror_mode": {
    "name": "ipython",
    "version": 3
   },
   "pygments_lexer": "ipython3",
   "nbconvert_exporter": "python",
   "file_extension": ".py"
  },
  "kernelspec": {
   "name": "python3",
   "display_name": "Python 3.7.6 64-bit ('venv': venv)"
  },
  "interpreter": {
   "hash": "4fe898ffcadce6da2343864bf819ed3269e46dcfc725e07ab6320af456fe33e5"
  }
 },
 "nbformat": 4,
 "nbformat_minor": 2
}
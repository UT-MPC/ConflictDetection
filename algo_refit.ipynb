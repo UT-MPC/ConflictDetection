{
 "metadata": {
  "language_info": {
   "codemirror_mode": {
    "name": "ipython",
    "version": 3
   },
   "file_extension": ".py",
   "mimetype": "text/x-python",
   "name": "python",
   "nbconvert_exporter": "python",
   "pygments_lexer": "ipython3",
   "version": "3.7.6"
  },
  "orig_nbformat": 2,
  "kernelspec": {
   "name": "python3",
   "display_name": "Python 3.7.6 64-bit ('venv': venv)"
  },
  "metadata": {
   "interpreter": {
    "hash": "4fe898ffcadce6da2343864bf819ed3269e46dcfc725e07ab6320af456fe33e5"
   }
  },
  "interpreter": {
   "hash": "4fe898ffcadce6da2343864bf819ed3269e46dcfc725e07ab6320af456fe33e5"
  }
 },
 "nbformat": 4,
 "nbformat_minor": 2,
 "cells": [
  {
   "cell_type": "code",
   "execution_count": 1,
   "metadata": {},
   "outputs": [],
   "source": [
    "import json\n",
    "import os\n",
    "import numpy as np\n",
    "import math\n",
    "from typing import Dict, List, Tuple\n",
    "import copy\n",
    "from itertools import combinations\n",
    "\n",
    "from datetime import timedelta\n",
    "from config import *\n",
    "from utils import *\n",
    "from main import *\n",
    "from GtConflictFinder import GtConflictFinder\n",
    "from ConflictDetector import ConflictDetector, ConflictPredicator\n",
    "\n",
    "\n",
    "import plotly.graph_objects as go\n",
    "from plotly.subplots import make_subplots\n",
    "test_projects = [\n",
    "    \"House1\",\n",
    "]\n",
    "ctx_info = ContextAccessor({\n",
    "            TIME_CTX: {\n",
    "                \"range\" : (0, 24*60),\n",
    "                \"interval\" : 20,\n",
    "            },\n",
    "            # \"humidity#NUM\" : {\n",
    "            #     \"range\" : (0., 1.0),\n",
    "            #     \"interval\" : 0.1,\n",
    "            # },\n",
    "            # \"apparentTemperature#NUM\" : {\n",
    "            #     \"range\" : (-10., 100),\n",
    "            #     \"interval\" : 10,\n",
    "            # },\n",
    "            # \"summary#CAT\": {},\n",
    "            WEEKDAY_CTX: {\n",
    "                \"range\": (0, 6),\n",
    "                \"interval\": 1,\n",
    "            },\n",
    "        })\n",
    "capacity = {\n",
    "    \"TV\":1,\n",
    "}\n",
    "BOOL_SIM = False\n",
    "test_dates = generate_test_date(test_projects, test_ratio = 0., true_random=False, is_sim=BOOL_SIM, is_umass=False)\n"
   ]
  },
  {
   "cell_type": "code",
   "execution_count": 1,
   "metadata": {},
   "outputs": [],
   "source": [
    "    "
   ]
  },
  {
   "cell_type": "code",
   "execution_count": 2,
   "metadata": {
    "tags": []
   },
   "outputs": [],
   "source": [
    "habit_groups = {}\n",
    "for p in test_projects:\n",
    "    habit_groups[p], grid_data = test_umass(test_project=p, ctx_info=ctx_info, ccp_alpha=1e-4, test_dates=test_dates, is_sim=BOOL_SIM, is_umass=False)"
   ]
  },
  {
   "cell_type": "code",
   "execution_count": 3,
   "metadata": {},
   "outputs": [],
   "source": [
    "#Exps:\n",
    "#   1. Contrived environment with injected conflicts:\n",
    "#   2. Real dataset with groundtruth conflicts:\n",
    "#   3. observations about the algorithm: with different threshold, different capacity for the devices, different number of users."
   ]
  },
  {
   "cell_type": "code",
   "execution_count": 5,
   "metadata": {},
   "outputs": [
    {
     "output_type": "stream",
     "name": "stdout",
     "text": [
      "The habit groups found in House1\nTV 504\n[0.09523809523809523]\n[0.13872832369942195]\n[0.21301775147928995]\n[0.25609756097560976]\n[0.22560975609756098]\n[0.21818181818181817]\n[0.24550898203592814]\n[0.28484848484848485]\n[0.28313253012048195]\n[0.3090909090909091]\n[0.3253012048192771]\n[0.35119047619047616]\n[0.40119760479041916]\n[0.4166666666666667]\n[0.47337278106508873]\n[0.44642857142857145]\n[0.4228571428571429]\n[0.3684210526315789]\n[0.3333333333333333]\n[0.2781065088757396]\n[0.5089820359281437]\n[0.5497076023391813]\n[0.6453488372093024]\n[0.6726190476190477]\n[0.6470588235294118]\n[0.5930232558139535]\n[0.5523255813953488]\n[0.46745562130177515]\n[0.36470588235294116]\n[0.23699421965317918]\n[0.1569767441860465]\n[0.1206896551724138]\n[0.10344827586206896]\n[0.09941520467836257]\n[0.14450867052023122]\n[0.13714285714285715]\n[0.08092485549132948]\n[0.07017543859649122]\n[0.0650887573964497]\n[0.023668639053254437]\n[0.023529411764705882]\n[0.01775147928994083]\n[0.0]\n[0.0]\n[0.0]\n[0.0]\n[0.0]\n[0.0]\n[0.0]\n[0.0]\n[0.005952380952380952]\n[0.01775147928994083]\n[0.047058823529411764]\n[0.0935672514619883]\n[0.12643678160919541]\n[0.12280701754385964]\n[0.16091954022988506]\n[0.10465116279069768]\n[0.041176470588235294]\n[0.04142011834319527]\n[0.05325443786982249]\n[0.16265060240963855]\n[0.1927710843373494]\n[0.22289156626506024]\n[0.1952662721893491]\n[0.24260355029585798]\n[0.2621951219512195]\n[0.2694610778443114]\n[0.27710843373493976]\n[0.24550898203592814]\n[0.21301775147928995]\n[0.19883040935672514]\n[0.20833333333333334]\n[0.23780487804878048]\n[0.2682926829268293]\n[0.2839506172839506]\n[0.33532934131736525]\n[0.3592814371257485]\n[0.41818181818181815]\n[0.375]\n[0.36363636363636365]\n[0.3393939393939394]\n[0.32941176470588235]\n[0.2558139534883721]\n[0.2469879518072289]\n[0.2781065088757396]\n[0.2916666666666667]\n[0.3473053892215569]\n[0.38095238095238093]\n[0.42168674698795183]\n[0.4397590361445783]\n[0.4583333333333333]\n[0.4457831325301205]\n[0.4319526627218935]\n[0.40476190476190477]\n[0.40236686390532544]\n[0.2994350282485876]\n[0.18604651162790697]\n[0.12941176470588237]\n[0.07100591715976332]\n[0.0718562874251497]\n[0.11834319526627218]\n[0.14201183431952663]\n[0.13690476190476192]\n[0.1301775147928994]\n[0.10059171597633136]\n[0.05389221556886228]\n[0.04819277108433735]\n[0.01818181818181818]\n[0.012121212121212121]\n[0.012195121951219513]\n[0.0]\n[0.0]\n[0.0]\n[0.0]\n[0.012195121951219513]\n[0.006060606060606061]\n[0.012195121951219513]\n[0.024390243902439025]\n[0.04242424242424243]\n[0.07228915662650602]\n[0.11834319526627218]\n[0.17159763313609466]\n[0.19879518072289157]\n[0.1696969696969697]\n[0.1488095238095238]\n[0.07142857142857142]\n[0.04878048780487805]\n[0.018292682926829267]\n[0.006097560975609756]\n[0.0]\n[0.006172839506172839]\n[0.018518518518518517]\n[0.018518518518518517]\n[0.03680981595092025]\n[0.024691358024691357]\n[0.024691358024691357]\n[0.03680981595092025]\n[0.04878048780487805]\n[0.05521472392638037]\n[0.06097560975609756]\n[0.037037037037037035]\n[0.037037037037037035]\n[0.04878048780487805]\n[0.10909090909090909]\n[0.13580246913580246]\n[0.15151515151515152]\n[0.15337423312883436]\n[0.1696969696969697]\n[0.17791411042944785]\n[0.18181818181818182]\n[0.2073170731707317]\n[0.19161676646706588]\n[0.18787878787878787]\n[0.16265060240963855]\n[0.18562874251497005]\n[0.24390243902439024]\n[0.26666666666666666]\n[0.3090909090909091]\n[0.3312883435582822]\n[0.37575757575757573]\n[0.41317365269461076]\n[0.4049079754601227]\n[0.43636363636363634]\n[0.46060606060606063]\n[0.437125748502994]\n[0.3905325443786982]\n[0.20118343195266272]\n[0.06790123456790123]\n[0.08695652173913043]\n[0.10429447852760736]\n[0.11585365853658537]\n[0.10909090909090909]\n[0.12269938650306748]\n[0.11377245508982035]\n[0.10909090909090909]\n[0.07272727272727272]\n[0.042682926829268296]\n[0.018404907975460124]\n[0.024539877300613498]\n[0.012345679012345678]\n[0.018518518518518517]\n[0.012345679012345678]\n[0.012345679012345678]\n[0.012345679012345678]\n[0.018404907975460124]\n[0.030864197530864196]\n[0.03048780487804878]\n[0.04294478527607362]\n[0.05521472392638037]\n[0.06707317073170732]\n[0.12195121951219512]\n[0.16463414634146342]\n[0.17901234567901234]\n[0.16363636363636364]\n[0.12804878048780488]\n[0.0975609756097561]\n[0.056962025316455694]\n[0.05128205128205128]\n[0.05128205128205128]\n[0.044585987261146494]\n[0.02564102564102564]\n[0.03184713375796178]\n[0.06329113924050633]\n[0.06329113924050633]\n[0.038461538461538464]\n[0.025974025974025976]\n[0.050955414012738856]\n[0.07096774193548387]\n[0.0967741935483871]\n[0.10828025477707007]\n[0.09090909090909091]\n[0.09090909090909091]\n[0.08974358974358974]\n[0.1032258064516129]\n[0.14193548387096774]\n[0.13725490196078433]\n[0.17197452229299362]\n[0.20382165605095542]\n[0.21428571428571427]\n[0.24528301886792453]\n[0.25]\n[0.25157232704402516]\n[0.2360248447204969]\n[0.25]\n[0.3584905660377358]\n[0.42073170731707316]\n[0.5]\n[0.5534591194968553]\n[0.5911949685534591]\n[0.6708860759493671]\n[0.6751592356687898]\n[0.6645569620253164]\n[0.5786163522012578]\n[0.5449101796407185]\n[0.50920245398773]\n[0.4074074074074074]\n[0.2360248447204969]\n[0.15625]\n[0.12578616352201258]\n[0.11764705882352941]\n[0.16339869281045752]\n[0.1464968152866242]\n[0.1346153846153846]\n[0.1032258064516129]\n[0.058823529411764705]\n[0.05333333333333334]\n[0.019867549668874173]\n[0.0]\n[0.0]\n[0.0]\n[0.0]\n[0.0]\n[0.0]\n[0.0]\n[0.0]\n[0.0]\n[0.0]\n[0.0]\n[0.006711409395973154]\n[0.046357615894039736]\n[0.07333333333333333]\n[0.07947019867549669]\n[0.05921052631578947]\n[0.03333333333333333]\n[0.013333333333333334]\n[0.006666666666666667]\n[0.0]\n[0.006666666666666667]\n[0.0136986301369863]\n[0.0136986301369863]\n[0.0136986301369863]\n[0.02702702702702703]\n[0.053691275167785234]\n[0.08]\n[0.08666666666666667]\n[0.10457516339869281]\n[0.09333333333333334]\n[0.13725490196078433]\n[0.15584415584415584]\n[0.1337579617834395]\n[0.14285714285714285]\n[0.13636363636363635]\n[0.12101910828025478]\n[0.13725490196078433]\n[0.1870967741935484]\n[0.21710526315789475]\n[0.23870967741935484]\n[0.2484076433121019]\n[0.3081761006289308]\n[0.35443037974683544]\n[0.3924050632911392]\n[0.41509433962264153]\n[0.4025157232704403]\n[0.39375]\n[0.3950617283950617]\n[0.40372670807453415]\n[0.4074074074074074]\n[0.46987951807228917]\n[0.5822784810126582]\n[0.5923566878980892]\n[0.5849056603773585]\n[0.6560509554140127]\n[0.6751592356687898]\n[0.6477987421383647]\n[0.6352201257861635]\n[0.5443037974683544]\n[0.4409937888198758]\n[0.3148148148148148]\n[0.18292682926829268]\n[0.13580246913580246]\n[0.1524390243902439]\n[0.12650602409638553]\n[0.16149068322981366]\n[0.11042944785276074]\n[0.0949367088607595]\n[0.10625]\n[0.1]\n[0.0440251572327044]\n[0.01910828025477707]\n[0.02531645569620253]\n[0.00641025641025641]\n[0.006369426751592357]\n[0.006369426751592357]\n[0.0]\n[0.0]\n[0.0]\n[0.0]\n[0.0]\n[0.0064516129032258064]\n[0.012987012987012988]\n[0.012903225806451613]\n[0.038461538461538464]\n[0.08917197452229299]\n[0.1069182389937107]\n[0.13924050632911392]\n[0.1346153846153846]\n[0.14906832298136646]\n[0.09090909090909091]\n[0.05806451612903226]\n[0.04516129032258064]\n[0.03870967741935484]\n[0.03184713375796178]\n[0.044585987261146494]\n[0.075]\n[0.10897435897435898]\n[0.14556962025316456]\n[0.14556962025316456]\n[0.12658227848101267]\n[0.16770186335403728]\n[0.18633540372670807]\n[0.1875]\n[0.16049382716049382]\n[0.14814814814814814]\n[0.1656441717791411]\n[0.19753086419753085]\n[0.2]\n[0.17365269461077845]\n[0.20238095238095238]\n[0.2619047619047619]\n[0.27710843373493976]\n[0.30538922155688625]\n[0.35542168674698793]\n[0.40606060606060607]\n[0.40229885057471265]\n[0.34545454545454546]\n[0.30538922155688625]\n[0.3023255813953488]\n[0.27325581395348836]\n[0.28313253012048195]\n[0.33727810650887574]\n[0.3772455089820359]\n[0.41818181818181815]\n[0.45664739884393063]\n[0.5393939393939394]\n[0.5857988165680473]\n[0.5808383233532934]\n[0.5287356321839081]\n[0.5308641975308642]\n[0.4431137724550898]\n[0.3668639053254438]\n[0.29310344827586204]\n[0.18497109826589594]\n[0.11695906432748537]\n[0.08235294117647059]\n[0.10119047619047619]\n[0.13793103448275862]\n[0.11176470588235295]\n[0.11176470588235295]\n[0.08484848484848485]\n[0.05952380952380952]\n[0.05357142857142857]\n[0.03048780487804878]\n[0.006097560975609756]\n[0.0]\n[0.0]\n[0.0]\n[0.0]\n[0.0]\n[0.0]\n[0.006097560975609756]\n[0.012195121951219513]\n[0.03614457831325301]\n[0.10650887573964497]\n[0.08383233532934131]\n[0.10843373493975904]\n[0.07692307692307693]\n[0.030303030303030304]\n[0.01818181818181818]\n[0.012121212121212121]\n[0.012121212121212121]\n[0.01818181818181818]\n[0.0]\n[0.0]\n[0.006097560975609756]\n[0.01818181818181818]\n[0.0658682634730539]\n[0.09696969696969697]\n[0.10303030303030303]\n[0.16071428571428573]\n[0.2155688622754491]\n[0.22424242424242424]\n[0.21341463414634146]\n[0.33146067415730335]\n[0.47305389221556887]\n[0.047337278106508875]\n[0.030120481927710843]\n[0.036585365853658534]\n[0.03614457831325301]\n[0.042682926829268296]\n[0.05454545454545454]\n[0.059880239520958084]\n[0.07878787878787878]\n[0.09696969696969697]\n[0.10179640718562874]\n[0.10843373493975904]\n[0.12574850299401197]\n[0.19760479041916168]\n[0.21686746987951808]\n[0.25748502994011974]\n[0.2976190476190476]\n[0.30120481927710846]\n[0.32727272727272727]\n[0.3609467455621302]\n[0.3609467455621302]\n[0.3795180722891566]\n[0.3772455089820359]\n[0.3905325443786982]\n[0.3905325443786982]\n[0.3235294117647059]\n[0.27647058823529413]\n[0.26900584795321636]\n[0.22941176470588234]\n[0.22941176470588234]\n[0.3103448275862069]\n[0.49707602339181284]\n[0.514792899408284]\n[0.5411764705882353]\n[0.5952380952380952]\n[0.5882352941176471]\n[0.5348837209302325]\n[0.4678362573099415]\n[0.42105263157894735]\n[0.30177514792899407]\n[0.24571428571428572]\n[0.14619883040935672]\n[0.0718562874251497]\n[0.12941176470588237]\n[0.0718562874251497]\n[0.16568047337278108]\n[0.1286549707602339]\n[0.06707317073170732]\n[0.0375]\n[0.04294478527607362]\n[0.0125]\n[0.006211180124223602]\n[0.0]\n[0.0]\n[0.0]\n[0.0]\n[0.0]\n[0.0]\n[0.0]\n[0.0]\n[0.0]\n[0.006211180124223602]\n[0.043478260869565216]\n[0.0736196319018405]\n[0.1411042944785276]\n[0.16374269005847952]\n[0.10240963855421686]\n[0.08383233532934131]\n[0.08484848484848485]\n[0.05555555555555555]\n[0.05625]\n[0.0625]\n[0.043478260869565216]\n[0.024844720496894408]\n[0.04878048780487805]\n[0.07926829268292683]\n[0.11585365853658537]\n[0.3313253012048193]\n[0.2857142857142857]\n[0.25903614457831325]\n"
     ]
    }
   ],
   "source": [
    "for home, groups in habit_groups.items():\n",
    "    print(\"The habit groups found in {}\".format(home))\n",
    "    for d, d_groups in groups.items():\n",
    "        print(d + \" \" + str(len(d_groups)))\n",
    "        for g in d_groups:\n",
    "        #     print(ctx_info.coor_box_to_range(g[\"box\"][0] + g[\"box\"][1]))\n",
    "            print(g[\"dis\"])\n"
   ]
  },
  {
   "cell_type": "code",
   "execution_count": 5,
   "metadata": {
    "tags": []
   },
   "outputs": [
    {
     "output_type": "stream",
     "name": "stdout",
     "text": [
      "{'Range': 17, 'Microwave': 308, 'LivingLights': 0, 'HomeOffice': 427, 'WashingMachine': 0}\n"
     ]
    }
   ],
   "source": [
    "c_detector = ConflictDetector(ctx_info, capacity)\n",
    "final_conflicts = c_detector.predict_conflict_scenarios(habit_groups)\n",
    "print({x:len(final_conflicts[x]) for x in final_conflicts})"
   ]
  },
  {
   "cell_type": "code",
   "execution_count": 6,
   "metadata": {
    "tags": []
   },
   "outputs": [
    {
     "output_type": "stream",
     "name": "stdout",
     "text": [
      "[(0.005244755244755245, 0), (0.013846153846153847, 1), (0.009230769230769232, 2), (0.03099173553719008, 3), (0.05042016806722689, 4), (0.014423076923076924, 5), (0.029411764705882353, 6), (0.002272727272727273, 7), (0.0196078431372549, 8), (0.047619047619047616, 9), (0.024509803921568627, 10), (0.006191950464396284, 11), (0.03333333333333333, 12), (0.01020408163265306, 13), (0.017777777777777778, 14), (0.009090909090909092, 15), (0.008888888888888889, 16)]\n"
     ]
    }
   ],
   "source": [
    "import plotly.express as px\n",
    "# for x in final_conflicts[\"Window\"]:\n",
    "#     print((ctx_info.coor_box_to_range(x[\"box\"]),x[\"prob\"]))\n",
    "probs_i = [(x[\"prob\"], i) for i, x in enumerate(final_conflicts[\"Range\"])]\n",
    "print(probs_i)\n",
    "# fig = px.histogram(probs)\n",
    "# fig.show()"
   ]
  },
  {
   "cell_type": "code",
   "execution_count": 7,
   "metadata": {},
   "outputs": [
    {
     "output_type": "stream",
     "name": "stdout",
     "text": [
      "1096\n"
     ]
    }
   ],
   "source": [
    "import copy\n",
    "# Make ground truth:\n",
    "\n",
    "gt_ctx_info = ContextAccessor({\n",
    "            TIME_CTX: {\n",
    "                \"range\" : (0, 24*60),\n",
    "                \"interval\" : 20,\n",
    "            },\n",
    "            \"humidity#NUM\" : {\n",
    "                \"range\" : (0., 1.0),\n",
    "                \"interval\" : 0.1,\n",
    "            },\n",
    "            # \"apparentTemperature#NUM\" : {\n",
    "            #     \"range\" : (-10., 100),\n",
    "            #     \"interval\" : 10,\n",
    "            # },\n",
    "            \"summary#CAT\": {},\n",
    "            WEEKDAY_CTX: {\n",
    "                \"range\": (0, 6),\n",
    "                \"interval\": 1,\n",
    "            },\n",
    "        })\n",
    "device_events = {}\n",
    "for p in test_projects:\n",
    "    ctx_evts, device_evts = load_processed(p, is_sim=BOOL_SIM)\n",
    "    device_events[p] = device_evts\n",
    "\n",
    "gtconflict_cfg = {\n",
    "    \"context_info\": gt_ctx_info,\n",
    "    \"capacity\": capacity\n",
    "}\n",
    "test_dates = generate_test_date(test_projects, test_ratio = 1., true_random=False)\n",
    "\n",
    "conflict_finder = GtConflictFinder(gtconflict_cfg)\n",
    "gt_conflicts, test_state_cnt = conflict_finder.get_Gt_conflict(ctx_evts, device_events, test_dates)\n",
    "print(len(gt_conflicts))"
   ]
  },
  {
   "cell_type": "code",
   "execution_count": 8,
   "metadata": {
    "tags": []
   },
   "outputs": [
    {
     "output_type": "stream",
     "name": "stdout",
     "text": [
      "{'Range': 33, 'Microwave': 72, 'LivingLights': 0, 'HomeOffice': 991, 'WashingMachine': 0}\n{'Range': 4, 'Microwave': 10, 'LivingLights': 0, 'HomeOffice': 100, 'WashingMachine': 0}\n"
     ]
    }
   ],
   "source": [
    "\n",
    "# TEST_RATIO = 0.3\n",
    "# conflict_time = [x['cur_time'] for x in conflicts]\n",
    "# end_time = max(conflict_time)\n",
    "# start_time = min(conflict_time)\n",
    "# print(start_time)\n",
    "# print(end_time)\n",
    "# total_time_range = end_time - start_time\n",
    "# test_start = end_time - total_time_range * TEST_RATIO\n",
    "# print(test_start)\n",
    "\n",
    "conflict_device = {\n",
    "    d:[]\n",
    "    for d in capacity\n",
    "}\n",
    "\n",
    "conflict_state_device = {\n",
    "    d:{}\n",
    "    for d in capacity\n",
    "}\n",
    "MIN_TEST_OBS = 20\n",
    "\n",
    "for c in gt_conflicts:\n",
    "    d = c[\"device\"]\n",
    "    conflict_device[d].append(c)\n",
    "    s = gt_ctx_info.get_coor_by_ctx(c[\"ctx\"])\n",
    "    users = frozenset(c[\"device_states\"].keys())\n",
    "    if test_state_cnt[s] < MIN_TEST_OBS:\n",
    "        continue\n",
    "    if s not in conflict_state_device[d]:\n",
    "        conflict_state_device[d][s] = {}\n",
    "    conflict_state_device[d][s][users] = conflict_state_device[d][s].get(users, 0) + 1\n",
    "    \n",
    "print({d:len(c) for d,c in conflict_device.items()})\n",
    "print({d:len(c) for d,c in conflict_state_device.items()})\n"
   ]
  },
  {
   "cell_type": "code",
   "execution_count": 9,
   "metadata": {
    "tags": []
   },
   "outputs": [
    {
     "output_type": "stream",
     "name": "stdout",
     "text": [
      "0.15 0.0 HomeOffice ('HomeA/2016', 'HomeG/2016')\n",
      "0.2 0.0 HomeOffice ('HomeA/2016', 'HomeG/2016')\n",
      "0.11538461538461539 0.0 HomeOffice ('HomeA/2016', 'HomeG/2016')\n",
      "0.18181818181818182 0.0 HomeOffice ('HomeA/2016', 'HomeG/2016')\n",
      "0.17391304347826086 0.0 HomeOffice ('HomeA/2016', 'HomeG/2016')\n",
      "0.16666666666666666 0.0 HomeOffice ('HomeA/2016', 'HomeG/2016')\n",
      "0.18181818181818182 0.0 HomeOffice ('HomeA/2016', 'HomeG/2016')\n",
      "0.14285714285714285 0.0 HomeOffice ('HomeA/2016', 'HomeG/2016')\n",
      "0.2 0.0 HomeOffice ('HomeA/2016', 'HomeG/2016')\n",
      "0.13636363636363635 0.0 Range ('HomeA/2016', 'HomeG/2016')\n",
      "0.15 0.0 HomeOffice ('HomeC/2016', 'HomeG/2016')\n",
      "0.15 0.0 HomeOffice ('HomeA/2016', 'HomeC/2016')\n",
      "0.2 0.0 HomeOffice ('HomeA/2016', 'HomeC/2016')\n",
      "0.2916666666666667 0.0 HomeOffice ('HomeC/2016', 'HomeG/2016')\n",
      "0.13636363636363635 0.0 HomeOffice ('HomeA/2016', 'HomeC/2016')\n",
      "0.25 0.0 HomeOffice ('HomeC/2016', 'HomeG/2016')\n",
      "0.16666666666666666 0.0 HomeOffice ('HomeA/2016', 'HomeC/2016')\n",
      "0.125 0.0 HomeOffice ('HomeC/2016', 'HomeG/2016')\n",
      "0.16666666666666666 0.0 HomeOffice ('HomeA/2016', 'HomeC/2016')\n",
      "0.25 0.0 HomeOffice ('HomeC/2016', 'HomeG/2016')\n",
      "0.2916666666666667\n",
      "{'Range': [0.09527972027972027, 4, 0.0, 5826, 0.09527972027972027], 'Microwave': [0.04152438165942777, 11, 4.50951463092356e-05, 5819, 0.044296234068961333], 'LivingLights': [0, 0, 0.0, 5830, 0], 'HomeOffice': [0.08478981992070768, 109, 1.6864392028909687e-05, 5721, 0.08542298644836961], 'WashingMachine': [0, 0, 0.0, 5830, 0]}\n"
     ]
    }
   ],
   "source": [
    "it = np.nditer(test_state_cnt, flags=['multi_index'])\n",
    "all_users = test_projects\n",
    "all_devices = capacity.keys()\n",
    "user_pairs = list(combinations(all_users, 2))\n",
    "conflict_predicator = ConflictPredicator(ctx_info, final_conflicts)\n",
    "exp_cnt = 0\n",
    "exp_error = 0\n",
    "exp_gt_c = 0\n",
    "exp_result = {d:[0,0,0,0, 0] for d in all_devices}\n",
    "max_p = 0\n",
    "for count in it:\n",
    "    if count < MIN_TEST_OBS:\n",
    "        continue\n",
    "    state = it.multi_index\n",
    "    for d in all_devices:\n",
    "        for u_pair in user_pairs:\n",
    "            gt_prob = 0.\n",
    "            if (d in conflict_state_device) and \\\n",
    "                (state in conflict_state_device[d]) and \\\n",
    "                (frozenset(u_pair) in conflict_state_device[d][state]):\n",
    "\n",
    "                gt_prob =  float(conflict_state_device[d][state][frozenset(u_pair)]) / count\n",
    "            gt_ctx_snapshot = gt_ctx_info.coor_to_snapshot(state)\n",
    "\n",
    "            pred_prob = conflict_predicator.get_prob_conflict(ctx_info.get_coor_by_ctx(gt_ctx_snapshot), u_pair, d)\n",
    "            exp_cnt += 1\n",
    "            if gt_prob > 0:\n",
    "                # if pred_prob <= 0.001:\n",
    "                #     print(ctx_info.coor_to_snapshot(state).values(), gt_prob, pred_prob)\n",
    "                exp_error += abs(pred_prob - gt_prob)\n",
    "                exp_gt_c += 1\n",
    "                exp_result[d][0] += abs(pred_prob - gt_prob)\n",
    "                exp_result[d][1] += 1\n",
    "                exp_result[d][4] += gt_prob\n",
    "                if gt_prob > 0.1:\n",
    "                    print(gt_prob, pred_prob, d, u_pair)\n",
    "                max_p = max(gt_prob, max_p)\n",
    "\n",
    "            else:\n",
    "                exp_result[d][2] += abs(pred_prob - gt_prob)\n",
    "                exp_result[d][3] += 1\n",
    "\n",
    "for d in exp_result:\n",
    "    if exp_result[d][1] > 0:\n",
    "        exp_result[d][0] = exp_result[d][0] / exp_result[d][1]\n",
    "        exp_result[d][4] = exp_result[d][4] / exp_result[d][1]\n",
    "    if exp_result[d][3] > 0:\n",
    "        exp_result[d][2] = exp_result[d][2] / exp_result[d][3]\n",
    "print(max_p)\n",
    "print(exp_result)"
   ]
  },
  {
   "cell_type": "code",
   "execution_count": 10,
   "metadata": {
    "tags": []
   },
   "outputs": [],
   "source": [
    "# missed_gt_conflicts = {d:[] for d in conflict_device}\n",
    "# hit_gt_conflicts = {d:{} for d in conflict_device}\n",
    "# for d in final_conflicts:\n",
    "#     hit_gt_conflicts[d] = {i:0 for i in range(len(final_conflicts[d]))}\n",
    "\n",
    "# prob_loss = {}\n",
    "# sum_pred = 0\n",
    "# sum_gt = 0\n",
    "# err = 0\n",
    "# cntt = 0\n",
    "# for d, conflicts_d in conflict_state_device.items():\n",
    "#     for s, conflicts in conflicts_d.items():\n",
    "#         for users, cnt in conflicts.items():\n",
    "#             flag = False\n",
    "#             for idx, c_predict in enumerate(final_conflicts[d]):\n",
    "#                 if not match_user_groups([x[0] for x in c_predict[\"users\"]], users):\n",
    "#                     continue\n",
    "#                 if does_contain_point(c_predict[\"box\"], s):\n",
    "#                     pred_prob = c_predict[\"prob\"]\n",
    "#                     gt_prob = float(cnt) / test_state_cnt[s]\n",
    "#                     sum_pred += pred_prob\n",
    "#                     sum_gt += gt_prob\n",
    "#                     err += abs(gt_prob - pred_prob)\n",
    "#                     cntt += 1\n",
    "#                     flag = True\n",
    "#             if not flag:\n",
    "#                 print(\"????\")\n",
    "# print()\n",
    "# print(sum_gt/cntt, sum_pred/cntt, err/cntt)\n",
    "\n"
   ]
  },
  {
   "cell_type": "code",
   "execution_count": 11,
   "metadata": {
    "tags": []
   },
   "outputs": [],
   "source": [
    "# def match_pair(predicted_users, gt_users):\n",
    "#     return set(predicted_users) == set(gt_users)\n",
    "# missed_gt_conflicts = {d:[] for d in conflict_device}\n",
    "# hit_gt_conflicts = {d:{} for d in conflict_device}\n",
    "# for d in final_conflicts:\n",
    "#     hit_gt_conflicts[d] = {i:0 for i in range(len(final_conflicts[d]))}\n",
    "# for d, conflicts in conflict_device.items():\n",
    "#     for c in conflicts:\n",
    "#         coor = ctx_info.get_coor_by_ctx(c[\"ctx\"])\n",
    "#         flag = False\n",
    "#         for idx,c_predict in enumerate(final_conflicts[d]):\n",
    "#             if not match_user_groups([x[0] for x in c_predict[\"users\"]], c[\"device_states\"].keys()):\n",
    "#                 # print(c_predict[\"users\"], c[\"device_states\"])\n",
    "#                 continue\n",
    "#             if does_contain_point(c_predict[\"box\"], coor):\n",
    "#                 flag = True\n",
    "#                 hit_gt_conflicts[d][idx] += 1\n",
    "#                 break\n",
    "#         if not flag:\n",
    "#             missed_gt_conflicts[d].append(c)\n",
    "# print({d:len(missed_gt_conflicts[d]) for d in missed_gt_conflicts})\n",
    "# hit_count = {d:[0,0] for d in hit_gt_conflicts}\n",
    "# for d,hit_c in hit_gt_conflicts.items():\n",
    "#     for i,h in hit_c.items():\n",
    "#         if h == 0:\n",
    "#             hit_count[d][0] += 1\n",
    "#         else:\n",
    "#             hit_count[d][1] += 1\n",
    "# # print(hit_gt_conflicts[\"Microwave\"])\n",
    "# # print(final_conflicts[\"Microwave\"][14])\n",
    "# print(hit_count)"
   ]
  },
  {
   "cell_type": "code",
   "execution_count": 37,
   "metadata": {},
   "outputs": [
    {
     "output_type": "display_data",
     "data": {
      "application/vnd.plotly.v1+json": {
       "config": {
        "plotlyServerURL": "https://plot.ly"
       },
       "data": [
        {
         "mode": "markers",
         "type": "scatter",
         "x": [
          33,
          33,
          34,
          49,
          49,
          50,
          50,
          51,
          51,
          51,
          51,
          63,
          63,
          63,
          63,
          64,
          62,
          45,
          45,
          48,
          49,
          62,
          65,
          67,
          67,
          66,
          63,
          67,
          67,
          61,
          61,
          62,
          62,
          63,
          63,
          64,
          64,
          65,
          65,
          40,
          41,
          41,
          42,
          42,
          43,
          43,
          44,
          44,
          45,
          43,
          64,
          65,
          49,
          63,
          63,
          64,
          37,
          38,
          42,
          43,
          43,
          44,
          50,
          50,
          51,
          51,
          45,
          45,
          46,
          46,
          47,
          47,
          66,
          65,
          66,
          61,
          24,
          25,
          25,
          29,
          46,
          46,
          47,
          47,
          48,
          65,
          62,
          62,
          48,
          49,
          49,
          50,
          50,
          51,
          64,
          47,
          47,
          48,
          48,
          49,
          50,
          41,
          41,
          42,
          42,
          63,
          64,
          64,
          44,
          45,
          45,
          46,
          46,
          47,
          47,
          47,
          47,
          47,
          47,
          47,
          48,
          48,
          49,
          49,
          50,
          50,
          51,
          60,
          65,
          66,
          65,
          28,
          62,
          63,
          63,
          51,
          67,
          44,
          44,
          45,
          61,
          62,
          62,
          63,
          63,
          64,
          64,
          27,
          28,
          44,
          44,
          45,
          45,
          65,
          65,
          66,
          66,
          39,
          40,
          40,
          41,
          41,
          42,
          42,
          43,
          43,
          49,
          49,
          50,
          50
         ],
         "y": [
          2,
          2,
          2,
          2,
          2,
          2,
          2,
          2,
          2,
          2,
          2,
          2,
          2,
          2,
          2,
          2,
          6,
          5,
          5,
          5,
          5,
          4,
          6,
          6,
          6,
          0,
          3,
          3,
          3,
          6,
          6,
          6,
          6,
          6,
          6,
          6,
          6,
          6,
          6,
          1,
          1,
          1,
          1,
          1,
          1,
          1,
          1,
          1,
          1,
          6,
          6,
          6,
          2,
          2,
          2,
          2,
          5,
          5,
          5,
          5,
          5,
          5,
          5,
          5,
          5,
          5,
          0,
          0,
          0,
          0,
          0,
          0,
          2,
          1,
          1,
          3,
          6,
          6,
          6,
          6,
          6,
          6,
          6,
          6,
          6,
          6,
          2,
          2,
          5,
          5,
          5,
          5,
          5,
          5,
          4,
          3,
          3,
          3,
          3,
          3,
          3,
          3,
          3,
          3,
          3,
          3,
          3,
          3,
          5,
          5,
          5,
          5,
          5,
          5,
          5,
          5,
          5,
          5,
          5,
          5,
          5,
          5,
          5,
          5,
          5,
          5,
          5,
          5,
          5,
          5,
          6,
          5,
          5,
          5,
          5,
          6,
          6,
          5,
          5,
          5,
          5,
          5,
          5,
          5,
          5,
          5,
          5,
          6,
          6,
          6,
          6,
          6,
          6,
          6,
          6,
          6,
          6,
          1,
          1,
          1,
          1,
          1,
          1,
          1,
          1,
          1,
          1,
          1,
          1,
          1
         ]
        },
        {
         "marker": {
          "color": "red"
         },
         "mode": "markers",
         "type": "scatter",
         "x": [],
         "y": []
        }
       ],
       "layout": {
        "shapes": [
         {
          "line": {
           "color": "RoyalBlue"
          },
          "type": "rect",
          "x0": 0,
          "x1": 26,
          "y0": 0,
          "y1": 7
         },
         {
          "line": {
           "color": "RoyalBlue"
          },
          "type": "rect",
          "x0": 0,
          "x1": 24,
          "y0": 0,
          "y1": 7
         },
         {
          "line": {
           "color": "RoyalBlue"
          },
          "type": "rect",
          "x0": 24,
          "x1": 26,
          "y0": 0,
          "y1": 7
         },
         {
          "line": {
           "color": "RoyalBlue"
          },
          "type": "rect",
          "x0": 26,
          "x1": 39,
          "y0": 0,
          "y1": 5
         },
         {
          "line": {
           "color": "RoyalBlue"
          },
          "type": "rect",
          "x0": 26,
          "x1": 28,
          "y0": 0,
          "y1": 5
         },
         {
          "line": {
           "color": "RoyalBlue"
          },
          "type": "rect",
          "x0": 28,
          "x1": 32,
          "y0": 3,
          "y1": 4
         },
         {
          "line": {
           "color": "RoyalBlue"
          },
          "type": "rect",
          "x0": 28,
          "x1": 39,
          "y0": 0,
          "y1": 2
         },
         {
          "line": {
           "color": "RoyalBlue"
          },
          "type": "rect",
          "x0": 28,
          "x1": 32,
          "y0": 4,
          "y1": 5
         },
         {
          "line": {
           "color": "RoyalBlue"
          },
          "type": "rect",
          "x0": 32,
          "x1": 39,
          "y0": 3,
          "y1": 5
         },
         {
          "line": {
           "color": "RoyalBlue"
          },
          "type": "rect",
          "x0": 28,
          "x1": 39,
          "y0": 2,
          "y1": 3
         },
         {
          "line": {
           "color": "RoyalBlue"
          },
          "type": "rect",
          "x0": 48,
          "x1": 52,
          "y0": 1,
          "y1": 2
         },
         {
          "line": {
           "color": "RoyalBlue"
          },
          "type": "rect",
          "x0": 39,
          "x1": 40,
          "y0": 1,
          "y1": 2
         },
         {
          "line": {
           "color": "RoyalBlue"
          },
          "type": "rect",
          "x0": 39,
          "x1": 48,
          "y0": 1,
          "y1": 2
         },
         {
          "line": {
           "color": "RoyalBlue"
          },
          "type": "rect",
          "x0": 40,
          "x1": 52,
          "y0": 1,
          "y1": 2
         },
         {
          "line": {
           "color": "RoyalBlue"
          },
          "type": "rect",
          "x0": 52,
          "x1": 53,
          "y0": 6,
          "y1": 7
         },
         {
          "line": {
           "color": "RoyalBlue"
          },
          "type": "rect",
          "x0": 52,
          "x1": 61,
          "y0": 0,
          "y1": 7
         },
         {
          "line": {
           "color": "RoyalBlue"
          },
          "type": "rect",
          "x0": 52,
          "x1": 53,
          "y0": 3,
          "y1": 6
         },
         {
          "line": {
           "color": "RoyalBlue"
          },
          "type": "rect",
          "x0": 52,
          "x1": 53,
          "y0": 0,
          "y1": 2
         },
         {
          "line": {
           "color": "RoyalBlue"
          },
          "type": "rect",
          "x0": 53,
          "x1": 61,
          "y0": 0,
          "y1": 7
         },
         {
          "line": {
           "color": "RoyalBlue"
          },
          "type": "rect",
          "x0": 52,
          "x1": 53,
          "y0": 2,
          "y1": 3
         },
         {
          "line": {
           "color": "RoyalBlue"
          },
          "type": "rect",
          "x0": 61,
          "x1": 63,
          "y0": 4,
          "y1": 7
         },
         {
          "line": {
           "color": "RoyalBlue"
          },
          "type": "rect",
          "x0": 61,
          "x1": 63,
          "y0": 0,
          "y1": 4
         },
         {
          "line": {
           "color": "RoyalBlue"
          },
          "type": "rect",
          "x0": 61,
          "x1": 65,
          "y0": 0,
          "y1": 7
         },
         {
          "line": {
           "color": "RoyalBlue"
          },
          "type": "rect",
          "x0": 63,
          "x1": 67,
          "y0": 0,
          "y1": 4
         },
         {
          "line": {
           "color": "RoyalBlue"
          },
          "type": "rect",
          "x0": 63,
          "x1": 67,
          "y0": 4,
          "y1": 6
         },
         {
          "line": {
           "color": "RoyalBlue"
          },
          "type": "rect",
          "x0": 63,
          "x1": 67,
          "y0": 6,
          "y1": 7
         },
         {
          "line": {
           "color": "RoyalBlue"
          },
          "type": "rect",
          "x0": 65,
          "x1": 67,
          "y0": 0,
          "y1": 7
         },
         {
          "line": {
           "color": "RoyalBlue"
          },
          "type": "rect",
          "x0": 67,
          "x1": 68,
          "y0": 0,
          "y1": 4
         },
         {
          "line": {
           "color": "RoyalBlue"
          },
          "type": "rect",
          "x0": 67,
          "x1": 72,
          "y0": 0,
          "y1": 7
         },
         {
          "line": {
           "color": "RoyalBlue"
          },
          "type": "rect",
          "x0": 67,
          "x1": 68,
          "y0": 4,
          "y1": 6
         },
         {
          "line": {
           "color": "RoyalBlue"
          },
          "type": "rect",
          "x0": 67,
          "x1": 68,
          "y0": 6,
          "y1": 7
         },
         {
          "line": {
           "color": "RoyalBlue"
          },
          "type": "rect",
          "x0": 68,
          "x1": 69,
          "y0": 0,
          "y1": 7
         },
         {
          "line": {
           "color": "RoyalBlue"
          },
          "type": "rect",
          "x0": 69,
          "x1": 72,
          "y0": 0,
          "y1": 7
         },
         {
          "line": {
           "color": "RoyalBlue"
          },
          "type": "rect",
          "x0": 48,
          "x1": 52,
          "y0": 0,
          "y1": 1
         },
         {
          "line": {
           "color": "RoyalBlue"
          },
          "type": "rect",
          "x0": 39,
          "x1": 48,
          "y0": 0,
          "y1": 1
         },
         {
          "line": {
           "color": "RoyalBlue"
          },
          "type": "rect",
          "x0": 39,
          "x1": 40,
          "y0": 0,
          "y1": 1
         },
         {
          "line": {
           "color": "RoyalBlue"
          },
          "type": "rect",
          "x0": 40,
          "x1": 52,
          "y0": 0,
          "y1": 1
         },
         {
          "line": {
           "color": "RoyalBlue"
          },
          "type": "rect",
          "x0": 48,
          "x1": 52,
          "y0": 3,
          "y1": 4
         },
         {
          "line": {
           "color": "RoyalBlue"
          },
          "type": "rect",
          "x0": 39,
          "x1": 48,
          "y0": 3,
          "y1": 4
         },
         {
          "line": {
           "color": "RoyalBlue"
          },
          "type": "rect",
          "x0": 39,
          "x1": 52,
          "y0": 3,
          "y1": 4
         },
         {
          "line": {
           "color": "RoyalBlue"
          },
          "type": "rect",
          "x0": 48,
          "x1": 52,
          "y0": 4,
          "y1": 7
         },
         {
          "line": {
           "color": "RoyalBlue"
          },
          "type": "rect",
          "x0": 39,
          "x1": 52,
          "y0": 4,
          "y1": 6
         },
         {
          "line": {
           "color": "RoyalBlue"
          },
          "type": "rect",
          "x0": 39,
          "x1": 48,
          "y0": 4,
          "y1": 7
         },
         {
          "line": {
           "color": "RoyalBlue"
          },
          "type": "rect",
          "x0": 39,
          "x1": 52,
          "y0": 6,
          "y1": 7
         },
         {
          "line": {
           "color": "RoyalBlue"
          },
          "type": "rect",
          "x0": 26,
          "x1": 31,
          "y0": 5,
          "y1": 7
         },
         {
          "line": {
           "color": "RoyalBlue"
          },
          "type": "rect",
          "x0": 26,
          "x1": 28,
          "y0": 5,
          "y1": 7
         },
         {
          "line": {
           "color": "RoyalBlue"
          },
          "type": "rect",
          "x0": 28,
          "x1": 31,
          "y0": 6,
          "y1": 7
         },
         {
          "line": {
           "color": "RoyalBlue"
          },
          "type": "rect",
          "x0": 28,
          "x1": 31,
          "y0": 5,
          "y1": 6
         },
         {
          "line": {
           "color": "RoyalBlue"
          },
          "type": "rect",
          "x0": 31,
          "x1": 39,
          "y0": 6,
          "y1": 7
         },
         {
          "line": {
           "color": "RoyalBlue"
          },
          "type": "rect",
          "x0": 31,
          "x1": 32,
          "y0": 5,
          "y1": 6
         },
         {
          "line": {
           "color": "RoyalBlue"
          },
          "type": "rect",
          "x0": 31,
          "x1": 39,
          "y0": 5,
          "y1": 7
         },
         {
          "line": {
           "color": "RoyalBlue"
          },
          "type": "rect",
          "x0": 32,
          "x1": 39,
          "y0": 5,
          "y1": 6
         },
         {
          "line": {
           "color": "RoyalBlue"
          },
          "type": "rect",
          "x0": 48,
          "x1": 52,
          "y0": 2,
          "y1": 3
         },
         {
          "line": {
           "color": "RoyalBlue"
          },
          "type": "rect",
          "x0": 39,
          "x1": 48,
          "y0": 2,
          "y1": 3
         },
         {
          "line": {
           "color": "RoyalBlue"
          },
          "type": "rect",
          "x0": 39,
          "x1": 52,
          "y0": 2,
          "y1": 3
         },
         {
          "line": {
           "color": "RoyalBlue"
          },
          "type": "rect",
          "x0": 0,
          "x1": 24,
          "y0": 0,
          "y1": 7
         },
         {
          "line": {
           "color": "RoyalBlue"
          },
          "type": "rect",
          "x0": 24,
          "x1": 28,
          "y0": 0,
          "y1": 7
         },
         {
          "line": {
           "color": "RoyalBlue"
          },
          "type": "rect",
          "x0": 28,
          "x1": 40,
          "y0": 0,
          "y1": 2
         },
         {
          "line": {
           "color": "RoyalBlue"
          },
          "type": "rect",
          "x0": 40,
          "x1": 48,
          "y0": 0,
          "y1": 2
         },
         {
          "line": {
           "color": "RoyalBlue"
          },
          "type": "rect",
          "x0": 28,
          "x1": 32,
          "y0": 3,
          "y1": 4
         },
         {
          "line": {
           "color": "RoyalBlue"
          },
          "type": "rect",
          "x0": 32,
          "x1": 48,
          "y0": 3,
          "y1": 6
         },
         {
          "line": {
           "color": "RoyalBlue"
          },
          "type": "rect",
          "x0": 28,
          "x1": 32,
          "y0": 4,
          "y1": 6
         },
         {
          "line": {
           "color": "RoyalBlue"
          },
          "type": "rect",
          "x0": 28,
          "x1": 48,
          "y0": 6,
          "y1": 7
         },
         {
          "line": {
           "color": "RoyalBlue"
          },
          "type": "rect",
          "x0": 28,
          "x1": 48,
          "y0": 2,
          "y1": 3
         },
         {
          "line": {
           "color": "RoyalBlue"
          },
          "type": "rect",
          "x0": 48,
          "x1": 53,
          "y0": 0,
          "y1": 2
         },
         {
          "line": {
           "color": "RoyalBlue"
          },
          "type": "rect",
          "x0": 53,
          "x1": 61,
          "y0": 0,
          "y1": 7
         },
         {
          "line": {
           "color": "RoyalBlue"
          },
          "type": "rect",
          "x0": 48,
          "x1": 53,
          "y0": 3,
          "y1": 6
         },
         {
          "line": {
           "color": "RoyalBlue"
          },
          "type": "rect",
          "x0": 48,
          "x1": 53,
          "y0": 6,
          "y1": 7
         },
         {
          "line": {
           "color": "RoyalBlue"
          },
          "type": "rect",
          "x0": 48,
          "x1": 53,
          "y0": 2,
          "y1": 3
         },
         {
          "line": {
           "color": "RoyalBlue"
          },
          "type": "rect",
          "x0": 61,
          "x1": 63,
          "y0": 0,
          "y1": 4
         },
         {
          "line": {
           "color": "RoyalBlue"
          },
          "type": "rect",
          "x0": 63,
          "x1": 65,
          "y0": 0,
          "y1": 4
         },
         {
          "line": {
           "color": "RoyalBlue"
          },
          "type": "rect",
          "x0": 65,
          "x1": 68,
          "y0": 0,
          "y1": 4
         },
         {
          "line": {
           "color": "RoyalBlue"
          },
          "type": "rect",
          "x0": 68,
          "x1": 69,
          "y0": 0,
          "y1": 7
         },
         {
          "line": {
           "color": "RoyalBlue"
          },
          "type": "rect",
          "x0": 69,
          "x1": 72,
          "y0": 0,
          "y1": 7
         },
         {
          "line": {
           "color": "RoyalBlue"
          },
          "type": "rect",
          "x0": 61,
          "x1": 63,
          "y0": 4,
          "y1": 7
         },
         {
          "line": {
           "color": "RoyalBlue"
          },
          "type": "rect",
          "x0": 63,
          "x1": 65,
          "y0": 4,
          "y1": 6
         },
         {
          "line": {
           "color": "RoyalBlue"
          },
          "type": "rect",
          "x0": 65,
          "x1": 68,
          "y0": 4,
          "y1": 6
         },
         {
          "line": {
           "color": "RoyalBlue"
          },
          "type": "rect",
          "x0": 63,
          "x1": 65,
          "y0": 6,
          "y1": 7
         },
         {
          "line": {
           "color": "RoyalBlue"
          },
          "type": "rect",
          "x0": 65,
          "x1": 68,
          "y0": 6,
          "y1": 7
         }
        ],
        "template": {
         "data": {
          "bar": [
           {
            "error_x": {
             "color": "#2a3f5f"
            },
            "error_y": {
             "color": "#2a3f5f"
            },
            "marker": {
             "line": {
              "color": "#E5ECF6",
              "width": 0.5
             }
            },
            "type": "bar"
           }
          ],
          "barpolar": [
           {
            "marker": {
             "line": {
              "color": "#E5ECF6",
              "width": 0.5
             }
            },
            "type": "barpolar"
           }
          ],
          "carpet": [
           {
            "aaxis": {
             "endlinecolor": "#2a3f5f",
             "gridcolor": "white",
             "linecolor": "white",
             "minorgridcolor": "white",
             "startlinecolor": "#2a3f5f"
            },
            "baxis": {
             "endlinecolor": "#2a3f5f",
             "gridcolor": "white",
             "linecolor": "white",
             "minorgridcolor": "white",
             "startlinecolor": "#2a3f5f"
            },
            "type": "carpet"
           }
          ],
          "choropleth": [
           {
            "colorbar": {
             "outlinewidth": 0,
             "ticks": ""
            },
            "type": "choropleth"
           }
          ],
          "contour": [
           {
            "colorbar": {
             "outlinewidth": 0,
             "ticks": ""
            },
            "colorscale": [
             [
              0,
              "#0d0887"
             ],
             [
              0.1111111111111111,
              "#46039f"
             ],
             [
              0.2222222222222222,
              "#7201a8"
             ],
             [
              0.3333333333333333,
              "#9c179e"
             ],
             [
              0.4444444444444444,
              "#bd3786"
             ],
             [
              0.5555555555555556,
              "#d8576b"
             ],
             [
              0.6666666666666666,
              "#ed7953"
             ],
             [
              0.7777777777777778,
              "#fb9f3a"
             ],
             [
              0.8888888888888888,
              "#fdca26"
             ],
             [
              1,
              "#f0f921"
             ]
            ],
            "type": "contour"
           }
          ],
          "contourcarpet": [
           {
            "colorbar": {
             "outlinewidth": 0,
             "ticks": ""
            },
            "type": "contourcarpet"
           }
          ],
          "heatmap": [
           {
            "colorbar": {
             "outlinewidth": 0,
             "ticks": ""
            },
            "colorscale": [
             [
              0,
              "#0d0887"
             ],
             [
              0.1111111111111111,
              "#46039f"
             ],
             [
              0.2222222222222222,
              "#7201a8"
             ],
             [
              0.3333333333333333,
              "#9c179e"
             ],
             [
              0.4444444444444444,
              "#bd3786"
             ],
             [
              0.5555555555555556,
              "#d8576b"
             ],
             [
              0.6666666666666666,
              "#ed7953"
             ],
             [
              0.7777777777777778,
              "#fb9f3a"
             ],
             [
              0.8888888888888888,
              "#fdca26"
             ],
             [
              1,
              "#f0f921"
             ]
            ],
            "type": "heatmap"
           }
          ],
          "heatmapgl": [
           {
            "colorbar": {
             "outlinewidth": 0,
             "ticks": ""
            },
            "colorscale": [
             [
              0,
              "#0d0887"
             ],
             [
              0.1111111111111111,
              "#46039f"
             ],
             [
              0.2222222222222222,
              "#7201a8"
             ],
             [
              0.3333333333333333,
              "#9c179e"
             ],
             [
              0.4444444444444444,
              "#bd3786"
             ],
             [
              0.5555555555555556,
              "#d8576b"
             ],
             [
              0.6666666666666666,
              "#ed7953"
             ],
             [
              0.7777777777777778,
              "#fb9f3a"
             ],
             [
              0.8888888888888888,
              "#fdca26"
             ],
             [
              1,
              "#f0f921"
             ]
            ],
            "type": "heatmapgl"
           }
          ],
          "histogram": [
           {
            "marker": {
             "colorbar": {
              "outlinewidth": 0,
              "ticks": ""
             }
            },
            "type": "histogram"
           }
          ],
          "histogram2d": [
           {
            "colorbar": {
             "outlinewidth": 0,
             "ticks": ""
            },
            "colorscale": [
             [
              0,
              "#0d0887"
             ],
             [
              0.1111111111111111,
              "#46039f"
             ],
             [
              0.2222222222222222,
              "#7201a8"
             ],
             [
              0.3333333333333333,
              "#9c179e"
             ],
             [
              0.4444444444444444,
              "#bd3786"
             ],
             [
              0.5555555555555556,
              "#d8576b"
             ],
             [
              0.6666666666666666,
              "#ed7953"
             ],
             [
              0.7777777777777778,
              "#fb9f3a"
             ],
             [
              0.8888888888888888,
              "#fdca26"
             ],
             [
              1,
              "#f0f921"
             ]
            ],
            "type": "histogram2d"
           }
          ],
          "histogram2dcontour": [
           {
            "colorbar": {
             "outlinewidth": 0,
             "ticks": ""
            },
            "colorscale": [
             [
              0,
              "#0d0887"
             ],
             [
              0.1111111111111111,
              "#46039f"
             ],
             [
              0.2222222222222222,
              "#7201a8"
             ],
             [
              0.3333333333333333,
              "#9c179e"
             ],
             [
              0.4444444444444444,
              "#bd3786"
             ],
             [
              0.5555555555555556,
              "#d8576b"
             ],
             [
              0.6666666666666666,
              "#ed7953"
             ],
             [
              0.7777777777777778,
              "#fb9f3a"
             ],
             [
              0.8888888888888888,
              "#fdca26"
             ],
             [
              1,
              "#f0f921"
             ]
            ],
            "type": "histogram2dcontour"
           }
          ],
          "mesh3d": [
           {
            "colorbar": {
             "outlinewidth": 0,
             "ticks": ""
            },
            "type": "mesh3d"
           }
          ],
          "parcoords": [
           {
            "line": {
             "colorbar": {
              "outlinewidth": 0,
              "ticks": ""
             }
            },
            "type": "parcoords"
           }
          ],
          "pie": [
           {
            "automargin": true,
            "type": "pie"
           }
          ],
          "scatter": [
           {
            "marker": {
             "colorbar": {
              "outlinewidth": 0,
              "ticks": ""
             }
            },
            "type": "scatter"
           }
          ],
          "scatter3d": [
           {
            "line": {
             "colorbar": {
              "outlinewidth": 0,
              "ticks": ""
             }
            },
            "marker": {
             "colorbar": {
              "outlinewidth": 0,
              "ticks": ""
             }
            },
            "type": "scatter3d"
           }
          ],
          "scattercarpet": [
           {
            "marker": {
             "colorbar": {
              "outlinewidth": 0,
              "ticks": ""
             }
            },
            "type": "scattercarpet"
           }
          ],
          "scattergeo": [
           {
            "marker": {
             "colorbar": {
              "outlinewidth": 0,
              "ticks": ""
             }
            },
            "type": "scattergeo"
           }
          ],
          "scattergl": [
           {
            "marker": {
             "colorbar": {
              "outlinewidth": 0,
              "ticks": ""
             }
            },
            "type": "scattergl"
           }
          ],
          "scattermapbox": [
           {
            "marker": {
             "colorbar": {
              "outlinewidth": 0,
              "ticks": ""
             }
            },
            "type": "scattermapbox"
           }
          ],
          "scatterpolar": [
           {
            "marker": {
             "colorbar": {
              "outlinewidth": 0,
              "ticks": ""
             }
            },
            "type": "scatterpolar"
           }
          ],
          "scatterpolargl": [
           {
            "marker": {
             "colorbar": {
              "outlinewidth": 0,
              "ticks": ""
             }
            },
            "type": "scatterpolargl"
           }
          ],
          "scatterternary": [
           {
            "marker": {
             "colorbar": {
              "outlinewidth": 0,
              "ticks": ""
             }
            },
            "type": "scatterternary"
           }
          ],
          "surface": [
           {
            "colorbar": {
             "outlinewidth": 0,
             "ticks": ""
            },
            "colorscale": [
             [
              0,
              "#0d0887"
             ],
             [
              0.1111111111111111,
              "#46039f"
             ],
             [
              0.2222222222222222,
              "#7201a8"
             ],
             [
              0.3333333333333333,
              "#9c179e"
             ],
             [
              0.4444444444444444,
              "#bd3786"
             ],
             [
              0.5555555555555556,
              "#d8576b"
             ],
             [
              0.6666666666666666,
              "#ed7953"
             ],
             [
              0.7777777777777778,
              "#fb9f3a"
             ],
             [
              0.8888888888888888,
              "#fdca26"
             ],
             [
              1,
              "#f0f921"
             ]
            ],
            "type": "surface"
           }
          ],
          "table": [
           {
            "cells": {
             "fill": {
              "color": "#EBF0F8"
             },
             "line": {
              "color": "white"
             }
            },
            "header": {
             "fill": {
              "color": "#C8D4E3"
             },
             "line": {
              "color": "white"
             }
            },
            "type": "table"
           }
          ]
         },
         "layout": {
          "annotationdefaults": {
           "arrowcolor": "#2a3f5f",
           "arrowhead": 0,
           "arrowwidth": 1
          },
          "autotypenumbers": "strict",
          "coloraxis": {
           "colorbar": {
            "outlinewidth": 0,
            "ticks": ""
           }
          },
          "colorscale": {
           "diverging": [
            [
             0,
             "#8e0152"
            ],
            [
             0.1,
             "#c51b7d"
            ],
            [
             0.2,
             "#de77ae"
            ],
            [
             0.3,
             "#f1b6da"
            ],
            [
             0.4,
             "#fde0ef"
            ],
            [
             0.5,
             "#f7f7f7"
            ],
            [
             0.6,
             "#e6f5d0"
            ],
            [
             0.7,
             "#b8e186"
            ],
            [
             0.8,
             "#7fbc41"
            ],
            [
             0.9,
             "#4d9221"
            ],
            [
             1,
             "#276419"
            ]
           ],
           "sequential": [
            [
             0,
             "#0d0887"
            ],
            [
             0.1111111111111111,
             "#46039f"
            ],
            [
             0.2222222222222222,
             "#7201a8"
            ],
            [
             0.3333333333333333,
             "#9c179e"
            ],
            [
             0.4444444444444444,
             "#bd3786"
            ],
            [
             0.5555555555555556,
             "#d8576b"
            ],
            [
             0.6666666666666666,
             "#ed7953"
            ],
            [
             0.7777777777777778,
             "#fb9f3a"
            ],
            [
             0.8888888888888888,
             "#fdca26"
            ],
            [
             1,
             "#f0f921"
            ]
           ],
           "sequentialminus": [
            [
             0,
             "#0d0887"
            ],
            [
             0.1111111111111111,
             "#46039f"
            ],
            [
             0.2222222222222222,
             "#7201a8"
            ],
            [
             0.3333333333333333,
             "#9c179e"
            ],
            [
             0.4444444444444444,
             "#bd3786"
            ],
            [
             0.5555555555555556,
             "#d8576b"
            ],
            [
             0.6666666666666666,
             "#ed7953"
            ],
            [
             0.7777777777777778,
             "#fb9f3a"
            ],
            [
             0.8888888888888888,
             "#fdca26"
            ],
            [
             1,
             "#f0f921"
            ]
           ]
          },
          "colorway": [
           "#636efa",
           "#EF553B",
           "#00cc96",
           "#ab63fa",
           "#FFA15A",
           "#19d3f3",
           "#FF6692",
           "#B6E880",
           "#FF97FF",
           "#FECB52"
          ],
          "font": {
           "color": "#2a3f5f"
          },
          "geo": {
           "bgcolor": "white",
           "lakecolor": "white",
           "landcolor": "#E5ECF6",
           "showlakes": true,
           "showland": true,
           "subunitcolor": "white"
          },
          "hoverlabel": {
           "align": "left"
          },
          "hovermode": "closest",
          "mapbox": {
           "style": "light"
          },
          "paper_bgcolor": "white",
          "plot_bgcolor": "#E5ECF6",
          "polar": {
           "angularaxis": {
            "gridcolor": "white",
            "linecolor": "white",
            "ticks": ""
           },
           "bgcolor": "#E5ECF6",
           "radialaxis": {
            "gridcolor": "white",
            "linecolor": "white",
            "ticks": ""
           }
          },
          "scene": {
           "xaxis": {
            "backgroundcolor": "#E5ECF6",
            "gridcolor": "white",
            "gridwidth": 2,
            "linecolor": "white",
            "showbackground": true,
            "ticks": "",
            "zerolinecolor": "white"
           },
           "yaxis": {
            "backgroundcolor": "#E5ECF6",
            "gridcolor": "white",
            "gridwidth": 2,
            "linecolor": "white",
            "showbackground": true,
            "ticks": "",
            "zerolinecolor": "white"
           },
           "zaxis": {
            "backgroundcolor": "#E5ECF6",
            "gridcolor": "white",
            "gridwidth": 2,
            "linecolor": "white",
            "showbackground": true,
            "ticks": "",
            "zerolinecolor": "white"
           }
          },
          "shapedefaults": {
           "line": {
            "color": "#2a3f5f"
           }
          },
          "ternary": {
           "aaxis": {
            "gridcolor": "white",
            "linecolor": "white",
            "ticks": ""
           },
           "baxis": {
            "gridcolor": "white",
            "linecolor": "white",
            "ticks": ""
           },
           "bgcolor": "#E5ECF6",
           "caxis": {
            "gridcolor": "white",
            "linecolor": "white",
            "ticks": ""
           }
          },
          "title": {
           "x": 0.05
          },
          "xaxis": {
           "automargin": true,
           "gridcolor": "white",
           "linecolor": "white",
           "ticks": "",
           "title": {
            "standoff": 15
           },
           "zerolinecolor": "white",
           "zerolinewidth": 2
          },
          "yaxis": {
           "automargin": true,
           "gridcolor": "white",
           "linecolor": "white",
           "ticks": "",
           "title": {
            "standoff": 15
           },
           "zerolinecolor": "white",
           "zerolinewidth": 2
          }
         }
        }
       }
      }
     },
     "metadata": {}
    }
   ],
   "source": [
    "import plotly.graph_objects as go\n",
    "from plotly.subplots import make_subplots\n",
    "\n",
    "draw_device = \"HomeOffice\"\n",
    "c_point = [[],[]]\n",
    "missed_point = [[], []]\n",
    "for c in conflict_device[draw_device]:\n",
    "    coor = ctx_info.get_coor_by_ctx(c[\"ctx\"])\n",
    "    c_point[0].append(coor[0])\n",
    "    c_point[1].append(coor[1])\n",
    "for c in missed_gt_conflicts[draw_device]:\n",
    "    coor = ctx_info.get_coor_by_ctx(c[\"ctx\"])\n",
    "    missed_point[0].append(coor[0])\n",
    "    missed_point[1].append(coor[1])\n",
    "fig = go.Figure(data=go.Scatter(x=c_point[0], y=c_point[1], mode=\"markers\"))\n",
    "fig.add_trace(go.Scatter(x=missed_point[0], y=missed_point[1], mode=\"markers\", marker=dict(color=\"red\")))\n",
    "\n",
    "for c in final_conflicts[draw_device]:\n",
    "    fig.add_shape(type=\"rect\",\n",
    "        x0=c[\"box\"][0], y0=c[\"box\"][1], x1=c[\"box\"][2], y1=c[\"box\"][3],\n",
    "        line=dict(color=\"RoyalBlue\"),\n",
    "    )\n",
    "fig.show()\n"
   ]
  },
  {
   "source": [
    "hit_miss_rate = [[],[]]\n",
    "for prob_threshold in np.arange(0.0, 0.5, 0.001):\n",
    "    test_conflict = {\n",
    "        d: [x for x in final_conflicts[d] if x[\"prob\"] >= prob_threshold]\n",
    "        for d in final_conflicts\n",
    "    }\n",
    "    missed_gt_conflicts = {d:[] for d in conflict_device}\n",
    "    hit_gt_conflicts = {d:{} for d in conflict_device}\n",
    "    for d in test_conflict:\n",
    "        hit_gt_conflicts[d] = {i:0 for i in range(len(test_conflict[d]))}\n",
    "    for d, conflicts in conflict_device.items():\n",
    "        for c in conflicts:\n",
    "            coor = ctx_info.get_coor_by_ctx(c[\"ctx\"])\n",
    "            flag = False\n",
    "            for idx,c_predict in enumerate(test_conflict[d]):\n",
    "                if does_contain_point(c_predict[\"box\"], coor):\n",
    "                    flag = True\n",
    "                    hit_gt_conflicts[d][idx] += 1\n",
    "                    break\n",
    "            if not flag:\n",
    "                missed_gt_conflicts[d].append(c)\n",
    "    all_missed_gt_conflicts = sum([len(x) for d,x in missed_gt_conflicts.items()])\n",
    "    all_gt_conflicts = sum([len(x) for d,x in conflict_device.items()])\n",
    "    hit_miss_rate[0].append(1.0 - float(all_missed_gt_conflicts) / all_gt_conflicts)\n",
    "    # print({d:len(missed_gt_conflicts[d]) for d in missed_gt_conflicts})\n",
    "    all_pred_conflicts = 0\n",
    "    all_missed_pred_conflicts = 0\n",
    "    hit_count = {d:[0,0] for d in hit_gt_conflicts}\n",
    "    for d,hit_c in hit_gt_conflicts.items():\n",
    "        for i,h in hit_c.items():\n",
    "            all_pred_conflicts += 1\n",
    "            if h == 0:\n",
    "                all_missed_pred_conflicts += 1\n",
    "                hit_count[d][0] += 1\n",
    "            else:\n",
    "                hit_count[d][1] += 1\n",
    "    if all_pred_conflicts == 0:\n",
    "        break\n",
    "    hit_miss_rate[1].append(1.0 - float(all_missed_pred_conflicts) / all_pred_conflicts)\n",
    "    # print(hit_count)\n"
   ],
   "cell_type": "code",
   "metadata": {
    "tags": []
   },
   "execution_count": 14,
   "outputs": [
    {
     "output_type": "stream",
     "name": "stdout",
     "text": [
      "{'Range': {}, 'Microwave': {}, 'LivingLights': {}, 'HomeOffice': {}, 'WashingMachine': {}}\n"
     ]
    }
   ]
  },
  {
   "cell_type": "code",
   "execution_count": 15,
   "metadata": {},
   "outputs": [
    {
     "output_type": "stream",
     "name": "stdout",
     "text": [
      "77\n"
     ]
    },
    {
     "output_type": "display_data",
     "data": {
      "application/vnd.plotly.v1+json": {
       "config": {
        "plotlyServerURL": "https://plot.ly"
       },
       "data": [
        {
         "mode": "lines+markers",
         "type": "scatter",
         "x": [
          1,
          0.8589108910891089,
          0.7846534653465347,
          0.7821782178217822,
          0.7178217821782178,
          0.6584158415841583,
          0.6584158415841583,
          0.6584158415841583,
          0.6584158415841583,
          0.5965346534653465,
          0.5915841584158417,
          0.5915841584158417,
          0.5866336633663367,
          0.5792079207920793,
          0.5717821782178218,
          0.5074257425742574,
          0.49504950495049505,
          0.49504950495049505,
          0.49504950495049505,
          0.3910891089108911,
          0.37623762376237624,
          0.37623762376237624,
          0.3589108910891089,
          0.3589108910891089,
          0.3589108910891089,
          0.3143564356435643,
          0.3143564356435643,
          0.21534653465346532,
          0.21534653465346532,
          0.21534653465346532,
          0.21039603960396036,
          0.21039603960396036,
          0.21039603960396036,
          0.21039603960396036,
          0.21039603960396036,
          0.21039603960396036,
          0.21039603960396036,
          0.21039603960396036,
          0.21039603960396036,
          0.21039603960396036,
          0.20792079207920788,
          0.18811881188118806,
          0.18811881188118806,
          0.18811881188118806,
          0.18811881188118806,
          0.18811881188118806,
          0.18811881188118806,
          0.18316831683168322,
          0.18316831683168322,
          0.18316831683168322,
          0.1633663366336634,
          0.1633663366336634,
          0.1633663366336634,
          0.1633663366336634,
          0.1633663366336634,
          0.16089108910891092,
          0.16089108910891092,
          0.13366336633663367,
          0.13366336633663367,
          0.13366336633663367,
          0.13366336633663367,
          0.13366336633663367,
          0.13366336633663367,
          0.13366336633663367,
          0.13366336633663367,
          0.13366336633663367,
          0.13366336633663367,
          0.13366336633663367,
          0.13366336633663367,
          0.13366336633663367,
          0.13366336633663367,
          0.09158415841584155,
          0.09158415841584155,
          0.03712871287128716,
          0.03712871287128716,
          0.03712871287128716,
          0
         ],
         "y": [
          0.16279069767441856,
          0.282258064516129,
          0.306930693069307,
          0.3950617283950617,
          0.4305555555555556,
          0.46031746031746035,
          0.47457627118644063,
          0.5,
          0.5384615384615384,
          0.574468085106383,
          0.5909090909090908,
          0.6190476190476191,
          0.6944444444444444,
          0.7058823529411764,
          0.71875,
          0.7,
          0.7037037037037037,
          0.76,
          0.782608695652174,
          0.7727272727272727,
          0.7619047619047619,
          0.7619047619047619,
          0.7777777777777778,
          0.8235294117647058,
          0.8235294117647058,
          0.8,
          0.8,
          0.7692307692307692,
          0.7692307692307692,
          0.7692307692307692,
          0.75,
          0.8181818181818181,
          0.8181818181818181,
          0.9,
          0.9,
          1,
          1,
          1,
          1,
          1,
          1,
          1,
          1,
          1,
          1,
          1,
          1,
          1,
          1,
          1,
          1,
          1,
          1,
          1,
          1,
          1,
          1,
          1,
          1,
          1,
          1,
          1,
          1,
          1,
          1,
          1,
          1,
          1,
          1,
          1,
          1,
          1,
          1,
          1,
          1,
          1
         ]
        }
       ],
       "layout": {
        "template": {
         "data": {
          "bar": [
           {
            "error_x": {
             "color": "#2a3f5f"
            },
            "error_y": {
             "color": "#2a3f5f"
            },
            "marker": {
             "line": {
              "color": "#E5ECF6",
              "width": 0.5
             }
            },
            "type": "bar"
           }
          ],
          "barpolar": [
           {
            "marker": {
             "line": {
              "color": "#E5ECF6",
              "width": 0.5
             }
            },
            "type": "barpolar"
           }
          ],
          "carpet": [
           {
            "aaxis": {
             "endlinecolor": "#2a3f5f",
             "gridcolor": "white",
             "linecolor": "white",
             "minorgridcolor": "white",
             "startlinecolor": "#2a3f5f"
            },
            "baxis": {
             "endlinecolor": "#2a3f5f",
             "gridcolor": "white",
             "linecolor": "white",
             "minorgridcolor": "white",
             "startlinecolor": "#2a3f5f"
            },
            "type": "carpet"
           }
          ],
          "choropleth": [
           {
            "colorbar": {
             "outlinewidth": 0,
             "ticks": ""
            },
            "type": "choropleth"
           }
          ],
          "contour": [
           {
            "colorbar": {
             "outlinewidth": 0,
             "ticks": ""
            },
            "colorscale": [
             [
              0,
              "#0d0887"
             ],
             [
              0.1111111111111111,
              "#46039f"
             ],
             [
              0.2222222222222222,
              "#7201a8"
             ],
             [
              0.3333333333333333,
              "#9c179e"
             ],
             [
              0.4444444444444444,
              "#bd3786"
             ],
             [
              0.5555555555555556,
              "#d8576b"
             ],
             [
              0.6666666666666666,
              "#ed7953"
             ],
             [
              0.7777777777777778,
              "#fb9f3a"
             ],
             [
              0.8888888888888888,
              "#fdca26"
             ],
             [
              1,
              "#f0f921"
             ]
            ],
            "type": "contour"
           }
          ],
          "contourcarpet": [
           {
            "colorbar": {
             "outlinewidth": 0,
             "ticks": ""
            },
            "type": "contourcarpet"
           }
          ],
          "heatmap": [
           {
            "colorbar": {
             "outlinewidth": 0,
             "ticks": ""
            },
            "colorscale": [
             [
              0,
              "#0d0887"
             ],
             [
              0.1111111111111111,
              "#46039f"
             ],
             [
              0.2222222222222222,
              "#7201a8"
             ],
             [
              0.3333333333333333,
              "#9c179e"
             ],
             [
              0.4444444444444444,
              "#bd3786"
             ],
             [
              0.5555555555555556,
              "#d8576b"
             ],
             [
              0.6666666666666666,
              "#ed7953"
             ],
             [
              0.7777777777777778,
              "#fb9f3a"
             ],
             [
              0.8888888888888888,
              "#fdca26"
             ],
             [
              1,
              "#f0f921"
             ]
            ],
            "type": "heatmap"
           }
          ],
          "heatmapgl": [
           {
            "colorbar": {
             "outlinewidth": 0,
             "ticks": ""
            },
            "colorscale": [
             [
              0,
              "#0d0887"
             ],
             [
              0.1111111111111111,
              "#46039f"
             ],
             [
              0.2222222222222222,
              "#7201a8"
             ],
             [
              0.3333333333333333,
              "#9c179e"
             ],
             [
              0.4444444444444444,
              "#bd3786"
             ],
             [
              0.5555555555555556,
              "#d8576b"
             ],
             [
              0.6666666666666666,
              "#ed7953"
             ],
             [
              0.7777777777777778,
              "#fb9f3a"
             ],
             [
              0.8888888888888888,
              "#fdca26"
             ],
             [
              1,
              "#f0f921"
             ]
            ],
            "type": "heatmapgl"
           }
          ],
          "histogram": [
           {
            "marker": {
             "colorbar": {
              "outlinewidth": 0,
              "ticks": ""
             }
            },
            "type": "histogram"
           }
          ],
          "histogram2d": [
           {
            "colorbar": {
             "outlinewidth": 0,
             "ticks": ""
            },
            "colorscale": [
             [
              0,
              "#0d0887"
             ],
             [
              0.1111111111111111,
              "#46039f"
             ],
             [
              0.2222222222222222,
              "#7201a8"
             ],
             [
              0.3333333333333333,
              "#9c179e"
             ],
             [
              0.4444444444444444,
              "#bd3786"
             ],
             [
              0.5555555555555556,
              "#d8576b"
             ],
             [
              0.6666666666666666,
              "#ed7953"
             ],
             [
              0.7777777777777778,
              "#fb9f3a"
             ],
             [
              0.8888888888888888,
              "#fdca26"
             ],
             [
              1,
              "#f0f921"
             ]
            ],
            "type": "histogram2d"
           }
          ],
          "histogram2dcontour": [
           {
            "colorbar": {
             "outlinewidth": 0,
             "ticks": ""
            },
            "colorscale": [
             [
              0,
              "#0d0887"
             ],
             [
              0.1111111111111111,
              "#46039f"
             ],
             [
              0.2222222222222222,
              "#7201a8"
             ],
             [
              0.3333333333333333,
              "#9c179e"
             ],
             [
              0.4444444444444444,
              "#bd3786"
             ],
             [
              0.5555555555555556,
              "#d8576b"
             ],
             [
              0.6666666666666666,
              "#ed7953"
             ],
             [
              0.7777777777777778,
              "#fb9f3a"
             ],
             [
              0.8888888888888888,
              "#fdca26"
             ],
             [
              1,
              "#f0f921"
             ]
            ],
            "type": "histogram2dcontour"
           }
          ],
          "mesh3d": [
           {
            "colorbar": {
             "outlinewidth": 0,
             "ticks": ""
            },
            "type": "mesh3d"
           }
          ],
          "parcoords": [
           {
            "line": {
             "colorbar": {
              "outlinewidth": 0,
              "ticks": ""
             }
            },
            "type": "parcoords"
           }
          ],
          "pie": [
           {
            "automargin": true,
            "type": "pie"
           }
          ],
          "scatter": [
           {
            "marker": {
             "colorbar": {
              "outlinewidth": 0,
              "ticks": ""
             }
            },
            "type": "scatter"
           }
          ],
          "scatter3d": [
           {
            "line": {
             "colorbar": {
              "outlinewidth": 0,
              "ticks": ""
             }
            },
            "marker": {
             "colorbar": {
              "outlinewidth": 0,
              "ticks": ""
             }
            },
            "type": "scatter3d"
           }
          ],
          "scattercarpet": [
           {
            "marker": {
             "colorbar": {
              "outlinewidth": 0,
              "ticks": ""
             }
            },
            "type": "scattercarpet"
           }
          ],
          "scattergeo": [
           {
            "marker": {
             "colorbar": {
              "outlinewidth": 0,
              "ticks": ""
             }
            },
            "type": "scattergeo"
           }
          ],
          "scattergl": [
           {
            "marker": {
             "colorbar": {
              "outlinewidth": 0,
              "ticks": ""
             }
            },
            "type": "scattergl"
           }
          ],
          "scattermapbox": [
           {
            "marker": {
             "colorbar": {
              "outlinewidth": 0,
              "ticks": ""
             }
            },
            "type": "scattermapbox"
           }
          ],
          "scatterpolar": [
           {
            "marker": {
             "colorbar": {
              "outlinewidth": 0,
              "ticks": ""
             }
            },
            "type": "scatterpolar"
           }
          ],
          "scatterpolargl": [
           {
            "marker": {
             "colorbar": {
              "outlinewidth": 0,
              "ticks": ""
             }
            },
            "type": "scatterpolargl"
           }
          ],
          "scatterternary": [
           {
            "marker": {
             "colorbar": {
              "outlinewidth": 0,
              "ticks": ""
             }
            },
            "type": "scatterternary"
           }
          ],
          "surface": [
           {
            "colorbar": {
             "outlinewidth": 0,
             "ticks": ""
            },
            "colorscale": [
             [
              0,
              "#0d0887"
             ],
             [
              0.1111111111111111,
              "#46039f"
             ],
             [
              0.2222222222222222,
              "#7201a8"
             ],
             [
              0.3333333333333333,
              "#9c179e"
             ],
             [
              0.4444444444444444,
              "#bd3786"
             ],
             [
              0.5555555555555556,
              "#d8576b"
             ],
             [
              0.6666666666666666,
              "#ed7953"
             ],
             [
              0.7777777777777778,
              "#fb9f3a"
             ],
             [
              0.8888888888888888,
              "#fdca26"
             ],
             [
              1,
              "#f0f921"
             ]
            ],
            "type": "surface"
           }
          ],
          "table": [
           {
            "cells": {
             "fill": {
              "color": "#EBF0F8"
             },
             "line": {
              "color": "white"
             }
            },
            "header": {
             "fill": {
              "color": "#C8D4E3"
             },
             "line": {
              "color": "white"
             }
            },
            "type": "table"
           }
          ]
         },
         "layout": {
          "annotationdefaults": {
           "arrowcolor": "#2a3f5f",
           "arrowhead": 0,
           "arrowwidth": 1
          },
          "autotypenumbers": "strict",
          "coloraxis": {
           "colorbar": {
            "outlinewidth": 0,
            "ticks": ""
           }
          },
          "colorscale": {
           "diverging": [
            [
             0,
             "#8e0152"
            ],
            [
             0.1,
             "#c51b7d"
            ],
            [
             0.2,
             "#de77ae"
            ],
            [
             0.3,
             "#f1b6da"
            ],
            [
             0.4,
             "#fde0ef"
            ],
            [
             0.5,
             "#f7f7f7"
            ],
            [
             0.6,
             "#e6f5d0"
            ],
            [
             0.7,
             "#b8e186"
            ],
            [
             0.8,
             "#7fbc41"
            ],
            [
             0.9,
             "#4d9221"
            ],
            [
             1,
             "#276419"
            ]
           ],
           "sequential": [
            [
             0,
             "#0d0887"
            ],
            [
             0.1111111111111111,
             "#46039f"
            ],
            [
             0.2222222222222222,
             "#7201a8"
            ],
            [
             0.3333333333333333,
             "#9c179e"
            ],
            [
             0.4444444444444444,
             "#bd3786"
            ],
            [
             0.5555555555555556,
             "#d8576b"
            ],
            [
             0.6666666666666666,
             "#ed7953"
            ],
            [
             0.7777777777777778,
             "#fb9f3a"
            ],
            [
             0.8888888888888888,
             "#fdca26"
            ],
            [
             1,
             "#f0f921"
            ]
           ],
           "sequentialminus": [
            [
             0,
             "#0d0887"
            ],
            [
             0.1111111111111111,
             "#46039f"
            ],
            [
             0.2222222222222222,
             "#7201a8"
            ],
            [
             0.3333333333333333,
             "#9c179e"
            ],
            [
             0.4444444444444444,
             "#bd3786"
            ],
            [
             0.5555555555555556,
             "#d8576b"
            ],
            [
             0.6666666666666666,
             "#ed7953"
            ],
            [
             0.7777777777777778,
             "#fb9f3a"
            ],
            [
             0.8888888888888888,
             "#fdca26"
            ],
            [
             1,
             "#f0f921"
            ]
           ]
          },
          "colorway": [
           "#636efa",
           "#EF553B",
           "#00cc96",
           "#ab63fa",
           "#FFA15A",
           "#19d3f3",
           "#FF6692",
           "#B6E880",
           "#FF97FF",
           "#FECB52"
          ],
          "font": {
           "color": "#2a3f5f"
          },
          "geo": {
           "bgcolor": "white",
           "lakecolor": "white",
           "landcolor": "#E5ECF6",
           "showlakes": true,
           "showland": true,
           "subunitcolor": "white"
          },
          "hoverlabel": {
           "align": "left"
          },
          "hovermode": "closest",
          "mapbox": {
           "style": "light"
          },
          "paper_bgcolor": "white",
          "plot_bgcolor": "#E5ECF6",
          "polar": {
           "angularaxis": {
            "gridcolor": "white",
            "linecolor": "white",
            "ticks": ""
           },
           "bgcolor": "#E5ECF6",
           "radialaxis": {
            "gridcolor": "white",
            "linecolor": "white",
            "ticks": ""
           }
          },
          "scene": {
           "xaxis": {
            "backgroundcolor": "#E5ECF6",
            "gridcolor": "white",
            "gridwidth": 2,
            "linecolor": "white",
            "showbackground": true,
            "ticks": "",
            "zerolinecolor": "white"
           },
           "yaxis": {
            "backgroundcolor": "#E5ECF6",
            "gridcolor": "white",
            "gridwidth": 2,
            "linecolor": "white",
            "showbackground": true,
            "ticks": "",
            "zerolinecolor": "white"
           },
           "zaxis": {
            "backgroundcolor": "#E5ECF6",
            "gridcolor": "white",
            "gridwidth": 2,
            "linecolor": "white",
            "showbackground": true,
            "ticks": "",
            "zerolinecolor": "white"
           }
          },
          "shapedefaults": {
           "line": {
            "color": "#2a3f5f"
           }
          },
          "ternary": {
           "aaxis": {
            "gridcolor": "white",
            "linecolor": "white",
            "ticks": ""
           },
           "baxis": {
            "gridcolor": "white",
            "linecolor": "white",
            "ticks": ""
           },
           "bgcolor": "#E5ECF6",
           "caxis": {
            "gridcolor": "white",
            "linecolor": "white",
            "ticks": ""
           }
          },
          "title": {
           "x": 0.05
          },
          "xaxis": {
           "automargin": true,
           "gridcolor": "white",
           "linecolor": "white",
           "ticks": "",
           "title": {
            "standoff": 15
           },
           "zerolinecolor": "white",
           "zerolinewidth": 2
          },
          "yaxis": {
           "automargin": true,
           "gridcolor": "white",
           "linecolor": "white",
           "ticks": "",
           "title": {
            "standoff": 15
           },
           "zerolinecolor": "white",
           "zerolinewidth": 2
          }
         }
        }
       }
      }
     },
     "metadata": {}
    },
    {
     "output_type": "error",
     "ename": "IndexError",
     "evalue": "list index out of range",
     "traceback": [
      "\u001b[0;31m---------------------------------------------------------------------------\u001b[0m",
      "\u001b[0;31mIndexError\u001b[0m                                Traceback (most recent call last)",
      "\u001b[0;32m<ipython-input-15-a0b21855fb1c>\u001b[0m in \u001b[0;36m<module>\u001b[0;34m\u001b[0m\n\u001b[1;32m      4\u001b[0m \u001b[0mfig\u001b[0m\u001b[0;34m.\u001b[0m\u001b[0mshow\u001b[0m\u001b[0;34m(\u001b[0m\u001b[0;34m)\u001b[0m\u001b[0;34m\u001b[0m\u001b[0;34m\u001b[0m\u001b[0m\n\u001b[1;32m      5\u001b[0m \u001b[0;34m\u001b[0m\u001b[0m\n\u001b[0;32m----> 6\u001b[0;31m \u001b[0mprint\u001b[0m\u001b[0;34m(\u001b[0m\u001b[0mcompute_auc\u001b[0m\u001b[0;34m(\u001b[0m\u001b[0mhit_miss_rate\u001b[0m\u001b[0;34m[\u001b[0m\u001b[0;36m0\u001b[0m\u001b[0;34m]\u001b[0m\u001b[0;34m,\u001b[0m \u001b[0mhit_miss_rate\u001b[0m\u001b[0;34m[\u001b[0m\u001b[0;36m1\u001b[0m\u001b[0;34m]\u001b[0m\u001b[0;34m)\u001b[0m\u001b[0;34m)\u001b[0m\u001b[0;34m\u001b[0m\u001b[0;34m\u001b[0m\u001b[0m\n\u001b[0m\u001b[1;32m      7\u001b[0m \u001b[0;34m\u001b[0m\u001b[0m\n",
      "\u001b[0;32m~/protemp/MPC/ConflictDetection/alpha_test.py\u001b[0m in \u001b[0;36mcompute_auc\u001b[0;34m(xs, ys)\u001b[0m\n\u001b[1;32m     39\u001b[0m         \u001b[0;32mif\u001b[0m \u001b[0mi\u001b[0m \u001b[0;34m==\u001b[0m \u001b[0mlen\u001b[0m\u001b[0;34m(\u001b[0m\u001b[0mxs\u001b[0m\u001b[0;34m)\u001b[0m \u001b[0;34m-\u001b[0m \u001b[0;36m1\u001b[0m\u001b[0;34m:\u001b[0m\u001b[0;34m\u001b[0m\u001b[0;34m\u001b[0m\u001b[0m\n\u001b[1;32m     40\u001b[0m             \u001b[0;32mbreak\u001b[0m\u001b[0;34m\u001b[0m\u001b[0;34m\u001b[0m\u001b[0m\n\u001b[0;32m---> 41\u001b[0;31m         \u001b[0mauc\u001b[0m \u001b[0;34m+=\u001b[0m \u001b[0;34m(\u001b[0m\u001b[0mys\u001b[0m\u001b[0;34m[\u001b[0m\u001b[0mi\u001b[0m\u001b[0;34m]\u001b[0m \u001b[0;34m+\u001b[0m \u001b[0mys\u001b[0m\u001b[0;34m[\u001b[0m\u001b[0mi\u001b[0m\u001b[0;34m+\u001b[0m\u001b[0;36m1\u001b[0m\u001b[0;34m]\u001b[0m\u001b[0;34m)\u001b[0m \u001b[0;34m*\u001b[0m \u001b[0mabs\u001b[0m\u001b[0;34m(\u001b[0m\u001b[0mxs\u001b[0m\u001b[0;34m[\u001b[0m\u001b[0mi\u001b[0m\u001b[0;34m+\u001b[0m\u001b[0;36m1\u001b[0m\u001b[0;34m]\u001b[0m \u001b[0;34m-\u001b[0m \u001b[0mx\u001b[0m\u001b[0;34m)\u001b[0m \u001b[0;34m/\u001b[0m \u001b[0;36m2\u001b[0m\u001b[0;34m\u001b[0m\u001b[0;34m\u001b[0m\u001b[0m\n\u001b[0m\u001b[1;32m     42\u001b[0m     \u001b[0;32mreturn\u001b[0m \u001b[0mauc\u001b[0m\u001b[0;34m\u001b[0m\u001b[0;34m\u001b[0m\u001b[0m\n\u001b[1;32m     43\u001b[0m \u001b[0;34m\u001b[0m\u001b[0m\n",
      "\u001b[0;31mIndexError\u001b[0m: list index out of range"
     ]
    }
   ],
   "source": [
    "print(len(hit_miss_rate[0]))\n",
    "from alpha_test import compute_auc\n",
    "fig = go.Figure(data=go.Scatter(x=hit_miss_rate[0], y=hit_miss_rate[1], mode=\"lines+markers\"))\n",
    "fig.show()\n",
    "\n",
    "print(compute_auc(hit_miss_rate[0], hit_miss_rate[1]))\n",
    "\n"
   ]
  },
  {
   "cell_type": "code",
   "execution_count": 13,
   "metadata": {},
   "outputs": [
    {
     "output_type": "error",
     "ename": "IndexError",
     "evalue": "list index out of range",
     "traceback": [
      "\u001b[0;31m---------------------------------------------------------------------------\u001b[0m",
      "\u001b[0;31mIndexError\u001b[0m                                Traceback (most recent call last)",
      "\u001b[0;32m<ipython-input-13-02e7e6fc26c1>\u001b[0m in \u001b[0;36m<module>\u001b[0;34m\u001b[0m\n\u001b[1;32m     22\u001b[0m                 \u001b[0mresult\u001b[0m \u001b[0;34m=\u001b[0m \u001b[0mlist\u001b[0m\u001b[0;34m(\u001b[0m\u001b[0mr_tree\u001b[0m\u001b[0;34m.\u001b[0m\u001b[0mintersection\u001b[0m\u001b[0;34m(\u001b[0m\u001b[0;34m[\u001b[0m\u001b[0mi\u001b[0m\u001b[0;34m,\u001b[0m\u001b[0mj\u001b[0m\u001b[0;34m,\u001b[0m\u001b[0mi\u001b[0m\u001b[0;34m,\u001b[0m\u001b[0mj\u001b[0m\u001b[0;34m]\u001b[0m\u001b[0;34m,\u001b[0m \u001b[0mobjects\u001b[0m\u001b[0;34m=\u001b[0m\u001b[0;32mTrue\u001b[0m\u001b[0;34m)\u001b[0m\u001b[0;34m)\u001b[0m\u001b[0;34m\u001b[0m\u001b[0;34m\u001b[0m\u001b[0m\n\u001b[1;32m     23\u001b[0m \u001b[0;34m\u001b[0m\u001b[0m\n\u001b[0;32m---> 24\u001b[0;31m                 \u001b[0mon_rate_group\u001b[0m\u001b[0;34m[\u001b[0m\u001b[0mi\u001b[0m\u001b[0;34m,\u001b[0m\u001b[0mj\u001b[0m\u001b[0;34m]\u001b[0m \u001b[0;34m=\u001b[0m \u001b[0mresult\u001b[0m\u001b[0;34m[\u001b[0m\u001b[0;36m0\u001b[0m\u001b[0;34m]\u001b[0m\u001b[0;34m.\u001b[0m\u001b[0mobject\u001b[0m\u001b[0;34m\u001b[0m\u001b[0;34m\u001b[0m\u001b[0m\n\u001b[0m\u001b[1;32m     25\u001b[0m         fig.append_trace(\n\u001b[1;32m     26\u001b[0m             \u001b[0mgo\u001b[0m\u001b[0;34m.\u001b[0m\u001b[0mHeatmap\u001b[0m\u001b[0;34m(\u001b[0m\u001b[0mz\u001b[0m\u001b[0;34m=\u001b[0m\u001b[0mnp\u001b[0m\u001b[0;34m.\u001b[0m\u001b[0mtranspose\u001b[0m\u001b[0;34m(\u001b[0m\u001b[0mon_rate_group\u001b[0m\u001b[0;34m)\u001b[0m\u001b[0;34m)\u001b[0m\u001b[0;34m,\u001b[0m\u001b[0;34m\u001b[0m\u001b[0;34m\u001b[0m\u001b[0m\n",
      "\u001b[0;31mIndexError\u001b[0m: list index out of range"
     ]
    }
   ],
   "source": [
    "from rtree import index\n",
    "\n",
    "\n",
    "draw = {\n",
    "    \"HomeA/2016\": [\"Range\"],\n",
    "    \"HomeG/2016\": [\"Range\"],\n",
    "}\n",
    "fig = make_subplots(rows=sum([len(draw[x]) for x in draw]), cols=1)\n",
    "p = index.Property()\n",
    "p.dimension = len(ctx_info.get_all_ctx_ordered())\n",
    "row_id = 1\n",
    "for home in draw:\n",
    "    for d in draw[home]:\n",
    "        r_tree = index.Index(properties=p)\n",
    "        for i,x in enumerate(habit_groups[home][d]):\n",
    "            bound = x[\"box\"][0] + x[\"box\"][1] \n",
    "            r_tree.insert(id=i, coordinates=bound, obj=sum(x[\"dis\"]))\n",
    "        on_rate_group = np.full(ctx_info.get_ctx_space_shape(), -0.1)\n",
    "\n",
    "        for i in range(ctx_info.get_ctx_space_shape()[0]):\n",
    "            for j in range(ctx_info.get_ctx_space_shape()[1]):\n",
    "                result = list(r_tree.intersection([i,j,i,j], objects=True))\n",
    "\n",
    "                on_rate_group[i,j] = result[0].object\n",
    "        fig.append_trace(\n",
    "            go.Heatmap(z=np.transpose(on_rate_group)),\n",
    "            row_id, 1\n",
    "        )\n",
    "        row_id += 1\n",
    "fig.show()"
   ]
  },
  {
   "cell_type": "code",
   "execution_count": null,
   "metadata": {},
   "outputs": [],
   "source": [
    "from ConflictDetector import device_capacity_conflict\n",
    "print(ctx_info.get_space_area())\n",
    "print(ctx_info.get_ctx_space_shape())\n",
    "mins = ctx_info.get_coor_by_ctx({TIME_CTX:0, WEEKDAY_CTX:0})\n",
    "maxs = ctx_info.get_coor_by_ctx({TIME_CTX:24*60, WEEKDAY_CTX:6})\n",
    "print(compute_area([0,0, 72,6]))"
   ]
  },
  {
   "cell_type": "code",
   "execution_count": null,
   "metadata": {},
   "outputs": [],
   "source": []
  }
 ]
}
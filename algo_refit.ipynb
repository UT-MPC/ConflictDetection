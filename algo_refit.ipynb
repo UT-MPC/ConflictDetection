{
 "metadata": {
  "language_info": {
   "codemirror_mode": {
    "name": "ipython",
    "version": 3
   },
   "file_extension": ".py",
   "mimetype": "text/x-python",
   "name": "python",
   "nbconvert_exporter": "python",
   "pygments_lexer": "ipython3",
   "version": "3.7.6"
  },
  "orig_nbformat": 2,
  "kernelspec": {
   "name": "python3",
   "display_name": "Python 3.7.6 64-bit ('venv': venv)"
  },
  "metadata": {
   "interpreter": {
    "hash": "4fe898ffcadce6da2343864bf819ed3269e46dcfc725e07ab6320af456fe33e5"
   }
  },
  "interpreter": {
   "hash": "4fe898ffcadce6da2343864bf819ed3269e46dcfc725e07ab6320af456fe33e5"
  }
 },
 "nbformat": 4,
 "nbformat_minor": 2,
 "cells": [
  {
   "cell_type": "code",
   "execution_count": 1,
   "source": [
    "import json\n",
    "import os\n",
    "import numpy as np\n",
    "import math\n",
    "from typing import Dict, List, Tuple\n",
    "import copy\n",
    "from itertools import combinations\n",
    "\n",
    "from datetime import timedelta\n",
    "from config import *\n",
    "from utils import *\n",
    "from main import *\n",
    "from GtConflictFinder import GtConflictFinder\n",
    "from ConflictDetector import ConflictDetector, ConflictPredicator\n",
    "\n",
    "\n",
    "import plotly.graph_objects as go\n",
    "from plotly.subplots import make_subplots\n",
    "test_projects = [\n",
    "    \"House1\",\n",
    "    \"House3\",\n",
    "    \"House4\",\n",
    "    \"House8\",\n",
    "    \"House9\",\n",
    "    \"House15\",\n",
    "    \"House18\",\n",
    "    \"House20\",\n",
    "]\n",
    "ctx_info = ContextAccessor({\n",
    "            TIME_CTX: {\n",
    "                \"range\" : (0, 24*60),\n",
    "                \"interval\" : 20,\n",
    "            },\n",
    "            # \"humidity#NUM\" : {\n",
    "            #     \"range\" : (0., 1.0),\n",
    "            #     \"interval\" : 0.1,\n",
    "            # },\n",
    "            # \"apparentTemperature#NUM\" : {\n",
    "            #     \"range\" : (-10., 100),\n",
    "            #     \"interval\" : 10,\n",
    "            # },\n",
    "            # \"summary#CAT\": {},\n",
    "            WEEKDAY_CTX: {\n",
    "                \"range\": (0, 6),\n",
    "                \"interval\": 1,\n",
    "            },\n",
    "        })\n",
    "capacity = {\n",
    "    \"TV\":1,\n",
    "    \"WashingMachine\":1,\n",
    "    \"PC\": 1,\n",
    "}\n",
    "BOOL_SIM = False\n",
    "BOOL_UMASS= False\n",
    "test_dates = generate_test_date(test_projects, test_ratio = 0.3, true_random=False, is_sim=BOOL_SIM, is_umass=BOOL_UMASS)\n"
   ],
   "outputs": [],
   "metadata": {}
  },
  {
   "cell_type": "code",
   "execution_count": 2,
   "source": [
    "habit_groups = {}\n",
    "for p in test_projects:\n",
    "    habit_groups[p], grid_data = test_umass(test_project=p, ctx_info=ctx_info, ccp_alpha=5e-5, test_dates=test_dates, is_sim=BOOL_SIM, is_umass=BOOL_UMASS)"
   ],
   "outputs": [],
   "metadata": {
    "tags": []
   }
  },
  {
   "cell_type": "code",
   "execution_count": 3,
   "source": [
    "#Exps:\n",
    "#   1. Contrived environment with injected conflicts:\n",
    "#   2. Real dataset with groundtruth conflicts:\n",
    "#   3. observations about the algorithm: with different threshold, different capacity for the devices, different number of users."
   ],
   "outputs": [],
   "metadata": {}
  },
  {
   "cell_type": "code",
   "execution_count": 4,
   "source": [
    "for home, groups in habit_groups.items():\n",
    "    print(\"The habit groups found in {}\".format(home))\n",
    "    for d, d_groups in groups.items():\n",
    "        print(d + \" \" + str(len(d_groups)))\n",
    "        # for g in d_groups:\n",
    "        #     print(ctx_info.coor_box_to_range(g[\"box\"][0] + g[\"box\"][1]))\n",
    "        #     print(g[\"dis\"])\n"
   ],
   "outputs": [
    {
     "output_type": "stream",
     "name": "stdout",
     "text": [
      "The habit groups found in House1\n",
      "PC 14\n",
      "WashingMachine 5\n",
      "TV 30\n",
      "The habit groups found in House3\n",
      "WashingMachine 13\n",
      "TV 30\n",
      "The habit groups found in House4\n",
      "PC 7\n",
      "WashingMachine 1\n",
      "TV 46\n",
      "The habit groups found in House8\n",
      "PC 5\n",
      "WashingMachine 10\n",
      "TV 30\n",
      "The habit groups found in House9\n",
      "WashingMachine 7\n",
      "TV 27\n",
      "The habit groups found in House15\n",
      "TV 25\n",
      "WashingMachine 12\n",
      "The habit groups found in House18\n",
      "PC 18\n",
      "WashingMachine 9\n",
      "TV 29\n",
      "The habit groups found in House20\n",
      "PC 17\n",
      "WashingMachine 13\n",
      "TV 26\n"
     ]
    }
   ],
   "metadata": {
    "tags": []
   }
  },
  {
   "cell_type": "code",
   "execution_count": 5,
   "source": [
    "c_detector = ConflictDetector(ctx_info, capacity)\n",
    "final_conflicts = c_detector.predict_conflict_scenarios(habit_groups)\n",
    "print({x:len(final_conflicts[x]) for x in final_conflicts})"
   ],
   "outputs": [
    {
     "output_type": "stream",
     "name": "stdout",
     "text": [
      "{'TV': 2151, 'WashingMachine': 541, 'PC': 286}\n"
     ]
    }
   ],
   "metadata": {
    "tags": []
   }
  },
  {
   "cell_type": "code",
   "execution_count": 6,
   "source": [
    "import plotly.express as px\n",
    "# for x in final_conflicts[\"Window\"]:\n",
    "#     print((ctx_info.coor_box_to_range(x[\"box\"]),x[\"prob\"]))\n",
    "probs_i = [(x[\"prob\"], i) for i, x in enumerate(final_conflicts[\"TV\"])]\n",
    "# print(sorted(probs_i))\n",
    "# fig = px.histogram(probs)\n",
    "# fig.show()"
   ],
   "outputs": [],
   "metadata": {
    "tags": []
   }
  },
  {
   "cell_type": "code",
   "execution_count": 7,
   "source": [
    "import copy\n",
    "# Make ground truth:\n",
    "\n",
    "gt_ctx_info = ContextAccessor({\n",
    "            TIME_CTX: {\n",
    "                \"range\" : (0, 24*60),\n",
    "                \"interval\" : 20,\n",
    "            },\n",
    "            # \"humidity#NUM\" : {\n",
    "            #     \"range\" : (0., 1.0),\n",
    "            #     \"interval\" : 0.1,\n",
    "            # },\n",
    "            # \"apparentTemperature#NUM\" : {\n",
    "            #     \"range\" : (-10., 100),\n",
    "            #     \"interval\" : 10,\n",
    "            # },\n",
    "            # \"summary#CAT\": {},\n",
    "            WEEKDAY_CTX: {\n",
    "                \"range\": (0, 6),\n",
    "                \"interval\": 1,\n",
    "            },\n",
    "        })\n",
    "device_events = {}\n",
    "for p in test_projects:\n",
    "    ctx_evts, device_evts = load_processed(p, is_sim=BOOL_SIM, is_umass=BOOL_UMASS)\n",
    "    device_events[p] = device_evts\n",
    "\n",
    "gtconflict_cfg = {\n",
    "    \"context_info\": gt_ctx_info,\n",
    "    \"capacity\": capacity\n",
    "}\n",
    "# test_dates = generate_test_date(test_projects, test_ratio = 1., true_random=False, is_umass=BOOL_UMASS)\n",
    "\n",
    "conflict_finder = GtConflictFinder(gtconflict_cfg)\n",
    "gt_conflicts, test_state_cnt = conflict_finder.get_Gt_conflict(ctx_evts, device_events, test_dates)\n",
    "print(len(gt_conflicts))"
   ],
   "outputs": [
    {
     "output_type": "stream",
     "name": "stdout",
     "text": [
      "29650\n"
     ]
    }
   ],
   "metadata": {}
  },
  {
   "cell_type": "code",
   "execution_count": 9,
   "source": [
    "\n",
    "# TEST_RATIO = 0.3\n",
    "# conflict_time = [x['cur_time'] for x in conflicts]\n",
    "# end_time = max(conflict_time)\n",
    "# start_time = min(conflict_time)\n",
    "# print(start_time)\n",
    "# print(end_time)\n",
    "# total_time_range = end_time - start_time\n",
    "# test_start = end_time - total_time_range * TEST_RATIO\n",
    "# print(test_start)\n",
    "\n",
    "conflict_device = {\n",
    "    d:[]\n",
    "    for d in capacity\n",
    "}\n",
    "\n",
    "conflict_state_device = {\n",
    "    d:{}\n",
    "    for d in capacity\n",
    "}\n",
    "MIN_TEST_OBS = 20\n",
    "\n",
    "for c in gt_conflicts:\n",
    "    d = c[\"device\"]\n",
    "    conflict_device[d].append(c)\n",
    "    s = gt_ctx_info.get_coor_by_ctx(c[\"ctx\"])\n",
    "    users = frozenset(c[\"device_states\"].keys())\n",
    "    if test_state_cnt[d][s] < MIN_TEST_OBS:\n",
    "        continue\n",
    "    if s not in conflict_state_device[d]:\n",
    "        conflict_state_device[d][s] = {}\n",
    "    conflict_state_device[d][s][users] = conflict_state_device[d][s].get(users, 0) + 1\n",
    "\n",
    "    # if conflict_state_device[d][s][users] > test_state_cnt[d][s]:\n",
    "    #     print(conflict_state_device[d][s][users], test_state_cnt[d][s])\n",
    "    #     print(users, d, c[\"cur_time\"], s)\n",
    "    \n",
    "print({d:len(c) for d,c in conflict_device.items()})\n",
    "print({d:len(c) for d,c in conflict_state_device.items()})\n",
    "print(len(test_dates))"
   ],
   "outputs": [
    {
     "output_type": "stream",
     "name": "stdout",
     "text": [
      "{'TV': 28879, 'WashingMachine': 287, 'PC': 484}\n",
      "{'TV': 297, 'WashingMachine': 62, 'PC': 109}\n",
      "124\n"
     ]
    }
   ],
   "metadata": {
    "tags": []
   }
  },
  {
   "cell_type": "code",
   "execution_count": null,
   "source": [
    "all_users = test_projects\n",
    "all_devices = capacity.keys()\n",
    "user_pairs = list(combinations(all_users, 2))\n",
    "conflict_predicator = ConflictPredicator(ctx_info, final_conflicts)\n",
    "exp_cnt = 0\n",
    "exp_error = 0\n",
    "exp_gt_c = 0\n",
    "exp_result = {d:[0,0,0,0, 0] for d in all_devices}\n",
    "max_p = 0\n",
    "for d in all_devices:\n",
    "    it = np.nditer(test_state_cnt[d], flags=['multi_index'])\n",
    "    for count in it:\n",
    "        if count < MIN_TEST_OBS:\n",
    "            continue\n",
    "        state = it.multi_index\n",
    "        for u_pair in user_pairs:\n",
    "            gt_prob = 0.\n",
    "            if (d in conflict_state_device) and \\\n",
    "                (state in conflict_state_device[d]) and \\\n",
    "                (frozenset(u_pair) in conflict_state_device[d][state]):\n",
    "\n",
    "                gt_prob =  float(conflict_state_device[d][state][frozenset(u_pair)]) / count\n",
    "            gt_ctx_snapshot = gt_ctx_info.coor_to_snapshot(state)\n",
    "\n",
    "            pred_prob = conflict_predicator.get_prob_conflict(ctx_info.get_coor_by_ctx(gt_ctx_snapshot), u_pair, d)\n",
    "            exp_cnt += 1\n",
    "            if gt_prob > 0:\n",
    "                # if pred_prob <= 0.001:\n",
    "                #     print(ctx_info.coor_to_snapshot(state).values(), gt_prob, pred_prob)\n",
    "                exp_error += abs(pred_prob - gt_prob)\n",
    "                exp_gt_c += 1\n",
    "                exp_result[d][0] += abs(pred_prob - gt_prob)\n",
    "                exp_result[d][1] += 1\n",
    "                exp_result[d][4] += gt_prob\n",
    "                if gt_prob > 1:\n",
    "                    print(gt_prob, pred_prob, d, u_pair)\n",
    "                max_p = max(gt_prob, max_p)\n",
    "\n",
    "            else:\n",
    "                exp_result[d][2] += abs(pred_prob - gt_prob)\n",
    "                exp_result[d][3] += 1\n",
    "\n",
    "for d in exp_result:\n",
    "    exp_result[d].append((exp_result[d][0] + exp_result[d][2]) / (exp_result[d][1] + exp_result[d][3]))\n",
    "    if exp_result[d][1] > 0:\n",
    "        exp_result[d][0] = exp_result[d][0] / exp_result[d][1]\n",
    "        exp_result[d][4] = exp_result[d][4] / exp_result[d][1]\n",
    "    if exp_result[d][3] > 0:\n",
    "        exp_result[d][2] = exp_result[d][2] / exp_result[d][3]\n",
    "    \n",
    "print(max_p)\n",
    "print(exp_result)"
   ],
   "outputs": [],
   "metadata": {
    "tags": [
     "outputPrepend"
    ]
   }
  },
  {
   "cell_type": "code",
   "execution_count": null,
   "source": [
    "# missed_gt_conflicts = {d:[] for d in conflict_device}\n",
    "# hit_gt_conflicts = {d:{} for d in conflict_device}\n",
    "# for d in final_conflicts:\n",
    "#     hit_gt_conflicts[d] = {i:0 for i in range(len(final_conflicts[d]))}\n",
    "\n",
    "# prob_loss = {}\n",
    "# sum_pred = 0\n",
    "# sum_gt = 0\n",
    "# err = 0\n",
    "# cntt = 0\n",
    "# for d, conflicts_d in conflict_state_device.items():\n",
    "#     for s, conflicts in conflicts_d.items():\n",
    "#         for users, cnt in conflicts.items():\n",
    "#             flag = False\n",
    "#             for idx, c_predict in enumerate(final_conflicts[d]):\n",
    "#                 if not match_user_groups([x[0] for x in c_predict[\"users\"]], users):\n",
    "#                     continue\n",
    "#                 if does_contain_point(c_predict[\"box\"], s):\n",
    "#                     pred_prob = c_predict[\"prob\"]\n",
    "#                     gt_prob = float(cnt) / test_state_cnt[s]\n",
    "#                     sum_pred += pred_prob\n",
    "#                     sum_gt += gt_prob\n",
    "#                     err += abs(gt_prob - pred_prob)\n",
    "#                     cntt += 1\n",
    "#                     flag = True\n",
    "#             if not flag:\n",
    "#                 print(\"????\")\n",
    "# print()\n",
    "# print(sum_gt/cntt, sum_pred/cntt, err/cntt)\n",
    "\n"
   ],
   "outputs": [],
   "metadata": {
    "tags": []
   }
  },
  {
   "cell_type": "code",
   "execution_count": null,
   "source": [
    "# def match_pair(predicted_users, gt_users):\n",
    "#     return set(predicted_users) == set(gt_users)\n",
    "# missed_gt_conflicts = {d:[] for d in conflict_device}\n",
    "# hit_gt_conflicts = {d:{} for d in conflict_device}\n",
    "# for d in final_conflicts:\n",
    "#     hit_gt_conflicts[d] = {i:0 for i in range(len(final_conflicts[d]))}\n",
    "# for d, conflicts in conflict_device.items():\n",
    "#     for c in conflicts:\n",
    "#         coor = ctx_info.get_coor_by_ctx(c[\"ctx\"])\n",
    "#         flag = False\n",
    "#         for idx,c_predict in enumerate(final_conflicts[d]):\n",
    "#             if not match_user_groups([x[0] for x in c_predict[\"users\"]], c[\"device_states\"].keys()):\n",
    "#                 # print(c_predict[\"users\"], c[\"device_states\"])\n",
    "#                 continue\n",
    "#             if does_contain_point(c_predict[\"box\"], coor):\n",
    "#                 flag = True\n",
    "#                 hit_gt_conflicts[d][idx] += 1\n",
    "#                 break\n",
    "#         if not flag:\n",
    "#             missed_gt_conflicts[d].append(c)\n",
    "# print({d:len(missed_gt_conflicts[d]) for d in missed_gt_conflicts})\n",
    "# hit_count = {d:[0,0] for d in hit_gt_conflicts}\n",
    "# for d,hit_c in hit_gt_conflicts.items():\n",
    "#     for i,h in hit_c.items():\n",
    "#         if h == 0:\n",
    "#             hit_count[d][0] += 1\n",
    "#         else:\n",
    "#             hit_count[d][1] += 1\n",
    "# # print(hit_gt_conflicts[\"Microwave\"])\n",
    "# # print(final_conflicts[\"Microwave\"][14])\n",
    "# print(hit_count)"
   ],
   "outputs": [],
   "metadata": {
    "tags": []
   }
  },
  {
   "cell_type": "code",
   "execution_count": null,
   "source": [
    "import plotly.graph_objects as go\n",
    "from plotly.subplots import make_subplots\n",
    "\n",
    "draw_device = \"HomeOffice\"\n",
    "c_point = [[],[]]\n",
    "missed_point = [[], []]\n",
    "for c in conflict_device[draw_device]:\n",
    "    coor = ctx_info.get_coor_by_ctx(c[\"ctx\"])\n",
    "    c_point[0].append(coor[0])\n",
    "    c_point[1].append(coor[1])\n",
    "for c in missed_gt_conflicts[draw_device]:\n",
    "    coor = ctx_info.get_coor_by_ctx(c[\"ctx\"])\n",
    "    missed_point[0].append(coor[0])\n",
    "    missed_point[1].append(coor[1])\n",
    "fig = go.Figure(data=go.Scatter(x=c_point[0], y=c_point[1], mode=\"markers\"))\n",
    "fig.add_trace(go.Scatter(x=missed_point[0], y=missed_point[1], mode=\"markers\", marker=dict(color=\"red\")))\n",
    "\n",
    "for c in final_conflicts[draw_device]:\n",
    "    fig.add_shape(type=\"rect\",\n",
    "        x0=c[\"box\"][0], y0=c[\"box\"][1], x1=c[\"box\"][2], y1=c[\"box\"][3],\n",
    "        line=dict(color=\"RoyalBlue\"),\n",
    "    )\n",
    "fig.show()\n"
   ],
   "outputs": [],
   "metadata": {}
  },
  {
   "cell_type": "code",
   "execution_count": null,
   "source": [
    "hit_miss_rate = [[],[]]\n",
    "for prob_threshold in np.arange(0.0, 0.5, 0.001):\n",
    "    test_conflict = {\n",
    "        d: [x for x in final_conflicts[d] if x[\"prob\"] >= prob_threshold]\n",
    "        for d in final_conflicts\n",
    "    }\n",
    "    missed_gt_conflicts = {d:[] for d in conflict_device}\n",
    "    hit_gt_conflicts = {d:{} for d in conflict_device}\n",
    "    for d in test_conflict:\n",
    "        hit_gt_conflicts[d] = {i:0 for i in range(len(test_conflict[d]))}\n",
    "    for d, conflicts in conflict_device.items():\n",
    "        for c in conflicts:\n",
    "            coor = ctx_info.get_coor_by_ctx(c[\"ctx\"])\n",
    "            flag = False\n",
    "            for idx,c_predict in enumerate(test_conflict[d]):\n",
    "                if does_contain_point(c_predict[\"box\"], coor):\n",
    "                    flag = True\n",
    "                    hit_gt_conflicts[d][idx] += 1\n",
    "                    break\n",
    "            if not flag:\n",
    "                missed_gt_conflicts[d].append(c)\n",
    "    all_missed_gt_conflicts = sum([len(x) for d,x in missed_gt_conflicts.items()])\n",
    "    all_gt_conflicts = sum([len(x) for d,x in conflict_device.items()])\n",
    "    hit_miss_rate[0].append(1.0 - float(all_missed_gt_conflicts) / all_gt_conflicts)\n",
    "    # print({d:len(missed_gt_conflicts[d]) for d in missed_gt_conflicts})\n",
    "    all_pred_conflicts = 0\n",
    "    all_missed_pred_conflicts = 0\n",
    "    hit_count = {d:[0,0] for d in hit_gt_conflicts}\n",
    "    for d,hit_c in hit_gt_conflicts.items():\n",
    "        for i,h in hit_c.items():\n",
    "            all_pred_conflicts += 1\n",
    "            if h == 0:\n",
    "                all_missed_pred_conflicts += 1\n",
    "                hit_count[d][0] += 1\n",
    "            else:\n",
    "                hit_count[d][1] += 1\n",
    "    if all_pred_conflicts == 0:\n",
    "        break\n",
    "    hit_miss_rate[1].append(1.0 - float(all_missed_pred_conflicts) / all_pred_conflicts)\n",
    "    # print(hit_count)\n"
   ],
   "outputs": [],
   "metadata": {
    "tags": []
   }
  },
  {
   "cell_type": "code",
   "execution_count": null,
   "source": [
    "print(len(hit_miss_rate[0]))\n",
    "from alpha_test import compute_auc\n",
    "fig = go.Figure(data=go.Scatter(x=hit_miss_rate[0], y=hit_miss_rate[1], mode=\"lines+markers\"))\n",
    "fig.show()\n",
    "\n",
    "print(compute_auc(hit_miss_rate[0], hit_miss_rate[1]))\n",
    "\n"
   ],
   "outputs": [],
   "metadata": {}
  },
  {
   "cell_type": "code",
   "execution_count": null,
   "source": [
    "from rtree import index\n",
    "\n",
    "\n",
    "draw = {\n",
    "    \"HomeA/2016\": [\"Range\"],\n",
    "    \"HomeG/2016\": [\"Range\"],\n",
    "}\n",
    "fig = make_subplots(rows=sum([len(draw[x]) for x in draw]), cols=1)\n",
    "p = index.Property()\n",
    "p.dimension = len(ctx_info.get_all_ctx_ordered())\n",
    "row_id = 1\n",
    "for home in draw:\n",
    "    for d in draw[home]:\n",
    "        r_tree = index.Index(properties=p)\n",
    "        for i,x in enumerate(habit_groups[home][d]):\n",
    "            bound = x[\"box\"][0] + x[\"box\"][1] \n",
    "            r_tree.insert(id=i, coordinates=bound, obj=sum(x[\"dis\"]))\n",
    "        on_rate_group = np.full(ctx_info.get_ctx_space_shape(), -0.1)\n",
    "\n",
    "        for i in range(ctx_info.get_ctx_space_shape()[0]):\n",
    "            for j in range(ctx_info.get_ctx_space_shape()[1]):\n",
    "                result = list(r_tree.intersection([i,j,i,j], objects=True))\n",
    "\n",
    "                on_rate_group[i,j] = result[0].object\n",
    "        fig.append_trace(\n",
    "            go.Heatmap(z=np.transpose(on_rate_group)),\n",
    "            row_id, 1\n",
    "        )\n",
    "        row_id += 1\n",
    "fig.show()"
   ],
   "outputs": [],
   "metadata": {}
  },
  {
   "cell_type": "code",
   "execution_count": null,
   "source": [
    "from ConflictDetector import device_capacity_conflict\n",
    "print(ctx_info.get_space_area())\n",
    "print(ctx_info.get_ctx_space_shape())\n",
    "mins = ctx_info.get_coor_by_ctx({TIME_CTX:0, WEEKDAY_CTX:0})\n",
    "maxs = ctx_info.get_coor_by_ctx({TIME_CTX:24*60, WEEKDAY_CTX:6})\n",
    "print(compute_area([0,0, 72,6]))"
   ],
   "outputs": [],
   "metadata": {}
  },
  {
   "cell_type": "code",
   "execution_count": null,
   "source": [],
   "outputs": [],
   "metadata": {}
  }
 ]
}
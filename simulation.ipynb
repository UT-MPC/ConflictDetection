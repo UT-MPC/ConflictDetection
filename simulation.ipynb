{
 "metadata": {
  "language_info": {
   "codemirror_mode": {
    "name": "ipython",
    "version": 3
   },
   "file_extension": ".py",
   "mimetype": "text/x-python",
   "name": "python",
   "nbconvert_exporter": "python",
   "pygments_lexer": "ipython3",
   "version": "3.7.6"
  },
  "orig_nbformat": 4,
  "kernelspec": {
   "name": "python3",
   "display_name": "Python 3.7.6 64-bit ('venv': venv)"
  },
  "interpreter": {
   "hash": "4fe898ffcadce6da2343864bf819ed3269e46dcfc725e07ab6320af456fe33e5"
  }
 },
 "nbformat": 4,
 "nbformat_minor": 2,
 "cells": [
  {
   "cell_type": "code",
   "execution_count": 3,
   "metadata": {
    "tags": []
   },
   "outputs": [],
   "source": [
    "from sim_data_prepare import *\n",
    "import json\n",
    "import os\n",
    "import numpy as np\n",
    "import math\n",
    "\n",
    "\n",
    "from config import *\n",
    "from utils import *\n",
    "from ContextAccessor import ContextAccessor\n",
    "from main import *\n",
    "\n",
    "\n",
    "ctx_input_project = \"HomeA/2016\"\n",
    "project = \"HomeB/2016\"\n",
    "ctx_info = ContextAccessor({\n",
    "            TIME_CTX: {\n",
    "                \"range\" : (0, 24*60),\n",
    "                \"interval\" : 30,\n",
    "            },\n",
    "            \"humidity#NUM\" : {\n",
    "                \"range\" : (0., 1.0),\n",
    "                \"interval\" : 0.1,\n",
    "            },\n",
    "            \"apparentTemperature#NUM\" : {\n",
    "                \"range\" : (-10., 100),\n",
    "                \"interval\" : 10,\n",
    "            },\n",
    "            \"summary#CAT\": {},\n",
    "            WEEKDAY_CTX: {\n",
    "                \"range\": (0, 6),\n",
    "                \"interval\": 1,\n",
    "            },\n",
    "        })\n",
    "ctx_evts, device_evts = load_processed(ctx_input_project)\n",
    "project_path = os.path.join(DATA_ROOT, UMASS_ROOT, project)\n",
    "\n",
    "generate_sim_data(ctx_evts, ctx_info, project_path, sim_device_b)"
   ]
  },
  {
   "cell_type": "code",
   "execution_count": null,
   "metadata": {},
   "outputs": [],
   "source": []
  }
 ]
}
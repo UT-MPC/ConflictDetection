{
 "metadata": {
  "language_info": {
   "codemirror_mode": {
    "name": "ipython",
    "version": 3
   },
   "file_extension": ".py",
   "mimetype": "text/x-python",
   "name": "python",
   "nbconvert_exporter": "python",
   "pygments_lexer": "ipython3",
   "version": "3.7.6"
  },
  "orig_nbformat": 2,
  "kernelspec": {
   "name": "python3",
   "display_name": "Python 3.7.6 64-bit ('venv': venv)"
  },
  "metadata": {
   "interpreter": {
    "hash": "4fe898ffcadce6da2343864bf819ed3269e46dcfc725e07ab6320af456fe33e5"
   }
  },
  "interpreter": {
   "hash": "4fe898ffcadce6da2343864bf819ed3269e46dcfc725e07ab6320af456fe33e5"
  }
 },
 "nbformat": 4,
 "nbformat_minor": 2,
 "cells": [
  {
   "cell_type": "code",
   "execution_count": 1,
   "source": [
    "import os\n",
    "os.chdir(\"..\")"
   ],
   "outputs": [],
   "metadata": {}
  },
  {
   "cell_type": "code",
   "execution_count": 110,
   "source": [
    "\n",
    "import json\n",
    "import numpy as np\n",
    "import math\n",
    "from typing import Dict, List, Tuple\n",
    "import copy\n",
    "from itertools import combinations\n",
    "from collections import Counter\n",
    "\n",
    "import logging\n",
    "from datetime import timedelta\n",
    "from config import *\n",
    "from utils import *\n",
    "from main import *\n",
    "from GtConflictFinder import GtConflictFinder\n",
    "from ConflictDetector import ConflictDetector, ConflictPredicator\n",
    "\n",
    "\n",
    "import plotly.graph_objects as go\n",
    "from plotly.subplots import make_subplots\n",
    "\n",
    "test_projects = [\n",
    "    # \"House1\",\n",
    "    \"House3\",\n",
    "    \"House4\",\n",
    "    \"House8\",\n",
    "    \"House9\",\n",
    "    \"House15\",\n",
    "    # \"House18\",\n",
    "    # \"House20\",\n",
    "]\n",
    "ctx_info = ContextAccessor({\n",
    "            TIME_CTX: {\n",
    "                \"range\" : (0, 24*60),\n",
    "                \"interval\" : 60,\n",
    "            },\n",
    "            # \"humidity#NUM\" : {\n",
    "            #     \"range\" : (0, 100),\n",
    "            #     \"interval\" : 10,\n",
    "            # },\n",
    "            # \"FeelsLikeC#NUM\" : {\n",
    "            #     \"range\" : (-10., 40),\n",
    "            #     \"interval\" : 5,\n",
    "            # },\n",
    "            # \"tempC#NUM\" : {\n",
    "            #     \"range\" : (-10., 40),\n",
    "            #     \"interval\" : 5,\n",
    "            # },\n",
    "            # \"weatherDesc#CAT\": {},\n",
    "            # WEEKDAY_CTX: {\n",
    "            #     \"range\": (0, 6),\n",
    "            #     \"interval\": 1,\n",
    "            # },\n",
    "            # HOLIDAY_CTX: {\n",
    "            #     \"range\": (0,1),\n",
    "            #     \"interval\": 1,\n",
    "            # }\n",
    "        })\n",
    "capacity = {\n",
    "    \"TV\":1,\n",
    "    \"WashingMachine\":1,\n",
    "    \"PC\": 1,\n",
    "}\n",
    "BOOL_SIM = False\n",
    "BOOL_UMASS= False\n",
    "ccp_alpha = 2e-4\n",
    "test_dates = generate_test_date(test_projects, test_ratio = 0.4, true_random=False, is_sim=BOOL_SIM, is_umass=BOOL_UMASS)\n",
    "# test_dates = []\n"
   ],
   "outputs": [],
   "metadata": {}
  },
  {
   "cell_type": "code",
   "execution_count": 111,
   "source": [
    "habit_groups = {}\n",
    "for p in test_projects:\n",
    "    habit_groups[p], grid_data = test_umass(test_project=p, ctx_info=ctx_info, ccp_alpha=ccp_alpha, test_dates=test_dates, is_sim=BOOL_SIM, is_umass=BOOL_UMASS)"
   ],
   "outputs": [],
   "metadata": {
    "tags": []
   }
  },
  {
   "cell_type": "code",
   "execution_count": 112,
   "source": [
    "#Exps:\n",
    "#   1. Contrived environment with injected conflicts:\n",
    "#   2. Real dataset with groundtruth conflicts:\n",
    "#   3. observations about the algorithm: with different threshold, different capacity for the devices, different number of users."
   ],
   "outputs": [],
   "metadata": {}
  },
  {
   "cell_type": "code",
   "execution_count": 113,
   "source": [
    "for home, groups in habit_groups.items():\n",
    "    print(\"The habit groups found in {}\".format(home))\n",
    "    for d, d_groups in groups.items():\n",
    "        print(d + \" \" + str(len(d_groups)))\n",
    "        # if d != \"TV\":\n",
    "        #     continue\n",
    "        # for g in d_groups:\n",
    "        #     print(ctx_info.coor_box_to_range(g[\"box\"][0] + g[\"box\"][1]))\n",
    "        #     print(g[\"dis\"])\n"
   ],
   "outputs": [
    {
     "output_type": "stream",
     "name": "stdout",
     "text": [
      "The habit groups found in House3\n",
      "WashingMachine 5\n",
      "TV 12\n",
      "The habit groups found in House4\n",
      "PC 3\n",
      "WashingMachine 1\n",
      "TV 13\n",
      "The habit groups found in House8\n",
      "PC 2\n",
      "WashingMachine 3\n",
      "TV 6\n",
      "The habit groups found in House9\n",
      "WashingMachine 2\n",
      "TV 10\n",
      "The habit groups found in House15\n",
      "TV 10\n",
      "WashingMachine 1\n"
     ]
    }
   ],
   "metadata": {
    "tags": []
   }
  },
  {
   "cell_type": "code",
   "execution_count": 114,
   "source": [
    "c_detector = ConflictDetector(ctx_info, capacity)\n",
    "final_conflicts = c_detector.predict_conflict_scenarios(habit_groups)\n",
    "print({x:len(final_conflicts[x]) for x in final_conflicts})"
   ],
   "outputs": [
    {
     "output_type": "stream",
     "name": "stdout",
     "text": [
      "{'TV': 171, 'WashingMachine': 37, 'PC': 4}\n"
     ]
    }
   ],
   "metadata": {
    "tags": []
   }
  },
  {
   "cell_type": "code",
   "execution_count": 115,
   "source": [
    "import plotly.express as px\n",
    "# for x in final_conflicts[\"Window\"]:\n",
    "#     print((ctx_info.coor_box_to_range(x[\"box\"]),x[\"prob\"]))\n",
    "probs_i = [(x[\"prob\"], i) for i, x in enumerate(final_conflicts[\"TV\"])]\n",
    "# print(sorted(probs_i))\n",
    "# fig = px.histogram(probs)\n",
    "# fig.show()"
   ],
   "outputs": [],
   "metadata": {
    "tags": []
   }
  },
  {
   "cell_type": "code",
   "execution_count": 116,
   "source": [
    "import copy\n",
    "# Make ground truth:\n",
    "\n",
    "gt_ctx_info = ContextAccessor({\n",
    "            TIME_CTX: {\n",
    "                \"range\" : (0, 24*60),\n",
    "                \"interval\" : 60,\n",
    "            },\n",
    "            # \"humidity#NUM\" : {\n",
    "            #     \"range\" : (0, 100),\n",
    "            #     \"interval\" : 10,\n",
    "            # },\n",
    "            # \"FeelsLikeC#NUM\" : {\n",
    "            #     \"range\" : (-10., 40),\n",
    "            #     \"interval\" : 5,\n",
    "            # },\n",
    "            # \"tempC#NUM\" : {\n",
    "            #     \"range\" : (-10., 40),\n",
    "            #     \"interval\" : 5,\n",
    "            # },\n",
    "            \"weatherDesc#CAT\": {},\n",
    "            # WEEKDAY_CTX: {\n",
    "            #     \"range\": (0, 6),\n",
    "            #     \"interval\": 1,\n",
    "            # },\n",
    "            # HOLIDAY_CTX: {\n",
    "            #     \"range\": (0,1),\n",
    "            #     \"interval\": 1,\n",
    "            # },\n",
    "        })\n",
    "device_events = {}\n",
    "for p in test_projects:\n",
    "    ctx_evts, device_evts = load_processed(p, is_sim=BOOL_SIM, is_umass=BOOL_UMASS)\n",
    "    device_events[p] = device_evts\n",
    "\n",
    "gtconflict_cfg = {\n",
    "    \"context_info\": gt_ctx_info,\n",
    "    \"capacity\": capacity\n",
    "}\n",
    "# test_dates = {}\n",
    "\n",
    "conflict_finder = GtConflictFinder(gtconflict_cfg)\n",
    "gt_conflicts, test_state_cnt = conflict_finder.get_Gt_conflict(ctx_evts, device_events, test_dates)\n",
    "print(len(gt_conflicts))"
   ],
   "outputs": [
    {
     "output_type": "stream",
     "name": "stdout",
     "text": [
      "6309\n"
     ]
    }
   ],
   "metadata": {}
  },
  {
   "cell_type": "code",
   "execution_count": 117,
   "source": [
    "\n",
    "# TEST_RATIO = 0.3\n",
    "# conflict_time = [x['cur_time'] for x in conflicts]\n",
    "# end_time = max(conflict_time)\n",
    "# start_time = min(conflict_time)\n",
    "# print(start_time)\n",
    "# print(end_time)\n",
    "# total_time_range = end_time - start_time\n",
    "# test_start = end_time - total_time_range * TEST_RATIO\n",
    "# print(test_start)\n",
    "\n",
    "conflict_device = {\n",
    "    d:[]\n",
    "    for d in capacity\n",
    "}\n",
    "\n",
    "conflict_state_device = {\n",
    "    d:{}\n",
    "    for d in capacity\n",
    "}\n",
    "MIN_TEST_OBS = 20\n",
    "cnts = []\n",
    "for c in gt_conflicts:\n",
    "    d = c[\"device\"]\n",
    "    conflict_device[d].append(c)\n",
    "    s = gt_ctx_info.get_coor_by_ctx(c[\"ctx\"])\n",
    "    users = frozenset(c[\"device_states\"].keys())\n",
    "    cnts.append(test_state_cnt[d][s])\n",
    "    if test_state_cnt[d][s] < MIN_TEST_OBS:\n",
    "        continue\n",
    "    if s not in conflict_state_device[d]:\n",
    "        conflict_state_device[d][s] = {}\n",
    "    conflict_state_device[d][s][users] = conflict_state_device[d][s].get(users, 0) + 1\n",
    "\n",
    "    # if conflict_state_device[d][s][users] > test_state_cnt[d][s]:\n",
    "    #     print(conflict_state_device[d][s][users], test_state_cnt[d][s])\n",
    "    #     print(users, d, c[\"cur_time\"], s)\n",
    "    \n",
    "print({d:len(c) for d,c in conflict_device.items()})\n",
    "print({d:len(c) for d,c in conflict_state_device.items()})\n",
    "print(len(test_dates))\n",
    "print(Counter(cnts))"
   ],
   "outputs": [
    {
     "output_type": "stream",
     "name": "stdout",
     "text": [
      "{'TV': 6223, 'WashingMachine': 85, 'PC': 1}\n",
      "{'TV': 56, 'WashingMachine': 30, 'PC': 1}\n",
      "203\n",
      "Counter({123.0: 1526, 101.0: 1381, 66.0: 767, 58.0: 625, 27.0: 319, 106.0: 267, 136.0: 206, 14.0: 205, 47.0: 135, 7.0: 130, 53.0: 124, 104.0: 117, 46.0: 111, 6.0: 84, 103.0: 76, 113.0: 44, 37.0: 38, 1.0: 31, 39.0: 26, 54.0: 22, 36.0: 22, 10.0: 15, 41.0: 13, 3.0: 10, 8.0: 7, 2.0: 5, 29.0: 1, 88.0: 1, 11.0: 1})\n"
     ]
    }
   ],
   "metadata": {
    "tags": []
   }
  },
  {
   "cell_type": "code",
   "execution_count": 118,
   "source": [
    "all_users = test_projects\n",
    "all_devices = capacity.keys()\n",
    "user_pairs = list(combinations(all_users, 2))\n",
    "conflict_predicator = ConflictPredicator(ctx_info, final_conflicts)\n",
    "exp_cnt = 0\n",
    "exp_gt_c = 0\n",
    "exp_result = {d:[0,0,0,0,0] for d in all_devices}\n",
    "max_p = 0\n",
    "all_state_cnt = 0\n",
    "for d in all_devices:\n",
    "    it = np.nditer(test_state_cnt[d], flags=['multi_index'])\n",
    "    for count in it:\n",
    "        all_state_cnt += count\n",
    "        if count < MIN_TEST_OBS:\n",
    "            continue\n",
    "        state = it.multi_index\n",
    "        for u_pair in user_pairs:\n",
    "            gt_prob = 0.\n",
    "            if (d in conflict_state_device) and \\\n",
    "                (state in conflict_state_device[d]) and \\\n",
    "                (frozenset(u_pair) in conflict_state_device[d][state]):\n",
    "\n",
    "                gt_prob =  float(conflict_state_device[d][state][frozenset(u_pair)]) / count\n",
    "            gt_ctx_snapshot = gt_ctx_info.coor_to_snapshot(state)\n",
    "\n",
    "            pred_prob = conflict_predicator.get_prob_conflict(ctx_info.get_coor_by_ctx(gt_ctx_snapshot), u_pair, d)\n",
    "            exp_cnt += 1\n",
    "            if gt_prob > 0:\n",
    "                # if gt_prob > 0.5:\n",
    "                #     print(gt_ctx_info.coor_to_snapshot(state).values(), gt_prob, pred_prob, u_pair)\n",
    "                exp_gt_c += 1\n",
    "                exp_result[d][0] += abs(pred_prob - gt_prob)\n",
    "                exp_result[d][1] += 1\n",
    "                exp_result[d][4] += gt_prob\n",
    "                if gt_prob > 1:\n",
    "                    print(gt_prob, pred_prob, d, u_pair)\n",
    "                max_p = max(gt_prob, max_p)\n",
    "\n",
    "            else:\n",
    "                exp_result[d][2] += pred_prob - gt_prob\n",
    "                exp_result[d][3] += 1\n",
    "\n",
    "for d in exp_result:\n",
    "    exp_result[d].append((exp_result[d][0] + exp_result[d][2]) / (exp_result[d][1] + exp_result[d][3]))\n",
    "    if exp_result[d][1] > 0:\n",
    "        exp_result[d][0] = exp_result[d][0] / exp_result[d][1]\n",
    "        exp_result[d][4] = exp_result[d][4] / exp_result[d][1]\n",
    "    if exp_result[d][3] > 0:\n",
    "        exp_result[d][2] = exp_result[d][2] / exp_result[d][3]\n",
    "    \n",
    "print(max_p)\n",
    "print(exp_result)\n",
    "print(all_state_cnt)"
   ],
   "outputs": [
    {
     "output_type": "stream",
     "name": "stdout",
     "text": [
      "0.7037037037037037\n",
      "{'TV': [0.0455070010026292, 403, 0.002236702556416019, 287, 0.18902536598890066, 0.02750906527210285], 'WashingMachine': [0.015810878650117165, 58, 0.0007884408026943219, 632, 0.018806538920318767, 0.0020511964478400102], 'PC': [0.007314298931541169, 1, 3.0476421730008037e-05, 689, 0.009615384615384616, 4.103268623698073e-05]}\n",
      "14582.0\n"
     ]
    }
   ],
   "metadata": {
    "tags": [
     "outputPrepend"
    ]
   }
  },
  {
   "cell_type": "markdown",
   "source": [
    "Run grid search for the optimal ccp_alpha"
   ],
   "metadata": {}
  },
  {
   "cell_type": "code",
   "execution_count": null,
   "source": [
    "from refit_alpha_test import *\n",
    "\n",
    "ctx_info = ContextAccessor({\n",
    "            TIME_CTX: {\n",
    "                \"range\" : (0, 24*60),\n",
    "                \"interval\" : 60,\n",
    "            },\n",
    "            # \"humidity#NUM\" : {\n",
    "            #     \"range\" : (0, 100),\n",
    "            #     \"interval\" : 10,\n",
    "            # },\n",
    "            # \"FeelsLikeC#NUM\" : {\n",
    "            #     \"range\" : (-10., 40),\n",
    "            #     \"interval\" : 5,\n",
    "            # },\n",
    "            # \"tempC#NUM\" : {\n",
    "            #     \"range\" : (-10., 40),\n",
    "            #     \"interval\" : 5,\n",
    "            # },\n",
    "            # \"weatherDesc#CAT\": {},\n",
    "            # WEEKDAY_CTX: {\n",
    "            #     \"range\": (0, 6),\n",
    "            #     \"interval\": 1,\n",
    "            # },\n",
    "            # HOLIDAY_CTX: {\n",
    "            #     \"range\": (0,1),\n",
    "            #     \"interval\": 1,\n",
    "            # },\n",
    "        })\n",
    "gt_ctx_info = ContextAccessor({\n",
    "            TIME_CTX: {\n",
    "                \"range\" : (0, 24*60),\n",
    "                \"interval\" : 60,\n",
    "            },\n",
    "            # \"humidity#NUM\" : {\n",
    "            #     \"range\" : (0, 100),\n",
    "            #     \"interval\" : 10,\n",
    "            # },\n",
    "            # \"FeelsLikeC#NUM\" : {\n",
    "            #     \"range\" : (-10., 40),\n",
    "            #     \"interval\" : 5,\n",
    "            # },\n",
    "            # \"tempC#NUM\" : {\n",
    "            #     \"range\" : (-10., 40),\n",
    "            #     \"interval\" : 5,\n",
    "            # },\n",
    "            \"weatherDesc#CAT\": {},\n",
    "            # WEEKDAY_CTX: {\n",
    "            #     \"range\": (0, 6),\n",
    "            #     \"interval\": 1,\n",
    "            # },\n",
    "            # HOLIDAY_CTX: {\n",
    "            #     \"range\": (0,1),\n",
    "            #     \"interval\": 1,\n",
    "            # },\n",
    "        })\n",
    "\n",
    "\n",
    "def alpha_nonLinear_generator(alpha_min, alpha_max, alpha_step):\n",
    "    auc_values = []\n",
    "    alpha = alpha_min\n",
    "    while alpha <= alpha_max:\n",
    "        yield alpha\n",
    "        if alpha_step <= alpha / 10:\n",
    "            alpha_step *= 10\n",
    "        alpha += alpha_step\n",
    "\n",
    "print(\"Run test accuracy for context \" + str(ctx_info.get_all_ctx_ordered()))\n",
    "alpha_generator = alpha_nonLinear_generator(1e-7, 0.001, 1e-7)\n",
    "acc_values = test_acc_alpha(ctx_info, gt_ctx_info, alpha_generator)\n"
   ],
   "outputs": [
    {
     "output_type": "stream",
     "name": "stdout",
     "text": [
      "Run test accuracy for context ['min_of_day#NUM']\n"
     ]
    },
    {
     "output_type": "error",
     "ename": "TypeError",
     "evalue": "'<' not supported between instances of 'str' and 'datetime.datetime'",
     "traceback": [
      "\u001b[0;31m---------------------------------------------------------------------------\u001b[0m",
      "\u001b[0;31mTypeError\u001b[0m                                 Traceback (most recent call last)",
      "\u001b[0;32m<ipython-input-11-35c60bdc6547>\u001b[0m in \u001b[0;36m<module>\u001b[0;34m\u001b[0m\n\u001b[1;32m     68\u001b[0m \u001b[0mprint\u001b[0m\u001b[0;34m(\u001b[0m\u001b[0;34m\"Run test accuracy for context \"\u001b[0m \u001b[0;34m+\u001b[0m \u001b[0mstr\u001b[0m\u001b[0;34m(\u001b[0m\u001b[0mctx_info\u001b[0m\u001b[0;34m.\u001b[0m\u001b[0mget_all_ctx_ordered\u001b[0m\u001b[0;34m(\u001b[0m\u001b[0;34m)\u001b[0m\u001b[0;34m)\u001b[0m\u001b[0;34m)\u001b[0m\u001b[0;34m\u001b[0m\u001b[0;34m\u001b[0m\u001b[0m\n\u001b[1;32m     69\u001b[0m \u001b[0malpha_generator\u001b[0m \u001b[0;34m=\u001b[0m \u001b[0malpha_nonLinear_generator\u001b[0m\u001b[0;34m(\u001b[0m\u001b[0;36m1e-7\u001b[0m\u001b[0;34m,\u001b[0m \u001b[0;36m0.001\u001b[0m\u001b[0;34m,\u001b[0m \u001b[0;36m1e-7\u001b[0m\u001b[0;34m)\u001b[0m\u001b[0;34m\u001b[0m\u001b[0;34m\u001b[0m\u001b[0m\n\u001b[0;32m---> 70\u001b[0;31m \u001b[0macc_values\u001b[0m \u001b[0;34m=\u001b[0m \u001b[0mtest_acc_alpha\u001b[0m\u001b[0;34m(\u001b[0m\u001b[0mctx_info\u001b[0m\u001b[0;34m,\u001b[0m \u001b[0mgt_ctx_info\u001b[0m\u001b[0;34m,\u001b[0m \u001b[0malpha_generator\u001b[0m\u001b[0;34m)\u001b[0m\u001b[0;34m\u001b[0m\u001b[0;34m\u001b[0m\u001b[0m\n\u001b[0m",
      "\u001b[0;32m~/protemp/MPC/ConflictDetection/exps/refit_alpha_test.py\u001b[0m in \u001b[0;36mtest_acc_alpha\u001b[0;34m(ctx_info, gt_ctx_info, alpha_generator)\u001b[0m\n\u001b[1;32m     56\u001b[0m \u001b[0;34m\u001b[0m\u001b[0m\n\u001b[1;32m     57\u001b[0m     \u001b[0mconflict_finder\u001b[0m \u001b[0;34m=\u001b[0m \u001b[0mGtConflictFinder\u001b[0m\u001b[0;34m(\u001b[0m\u001b[0mgtconflict_cfg\u001b[0m\u001b[0;34m)\u001b[0m\u001b[0;34m\u001b[0m\u001b[0;34m\u001b[0m\u001b[0m\n\u001b[0;32m---> 58\u001b[0;31m     \u001b[0mgt_conflicts\u001b[0m\u001b[0;34m,\u001b[0m \u001b[0mtest_state_cnt\u001b[0m \u001b[0;34m=\u001b[0m \u001b[0mconflict_finder\u001b[0m\u001b[0;34m.\u001b[0m\u001b[0mget_Gt_conflict\u001b[0m\u001b[0;34m(\u001b[0m\u001b[0mctx_evts\u001b[0m\u001b[0;34m,\u001b[0m \u001b[0mdevice_events\u001b[0m\u001b[0;34m,\u001b[0m \u001b[0mtest_dates\u001b[0m\u001b[0;34m)\u001b[0m\u001b[0;34m\u001b[0m\u001b[0;34m\u001b[0m\u001b[0m\n\u001b[0m\u001b[1;32m     59\u001b[0m \u001b[0;34m\u001b[0m\u001b[0m\n\u001b[1;32m     60\u001b[0m     conflict_device = {\n",
      "\u001b[0;32m~/protemp/MPC/ConflictDetection/GtConflictFinder.py\u001b[0m in \u001b[0;36mget_Gt_conflict\u001b[0;34m(self, ctx_evts, device_evts, test_dates)\u001b[0m\n\u001b[1;32m    170\u001b[0m                     \u001b[0mevt_lst\u001b[0m \u001b[0;34m=\u001b[0m \u001b[0mdevice_evts\u001b[0m\u001b[0;34m[\u001b[0m\u001b[0mu\u001b[0m\u001b[0;34m]\u001b[0m\u001b[0;34m[\u001b[0m\u001b[0md\u001b[0m\u001b[0;34m]\u001b[0m\u001b[0;34m\u001b[0m\u001b[0;34m\u001b[0m\u001b[0m\n\u001b[1;32m    171\u001b[0m                     \u001b[0;32mif\u001b[0m \u001b[0md_evt_idx_per_u\u001b[0m\u001b[0;34m[\u001b[0m\u001b[0mu\u001b[0m\u001b[0;34m]\u001b[0m \u001b[0;34m+\u001b[0m \u001b[0;36m1\u001b[0m \u001b[0;34m<\u001b[0m \u001b[0mlen\u001b[0m\u001b[0;34m(\u001b[0m\u001b[0mevt_lst\u001b[0m\u001b[0;34m)\u001b[0m\u001b[0;34m:\u001b[0m\u001b[0;34m\u001b[0m\u001b[0;34m\u001b[0m\u001b[0m\n\u001b[0;32m--> 172\u001b[0;31m                         \u001b[0;32mif\u001b[0m \u001b[0mevt_lst\u001b[0m\u001b[0;34m[\u001b[0m\u001b[0md_evt_idx_per_u\u001b[0m\u001b[0;34m[\u001b[0m\u001b[0mu\u001b[0m\u001b[0;34m]\u001b[0m \u001b[0;34m+\u001b[0m \u001b[0;36m1\u001b[0m\u001b[0;34m]\u001b[0m\u001b[0;34m[\u001b[0m\u001b[0;36m1\u001b[0m\u001b[0;34m]\u001b[0m \u001b[0;34m<\u001b[0m \u001b[0mmin_evt_t\u001b[0m\u001b[0;34m:\u001b[0m\u001b[0;34m\u001b[0m\u001b[0;34m\u001b[0m\u001b[0m\n\u001b[0m\u001b[1;32m    173\u001b[0m                             \u001b[0mmin_evt_t\u001b[0m \u001b[0;34m=\u001b[0m \u001b[0mevt_lst\u001b[0m\u001b[0;34m[\u001b[0m\u001b[0md_evt_idx_per_u\u001b[0m\u001b[0;34m[\u001b[0m\u001b[0mu\u001b[0m\u001b[0;34m]\u001b[0m \u001b[0;34m+\u001b[0m \u001b[0;36m1\u001b[0m\u001b[0;34m]\u001b[0m\u001b[0;34m[\u001b[0m\u001b[0;36m1\u001b[0m\u001b[0;34m]\u001b[0m\u001b[0;34m\u001b[0m\u001b[0;34m\u001b[0m\u001b[0m\n\u001b[1;32m    174\u001b[0m                             \u001b[0mmin_evt_u\u001b[0m \u001b[0;34m=\u001b[0m \u001b[0;34m[\u001b[0m\u001b[0mu\u001b[0m\u001b[0;34m]\u001b[0m\u001b[0;34m\u001b[0m\u001b[0;34m\u001b[0m\u001b[0m\n",
      "\u001b[0;31mTypeError\u001b[0m: '<' not supported between instances of 'str' and 'datetime.datetime'"
     ]
    }
   ],
   "metadata": {}
  },
  {
   "cell_type": "code",
   "execution_count": null,
   "source": [],
   "outputs": [],
   "metadata": {}
  },
  {
   "cell_type": "markdown",
   "source": [],
   "metadata": {}
  }
 ]
}
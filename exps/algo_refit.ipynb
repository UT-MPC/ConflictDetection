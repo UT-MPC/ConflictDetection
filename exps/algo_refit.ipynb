{
 "cells": [
  {
   "cell_type": "markdown",
   "metadata": {},
   "source": [
    "# REFIT Exp scripts\n",
    "This notebook contains the code for all the experiments on the REFIT dataset. It contains:\n",
    "1. Final experiments: context granularity and 10 random runs.\n",
    "2. Decomposed experiments: for debugging and learning purposes.\n"
   ]
  },
  {
   "cell_type": "code",
   "execution_count": 2,
   "metadata": {},
   "outputs": [],
   "source": [
    "import os\n",
    "os.chdir(\"..\")"
   ]
  },
  {
   "cell_type": "code",
   "execution_count": 2,
   "metadata": {},
   "outputs": [
    {
     "name": "stdout",
     "output_type": "stream",
     "text": [
      "0.1 1.44 0.055044291056541086\n",
      "0.2 2.88 0.05493397793009418\n",
      "0.4 5.76 0.0534587858565518\n",
      "0.6 8.64 0.05671076564705798\n",
      "0.8 11.52 0.05557336268754574\n"
     ]
    },
    {
     "data": {
      "text/plain": [
       "{'time': {0.1: 0.055044291056541086,\n",
       "  0.2: 0.05493397793009418,\n",
       "  0.4: 0.0534587858565518,\n",
       "  0.6: 0.05671076564705798,\n",
       "  0.8: 0.05557336268754574}}"
      ]
     },
     "execution_count": 2,
     "metadata": {},
     "output_type": "execute_result"
    }
   ],
   "source": [
    "# Test how context granularity impacts the results\n",
    "from refit_final_exp import *\n",
    "context_step_perc()\n"
   ]
  },
  {
   "cell_type": "markdown",
   "metadata": {},
   "source": [
    "## Compute average results"
   ]
  },
  {
   "cell_type": "code",
   "execution_count": 3,
   "metadata": {},
   "outputs": [
    {
     "name": "stdout",
     "output_type": "stream",
     "text": [
      "{'TV': {'static': [[0.2219821695893252, 0.004676696071139958], [0.00900837583013089, 0.0016410751856201222], [0.10347258904759893, 0.003710405359745357]], 'conf cont.': [[1331.8, 54.348505039237274], [1669.2, 45.05729685633615], [3001.0, 68.27591083244515]], 'our': [[0.08878598874995172, 0.002399499088925078], [0.013477007456561408, 0.0012516711241818462], [0.046887630351578814, 0.001855723164936336]], 'zero': [[0.23691357921231698, 0.005836929181411169], [0.10512463534378942, 0.004076030358204853]]}, 'WashingMachine': {'static': [[0.05001235879136708, 0.00391294624868682], [0.0, 0.0], [0.0011681810100095493, 0.00017284596911148955]], 'conf cont.': [[64.8, 9.271461589199408], [2703.9, 89.04206870912199], [2768.7, 89.35776407229537]], 'our': [[0.046892066479104905, 0.0039001644554946275], [0.0008734201487690813, 4.4701654721493185e-05], [0.0019476779446513867, 0.00013337052514462286]], 'zero': [[0.05001235879136708, 0.00391294624868682], [0.0011681810100095493, 0.00017284596911148955]]}, 'PC': {'static': [[0.037595586079194276, 0.009190588036031547], [0.0, 0.0], [0.00045414799589414576, 0.0003010334415137471]], 'conf cont.': [[3.1, 1.445683229480096], [269.3, 8.485870609430716], [272.4, 8.581375181169973]], 'our': [[0.03718060228186999, 0.009139862658366589], [0.0003706343738035008, 2.276862228102697e-05], [0.000815787661265608, 0.000305051446403303]], 'zero': [[0.037595586079194276, 0.009190588036031547], [0.00045414799589414576, 0.0003010334415137471]]}}\n"
     ]
    }
   ],
   "source": [
    "data = [\n",
    "{'TV': {'static': [0.22279082525475918, 0.009545741769365252, 0.10682651931457954], 'conf cont.': [1385, 1651], 'our': [0.09381531606068172, 0.016057561029905507, 0.051530054678662104], 'zero': [0.23814581935611626, 0.10864030296713473]}, 'WashingMachine': {'static': [0.05027565279558908, 0.0, 0.00138547476560136], 'conf cont.': [73, 2576], 'our': [0.04744024609117632, 0.0007771870233885694, 0.002063107488450293], 'zero': [0.05027565279558908, 0.00138547476560136]}, 'PC': {'static': [0.026765068489259317, 0.0, 0.00029849518761255746], 'conf cont.': [3, 266], 'our': [0.026399532258482017, 0.00036553623077729616, 0.0006558781939115495], 'zero': [0.026765068489259317, 0.00029849518761255746]}},\n",
    "{'TV': {'static': [0.22731531050543144, 0.009728034839127618, 0.10471501496609245], 'conf cont.': [1345, 1736], 'our': [0.09003813922089225, 0.013645619639442039, 0.04699451247847175], 'zero': [0.24375396117500872, 0.10640995708548741]}, 'WashingMachine': {'static': [0.048755769091019786, 0.0, 0.0011033837418052569], 'conf cont.': [64, 2764], 'our': [0.04566936707838378, 0.0009046609730547048, 0.001917723628903736], 'zero': [0.048755769091019786, 0.0011033837418052569]}, 'PC': {'static': [0.02670940170940171, 0.0, 0.0002913752913752914], 'conf cont.': [3, 272], 'our': [0.026485714730798804, 0.0003750032949519962, 0.0006598474197066886], 'zero': [0.02670940170940171, 0.0002913752913752914]}},\n",
    "{'TV': {'static': [0.21514082069576282, 0.006717359706884908, 0.09793447344040361], 'conf cont.': [1253, 1610], 'our': [0.08795431601997618, 0.012339317830582964, 0.04543243439757902], 'zero': [0.22635572592697986, 0.09906521990447285]}, 'WashingMachine': {'static': [0.04458877771246427, 0.0, 0.0009685951712819954], 'conf cont.': [58, 2612], 'our': [0.04196811683373835, 0.0008836964671921355, 0.001776167021971042], 'zero': [0.04458877771246427, 0.0009685951712819954]}, 'PC': {'static': [0.04497044241037376, 0.0, 0.0006737144930393073], 'conf cont.': [4, 263], 'our': [0.0445647503757545, 0.0003727039018003697, 0.0010347570324963117], 'zero': [0.04497044241037376, 0.0006737144930393073]}},\n",
    "{'TV': {'static': [0.22218384041736386, 0.009630453618685633, 0.10628465273178367], 'conf cont.': [1351, 1620], 'our': [0.08580460412341159, 0.012031418377090966, 0.04557822885951411], 'zero': [0.2376515818058949, 0.10806707742166409]}, 'WashingMachine': {'static': [0.04942407207251362, 0.0, 0.0010778935990072688], 'conf cont.': [61, 2736], 'our': [0.04613010601979999, 0.0008857878521432145, 0.001872524859017388], 'zero': [0.04942407207251362, 0.0010778935990072688]}, 'PC': {'static': [0.0408578811369509, 0.0, 0.00074287056612638], 'conf cont.': [5, 270], 'our': [0.04031360035731932, 0.0003924322937151591, 0.0011182717130534166], 'zero': [0.0408578811369509, 0.00074287056612638]}},\n",
    "{'TV': {'static': [0.22683216569246012, 0.010697918085393667, 0.10791113862481658], 'conf cont.': [1339, 1638], 'our': [0.0876798225286939, 0.013801126139296231, 0.0470304087947895], 'zero': [0.24515425431964746, 0.11026588731407724]}, 'WashingMachine': {'static': [0.04931226258581861, 0.0, 0.0012768674848990232], 'conf cont.': [71, 2671], 'our': [0.04592780358904947, 0.0008626041654373155, 0.0020295002847212193], 'zero': [0.04931226258581861, 0.0012768674848990232]}, 'PC': {'static': [0.035894571333995366, 0.0, 0.0004003112044683498], 'conf cont.': [3, 266], 'our': [0.03553717026718678, 0.0003574010668085832, 0.00074974050027005], 'zero': [0.035894571333995366, 0.0004003112044683498]}},\n",
    "{'TV': {'static': [0.2138300566012225, 0.009879433239306705, 0.1023396740105227], 'conf cont.': [1409, 1699], 'our': [0.0889131365412057, 0.01373410899965961, 0.04781623570687918], 'zero': [0.22975969087828513, 0.10416068354166787]}, 'WashingMachine': {'static': [0.058461536541321246, 0.0, 0.0011983915929208318], 'conf cont.': [60, 2867], 'our': [0.05549423098388786, 0.0008667209651447855, 0.001986519598942047], 'zero': [0.058461536541321246, 0.0011983915929208318]}, 'PC': {'static': [0.02638888888888889, 0.0, 0.00017890772128060264], 'conf cont.': [2, 293], 'our': [0.026071665516307147, 0.00031722337258173933, 0.0004918297599968268], 'zero': [0.02638888888888889, 0.00017890772128060264]}},\n",
    "{'TV': {'static': [0.2189244440778789, 0.008385430870115375, 0.10237105560766895], 'conf cont.': [1341, 1663], 'our': [0.08594055101331428, 0.012014327124711845, 0.0450153478419608], 'zero': [0.2328470045421429, 0.10394401900499789]}, 'WashingMachine': {'static': [0.054616588751398076, 0.0, 0.0009609381862903072], 'conf cont.': [49, 2736], 'our': [0.051582497288829875, 0.000926445778954128, 0.0018177012633289616], 'zero': [0.054616588751398076, 0.0009609381862903072]}, 'PC': {'static': [0.053737935862454476, 0.0, 0.0011639986107390861], 'conf cont.': [6, 271], 'our': [0.053288418411213095, 0.00038057411495861343, 0.0015265924029641256], 'zero': [0.053737935862454476, 0.0011639986107390861]}},\n",
    "{'TV': {'static': [0.22297583192937895, 0.011736004615554727, 0.10823260347153754], 'conf cont.': [1375, 1635], 'our': [0.08739672769741097, 0.01273940955139939, 0.046843666179560824], 'zero': [0.2415304702279352, 0.11033368656591724]}, 'WashingMachine': {'static': [0.048666246744758786, 0.0, 0.0011933088220996292], 'conf cont.': [69, 2745], 'our': [0.04573025110853788, 0.0008172648469381445, 0.001918542761668202], 'zero': [0.048666246744758786, 0.0011933088220996292]}, 'PC': {'static': [0.03076923076923077, 0.0, 0.00011611030478955008], 'conf cont.': [1, 264], 'our': [0.030219998681490577, 0.00038001830603221485, 0.0004926220055622464], 'zero': [0.03076923076923077, 0.00011611030478955008]}},\n",
    "{'TV': {'static': [0.2213600652888741, 0.0068502354144798164, 0.09795506925569704], 'conf cont.': [1289, 1746], 'our': [0.09190491193309279, 0.015121351695731993, 0.04773222785584997], 'zero': [0.2335459494988358, 0.09918969650873126]}, 'WashingMachine': {'static': [0.051077608297550606, 0.0, 0.0015102143952813272], 'conf cont.': [84, 2757], 'our': [0.04728770465223037, 0.0008786874622999374, 0.002250865372878662], 'zero': [0.051077608297550606, 0.0015102143952813272]}, 'PC': {'static': [0.044407894736842105, 0.0, 0.0003326434062684802], 'conf cont.': [2, 265], 'our': [0.04404917420249578, 0.00035872053434632373, 0.0006859898502126117], 'zero': [0.044407894736842105, 0.0003326434062684802]}},\n",
    "{'TV': {'static': [0.22846833543012038, 0.006913146142395187, 0.10015568905288738], 'conf cont.': [1231, 1694], 'our': [0.08841236236083773, 0.013285834177793537, 0.044903186722520846], 'zero': [0.24039133439232319, 0.10116982312374354]}, 'WashingMachine': {'static': [0.04494507332123681, 0.0, 0.0010067423409084934], 'conf cont.': [59, 2575], 'our': [0.04169034114541513, 0.0009311459531378773, 0.0018441271666323185], 'zero': [0.04494507332123681, 0.0010067423409084934]}, 'PC': {'static': [0.045454545454545456, 0.0, 0.0003430531732418525], 'conf cont.': [2, 263], 'our': [0.04487599801765193, 0.000406730622062712, 0.0007423477344822532], 'zero': [0.045454545454545456, 0.0003430531732418525]}},\n",
    "]\n",
    "\n",
    "import numpy as np\n",
    "import math\n",
    "device_rr = {}\n",
    "for d in data[0]:\n",
    "    device_rr[d] = {}\n",
    "for d_r in data:\n",
    "    for d, r in d_r.items():\n",
    "        rr = device_rr[d]\n",
    "        for k, v in r.items():\n",
    "            if k == \"conf cont.\":\n",
    "                v.append(v[0] + v[1])\n",
    "            if k not in rr:\n",
    "                rr[k] = []\n",
    "                for x in v:\n",
    "                    rr[k].append([x])  \n",
    "            else:\n",
    "                for idx, x in enumerate(v):\n",
    "                    rr[k][idx].append(x)\n",
    "\n",
    "device_res = {}\n",
    "for d, rr in device_rr.items():\n",
    "    device_res[d] = {}\n",
    "    res = device_res[d]\n",
    "    for k, v in rr.items():\n",
    "        res[k] = []\n",
    "        for x in v:\n",
    "            sd = math.sqrt(np.var(x))\n",
    "            mean = sum(x) / len(x)\n",
    "            res[k].append([mean, sd])\n",
    "print(device_res)"
   ]
  },
  {
   "cell_type": "markdown",
   "metadata": {},
   "source": [
    "### Full test.\n",
    "Running the script below will repeat the experiment with refit dataset for 10 times and output the accuracy information"
   ]
  },
  {
   "cell_type": "code",
   "execution_count": 3,
   "metadata": {},
   "outputs": [],
   "source": [
    "# FULL TEST\n",
    "from refit_final_exp import *\n",
    "import numpy as np\n",
    "\n",
    "sum_res = {    \n",
    "    \"TV\":{},\n",
    "    \"WashingMachine\":{},\n",
    "    \"PC\": {},\n",
    "}\n",
    "for i in range(0,10):\n",
    "    r = full_test()\n",
    "    print(r)\n",
    "    for d, s in sum_res.items():\n",
    "        if len(s) == 0:\n",
    "            for k, v in r[d].items():\n",
    "                s[k]  = np.array(v) \n",
    "        else:\n",
    "            for k, v in r[d].items():\n",
    "                s[k] += np.array(v)\n",
    "\n",
    "for d,s in sum_res.items():\n",
    "    for k,v in s.items():\n",
    "        s[k] = v / 10\n",
    "print (sum_res)"
   ]
  },
  {
   "cell_type": "markdown",
   "metadata": {},
   "source": [
    "## Decomposed experiment code\n",
    "\n",
    "The following code is a similar process of a full test. It first split the raw dataset into testing and training. Then it mines the pattern with function test_umass() and build_habit_groups() for each user. Then we use the mined habit patterns to find predicted conflicts. At last we compare the conflict scenarios found by us with the groundtruth conflicts in the testing dataset."
   ]
  },
  {
   "cell_type": "code",
   "execution_count": 3,
   "metadata": {},
   "outputs": [],
   "source": [
    "\n",
    "import json\n",
    "import numpy as np\n",
    "import math\n",
    "from typing import Dict, List, Tuple\n",
    "import copy\n",
    "from itertools import combinations\n",
    "from collections import Counter\n",
    "\n",
    "import logging\n",
    "from datetime import timedelta\n",
    "from config import *\n",
    "from utils import *\n",
    "from main import *\n",
    "from GtConflictFinder import GtConflictFinder\n",
    "from ConflictDetector import ConflictDetector, ConflictPredicator\n",
    "from GridPatternBuilder import build_habit_groups\n",
    "\n",
    "import plotly.graph_objects as go\n",
    "from plotly.subplots import make_subplots\n",
    "root_folder = os.path.join(DATA_ROOT, REFIT_ROOT)\n",
    "\n",
    "\n",
    "test_projects = [\n",
    "    # \"House1\",\n",
    "\n",
    "\n",
    "    \"House3\",\n",
    "    \"House4\",\n",
    "    \"House8\",\n",
    "    \"House9\",\n",
    "    \"House15\",\n",
    "\n",
    "\n",
    "    # \"House18\",\n",
    "    # \"House20\",\n",
    "]\n",
    "time_step = 1\n",
    "ctx_info = ContextAccessor({\n",
    "            TIME_CTX: {\n",
    "                \"range\" : (0, 24*60),\n",
    "                \"interval\" : 60,\n",
    "            },\n",
    "            # \"humidity#NUM\" : {\n",
    "            #     \"range\" : (0, 100),\n",
    "            #     \"interval\" : 10,\n",
    "            # },\n",
    "            # \"FeelsLikeC#NUM\" : {\n",
    "            #     \"range\" : (-10., 40),\n",
    "            #     \"interval\" : 5,\n",
    "            # },\n",
    "            # \"tempC#NUM\" : {\n",
    "            #     \"range\" : (-10., 40),\n",
    "            #     \"interval\" : 5,\n",
    "            # },\n",
    "            \"weatherDesc#CAT\": {},\n",
    "            WEEKDAY_CTX: {\n",
    "                \"range\": (0, 6),\n",
    "                \"interval\": 1,\n",
    "            },\n",
    "            # HOLIDAY_CTX: {\n",
    "            #     \"range\": (0,1),\n",
    "            #     \"interval\": 1,\n",
    "            # }\n",
    "        })\n",
    "capacity = {\n",
    "    \"TV\":1,\n",
    "    \"WashingMachine\":1,\n",
    "    \"PC\": 1,\n",
    "}\n",
    "BOOL_SIM = False\n",
    "BOOL_UMASS= False\n",
    "ccp_alpha = 4e-4\n",
    "test_dates = generate_test_date(root_folder, test_projects, test_ratio = 0.4, true_random=False, is_sim=BOOL_SIM, is_umass=BOOL_UMASS)\n",
    "grid_pattern_cfg = {\n",
    "    # \"time_delta\" : timedelta(minutes=10),\n",
    "    \"context_info\" : ctx_info,\n",
    "    \"alpha\": ccp_alpha,\n",
    "    \"test_dates\": test_dates,\n",
    "    \"device_state_map\": device_state_map,\n",
    "    \"time_delta\": timedelta(minutes=time_step),\n",
    "}\n"
   ]
  },
  {
   "cell_type": "code",
   "execution_count": null,
   "metadata": {
    "tags": []
   },
   "outputs": [],
   "source": [
    "habit_groups = {}\n",
    "grid_data = {}\n",
    "for p in test_projects:\n",
    "    grid_data[p] = test_umass(\n",
    "                root_folder = root_folder, \n",
    "                test_project=p, \n",
    "                ctx_info=ctx_info, \n",
    "                grid_cfg = grid_pattern_cfg,\n",
    "                is_sim=BOOL_SIM, \n",
    "                is_umass=BOOL_UMASS)"
   ]
  },
  {
   "cell_type": "code",
   "execution_count": null,
   "metadata": {},
   "outputs": [],
   "source": [
    "for p in test_projects:\n",
    "    habit_groups[p] = build_habit_groups(grid_data[p], 1e-4)\n"
   ]
  },
  {
   "cell_type": "code",
   "execution_count": null,
   "metadata": {},
   "outputs": [],
   "source": [
    "#Exps:\n",
    "#   1. Contrived environment with injected conflicts:\n",
    "#   2. Real dataset with groundtruth conflicts:\n",
    "#   3. observations about the algorithm: with different threshold, different capacity for the devices, different number of users."
   ]
  },
  {
   "cell_type": "code",
   "execution_count": null,
   "metadata": {
    "tags": []
   },
   "outputs": [],
   "source": [
    "for home, groups in habit_groups.items():\n",
    "    print(\"The habit groups found in {}\".format(home))\n",
    "    for d, d_groups in groups.items():\n",
    "        print(d + \" \" + str(len(d_groups)))\n",
    "        # if d != \"TV\":\n",
    "        #     continue\n",
    "        # for g in d_groups:\n",
    "        #     print(ctx_info.coor_box_to_range(g[\"box\"][0] + g[\"box\"][1]))\n",
    "        #     print(g[\"dis\"])\n",
    "\n",
    "# for home, groups in habit_groups.items():\n",
    "#     for d, d_groups in groups.items():\n",
    "#         for i, g in enumerate(d_groups):\n",
    "#             for j in range(i+1, len(d_groups)):\n",
    "#                 box_1 = g[\"box\"][0] + g[\"box\"][1]\n",
    "#                 box_2 = d_groups[j][\"box\"][0] + d_groups[j][\"box\"][1]\n",
    "#                 if does_intersect(box_1, box_2):\n",
    "#                     print(\"!!!\")"
   ]
  },
  {
   "cell_type": "code",
   "execution_count": null,
   "metadata": {
    "tags": []
   },
   "outputs": [],
   "source": [
    "c_detector = ConflictDetector(ctx_info, capacity)\n",
    "final_conflicts = c_detector.predict_conflict_scenarios(habit_groups)\n",
    "print({x:len(final_conflicts[x]) for x in final_conflicts})"
   ]
  },
  {
   "cell_type": "code",
   "execution_count": null,
   "metadata": {},
   "outputs": [],
   "source": [
    "probs_i = [(x[\"prob\"], i) for i, x in enumerate(final_conflicts[\"TV\"])]\n",
    "# print(sorted(probs_i))\n",
    "for x in sorted(probs_i):\n",
    "    c = final_conflicts[\"TV\"][x[1]]\n",
    "    ctx_str = ctx_info.coor_box_to_range(c[\"box\"])\n",
    "    p = c[\"prob\"]\n",
    "    us = list(c[\"users\"])\n",
    "    users = us[0][0] + \" \" + us[1][0]\n",
    "    if users == \"House9 House3\":\n",
    "        print(\"{} conflicts {} at {}\".format(users, p, ctx_str))"
   ]
  },
  {
   "cell_type": "code",
   "execution_count": null,
   "metadata": {},
   "outputs": [],
   "source": [
    "import copy\n",
    "# Make ground truth:\n",
    "\n",
    "gt_ctx_info = ContextAccessor({\n",
    "            TIME_CTX: {\n",
    "                \"range\" : (0, 24*60),\n",
    "                \"interval\" : 60,\n",
    "            },\n",
    "            # \"humidity#NUM\" : {\n",
    "            #     \"range\" : (0, 100),\n",
    "            #     \"interval\" : 10,\n",
    "            # },\n",
    "            # \"FeelsLikeC#NUM\" : {\n",
    "            #     \"range\" : (-10., 40),\n",
    "            #     \"interval\" : 5,\n",
    "            # },\n",
    "            # \"tempC#NUM\" : {\n",
    "            #     \"range\" : (-10., 40),\n",
    "            #     \"interval\" : 5,\n",
    "            # },\n",
    "            \"weatherDesc#CAT\": {},\n",
    "            WEEKDAY_CTX: {\n",
    "                \"range\": (0, 6),\n",
    "                \"interval\": 1,\n",
    "            },\n",
    "            # HOLIDAY_CTX: {\n",
    "            #     \"range\": (0,1),\n",
    "            #     \"interval\": 1,\n",
    "            # },\n",
    "        })\n",
    "device_events = {}\n",
    "for p in test_projects:\n",
    "    ctx_evts, device_evts = load_processed(root_folder, p, is_sim=BOOL_SIM, is_umass=BOOL_UMASS)\n",
    "    device_events[p] = device_evts\n",
    "\n",
    "gtconflict_cfg = {\n",
    "    \"context_info\": gt_ctx_info,\n",
    "    \"capacity\": capacity\n",
    "}\n",
    "# test_dates = {}\n",
    "\n",
    "conflict_finder = GtConflictFinder(gtconflict_cfg)\n",
    "gt_conflicts, test_state_cnt = conflict_finder.get_Gt_conflict(ctx_evts, device_events, test_dates)\n",
    "print(len(gt_conflicts))"
   ]
  },
  {
   "cell_type": "code",
   "execution_count": null,
   "metadata": {
    "tags": []
   },
   "outputs": [],
   "source": [
    "\n",
    "# TEST_RATIO = 0.3\n",
    "# conflict_time = [x['cur_time'] for x in conflicts]\n",
    "# end_time = max(conflict_time)\n",
    "# start_time = min(conflict_time)\n",
    "# print(start_time)\n",
    "# print(end_time)\n",
    "# total_time_range = end_time - start_time\n",
    "# test_start = end_time - total_time_range * TEST_RATIO\n",
    "# print(test_start)\n",
    "\n",
    "conflict_device = {\n",
    "    d:[]\n",
    "    for d in capacity\n",
    "}\n",
    "\n",
    "conflict_state_device = {\n",
    "    d:{}\n",
    "    for d in capacity\n",
    "}\n",
    "MIN_TEST_OBS = 20\n",
    "cnts = []\n",
    "for c in gt_conflicts:\n",
    "    d = c[\"device\"]\n",
    "    conflict_device[d].append(c)\n",
    "    s = gt_ctx_info.get_coor_by_ctx(c[\"ctx\"])\n",
    "    users = frozenset(c[\"device_states\"].keys())\n",
    "    cnts.append(test_state_cnt[d][users][s])\n",
    "    if test_state_cnt[d][users][s] < MIN_TEST_OBS:\n",
    "        continue\n",
    "    if s not in conflict_state_device[d]:\n",
    "        conflict_state_device[d][s] = {}\n",
    "    conflict_state_device[d][s][users] = conflict_state_device[d][s].get(users, 0) + 1\n",
    "\n",
    "    # if conflict_state_device[d][s][users] > test_state_cnt[d][s]:\n",
    "    #     print(conflict_state_device[d][s][users], test_state_cnt[d][s])\n",
    "    #     print(users, d, c[\"cur_time\"], s)\n",
    "    \n",
    "print({d:len(c) for d,c in conflict_device.items()})\n",
    "print({d:len(c) for d,c in conflict_state_device.items()})\n",
    "print(len(test_dates))\n",
    "print(Counter(cnts))"
   ]
  },
  {
   "cell_type": "code",
   "execution_count": null,
   "metadata": {
    "tags": [
     "outputPrepend"
    ]
   },
   "outputs": [],
   "source": [
    "all_users = test_projects\n",
    "all_devices = capacity.keys()\n",
    "user_pairs = list(combinations(all_users, 2))\n",
    "conflict_predicator = ConflictPredicator(ctx_info, final_conflicts)\n",
    "exp_cnt = 0\n",
    "exp_gt_c = 0\n",
    "exp_result = {d:[0,0,0,0,0] for d in all_devices}\n",
    "max_p = 0\n",
    "all_state_cnt = 0\n",
    "for d in all_devices:\n",
    "    gt_probs = []\n",
    "    o_static = [[0,0], [0,0]]\n",
    "    for u_pair in user_pairs:\n",
    "        u_pair_set = frozenset(u_pair)\n",
    "        it = np.nditer(test_state_cnt[d][u_pair_set], flags=['multi_index'])\n",
    "        for count in it:\n",
    "            all_state_cnt += count\n",
    "            if count < MIN_TEST_OBS:\n",
    "                continue\n",
    "            state = it.multi_index\n",
    "            gt_prob = 0.\n",
    "            if (d in conflict_state_device) and \\\n",
    "                (state in conflict_state_device[d]) and \\\n",
    "                (u_pair_set in conflict_state_device[d][state]):\n",
    "\n",
    "                gt_prob =  float(conflict_state_device[d][state][u_pair_set]) / count\n",
    "            gt_ctx_snapshot = gt_ctx_info.coor_to_snapshot(state)\n",
    "\n",
    "            pred_prob = conflict_predicator.get_prob_conflict(ctx_info.get_coor_by_ctx(gt_ctx_snapshot), u_pair, d)\n",
    "            exp_cnt += 1\n",
    "            gt_probs.append(gt_prob)\n",
    "            if gt_prob > 0:\n",
    "                # if gt_prob > 0.5:\n",
    "                #     print(gt_ctx_info.coor_to_snapshot(state).values(), gt_prob, pred_prob, u_pair)\n",
    "                exp_gt_c += 1\n",
    "                exp_result[d][0] += abs(pred_prob - gt_prob)\n",
    "                exp_result[d][1] += 1\n",
    "                exp_result[d][4] += gt_prob\n",
    "                if gt_prob > 1:\n",
    "                    print(gt_prob, pred_prob, d, u_pair)\n",
    "                max_p = max(gt_prob, max_p)\n",
    "\n",
    "            else:\n",
    "                exp_result[d][2] += pred_prob - gt_prob\n",
    "                exp_result[d][3] += 1\n",
    "        if len(gt_probs) == 0:\n",
    "            continue\n",
    "        avg_gt = sum(gt_probs) / len(gt_probs)\n",
    "        errors = [abs(x-avg_gt) for x in gt_probs]\n",
    "        for i, e in enumerate(errors):\n",
    "            if gt_probs[i] > 0.:\n",
    "                o_static[0][0] += e\n",
    "                o_static[0][1] += 1\n",
    "            else:\n",
    "                o_static[1][0] += e\n",
    "                o_static[1][1] += 1\n",
    "        gt_probs = []\n",
    "    print(\"Baseline for {}\".format(d))\n",
    "    print(\"Baseline, optimal single prediction for conf is {}\".format(o_static[0][0] / o_static[0][1]))\n",
    "    print(\"Baseline, optimal single prediction for non-conf is {}\".format(o_static[1][0] / o_static[1][1]))\n",
    "    print(\"The overall baseline is {}\".format((o_static[0][0] + o_static[1][0])/(o_static[0][1] + o_static[1][1])))\n",
    "\n",
    "for d in exp_result:\n",
    "    r = exp_result[d]\n",
    "    o_acc = [[0., 0.], [0., 0.]]\n",
    "    o_zero = 0.\n",
    "    print(\"Device!! {}\".format(d))\n",
    "    print(\"The no. conf {}, no. non-conf {}\".format(r[1], r[3]))\n",
    "    print(\"The overall accuracy for conf is {}\".format(r[0] / r[1]))\n",
    "    print(\"The overall accuracy for non-conf is {}\".format(r[2] / r[3]))\n",
    "    print(\"The overall acc is {}\".format((r[0] + r[2])/(r[1] + r[3])))\n",
    "\n",
    "    print(\"The overall zero for conf is {}\".format(r[4] / r[1]))\n",
    "    print(\"The overall zero for all is {}\".format(r[4] / (r[1] + r[3])))\n",
    "    r.append((r[0] + r[2]) / (r[1] + r[3]))\n",
    "    if r[1] > 0:\n",
    "        r[0] = r[0] / r[1]\n",
    "        r[4] = r[4] / r[1]\n",
    "    if r[3] > 0:\n",
    "        r[2] = r[2] / r[3]\n",
    "    \n",
    "print(max_p)\n",
    "print(exp_result)"
   ]
  },
  {
   "cell_type": "markdown",
   "metadata": {},
   "source": [
    "Run grid search for the optimal ccp_alpha"
   ]
  },
  {
   "cell_type": "code",
   "execution_count": 6,
   "metadata": {},
   "outputs": [
    {
     "name": "stdout",
     "output_type": "stream",
     "text": [
      "Run test accuracy for context ['min_of_day#NUM', 'weatherDesc#CAT', 'day_of_week#NUM']\n",
      "Finish alpha 0, result (0.09650936037996884, 0.010800821342736798, 0.046628724268505874)\n",
      "Best ccp_alpha 0\n"
     ]
    }
   ],
   "source": [
    "from refit_alpha_test import *\n",
    "\n",
    "ctx_info = ContextAccessor({\n",
    "            TIME_CTX: {\n",
    "                \"range\" : (0, 24*60),\n",
    "                \"interval\" : 60,\n",
    "            },\n",
    "            # \"humidity#NUM\" : {\n",
    "            #     \"range\" : (0, 100),\n",
    "            #     \"interval\" : 10,\n",
    "            # },\n",
    "            # \"FeelsLikeC#NUM\" : {\n",
    "            #     \"range\" : (-10., 40),\n",
    "            #     \"interval\" : 5,\n",
    "            # },\n",
    "            # \"tempC#NUM\" : {\n",
    "            #     \"range\" : (-10., 40),\n",
    "            #     \"interval\" : 5,\n",
    "            # },\n",
    "            \"weatherDesc#CAT\": {},\n",
    "            WEEKDAY_CTX: {\n",
    "                \"range\": (0, 6),\n",
    "                \"interval\": 1,\n",
    "            },\n",
    "            # HOLIDAY_CTX: {\n",
    "            #     \"range\": (0,1),\n",
    "            #     \"interval\": 1,\n",
    "            # },\n",
    "        })\n",
    "gt_ctx_info = ContextAccessor({\n",
    "            TIME_CTX: {\n",
    "                \"range\" : (0, 24*60),\n",
    "                \"interval\" : 60,\n",
    "            },\n",
    "            # \"humidity#NUM\" : {\n",
    "            #     \"range\" : (0, 100),\n",
    "            #     \"interval\" : 10,\n",
    "            # },\n",
    "            # \"FeelsLikeC#NUM\" : {\n",
    "            #     \"range\" : (-10., 40),\n",
    "            #     \"interval\" : 5,\n",
    "            # },\n",
    "            # \"tempC#NUM\" : {\n",
    "            #     \"range\" : (-10., 40),\n",
    "            #     \"interval\" : 5,\n",
    "            # },\n",
    "            \"weatherDesc#CAT\": {},\n",
    "            WEEKDAY_CTX: {\n",
    "                \"range\": (0, 6),\n",
    "                \"interval\": 1,\n",
    "            },\n",
    "            # HOLIDAY_CTX: {\n",
    "            #     \"range\": (0,1),\n",
    "            #     \"interval\": 1,\n",
    "            # },\n",
    "        })\n",
    "\n",
    "\n",
    "def alpha_nonLinear_generator(alpha_min, alpha_max, alpha_step):\n",
    "    auc_values = []\n",
    "    alpha = alpha_min\n",
    "    while alpha <= alpha_max:\n",
    "        yield alpha\n",
    "        if alpha_step <= alpha / 10:\n",
    "            alpha_step *= 10\n",
    "        alpha += alpha_step\n",
    "\n",
    "print(\"Run test accuracy for context \" + str(ctx_info.get_all_ctx_ordered()))\n",
    "alpha_generator = alpha_nonLinear_generator(1e-6, 0.5, 1e-6)\n",
    "acc_values = test_acc_alpha(ctx_info, \n",
    "                            gt_ctx_info, \n",
    "                            root_folder, \n",
    "                            alpha_generator, \n",
    "                            device_mapping=device_state_map,\n",
    "                            time_step = 1,\n",
    "                            test_projects = test_projects,\n",
    "                            capacity = capacity,\n",
    "                            acc_device = \"TV\")\n"
   ]
  },
  {
   "cell_type": "code",
   "execution_count": 5,
   "metadata": {},
   "outputs": [
    {
     "name": "stdout",
     "output_type": "stream",
     "text": [
      "{0: (0.09395027994767068, 0.010982976428705892, 0.0468910791478046)}\n"
     ]
    }
   ],
   "source": [
    "print(acc_values)"
   ]
  },
  {
   "cell_type": "code",
   "execution_count": 2,
   "metadata": {},
   "outputs": [
    {
     "name": "stdout",
     "output_type": "stream",
     "text": [
      "{0: 0.0468910791478046, 1e-06: 0.0464073509213517, 2e-06: 0.04638856679747108, 3e-06: 0.04628056455326752, 4e-06: 0.04639733174060431, 4.9999999999999996e-06: 0.046514536556230716, 5.999999999999999e-06: 0.0466582847140721, 6.999999999999999e-06: 0.04658626266490828, 8e-06: 0.046529105791351166, 9e-06: 0.0464346775473587, 1e-05: 0.046459855814829254, 1.9999999999999998e-05: 0.04637835727434523, 2.9999999999999997e-05: 0.04581245847871662, 3.9999999999999996e-05: 0.044836339869262366, 4.9999999999999996e-05: 0.04478079689964262, 5.9999999999999995e-05: 0.04488193890308887, 7e-05: 0.045095114780130625, 7.999999999999999e-05: 0.044935143696489044, 8.999999999999999e-05: 0.045156182946146095, 9.999999999999999e-05: 0.04529611561941307, 0.00019999999999999998: 0.046033459028831665, 0.0003: 0.04665081807913036, 0.00039999999999999996: 0.04714472797078778, 0.0005: 0.047464314294156436, 0.0006000000000000001: 0.04888005976184485, 0.0007000000000000001: 0.04913567408087641, 0.0008000000000000001: 0.0491986724412652, 0.0009000000000000002: 0.04934772704262641, 0.0010000000000000002: 0.049670114146139116, 0.002: 0.05365485787481017, 0.003: 0.06453678629111223, 0.004: 0.07054598877191372, 0.005: 0.07054598877191372, 0.006: 0.07054598877191372, 0.007: 0.07054598877191372, 0.008: 0.07054598877191372, 0.009000000000000001: 0.07124722681756997, 0.010000000000000002: 0.07687302859253031, 0.020000000000000004: 0.11042727362886672, 0.030000000000000006: 0.11212115370100208, 0.04000000000000001: 0.11212115370100208, 0.05000000000000001: 0.11212115370100208, 0.06000000000000001: 0.11212115370100208, 0.07: 0.11212115370100208, 0.08: 0.11212115370100208, 0.09: 0.11212115370100208, 0.09999999999999999: 0.11212115370100208, 0.10999999999999999: 0.11212115370100208, 0.21: 0.11212115370100208, 0.31: 0.11212115370100208, 0.41000000000000003: 0.11212115370100208}\n"
     ]
    }
   ],
   "source": [
    "refit = [\n",
    "{0: (0.09395027994767068, 0.010982976428705892, 0.0468910791478046), 1e-06: (0.09453756035221281, 0.010617149279716121, 0.04693775526797011), 2e-06: (0.09451252504302783, 0.010418324373955533, 0.046814146193273884), 3e-06: (0.09358458774183691, 0.010175073612854873, 0.04627456430449802), 4e-06: (0.09508216143004186, 0.01005436340017986, 0.0468542445116247), 4.9999999999999996e-06: (0.09465430648207177, 0.01011691027266168, 0.046704546340631106), 5.999999999999999e-06: (0.09519042719224463, 0.010180167892259815, 0.046972458272328786), 6.999999999999999e-06: (0.09446966743604879, 0.010083779641409187, 0.04660584313452516), 8e-06: (0.09454731820282332, 0.010146403790033823, 0.04667497077699812), 9e-06: (0.09324157488873297, 0.010193146117609811, 0.04613635970284567), 1e-05: (0.09211159125763295, 0.010372990183921509, 0.0457493126505105), 1.9999999999999998e-05: (0.08947660752098731, 0.01098276498734875, 0.044954761677230094), 2.9999999999999997e-05: (0.0901044219805743, 0.011236737463153595, 0.045370532304656104), 3.9999999999999996e-05: (0.08737876860249941, 0.010980939879078838, 0.044045785486476786), 4.9999999999999996e-05: (0.08814948232716395, 0.011211056633689783, 0.04450987165683331), 5.9999999999999995e-05: (0.08769673968081007, 0.011462523525395202, 0.044456557901755116), 7e-05: (0.08939564546332612, 0.011669975570131975, 0.04530950849526322), 7.999999999999999e-05: (0.08835124793456085, 0.011858754747863487, 0.0449645709681055), 8.999999999999999e-05: (0.08903219409127715, 0.011842037367320209, 0.04524980113673815), 9.999999999999999e-05: (0.08919876840790113, 0.01196648404967226, 0.04539248058494601), 0.00019999999999999998: (0.08966511081083613, 0.012142996354674553, 0.045694430845458996), 0.0003: (0.08735023297061542, 0.012956551341937671, 0.04515400561937925), 0.00039999999999999996: (0.08856238707586643, 0.013059028692646047, 0.045736749113460665), 0.0005: (0.08856238707586643, 0.013059028692646047, 0.045736749113460665), 0.0006000000000000001: (0.09205587226200702, 0.013408968984021991, 0.047447210094261026), 0.0007000000000000001: (0.09315887711572314, 0.013446853907399902, 0.047946077046035235), 0.0008000000000000001: (0.09350590904496768, 0.013848466472893764, 0.048324067208367995), 0.0009000000000000002: (0.09350590904496768, 0.013848466472893764, 0.048324067208367995), 0.0010000000000000002: (0.09350590904496768, 0.013848466472893764, 0.048324067208367995), 0.002: (0.10089956362305165, 0.014232281965073913, 0.05174172870089997), 0.003: (0.1214247989735945, 0.021035320897233485, 0.06448371005524305), 0.004: (0.12878219521248163, 0.027583280586521444, 0.07138199245642868), 0.005: (0.12878219521248163, 0.027583280586521444, 0.07138199245642868), 0.006: (0.12878219521248163, 0.027583280586521444, 0.07138199245642868), 0.007: (0.12878219521248163, 0.027583280586521444, 0.07138199245642868), 0.008: (0.12878219521248163, 0.027583280586521444, 0.07138199245642868), 0.009000000000000001: (0.13405598984629213, 0.027632276471090463, 0.07369227203007765), 0.010000000000000002: (0.1437688540601613, 0.029619690472679698, 0.07902324726612861), 0.020000000000000004: (0.18760514111256887, 0.055801511266247605, 0.11284588993753868), 0.03: (0.18966400197972527, 0.058366805928595125, 0.11242571161100029), 0.04: (0.18966400197972527, 0.058366805928595125, 0.11242571161100029), 0.05: (0.18966400197972527, 0.058366805928595125, 0.11242571161100029), 0.060000000000000005: (0.18966400197972527, 0.058366805928595125, 0.11242571161100029), 0.07: (0.18966400197972527, 0.058366805928595125, 0.11242571161100029), 0.08: (0.18966400197972527, 0.058366805928595125, 0.11242571161100029), 0.09: (0.18966400197972527, 0.058366805928595125, 0.11242571161100029), 0.09999999999999999: (0.18966400197972527, 0.058366805928595125, 0.11242571161100029), 0.10999999999999999: (0.18966400197972527, 0.058366805928595125, 0.11242571161100029), 0.21: (0.18966400197972527, 0.058366805928595125, 0.11242571161100029), 0.31: (0.18966400197972527, 0.058366805928595125, 0.11242571161100029), 0.41000000000000003: (0.18966400197972527, 0.058366805928595125, 0.11242571161100029)},\n",
    "{0: (0.09395027994767068, 0.010982976428705892, 0.0468910791478046), 1e-06: (0.09651831605162503, 0.010468749231977348, 0.046439208668691855), 2e-06: (0.09606482371642566, 0.010356864537375105, 0.046184525070695655), 3e-06: (0.09656535390250766, 0.010241312040918639, 0.04632650759691233), 4e-06: (0.09679339709507587, 0.010323181513735237, 0.04646948064120953), 4.9999999999999996e-06: (0.09672125803342703, 0.01011764049722962, 0.04631970434012672), 5.999999999999999e-06: (0.09708178689245375, 0.010276484731584158, 0.046562856827025816), 6.999999999999999e-06: (0.09720711233152145, 0.010225660224256155, 0.04658566656023834), 8e-06: (0.09784160898322253, 0.01025574974806878, 0.046868410488721465), 9e-06: (0.09769250959968297, 0.010299786139843097, 0.04683171221989874), 1e-05: (0.09809478696577276, 0.01034579468139474, 0.047026648336280306), 1.9999999999999998e-05: (0.09676777131444893, 0.010709908137969473, 0.046683835619648284), 2.9999999999999997e-05: (0.09428733449493018, 0.011015693430154756, 0.045824923712825205), 3.9999999999999996e-05: (0.09238054976627477, 0.010937918062876629, 0.044982585437511956), 4.9999999999999996e-05: (0.09291373624380575, 0.01104863061909272, 0.045269900638126914), 5.9999999999999995e-05: (0.09229041470560219, 0.01139135601506469, 0.04520879887558971), 7e-05: (0.09298915184966454, 0.01133140842287881, 0.04546599684890877), 7.999999999999999e-05: (0.09015146341597434, 0.011410042251748364, 0.04432554898420445), 8.999999999999999e-05: (0.0908236254751638, 0.01147871090128185, 0.04464649008570568), 9.999999999999999e-05: (0.09055527200221201, 0.01176980922166052, 0.044703726240560994), 0.00019999999999999998: (0.09306318022204013, 0.01107157837940239, 0.04534572637614094), 0.0003: (0.09257364558639783, 0.012332029146310769, 0.04587464784820435), 0.00039999999999999996: (0.09207712698966196, 0.013058923323851881, 0.046090130740390325), 0.0005: (0.09207712698966196, 0.013058923323851881, 0.046090130740390325), 0.0006000000000000001: (0.0963098397479555, 0.013426863483017734, 0.04807362401791663), 0.0007000000000000001: (0.09658211222845958, 0.01350276831891486, 0.04823161450114563), 0.0008000000000000001: (0.09658211222845958, 0.01350276831891486, 0.04823161450114563), 0.0009000000000000002: (0.09658211222845958, 0.01350276831891486, 0.04823161450114563), 0.0010000000000000002: (0.099561506962662, 0.014686444093069462, 0.05016593712222185), 0.002: (0.10328664201404089, 0.01541606986032341, 0.05214774635976278), 0.003: (0.12249352191100002, 0.022630175168107437, 0.06437507402109717), 0.004: (0.1284155746777633, 0.028003112363892607, 0.06997755263239387), 0.005: (0.1284155746777633, 0.028003112363892607, 0.06997755263239387), 0.006: (0.1284155746777633, 0.028003112363892607, 0.06997755263239387), 0.007: (0.1284155746777633, 0.028003112363892607, 0.06997755263239387), 0.008: (0.1284155746777633, 0.028003112363892607, 0.06997755263239387), 0.009000000000000001: (0.1284155746777633, 0.028003112363892607, 0.06997755263239387), 0.010000000000000002: (0.14176205785579152, 0.028790750365078575, 0.07601504194256323), 0.020000000000000004: (0.18016045573562287, 0.05483204175028371, 0.10722185378706048), 0.03: (0.19361071403492014, 0.0549855392522039, 0.11780531254641095), 0.04: (0.19361071403492014, 0.0549855392522039, 0.11780531254641095), 0.05: (0.19361071403492014, 0.0549855392522039, 0.11780531254641095), 0.060000000000000005: (0.19361071403492014, 0.0549855392522039, 0.11780531254641095), 0.07: (0.19361071403492014, 0.0549855392522039, 0.11780531254641095), 0.08: (0.19361071403492014, 0.0549855392522039, 0.11780531254641095), 0.09: (0.19361071403492014, 0.0549855392522039, 0.11780531254641095), 0.09999999999999999: (0.19361071403492014, 0.0549855392522039, 0.11780531254641095), 0.10999999999999999: (0.19361071403492014, 0.0549855392522039, 0.11780531254641095), 0.21: (0.19361071403492014, 0.0549855392522039, 0.11780531254641095), 0.31: (0.19361071403492014, 0.0549855392522039, 0.11780531254641095), 0.41000000000000003: (0.19361071403492014, 0.0549855392522039, 0.11780531254641095)},\n",
    "{0: (0.09395027994767068, 0.010982976428705892, 0.0468910791478046), 1e-06: (0.09299072398950053, 0.010428976219828785, 0.048138650872333814), 2e-06: (0.09328271810760808, 0.010429133515473924, 0.04827210320985936), 3e-06: (0.09342501770569044, 0.010240906339845177, 0.048234842522190145), 4e-06: (0.09403917160346341, 0.010021515800156935, 0.04839616932914478), 4.9999999999999996e-06: (0.09410907881125552, 0.009800806151658221, 0.04830819750894197), 5.999999999999999e-06: (0.09382852363532476, 0.009770424753360103, 0.048163550460800376), 6.999999999999999e-06: (0.09418873828223205, 0.009947971761669838, 0.0484245300199843), 8e-06: (0.09503318106643976, 0.009847732843661437, 0.04875576985094965), 9e-06: (0.0944821837271799, 0.010035019950034595, 0.04860584914622493), 1e-05: (0.09478599346012691, 0.0104065750119746, 0.04894646186035176), 1.9999999999999998e-05: (0.095616966035677, 0.010915514952785867, 0.04960248863267449), 2.9999999999999997e-05: (0.0946363870497056, 0.011041575006040739, 0.04922309671507958), 3.9999999999999996e-05: (0.09074307225423169, 0.01130678421002329, 0.047588920413178463), 4.9999999999999996e-05: (0.09088435210655338, 0.01154945804448322, 0.047785283042008145), 5.9999999999999995e-05: (0.09020298980569369, 0.01170374016232861, 0.04755788865704425), 7e-05: (0.09019516938835191, 0.011906803045228174, 0.047664631623559134), 7.999999999999999e-05: (0.09031476702409219, 0.011929902168156538, 0.047731805970436726), 8.999999999999999e-05: (0.0904920778174029, 0.011936775050389328, 0.0478165255352898), 9.999999999999999e-05: (0.0906031157492318, 0.012004407343075224, 0.047903983141445707), 0.00019999999999999998: (0.09437982817084088, 0.011867837396112668, 0.049554785784437325), 0.0003: (0.09658408594975114, 0.013215462689705844, 0.05129367377765494), 0.00039999999999999996: (0.09620019308386019, 0.013542447575581448, 0.05129596872586587), 0.0005: (0.09620019308386019, 0.013542447575581448, 0.05129596872586587), 0.0006000000000000001: (0.09764769290287363, 0.014358001651246186, 0.052400160930246055), 0.0007000000000000001: (0.09785228829748004, 0.014470677650352988, 0.05255482066385682), 0.0008000000000000001: (0.09785228829748004, 0.014470677650352988, 0.05255482066385682), 0.0009000000000000002: (0.09618457885908437, 0.01448972160769675, 0.05180344825417078), 0.0010000000000000002: (0.09618457885908437, 0.01448972160769675, 0.05180344825417078), 0.002: (0.10214613171836597, 0.015569442009145309, 0.05511292176363853), 0.003: (0.12023636271182848, 0.02181699290381034, 0.06676955889500988), 0.004: (0.12669019422299016, 0.028123967360520214, 0.07314360959336198), 0.005: (0.12669019422299016, 0.028123967360520214, 0.07314360959336198), 0.006: (0.12669019422299016, 0.028123967360520214, 0.07314360959336198), 0.007: (0.12669019422299016, 0.028123967360520214, 0.07314360959336198), 0.008: (0.12669019422299016, 0.028123967360520214, 0.07314360959336198), 0.009000000000000001: (0.12669019422299016, 0.028123967360520214, 0.07314360959336198), 0.010000000000000002: (0.14034682357505027, 0.029796845150830566, 0.08029000732138898), 0.020000000000000004: (0.18078526062819444, 0.057145715092667485, 0.11361747304691215), 0.030000000000000006: (0.18078526062819444, 0.057145715092667485, 0.11361747304691215), 0.04000000000000001: (0.18078526062819444, 0.057145715092667485, 0.11361747304691215), 0.05000000000000001: (0.18078526062819444, 0.057145715092667485, 0.11361747304691215), 0.06000000000000001: (0.18078526062819444, 0.057145715092667485, 0.11361747304691215), 0.07: (0.18078526062819444, 0.057145715092667485, 0.11361747304691215), 0.08: (0.18078526062819444, 0.057145715092667485, 0.11361747304691215), 0.09: (0.18078526062819444, 0.057145715092667485, 0.11361747304691215), 0.09999999999999999: (0.18078526062819444, 0.057145715092667485, 0.11361747304691215), 0.10999999999999999: (0.18078526062819444, 0.057145715092667485, 0.11361747304691215), 0.21: (0.18078526062819444, 0.057145715092667485, 0.11361747304691215), 0.31: (0.18078526062819444, 0.057145715092667485, 0.11361747304691215), 0.41000000000000003: (0.18078526062819444, 0.057145715092667485, 0.11361747304691215)},\n",
    "{0: (0.09395027994767068, 0.010982976428705892, 0.0468910791478046), 1e-06: (0.08344107930517568, 0.010195571426033704, 0.04303318814040335), 2e-06: (0.0843883720090939, 0.009871592220173489, 0.04327914886562984), 3e-06: (0.08431793827302086, 0.009524958097042109, 0.04305634161883807), 4e-06: (0.08442179648319807, 0.009235794328358271, 0.04294337848655992), 4.9999999999999996e-06: (0.08486667969735966, 0.009289900505531823, 0.043172678841956164), 5.999999999999999e-06: (0.0849771085757673, 0.009390581020875977, 0.04327772976879913), 6.999999999999999e-06: (0.08500413530259632, 0.009544736327485079, 0.04337489045966812), 8e-06: (0.08481532305496184, 0.009383294975333635, 0.04320117811642076), 9e-06: (0.08433087398806399, 0.009402715778265408, 0.04299470266798534), 1e-05: (0.08401007230860853, 0.009435302556660204, 0.042868857413260554), 1.9999999999999998e-05: (0.08306498979793174, 0.010268366734349152, 0.04290473823998106), 2.9999999999999997e-05: (0.08113972780213098, 0.010733122333111694, 0.04229799493070997), 3.9999999999999996e-05: (0.0803521388761814, 0.010856733084883522, 0.04201309427156163), 4.9999999999999996e-05: (0.08085496813751984, 0.010946115959342034, 0.04228783450618352), 5.9999999999999995e-05: (0.08143034468981122, 0.011013014687868498, 0.04258269533597769), 7e-05: (0.08154857071254121, 0.011327235124407031, 0.042809047046840625), 7.999999999999999e-05: (0.08295372047980515, 0.011319830341946318, 0.04343492239629645), 8.999999999999999e-05: (0.08398168274758533, 0.011355591493215633, 0.043915509734330886), 9.999999999999999e-05: (0.08527430687089416, 0.011403167481046412, 0.044521268942506444), 0.00019999999999999998: (0.0858474407225279, 0.010899779875418729, 0.04450051023825351), 0.0003: (0.08871290796989373, 0.012571380000226139, 0.046707347978494594), 0.00039999999999999996: (0.09003402161654014, 0.012571380000226139, 0.04729963308676746), 0.0005: (0.09003402161654014, 0.012571380000226139, 0.04729963308676746), 0.0006000000000000001: (0.0943284070331083, 0.012797116461966624, 0.049349436836626216), 0.0007000000000000001: (0.0943284070331083, 0.012797116461966624, 0.049349436836626216), 0.0008000000000000001: (0.0943284070331083, 0.012797116461966624, 0.049349436836626216), 0.0009000000000000002: (0.0953289286184624, 0.012776184391633133, 0.04978644552755151), 0.0010000000000000002: (0.0953289286184624, 0.012776184391633133, 0.04978644552755151), 0.002: (0.10231366159088469, 0.014266395272466493, 0.05373997485202166), 0.003: (0.11831053065956838, 0.019926465575855975, 0.06403426567946544), 0.004: (0.12379251624674704, 0.024856735911212506, 0.06921188243236201), 0.005: (0.12379251624674704, 0.024856735911212506, 0.06921188243236201), 0.006: (0.12379251624674704, 0.024856735911212506, 0.06921188243236201), 0.007: (0.12379251624674704, 0.024856735911212506, 0.06921188243236201), 0.008: (0.12379251624674704, 0.024856735911212506, 0.06921188243236201), 0.009000000000000001: (0.1282245071905778, 0.02469393603152163, 0.07110903113265049), 0.010000000000000002: (0.1368589224902983, 0.027252030141505203, 0.07639127737208917), 0.020000000000000004: (0.17484906809715464, 0.05536967793121294, 0.1089349890764318), 0.030000000000000006: (0.17484906809715464, 0.05536967793121294, 0.1089349890764318), 0.04000000000000001: (0.17484906809715464, 0.05536967793121294, 0.1089349890764318), 0.05000000000000001: (0.17484906809715464, 0.05536967793121294, 0.1089349890764318), 0.06000000000000001: (0.17484906809715464, 0.05536967793121294, 0.1089349890764318), 0.07: (0.17484906809715464, 0.05536967793121294, 0.1089349890764318), 0.08: (0.17484906809715464, 0.05536967793121294, 0.1089349890764318), 0.09: (0.17484906809715464, 0.05536967793121294, 0.1089349890764318), 0.09999999999999999: (0.17484906809715464, 0.05536967793121294, 0.1089349890764318), 0.10999999999999999: (0.17484906809715464, 0.05536967793121294, 0.1089349890764318), 0.21: (0.17484906809715464, 0.05536967793121294, 0.1089349890764318), 0.31: (0.17484906809715464, 0.05536967793121294, 0.1089349890764318), 0.41000000000000003: (0.17484906809715464, 0.05536967793121294, 0.1089349890764318)},\n",
    "{0: (0.09395027994767068, 0.010982976428705892, 0.0468910791478046), 1e-06: (0.09591107089586884, 0.011153510876785306, 0.04909960037233769), 2e-06: (0.0970409852003778, 0.011130080227581062, 0.04959252402619492), 3e-06: (0.09675609481916372, 0.011324381587087066, 0.04957229050910939), 4e-06: (0.09691208666962722, 0.011140194075699876, 0.049540401819283604), 4.9999999999999996e-06: (0.09878472830283058, 0.011141488722572774, 0.05037950137942371), 5.999999999999999e-06: (0.10052714805739951, 0.011017609324372632, 0.051091166971670474), 6.999999999999999e-06: (0.09993275729350402, 0.010864355695005644, 0.05074041557121545), 8e-06: (0.09840522967752749, 0.010727378891448132, 0.04998088703818052), 9e-06: (0.09931971919828111, 0.010433969050217158, 0.050228255592188506), 1e-05: (0.09922082994592017, 0.010561826821375426, 0.05025459837347008), 1.9999999999999998e-05: (0.09956989413656697, 0.011715585943549954, 0.051048094341756105), 2.9999999999999997e-05: (0.09568299789346184, 0.011651500027771418, 0.04927253038469611), 3.9999999999999996e-05: (0.0939131851058883, 0.011985828130960666, 0.048664831386890955), 4.9999999999999996e-05: (0.09194397114030026, 0.011918784443600216, 0.047746183151250066), 5.9999999999999995e-05: (0.09372759562148099, 0.011837157940466995, 0.04849963237194028), 7e-05: (0.0927720911940776, 0.011905037828329251, 0.04810934153371426), 7.999999999999999e-05: (0.09294991967073678, 0.012093647521513557, 0.04829312445974008), 8.999999999999999e-05: (0.09325793503834078, 0.012097354365618996, 0.04843307069611136), 9.999999999999999e-05: (0.09315191036207841, 0.012086365800337097, 0.048379534318318554), 0.00019999999999999998: (0.0951324749025081, 0.012477956200426568, 0.04948251087584215), 0.0003: (0.09158177199394169, 0.013217321831368962, 0.04830120624792384), 0.00039999999999999996: (0.09337838320940416, 0.013306100941879393, 0.049154584408752575), 0.0005: (0.0971912245800191, 0.013409432379825705, 0.05091866912768044), 0.0006000000000000001: (0.09775008567264558, 0.013056259971542689, 0.050973815515274294), 0.0007000000000000001: (0.09775008567264558, 0.013056259971542689, 0.050973815515274294), 0.0008000000000000001: (0.09775008567264558, 0.013056259971542689, 0.050973815515274294), 0.0009000000000000002: (0.09864302318122654, 0.013186202349400898, 0.05144535198230352), 0.0010000000000000002: (0.09864302318122654, 0.013186202349400898, 0.05144535198230352), 0.002: (0.10593337028290806, 0.01391883152395444, 0.05511388152130077), 0.003: (0.12393858865346558, 0.020704177675388284, 0.06692238165757879), 0.004: (0.12826379908561591, 0.026844084456042087, 0.07224984610232697), 0.005: (0.12826379908561591, 0.026844084456042087, 0.07224984610232697), 0.006: (0.12826379908561591, 0.026844084456042087, 0.07224984610232697), 0.007: (0.12826379908561591, 0.026844084456042087, 0.07224984610232697), 0.008: (0.12826379908561591, 0.026844084456042087, 0.07224984610232697), 0.009000000000000001: (0.12826379908561591, 0.026844084456042087, 0.07224984610232697), 0.010000000000000002: (0.13222571645513245, 0.026695597305257897, 0.07394159335370275), 0.020000000000000004: (0.18016127902665582, 0.05763552648634556, 0.11249049364629793), 0.030000000000000006: (0.18016127902665582, 0.05763552648634556, 0.11249049364629793), 0.04000000000000001: (0.18016127902665582, 0.05763552648634556, 0.11249049364629793), 0.05000000000000001: (0.18016127902665582, 0.05763552648634556, 0.11249049364629793), 0.06000000000000001: (0.18016127902665582, 0.05763552648634556, 0.11249049364629793), 0.07: (0.18016127902665582, 0.05763552648634556, 0.11249049364629793), 0.08: (0.18016127902665582, 0.05763552648634556, 0.11249049364629793), 0.09: (0.18016127902665582, 0.05763552648634556, 0.11249049364629793), 0.09999999999999999: (0.18016127902665582, 0.05763552648634556, 0.11249049364629793), 0.10999999999999999: (0.18016127902665582, 0.05763552648634556, 0.11249049364629793), 0.21: (0.18016127902665582, 0.05763552648634556, 0.11249049364629793), 0.31: (0.18016127902665582, 0.05763552648634556, 0.11249049364629793), 0.41000000000000003: (0.18016127902665582, 0.05763552648634556, 0.11249049364629793)},\n",
    "{0: (0.09395027994767068, 0.010982976428705892, 0.0468910791478046), 1e-06: (0.096337604114092, 0.01043443426789435, 0.04479570220637341), 2e-06: (0.09487554439421321, 0.010397892769145958, 0.04418895341917286), 3e-06: (0.0953965831181218, 0.010100345868014091, 0.04421884076805717), 4e-06: (0.09594623410536209, 0.009669703356097492, 0.044180315655803326), 4.9999999999999996e-06: (0.09637632243865227, 0.009420103251406195, 0.04420259092630462), 5.999999999999999e-06: (0.09519049360827983, 0.009676247567493497, 0.043881945983808034), 6.999999999999999e-06: (0.09478421071125458, 0.009787576598860757, 0.04378623024381829), 8e-06: (0.0940199653488305, 0.010142387228840446, 0.04369341847683647), 9e-06: (0.09457657886091282, 0.009967590684406469, 0.04381118595500901), 1e-05: (0.09463782311650598, 0.010096878347499961, 0.04391325625510237), 1.9999999999999998e-05: (0.09158776867328405, 0.010735196109112895, 0.04307622513478136), 2.9999999999999997e-05: (0.09039092052766812, 0.011215507688775918, 0.042885672824332796), 3.9999999999999996e-05: (0.08775270825031313, 0.011036231533048566, 0.041722822219954395), 4.9999999999999996e-05: (0.08624756161294547, 0.010977806263792592, 0.04108570840345375), 5.9999999999999995e-05: (0.08602083926387019, 0.010962874284463577, 0.04098606027622622), 7e-05: (0.08681887539782437, 0.010807688288946685, 0.04121216313249776), 7.999999999999999e-05: (0.08555070302632696, 0.011067680316033772, 0.04086088940015104), 8.999999999999999e-05: (0.08558773074770118, 0.011067680316033772, 0.040875700488700734), 9.999999999999999e-05: (0.08558773074770118, 0.011067680316033772, 0.040875700488700734), 0.00019999999999999998: (0.08787368345693226, 0.010788861116806955, 0.04162279005285708), 0.0003: (0.0888176682721835, 0.01174493282375302, 0.04257402700312521), 0.00039999999999999996: (0.0893353218027345, 0.012595288380660053, 0.043291301749489836), 0.0005: (0.08974486264362116, 0.01257798318887568, 0.04344473497077387), 0.0006000000000000001: (0.09345083073738825, 0.012759631469649299, 0.045036111176744886), 0.0007000000000000001: (0.09526059887677905, 0.012756733952681053, 0.04575827992232025), 0.0008000000000000001: (0.09526059887677905, 0.012756733952681053, 0.04575827992232025), 0.0009000000000000002: (0.09711726304250036, 0.012747549275364808, 0.04649543478221903), 0.0010000000000000002: (0.09711726304250036, 0.012747549275364808, 0.04649543478221903), 0.002: (0.11094928586741422, 0.01615529950711938, 0.054072894051237316), 0.003: (0.12034877470510072, 0.020827029260397905, 0.06063572743827903), 0.004: (0.12807387436013384, 0.02680249945092545, 0.0673110494146088), 0.005: (0.12807387436013384, 0.02680249945092545, 0.0673110494146088), 0.006: (0.12807387436013384, 0.02680249945092545, 0.0673110494146088), 0.007: (0.12807387436013384, 0.02680249945092545, 0.0673110494146088), 0.008: (0.12807387436013384, 0.02680249945092545, 0.0673110494146088), 0.009000000000000001: (0.12807387436013384, 0.02680249945092545, 0.0673110494146088), 0.010000000000000002: (0.14610991713948435, 0.028555062405859023, 0.07557700429930915), 0.020000000000000004: (0.18574531973830172, 0.05525802397273093, 0.10745294227895925), 0.030000000000000006: (0.18574531973830172, 0.05525802397273093, 0.10745294227895925), 0.04000000000000001: (0.18574531973830172, 0.05525802397273093, 0.10745294227895925), 0.05000000000000001: (0.18574531973830172, 0.05525802397273093, 0.10745294227895925), 0.06000000000000001: (0.18574531973830172, 0.05525802397273093, 0.10745294227895925), 0.07: (0.18574531973830172, 0.05525802397273093, 0.10745294227895925), 0.08: (0.18574531973830172, 0.05525802397273093, 0.10745294227895925), 0.09: (0.18574531973830172, 0.05525802397273093, 0.10745294227895925), 0.09999999999999999: (0.18574531973830172, 0.05525802397273093, 0.10745294227895925), 0.10999999999999999: (0.18574531973830172, 0.05525802397273093, 0.10745294227895925), 0.21: (0.18574531973830172, 0.05525802397273093, 0.10745294227895925), 0.31: (0.18574531973830172, 0.05525802397273093, 0.10745294227895925), 0.41000000000000003: (0.18574531973830172, 0.05525802397273093, 0.10745294227895925)},\n",
    "]\n",
    "thermo = [\n",
    "{0: (0.15875161178278316, 0.3264679655882616, 0.16084806620535164), 1e-06: (0.11887160510780823, 0.33500362860091937, 0.133906876307329), 2e-06: (0.12164226320700933, 0.33672678817020907, 0.13660466494357976), 3e-06: (0.12329798302463525, 0.33653970446832304, 0.13813218973376135), 4e-06: (0.12295708729785748, 0.3409869149247384, 0.13812437965451008), 4.9999999999999996e-06: (0.1261235930038122, 0.34181305665496137, 0.14112807743171824), 5.999999999999999e-06: (0.1253471848974034, 0.31727254018615536, 0.13869851396096874), 6.999999999999999e-06: (0.12528570446648085, 0.3138623083330939, 0.13840407690937567), 8e-06: (0.1233392742396632, 0.3138623083330939, 0.1365930505244236), 9e-06: (0.12346254342585385, 0.3138623083330939, 0.13670774446287923), 1e-05: (0.12346254342585385, 0.3138623083330939, 0.13670774446287923), 1.9999999999999998e-05: (0.11246092162914127, 0.2637558484831152, 0.12298578610593945), 2.9999999999999997e-05: (0.11878821117388445, 0.2743672680527164, 0.1296111020871945), 3.9999999999999996e-05: (0.12261981058877026, 0.2483501870691204, 0.13136627156131636), 4.9999999999999996e-05: (0.11590840685641482, 0.25451300851876374, 0.12555046610249126), 5.9999999999999995e-05: (0.11760828487021956, 0.25451300851876374, 0.127132091732727), 7e-05: (0.12251932642321367, 0.2526125210049907, 0.13156928778542426), 7.999999999999999e-05: (0.12251932642321367, 0.2526125210049907, 0.13156928778542426), 8.999999999999999e-05: (0.13905357522834078, 0.24891722053058327, 0.14669626359719243), 9.999999999999999e-05: (0.13150954025053221, 0.24891722053058327, 0.13967703105262272), 0.00019999999999999998: (0.12493340339366775, 0.26517683293703603, 0.13468946805755425), 0.0003: (0.12493340339366775, 0.26517683293703603, 0.13468946805755425), 0.00039999999999999996: (0.13494388944977662, 0.2383474658530817, 0.14213718172131087), 0.0005: (0.13494388944977662, 0.2383474658530817, 0.14213718172131087), 0.0006000000000000001: (0.13494388944977662, 0.2383474658530817, 0.14213718172131087), 0.0007000000000000001: (0.13494388944977662, 0.2383474658530817, 0.14213718172131087), 0.0008000000000000001: (0.13494388944977662, 0.2383474658530817, 0.14213718172131087), 0.0009000000000000002: (0.13494388944977662, 0.2383474658530817, 0.14213718172131087), 0.0010000000000000002: (0.13494388944977662, 0.2383474658530817, 0.14213718172131087), 0.002: (0.13494388944977662, 0.2383474658530817, 0.14213718172131087), 0.003: (0.13494388944977662, 0.2383474658530817, 0.14213718172131087), 0.004: (0.1703753769159079, 0.36909604235414795, 0.18419942320726373), 0.005: (0.1703753769159079, 0.36909604235414795, 0.18419942320726373), 0.006: (0.1703753769159079, 0.36909604235414795, 0.18419942320726373), 0.007: (0.1703753769159079, 0.36909604235414795, 0.18419942320726373), 0.008: (0.1703753769159079, 0.36909604235414795, 0.18419942320726373), 0.009000000000000001: (0.1703753769159079, 0.36909604235414795, 0.18419942320726373), 0.010000000000000002: (0.1955836201893864, 0.3654416741466174, 0.20739983263858508), 0.020000000000000004: (0.1955836201893864, 0.3654416741466174, 0.20739983263858508), 0.030000000000000006: (0.1955836201893864, 0.3654416741466174, 0.20739983263858508), 0.04000000000000001: (0.1955836201893864, 0.3654416741466174, 0.20739983263858508), 0.05000000000000001: (0.1955836201893864, 0.3654416741466174, 0.20739983263858508), 0.06000000000000001: (0.1955836201893864, 0.3654416741466174, 0.20739983263858508), 0.07: (0.1955836201893864, 0.3654416741466174, 0.20739983263858508), 0.08: (0.1955836201893864, 0.3654416741466174, 0.20739983263858508), 0.09: (0.1955836201893864, 0.3654416741466174, 0.20739983263858508), 0.09999999999999999: (0.1955836201893864, 0.3654416741466174, 0.20739983263858508), 0.10999999999999999: (0.1955836201893864, 0.3654416741466174, 0.20739983263858508), 0.21: (0.1955836201893864, 0.3654416741466174, 0.20739983263858508), 0.31: (0.1955836201893864, 0.3654416741466174, 0.20739983263858508), 0.41000000000000003: (0.1955836201893864, 0.3654416741466174, 0.20739983263858508)},\n",
    "{0: (0.1810013873241064, 0.3538006057620372, 0.19392095505778345), 1e-06: (0.15321206620135347, 0.3277792393757944, 0.155394155866034), 2e-06: (0.14825631983637333, 0.23576372550278113, 0.14935016240720342), 3e-06: (0.1474347512520201, 0.23576372550278113, 0.14853886343015463), 4e-06: (0.1468921710956423, 0.23576372550278113, 0.14800306552573153), 4.9999999999999996e-06: (0.14621981733514436, 0.23576372550278113, 0.14733911618723983), 5.999999999999999e-06: (0.147103002565676, 0.23576372550278113, 0.1482112616023898), 6.999999999999999e-06: (0.14782175610700174, 0.25679929588275124, 0.14918397535419864), 8e-06: (0.14782175610700174, 0.25679929588275124, 0.14918397535419864), 9e-06: (0.14717803047298758, 0.25679929588275124, 0.14854829629060964), 1e-05: (0.14717803047298758, 0.25679929588275124, 0.14854829629060964), 1.9999999999999998e-05: (0.15074271703511033, 0.2396229885105322, 0.1518537204285531), 2.9999999999999997e-05: (0.13329241453534876, 0.23182745570263852, 0.1345241025499399), 3.9999999999999996e-05: (0.13397861405030392, 0.21885114669849376, 0.1350395207084063), 4.9999999999999996e-05: (0.13156741622569726, 0.19455056201173598, 0.13235470554802276), 5.9999999999999995e-05: (0.13526578849774246, 0.19455056201173598, 0.13600684816666736), 7e-05: (0.13526578849774246, 0.19455056201173598, 0.13600684816666736), 7.999999999999999e-05: (0.13526578849774246, 0.19455056201173598, 0.13600684816666736), 8.999999999999999e-05: (0.13526578849774246, 0.19455056201173598, 0.13600684816666736), 9.999999999999999e-05: (0.13526578849774246, 0.19455056201173598, 0.13600684816666736), 0.00019999999999999998: (0.14351012874535554, 0.22310092970505546, 0.14450501375735178), 0.0003: (0.1681913028215666, 0.22310092970505546, 0.1688776731576102), 0.00039999999999999996: (0.1681913028215666, 0.22310092970505546, 0.1688776731576102), 0.0005: (0.1681913028215666, 0.22310092970505546, 0.1688776731576102), 0.0006000000000000001: (0.1681913028215666, 0.22310092970505546, 0.1688776731576102), 0.0007000000000000001: (0.14858758521620627, 0.22310092970505546, 0.14951900202231688), 0.0008000000000000001: (0.14858758521620627, 0.22310092970505546, 0.14951900202231688), 0.0009000000000000002: (0.14858758521620627, 0.22310092970505546, 0.14951900202231688), 0.0010000000000000002: (0.14858758521620627, 0.22310092970505546, 0.14951900202231688), 0.002: (0.14858758521620627, 0.22310092970505546, 0.14951900202231688), 0.003: (0.14858758521620627, 0.22310092970505546, 0.14951900202231688), 0.004: (0.19432626131771927, 0.3617116129469486, 0.19641857821308464), 0.005: (0.19432626131771927, 0.3617116129469486, 0.19641857821308464), 0.006: (0.19432626131771927, 0.3617116129469486, 0.19641857821308464), 0.007: (0.19432626131771927, 0.3617116129469486, 0.19641857821308464), 0.008: (0.19432626131771927, 0.3617116129469486, 0.19641857821308464), 0.009000000000000001: (0.19432626131771927, 0.3617116129469486, 0.19641857821308464), 0.010000000000000002: (0.19432626131771927, 0.3617116129469486, 0.19641857821308464), 0.020000000000000004: (0.15774619410967686, 0.3617116129469486, 0.16029576184514274), 0.030000000000000006: (0.15774619410967686, 0.3617116129469486, 0.16029576184514274), 0.04000000000000001: (0.15774619410967686, 0.3617116129469486, 0.16029576184514274), 0.05000000000000001: (0.15774619410967686, 0.3617116129469486, 0.16029576184514274), 0.06000000000000001: (0.15774619410967686, 0.3617116129469486, 0.16029576184514274), 0.07: (0.15774619410967686, 0.3617116129469486, 0.16029576184514274), 0.08: (0.15774619410967686, 0.3617116129469486, 0.16029576184514274), 0.09: (0.15774619410967686, 0.3617116129469486, 0.16029576184514274), 0.09999999999999999: (0.15774619410967686, 0.3617116129469486, 0.16029576184514274), 0.10999999999999999: (0.15774619410967686, 0.3617116129469486, 0.16029576184514274), 0.21: (0.15774619410967686, 0.3617116129469486, 0.16029576184514274), 0.31: (0.15774619410967686, 0.3617116129469486, 0.16029576184514274), 0.41000000000000003: (0.15774619410967686, 0.3617116129469486, 0.16029576184514274)},\n",
    "{0: (0.16628098277867354, 0.3676331533319274, 0.17353691685266465), 1e-06: (0.17884555600789098, 0.3563660294537609, 0.192118114770199), 2e-06: (0.17721687296592223, 0.32782131711229096, 0.18847701832266006), 3e-06: (0.17598501429767033, 0.31896524610432553, 0.18667512508695294), 4e-06: (0.1726200551890455, 0.30278412142060646, 0.1823519479914052), 4.9999999999999996e-06: (0.17288562990208772, 0.2960978549978649, 0.18209775888121124), 5.999999999999999e-06: (0.1728215436232531, 0.2960978549978649, 0.1820384640998596), 6.999999999999999e-06: (0.17447890180502612, 0.29228366157572333, 0.18328673431124648), 8e-06: (0.17153015955358109, 0.2891396241416032, 0.1803233905508164), 9e-06: (0.17106898790793837, 0.2891396241416032, 0.17989669902821237), 1e-05: (0.17090082570021867, 0.2891396241416032, 0.1797411096958362), 1.9999999999999998e-05: (0.15904503813965232, 0.28909300474508653, 0.16876825059613337), 2.9999999999999997e-05: (0.17023879160854188, 0.2971239530708078, 0.1797255326524496), 3.9999999999999996e-05: (0.17211711407704974, 0.27122222305111193, 0.17952684185081141), 4.9999999999999996e-05: (0.17271334004821634, 0.27122222305111193, 0.18007849017927396), 5.9999999999999995e-05: (0.17727855553457963, 0.27122222305111193, 0.18430238114329234), 7e-05: (0.17727855553457963, 0.27122222305111193, 0.18430238114329234), 7.999999999999999e-05: (0.17727855553457963, 0.27122222305111193, 0.18430238114329234), 8.999999999999999e-05: (0.16770554969578924, 0.27122222305111193, 0.17544511405880403), 9.999999999999999e-05: (0.16274808160981044, 0.27412072451648, 0.17107500818227173), 0.00019999999999999998: (0.16409740396972117, 0.26407223831606025, 0.17157215793954092), 0.0003: (0.18361687604563287, 0.29996440864931595, 0.1923157569879643), 0.00039999999999999996: (0.18361687604563287, 0.29996440864931595, 0.1923157569879643), 0.0005: (0.18361687604563287, 0.29996440864931595, 0.1923157569879643), 0.0006000000000000001: (0.17348092092486372, 0.30468800347123703, 0.1832907962554337), 0.0007000000000000001: (0.17348092092486372, 0.30468800347123703, 0.1832907962554337), 0.0008000000000000001: (0.17348092092486372, 0.30468800347123703, 0.1832907962554337), 0.0009000000000000002: (0.17348092092486372, 0.30468800347123703, 0.1832907962554337), 0.0010000000000000002: (0.17348092092486372, 0.30468800347123703, 0.1832907962554337), 0.002: (0.17348092092486372, 0.30468800347123703, 0.1832907962554337), 0.003: (0.18836532322122643, 0.40260792341306073, 0.2043834615533262), 0.004: (0.18836532322122643, 0.40260792341306073, 0.2043834615533262), 0.005: (0.18836532322122643, 0.40260792341306073, 0.2043834615533262), 0.006: (0.18836532322122643, 0.40260792341306073, 0.2043834615533262), 0.007: (0.18836532322122643, 0.40260792341306073, 0.2043834615533262), 0.008: (0.18836532322122643, 0.40260792341306073, 0.2043834615533262), 0.009000000000000001: (0.18836532322122643, 0.40260792341306073, 0.2043834615533262), 0.010000000000000002: (0.17904182973621646, 0.4115369572116892, 0.1964246430054107), 0.020000000000000004: (0.17904182973621646, 0.4115369572116892, 0.1964246430054107), 0.030000000000000006: (0.17904182973621646, 0.4115369572116892, 0.1964246430054107), 0.04000000000000001: (0.17904182973621646, 0.4115369572116892, 0.1964246430054107), 0.05000000000000001: (0.17904182973621646, 0.4115369572116892, 0.1964246430054107), 0.06000000000000001: (0.17904182973621646, 0.4115369572116892, 0.1964246430054107), 0.07: (0.17904182973621646, 0.4115369572116892, 0.1964246430054107), 0.08: (0.17904182973621646, 0.4115369572116892, 0.1964246430054107), 0.09: (0.17904182973621646, 0.4115369572116892, 0.1964246430054107), 0.09999999999999999: (0.17904182973621646, 0.4115369572116892, 0.1964246430054107), 0.10999999999999999: (0.17904182973621646, 0.4115369572116892, 0.1964246430054107), 0.21: (0.17904182973621646, 0.4115369572116892, 0.1964246430054107), 0.31: (0.17904182973621646, 0.4115369572116892, 0.1964246430054107), 0.41000000000000003: (0.17904182973621646, 0.4115369572116892, 0.1964246430054107)},\n",
    "{0: (0.16963996893189845, 0.3153566205441658, 0.17295171101399542), 1e-06: (0.14179188595436254, 0.30187417997895455, 0.15162150049973222), 2e-06: (0.14491330268311703, 0.3334011774232459, 0.15648711955312497), 3e-06: (0.14462121902298908, 0.3168329966905124, 0.15519562642362647), 4e-06: (0.1409249621306628, 0.3235723267725178, 0.1521401511876188), 4.9999999999999996e-06: (0.1493216908468727, 0.3247880711355308, 0.16009594226810608), 5.999999999999999e-06: (0.14960532814376087, 0.3270133725683934, 0.1604988045557997), 6.999999999999999e-06: (0.14927352588142687, 0.31190387752506543, 0.15925960010515905), 8e-06: (0.15210211971490126, 0.31190387752506543, 0.16191450835236748), 9e-06: (0.15282032308078253, 0.31190387752506543, 0.16258861151157183), 1e-05: (0.15129554379509927, 0.31190387752506543, 0.16115745902413228), 1.9999999999999998e-05: (0.14296619150149478, 0.24159065787911274, 0.14902207978783974), 2.9999999999999997e-05: (0.1387957476856614, 0.24796220691581944, 0.14549895132260093), 3.9999999999999996e-05: (0.1438162692791156, 0.24796220691581944, 0.15021119527435178), 4.9999999999999996e-05: (0.1432442860920366, 0.22969736141156027, 0.1485528082607793), 5.9999999999999995e-05: (0.1432442860920366, 0.22969736141156027, 0.1485528082607793), 7e-05: (0.14789099117900278, 0.22969736141156027, 0.15291418935117737), 7.999999999999999e-05: (0.1517265683787768, 0.22969736141156027, 0.15651424865271962), 8.999999999999999e-05: (0.1517265683787768, 0.22969736141156027, 0.15651424865271962), 9.999999999999999e-05: (0.1517265683787768, 0.22969736141156027, 0.15651424865271962), 0.00019999999999999998: (0.1527257617155808, 0.2488580403334337, 0.15862862092895774), 0.0003: (0.14690099643019566, 0.2488580403334337, 0.1531615166698682), 0.00039999999999999996: (0.14690099643019566, 0.2488580403334337, 0.1531615166698682), 0.0005: (0.14690099643019566, 0.2488580403334337, 0.1531615166698682), 0.0006000000000000001: (0.14690099643019566, 0.2488580403334337, 0.1531615166698682), 0.0007000000000000001: (0.14690099643019566, 0.2488580403334337, 0.1531615166698682), 0.0008000000000000001: (0.14690099643019566, 0.2488580403334337, 0.1531615166698682), 0.0009000000000000002: (0.14690099643019566, 0.2488580403334337, 0.1531615166698682), 0.0010000000000000002: (0.14690099643019566, 0.2488580403334337, 0.1531615166698682), 0.002: (0.14690099643019566, 0.2488580403334337, 0.1531615166698682), 0.003: (0.17172109235266986, 0.3821850130361387, 0.18464431555253197), 0.004: (0.17172109235266986, 0.3821850130361387, 0.18464431555253197), 0.005: (0.17172109235266986, 0.3821850130361387, 0.18464431555253197), 0.006: (0.17172109235266986, 0.3821850130361387, 0.18464431555253197), 0.007: (0.17172109235266986, 0.3821850130361387, 0.18464431555253197), 0.008: (0.17172109235266986, 0.3821850130361387, 0.18464431555253197), 0.009000000000000001: (0.17172109235266986, 0.3821850130361387, 0.18464431555253197), 0.010000000000000002: (0.1965334902590736, 0.3821850130361387, 0.20793314516643724), 0.020000000000000004: (0.1965334902590736, 0.3821850130361387, 0.20793314516643724), 0.030000000000000006: (0.1965334902590736, 0.3821850130361387, 0.20793314516643724), 0.04000000000000001: (0.1965334902590736, 0.3821850130361387, 0.20793314516643724), 0.05000000000000001: (0.1965334902590736, 0.3821850130361387, 0.20793314516643724), 0.06000000000000001: (0.1965334902590736, 0.3821850130361387, 0.20793314516643724), 0.07: (0.1965334902590736, 0.3821850130361387, 0.20793314516643724), 0.08: (0.1965334902590736, 0.3821850130361387, 0.20793314516643724), 0.09: (0.1965334902590736, 0.3821850130361387, 0.20793314516643724), 0.09999999999999999: (0.1965334902590736, 0.3821850130361387, 0.20793314516643724), 0.10999999999999999: (0.1965334902590736, 0.3821850130361387, 0.20793314516643724), 0.21: (0.1965334902590736, 0.3821850130361387, 0.20793314516643724), 0.31: (0.1965334902590736, 0.3821850130361387, 0.20793314516643724), 0.41000000000000003: (0.1965334902590736, 0.3821850130361387, 0.20793314516643724)},\n",
    "{0: (0.16857915224072995, 0.34152436012497667, 0.18830097419244227), 1e-06: (0.1723697470271743, 0.32610239402112356, 0.17586367082249132), 2e-06: (0.16920574230902227, 0.2689052949512938, 0.17147164123271028), 3e-06: (0.1678340153573998, 0.2689052949512938, 0.17013108989362466), 4e-06: (0.17033432161018955, 0.2661650374820995, 0.1725122924254602), 4.9999999999999996e-06: (0.16778286979608725, 0.2560808103701715, 0.16978964117277098), 5.999999999999999e-06: (0.16646913391994825, 0.25937177992083815, 0.16858055769269575), 6.999999999999999e-06: (0.16708832065016482, 0.25937177992083815, 0.1691856719972256), 8e-06: (0.17119574111908134, 0.25937177992083815, 0.17319974200093943), 9e-06: (0.17324418365704605, 0.25937177992083815, 0.17520162902667769), 1e-05: (0.17225299355561186, 0.25937177992083815, 0.17423296597300333), 1.9999999999999998e-05: (0.15974975558743115, 0.23881789495539985, 0.16154675875488497), 2.9999999999999997e-05: (0.15871682901045248, 0.2509542972133504, 0.1608131351059729), 3.9999999999999996e-05: (0.16074606811392775, 0.2509542972133504, 0.16279625513891463), 4.9999999999999996e-05: (0.15651614862345448, 0.2509542972133504, 0.15866247018231575), 5.9999999999999995e-05: (0.15629091126367267, 0.20846475595586395, 0.15747668046122248), 7e-05: (0.1632295346415773, 0.20846475595586395, 0.16425760785326562), 7.999999999999999e-05: (0.15777291415014702, 0.20846475595586395, 0.1589250014639133), 8.999999999999999e-05: (0.15778082645680866, 0.20846475595586395, 0.15893273394542357), 9.999999999999999e-05: (0.1568208577776686, 0.20846475595586395, 0.15799458273626396), 0.00019999999999999998: (0.15826477238472142, 0.20846475595586395, 0.1594056811022474), 0.0003: (0.16286475295626687, 0.2576464295848576, 0.16501888197055303), 0.00039999999999999996: (0.16286475295626687, 0.2576464295848576, 0.16501888197055303), 0.0005: (0.15677509863953587, 0.2576464295848576, 0.15906762888829318), 0.0006000000000000001: (0.15677509863953587, 0.2576464295848576, 0.15906762888829318), 0.0007000000000000001: (0.15677509863953587, 0.2576464295848576, 0.15906762888829318), 0.0008000000000000001: (0.15677509863953587, 0.2576464295848576, 0.15906762888829318), 0.0009000000000000002: (0.15677509863953587, 0.2576464295848576, 0.15906762888829318), 0.0010000000000000002: (0.15677509863953587, 0.2576464295848576, 0.15906762888829318), 0.002: (0.15677509863953587, 0.2576464295848576, 0.15906762888829318), 0.003: (0.15677509863953587, 0.2576464295848576, 0.15906762888829318), 0.004: (0.15668494221133908, 0.33262123497014906, 0.16068349431949383), 0.005: (0.15668494221133908, 0.33262123497014906, 0.16068349431949383), 0.006: (0.15668494221133908, 0.33262123497014906, 0.16068349431949383), 0.007: (0.15668494221133908, 0.33262123497014906, 0.16068349431949383), 0.008: (0.15668494221133908, 0.33262123497014906, 0.16068349431949383), 0.009000000000000001: (0.15668494221133908, 0.33262123497014906, 0.16068349431949383), 0.010000000000000002: (0.18501865489351832, 0.33262123497014906, 0.18837325898616902), 0.020000000000000004: (0.18501865489351832, 0.33262123497014906, 0.18837325898616902), 0.030000000000000006: (0.18501865489351832, 0.33262123497014906, 0.18837325898616902), 0.04000000000000001: (0.18501865489351832, 0.33262123497014906, 0.18837325898616902), 0.05000000000000001: (0.18501865489351832, 0.33262123497014906, 0.18837325898616902), 0.06000000000000001: (0.18501865489351832, 0.33262123497014906, 0.18837325898616902), 0.07: (0.18501865489351832, 0.33262123497014906, 0.18837325898616902), 0.08: (0.18501865489351832, 0.33262123497014906, 0.18837325898616902), 0.09: (0.18501865489351832, 0.33262123497014906, 0.18837325898616902), 0.09999999999999999: (0.18501865489351832, 0.33262123497014906, 0.18837325898616902), 0.10999999999999999: (0.18501865489351832, 0.33262123497014906, 0.18837325898616902), 0.21: (0.18501865489351832, 0.33262123497014906, 0.18837325898616902), 0.31: (0.18501865489351832, 0.33262123497014906, 0.18837325898616902), 0.41000000000000003: (0.18501865489351832, 0.33262123497014906, 0.18837325898616902)},\n",
    "{0: (0.16360740210010688, 0.3252514689258883, 0.1685810656947463), 1e-06: (0.14067690765787, 0.3164767165688214, 0.15072261102421008), 2e-06: (0.14012272901136347, 0.3079762137177895, 0.14971435670887354), 3e-06: (0.14000298496849795, 0.32041401157107624, 0.15031218648864528), 4e-06: (0.14232605537734405, 0.32041401157107624, 0.1525025100169859), 4.9999999999999996e-06: (0.14003735916097163, 0.3128583814169577, 0.149912846147028), 5.999999999999999e-06: (0.14057172981722155, 0.3169301502318285, 0.15064935384091338), 6.999999999999999e-06: (0.13515829869880863, 0.3169301502318285, 0.14554526164355264), 8e-06: (0.1364764508262232, 0.3211120883100872, 0.147027058682444), 9e-06: (0.13402712551278093, 0.3211120883100872, 0.14471769481548413), 1e-05: (0.13402712551278093, 0.3211120883100872, 0.14471769481548413), 1.9999999999999998e-05: (0.13087396341265964, 0.28565327079333586, 0.139718495262984), 2.9999999999999997e-05: (0.12938830859670997, 0.24725852611126353, 0.1361237495975416), 3.9999999999999996e-05: (0.13143216511648592, 0.25840066735800454, 0.13868750810171557), 4.9999999999999996e-05: (0.1309104801755894, 0.25840066735800454, 0.13819563372887025), 5.9999999999999995e-05: (0.1338838214731761, 0.25840066735800454, 0.140999069809452), 7e-05: (0.13458583935185547, 0.22560315776552844, 0.1397868289754939), 7.999999999999999e-05: (0.13458583935185547, 0.22560315776552844, 0.1397868289754939), 8.999999999999999e-05: (0.13458583935185547, 0.22560315776552844, 0.1397868289754939), 9.999999999999999e-05: (0.13458583935185547, 0.22560315776552844, 0.1397868289754939), 0.00019999999999999998: (0.14540119775695912, 0.23107908102786642, 0.15029707680101095), 0.0003: (0.14540119775695912, 0.23107908102786642, 0.15029707680101095), 0.00039999999999999996: (0.15271414702922145, 0.23107908102786642, 0.15719214325771544), 0.0005: (0.15271414702922145, 0.23107908102786642, 0.15719214325771544), 0.0006000000000000001: (0.15271414702922145, 0.23107908102786642, 0.15719214325771544), 0.0007000000000000001: (0.13090680409350824, 0.23107908102786642, 0.13663093420404301), 0.0008000000000000001: (0.13090680409350824, 0.23107908102786642, 0.13663093420404301), 0.0009000000000000002: (0.13090680409350824, 0.23107908102786642, 0.13663093420404301), 0.0010000000000000002: (0.13090680409350824, 0.23107908102786642, 0.13663093420404301), 0.002: (0.13090680409350824, 0.23107908102786642, 0.13663093420404301), 0.003: (0.13090680409350824, 0.23107908102786642, 0.13663093420404301), 0.004: (0.1691676014418035, 0.36624982310212234, 0.18042944267953603), 0.005: (0.1691676014418035, 0.36624982310212234, 0.18042944267953603), 0.006: (0.1691676014418035, 0.36624982310212234, 0.18042944267953603), 0.007: (0.1691676014418035, 0.36624982310212234, 0.18042944267953603), 0.008: (0.1691676014418035, 0.36624982310212234, 0.18042944267953603), 0.009000000000000001: (0.1892478407813779, 0.36624982310212234, 0.19936223977113476), 0.010000000000000002: (0.1892478407813779, 0.36624982310212234, 0.19936223977113476), 0.020000000000000004: (0.1892478407813779, 0.36624982310212234, 0.19936223977113476), 0.030000000000000006: (0.1892478407813779, 0.36624982310212234, 0.19936223977113476), 0.04000000000000001: (0.1892478407813779, 0.36624982310212234, 0.19936223977113476), 0.05000000000000001: (0.1892478407813779, 0.36624982310212234, 0.19936223977113476), 0.06000000000000001: (0.1892478407813779, 0.36624982310212234, 0.19936223977113476), 0.07: (0.1892478407813779, 0.36624982310212234, 0.19936223977113476), 0.08: (0.1892478407813779, 0.36624982310212234, 0.19936223977113476), 0.09: (0.1892478407813779, 0.36624982310212234, 0.19936223977113476), 0.09999999999999999: (0.1892478407813779, 0.36624982310212234, 0.19936223977113476), 0.10999999999999999: (0.1892478407813779, 0.36624982310212234, 0.19936223977113476), 0.21: (0.1892478407813779, 0.36624982310212234, 0.19936223977113476), 0.31: (0.1892478407813779, 0.36624982310212234, 0.19936223977113476), 0.41000000000000003: (0.1892478407813779, 0.36624982310212234, 0.19936223977113476)},\n",
    "]\n",
    "keys = thermo[0].keys()\n",
    "avg = {k:[] for k in keys}\n",
    "for sample in refit:\n",
    "    s = sorted(sample.items())\n",
    "    for i,k in enumerate(keys):\n",
    "        avg[k].append(s[i][1][2])\n",
    "for k,v in avg.items():\n",
    "    avg[k] = sum(v) / len(v)\n",
    "print(avg)"
   ]
  },
  {
   "cell_type": "markdown",
   "metadata": {},
   "source": []
  }
 ],
 "metadata": {
  "interpreter": {
   "hash": "4fe898ffcadce6da2343864bf819ed3269e46dcfc725e07ab6320af456fe33e5"
  },
  "kernelspec": {
   "display_name": "Python 3.7.6 64-bit ('venv': venv)",
   "name": "python3"
  },
  "language_info": {
   "codemirror_mode": {
    "name": "ipython",
    "version": 3
   },
   "file_extension": ".py",
   "mimetype": "text/x-python",
   "name": "python",
   "nbconvert_exporter": "python",
   "pygments_lexer": "ipython3",
   "version": "3.7.6"
  },
  "metadata": {
   "interpreter": {
    "hash": "4fe898ffcadce6da2343864bf819ed3269e46dcfc725e07ab6320af456fe33e5"
   }
  },
  "orig_nbformat": 2
 },
 "nbformat": 4,
 "nbformat_minor": 2
}

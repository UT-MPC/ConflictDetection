{
 "metadata": {
  "language_info": {
   "codemirror_mode": {
    "name": "ipython",
    "version": 3
   },
   "file_extension": ".py",
   "mimetype": "text/x-python",
   "name": "python",
   "nbconvert_exporter": "python",
   "pygments_lexer": "ipython3",
   "version": "3.7.6"
  },
  "orig_nbformat": 2,
  "kernelspec": {
   "name": "python3",
   "display_name": "Python 3.7.6 64-bit ('venv': venv)"
  },
  "metadata": {
   "interpreter": {
    "hash": "4fe898ffcadce6da2343864bf819ed3269e46dcfc725e07ab6320af456fe33e5"
   }
  },
  "interpreter": {
   "hash": "4fe898ffcadce6da2343864bf819ed3269e46dcfc725e07ab6320af456fe33e5"
  }
 },
 "nbformat": 4,
 "nbformat_minor": 2,
 "cells": [
  {
   "cell_type": "code",
   "execution_count": 1,
   "source": [
    "import os\n",
    "os.chdir(\"..\")\n"
   ],
   "outputs": [
    {
     "output_type": "error",
     "ename": "NameError",
     "evalue": "name 'DATA_ROOT' is not defined",
     "traceback": [
      "\u001b[0;31m---------------------------------------------------------------------------\u001b[0m",
      "\u001b[0;31mNameError\u001b[0m                                 Traceback (most recent call last)",
      "\u001b[0;32m<ipython-input-1-accec9bc9c5e>\u001b[0m in \u001b[0;36m<module>\u001b[0;34m\u001b[0m\n\u001b[1;32m      1\u001b[0m \u001b[0;32mimport\u001b[0m \u001b[0mos\u001b[0m\u001b[0;34m\u001b[0m\u001b[0;34m\u001b[0m\u001b[0m\n\u001b[1;32m      2\u001b[0m \u001b[0mos\u001b[0m\u001b[0;34m.\u001b[0m\u001b[0mchdir\u001b[0m\u001b[0;34m(\u001b[0m\u001b[0;34m\"..\"\u001b[0m\u001b[0;34m)\u001b[0m\u001b[0;34m\u001b[0m\u001b[0;34m\u001b[0m\u001b[0m\n\u001b[0;32m----> 3\u001b[0;31m \u001b[0mroot_folder\u001b[0m \u001b[0;34m=\u001b[0m \u001b[0mos\u001b[0m\u001b[0;34m.\u001b[0m\u001b[0mpath\u001b[0m\u001b[0;34m.\u001b[0m\u001b[0mjoin\u001b[0m\u001b[0;34m(\u001b[0m\u001b[0mDATA_ROOT\u001b[0m\u001b[0;34m,\u001b[0m \u001b[0mREFIT_ROOT\u001b[0m\u001b[0;34m)\u001b[0m\u001b[0;34m\u001b[0m\u001b[0;34m\u001b[0m\u001b[0m\n\u001b[0m",
      "\u001b[0;31mNameError\u001b[0m: name 'DATA_ROOT' is not defined"
     ]
    }
   ],
   "metadata": {}
  },
  {
   "cell_type": "code",
   "execution_count": 3,
   "source": [
    "\n",
    "import json\n",
    "import numpy as np\n",
    "import math\n",
    "from typing import Dict, List, Tuple\n",
    "import copy\n",
    "from itertools import combinations\n",
    "from collections import Counter\n",
    "\n",
    "import logging\n",
    "from datetime import timedelta\n",
    "from config import *\n",
    "from utils import *\n",
    "from main import *\n",
    "from GtConflictFinder import GtConflictFinder\n",
    "from ConflictDetector import ConflictDetector, ConflictPredicator\n",
    "from GridPatternBuilder import build_habit_groups\n",
    "\n",
    "import plotly.graph_objects as go\n",
    "from plotly.subplots import make_subplots\n",
    "root_folder = os.path.join(DATA_ROOT, REFIT_ROOT)\n",
    "\n",
    "\n",
    "test_projects = [\n",
    "    # \"House1\",\n",
    "\n",
    "\n",
    "    \"House3\",\n",
    "    \"House4\",\n",
    "    \"House8\",\n",
    "    \"House9\",\n",
    "    \"House15\",\n",
    "\n",
    "\n",
    "    # \"House18\",\n",
    "    # \"House20\",\n",
    "]\n",
    "ctx_info = ContextAccessor({\n",
    "            TIME_CTX: {\n",
    "                \"range\" : (0, 24*60),\n",
    "                \"interval\" : 60,\n",
    "            },\n",
    "            # \"humidity#NUM\" : {\n",
    "            #     \"range\" : (0, 100),\n",
    "            #     \"interval\" : 10,\n",
    "            # },\n",
    "            # \"FeelsLikeC#NUM\" : {\n",
    "            #     \"range\" : (-10., 40),\n",
    "            #     \"interval\" : 5,\n",
    "            # },\n",
    "            # \"tempC#NUM\" : {\n",
    "            #     \"range\" : (-10., 40),\n",
    "            #     \"interval\" : 5,\n",
    "            # },\n",
    "            \"weatherDesc#CAT\": {},\n",
    "            WEEKDAY_CTX: {\n",
    "                \"range\": (0, 6),\n",
    "                \"interval\": 1,\n",
    "            },\n",
    "            # HOLIDAY_CTX: {\n",
    "            #     \"range\": (0,1),\n",
    "            #     \"interval\": 1,\n",
    "            # }\n",
    "        })\n",
    "capacity = {\n",
    "    \"TV\":1,\n",
    "    \"WashingMachine\":1,\n",
    "    \"PC\": 1,\n",
    "}\n",
    "BOOL_SIM = False\n",
    "BOOL_UMASS= False\n",
    "ccp_alpha = 6e-5\n",
    "test_dates = generate_test_date(root_folder, test_projects, test_ratio = 0.4, true_random=False, is_sim=BOOL_SIM, is_umass=BOOL_UMASS)\n",
    "# test_dates = []\n"
   ],
   "outputs": [],
   "metadata": {}
  },
  {
   "cell_type": "code",
   "execution_count": 3,
   "source": [
    "habit_groups = {}\n",
    "grid_data = {}\n",
    "for p in test_projects:\n",
    "    print(p)\n",
    "    grid_data[p] = test_umass(root_folder, test_project=p, ctx_info=ctx_info, ccp_alpha=ccp_alpha, test_dates=test_dates, is_sim=BOOL_SIM, is_umass=BOOL_UMASS)    "
   ],
   "outputs": [
    {
     "output_type": "stream",
     "name": "stdout",
     "text": [
      "House3\n",
      "9802\n",
      "402\n",
      "House4\n",
      "9871\n",
      "410\n",
      "House8\n",
      "8284\n",
      "349\n",
      "House9\n",
      "7766\n",
      "319\n",
      "House15\n",
      "7736\n",
      "322\n"
     ]
    }
   ],
   "metadata": {
    "tags": []
   }
  },
  {
   "cell_type": "code",
   "execution_count": 4,
   "source": [
    "print(len(grid_data[\"House3\"][\"TV\"]))\n",
    "print(ctx_info.get_all_ctx_ordered())\n",
    "habit = {}\n",
    "for x in grid_data[\"House3\"][\"TV\"]:\n",
    "    if int(x[\"coor\"][0]) not in habit:\n",
    "        habit[int(x[\"coor\"][0])] = []\n",
    "    habit[int(x[\"coor\"][0])].append(x[\"distribution\"][1]/ sum(x[\"distribution\"]))\n",
    "\n",
    "print([sum(habit[x])/len(habit[x]) for x in habit])"
   ],
   "outputs": [
    {
     "output_type": "stream",
     "name": "stdout",
     "text": [
      "8176\n",
      "['min_of_day#NUM', 'weatherDesc#CAT', 'day_of_week#NUM']\n",
      "[0.6975563148865369, 0.6909432392124574, 0.5574952814306683, 0.3448256873853537, 0.1682549323217932, 0.10177054563182983, 0.09989842263657919, 0.09526285202261833, 0.0839263855082484, 0.08428042207074286, 0.09669667670165681, 0.16406759568690146, 0.28769770117695564, 0.38254353235912836, 0.36213057227818124, 0.3108150792712265, 0.3307025304498987, 0.4041993165115965, 0.4513281394406651, 0.46042914940786817, 0.4858266486186308, 0.5298228106500893, 0.576148432100046, 0.6336619990295063]\n"
     ]
    }
   ],
   "metadata": {}
  },
  {
   "cell_type": "code",
   "execution_count": 13,
   "source": [
    "for p in test_projects:\n",
    "    habit_groups[p] = build_habit_groups(grid_data[p], 1e-4)\n"
   ],
   "outputs": [],
   "metadata": {}
  },
  {
   "cell_type": "code",
   "execution_count": 14,
   "source": [
    "#Exps:\n",
    "#   1. Contrived environment with injected conflicts:\n",
    "#   2. Real dataset with groundtruth conflicts:\n",
    "#   3. observations about the algorithm: with different threshold, different capacity for the devices, different number of users."
   ],
   "outputs": [],
   "metadata": {}
  },
  {
   "cell_type": "code",
   "execution_count": 15,
   "source": [
    "for home, groups in habit_groups.items():\n",
    "    print(\"The habit groups found in {}\".format(home))\n",
    "    for d, d_groups in groups.items():\n",
    "        print(d + \" \" + str(len(d_groups)))\n",
    "        # if d != \"TV\":\n",
    "        #     continue\n",
    "        # for g in d_groups:\n",
    "        #     print(ctx_info.coor_box_to_range(g[\"box\"][0] + g[\"box\"][1]))\n",
    "        #     print(g[\"dis\"])\n",
    "\n",
    "# for home, groups in habit_groups.items():\n",
    "#     for d, d_groups in groups.items():\n",
    "#         for i, g in enumerate(d_groups):\n",
    "#             for j in range(i+1, len(d_groups)):\n",
    "#                 box_1 = g[\"box\"][0] + g[\"box\"][1]\n",
    "#                 box_2 = d_groups[j][\"box\"][0] + d_groups[j][\"box\"][1]\n",
    "#                 if does_intersect(box_1, box_2):\n",
    "#                     print(\"!!!\")"
   ],
   "outputs": [
    {
     "output_type": "stream",
     "name": "stdout",
     "text": [
      "The habit groups found in House3\n",
      "WashingMachine 11\n",
      "TV 17\n",
      "The habit groups found in House4\n",
      "PC 5\n",
      "WashingMachine 1\n",
      "TV 23\n",
      "The habit groups found in House8\n",
      "PC 6\n",
      "WashingMachine 8\n",
      "TV 20\n",
      "The habit groups found in House9\n",
      "WashingMachine 4\n",
      "TV 16\n",
      "The habit groups found in House15\n",
      "TV 16\n",
      "WashingMachine 9\n"
     ]
    }
   ],
   "metadata": {
    "tags": []
   }
  },
  {
   "cell_type": "code",
   "execution_count": 16,
   "source": [
    "c_detector = ConflictDetector(ctx_info, capacity)\n",
    "final_conflicts = c_detector.predict_conflict_scenarios(habit_groups)\n",
    "print({x:len(final_conflicts[x]) for x in final_conflicts})"
   ],
   "outputs": [
    {
     "output_type": "stream",
     "name": "stdout",
     "text": [
      "{'TV': 816, 'WashingMachine': 178, 'PC': 17}\n"
     ]
    }
   ],
   "metadata": {
    "tags": []
   }
  },
  {
   "cell_type": "code",
   "execution_count": 17,
   "source": [
    "import plotly.express as px\n",
    "# for x in final_conflicts[\"Window\"]:\n",
    "#     print((ctx_info.coor_box_to_range(x[\"box\"]),x[\"prob\"]))\n",
    "probs_i = [(x[\"prob\"], i) for i, x in enumerate(final_conflicts[\"TV\"])]\n",
    "# print(sorted(probs_i))\n",
    "# fig = px.histogram(probs)\n",
    "# fig.show()"
   ],
   "outputs": [],
   "metadata": {
    "tags": []
   }
  },
  {
   "cell_type": "code",
   "execution_count": 18,
   "source": [
    "import copy\n",
    "# Make ground truth:\n",
    "\n",
    "gt_ctx_info = ContextAccessor({\n",
    "            TIME_CTX: {\n",
    "                \"range\" : (0, 24*60),\n",
    "                \"interval\" : 60,\n",
    "            },\n",
    "            # \"humidity#NUM\" : {\n",
    "            #     \"range\" : (0, 100),\n",
    "            #     \"interval\" : 10,\n",
    "            # },\n",
    "            # \"FeelsLikeC#NUM\" : {\n",
    "            #     \"range\" : (-10., 40),\n",
    "            #     \"interval\" : 5,\n",
    "            # },\n",
    "            # \"tempC#NUM\" : {\n",
    "            #     \"range\" : (-10., 40),\n",
    "            #     \"interval\" : 5,\n",
    "            # },\n",
    "            \"weatherDesc#CAT\": {},\n",
    "            WEEKDAY_CTX: {\n",
    "                \"range\": (0, 6),\n",
    "                \"interval\": 1,\n",
    "            },\n",
    "            # HOLIDAY_CTX: {\n",
    "            #     \"range\": (0,1),\n",
    "            #     \"interval\": 1,\n",
    "            # },\n",
    "        })\n",
    "device_events = {}\n",
    "for p in test_projects:\n",
    "    ctx_evts, device_evts = load_processed(root_folder, p, is_sim=BOOL_SIM, is_umass=BOOL_UMASS)\n",
    "    device_events[p] = device_evts\n",
    "\n",
    "gtconflict_cfg = {\n",
    "    \"context_info\": gt_ctx_info,\n",
    "    \"capacity\": capacity\n",
    "}\n",
    "# test_dates = {}\n",
    "\n",
    "conflict_finder = GtConflictFinder(gtconflict_cfg)\n",
    "gt_conflicts, test_state_cnt = conflict_finder.get_Gt_conflict(ctx_evts, device_events, test_dates)\n",
    "print(len(gt_conflicts))"
   ],
   "outputs": [
    {
     "output_type": "stream",
     "name": "stdout",
     "text": [
      "16367\n"
     ]
    }
   ],
   "metadata": {}
  },
  {
   "cell_type": "code",
   "execution_count": 19,
   "source": [
    "\n",
    "# TEST_RATIO = 0.3\n",
    "# conflict_time = [x['cur_time'] for x in conflicts]\n",
    "# end_time = max(conflict_time)\n",
    "# start_time = min(conflict_time)\n",
    "# print(start_time)\n",
    "# print(end_time)\n",
    "# total_time_range = end_time - start_time\n",
    "# test_start = end_time - total_time_range * TEST_RATIO\n",
    "# print(test_start)\n",
    "\n",
    "conflict_device = {\n",
    "    d:[]\n",
    "    for d in capacity\n",
    "}\n",
    "\n",
    "conflict_state_device = {\n",
    "    d:{}\n",
    "    for d in capacity\n",
    "}\n",
    "MIN_TEST_OBS = 20\n",
    "cnts = []\n",
    "for c in gt_conflicts:\n",
    "    d = c[\"device\"]\n",
    "    conflict_device[d].append(c)\n",
    "    s = gt_ctx_info.get_coor_by_ctx(c[\"ctx\"])\n",
    "    users = frozenset(c[\"device_states\"].keys())\n",
    "    cnts.append(test_state_cnt[d][users][s])\n",
    "    if test_state_cnt[d][users][s] < MIN_TEST_OBS:\n",
    "        continue\n",
    "    if s not in conflict_state_device[d]:\n",
    "        conflict_state_device[d][s] = {}\n",
    "    conflict_state_device[d][s][users] = conflict_state_device[d][s].get(users, 0) + 1\n",
    "\n",
    "    # if conflict_state_device[d][s][users] > test_state_cnt[d][s]:\n",
    "    #     print(conflict_state_device[d][s][users], test_state_cnt[d][s])\n",
    "    #     print(users, d, c[\"cur_time\"], s)\n",
    "    \n",
    "print({d:len(c) for d,c in conflict_device.items()})\n",
    "print({d:len(c) for d,c in conflict_state_device.items()})\n",
    "print(len(test_dates))\n",
    "print(Counter(cnts))"
   ],
   "outputs": [
    {
     "output_type": "stream",
     "name": "stdout",
     "text": [
      "{'TV': 16228, 'WashingMachine': 136, 'PC': 3}\n",
      "{'TV': 238, 'WashingMachine': 50, 'PC': 1}\n",
      "203\n",
      "Counter({43.0: 539, 38.0: 496, 82.0: 492, 29.0: 482, 37.0: 480, 23.0: 463, 55.0: 450, 36.0: 442, 68.0: 415, 25.0: 391, 54.0: 376, 33.0: 352, 56.0: 347, 20.0: 341, 75.0: 337, 63.0: 331, 71.0: 325, 35.0: 307, 52.0: 306, 32.0: 299, 17.0: 286, 46.0: 276, 4.0: 266, 53.0: 244, 16.0: 240, 31.0: 239, 61.0: 238, 51.0: 236, 59.0: 233, 57.0: 233, 34.0: 229, 50.0: 227, 64.0: 217, 42.0: 215, 72.0: 213, 7.0: 191, 40.0: 189, 8.0: 187, 6.0: 183, 26.0: 170, 10.0: 166, 48.0: 160, 44.0: 160, 27.0: 153, 22.0: 151, 24.0: 146, 67.0: 144, 39.0: 141, 19.0: 140, 47.0: 134, 60.0: 134, 41.0: 132, 21.0: 128, 79.0: 127, 66.0: 127, 12.0: 123, 30.0: 119, 9.0: 110, 28.0: 99, 78.0: 98, 3.0: 98, 89.0: 97, 65.0: 83, 11.0: 80, 69.0: 79, 73.0: 77, 5.0: 76, 15.0: 74, 45.0: 55, 49.0: 54, 13.0: 53, 76.0: 50, 81.0: 48, 18.0: 44, 14.0: 39, 84.0: 35, 85.0: 30, 70.0: 29, 62.0: 27, 86.0: 26, 100.0: 15, 58.0: 9, 80.0: 6, 1.0: 3, 102.0: 2, 90.0: 2, 83.0: 1})\n"
     ]
    }
   ],
   "metadata": {
    "tags": []
   }
  },
  {
   "cell_type": "code",
   "execution_count": 20,
   "source": [
    "all_users = test_projects\n",
    "all_devices = capacity.keys()\n",
    "user_pairs = list(combinations(all_users, 2))\n",
    "conflict_predicator = ConflictPredicator(ctx_info, final_conflicts)\n",
    "exp_cnt = 0\n",
    "exp_gt_c = 0\n",
    "exp_result = {d:[0,0,0,0,0] for d in all_devices}\n",
    "max_p = 0\n",
    "all_state_cnt = 0\n",
    "gt_probs = []\n",
    "for d in all_devices:\n",
    "    for u_pair in user_pairs:\n",
    "        u_pair_set = frozenset(u_pair)\n",
    "        it = np.nditer(test_state_cnt[d][u_pair_set], flags=['multi_index'])\n",
    "        for count in it:\n",
    "            all_state_cnt += count\n",
    "            if count < MIN_TEST_OBS:\n",
    "                continue\n",
    "            state = it.multi_index\n",
    "            gt_prob = 0.\n",
    "            if (d in conflict_state_device) and \\\n",
    "                (state in conflict_state_device[d]) and \\\n",
    "                (u_pair_set in conflict_state_device[d][state]):\n",
    "\n",
    "                gt_prob =  float(conflict_state_device[d][state][u_pair_set]) / count\n",
    "            gt_ctx_snapshot = gt_ctx_info.coor_to_snapshot(state)\n",
    "\n",
    "            pred_prob = conflict_predicator.get_prob_conflict(ctx_info.get_coor_by_ctx(gt_ctx_snapshot), u_pair, d)\n",
    "            exp_cnt += 1\n",
    "            gt_probs.append(gt_prob)\n",
    "            if gt_prob > 0:\n",
    "                # if gt_prob > 0.5:\n",
    "                #     print(gt_ctx_info.coor_to_snapshot(state).values(), gt_prob, pred_prob, u_pair)\n",
    "                exp_gt_c += 1\n",
    "                exp_result[d][0] += abs(pred_prob - gt_prob)\n",
    "                exp_result[d][1] += 1\n",
    "                exp_result[d][4] += gt_prob\n",
    "                if gt_prob > 1:\n",
    "                    print(gt_prob, pred_prob, d, u_pair)\n",
    "                max_p = max(gt_prob, max_p)\n",
    "\n",
    "            else:\n",
    "                exp_result[d][2] += pred_prob - gt_prob\n",
    "                exp_result[d][3] += 1\n",
    "\n",
    "for d in exp_result:\n",
    "    exp_result[d].append((exp_result[d][0] + exp_result[d][2]) / (exp_result[d][1] + exp_result[d][3]))\n",
    "    if exp_result[d][1] > 0:\n",
    "        exp_result[d][0] = exp_result[d][0] / exp_result[d][1]\n",
    "        exp_result[d][4] = exp_result[d][4] / exp_result[d][1]\n",
    "    if exp_result[d][3] > 0:\n",
    "        exp_result[d][2] = exp_result[d][2] / exp_result[d][3]\n",
    "    \n",
    "print(max_p)\n",
    "print(exp_result)\n",
    "\n",
    "avg_gt = sum(gt_probs) / len(gt_probs)\n",
    "errors = [abs(x-avg_gt) for x in gt_probs]\n",
    "print(\"Baseline approach, optimal single prediction: \" + str(sum(errors) / len(errors)))\n",
    "print(all_state_cnt)"
   ],
   "outputs": [
    {
     "output_type": "stream",
     "name": "stdout",
     "text": [
      "0.8695652173913043\n",
      "{'TV': [0.12461045026749612, 1335, 0.018382131426869064, 1615, 0.2528043687095944, 0.06645494690220369], 'WashingMachine': [0.03540910217688407, 57, 0.002000493434949664, 2665, 0.045152870868363226, 0.002700085903094506], 'PC': [0.0631507589905156, 1, 0.000997306011926498, 279, 0.06818181818181818, 0.0012192826297071735]}\n",
      "Baseline approach, optimal single prediction: 0.08983927515157335\n",
      "291972.0\n"
     ]
    }
   ],
   "metadata": {
    "tags": [
     "outputPrepend"
    ]
   }
  },
  {
   "cell_type": "markdown",
   "source": [
    "Run grid search for the optimal ccp_alpha"
   ],
   "metadata": {}
  },
  {
   "cell_type": "code",
   "execution_count": 2,
   "source": [
    "from refit_alpha_test import *\n",
    "\n",
    "ctx_info = ContextAccessor({\n",
    "            TIME_CTX: {\n",
    "                \"range\" : (0, 24*60),\n",
    "                \"interval\" : 60,\n",
    "            },\n",
    "            # \"humidity#NUM\" : {\n",
    "            #     \"range\" : (0, 100),\n",
    "            #     \"interval\" : 10,\n",
    "            # },\n",
    "            # \"FeelsLikeC#NUM\" : {\n",
    "            #     \"range\" : (-10., 40),\n",
    "            #     \"interval\" : 5,\n",
    "            # },\n",
    "            # \"tempC#NUM\" : {\n",
    "            #     \"range\" : (-10., 40),\n",
    "            #     \"interval\" : 5,\n",
    "            # },\n",
    "            \"weatherDesc#CAT\": {},\n",
    "            WEEKDAY_CTX: {\n",
    "                \"range\": (0, 6),\n",
    "                \"interval\": 1,\n",
    "            },\n",
    "            # HOLIDAY_CTX: {\n",
    "            #     \"range\": (0,1),\n",
    "            #     \"interval\": 1,\n",
    "            # },\n",
    "        })\n",
    "gt_ctx_info = ContextAccessor({\n",
    "            TIME_CTX: {\n",
    "                \"range\" : (0, 24*60),\n",
    "                \"interval\" : 60,\n",
    "            },\n",
    "            # \"humidity#NUM\" : {\n",
    "            #     \"range\" : (0, 100),\n",
    "            #     \"interval\" : 10,\n",
    "            # },\n",
    "            # \"FeelsLikeC#NUM\" : {\n",
    "            #     \"range\" : (-10., 40),\n",
    "            #     \"interval\" : 5,\n",
    "            # },\n",
    "            # \"tempC#NUM\" : {\n",
    "            #     \"range\" : (-10., 40),\n",
    "            #     \"interval\" : 5,\n",
    "            # },\n",
    "            \"weatherDesc#CAT\": {},\n",
    "            WEEKDAY_CTX: {\n",
    "                \"range\": (0, 6),\n",
    "                \"interval\": 1,\n",
    "            },\n",
    "            # HOLIDAY_CTX: {\n",
    "            #     \"range\": (0,1),\n",
    "            #     \"interval\": 1,\n",
    "            # },\n",
    "        })\n",
    "\n",
    "\n",
    "def alpha_nonLinear_generator(alpha_min, alpha_max, alpha_step):\n",
    "    auc_values = []\n",
    "    alpha = alpha_min\n",
    "    while alpha <= alpha_max:\n",
    "        yield alpha\n",
    "        if alpha_step <= alpha / 10:\n",
    "            alpha_step *= 10\n",
    "        alpha += alpha_step\n",
    "\n",
    "print(\"Run test accuracy for context \" + str(ctx_info.get_all_ctx_ordered()))\n",
    "alpha_generator = alpha_nonLinear_generator(1e-6, 0.002, 1e-6)\n",
    "acc_values = test_acc_alpha(ctx_info, gt_ctx_info, root_folder, alpha_generator)\n"
   ],
   "outputs": [
    {
     "output_type": "stream",
     "name": "stdout",
     "text": [
      "Run test accuracy for context ['min_of_day#NUM', 'weatherDesc#CAT', 'day_of_week#NUM']\n"
     ]
    },
    {
     "output_type": "error",
     "ename": "TypeError",
     "evalue": "expected str, bytes or os.PathLike object, not generator",
     "traceback": [
      "\u001b[0;31m---------------------------------------------------------------------------\u001b[0m",
      "\u001b[0;31mTypeError\u001b[0m                                 Traceback (most recent call last)",
      "\u001b[0;32m<ipython-input-2-34e13a0ece2c>\u001b[0m in \u001b[0;36m<module>\u001b[0;34m\u001b[0m\n\u001b[1;32m     68\u001b[0m \u001b[0mprint\u001b[0m\u001b[0;34m(\u001b[0m\u001b[0;34m\"Run test accuracy for context \"\u001b[0m \u001b[0;34m+\u001b[0m \u001b[0mstr\u001b[0m\u001b[0;34m(\u001b[0m\u001b[0mctx_info\u001b[0m\u001b[0;34m.\u001b[0m\u001b[0mget_all_ctx_ordered\u001b[0m\u001b[0;34m(\u001b[0m\u001b[0;34m)\u001b[0m\u001b[0;34m)\u001b[0m\u001b[0;34m)\u001b[0m\u001b[0;34m\u001b[0m\u001b[0;34m\u001b[0m\u001b[0m\n\u001b[1;32m     69\u001b[0m \u001b[0malpha_generator\u001b[0m \u001b[0;34m=\u001b[0m \u001b[0malpha_nonLinear_generator\u001b[0m\u001b[0;34m(\u001b[0m\u001b[0;36m1e-6\u001b[0m\u001b[0;34m,\u001b[0m \u001b[0;36m0.002\u001b[0m\u001b[0;34m,\u001b[0m \u001b[0;36m1e-6\u001b[0m\u001b[0;34m)\u001b[0m\u001b[0;34m\u001b[0m\u001b[0;34m\u001b[0m\u001b[0m\n\u001b[0;32m---> 70\u001b[0;31m \u001b[0macc_values\u001b[0m \u001b[0;34m=\u001b[0m \u001b[0mtest_acc_alpha\u001b[0m\u001b[0;34m(\u001b[0m\u001b[0mctx_info\u001b[0m\u001b[0;34m,\u001b[0m \u001b[0mgt_ctx_info\u001b[0m\u001b[0;34m,\u001b[0m \u001b[0malpha_generator\u001b[0m\u001b[0;34m)\u001b[0m\u001b[0;34m\u001b[0m\u001b[0;34m\u001b[0m\u001b[0m\n\u001b[0m",
      "\u001b[0;32m~/protemp/MPC/ConflictDetection/exps/refit_alpha_test.py\u001b[0m in \u001b[0;36mtest_acc_alpha\u001b[0;34m(ctx_info, gt_ctx_info, root_folder, alpha_generator, device_mapping)\u001b[0m\n\u001b[1;32m     60\u001b[0m     \u001b[0mdevice_events\u001b[0m \u001b[0;34m=\u001b[0m \u001b[0;34m{\u001b[0m\u001b[0;34m}\u001b[0m\u001b[0;34m\u001b[0m\u001b[0;34m\u001b[0m\u001b[0m\n\u001b[1;32m     61\u001b[0m     \u001b[0;32mfor\u001b[0m \u001b[0mp\u001b[0m \u001b[0;32min\u001b[0m \u001b[0mtest_projects\u001b[0m\u001b[0;34m:\u001b[0m\u001b[0;34m\u001b[0m\u001b[0;34m\u001b[0m\u001b[0m\n\u001b[0;32m---> 62\u001b[0;31m         \u001b[0mctx_evts\u001b[0m\u001b[0;34m,\u001b[0m \u001b[0mdevice_evts\u001b[0m \u001b[0;34m=\u001b[0m \u001b[0mload_processed\u001b[0m\u001b[0;34m(\u001b[0m\u001b[0mroot_folder\u001b[0m\u001b[0;34m,\u001b[0m \u001b[0mp\u001b[0m\u001b[0;34m,\u001b[0m \u001b[0mis_sim\u001b[0m\u001b[0;34m=\u001b[0m\u001b[0mBOOL_SIM\u001b[0m\u001b[0;34m,\u001b[0m \u001b[0mis_umass\u001b[0m\u001b[0;34m=\u001b[0m\u001b[0mBOOL_UMASS\u001b[0m\u001b[0;34m)\u001b[0m\u001b[0;34m\u001b[0m\u001b[0;34m\u001b[0m\u001b[0m\n\u001b[0m\u001b[1;32m     63\u001b[0m         \u001b[0mdevice_events\u001b[0m\u001b[0;34m[\u001b[0m\u001b[0mp\u001b[0m\u001b[0;34m]\u001b[0m \u001b[0;34m=\u001b[0m \u001b[0mdevice_evts\u001b[0m\u001b[0;34m\u001b[0m\u001b[0;34m\u001b[0m\u001b[0m\n\u001b[1;32m     64\u001b[0m \u001b[0;34m\u001b[0m\u001b[0m\n",
      "\u001b[0;32m~/protemp/MPC/ConflictDetection/main.py\u001b[0m in \u001b[0;36mload_processed\u001b[0;34m(root_folder, project, is_sim, is_umass)\u001b[0m\n\u001b[1;32m     32\u001b[0m             \u001b[0minput_file\u001b[0m \u001b[0;34m=\u001b[0m \u001b[0mos\u001b[0m\u001b[0;34m.\u001b[0m\u001b[0mpath\u001b[0m\u001b[0;34m.\u001b[0m\u001b[0mjoin\u001b[0m\u001b[0;34m(\u001b[0m\u001b[0mproject_path\u001b[0m\u001b[0;34m,\u001b[0m \u001b[0mPROCESSED_FILENAME\u001b[0m\u001b[0;34m)\u001b[0m\u001b[0;34m\u001b[0m\u001b[0;34m\u001b[0m\u001b[0m\n\u001b[1;32m     33\u001b[0m     \u001b[0;32melse\u001b[0m\u001b[0;34m:\u001b[0m\u001b[0;34m\u001b[0m\u001b[0;34m\u001b[0m\u001b[0m\n\u001b[0;32m---> 34\u001b[0;31m         \u001b[0minput_file\u001b[0m \u001b[0;34m=\u001b[0m \u001b[0mos\u001b[0m\u001b[0;34m.\u001b[0m\u001b[0mpath\u001b[0m\u001b[0;34m.\u001b[0m\u001b[0mjoin\u001b[0m\u001b[0;34m(\u001b[0m\u001b[0mroot_folder\u001b[0m\u001b[0;34m,\u001b[0m \u001b[0;34m\"processed\"\u001b[0m\u001b[0;34m,\u001b[0m  \u001b[0mproject\u001b[0m \u001b[0;34m+\u001b[0m \u001b[0;34m\".csv\"\u001b[0m\u001b[0;34m)\u001b[0m\u001b[0;34m\u001b[0m\u001b[0;34m\u001b[0m\u001b[0m\n\u001b[0m\u001b[1;32m     35\u001b[0m \u001b[0;34m\u001b[0m\u001b[0m\n\u001b[1;32m     36\u001b[0m     \u001b[0;32mwith\u001b[0m \u001b[0mopen\u001b[0m\u001b[0;34m(\u001b[0m\u001b[0minput_file\u001b[0m\u001b[0;34m)\u001b[0m \u001b[0;32mas\u001b[0m \u001b[0mf\u001b[0m\u001b[0;34m:\u001b[0m\u001b[0;34m\u001b[0m\u001b[0;34m\u001b[0m\u001b[0m\n",
      "\u001b[0;32m/usr/local/opt/python/Frameworks/Python.framework/Versions/3.7/lib/python3.7/posixpath.py\u001b[0m in \u001b[0;36mjoin\u001b[0;34m(a, *p)\u001b[0m\n\u001b[1;32m     78\u001b[0m     \u001b[0mwill\u001b[0m \u001b[0mbe\u001b[0m \u001b[0mdiscarded\u001b[0m\u001b[0;34m.\u001b[0m  \u001b[0mAn\u001b[0m \u001b[0mempty\u001b[0m \u001b[0mlast\u001b[0m \u001b[0mpart\u001b[0m \u001b[0mwill\u001b[0m \u001b[0mresult\u001b[0m \u001b[0;32min\u001b[0m \u001b[0ma\u001b[0m \u001b[0mpath\u001b[0m \u001b[0mthat\u001b[0m\u001b[0;34m\u001b[0m\u001b[0;34m\u001b[0m\u001b[0m\n\u001b[1;32m     79\u001b[0m     ends with a separator.\"\"\"\n\u001b[0;32m---> 80\u001b[0;31m     \u001b[0ma\u001b[0m \u001b[0;34m=\u001b[0m \u001b[0mos\u001b[0m\u001b[0;34m.\u001b[0m\u001b[0mfspath\u001b[0m\u001b[0;34m(\u001b[0m\u001b[0ma\u001b[0m\u001b[0;34m)\u001b[0m\u001b[0;34m\u001b[0m\u001b[0;34m\u001b[0m\u001b[0m\n\u001b[0m\u001b[1;32m     81\u001b[0m     \u001b[0msep\u001b[0m \u001b[0;34m=\u001b[0m \u001b[0m_get_sep\u001b[0m\u001b[0;34m(\u001b[0m\u001b[0ma\u001b[0m\u001b[0;34m)\u001b[0m\u001b[0;34m\u001b[0m\u001b[0;34m\u001b[0m\u001b[0m\n\u001b[1;32m     82\u001b[0m     \u001b[0mpath\u001b[0m \u001b[0;34m=\u001b[0m \u001b[0ma\u001b[0m\u001b[0;34m\u001b[0m\u001b[0;34m\u001b[0m\u001b[0m\n",
      "\u001b[0;31mTypeError\u001b[0m: expected str, bytes or os.PathLike object, not generator"
     ]
    }
   ],
   "metadata": {}
  },
  {
   "cell_type": "code",
   "execution_count": null,
   "source": [],
   "outputs": [],
   "metadata": {}
  },
  {
   "cell_type": "markdown",
   "source": [],
   "metadata": {}
  }
 ]
}
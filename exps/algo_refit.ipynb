{
 "metadata": {
  "language_info": {
   "codemirror_mode": {
    "name": "ipython",
    "version": 3
   },
   "file_extension": ".py",
   "mimetype": "text/x-python",
   "name": "python",
   "nbconvert_exporter": "python",
   "pygments_lexer": "ipython3",
   "version": "3.7.6"
  },
  "orig_nbformat": 2,
  "kernelspec": {
   "name": "python3",
   "display_name": "Python 3.7.6 64-bit ('venv': venv)"
  },
  "metadata": {
   "interpreter": {
    "hash": "4fe898ffcadce6da2343864bf819ed3269e46dcfc725e07ab6320af456fe33e5"
   }
  },
  "interpreter": {
   "hash": "4fe898ffcadce6da2343864bf819ed3269e46dcfc725e07ab6320af456fe33e5"
  }
 },
 "nbformat": 4,
 "nbformat_minor": 2,
 "cells": [
  {
   "cell_type": "code",
   "execution_count": 1,
   "source": [
    "import os\n",
    "os.chdir(\"..\")"
   ],
   "outputs": [],
   "metadata": {}
  },
  {
   "cell_type": "code",
   "execution_count": 2,
   "source": [
    "\n",
    "import json\n",
    "import numpy as np\n",
    "import math\n",
    "from typing import Dict, List, Tuple\n",
    "import copy\n",
    "from itertools import combinations\n",
    "from collections import Counter\n",
    "\n",
    "import logging\n",
    "from datetime import timedelta\n",
    "from config import *\n",
    "from utils import *\n",
    "from main import *\n",
    "from GtConflictFinder import GtConflictFinder\n",
    "from ConflictDetector import ConflictDetector, ConflictPredicator\n",
    "\n",
    "\n",
    "import plotly.graph_objects as go\n",
    "from plotly.subplots import make_subplots\n",
    "\n",
    "root_folder = os.path.join(DATA_ROOT, REFIT_ROOT)\n",
    "\n",
    "test_projects = [\n",
    "    # \"House1\",\n",
    "    \"House3\",\n",
    "    \"House4\",\n",
    "    \"House8\",\n",
    "    \"House9\",\n",
    "    \"House15\",\n",
    "    # \"House18\",\n",
    "    # \"House20\",\n",
    "]\n",
    "ctx_info = ContextAccessor({\n",
    "            TIME_CTX: {\n",
    "                \"range\" : (0, 24*60),\n",
    "                \"interval\" : 60,\n",
    "            },\n",
    "            # \"humidity#NUM\" : {\n",
    "            #     \"range\" : (0, 100),\n",
    "            #     \"interval\" : 10,\n",
    "            # },\n",
    "            # \"FeelsLikeC#NUM\" : {\n",
    "            #     \"range\" : (-10., 40),\n",
    "            #     \"interval\" : 5,\n",
    "            # },\n",
    "            # \"tempC#NUM\" : {\n",
    "            #     \"range\" : (-10., 40),\n",
    "            #     \"interval\" : 5,\n",
    "            # },\n",
    "            \"weatherDesc#CAT\": {},\n",
    "            WEEKDAY_CTX: {\n",
    "                \"range\": (0, 6),\n",
    "                \"interval\": 1,\n",
    "            },\n",
    "            # HOLIDAY_CTX: {\n",
    "            #     \"range\": (0,1),\n",
    "            #     \"interval\": 1,\n",
    "            # }\n",
    "        })\n",
    "capacity = {\n",
    "    \"TV\":1,\n",
    "    \"WashingMachine\":1,\n",
    "    \"PC\": 1,\n",
    "}\n",
    "BOOL_SIM = False\n",
    "BOOL_UMASS= False\n",
    "ccp_alpha = 6e-5\n",
    "test_dates = generate_test_date(root_folder, test_projects, test_ratio = 0.4, true_random=False, is_sim=BOOL_SIM, is_umass=BOOL_UMASS)\n",
    "# test_dates = []\n"
   ],
   "outputs": [],
   "metadata": {}
  },
  {
   "cell_type": "code",
   "execution_count": 3,
   "source": [
    "habit_groups = {}\n",
    "for p in test_projects:\n",
    "    habit_groups[p], grid_data = test_umass(root_folder, test_project=p, ctx_info=ctx_info, ccp_alpha=ccp_alpha, test_dates=test_dates, is_sim=BOOL_SIM, is_umass=BOOL_UMASS)"
   ],
   "outputs": [],
   "metadata": {
    "tags": []
   }
  },
  {
   "cell_type": "code",
   "execution_count": 4,
   "source": [
    "#Exps:\n",
    "#   1. Contrived environment with injected conflicts:\n",
    "#   2. Real dataset with groundtruth conflicts:\n",
    "#   3. observations about the algorithm: with different threshold, different capacity for the devices, different number of users."
   ],
   "outputs": [],
   "metadata": {}
  },
  {
   "cell_type": "code",
   "execution_count": 11,
   "source": [
    "for home, groups in habit_groups.items():\n",
    "    print(\"The habit groups found in {}\".format(home))\n",
    "    for d, d_groups in groups.items():\n",
    "        print(d + \" \" + str(len(d_groups)))\n",
    "        # if d != \"TV\":\n",
    "        #     continue\n",
    "        # for g in d_groups:\n",
    "        #     print(ctx_info.coor_box_to_range(g[\"box\"][0] + g[\"box\"][1]))\n",
    "        #     print(g[\"dis\"])\n",
    "\n",
    "# for home, groups in habit_groups.items():\n",
    "#     for d, d_groups in groups.items():\n",
    "#         for i, g in enumerate(d_groups):\n",
    "#             for j in range(i+1, len(d_groups)):\n",
    "#                 box_1 = g[\"box\"][0] + g[\"box\"][1]\n",
    "#                 box_2 = d_groups[j][\"box\"][0] + d_groups[j][\"box\"][1]\n",
    "#                 if does_intersect(box_1, box_2):\n",
    "#                     print(\"!!!\")"
   ],
   "outputs": [
    {
     "output_type": "stream",
     "name": "stdout",
     "text": [
      "The habit groups found in House3\n",
      "WashingMachine 14\n",
      "TV 56\n",
      "The habit groups found in House4\n",
      "PC 6\n",
      "WashingMachine 1\n",
      "TV 51\n",
      "The habit groups found in House8\n",
      "PC 8\n",
      "WashingMachine 12\n",
      "TV 26\n",
      "The habit groups found in House9\n",
      "WashingMachine 3\n",
      "TV 23\n",
      "The habit groups found in House15\n",
      "TV 44\n",
      "WashingMachine 9\n"
     ]
    }
   ],
   "metadata": {
    "tags": []
   }
  },
  {
   "cell_type": "code",
   "execution_count": 6,
   "source": [
    "c_detector = ConflictDetector(ctx_info, capacity)\n",
    "final_conflicts = c_detector.predict_conflict_scenarios(habit_groups)\n",
    "print({x:len(final_conflicts[x]) for x in final_conflicts})"
   ],
   "outputs": [
    {
     "output_type": "stream",
     "name": "stdout",
     "text": [
      "{'TV': 1035, 'WashingMachine': 182, 'PC': 15}\n"
     ]
    }
   ],
   "metadata": {
    "tags": []
   }
  },
  {
   "cell_type": "code",
   "execution_count": 7,
   "source": [
    "import plotly.express as px\n",
    "# for x in final_conflicts[\"Window\"]:\n",
    "#     print((ctx_info.coor_box_to_range(x[\"box\"]),x[\"prob\"]))\n",
    "probs_i = [(x[\"prob\"], i) for i, x in enumerate(final_conflicts[\"TV\"])]\n",
    "# print(sorted(probs_i))\n",
    "# fig = px.histogram(probs)\n",
    "# fig.show()"
   ],
   "outputs": [],
   "metadata": {
    "tags": []
   }
  },
  {
   "cell_type": "code",
   "execution_count": 8,
   "source": [
    "import copy\n",
    "# Make ground truth:\n",
    "\n",
    "gt_ctx_info = ContextAccessor({\n",
    "            TIME_CTX: {\n",
    "                \"range\" : (0, 24*60),\n",
    "                \"interval\" : 60,\n",
    "            },\n",
    "            # \"humidity#NUM\" : {\n",
    "            #     \"range\" : (0, 100),\n",
    "            #     \"interval\" : 10,\n",
    "            # },\n",
    "            # \"FeelsLikeC#NUM\" : {\n",
    "            #     \"range\" : (-10., 40),\n",
    "            #     \"interval\" : 5,\n",
    "            # },\n",
    "            # \"tempC#NUM\" : {\n",
    "            #     \"range\" : (-10., 40),\n",
    "            #     \"interval\" : 5,\n",
    "            # },\n",
    "            \"weatherDesc#CAT\": {},\n",
    "            WEEKDAY_CTX: {\n",
    "                \"range\": (0, 6),\n",
    "                \"interval\": 1,\n",
    "            },\n",
    "            # HOLIDAY_CTX: {\n",
    "            #     \"range\": (0,1),\n",
    "            #     \"interval\": 1,\n",
    "            # },\n",
    "        })\n",
    "device_events = {}\n",
    "for p in test_projects:\n",
    "    ctx_evts, device_evts = load_processed(root_folder, p, is_sim=BOOL_SIM, is_umass=BOOL_UMASS)\n",
    "    device_events[p] = device_evts\n",
    "\n",
    "gtconflict_cfg = {\n",
    "    \"context_info\": gt_ctx_info,\n",
    "    \"capacity\": capacity\n",
    "}\n",
    "# test_dates = {}\n",
    "\n",
    "conflict_finder = GtConflictFinder(gtconflict_cfg)\n",
    "gt_conflicts, test_state_cnt = conflict_finder.get_Gt_conflict(ctx_evts, device_events, test_dates)\n",
    "print(len(gt_conflicts))"
   ],
   "outputs": [
    {
     "output_type": "stream",
     "name": "stdout",
     "text": [
      "16367\n"
     ]
    }
   ],
   "metadata": {}
  },
  {
   "cell_type": "code",
   "execution_count": 9,
   "source": [
    "\n",
    "# TEST_RATIO = 0.3\n",
    "# conflict_time = [x['cur_time'] for x in conflicts]\n",
    "# end_time = max(conflict_time)\n",
    "# start_time = min(conflict_time)\n",
    "# print(start_time)\n",
    "# print(end_time)\n",
    "# total_time_range = end_time - start_time\n",
    "# test_start = end_time - total_time_range * TEST_RATIO\n",
    "# print(test_start)\n",
    "\n",
    "conflict_device = {\n",
    "    d:[]\n",
    "    for d in capacity\n",
    "}\n",
    "\n",
    "conflict_state_device = {\n",
    "    d:{}\n",
    "    for d in capacity\n",
    "}\n",
    "MIN_TEST_OBS = 20\n",
    "cnts = []\n",
    "for c in gt_conflicts:\n",
    "    d = c[\"device\"]\n",
    "    conflict_device[d].append(c)\n",
    "    s = gt_ctx_info.get_coor_by_ctx(c[\"ctx\"])\n",
    "    users = frozenset(c[\"device_states\"].keys())\n",
    "    cnts.append(test_state_cnt[d][users][s])\n",
    "    if test_state_cnt[d][users][s] < MIN_TEST_OBS:\n",
    "        continue\n",
    "    if s not in conflict_state_device[d]:\n",
    "        conflict_state_device[d][s] = {}\n",
    "    conflict_state_device[d][s][users] = conflict_state_device[d][s].get(users, 0) + 1\n",
    "\n",
    "    # if conflict_state_device[d][s][users] > test_state_cnt[d][s]:\n",
    "    #     print(conflict_state_device[d][s][users], test_state_cnt[d][s])\n",
    "    #     print(users, d, c[\"cur_time\"], s)\n",
    "    \n",
    "print({d:len(c) for d,c in conflict_device.items()})\n",
    "print({d:len(c) for d,c in conflict_state_device.items()})\n",
    "print(len(test_dates))\n",
    "print(Counter(cnts))"
   ],
   "outputs": [
    {
     "output_type": "stream",
     "name": "stdout",
     "text": [
      "{'TV': 16228, 'WashingMachine': 136, 'PC': 3}\n",
      "{'TV': 238, 'WashingMachine': 50, 'PC': 1}\n",
      "203\n",
      "Counter({43.0: 539, 38.0: 496, 82.0: 492, 29.0: 482, 37.0: 480, 23.0: 463, 55.0: 450, 36.0: 442, 68.0: 415, 25.0: 391, 54.0: 376, 33.0: 352, 56.0: 347, 20.0: 341, 75.0: 337, 63.0: 331, 71.0: 325, 35.0: 307, 52.0: 306, 32.0: 299, 17.0: 286, 46.0: 276, 4.0: 266, 53.0: 244, 16.0: 240, 31.0: 239, 61.0: 238, 51.0: 236, 59.0: 233, 57.0: 233, 34.0: 229, 50.0: 227, 64.0: 217, 42.0: 215, 72.0: 213, 7.0: 191, 40.0: 189, 8.0: 187, 6.0: 183, 26.0: 170, 10.0: 166, 48.0: 160, 44.0: 160, 27.0: 153, 22.0: 151, 24.0: 146, 67.0: 144, 39.0: 141, 19.0: 140, 47.0: 134, 60.0: 134, 41.0: 132, 21.0: 128, 79.0: 127, 66.0: 127, 12.0: 123, 30.0: 119, 9.0: 110, 28.0: 99, 78.0: 98, 3.0: 98, 89.0: 97, 65.0: 83, 11.0: 80, 69.0: 79, 73.0: 77, 5.0: 76, 15.0: 74, 45.0: 55, 49.0: 54, 13.0: 53, 76.0: 50, 81.0: 48, 18.0: 44, 14.0: 39, 84.0: 35, 85.0: 30, 70.0: 29, 62.0: 27, 86.0: 26, 100.0: 15, 58.0: 9, 80.0: 6, 1.0: 3, 102.0: 2, 90.0: 2, 83.0: 1})\n"
     ]
    }
   ],
   "metadata": {
    "tags": []
   }
  },
  {
   "cell_type": "code",
   "execution_count": 10,
   "source": [
    "all_users = test_projects\n",
    "all_devices = capacity.keys()\n",
    "user_pairs = list(combinations(all_users, 2))\n",
    "conflict_predicator = ConflictPredicator(ctx_info, final_conflicts)\n",
    "exp_cnt = 0\n",
    "exp_gt_c = 0\n",
    "exp_result = {d:[0,0,0,0,0] for d in all_devices}\n",
    "max_p = 0\n",
    "all_state_cnt = 0\n",
    "gt_probs = []\n",
    "for d in all_devices:\n",
    "    for u_pair in user_pairs:\n",
    "        u_pair_set = frozenset(u_pair)\n",
    "        it = np.nditer(test_state_cnt[d][u_pair_set], flags=['multi_index'])\n",
    "        for count in it:\n",
    "            all_state_cnt += count\n",
    "            if count < MIN_TEST_OBS:\n",
    "                continue\n",
    "            state = it.multi_index\n",
    "            gt_prob = 0.\n",
    "            if (d in conflict_state_device) and \\\n",
    "                (state in conflict_state_device[d]) and \\\n",
    "                (u_pair_set in conflict_state_device[d][state]):\n",
    "\n",
    "                gt_prob =  float(conflict_state_device[d][state][u_pair_set]) / count\n",
    "            gt_ctx_snapshot = gt_ctx_info.coor_to_snapshot(state)\n",
    "\n",
    "            pred_prob = conflict_predicator.get_prob_conflict(ctx_info.get_coor_by_ctx(gt_ctx_snapshot), u_pair, d)\n",
    "            exp_cnt += 1\n",
    "            gt_probs.append(gt_prob)\n",
    "            if gt_prob > 0:\n",
    "                # if gt_prob > 0.5:\n",
    "                #     print(gt_ctx_info.coor_to_snapshot(state).values(), gt_prob, pred_prob, u_pair)\n",
    "                exp_gt_c += 1\n",
    "                exp_result[d][0] += abs(pred_prob - gt_prob)\n",
    "                exp_result[d][1] += 1\n",
    "                exp_result[d][4] += gt_prob\n",
    "                if gt_prob > 1:\n",
    "                    print(gt_prob, pred_prob, d, u_pair)\n",
    "                max_p = max(gt_prob, max_p)\n",
    "\n",
    "            else:\n",
    "                exp_result[d][2] += pred_prob - gt_prob\n",
    "                exp_result[d][3] += 1\n",
    "\n",
    "for d in exp_result:\n",
    "    exp_result[d].append((exp_result[d][0] + exp_result[d][2]) / (exp_result[d][1] + exp_result[d][3]))\n",
    "    if exp_result[d][1] > 0:\n",
    "        exp_result[d][0] = exp_result[d][0] / exp_result[d][1]\n",
    "        exp_result[d][4] = exp_result[d][4] / exp_result[d][1]\n",
    "    if exp_result[d][3] > 0:\n",
    "        exp_result[d][2] = exp_result[d][2] / exp_result[d][3]\n",
    "    \n",
    "print(max_p)\n",
    "print(exp_result)\n",
    "\n",
    "avg_gt = sum(gt_probs) / len(gt_probs)\n",
    "errors = [abs(x-avg_gt) for x in gt_probs]\n",
    "print(\"Baseline approach, optimal single prediction: \" + str(sum(errors) / len(errors)))\n",
    "print(all_state_cnt)"
   ],
   "outputs": [
    {
     "output_type": "stream",
     "name": "stdout",
     "text": [
      "0.8695652173913043\n",
      "{'TV': [0.08614619352062126, 1335, 0.010332954004292853, 1615, 0.2528043687095944, 0.044641657310834686], 'WashingMachine': [0.04046407465818088, 57, 0.000915215230152074, 2665, 0.045152870868363226, 0.0017433875253018323], 'PC': [0.06603965497161637, 1, 0.0004892851834884194, 279, 0.06818181818181818, 0.0007233936470174478]}\n",
      "Baseline approach, optimal single prediction: 0.08983927515157335\n",
      "291972.0\n"
     ]
    }
   ],
   "metadata": {
    "tags": [
     "outputPrepend"
    ]
   }
  },
  {
   "cell_type": "markdown",
   "source": [
    "Run grid search for the optimal ccp_alpha"
   ],
   "metadata": {}
  },
  {
   "cell_type": "code",
   "execution_count": 20,
   "source": [
    "from refit_alpha_test import *\n",
    "\n",
    "ctx_info = ContextAccessor({\n",
    "            TIME_CTX: {\n",
    "                \"range\" : (0, 24*60),\n",
    "                \"interval\" : 60,\n",
    "            },\n",
    "            # \"humidity#NUM\" : {\n",
    "            #     \"range\" : (0, 100),\n",
    "            #     \"interval\" : 10,\n",
    "            # },\n",
    "            # \"FeelsLikeC#NUM\" : {\n",
    "            #     \"range\" : (-10., 40),\n",
    "            #     \"interval\" : 5,\n",
    "            # },\n",
    "            # \"tempC#NUM\" : {\n",
    "            #     \"range\" : (-10., 40),\n",
    "            #     \"interval\" : 5,\n",
    "            # },\n",
    "            # \"weatherDesc#CAT\": {},\n",
    "            WEEKDAY_CTX: {\n",
    "                \"range\": (0, 6),\n",
    "                \"interval\": 1,\n",
    "            },\n",
    "            # HOLIDAY_CTX: {\n",
    "            #     \"range\": (0,1),\n",
    "            #     \"interval\": 1,\n",
    "            # },\n",
    "        })\n",
    "gt_ctx_info = ContextAccessor({\n",
    "            TIME_CTX: {\n",
    "                \"range\" : (0, 24*60),\n",
    "                \"interval\" : 60,\n",
    "            },\n",
    "            # \"humidity#NUM\" : {\n",
    "            #     \"range\" : (0, 100),\n",
    "            #     \"interval\" : 10,\n",
    "            # },\n",
    "            # \"FeelsLikeC#NUM\" : {\n",
    "            #     \"range\" : (-10., 40),\n",
    "            #     \"interval\" : 5,\n",
    "            # },\n",
    "            # \"tempC#NUM\" : {\n",
    "            #     \"range\" : (-10., 40),\n",
    "            #     \"interval\" : 5,\n",
    "            # },\n",
    "            \"weatherDesc#CAT\": {},\n",
    "            WEEKDAY_CTX: {\n",
    "                \"range\": (0, 6),\n",
    "                \"interval\": 1,\n",
    "            },\n",
    "            # HOLIDAY_CTX: {\n",
    "            #     \"range\": (0,1),\n",
    "            #     \"interval\": 1,\n",
    "            # },\n",
    "        })\n",
    "\n",
    "\n",
    "def alpha_nonLinear_generator(alpha_min, alpha_max, alpha_step):\n",
    "    auc_values = []\n",
    "    alpha = alpha_min\n",
    "    while alpha <= alpha_max:\n",
    "        yield alpha\n",
    "        if alpha_step <= alpha / 10:\n",
    "            alpha_step *= 10\n",
    "        alpha += alpha_step\n",
    "\n",
    "print(\"Run test accuracy for context \" + str(ctx_info.get_all_ctx_ordered()))\n",
    "alpha_generator = alpha_nonLinear_generator(1e-6, 0.002, 1e-6)\n",
    "acc_values = test_acc_alpha(ctx_info, gt_ctx_info, alpha_generator)\n"
   ],
   "outputs": [
    {
     "output_type": "stream",
     "name": "stdout",
     "text": [
      "Run test accuracy for context ['min_of_day#NUM']\n",
      "Finish alpha 1e-06, result (0.09154646286912588, 0.011197153403552644, 0.06197791698579493)\n",
      "Finish alpha 2e-06, result (0.09161423441758597, 0.011136424576801987, 0.06199840039617747)\n",
      "Finish alpha 3e-06, result (0.09162504735961662, 0.011158099657084421, 0.062013210605084766)\n",
      "Finish alpha 4e-06, result (0.09149464975236093, 0.011163378185982717, 0.061932741815933744)\n",
      "Finish alpha 4.9999999999999996e-06, result (0.09149464975236093, 0.011174628597153414, 0.06193688196724457)\n",
      "Finish alpha 5.999999999999999e-06, result (0.09149464975236093, 0.011115331505712325, 0.06191506063759424)\n",
      "Finish alpha 6.999999999999999e-06, result (0.0916163206105823, 0.011111319215704815, 0.06199048009726739)\n",
      "Finish alpha 8e-06, result (0.0916163206105823, 0.011111319215704815, 0.06199048009726739)\n",
      "Finish alpha 9e-06, result (0.0916163206105823, 0.011111319215704815, 0.06199048009726739)\n",
      "Finish alpha 1e-05, result (0.0916163206105823, 0.011111319215704815, 0.06199048009726739)\n",
      "Finish alpha 1.9999999999999998e-05, result (0.09171944792325301, 0.010608225624304439, 0.06187051811723994)\n",
      "Finish alpha 2.9999999999999997e-05, result (0.09137497943589326, 0.010678179466652605, 0.061678557047212694)\n",
      "Finish alpha 3.9999999999999996e-05, result (0.09155748375135637, 0.0106808172652047, 0.061794870484452556)\n",
      "Finish alpha 4.9999999999999996e-05, result (0.09160721230035707, 0.009995810471816566, 0.06157421642745417)\n",
      "Finish alpha 5.9999999999999995e-05, result (0.0915850801823797, 0.010013953823488736, 0.06156690568230782)\n",
      "Finish alpha 7e-05, result (0.0915850801823797, 0.010013953823488736, 0.06156690568230782)\n",
      "Finish alpha 7.999999999999999e-05, result (0.0915850801823797, 0.010013953823488736, 0.06156690568230782)\n",
      "Finish alpha 8.999999999999999e-05, result (0.09321618180267685, 0.009500046761094276, 0.06240864410737446)\n",
      "Finish alpha 9.999999999999999e-05, result (0.09316432789760976, 0.009518346096609951, 0.06238260659484182)\n",
      "Finish alpha 0.00019999999999999998, result (0.09255068816973262, 0.00991882353853915, 0.06214216198545343)\n",
      "Finish alpha 0.0003, result (0.09428470546803468, 0.008811382764314734, 0.06283052271306573)\n",
      "Finish alpha 0.00039999999999999996, result (0.09410353280893474, 0.008874187219404864, 0.06273913363198774)\n",
      "Finish alpha 0.0005, result (0.09410353280893474, 0.008874187219404864, 0.06273913363198774)\n",
      "Finish alpha 0.0006000000000000001, result (0.09377880546650583, 0.008894005285776206, 0.06254119899999733)\n",
      "Finish alpha 0.0007000000000000001, result (0.09709258070855413, 0.008755726044376367, 0.06458461819213672)\n",
      "Finish alpha 0.0008000000000000001, result (0.09761795665099146, 0.008542520488168278, 0.06483819614307254)\n",
      "Finish alpha 0.0009000000000000002, result (0.09562181575277107, 0.010013935192851025, 0.06411811570672049)\n",
      "Finish alpha 0.0010000000000000002, result (0.09621007992932228, 0.010013935192851025, 0.06448989866630087)\n",
      "Finish alpha 0.002, result (0.09508959172483203, 0.009884987222958592, 0.0637342972681426)\n"
     ]
    }
   ],
   "metadata": {}
  },
  {
   "cell_type": "code",
   "execution_count": null,
   "source": [],
   "outputs": [],
   "metadata": {}
  },
  {
   "cell_type": "markdown",
   "source": [],
   "metadata": {}
  }
 ]
}
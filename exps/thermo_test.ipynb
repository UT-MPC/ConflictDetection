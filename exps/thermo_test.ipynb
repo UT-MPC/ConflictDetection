{
 "cells": [
  {
   "cell_type": "code",
   "execution_count": 5,
   "source": [
    "import os\n",
    "os.chdir(\"..\")"
   ],
   "outputs": [],
   "metadata": {}
  },
  {
   "cell_type": "code",
   "execution_count": 14,
   "source": [
    "import json\n",
    "import numpy as np\n",
    "import math\n",
    "from typing import Dict, List, Tuple\n",
    "import copy\n",
    "from itertools import combinations\n",
    "from collections import Counter\n",
    "\n",
    "import logging\n",
    "from datetime import timedelta\n",
    "from config import *\n",
    "from utils import *\n",
    "from main import *\n",
    "from GtConflictFinder import GtConflictFinder\n",
    "from ConflictDetector import ConflictDetector, ConflictPredicator\n",
    "\n",
    "root_folder = os.path.join(DATA_ROOT, THERMO_ROOT)\n",
    "\n",
    "test_projects = [\n",
    "    \"HS3301\",\n",
    "    # \"HS3304\",\n",
    "    # \"HS3307\",\n",
    "    # \"HS3308\",\n",
    "    \"HS3309\",\n",
    "    # \"HS3310\",\n",
    "    # \"HS3311\",\n",
    "    # \"HS3313\",\n",
    "    # \"HS5302\",\n",
    "    # \"HS5303\",\n",
    "    # \"HS5304\",\n",
    "    # \"HS5305\",\n",
    "    \"HS5309\",\n",
    "    # \"HS5314\",\n",
    "]\n",
    "all_setpoints = [18.0, 18.5, 19.0, 19.5, 20.0, 20.5, 21.0, 21.5, 22.0, 22.5, 23.0, 23.5, 24.0, 24.5]\n",
    "setpoint_mapping = {\n",
    "    \"thermostat\": {\"off\": 0, 0: \"off\"}\n",
    "}\n",
    "for idx, point in enumerate(all_setpoints):\n",
    "    state_full_name = \"auto\" + DEVICE_MULTI_STATE_SUFFIX + \"#\" + str(point)\n",
    "    setpoint_mapping[\"thermostat\"][state_full_name] = idx + 1\n",
    "    setpoint_mapping[\"thermostat\"][idx + 1] = state_full_name\n",
    "\n",
    "setpoint_mapping = {\n",
    "    \"thermostat\": thermo_state\n",
    "}\n",
    "ctx_info = ContextAccessor({\n",
    "        TIME_CTX: {\n",
    "            \"range\" : (0, 24*60),\n",
    "            \"interval\" : 60,\n",
    "        },\n",
    "        \"OutTemp#NUM\": {\n",
    "            \"range\": (-25, 35),\n",
    "            \"interval\": 5,\n",
    "        },\n",
    "        THERMO_MODE_CTX: {},\n",
    "        # WEEKDAY_CTX: {\n",
    "        #     \"range\": (0, 6),\n",
    "        #     \"interval\": 1,\n",
    "        # },\n",
    "})\n",
    "capacity = {\n",
    "    \"thermostat\":0\n",
    "}\n",
    "BOOL_SIM = False\n",
    "BOOL_UMASS= False\n",
    "ccp_alpha = 0.008\n",
    "test_dates = generate_test_date(root_folder, test_projects, test_ratio = 0.4, true_random=False, is_sim=BOOL_SIM, is_umass=BOOL_UMASS)"
   ],
   "outputs": [],
   "metadata": {}
  },
  {
   "cell_type": "code",
   "execution_count": 15,
   "source": [
    "habit_groups = {}\n",
    "for p in test_projects:\n",
    "    habit_groups[p], grid_data = test_umass(root_folder, test_project=p, ctx_info=ctx_info, ccp_alpha=ccp_alpha, test_dates=test_dates, is_sim=BOOL_SIM, is_umass=BOOL_UMASS, d_mapping=setpoint_mapping)\n",
    "\n",
    "c_detector = ConflictDetector(ctx_info, capacity)\n",
    "final_conflicts = c_detector.predict_conflict_scenarios(habit_groups)\n",
    "print(\"Final predicted conflicts\" + str({x:len(final_conflicts[x]) for x in final_conflicts}))"
   ],
   "outputs": [
    {
     "output_type": "stream",
     "name": "stdout",
     "text": [
      "Final predicted conflicts{'thermostat': 25}\n"
     ]
    }
   ],
   "metadata": {}
  },
  {
   "cell_type": "code",
   "execution_count": 24,
   "source": [
    "for home, groups in habit_groups.items():\n",
    "    print(\"The habit groups found in {}\".format(home))\n",
    "    for d, d_groups in groups.items():\n",
    "        print(d + \" \" + str(len(d_groups)))\n",
    "        # for g in d_groups:\n",
    "        #     print(ctx_info.coor_box_to_range(g[\"box\"][0] + g[\"box\"][1]))\n",
    "        #     print(g[\"dis\"])\n",
    "\n",
    "probs_i = [(x[\"prob\"], i) for i, x in enumerate(final_conflicts[\"thermostat\"])]\n",
    "# print(sorted(probs_i))\n",
    "\n",
    "# for home, groups in habit_groups.items():\n",
    "#     for d, d_groups in groups.items():\n",
    "#         for i, g in enumerate(d_groups):\n",
    "#             for j in range(i+1, len(d_groups)):\n",
    "#                 box_1 = g[\"box\"][0] + g[\"box\"][1]\n",
    "#                 box_2 = d_groups[j][\"box\"][0] + d_groups[j][\"box\"][1]\n",
    "#                 if does_intersect(box_1, box_2):\n",
    "#                     print(\"!!!\")\n",
    "            "
   ],
   "outputs": [
    {
     "output_type": "stream",
     "name": "stdout",
     "text": [
      "The habit groups found in HS3301\n",
      "thermostat 7\n",
      "The habit groups found in HS3309\n",
      "thermostat 3\n",
      "The habit groups found in HS5309\n",
      "thermostat 6\n"
     ]
    }
   ],
   "metadata": {}
  },
  {
   "cell_type": "code",
   "execution_count": 17,
   "source": [
    "import copy\n",
    "# Make ground truth:\n",
    "\n",
    "gt_ctx_info = ContextAccessor({\n",
    "        TIME_CTX: {\n",
    "            \"range\" : (0, 24*60),\n",
    "            \"interval\" : 60,\n",
    "        },\n",
    "        \"OutTemp#NUM\": {\n",
    "            \"range\": (-25, 35),\n",
    "            \"interval\": 5,\n",
    "        },\n",
    "        THERMO_MODE_CTX: {},\n",
    "        # WEEKDAY_CTX: {\n",
    "        #     \"range\": (0, 6),\n",
    "        #     \"interval\": 1,\n",
    "        # },\n",
    "})\n",
    "device_events = {}\n",
    "for p in test_projects:\n",
    "    ctx_evts, device_evts = load_processed(root_folder, p, is_sim=BOOL_SIM, is_umass=BOOL_UMASS)\n",
    "    device_events[p] = device_evts\n",
    "gtconflict_cfg = {\n",
    "    \"context_info\": gt_ctx_info,\n",
    "    \"capacity\": capacity\n",
    "}\n",
    "# test_dates = {}\n",
    "\n",
    "conflict_finder = GtConflictFinder(gtconflict_cfg)\n",
    "gt_conflicts, test_state_cnt = conflict_finder.get_Gt_conflict(ctx_evts, device_events, test_dates)\n",
    "print(len(gt_conflicts))"
   ],
   "outputs": [
    {
     "output_type": "stream",
     "name": "stdout",
     "text": [
      "2607\n"
     ]
    }
   ],
   "metadata": {}
  },
  {
   "cell_type": "code",
   "execution_count": 18,
   "source": [
    "conflict_device = {\n",
    "    d:[]\n",
    "    for d in capacity\n",
    "}\n",
    "\n",
    "conflict_state_device = {\n",
    "    d:{}\n",
    "    for d in capacity\n",
    "}\n",
    "MIN_TEST_OBS = 19\n",
    "cnts = []\n",
    "for c in gt_conflicts:\n",
    "    d = c[\"device\"]\n",
    "    conflict_device[d].append(c)\n",
    "    s = gt_ctx_info.get_coor_by_ctx(c[\"ctx\"])\n",
    "    users = frozenset(c[\"device_states\"].keys())\n",
    "    cnts.append(test_state_cnt[d][users][s])\n",
    "    if test_state_cnt[d][users][s] < MIN_TEST_OBS:\n",
    "        continue\n",
    "    if s not in conflict_state_device[d]:\n",
    "        conflict_state_device[d][s] = {}\n",
    "    conflict_state_device[d][s][users] = conflict_state_device[d][s].get(users, 0) + 1\n",
    "\n",
    "    # if conflict_state_device[d][s][users] > test_state_cnt[d][s]:\n",
    "    #     print(conflict_state_device[d][s][users], test_state_cnt[d][s])\n",
    "    #     print(users, d, c[\"cur_time\"], s)\n",
    "    \n",
    "print({d:len(c) for d,c in conflict_device.items()})\n",
    "print({d:len(c) for d,c in conflict_state_device.items()})\n",
    "print(len(test_dates))\n",
    "print(Counter(cnts))"
   ],
   "outputs": [
    {
     "output_type": "stream",
     "name": "stdout",
     "text": [
      "{'thermostat': 2607}\n",
      "{'thermostat': 47}\n",
      "145\n",
      "Counter({6.0: 155, 7.0: 116, 22.0: 114, 26.0: 110, 24.0: 108, 20.0: 102, 8.0: 97, 17.0: 96, 33.0: 89, 30.0: 82, 9.0: 81, 5.0: 81, 27.0: 78, 4.0: 78, 3.0: 78, 13.0: 75, 10.0: 72, 21.0: 69, 11.0: 68, 15.0: 58, 19.0: 57, 12.0: 55, 29.0: 52, 35.0: 51, 14.0: 48, 39.0: 46, 23.0: 44, 37.0: 43, 16.0: 40, 2.0: 39, 25.0: 36, 34.0: 35, 44.0: 34, 28.0: 31, 40.0: 31, 31.0: 27, 47.0: 26, 18.0: 20, 46.0: 18, 42.0: 17, 38.0: 15, 1.0: 14, 36.0: 12, 32.0: 9})\n"
     ]
    }
   ],
   "metadata": {}
  },
  {
   "cell_type": "code",
   "execution_count": 19,
   "source": [
    "# print(conflict_state_device[\"thermostat\"])"
   ],
   "outputs": [],
   "metadata": {}
  },
  {
   "cell_type": "code",
   "execution_count": 20,
   "source": [
    "all_users = test_projects\n",
    "all_devices = capacity.keys()\n",
    "user_pairs = list(combinations(all_users, 2))\n",
    "conflict_predicator = ConflictPredicator(ctx_info, final_conflicts)\n",
    "exp_cnt = 0\n",
    "exp_gt_c = 0\n",
    "exp_result = {\n",
    "    d: {\n",
    "        frozenset(u_pair): [0,0,0,0,0] \n",
    "        for u_pair in user_pairs\n",
    "    }\n",
    "    for d in all_devices}\n",
    "max_p = 0\n",
    "all_state_cnt = 0\n",
    "gt_probs = []\n",
    "for d in all_devices:\n",
    "    for u_pair in user_pairs:\n",
    "        u_pair_set = frozenset(u_pair)\n",
    "        it = np.nditer(test_state_cnt[d][u_pair_set], flags=['multi_index'])\n",
    "        for count in it:\n",
    "            all_state_cnt += count\n",
    "            if count < MIN_TEST_OBS:\n",
    "                continue\n",
    "            state = it.multi_index\n",
    "            gt_prob = 0.\n",
    "            if (d in conflict_state_device) and \\\n",
    "                (state in conflict_state_device[d]) and \\\n",
    "                (u_pair_set in conflict_state_device[d][state]):\n",
    "\n",
    "                gt_prob =  float(conflict_state_device[d][state][frozenset(u_pair)]) / count\n",
    "            gt_ctx_snapshot = gt_ctx_info.coor_to_snapshot(state)\n",
    "\n",
    "            pred_prob = conflict_predicator.get_prob_conflict(ctx_info.get_coor_by_ctx(gt_ctx_snapshot), u_pair, d)\n",
    "            exp_cnt += 1\n",
    "            gt_probs.append(gt_prob)\n",
    "            if gt_prob > 0:\n",
    "                # if gt_prob > 0.5:\n",
    "                #     print(gt_ctx_info.coor_to_snapshot(state).values(), gt_prob, pred_prob, u_pair)\n",
    "                exp_gt_c += 1\n",
    "                exp_result[d][u_pair_set][0] += abs(pred_prob - gt_prob)\n",
    "                exp_result[d][u_pair_set][1] += 1\n",
    "                exp_result[d][u_pair_set][4] += gt_prob\n",
    "                if gt_prob > 1:\n",
    "                    print(gt_prob, pred_prob, d, u_pair)\n",
    "                # if abs(gt_prob - pred_prob) > 0.2:\n",
    "                # print(pred_prob, gt_prob, gt_ctx_snapshot, count, u_pair)\n",
    "                max_p = max(gt_prob, max_p)\n",
    "\n",
    "            else:\n",
    "                exp_result[d][u_pair_set][2] += pred_prob - gt_prob\n",
    "                exp_result[d][u_pair_set][3] += 1\n",
    "                # print(pred_prob, gt_prob, gt_ctx_snapshot, count, u_pair)\n",
    "\n",
    "overall_acc = [0.,0.]\n",
    "for d in exp_result:\n",
    "    for u_pair in user_pairs:\n",
    "        u_pair_set = frozenset(u_pair)\n",
    "        overall_acc[0] += exp_result[d][u_pair_set][0] + exp_result[d][u_pair_set][2]\n",
    "        overall_acc[1] += exp_result[d][u_pair_set][1] + exp_result[d][u_pair_set][3]\n",
    "        if exp_result[d][u_pair_set][1] > 0:\n",
    "            exp_result[d][u_pair_set].append((exp_result[d][u_pair_set][0] + \n",
    "                    exp_result[d][u_pair_set][2]) / (exp_result[d][u_pair_set][1] + exp_result[d][u_pair_set][3]))\n",
    "        if exp_result[d][u_pair_set][1] > 0:\n",
    "            exp_result[d][u_pair_set][0] = exp_result[d][u_pair_set][0] / exp_result[d][u_pair_set][1]\n",
    "            exp_result[d][u_pair_set][4] = exp_result[d][u_pair_set][4] / exp_result[d][u_pair_set][1]\n",
    "        if exp_result[d][u_pair_set][3] > 0:\n",
    "            exp_result[d][u_pair_set][2] = exp_result[d][u_pair_set][2] / exp_result[d][u_pair_set][3]\n",
    "        print(u_pair, exp_result[d][u_pair_set][0], exp_result[d][u_pair_set][2])\n",
    "print(\"The overall accuracy is \" + str(overall_acc[0]/overall_acc[1]))\n",
    "\n",
    "avg_gt = sum(gt_probs) / len(gt_probs)\n",
    "errors = [abs(x-avg_gt) for x in gt_probs]\n",
    "print(\"Baseline approach, optimal single prediction: \" + str(sum(errors) / len(errors)))\n",
    "print(max_p)\n",
    "print(all_state_cnt)"
   ],
   "outputs": [
    {
     "output_type": "stream",
     "name": "stdout",
     "text": [
      "('HS3301', 'HS3309') 0.13026894994926538 0\n",
      "('HS3301', 'HS5309') 0.129230319761139 0\n",
      "('HS3309', 'HS5309') 0.12265916260397064 0.31208877729045603\n",
      "The overall accuracy is 0.13648899609366474\n",
      "Baseline approach, optimal single prediction: 0.18608134283965502\n",
      "0.9090909090909091\n",
      "5744.0\n"
     ]
    }
   ],
   "metadata": {}
  },
  {
   "cell_type": "code",
   "execution_count": 9,
   "source": [
    "from refit_alpha_test import *\n",
    "\n",
    "ctx_info = ContextAccessor({\n",
    "            TIME_CTX: {\n",
    "                \"range\" : (0, 24*60),\n",
    "                \"interval\" : 60,\n",
    "            },\n",
    "            THERMO_MODE_CTX: {},\n",
    "            \"OutTemp#NUM\": {\n",
    "                \"range\": (-25, 35),\n",
    "                \"interval\": 5,\n",
    "            },\n",
    "        })\n",
    "gt_ctx_info = ContextAccessor({\n",
    "            TIME_CTX: {\n",
    "                \"range\" : (0, 24*60),\n",
    "                \"interval\" : 60,\n",
    "            },\n",
    "            THERMO_MODE_CTX: {},\n",
    "            \"OutTemp#NUM\": {\n",
    "                \"range\": (-25, 35),\n",
    "                \"interval\": 5,\n",
    "            },\n",
    "        })\n",
    "\n",
    "\n",
    "def alpha_nonLinear_generator(alpha_min, alpha_max, alpha_step):\n",
    "    auc_values = []\n",
    "    alpha = alpha_min\n",
    "    while alpha <= alpha_max:\n",
    "        yield alpha\n",
    "        if alpha_step <= alpha / 10:\n",
    "            alpha_step *= 10\n",
    "        alpha += alpha_step\n",
    "\n",
    "print(\"Run test accuracy for context \" + str(ctx_info.get_all_ctx_ordered()))\n",
    "alpha_generator = alpha_nonLinear_generator(1e-6, 0.5, 1e-6)\n",
    "acc_values = test_acc_alpha(\n",
    "    ctx_info = ctx_info, \n",
    "    gt_ctx_info = gt_ctx_info, \n",
    "    root_folder = root_folder,\n",
    "    alpha_generator = alpha_generator, \n",
    "    device_mapping=setpoint_mapping)\n"
   ],
   "outputs": [
    {
     "output_type": "stream",
     "name": "stdout",
     "text": [
      "Run test accuracy for context ['min_of_day#NUM', 'thermo_mode#CAT', 'OutTemp#NUM']\n"
     ]
    },
    {
     "output_type": "error",
     "ename": "TypeError",
     "evalue": "'<=' not supported between instances of 'str' and 'datetime.datetime'",
     "traceback": [
      "\u001b[0;31m---------------------------------------------------------------------------\u001b[0m",
      "\u001b[0;31mTypeError\u001b[0m                                 Traceback (most recent call last)",
      "\u001b[0;32m<ipython-input-9-e084b8424dac>\u001b[0m in \u001b[0;36m<module>\u001b[0;34m\u001b[0m\n\u001b[1;32m     41\u001b[0m     \u001b[0mroot_folder\u001b[0m \u001b[0;34m=\u001b[0m \u001b[0mroot_folder\u001b[0m\u001b[0;34m,\u001b[0m\u001b[0;34m\u001b[0m\u001b[0;34m\u001b[0m\u001b[0m\n\u001b[1;32m     42\u001b[0m     \u001b[0malpha_generator\u001b[0m \u001b[0;34m=\u001b[0m \u001b[0malpha_generator\u001b[0m\u001b[0;34m,\u001b[0m\u001b[0;34m\u001b[0m\u001b[0;34m\u001b[0m\u001b[0m\n\u001b[0;32m---> 43\u001b[0;31m     device_mapping=setpoint_mapping)\n\u001b[0m",
      "\u001b[0;32m~/protemp/MPC/ConflictDetection/exps/refit_alpha_test.py\u001b[0m in \u001b[0;36mtest_acc_alpha\u001b[0;34m(ctx_info, gt_ctx_info, root_folder, alpha_generator, device_mapping)\u001b[0m\n\u001b[1;32m     71\u001b[0m \u001b[0;34m\u001b[0m\u001b[0m\n\u001b[1;32m     72\u001b[0m     \u001b[0mconflict_finder\u001b[0m \u001b[0;34m=\u001b[0m \u001b[0mGtConflictFinder\u001b[0m\u001b[0;34m(\u001b[0m\u001b[0mgtconflict_cfg\u001b[0m\u001b[0;34m)\u001b[0m\u001b[0;34m\u001b[0m\u001b[0;34m\u001b[0m\u001b[0m\n\u001b[0;32m---> 73\u001b[0;31m     \u001b[0mgt_conflicts\u001b[0m\u001b[0;34m,\u001b[0m \u001b[0mtest_state_cnt\u001b[0m \u001b[0;34m=\u001b[0m \u001b[0mconflict_finder\u001b[0m\u001b[0;34m.\u001b[0m\u001b[0mget_Gt_conflict\u001b[0m\u001b[0;34m(\u001b[0m\u001b[0mctx_evts\u001b[0m\u001b[0;34m,\u001b[0m \u001b[0mdevice_events\u001b[0m\u001b[0;34m,\u001b[0m \u001b[0mtest_dates\u001b[0m\u001b[0;34m)\u001b[0m\u001b[0;34m\u001b[0m\u001b[0;34m\u001b[0m\u001b[0m\n\u001b[0m\u001b[1;32m     74\u001b[0m \u001b[0;34m\u001b[0m\u001b[0m\n\u001b[1;32m     75\u001b[0m     conflict_device = {\n",
      "\u001b[0;32m~/protemp/MPC/ConflictDetection/GtConflictFinder.py\u001b[0m in \u001b[0;36mget_Gt_conflict\u001b[0;34m(self, ctx_evts, device_evts, test_dates)\u001b[0m\n\u001b[1;32m    182\u001b[0m                         \u001b[0;32mif\u001b[0m \u001b[0;32mnot\u001b[0m \u001b[0mself\u001b[0m\u001b[0;34m.\u001b[0m\u001b[0mctx_accessor\u001b[0m\u001b[0;34m.\u001b[0m\u001b[0mhave_ctx\u001b[0m\u001b[0;34m(\u001b[0m\u001b[0mc\u001b[0m\u001b[0;34m)\u001b[0m\u001b[0;34m:\u001b[0m\u001b[0;34m\u001b[0m\u001b[0;34m\u001b[0m\u001b[0m\n\u001b[1;32m    183\u001b[0m                             \u001b[0;32mcontinue\u001b[0m\u001b[0;34m\u001b[0m\u001b[0;34m\u001b[0m\u001b[0m\n\u001b[0;32m--> 184\u001b[0;31m                         \u001b[0;32mwhile\u001b[0m \u001b[0mc_evt_idx\u001b[0m\u001b[0;34m[\u001b[0m\u001b[0mc\u001b[0m\u001b[0;34m]\u001b[0m \u001b[0;34m<\u001b[0m \u001b[0mlen\u001b[0m\u001b[0;34m(\u001b[0m\u001b[0mc_evts\u001b[0m\u001b[0;34m)\u001b[0m \u001b[0;32mand\u001b[0m \u001b[0mc_evts\u001b[0m\u001b[0;34m[\u001b[0m\u001b[0mc_evt_idx\u001b[0m\u001b[0;34m[\u001b[0m\u001b[0mc\u001b[0m\u001b[0;34m]\u001b[0m\u001b[0;34m]\u001b[0m\u001b[0;34m[\u001b[0m\u001b[0;36m1\u001b[0m\u001b[0;34m]\u001b[0m \u001b[0;34m<=\u001b[0m \u001b[0mcur_time\u001b[0m\u001b[0;34m:\u001b[0m\u001b[0;34m\u001b[0m\u001b[0;34m\u001b[0m\u001b[0m\n\u001b[0m\u001b[1;32m    185\u001b[0m                             \u001b[0mctx_snapshot\u001b[0m\u001b[0;34m[\u001b[0m\u001b[0mc\u001b[0m\u001b[0;34m]\u001b[0m \u001b[0;34m=\u001b[0m \u001b[0mc_evts\u001b[0m\u001b[0;34m[\u001b[0m\u001b[0mc_evt_idx\u001b[0m\u001b[0;34m[\u001b[0m\u001b[0mc\u001b[0m\u001b[0;34m]\u001b[0m\u001b[0;34m]\u001b[0m\u001b[0;34m[\u001b[0m\u001b[0;36m0\u001b[0m\u001b[0;34m]\u001b[0m\u001b[0;34m\u001b[0m\u001b[0;34m\u001b[0m\u001b[0m\n\u001b[1;32m    186\u001b[0m                             \u001b[0mc_evt_idx\u001b[0m\u001b[0;34m[\u001b[0m\u001b[0mc\u001b[0m\u001b[0;34m]\u001b[0m \u001b[0;34m+=\u001b[0m \u001b[0;36m1\u001b[0m\u001b[0;34m\u001b[0m\u001b[0;34m\u001b[0m\u001b[0m\n",
      "\u001b[0;31mTypeError\u001b[0m: '<=' not supported between instances of 'str' and 'datetime.datetime'"
     ]
    }
   ],
   "metadata": {}
  },
  {
   "cell_type": "code",
   "execution_count": null,
   "source": [],
   "outputs": [],
   "metadata": {}
  }
 ],
 "metadata": {
  "orig_nbformat": 4,
  "language_info": {
   "name": "python",
   "version": "3.7.6",
   "mimetype": "text/x-python",
   "codemirror_mode": {
    "name": "ipython",
    "version": 3
   },
   "pygments_lexer": "ipython3",
   "nbconvert_exporter": "python",
   "file_extension": ".py"
  },
  "kernelspec": {
   "name": "python3",
   "display_name": "Python 3.7.6 64-bit ('venv': venv)"
  },
  "interpreter": {
   "hash": "4fe898ffcadce6da2343864bf819ed3269e46dcfc725e07ab6320af456fe33e5"
  }
 },
 "nbformat": 4,
 "nbformat_minor": 2
}
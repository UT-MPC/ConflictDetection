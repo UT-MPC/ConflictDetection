{
 "cells": [
  {
   "cell_type": "code",
   "execution_count": 1,
   "source": [
    "import os\n",
    "os.chdir(\"..\")"
   ],
   "outputs": [],
   "metadata": {}
  },
  {
   "cell_type": "code",
   "execution_count": 2,
   "source": [
    "import json\n",
    "import numpy as np\n",
    "import math\n",
    "from typing import Dict, List, Tuple\n",
    "import copy\n",
    "from itertools import combinations\n",
    "from collections import Counter\n",
    "\n",
    "import logging\n",
    "from datetime import timedelta\n",
    "from config import *\n",
    "from utils import *\n",
    "from main import *\n",
    "from GtConflictFinder import GtConflictFinder\n",
    "from ConflictDetector import ConflictDetector, ConflictPredicator\n",
    "\n",
    "root_folder = os.path.join(DATA_ROOT, THERMO_ROOT)\n",
    "\n",
    "test_projects = [\n",
    "    \"HS3301\",\n",
    "    # \"HS3304\",\n",
    "    # \"HS3307\",\n",
    "    # \"HS3308\",\n",
    "    \"HS3309\",\n",
    "    # \"HS3310\",\n",
    "    # \"HS3311\",\n",
    "    # \"HS3313\",\n",
    "    # \"HS5302\",\n",
    "    # \"HS5303\",\n",
    "    # \"HS5304\",\n",
    "    # \"HS5305\",\n",
    "    \"HS5309\",\n",
    "    # \"HS5314\",\n",
    "]\n",
    "all_setpoints = [18.0, 18.5, 19.0, 19.5, 20.0, 20.5, 21.0, 21.5, 22.0, 22.5, 23.0, 23.5, 24.0, 24.5]\n",
    "setpoint_mapping = {\n",
    "    \"thermostat\": {\"off\": 0, 0: \"off\"}\n",
    "}\n",
    "for idx, point in enumerate(all_setpoints):\n",
    "    state_full_name = \"auto\" + DEVICE_MULTI_STATE_SUFFIX + \"#\" + str(point)\n",
    "    setpoint_mapping[\"thermostat\"][state_full_name] = idx + 1\n",
    "    setpoint_mapping[\"thermostat\"][idx + 1] = state_full_name\n",
    "\n",
    "setpoint_mapping = {\n",
    "    \"thermostat\": thermo_state\n",
    "}\n",
    "ctx_info = ContextAccessor({\n",
    "        TIME_CTX: {\n",
    "            \"range\" : (0, 24*60),\n",
    "            \"interval\" : 60,\n",
    "        },\n",
    "        \"OutTemp#NUM\": {\n",
    "            \"range\": (-25, 35),\n",
    "            \"interval\": 5,\n",
    "        },\n",
    "        THERMO_MODE_CTX: {},\n",
    "        # WEEKDAY_CTX: {\n",
    "        #     \"range\": (0, 6),\n",
    "        #     \"interval\": 1,\n",
    "        # },\n",
    "})\n",
    "capacity = {\n",
    "    \"thermostat\":0\n",
    "}\n",
    "BOOL_SIM = False\n",
    "BOOL_UMASS= False\n",
    "ccp_alpha = 0.008\n",
    "test_dates = generate_test_date(root_folder, test_projects, test_ratio = 0.4, true_random=False, is_sim=BOOL_SIM, is_umass=BOOL_UMASS)"
   ],
   "outputs": [],
   "metadata": {}
  },
  {
   "cell_type": "code",
   "execution_count": 3,
   "source": [
    "habit_groups = {}\n",
    "for p in test_projects:\n",
    "    habit_groups[p], grid_data = test_umass(root_folder, test_project=p, ctx_info=ctx_info, ccp_alpha=ccp_alpha, test_dates=test_dates, is_sim=BOOL_SIM, is_umass=BOOL_UMASS, d_mapping=setpoint_mapping)\n",
    "\n",
    "c_detector = ConflictDetector(ctx_info, capacity)\n",
    "final_conflicts = c_detector.predict_conflict_scenarios(habit_groups)\n",
    "print(\"Final predicted conflicts\" + str({x:len(final_conflicts[x]) for x in final_conflicts}))"
   ],
   "outputs": [
    {
     "output_type": "stream",
     "name": "stdout",
     "text": [
      "Final predicted conflicts{'thermostat': 76}\n"
     ]
    }
   ],
   "metadata": {}
  },
  {
   "cell_type": "code",
   "execution_count": 4,
   "source": [
    "for home, groups in habit_groups.items():\n",
    "    print(\"The habit groups found in {}\".format(home))\n",
    "    for d, d_groups in groups.items():\n",
    "        print(d + \" \" + str(len(d_groups)))\n",
    "        # for g in d_groups:\n",
    "        #     print(ctx_info.coor_box_to_range(g[\"box\"][0] + g[\"box\"][1]))\n",
    "        #     print(g[\"dis\"])\n",
    "\n",
    "probs_i = [(x[\"prob\"], i) for i, x in enumerate(final_conflicts[\"thermostat\"])]\n",
    "# print(sorted(probs_i))\n"
   ],
   "outputs": [
    {
     "output_type": "stream",
     "name": "stdout",
     "text": [
      "The habit groups found in HS3301\n",
      "thermostat 7\n",
      "The habit groups found in HS3309\n",
      "thermostat 3\n",
      "The habit groups found in HS3313\n",
      "thermostat 4\n",
      "The habit groups found in HS5309\n",
      "thermostat 6\n",
      "The habit groups found in HS5314\n",
      "thermostat 3\n"
     ]
    }
   ],
   "metadata": {}
  },
  {
   "cell_type": "code",
   "execution_count": 5,
   "source": [
    "import copy\n",
    "# Make ground truth:\n",
    "\n",
    "gt_ctx_info = ContextAccessor({\n",
    "        TIME_CTX: {\n",
    "            \"range\" : (0, 24*60),\n",
    "            \"interval\" : 60,\n",
    "        },\n",
    "        \"OutTemp#NUM\": {\n",
    "            \"range\": (-25, 35),\n",
    "            \"interval\": 5,\n",
    "        },\n",
    "        THERMO_MODE_CTX: {},\n",
    "        # WEEKDAY_CTX: {\n",
    "        #     \"range\": (0, 6),\n",
    "        #     \"interval\": 1,\n",
    "        # },\n",
    "})\n",
    "device_events = {}\n",
    "for p in test_projects:\n",
    "    ctx_evts, device_evts = load_processed(root_folder, p, is_sim=BOOL_SIM, is_umass=BOOL_UMASS)\n",
    "    device_events[p] = device_evts\n",
    "gtconflict_cfg = {\n",
    "    \"context_info\": gt_ctx_info,\n",
    "    \"capacity\": capacity\n",
    "}\n",
    "# test_dates = {}\n",
    "\n",
    "conflict_finder = GtConflictFinder(gtconflict_cfg)\n",
    "gt_conflicts, test_state_cnt = conflict_finder.get_Gt_conflict(ctx_evts, device_events, test_dates)\n",
    "print(len(gt_conflicts))"
   ],
   "outputs": [
    {
     "output_type": "stream",
     "name": "stdout",
     "text": [
      "10446\n"
     ]
    }
   ],
   "metadata": {}
  },
  {
   "cell_type": "code",
   "execution_count": 6,
   "source": [
    "conflict_device = {\n",
    "    d:[]\n",
    "    for d in capacity\n",
    "}\n",
    "\n",
    "conflict_state_device = {\n",
    "    d:{}\n",
    "    for d in capacity\n",
    "}\n",
    "MIN_TEST_OBS = 19\n",
    "cnts = []\n",
    "for c in gt_conflicts:\n",
    "    d = c[\"device\"]\n",
    "    conflict_device[d].append(c)\n",
    "    s = gt_ctx_info.get_coor_by_ctx(c[\"ctx\"])\n",
    "    users = frozenset(c[\"device_states\"].keys())\n",
    "    cnts.append(test_state_cnt[d][users][s])\n",
    "    if test_state_cnt[d][users][s] < MIN_TEST_OBS:\n",
    "        continue\n",
    "    if s not in conflict_state_device[d]:\n",
    "        conflict_state_device[d][s] = {}\n",
    "    conflict_state_device[d][s][users] = conflict_state_device[d][s].get(users, 0) + 1\n",
    "\n",
    "    # if conflict_state_device[d][s][users] > test_state_cnt[d][s]:\n",
    "    #     print(conflict_state_device[d][s][users], test_state_cnt[d][s])\n",
    "    #     print(users, d, c[\"cur_time\"], s)\n",
    "    \n",
    "print({d:len(c) for d,c in conflict_device.items()})\n",
    "print({d:len(c) for d,c in conflict_state_device.items()})\n",
    "print(len(test_dates))\n",
    "print(Counter(cnts))"
   ],
   "outputs": [
    {
     "output_type": "stream",
     "name": "stdout",
     "text": [
      "{'thermostat': 10446}\n",
      "{'thermostat': 78}\n",
      "145\n",
      "Counter({19.0: 361, 6.0: 358, 13.0: 342, 38.0: 340, 7.0: 326, 24.0: 321, 28.0: 308, 40.0: 285, 30.0: 279, 9.0: 256, 5.0: 255, 39.0: 254, 26.0: 252, 34.0: 252, 3.0: 251, 22.0: 250, 35.0: 249, 17.0: 247, 31.0: 245, 12.0: 244, 10.0: 239, 4.0: 235, 8.0: 234, 25.0: 231, 11.0: 226, 29.0: 216, 23.0: 210, 14.0: 202, 20.0: 195, 42.0: 195, 21.0: 193, 32.0: 186, 16.0: 180, 33.0: 176, 47.0: 170, 15.0: 162, 36.0: 137, 18.0: 123, 44.0: 121, 27.0: 114, 2.0: 114, 37.0: 114, 41.0: 101, 48.0: 93, 56.0: 92, 43.0: 88, 51.0: 73, 46.0: 66, 1.0: 58, 49.0: 55, 53.0: 51, 55.0: 50, 45.0: 49, 57.0: 9, 60.0: 7, 59.0: 6})\n"
     ]
    }
   ],
   "metadata": {}
  },
  {
   "cell_type": "code",
   "execution_count": 7,
   "source": [
    "# print(conflict_state_device[\"thermostat\"])"
   ],
   "outputs": [],
   "metadata": {}
  },
  {
   "cell_type": "code",
   "execution_count": 8,
   "source": [
    "all_users = test_projects\n",
    "all_devices = capacity.keys()\n",
    "user_pairs = list(combinations(all_users, 2))\n",
    "conflict_predicator = ConflictPredicator(ctx_info, final_conflicts)\n",
    "exp_cnt = 0\n",
    "exp_gt_c = 0\n",
    "exp_result = {\n",
    "    d: {\n",
    "        frozenset(u_pair): [0,0,0,0,0] \n",
    "        for u_pair in user_pairs\n",
    "    }\n",
    "    for d in all_devices}\n",
    "max_p = 0\n",
    "all_state_cnt = 0\n",
    "for d in all_devices:\n",
    "    for u_pair in user_pairs:\n",
    "        u_pair_set = frozenset(u_pair)\n",
    "        it = np.nditer(test_state_cnt[d][u_pair_set], flags=['multi_index'])\n",
    "        for count in it:\n",
    "            all_state_cnt += count\n",
    "            if count < MIN_TEST_OBS:\n",
    "                continue\n",
    "            state = it.multi_index\n",
    "            gt_prob = 0.\n",
    "            if (d in conflict_state_device) and \\\n",
    "                (state in conflict_state_device[d]) and \\\n",
    "                (u_pair_set in conflict_state_device[d][state]):\n",
    "\n",
    "                gt_prob =  float(conflict_state_device[d][state][frozenset(u_pair)]) / count\n",
    "            gt_ctx_snapshot = gt_ctx_info.coor_to_snapshot(state)\n",
    "\n",
    "            pred_prob = conflict_predicator.get_prob_conflict(ctx_info.get_coor_by_ctx(gt_ctx_snapshot), u_pair, d)\n",
    "            exp_cnt += 1\n",
    "            if gt_prob > 0:\n",
    "                # if gt_prob > 0.5:\n",
    "                #     print(gt_ctx_info.coor_to_snapshot(state).values(), gt_prob, pred_prob, u_pair)\n",
    "                exp_gt_c += 1\n",
    "                exp_result[d][u_pair_set][0] += abs(pred_prob - gt_prob)\n",
    "                exp_result[d][u_pair_set][1] += 1\n",
    "                exp_result[d][u_pair_set][4] += gt_prob\n",
    "                if gt_prob > 1:\n",
    "                    print(gt_prob, pred_prob, d, u_pair)\n",
    "                # if abs(gt_prob - pred_prob) > 0.2:\n",
    "                # print(pred_prob, gt_prob, gt_ctx_snapshot, count, u_pair)\n",
    "                max_p = max(gt_prob, max_p)\n",
    "\n",
    "            else:\n",
    "                exp_result[d][u_pair_set][2] += pred_prob - gt_prob\n",
    "                exp_result[d][u_pair_set][3] += 1\n",
    "                # print(pred_prob, gt_prob, gt_ctx_snapshot, count, u_pair)\n",
    "\n",
    "\n",
    "for d in exp_result:\n",
    "    for u_pair in user_pairs:\n",
    "        u_pair_set = frozenset(u_pair)\n",
    "        if exp_result[d][u_pair_set][1] > 0:\n",
    "            exp_result[d][u_pair_set].append((exp_result[d][u_pair_set][0] + \n",
    "                    exp_result[d][u_pair_set][2]) / (exp_result[d][u_pair_set][1] + exp_result[d][u_pair_set][3]))\n",
    "        if exp_result[d][u_pair_set][1] > 0:\n",
    "            exp_result[d][u_pair_set][0] = exp_result[d][u_pair_set][0] / exp_result[d][u_pair_set][1]\n",
    "            exp_result[d][u_pair_set][4] = exp_result[d][u_pair_set][4] / exp_result[d][u_pair_set][1]\n",
    "        if exp_result[d][u_pair_set][3] > 0:\n",
    "            exp_result[d][u_pair_set][2] = exp_result[d][u_pair_set][2] / exp_result[d][u_pair_set][3]\n",
    "        print(u_pair, exp_result[d][u_pair_set][0], exp_result[d][u_pair_set][2])\n",
    "    \n",
    "print(max_p)\n",
    "print(all_state_cnt)"
   ],
   "outputs": [
    {
     "output_type": "stream",
     "name": "stdout",
     "text": [
      "('HS3301', 'HS3309') 0.13140382902850262 0\n",
      "('HS3301', 'HS3313') 0.12370881869555826 0\n",
      "('HS3301', 'HS5309') 0.131104616692793 0\n",
      "('HS3301', 'HS5314') 0.10908374443816131 0\n",
      "('HS3309', 'HS3313') 0.19590987545704763 0.4195454142378112\n",
      "('HS3309', 'HS5309') 0.12172262027782216 0.3120887772904561\n",
      "('HS3309', 'HS5314') 0.18312936701185645 0.34826704343597786\n",
      "('HS3313', 'HS5309') 0.1532670341940592 0.36084327997138316\n",
      "('HS3313', 'HS5314') 0.220637657744625 0.39263729590775026\n",
      "('HS5309', 'HS5314') 0.16634032925929076 0.4027828979900825\n",
      "1.0\n",
      "25111.0\n"
     ]
    }
   ],
   "metadata": {}
  },
  {
   "cell_type": "code",
   "execution_count": 3,
   "source": [
    "from refit_alpha_test import *\n",
    "\n",
    "ctx_info = ContextAccessor({\n",
    "            TIME_CTX: {\n",
    "                \"range\" : (0, 24*60),\n",
    "                \"interval\" : 60,\n",
    "            },\n",
    "            THERMO_MODE_CTX: {},\n",
    "            \"OutTemp#NUM\": {\n",
    "                \"range\": (-25, 35),\n",
    "                \"interval\": 5,\n",
    "            },\n",
    "        })\n",
    "gt_ctx_info = ContextAccessor({\n",
    "            TIME_CTX: {\n",
    "                \"range\" : (0, 24*60),\n",
    "                \"interval\" : 60,\n",
    "            },\n",
    "            THERMO_MODE_CTX: {},\n",
    "            \"OutTemp#NUM\": {\n",
    "                \"range\": (-25, 35),\n",
    "                \"interval\": 5,\n",
    "            },\n",
    "        })\n",
    "\n",
    "\n",
    "def alpha_nonLinear_generator(alpha_min, alpha_max, alpha_step):\n",
    "    auc_values = []\n",
    "    alpha = alpha_min\n",
    "    while alpha <= alpha_max:\n",
    "        yield alpha\n",
    "        if alpha_step <= alpha / 10:\n",
    "            alpha_step *= 10\n",
    "        alpha += alpha_step\n",
    "\n",
    "print(\"Run test accuracy for context \" + str(ctx_info.get_all_ctx_ordered()))\n",
    "alpha_generator = alpha_nonLinear_generator(1e-6, 0.5, 1e-6)\n",
    "acc_values = test_acc_alpha(\n",
    "    ctx_info = ctx_info, \n",
    "    gt_ctx_info = gt_ctx_info, \n",
    "    root_folder = root_folder,\n",
    "    alpha_generator = alpha_generator, \n",
    "    device_mapping=setpoint_mapping)\n"
   ],
   "outputs": [
    {
     "output_type": "stream",
     "name": "stdout",
     "text": [
      "Run test accuracy for context ['min_of_day#NUM', 'thermo_mode#CAT', 'OutTemp#NUM']\n",
      "Finish alpha 1e-06, result (0.17126904278247543, 0.39880027489778375, 0.18708921025061548)\n"
     ]
    }
   ],
   "metadata": {}
  },
  {
   "cell_type": "code",
   "execution_count": null,
   "source": [],
   "outputs": [],
   "metadata": {}
  }
 ],
 "metadata": {
  "orig_nbformat": 4,
  "language_info": {
   "name": "python",
   "version": "3.7.6",
   "mimetype": "text/x-python",
   "codemirror_mode": {
    "name": "ipython",
    "version": 3
   },
   "pygments_lexer": "ipython3",
   "nbconvert_exporter": "python",
   "file_extension": ".py"
  },
  "kernelspec": {
   "name": "python3",
   "display_name": "Python 3.7.6 64-bit ('venv': venv)"
  },
  "interpreter": {
   "hash": "4fe898ffcadce6da2343864bf819ed3269e46dcfc725e07ab6320af456fe33e5"
  }
 },
 "nbformat": 4,
 "nbformat_minor": 2
}